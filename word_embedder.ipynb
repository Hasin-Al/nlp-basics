{
  "cells": [
    {
      "cell_type": "code",
      "execution_count": null,
      "metadata": {
        "id": "398vQp9dXqg9"
      },
      "outputs": [],
      "source": []
    },
    {
      "cell_type": "code",
      "execution_count": null,
      "metadata": {
        "id": "fVbdzKwM7_07"
      },
      "outputs": [],
      "source": [
        "#!pip install git+https://github.com/csebuetnlp/normalizer"
      ]
    },
    {
      "cell_type": "code",
      "execution_count": null,
      "metadata": {
        "id": "a5kwlm_02Row"
      },
      "outputs": [],
      "source": []
    },
    {
      "cell_type": "code",
      "execution_count": null,
      "metadata": {
        "id": "NxVB1w6_-Aep"
      },
      "outputs": [],
      "source": [
        "#!pip install git+https://github.com/banglakit/lemmatizer.git#egg=banglakit-lemmatizer"
      ]
    },
    {
      "cell_type": "code",
      "execution_count": null,
      "metadata": {
        "id": "4Khw97haCGz0"
      },
      "outputs": [],
      "source": [
        "\n",
        "# বাংলাদেশ"
      ]
    },
    {
      "cell_type": "code",
      "execution_count": null,
      "metadata": {
        "id": "MWQFlJXzWmmC"
      },
      "outputs": [],
      "source": []
    },
    {
      "cell_type": "code",
      "execution_count": null,
      "metadata": {
        "id": "dyTWAIh-WxCn"
      },
      "outputs": [],
      "source": []
    },
    {
      "cell_type": "code",
      "execution_count": null,
      "metadata": {
        "id": "XAe2S8ArZI97"
      },
      "outputs": [],
      "source": []
    },
    {
      "cell_type": "code",
      "execution_count": null,
      "metadata": {
        "id": "MGQx-dzMdtzf"
      },
      "outputs": [],
      "source": [
        "#!pip install mss"
      ]
    },
    {
      "cell_type": "code",
      "execution_count": null,
      "metadata": {
        "id": "velqDyMZqDTm"
      },
      "outputs": [],
      "source": []
    },
    {
      "cell_type": "code",
      "execution_count": null,
      "metadata": {
        "colab": {
          "base_uri": "https://localhost:8080/"
        },
        "id": "82o41JlWqcT5",
        "outputId": "f22ccc0c-d1a3-4a72-d0df-557fdd907be1"
      },
      "outputs": [
        {
          "name": "stdout",
          "output_type": "stream",
          "text": [
            "Collecting pyspellchecker\n",
            "  Downloading pyspellchecker-0.8.1-py3-none-any.whl (6.8 MB)\n",
            "\u001b[2K     \u001b[90m━━━━━━━━━━━━━━━━━━━━━━━━━━━━━━━━━━━━━━━━\u001b[0m \u001b[32m6.8/6.8 MB\u001b[0m \u001b[31m23.3 MB/s\u001b[0m eta \u001b[36m0:00:00\u001b[0m\n",
            "\u001b[?25hInstalling collected packages: pyspellchecker\n",
            "Successfully installed pyspellchecker-0.8.1\n"
          ]
        }
      ],
      "source": [
        "!pip install pyspellchecker"
      ]
    },
    {
      "cell_type": "code",
      "execution_count": null,
      "metadata": {
        "id": "FqwqsnJXGaFJ"
      },
      "outputs": [],
      "source": []
    },
    {
      "cell_type": "code",
      "execution_count": null,
      "metadata": {
        "id": "B2mUUQOzFUX_"
      },
      "outputs": [],
      "source": []
    },
    {
      "cell_type": "code",
      "execution_count": null,
      "metadata": {
        "colab": {
          "base_uri": "https://localhost:8080/"
        },
        "id": "HCDXlKrPVPnb",
        "outputId": "e362e5e1-dd5b-4613-c530-174162ed4cb3"
      },
      "outputs": [
        {
          "output_type": "stream",
          "name": "stdout",
          "text": [
            "Requirement already satisfied: bnlp_toolkit in /usr/local/lib/python3.10/dist-packages (4.0.0)\n",
            "Requirement already satisfied: sentencepiece in /usr/local/lib/python3.10/dist-packages (from bnlp_toolkit) (0.1.99)\n",
            "Requirement already satisfied: gensim in /usr/local/lib/python3.10/dist-packages (from bnlp_toolkit) (4.3.2)\n",
            "Requirement already satisfied: nltk in /usr/local/lib/python3.10/dist-packages (from bnlp_toolkit) (3.8.1)\n",
            "Requirement already satisfied: numpy in /usr/local/lib/python3.10/dist-packages (from bnlp_toolkit) (1.23.5)\n",
            "Requirement already satisfied: scipy in /usr/local/lib/python3.10/dist-packages (from bnlp_toolkit) (1.11.4)\n",
            "Requirement already satisfied: sklearn-crfsuite in /usr/local/lib/python3.10/dist-packages (from bnlp_toolkit) (0.3.6)\n",
            "Requirement already satisfied: tqdm in /usr/local/lib/python3.10/dist-packages (from bnlp_toolkit) (4.66.1)\n",
            "Requirement already satisfied: ftfy in /usr/local/lib/python3.10/dist-packages (from bnlp_toolkit) (6.1.3)\n",
            "Requirement already satisfied: emoji==1.7.0 in /usr/local/lib/python3.10/dist-packages (from bnlp_toolkit) (1.7.0)\n",
            "Requirement already satisfied: requests in /usr/local/lib/python3.10/dist-packages (from bnlp_toolkit) (2.31.0)\n",
            "Requirement already satisfied: wcwidth<0.3.0,>=0.2.12 in /usr/local/lib/python3.10/dist-packages (from ftfy->bnlp_toolkit) (0.2.13)\n",
            "Requirement already satisfied: smart-open>=1.8.1 in /usr/local/lib/python3.10/dist-packages (from gensim->bnlp_toolkit) (6.4.0)\n",
            "Requirement already satisfied: click in /usr/local/lib/python3.10/dist-packages (from nltk->bnlp_toolkit) (8.1.7)\n",
            "Requirement already satisfied: joblib in /usr/local/lib/python3.10/dist-packages (from nltk->bnlp_toolkit) (1.3.2)\n",
            "Requirement already satisfied: regex>=2021.8.3 in /usr/local/lib/python3.10/dist-packages (from nltk->bnlp_toolkit) (2023.12.25)\n",
            "Requirement already satisfied: charset-normalizer<4,>=2 in /usr/local/lib/python3.10/dist-packages (from requests->bnlp_toolkit) (3.3.2)\n",
            "Requirement already satisfied: idna<4,>=2.5 in /usr/local/lib/python3.10/dist-packages (from requests->bnlp_toolkit) (3.6)\n",
            "Requirement already satisfied: urllib3<3,>=1.21.1 in /usr/local/lib/python3.10/dist-packages (from requests->bnlp_toolkit) (2.0.7)\n",
            "Requirement already satisfied: certifi>=2017.4.17 in /usr/local/lib/python3.10/dist-packages (from requests->bnlp_toolkit) (2024.2.2)\n",
            "Requirement already satisfied: python-crfsuite>=0.8.3 in /usr/local/lib/python3.10/dist-packages (from sklearn-crfsuite->bnlp_toolkit) (0.9.10)\n",
            "Requirement already satisfied: six in /usr/local/lib/python3.10/dist-packages (from sklearn-crfsuite->bnlp_toolkit) (1.16.0)\n",
            "Requirement already satisfied: tabulate in /usr/local/lib/python3.10/dist-packages (from sklearn-crfsuite->bnlp_toolkit) (0.9.0)\n"
          ]
        }
      ],
      "source": [
        "!pip install bnlp_toolkit"
      ]
    },
    {
      "cell_type": "code",
      "source": [
        "from bnlp import NLTKTokenizer\n",
        "tokenizer = NLTKTokenizer()"
      ],
      "metadata": {
        "id": "46Qft8AtAFZz"
      },
      "execution_count": null,
      "outputs": []
    },
    {
      "cell_type": "code",
      "execution_count": null,
      "metadata": {
        "colab": {
          "base_uri": "https://localhost:8080/"
        },
        "id": "icoPvqwLFW5y",
        "outputId": "269eab6a-d4a8-431d-92d9-505a1cbf6616"
      },
      "outputs": [
        {
          "output_type": "stream",
          "name": "stdout",
          "text": [
            "punkt not found. downloading...\n"
          ]
        },
        {
          "output_type": "stream",
          "name": "stderr",
          "text": [
            "[nltk_data] Downloading package punkt to /root/nltk_data...\n",
            "[nltk_data]   Unzipping tokenizers/punkt.zip.\n"
          ]
        },
        {
          "output_type": "stream",
          "name": "stdout",
          "text": [
            "বাংলাদেশের আকাশে আজ চাঁদ দেখা যায় নি।\n",
            "হাফ ছেড়ে বাঁ\n",
            "['বাংলাদেশের', 'আকাশে', 'আজ', 'চাঁদ', 'দেখা', 'যায়', 'নি', '।', 'লাইনশেষ', 'হাফ', 'ছেড়ে', 'বাঁচলাম', '।', 'একটা', 'দিন', 'অতিরিক্ত', 'পাওয়া', 'গেল', '।', 'আজ', 'শরীর', 'কুলাচ্ছে', 'না', '।', 'কিছু', 'কেনাকাটা', 'বাকী', 'ছিল', ',', 'বউ', 'এর', 'শাড়ি', 'চেঞ্জ', 'করতে', 'হবে', '।', 'সব', 'কাল', 'করা', 'যাবে', '।', 'আপাতত', 'হাতে', 'ধরা', 'মাছ', 'নিয়েই', 'বাড়ি', 'ফেরা', 'যাক', '।', 'লাইনশেষ', 'বাড়িতে', 'পা', 'রেখে', 'বুঝলাম', 'বেজায়', 'ভুল', 'হয়ে', 'গেছে', '।', 'এই', 'রাতে', 'মাছ', 'ক্রয়', 'করার', 'ব্যাপারটা', 'আমার', 'স্ত্রী', 'মোটেও', 'স্বাভাবিক', 'ভাবে', 'নেয়', 'নি', '।', 'কোন', 'নারীই', 'রাতে', 'মাছ', 'ক্রয়কে', 'ভালো', 'চোখে', 'দেখে', 'না', '।', 'রাত্রীকালীন', 'মাছ', 'সংসারের', 'সুখ-শান্তি', 'নাশক', '।', 'এই', 'একই', 'বিষয়-বস্তু', 'নিয়ে', 'বাবা-মার', 'মধ্যেও', 'কথা', 'কাটাকাটি', 'কম', 'হয়', 'নি', '।', 'এইসব', 'দেখেই', 'আমি', 'বড়', 'হয়ছি', 'এবং', 'কোন', 'এক', 'কুক্ষণে', 'নিজেই', 'সেই', 'ভুল', 'করে', 'বসেছি', '।', 'লাইনশেষ', 'প্রতিটি', 'সিরিজ', 'খেলতে', 'যাবার', 'আগে', 'বাংলাদেশ', 'দল', 'ভুল', 'থেকে', 'শিক্ষা', 'নেবার', 'কথা', 'বলে', '।', 'কিন্তু', 'তারা', 'শিক্ষা', 'নেয়', 'না', '।', 'আমার', 'অবস্থা', 'অনেকটা', 'তাদের', 'মতই', '।', 'আমি', 'শিক্ষা', 'নেই', 'নি', '।', 'বাবার', 'ভুল', 'থেকে', 'পুত্রের', 'শিক্ষা', 'নেয়া', 'দোষের', 'কিছু', 'না', '।', 'লাইনশেষ', 'মা', 'আমার', 'স্ত্রীর', 'পক্ষে', 'নিয়েছেন', '।', 'বাবা', 'আমাকে', 'দেখা', 'মাত্র', 'মন', 'খারাপ', 'করে', 'মাথা', 'নাড়ালেন', '।', 'আমাকে', 'নিয়ে', 'তিনি', 'বেজায়', 'হতাশ', '।', 'তার', 'চোখে', 'মুখে', 'একটাই', 'প্রশ্ন', ',', 'এই', 'ভুল', 'আমি', 'কি', 'করে', 'করলাম', '?', 'এই', 'রাতে', 'এখন', 'মাছ', 'বাছতে', 'হবে', '।', 'ভাবতেই', 'গাঁয়ে', 'কাঁটা', 'দিয়ে', 'উঠল', '।', 'লাইনশেষ', 'উপায়ন্ত', 'না', 'দেখে', 'কাজে', 'হাত', 'দিলাম', '।', 'কই', 'মাছের', 'কাঁটা', 'সহজ', 'বিষয়', 'না', '।', 'নারী', 'জাতি', 'কেন', 'রাত্রি', 'কালীন', 'মাছ', 'বাছার', 'ঝামেলা', 'পোহাতে', 'চান', 'না', 'তা', 'হাড়ে', 'হাড়ে', 'টের', 'পেলাম', '।', 'বাবা', 'এসে', 'হাত', 'লাগাল', '।', 'এবিষয়ে', 'তার', 'ত্রিশ', 'বছরের', 'অভিজ্ঞতা', '।', 'লাইনশেষ', 'এর', 'আগেও', 'আমার', 'আক্কেল', 'দাঁত', 'উঠেছে', '।', 'কিন্তু', 'আক্কেল', 'ওঠে', 'নি', '।', 'কই', 'মাছের', 'পৃষ্ঠদেশে', 'অবস্থিত', 'কাঁটার', 'গুতায়', 'আক্কেল', 'কিছুটা', 'হলেও', 'মাথা', 'চাড়া', 'দিয়ে', 'উঠল', '।', 'আজ', 'যা', 'হবার', 'হয়েছে', '।', 'জীবনকালে', 'আর', 'এই', 'ভুল', 'হবে', 'না', '।', 'রাত', 'বিরাতে', 'মাছ', 'বাছতে', 'কার', 'ভালো', 'লাগে', 'বলুন', '?', 'এর', 'থেকে', 'আজ', 'চাঁদ', 'উঠলেই', 'ভালো', 'হত', '।', 'চাঁদ', 'উঠলে', 'এতক্ষন', 'বাজারে', 'থাকতে', 'হত', '।', 'এত', 'জলদি', 'বাসায়', 'আসতে', 'হত', 'না', ',', 'এই', 'মাছ', 'কেনার', 'বুদ্ধিও', 'মাথায়', 'আসত', 'না', '।', 'লাইনশেষ', 'সব', 'করতে', 'করতে', 'রাত', 'দশটা', 'বাজল', ',', 'আর', 'আমার', 'বাজল', 'বারোটা', '।', 'মাছ', 'ধোয়া', 'শেষ', ',', 'রান্নার', 'জন্য', 'রেডি', '।', 'এই', 'কথা', 'জানানোর', 'জন্য', 'টিভির', 'রুমে', 'পা', 'দিলাম', '।', 'লাইনশেষ', 'সবাই', 'দেখি', 'আমাকে', 'দেখে', 'মুচকি', 'হাসছে', '।', 'হাসি', 'রহস্য', 'অনুসন্ধান', 'করতে', 'গিয়ে', 'টিভির', 'শিরোনামে', 'চোখ', 'গেল', '।', 'চাঁদ', 'দেখা', 'কমিটি', 'পাল্টি', 'খেয়েছে', '।', 'রাত', 'দশটায়', 'তারা', 'চাঁদ', 'দেখতে', 'সক্ষম', 'হয়েছেন', '।', 'কালকে', 'ইদ', '।', 'লাইনশেষ', 'এক', 'গাদা', 'কেনাকাটা', 'বাকী', '।', 'বের', 'হতেই', 'হবে', '।', 'তা', 'নাহলে', 'আজই', 'সংসার', 'ধর্মের', 'ইতি', 'টেনে', 'সন্ন্যাসী', 'হতে', 'হবে', '।', 'বউ', 'এর', 'মুখ', 'দেখে', 'অন্তত', 'তাই', 'মনে', 'হলো', '।', 'লাইনশেষ', 'রাত', 'এগারটা', '।', 'মার্কেটের', 'উদ্দেশ্যে', 'রওনা', 'দিলাম', '।', 'পাশের', 'বাসার', 'কুকুরটাও', 'পিছু', 'নিয়েছে', '।', 'আমাকেই', 'অনুসরন', 'করছে', '।', 'সেও', 'মার্কেট', 'যাবে', 'মনে', 'হচ্ছে', '।', 'কিন্তু', 'একটা', 'বিষয়', 'কিছুতেই', 'বুঝলাম', 'না', ',', 'এই', 'ব্যাটা', 'আবার', 'বিয়ে', 'করল', 'কবে', '?', 'লাইনশেষ', 'কবিতাশেষ', 'লাইনশেষ', 'ফোনটা', 'কেঁপে', 'উঠল', '।', 'লাইনশেষ', 'হাতে', 'নিয়ে', 'লক্ষ', 'করলাম', 'যোগাযোগ', 'মাধ্যম', 'থেকে', 'নোটিফিকেশন', 'এসেছে', '।', 'কোন', 'এক', 'পোস্টে', 'আমাকে', 'মেনশন', 'করা', 'হয়েছে', '।', 'মেনশন', 'করেছে', 'আমারই', 'কাছের', 'বন্ধু', 'রুদ্র', '।', 'নিশ্চিত', 'মজা', 'নেয়ার', 'জন্য']\n"
          ]
        }
      ],
      "source": [
        "from bnlp import NLTKTokenizer\n",
        "import string\n",
        "from bnlp import CleanText\n",
        "\n",
        "clean_text = CleanText(\n",
        "   fix_unicode=True,\n",
        "   unicode_norm=True,\n",
        "   unicode_norm_form=\"NFKC\",\n",
        "   remove_url=False,\n",
        "   remove_email=False,\n",
        "   remove_emoji=True,\n",
        "   remove_number=False,\n",
        "   remove_digits=False,\n",
        "   remove_punct=False,\n",
        "   replace_with_url=\"<URL>\",\n",
        "   replace_with_email=\"<EMAIL>\",\n",
        "   replace_with_number=\"<NUMBER>\",\n",
        "   replace_with_digit=\"<DIGIT>\",\n",
        "   replace_with_punct = \"<PUNC>\"\n",
        ")\n",
        "\n",
        "\n",
        "def read_file(file_path):\n",
        "    with open(file_path, 'r', encoding='utf-8') as file:\n",
        "        text = file.read()\n",
        "    return text\n",
        "\n",
        "# Read story and novel text\n",
        "story_text = read_file('/content/storty_text.txt')\n",
        "novel_text = read_file('/content/novel_text.txt')\n",
        "poem_text = read_file('/content/poem_text.txt')\n",
        "stp_word = read_file('/content/benglai_stopwords.txt')\n",
        "# Combine the text for training\n",
        "combined_text = story_text + '\\n' + novel_text + '\\n' + poem_text + '\\n' + stp_word + '>'\n",
        "\n",
        "clean_text = clean_text(combined_text)\n",
        "print(combined_text[:50])\n",
        "#print(clean_text[:50])\n",
        "# Tokenization using bnlp_toolkit\n",
        "new_poem_txt = combined_text.replace('\\n', ' লাইনশেষ ')\n",
        "new_poem_txt = new_poem_txt.replace('...', ' কবিতাশেষ ')\n",
        "\n",
        "tokenizer = NLTKTokenizer()\n",
        "tokenized_text = tokenizer.word_tokenize(new_poem_txt)\n",
        "\n",
        "# Example of tokenized text\n",
        "print(tokenized_text[:500])  # Displaying the first 5 tokens\n",
        "\n"
      ]
    },
    {
      "cell_type": "code",
      "execution_count": null,
      "metadata": {
        "id": "7Twjm3Engg3h"
      },
      "outputs": [],
      "source": [
        "word_index = {word: index for index, word in enumerate(set(tokenized_text), start=1)}"
      ]
    },
    {
      "cell_type": "code",
      "execution_count": null,
      "metadata": {
        "id": "f4TfMiAZnOSw"
      },
      "outputs": [],
      "source": [
        "import json\n",
        "\n",
        "# Your dictionary\n",
        "my_dict = word_index\n",
        "\n",
        "# Save the dictionary to a file\n",
        "with open('word_index.json', 'w') as json_file:\n",
        "    json.dump(my_dict, json_file)\n"
      ]
    },
    {
      "cell_type": "code",
      "execution_count": null,
      "metadata": {
        "id": "4GJxmtNEq2CB"
      },
      "outputs": [],
      "source": [
        "tokenized_text = [token.replace('লাইনশেষ', 'লাইনশেষ').replace('কবিতাশেষ', 'কবিতাশেষ') for token in tokenized_text]\n",
        "#tokenized_text[:50]"
      ]
    },
    {
      "cell_type": "code",
      "execution_count": null,
      "metadata": {
        "colab": {
          "base_uri": "https://localhost:8080/"
        },
        "id": "KoSgi9Hcn-iE",
        "outputId": "0c4f93fd-6a79-419a-befc-a8045ad2fd6c"
      },
      "outputs": [
        {
          "output_type": "execute_result",
          "data": {
            "text/plain": [
              "4869"
            ]
          },
          "metadata": {},
          "execution_count": 9
        }
      ],
      "source": [
        "word_to_find = 'লাইনশেষ'\n",
        "if word_to_find in word_index:\n",
        "    end_token_id =word_index[word_to_find]\n",
        "\n",
        "end_token_id"
      ]
    },
    {
      "cell_type": "code",
      "execution_count": null,
      "metadata": {
        "colab": {
          "base_uri": "https://localhost:8080/"
        },
        "id": "tWdtMUdU7qbZ",
        "outputId": "1ad96636-8951-4a91-ff38-fadc8a5fb548"
      },
      "outputs": [
        {
          "output_type": "execute_result",
          "data": {
            "text/plain": [
              "13922"
            ]
          },
          "metadata": {},
          "execution_count": 10
        }
      ],
      "source": [
        "word_to_find = '।'\n",
        "if word_to_find in word_index:\n",
        "    token_id =word_index[word_to_find]\n",
        "\n",
        "token_id"
      ]
    },
    {
      "cell_type": "code",
      "execution_count": null,
      "metadata": {
        "colab": {
          "base_uri": "https://localhost:8080/"
        },
        "id": "Hq9NwyNPkeO8",
        "outputId": "5815b867-cf85-4585-c724-919199495485"
      },
      "outputs": [
        {
          "output_type": "execute_result",
          "data": {
            "text/plain": [
              "17"
            ]
          },
          "metadata": {},
          "execution_count": 11
        }
      ],
      "source": [
        "word_to_find = '>'\n",
        "if word_to_find in word_index:\n",
        "    start_token_id =word_index[word_to_find]\n",
        "\n",
        "start_token_id"
      ]
    },
    {
      "cell_type": "code",
      "execution_count": null,
      "metadata": {
        "colab": {
          "base_uri": "https://localhost:8080/"
        },
        "id": "kHTJvYUbeA4Q",
        "outputId": "87e321e1-5708-4c61-de1d-5220f28388c5"
      },
      "outputs": [
        {
          "data": {
            "text/plain": [
              "['কবিতাশেষ']"
            ]
          },
          "execution_count": 162,
          "metadata": {},
          "output_type": "execute_result"
        }
      ],
      "source": [
        "predicted_word = [word for word, index in word_index.items() if index == 11180]\n",
        "predicted_word"
      ]
    },
    {
      "cell_type": "code",
      "execution_count": null,
      "metadata": {
        "id": "5j3M-i1qVPuK"
      },
      "outputs": [],
      "source": [
        "from gensim.models import Word2Vec\n",
        "\n",
        "# Define and train Word2Vec model\n",
        "model = Word2Vec(sentences=[tokenized_text], vector_size=50, window=3, min_count=1, workers=5, sg=0, epochs=100)\n",
        "\n",
        "# Save the trained model\n",
        "model.save('word2vec_com_cbow_v24.bin')\n"
      ]
    },
    {
      "cell_type": "code",
      "execution_count": null,
      "metadata": {
        "id": "JE3aACz0G_bd"
      },
      "outputs": [],
      "source": []
    },
    {
      "cell_type": "code",
      "execution_count": null,
      "metadata": {
        "colab": {
          "base_uri": "https://localhost:8080/"
        },
        "id": "mfAJ9rCWyism",
        "outputId": "94aab356-ad9b-4df5-a2b0-132ed513600a"
      },
      "outputs": [
        {
          "output_type": "execute_result",
          "data": {
            "text/plain": [
              "17491"
            ]
          },
          "metadata": {},
          "execution_count": 8
        }
      ],
      "source": [
        "vocab = list(model.wv.index_to_key)\n",
        "vectors = model.wv[vocab]\n",
        "\n",
        "len(vectors)"
      ]
    },
    {
      "cell_type": "code",
      "execution_count": null,
      "metadata": {
        "id": "0DJ6ZMO8VPzl"
      },
      "outputs": [],
      "source": [
        "from sklearn.decomposition import PCA\n",
        "from matplotlib import pyplot as plt\n",
        "import matplotlib.font_manager as fm"
      ]
    },
    {
      "cell_type": "code",
      "execution_count": null,
      "metadata": {
        "colab": {
          "base_uri": "https://localhost:8080/"
        },
        "id": "D_swOUbMa33v",
        "outputId": "864d5ae0-26fa-4500-ce95-f1a5eb99312a"
      },
      "outputs": [
        {
          "name": "stdout",
          "output_type": "stream",
          "text": [
            "Selecting previously unselected package fonts-beng-extra.\n",
            "(Reading database ... 121671 files and directories currently installed.)\n",
            "Preparing to unpack .../fonts-beng-extra_3.2.1-1_all.deb ...\n",
            "Unpacking fonts-beng-extra (3.2.1-1) ...\n",
            "Selecting previously unselected package fonts-lohit-beng-assamese.\n",
            "Preparing to unpack .../fonts-lohit-beng-assamese_2.91.5-2_all.deb ...\n",
            "Unpacking fonts-lohit-beng-assamese (2.91.5-2) ...\n",
            "Selecting previously unselected package fonts-lohit-beng-bengali.\n",
            "Preparing to unpack .../fonts-lohit-beng-bengali_2.91.5-2_all.deb ...\n",
            "Unpacking fonts-lohit-beng-bengali (2.91.5-2) ...\n",
            "Selecting previously unselected package fonts-beng.\n",
            "Preparing to unpack .../fonts-beng_2%3a1.3_all.deb ...\n",
            "Unpacking fonts-beng (2:1.3) ...\n",
            "Setting up fonts-lohit-beng-bengali (2.91.5-2) ...\n",
            "Setting up fonts-beng-extra (3.2.1-1) ...\n",
            "Setting up fonts-lohit-beng-assamese (2.91.5-2) ...\n",
            "Setting up fonts-beng (2:1.3) ...\n",
            "Processing triggers for fontconfig (2.13.1-4.2ubuntu5) ...\n"
          ]
        }
      ],
      "source": [
        "!apt-get -qq install -y fonts-beng\n"
      ]
    },
    {
      "cell_type": "code",
      "execution_count": null,
      "metadata": {
        "colab": {
          "base_uri": "https://localhost:8080/",
          "height": 632
        },
        "id": "zArpsQmxVP5Y",
        "outputId": "a1bec9c0-1e02-4b80-a3f0-138680d97fd7"
      },
      "outputs": [
        {
          "output_type": "display_data",
          "data": {
            "text/plain": [
              "<Figure size 1200x800 with 1 Axes>"
            ],
            "image/png": "[encoded data removed]"
          },
          "metadata": {}
        },
        {
          "output_type": "stream",
          "name": "stdout",
          "text": [
            "Vocabulary: ['।', 'লাইনশেষ', ',', 'না', '?', '“', '”', 'করে', 'তার', 'সে', 'এই', 'থেকে', 'আমি', 'মনে', 'আর', 'কথা', 'আমার', 'আছে', 'একটা', 'যেন', 'কোন', 'হবে', 'কি', 'কিন্তু', 'সাথে', 'হয়ে', 'হচ্ছে', 'করতে', 'নিয়ে', 'বলে', 'সেই', '!', 'গেল', 'হয়', 'জন্য', 'এক', 'নেই', 'যে', 'কিছু', 'দিয়ে', 'দিকে', 'মত', 'সব', 'করছে', 'হয়েছে', 'কী', 'করল', 'দ্বিরেফ', 'খুব', 'হলো', 'তো', 'যায়', 'আলকানতারা', 'তোমার', 'ছিল', 'গেছে', 'করা', 'যাচ্ছে', 'ওয়ালিদ', 'কেউ', 'আবার', 'সময়', 'এখন', 'আপনি', 'আমাকে', 'চোখ', 'সামনে', 'নিজের', 'বেশ', 'কেন', ';', 'বসে', 'আলফি', 'তাকে', 'দিল', 'তাদের', 'দ্বিরেফের', 'বলল', 'চলে', 'তুমি', 'কাছে', 'শুরু', 'শেষ', 'আগে', 'হাত', 'ভালো', 'ঠিক', 'দেখে', 'হতে', 'দেখা', '’', 'আজ', 'করার', 'একটু', 'পড়ে', 'কে', 'তারা', 'ধরে', 'পারে', 'ডাবরির', 'করেছে', 'এমন', 'দাঁড়িয়ে', 'মানুষ', 'যাবে', 'মুখে', 'তাই', 'আপনার', 'নয়', 'কাজ', 'চোখে', 'নৈঋত', 'মুখ', 'থাকে', 'পর', 'মাথা', 'বের', 'হাতে', 'প্রশ্ন', 'তবে', 'দিতে', 'বড়', 'কখনো', 'হঠাৎ', 'ফিকটাস', 'শুধু', 'বুঝতে', 'তা', 'অনেক', 'বাড়ি', 'এসে', 'বলতে', 'বেশি', 'তিনি', 'পিলগ্রিম', 'হাসি', 'হয়তো', 'সবাই', 'চেষ্টা', 'দেখতে', '‘', 'যা', 'যেতে', 'ফিরে', 'ছোট', 'নাকি', 'নাম', 'ওর', 'ক্যান্তর', 'এসেছে', 'সামান্য', 'ও', 'এখানে', 'আলকানতারার', 'বাড়িতে', 'দেয়া', 'এর', 'নতুন', '*', 'আসে', 'মাঝে', 'আসছে', '–', 'কোথায়', 'তাকিয়ে', 'এখনো', 'পথ', 'একজন', 'কিছুই', 'নি', 'আমাদের', 'আরো', 'মতো', 'মাথায়', 'বাড়ির', 'দুই', 'হয়ত', 'খের', 'অন্য', 'অপেক্ষা', 'উপর', 'মা', 'তৈরি', 'করবে', 'যখন', 'ওয়ার্ল্ড', 'চিন্তা', 'আমরা', 'নৈঋতের', 'হলে', 'করলেন', 'কালো', 'নিগেল', 'সেটা', '-', 'বাবা', 'দিন', 'মধ্যে', 'এত', 'রেখে', 'ফিলিক্স', 'মানুষের', 'বাইরে', 'এগিয়ে', 'তখন', 'তোর', 'পর্যন্ত', 'জানে', 'এটা', 'প্রথম', 'থাকা', 'এ', 'পড়ল', 'অথচ', 'শুনে', 'পা', 'নিজেকে', 'ইখলাছ', 'অবাক', 'কেমন', 'বলেন', 'বিশ্বাস', 'কিভাবে', 'উত্তর', 'তোমাকে', 'সবার', 'বেরিয়ে', 'পাওয়া', 'বলা', 'মুহূর্তে', 'কিছুক্ষণ', 'হল', 'গিয়ে', 'নিগেলের', 'ওয়ালিদের', 'ঘরে', 'যদি', 'ইচ্ছা', 'জাভিয়ার', 'রুকাইয়া', 'খাবার', 'দেয়', 'সোনার', 'তুই', 'সেখানে', 'তুলে', 'কারো', 'বোঝা', 'ভয়', 'উঠে', 'পেছনে', 'শব্দ', 'বন্ধ', 'জীবন', 'পারছে', 'কারণ', 'স্বপ্ন', 'টাকা', 'না।', 'বললেন', 'একটি', 'দিয়েছে', 'সাহায্য', 'পাশে', 'আসতে', 'প্রতিটা', 'জানি', 'জসুয়া', 'ওবায়দুর', 'আগেই', 'চায়', 'নিল', 'কিনা', 'দরকার', 'ইচ্ছে', 'একবার', 'উঠল', 'যাওয়া', 'দৃষ্টি', 'হয়নি', 'ফেলে', 'কবিতাশেষ', 'নাই', 'সমস্যা', 'মানে', 'রাতে', 'পারবে', 'ডাবরি', 'পথে', 'আসলে', 'কম', 'আপনাকে', 'থাকতে', 'এলো', 'নিশ্চয়ই', 'কথায়', 'ইথান', 'নিতে', 'জানা', 'পড়েছে', 'তাহলে', 'একই', 'জাভিয়ারের', 'সত্যি', 'থাকলে', 'দিচ্ছে', 'অবস্থা', 'নিবিতা', 'ছেড়ে', 'লাগছে', 'শান্ত', 'জানতে', 'কবির', 'ভাঙনের', 'শরীর', 'জিজ্ঞেস', 'ঘুরে', 'দেয়ার', 'কণ্ঠে', 'বলছে', 'ঐ', 'একা', 'মূসা', 'প্রবেশ', 'তবুও', 'ভুল', 'দ্রুত', 'চোখের', 'ফোন', 'পুরো', 'স্বাভাবিক', 'বাবার', 'অবশ্য', 'ঘর', 'ঘুম', 'নিমলি', 'করছেন', 'দ্বিরেফকে', 'গেলে', 'সরিয়ে', 'দূরে', 'জাবির', 'প্রধান', 'পিলগ্রিমের', 'ভাইজান', 'ওপর', 'বই', 'যাবার', 'ক্ষমতা', 'লেখা', 'জাসপার', 'মন', 'খারাপ', 'তাকাল', 'আসবে', 'বৃষ্টি', 'ফিলিক্সের', 'দুজন', 'অন্ধকার', 'ধারণা', 'পারি', 'কাহফ', 'খুলে', 'পড়ছে', 'ধী-আয়েদিস', 'টেনে', 'মুদ্রাকে', 'হবার', 'রাত', 'ভাঙ্গন', 'থাকবে', 'রাখতে', 'ছেলে', 'মায়ের', 'কাজে', 'নওদা', 'কাউকে', 'করেই', 'তেমন', 'আসার', 'পরে', 'এবার', 'ইখলাছের', 'করলে', 'এবং', 'হত', 'আচ্ছা', 'খুশি', 'দেখি', 'মৃত্যু', 'উপরে', 'হয়েছিল', 'মাত্র', 'করলাম', 'হ্যাঁ', 'ভুলে', 'ওরা', 'জায়গায়', 'রাখা', 'কাইফ', 'কথাটা', 'ভেসে', 'ভাবে', 'নিচে', 'আসলো', 'আকাশ', 'গুলো', 'মানিক', 'করেন', 'বিষয়টা', 'এসব', 'দেবে', 'ভাই', 'আসা', 'বা', 'ছাড়া', 'তারপর', 'করি', 'লোক', 'এরপর', 'ফুল', 'দরজা', 'রূপা', 'সকলে', 'ধরা', 'বললাম', 'ওয়ালিদকে', 'দুটো', 'সেদিন', 'পারল', 'মুদ্রাকের', 'মুহূর্ত', 'চলছে', 'মেয়েটা', 'মাথার', 'বিশাল', 'নিশ্চিত', 'প্রয়োজন', 'ব্যবস্থা', 'বিভ্রম', 'সুন্দর', 'উচিত', 'এসেছেন', 'আলো', 'কষ্ট', 'যাওয়ার', 'খুন', 'কয়েক', 'পানি', 'বোধহয়', 'বুঝি', 'পেয়ে', 'মৃত্যুর', 'মেয়ে', 'খেতে', 'খেয়ে', 'আছেন', 'কোথাও', 'আগের', 'দীর্ঘ', 'হিসেবে', 'নালীর', 'নদীর', 'জসুয়ার', 'বছর', 'পরিবর্তন', 'প্রতি', 'প্রায়', 'খবর', 'কতটা', 'হওয়া', 'বলেছে', 'ক্যান্তরদের', 'হা', 'প্রিয়', 'সানভি', 'পায়', 'থাকার', 'থেকেই', 'কিছুটা', 'জড়িয়ে', 'মামা', 'যত', 'নিজেই', 'মনোযোগ', 'শহরে', 'ভঙ্গিতে', 'জ্বি', 'একে', 'তোকে', 'হরিশ', 'উপায়', 'মুদ্রাক', 'মিলিয়ে', 'করেছেন', 'স্পষ্ট', 'অবস্থায়', 'সকলের', 'তাতে', 'কত', 'চিৎকার', 'চাইলে', 'বিপদ', 'স্পর্শ', 'নেমে', 'আস্তে', 'পেল', 'হবে।', 'যারা', 'সিদ্ধান্ত', 'তৃতীয়', 'যাব', 'ফেলল', 'যার', 'চাই', 'আটকে', 'উপস্থিত', 'মুখের', 'লাগে', 'আপনাদের', 'অন্ধকারে', 'অসংখ্য', 'ঘটনা', 'ঘরের', 'দেখছে', 'গল্প', 'কয়েকটা', 'সাহস', 'পাবে', 'ডাবরিতে', 'হলেও', 'দিলেন', 'বেঁচে', 'আগ্রহ', 'বলবে', 'বারবার', 'সম্ভব', 'একদিন', 'শক্তি', 'বোন', 'খুঁজে', 'নওদার', 'বলার', 'সবচেয়ে', 'হারিয়ে', 'গায়ে', 'তোমাদের', 'স্বপ্নের', 'আছি', 'জাসপারের', 'বুকে', 'রাস্তা', 'করেছি', 'হোক', 'পরিচয়', 'শুনতে', 'ভাল', 'ব্যাপার', 'জানেন', 'যেত', 'আরলো', 'জন্যে', '…', 'করেনি', 'বাতাস', 'রাস্তায়', 'ফেলেছে', 'নিমলির', 'যেখানে', 'চা', 'কেটে', 'রেখেছে', 'পায়ে', 'জন্যই', 'ভেবে', 'বাতাসে', 'আলকানতারাকে', 'পাচ্ছে', 'কাহফের', 'যেমন', 'পাশের', 'আজকে', 'সবকিছু', 'ভিতরে', 'সুযোগ', 'দেখার', 'সম্পূর্ণ', 'ঘুরিয়ে', 'সকালে', 'উঠতে', 'দু', 'যাই', 'সহজ', 'সাধারণ', 'ব্যবহার', 'কথার', 'হাতের', 'করো', 'জিনিস', 'দেরি', 'মনের', 'সামনের', 'দুলাভাই', 'বিষয়ে', 'গোপন', 'গলা', 'লাল', 'নিবিতার', 'আলাদা', 'সোজা', 'বলেই', 'নিজে', 'বিষয়', 'টা', 'কথাগুলো', 'সম্পর্কে', 'খোঁজ', 'অর্থ', 'বাকি', 'চুল', 'কবিরের', 'ছড়িয়ে', 'বল', 'ঢুকে', 'দৃষ্টিতে', 'নিয়েছে', 'কারণে', 'কানে', 'উনি', 'অবশ্যই', 'করবেন', 'ছাদেক', 'চিনতে', 'নৈঋতকে', 'বয়স', 'বারান্দায়', 'সত্য', 'সাহেব', 'কই', 'বাড়িয়ে', 'ছুটে', 'কাল', 'প্রশ্নের', 'ছেলেটা', 'স্কুলে', 'উৎসর্গ', 'প্রথমে', 'চল', 'কাছ', 'শেষে', 'মূসার', 'পারলে', 'চাইছে', 'ওঠে', 'বুক', 'পৃথিবীর', 'বসতে', 'পড়া', 'পড়তে', 'শুয়ে', 'লম্বা', 'কয়েকজন', 'দরজার', 'মতই', 'হাজার', 'করেছিল', 'সকল', 'কাজের', 'দূর', 'জানো', 'থেমে', 'দেখলে', 'লক্ষ্য', 'নদী', 'দিলাম', 'ভর', 'খাওয়া', 'নিজেদের', 'বলছেন', 'কিছুতেই', 'ভেঙে', 'সারাদিন', 'দারুণ', 'খোলা', 'চলতে', 'প্রহরী', 'রকম', 'রাতের', 'তোমরা', 'গেলেন', 'অশ্রু', 'যদিও', 'মাঝখানে', 'বার', 'বরং', 'ডেকে', 'তাও', 'গেছেন', 'দেখল', 'বাবু', 'হেসে', 'করত', 'মাকে', 'আবিদ', 'ভাবল', 'থাক', 'ভাত', 'জেগে', 'নেয়া', 'ক্যান্তররা', 'ইথানের', 'ছেলের', 'পেতে', 'জায়গা', 'বুবু', 'পারেন', 'দেয়াল', 'মূল', 'কিছুদিন', 'চলেছে', 'কথাই', 'স্যার', 'ধরতে', 'কঠিন', 'প্রচণ্ড', 'ভেতর', 'বিদায়', 'রক্ত', 'কাইফের', 'জন', 'নষ্ট', 'পরিকল্পনা', 'কখন', 'তিন', 'গাছ', 'আশা', 'চাচ্ছে', 'রান্না', 'কার', 'এভাবে', 'অদ্ভুত', 'বোঝার', 'জন্ম', 'হলেই', 'একথা', 'সাদা', 'আমিও', 'অংশ', 'ঘিরে', 'বিরতি', 'দেবিদ্বার', 'গরু', 'ভালোই', 'মানুষকে', 'শোনা', 'বুঝে', 'ছিলাম', 'পারবেন', 'চেয়ে', 'পড়বে', 'দাঁড়াল', 'মাছ', 'ক্যান্তরের', 'চাইলেই', 'রোজ', 'যথেষ্ট', 'রাহি', 'করলো', 'গোল', 'লাগবে', 'ছোট্ট', 'উদ্দেশ্য', 'বিছানায়', 'দ্বিতীয়', 'রতন', 'ক্রমেই', 'পরিচিত', 'মাটির', 'মাত্রার', 'প্রতিটি', 'সন্ধ্যা', 'লোকটা', 'ছেলেকে', 'উদ্দেশ্যে', 'এটাই', 'গত', 'পরিষ্কার', 'জুড়ে', 'ভাব', 'একমাত্র', 'রইল', 'এরা', 'কান', 'দেবার', 'দিনের', 'দিক', 'মাটিতে', 'আকাশে', 'রাস্তার', 'কান্না', 'দায়িত্ব', 'চমকে', 'সেখানেই', 'নালী', 'বাদে', 'রাখে', 'বিশেষ', 'থাকেন', 'রাখার', 'কাপড়', 'পৌঁছে', 'জীবনের', 'গেলাম', 'প্রাক্তন', 'ভেতরে', 'চাইল', 'মুহূর্তেই', 'কাঠের', 'সন্দেহ', 'করব', 'রোকসানা', 'ভূমিকম্প', 'গভীর', 'কাঁধে', 'নানা', 'বলো', 'ধরনের', 'দোকান', 'বলুন', 'দিলে', 'পারছেন', 'খালি', 'নিঃশ্বাস', 'জ্ঞান', 'দুজনে', 'চেপে', 'পরীক্ষা', 'পেয়েছে', 'পাড়ে', 'পথের', 'এদের', 'ওকে', 'স্মৃতি', 'করছি', 'দেখেই', 'খানিকটা', 'দেন', 'সন্ন্যাসী', 'আপনারা', 'স্থির', 'করছিল', 'বিয়ে', 'সরে', 'অনুভূতি', 'ডান', 'ব্যাপারটা', 'হালকা', 'গতি', 'আগেও', 'দরজায়', 'মিথ্যা', 'দাও', 'পেছন', 'ঠিকানা', 'জাবিরের', 'সামনেই', 'যান', 'বিরক্ত', 'বলি', 'ব্যস্ত', 'ভাবতে', 'মারা', 'সহস্র', 'কাঁদতে', 'নিগেলকে', 'চুপ', 'তিস্তার', 'রাণী', 'তাড়াতাড়ি', 'বন্দী', 'শরীরে', 'র', 'নজর', 'উঠেছে', 'সানভির', 'হাঁটতে', 'কেক', 'বললে', 'ফুফু', 'লাভ', 'পার', 'সবাইকে', 'স্থান', 'বাবাকে', 'লেগে', 'নেয়', 'পাশ', 'বয়ে', 'আপন', 'পারেনি', 'ব্যাপারে', 'বিরক্তি', 'এসেছি', 'বিরুদ্ধে', 'ওয়ার্ল্ডে', 'হলেন', 'কপালে', 'চেহারা', 'দিয়া', 'বলব', 'ওয়ার্ল্ডের', 'ধরেছে', 'নিলেন', 'ক', 'দৃশ্য', 'বসল', 'স্কুল', 'ভাগ', 'মুখোমুখি', 'যুবায়ের', 'ধরল', 'ঝরে', 'পুরোনো', 'দোকানে', 'অন্যদের', 'সৃষ্টি', 'রুকাইয়ার', 'নারী', 'অনুসরণ', 'শোনার', 'রাজকীয়', 'সুতরাং', 'বাঁধা', 'ধীরে', 'পৃথিবী', 'প্রাণ', 'দেই', 'সাড়া', 'পাতা', 'বাসায়', 'ভেঙ্গে', 'বাধা', 'দেখেছে', 'গতিতে', 'ভর্তি', 'চির', 'অপবিদ্যা', 'পাহাড়', 'মেঘ', 'নামের', 'অসীম', 'ওদের', 'দেখেছি', 'ভাঙ্গনের', 'মজা', 'বন্ধুর', 'করবো', 'যাত্রা', 'বসিয়ে', 'সিঁড়ি', 'চারপাশে', 'আলফির', 'আসলেই', 'একসাথে', 'শহরের', 'ঝুলে', 'স্কুলের', 'খাওয়ার', 'হাসতে', 'সম্ভবত', 'চারদিকে', 'সৌন্দর্য', 'নিজেও', 'সাইফ', 'ফেরার', 'ক্ষৌণী', 'ওবায়দুরের', 'যাও', 'পরদিন', 'কল্পনা', 'যোগ', 'বোকাদের', 'পরের', 'ভরে', 'লিভান', 'কাজটা', 'পাশাপাশি', 'হেঁটে', 'যাবেন', 'বানিয়ে', 'বেয়ে', 'কর', 'পারত', 'সূর্যের', 'নিয়ম', 'হওয়ার', 'বোনের', 'আলোয়', 'থেকেও', 'বদলে', 'উড়ে', 'অজানা', 'ছবি', 'পেলে', 'ফুটে', 'ক্লাসে', 'মুহূর্তের', 'যুক্তি', 'মুচকি', 'জমে', 'ফিরিয়ে', 'ব্যর্থ', 'ডাকে', 'বাঁশের', 'শব্দটা', 'খেলা', 'দিনে', 'করিয়ে', 'মাটি', 'আশ্রয়', 'সারা', 'নিয়ন্ত্রণ', 'দূরের', 'সদ্য', 'সঞ্জীব', 'নির্দেশ', 'যাচ্ছিল', 'জোড়া', 'ফিরতে', 'আসেনি', 'চিন্তার', 'কিসের', 'থাকি', 'বেলা', 'বিক্রি', 'উপহার', 'হচ্ছিল', 'তারপরও', 'আসি', 'ওঠার', 'এতক্ষণে', 'অনিশ্চয়তা', 'উঁচু', 'পড়ার', 'পানির', 'জগতে', 'বৃষ্টির', 'দেখ', 'তরুণী', 'তাড়া', 'নিয়া', 'চর্চা', 'পারছি', 'তরবারি', 'হতেই', 'এমনিতেই', 'ফেরত', 'এসেছিল', 'নামটা', 'নেয়ার', 'করতেই', 'জানার', 'ফিরল', 'অচেনা', 'ঝুলিয়ে', 'প্রস্তুত', 'কয়েকবার', 'দেব', 'মিশে', 'আবিদের', 'চান', 'শক্ত', 'জ্বলছে', 'রক্ষা', 'গলায়', 'জবাব', 'হাঁটু', 'যাচ্ছি', 'ডাকতে', 'আকাশের', 'পছন্দ', 'উৎস', 'সবুজ', 'সেটাও', 'তাকালেন', 'সুর', 'বিস্তৃত', 'সকলকে', 'অনুভব', 'আগুন', 'রোধ', 'ইতিহাস', 'ক্লাস', 'দোরান', 'শরীরের', 'টেবিলের', 'সূর্য', 'কাগজ', 'শত', 'যাক', 'লুকিয়ে', 'ভারী', 'বেলায়', 'চালিয়ে', 'দেয়ালে', 'সময়ে', 'বসেছে', 'কবিতা', 'হাতটা', 'ফেরে', 'মেয়েটার', 'তাকালো', 'যেকোন', 'লেখাটা', 'ঘাম', 'মিনিট', 'সকাল', 'পাশেই', 'সম্মান', 'তুলনায়', 'ঘাড়', 'জাভিয়ারকে', 'দোষ', 'বোকা', 'কবচ', 'দেখছি', 'পরিণত', 'গাছের', 'ক্লান্ত', 'স্বরে', 'উঠছে', 'ছুঁড়ে', 'বেড়াচ্ছে', 'প্রশ্নটা', 'বোধ', 'প্রতিদিন', 'ঘরটা', 'তথ্য', 'চেহারায়', 'নিচু', 'ফেলতে', 'বছরের', 'শুকিয়ে', 'খেলে', 'ভাবছে', 'পাহাড়ের', 'ডুবে', 'এড়িয়ে', 'থামিয়ে', 'বাজারে', 'আমারে', 'বাদ', 'ফারিয়া', 'রাগ', 'সামলে', 'দাঁত', 'এতক্ষণ', 'চোর', 'মেঘের', 'জ্বর', 'লিখে', 'মৃত', 'মেরে', 'ধার', 'বাড়ছে', 'গুরুত্বপূর্ণ', 'আম', 'পাই', 'শিক্ষা', 'জোর', 'না-', 'গড়িয়ে', 'বুলিয়ে', 'সমান', 'বিকেল', 'সুবিধা', 'কিংবা', 'জানালা', 'যাদের', 'কণ্ঠস্বর', 'গিয়েছিল', 'মাধ্যমে', 'নীল', 'ঘুমিয়ে', 'ডাক্তার', 'অপ্রস্তুত', 'অভাব', 'রূপ', 'মেয়ের', 'ভিতর', 'আসলেন', 'প্রমাণ', 'সেও', 'নামে', 'যেটা', 'করুন', 'দীর্ঘশ্বাস', 'পড়লো', 'দেখবে', 'বিস্ময়', 'হু', 'ডাক', 'ওঠা', 'মালিক', 'ছায়া', 'রাহির', 'বিছানা', 'দাঁড়িয়েছে', 'কোলে', 'কবে', 'নাবিলার', 'ঢাকা', 'সাইফুল', 'জাহাঙ্গীর', 'কোয়ার্থের', 'সাইকেল', 'রহমান', 'বেঁধে', 'চার', 'বাধ্য', 'কমে', 'বাক্য', 'ঠাণ্ডা', 'পরিস্থিতি', 'অভ্যাস', 'অদ্ভুদ', 'যতটা', 'চাওয়া', 'ঝড়', 'চিন্তিত', 'বন্ধু', 'মুখটা', 'দুজনের', 'রিক্সা', 'ঘন্টা', 'যায়নি', 'সেটাই', 'খুঁজতে', 'একজনকে', 'চাপা', 'বুঝিয়ে', 'আনা', 'তখনো', 'ফুলের', 'এখানেই', 'লিকুইর', 'দুলাভাইয়ের', 'মায়া', 'বলবেন', 'টান', 'অন্যের', 'চাও', 'চলা', 'বয়সে', 'রাজি', 'হলাম', 'খাবারের', 'ব্যাখ্যা', 'বিপদের', 'ইরানীর', 'পাখি', 'এজন্যই', 'তখনই', 'ধী-আয়েদিসের', 'তে', 'আছড়ে', '(', 'স্যূপ', 'দিচ্ছি', 'চাচা', 'ঘোষণা', 'সন্ধ্যায়', 'লক্ষ', 'আরও', 'বড়ই', 'ঘুমে', 'কামরায়', 'যুদ্ধ', 'এখনই', 'সঙ্গী', 'অন্তত', 'হতো', 'বুকের', 'ছুঁয়ে', 'শূন্য', 'কোথা', 'নিমলিকে', 'শব্দে', 'পতন', 'অবশেষে', 'ভয়ে', 'দুইটা', 'কেঁদে', ')', 'লাগল', 'ওই', 'সাহেবের', 'ভালোবাসা', 'জ্বলে', 'অপরাধ', 'এতটুকু', 'নিঃশব্দে', 'চাঁদ', 'উল্টো', 'শুক্লা', 'পিছিয়ে', 'মাত্রই', 'পক্ষে', 'নিজ', 'তেল', 'কিছুর', 'দোকানের', 'আলেয়ার', 'আসেন', 'পরিবারের', 'পাগল', 'হাল', 'দুইজন', 'ফেলা', 'পাড়ি', 'ওনার', 'মোটেও', 'ওসি', 'খেয়াল', 'ব্যাটা', 'বোঝাই', 'লিভানের', 'আছে।', 'চড়', 'দেখাচ্ছে', 'গেড়ে', 'মাঝেই', 'দিয়েছেন', 'দেখিয়ে', 'নামিয়ে', 'শহর', 'তাতেই', 'অবসর', 'কাটা', 'শুনেছি', 'ভিন্ন', 'হো', 'দিয়েছি', 'শুভ্র', 'খানেক', 'অপেক্ষায়', 'দেখলাম', 'ভিজে', 'দেয়ালের', 'জানানো', \"'\", 'কতদিন', 'উঁকি', 'জগতের', 'মুক্তি', 'মেলে', 'মানুষদের', 'চাকরি', 'করলেই', 'হাঁটছে', 'বৃদ্ধ', 'আনতে', 'যোগাযোগ', 'সাজানো', 'চেয়েছি', 'দীপু', 'প্রার্থনা', 'লাথি', 'নীরবতা', 'শুধুই', 'সহ্য', 'কাগজটা', 'আঁচার', 'আকর্ষণ', 'ইভান', 'এতটা', 'একেবারে', 'প্রস্তুতি', 'মিলে', 'স্ত্রী', 'বানানো', 'বলবো', 'ভর্তা', 'খুলল', 'সরাসরি', 'সন্তান', 'এজন্য', 'পায়ের', 'চকচক', 'রাখল', 'দৌড়ে', 'জগত', 'গেছি', 'ভূমিকম্পের', 'সেখান', 'লাগলো', 'পুরুষ', 'দল', 'নব্য', 'গুরুত্ব', 'অসহায়', 'ইথানকে', 'হলুদ', 'বলেছেন', 'যাচ্ছেন', 'কতা', 'হাসছে', 'লাঠি', 'শিরিন', 'এতদিন', 'পর্যবেক্ষণ', 'মন্দিরের', 'দম', 'কাছেই', 'সঞ্চার', 'নিয়েই', 'প্রচন্ড', 'দিত', 'ইখলাছকে', 'শুনলে', 'সময়ের', 'কেড়ে', 'যেভাবে', 'ইতোমধ্যে', 'কুকুরটা', 'পেরেছে', 'দরজাটা', 'আজকের', 'এমনভাবে', 'যাতে', 'রোকসানার', 'দুটি', 'নেব', 'পড়েছিল', 'পিলগ্রিমকে', 'ঢেলে', 'ফিলিক্সকে', 'আসল', 'এতে', 'পুরাতন', 'টানে', 'অনুমতি', 'পূর্ণ', 'বলছি', 'দাঁড়ায়', 'এইমাত্র', 'এইতো', 'আবারো', 'পারব', 'ওসব', 'কিছুদূর', 'কাঁদছে', 'অপরিচিত', 'ব্যক্তি', 'বোঝাতে', 'উপস্থিতি', 'অতি', 'কিরে', 'বস্তু', 'অন্যদিকে', 'একজনের', 'শোন', 'দিয়েই', 'কদিন', 'সম্মুখীন', 'হতাশ', 'রাখবে', 'ভাবনা', 'যুবক', 'ট্রিটমেন্ট', 'ঢুকতে', 'ভরসা', 'ভালোবাসি', 'মুক্ত', 'আয়োজন', 'রাগে', 'তাছাড়া', 'ছাদেকের', 'ফুঁ', 'খুবই', 'একটাই', 'বিরান', 'সাবধান', 'অনেকে', 'প্রস্তাব', 'আপুর', 'জেনে', 'ভাইয়ের', 'বিন্দু', 'লোকটার', 'ছিলেন', 'আয়', 'পারো', 'অবস্থান', 'খানিক', 'কাটিয়ে', 'অজস্র', 'বেরিয়ে', 'ভাঁজ', 'নদীতে', 'দলটা', 'আসছেন', 'জোগাড়', 'ফেলবে', 'নিবিতাকে', 'তলিয়ে', 'মেনে', 'চারিদিকে', 'বাম', 'ঘরেই', 'মুছতে', 'ফেটে', 'গেলেই', 'ডাঃ', 'বলত', 'অবধি', 'সুকন্যা', 'দশ', 'করেছো', 'সম্ভাবনা', 'ঘুরতে', 'মালিকের', 'সাথেই', 'প্রহরীদের', 'সম্মতি', 'ওখানে', 'আসন্ন', 'বংশের', 'জনের', 'সন্ধ্যার', 'বিছানার', 'আত্মার', 'চেনা', 'ভেবেছিলাম', 'ডাকছে', 'বাতাসের', 'বিনিময়ে', 'সেরা', 'নিভে', 'সাইকেলটা', 'দ্বিধা', 'গেলেও', 'এটাও', 'ঝামেলা', 'মাঠ', 'চালু', 'বিরাট', 'বাঁকা', 'লতানো', 'জোরে', 'তোরা', ']', '[', 'বেছে', 'হাটতে', 'পারলেন', 'অনেকদিন', 'পালা', 'ক্ষমা', 'বাজার', 'করিনি', 'আসবো', 'চেয়ারে', 'বৈঠকে', 'জানালার', 'অসুস্থ', 'নিজেকেই', 'করেও', 'থাকলেও', 'অনেকটা', 'হয়।', 'মোটামুটি', 'স্বপ্নে', 'টাকাটা', 'জমাট', 'ছেলেটার', 'ফিরেছে', 'সময়টা', 'রে', 'তোলে', 'ঢেকে', 'দেখছেন', 'বেড়ে', 'ফাঁকা', 'পেয়েছি', 'বয়সের', 'আগামী', 'ফল', 'উপভোগ', 'নাম্বার', 'কণ্ঠ', 'যাবো', 'পালিয়ে', 'মুছে', 'সাধারণত', 'ধান', 'দাঁড়াবে', 'আজাদ', 'গান', 'সংবাদ', 'ভাসিয়ে', 'নেবে', 'রঙের', 'কতক্ষণ', 'কাঁচা', 'কয়েকদিন', 'কাঁপছে', 'তারাও', 'কুকুর', 'বইয়ের', 'বনে', 'রঙ', 'পড়লে', 'রাজ্যের', 'জাতীয়', 'সম্পর্ক', 'এরকম', 'বলেছি', 'গুছিয়ে', 'তালা', 'বিচার', 'বাতি', 'ঝুলছে', 'পবিত্র', 'দিয়েছিল', 'মসজিদের', 'শফিক', 'দিবে', 'মাইয়া', 'উধাও', 'আশ্বস্ত', 'এলোমেলো', 'এমনি', 'সেজন্য', 'গন্ধ', 'দাঁড়', 'পারিস', 'দ্রুতই', 'সেদিকে', 'থামল', 'কাঠ', 'ছিলো', 'গা', 'বলিস', 'মৃদু', 'নকশা', 'হে', 'আত্মবিশ্বাস', 'পারেননি', 'কৌশল', 'ফেরা', 'আসত', 'সজোরে', 'সন্ন্যাসীর', 'অতীত', 'দাঁড়াতে', 'সাইফের', 'করিডোর', 'প্রেম', 'লিখতে', 'চাদর', 'দেখলেই', 'চুলে', 'বাঁচতে', 'বাজারের', 'পদক্ষেপ', 'আঘাত', 'রক্তিম', 'তরুণ', 'ফুলে', 'অতিক্রম', 'কোনদিন', 'নিচ্ছে', 'দেখেনি', 'রক্তের', 'যুবকের', 'নিয়েছেন', 'প্রধানের', 'মেয়েদের', 'বিপরীত', 'আগ', 'দেহ', 'শীতের', 'রোদ', 'সমাধান', 'সূর্যোদয়', 'অর্ধেক', 'জানিস', 'গিয়েছে', 'গুলোকে', 'মাসে', 'থাকব', 'আজও', 'বাংলাদেশে', 'সাজিয়ে', 'তিস্তা', 'চোখগুলো', 'মাথাটা', 'রয়েছে', 'জানিয়ে', 'মোড়', 'পরিবার', 'কিছুক্ষণের', 'চাইবে', 'মহাজন', 'নওদাকে', 'খবরটা', 'ইশারা', 'ঘন', 'বৃষ্টিতে', 'ফুটেছে', 'আমায়', 'পাথর', 'তবু', 'নিলাম', 'ক্ষতি', 'চিন্তায়', 'গালে', 'সাপ', 'প্রকৃতির', 'ফলাফল', 'আমিতো', 'গরম', 'দুপুরের', 'দ্বিতীয়বার', 'লাগানো', 'সুস্থ', 'নামাজ', 'পারতেন', 'উঠানে', 'রাজ্য', 'বহু', 'অদৃশ্য', 'কসবিখানায়', 'অনিবার্য', 'গোপনীয়তা', 'বদ', 'জানত', 'কখনোই', 'আউলা', 'লাগিয়ে', 'ফোঁটা', 'পারিনি', 'দেখবো', 'ভিড়', 'গ্রহণ', 'সম্বিত', 'মেয়েকে', 'মোড়ে', 'তোদের', 'পাখির', 'সেগুলো', 'কারা', 'করেননি', 'খড়', 'করবি', 'ঘুরছে', 'বুঝলেন', 'দীপা', 'সমস্ত', 'দিব', 'মেঝেতে', 'করাতে', 'আহত', 'আপাতত', '-আপনি', 'পাঠিয়েছে', 'বেড়িয়ে', 'কামরার', 'কন', 'এদিকে', 'ঘুমের', 'অসম্ভব', 'ছেয়ে', 'আত্মা', 'আওয়াজ', 'ফুঁড়ে', 'স্রোত', 'পলক', 'একমুহূর্ত', 'বার্তা', 'মূসাকে', 'এমদাদ', 'ধারণ', 'পরশ', 'ঘন্টার', 'থমকে', 'ভাগ্য', 'হকচকিয়ে', 'সাত', 'আশায়', 'লাশ', 'বিভিন্ন', 'সমন্ধে', 'কুৎসিত', 'দিপু', 'খাই', 'চলবে', 'নানান', 'চাঁদের', 'এমনটা', 'প্রেমিক', 'পারলাম', 'ঢুকেই', 'পিছন', 'কল্পনায়', 'দৃশ্যটা', 'জানাল', 'ছুটছে', 'গেছে।', 'গুড়', 'তেমনি', 'চলো', 'লজ্জা', 'ঠিকই', 'মানুষগুলো', 'ডাল', 'ধাক্কা', 'চাচ্ছেন', 'ব্যবসা', 'আশার', 'গোলাপ', 'আছো', 'উৎকণ্ঠা', 'বস্তুটা', 'খাচ্ছে', 'উড়িয়ে', 'গাঁয়ে', 'পথটা', 'মানব', 'মিশিয়ে', 'বলল-', 'পাত্র', 'সারি', 'দ্বিগুণ', 'স্বপ্নটা', 'দোরানের', 'চেনে', 'রাজা', 'হয়না', 'সাক্ষী', 'আতুর', 'রা', 'চাইলেন', 'উত্তেজিত', 'উৎসর্গের', 'ঝিম', 'কাঠিন্য', 'ধারণাই', 'এগুলো', 'প্রস্থান', 'মধ্যরাত', 'এখান', 'খায়', 'বাংলাদেশ', 'দুপুরে', 'কারাগার', 'বিপদে', 'এভাবেই', 'পেটে', 'অর্জন', 'ধারে', 'ভালোর', 'টানা', 'পাওয়ার', 'তুলনা', 'ভাবলাম', 'কাম', 'দায়িত্বে', 'নাম্বারি', 'সাইফকে', 'দেখুন', 'নিরাপদ', 'পরিচারিকা', 'ঘৃণা', 'ভোর', 'কইলো', 'হও', 'অভিশাপ', 'শাসন', 'ক্ষোভ', 'নন', 'ভোরে', 'বসলাম', 'দিলো', 'কাকে', 'নীলকান্ত', 'পলকে', 'দেশে', 'হয়েছে।', 'কেঁপে', 'ইদানীং', 'ভরা', 'দেখাতে', 'তারই', 'ইভানের', 'কবিতার', 'কাঁধ', 'কাপড়ে', 'নাবিলা', 'বর্ণনা', 'জরুরি', 'মোতাহার', 'রহস্য', 'আসতেই', 'হারানোর', 'কথাও', 'লুটিয়ে', 'আব্বা', 'সুরে', 'চালাতে', 'অস্তিত্ব', 'খুজে', 'প্রত্যেকটা', 'তাকাও', 'শিক্ষক', 'ধন্যবাদ', 'ঝড়ে', 'ছুটি', 'মেয়েটাকে', 'এখুনি', 'বাচ্চা', 'আলোক', 'পৃথিবীতে', 'মেলাতে', 'কংক্রিটের', 'আলোর', 'অভিজ্ঞতা', 'অবিশ্বাস', 'পেলাম', 'শিমুল', 'কতটুকু', 'ঘটনার', 'ডাবরিকে', 'অনেকেই', 'লাইন', 'একেকটা', 'কোয়ার্থ', 'ডাইরী', 'পাকা', 'বৈঠক', 'ওটা', 'এমনিতে', 'চাইছেন', 'আবৃত্তি', 'পশুর', 'পাল্লা', 'তখনি', 'ধুয়ে', 'আজো', 'সিঁড়ির', 'গুটিয়ে', 'থাকবো', 'সিগারেট', 'নাটক', 'বেশিক্ষণ', 'করতেন', 'প্রহরীর', 'ছাদেককে', 'আরেক', 'অট্টালিকা', 'মরে', 'কেবল', 'গাছটার', 'দড়ি', 'রোদে', 'সবই', 'আমতা', 'স্বাধীনতা', 'প্রাসাদের', 'থিওরি', 'লেখক', 'পাতলা', 'নেশা', 'ফেলানর', 'প্রশ্নই', 'ভালোবাসে', 'ছেলেটাকে', 'স্বাদ', 'শীতল', 'সন্তুষ্ট', 'শিহরণ', 'তুমিও', 'প্রতিক্রিয়া', 'ঢোকার', 'বিচলিত', 'প্রাণের', 'বুদ্ধি', 'আনে', 'চৌদ্দ', 'শাড়ি', 'সূর্যটা', 'গ্রাস', 'আইডিয়া', 'হইলো', 'ব্যয়', 'বিনোদনের', 'আসলাম', 'হার', 'উৎসাহ', 'পেলেন', 'প্রশিক্ষণ', 'বিদ্যুৎ', 'এখনি', 'ফেলছে', 'ঝুঁকে', 'স্ট্র', 'বুঝলাম', 'ভেড়া', 'নিবদ্ধ', 'খুনের', 'জুলফিতে', 'করলেও', 'বাইরের', 'নালীতে', 'নেবার', 'রুমে', 'ততক্ষণে', 'কমপক্ষে', 'ব্যাগ', 'স্থানে', 'দেয়নি', 'এছাড়া', 'হাঁটা', 'দখল', 'বেঁকে', 'জসুয়াকে', 'সহ', 'পুনরাবৃত্তি', 'প্রকাশ', 'যেদিন', 'প্রবেশের', 'চায়ের', 'আমারা', 'থানায়', 'স্মৃতির', 'মেষ', 'পূর্ব', 'ধীর', 'বর্ষায়', 'পাঠানো', 'শুকনো', 'ভয়ের', 'কোয়ার্থে', 'সায়ন্তন', 'ফাঁক', 'ঝেড়ে', 'হন', 'টিকে', 'বলেছিলাম', 'হারানো', 'অধিকাংশ', 'রাজ্যে', 'জিজ্ঞাসা', 'সেকথা', 'শীতে', 'মস্তিষ্কে', 'মেশানো', 'হৃদয়', 'দুরত্বে', 'ভাঙনে', 'বাড়িটা', 'হাসল', 'ঘাড়ে', 'পর্যায়ে', 'দেখানো', 'হাঁটার', 'পদক্ষেপে', 'ক্যান্তরকে', 'ভৃত্য', 'প্রান্তে', 'ওয়াইন', 'আর্তনাদ', 'মাঠে', 'খেলার', 'রকমে', 'দিতেই', 'নরক', 'উল্লাস', 'ইশারায়', 'প্রয়োগ', 'স্বস্তি', 'বৈঠকের', 'জল', 'জ্বিন', 'তিনটা', 'বিখ্যাত', 'ইভানকে', 'বললেও', 'বাংলাদেশের', 'স্নেহ', 'দিমিত্রিভ', 'দয়া', 'ঠাট্টা', 'সহজে', 'তীব্র', 'সামরিক', 'ছিলে', 'নাও', 'ভাষা', 'দিচ্ছেন', 'টেবিলে', 'আনন্দ', 'মস্তিষ্ক', 'মধ্য', 'কাকটা', 'চুরি', 'আঁচ', 'করাই', 'টাকার', 'একেক', 'এসেছো', 'হারাতে', 'ভোরের', 'বেশিরভাগ', 'কাটার', 'এসো', 'ভাসছে', 'বিস্তীর্ণ', 'ক্লান্তি', 'নির্বিকার', 'নাহ', 'হেলে', 'প্রতিবার', 'অদূরে', 'ভেনাস', 'গাঢ়', 'তোমায়', 'ঘুমাতে', 'তারও', 'মধ্যেই', 'হিংস্র', 'অপমান', 'গ্রামের', 'কপালের', 'মুখেও', 'একরকম', 'জানাতে', 'গর্জন', 'প্রতিযোগিতা', 'গলিপথ', 'গেঁথে', 'কিনে', 'রুদ্র', 'পেটের', 'পত্র', 'অন্যজন', 'বাড়াল', 'বিস্মিত', 'কাগজের', 'মুগ্ধ', 'কাছের', ':', 'ছাদ', 'দুজনই', 'কদম', 'সর্বোচ্চ', 'মানায়', 'ভেবেছিল', 'লাঠিগুলো', 'নামার', 'রাখছে', 'নয়তো', 'ফড়িয়ার', 'অবিশ্বাসের', 'সাইকেলের', 'পারছো', 'আলকানতারাও', 'নরম', 'বিকেলে', 'গম', 'নাক', 'চারপাশ', 'ছাপ', 'কাহফকে', 'বয়স্ক', 'বইছে', 'আসছি', 'ঝুঁকি', 'পালন', 'পুলিশ', 'চেয়ার', 'থাকলো', 'জ্বালিয়ে', 'কল্পনাও', 'আকড়ে', 'আনল', 'কাঁটা', 'শূণ্যে', 'নিমিষে', 'সাইকেলে', 'দিকেই', 'কৃষ্ণ', 'মোড়ের', 'ঝকঝকে', 'পড়ালেখা', 'শুধুমাত্র', 'মাঝরাতে', 'বিলের', 'একদা', 'প্রকাণ্ড', 'নাস্তা', 'ঘরটায়', 'আগমন', 'তারাই', 'চাইলো', 'পৌঁছাতে', 'এখনও', 'বাসা', 'লোকটাকে', 'পাব', 'সম্পদ', 'তাঁর', 'ক্ষমতায়', 'লিখেছে', 'কুকুরটাকে', 'একদম', 'জলরাশি', 'বেচারা', 'দানা', 'পরিবেশ', 'রাণীর', 'ঠেলে', 'ত্রিশ', 'যতদূর', 'স্রেফ', 'ঢেউ', 'এসেই', 'শুক্লার', 'এমনকি', 'প্রশস্ত', 'পোশাক', 'পাল্টা', 'জ্বী', 'বৈঠকখানায়', 'গিয়েছিলেন', 'যাবি', 'কাঁপা', 'বিয়ের', 'খেলায়', 'ওহ', 'ছয়', 'লালকুঠির', 'কাঙ্ক্ষিত', 'কাক', 'রংধনু', 'দুপুর', 'দালালের', 'হাতেই', 'বেগে', 'তাকাতেই', 'নকশাটা', 'রেখেই', 'গুণ', 'এইটা', 'উপরের', 'আরে', 'বানানোর', 'এনেছে', 'কসবির', 'পলাতক', 'তৎক্ষণাৎ', 'বসার', 'রায়', 'লাঠিটা', 'স্যারের', 'জায়গাটা', 'অন্যরকম', 'ক্ষুদ্র', 'খয়বারের', 'উদাহরণ', 'খয়বার', 'মাঝপথে', 'পাড়ের', 'বুবুর', 'পানে', 'চারজন', 'ইঙ্গিত', 'একাই', 'জমি', 'প্রেমে', 'রতনের', 'সালেহা', 'নেই।', 'মঞ্চে', 'ফেললেন', 'দিলেই', 'জানালায়', 'আলেয়া', 'বর্শা', 'পানিতে', 'একসময়', 'বিশ্রী', 'কেন্দ্রে', 'ভবিষ্যত', 'বললো', 'মজার', 'ত্যাগ', 'রহস্যময়', 'মেজাজ', 'কতো', 'মারার', 'স্বস্তির', 'এবারে', 'ব্যবধানে', 'সবটা', 'সোনালী', 'মুখেই', 'নামছে', 'দৃষ্টির', 'অক্ষরে', 'মাঝ', 'প্রাণে', 'দাঁড়ানো', 'পড়াশোনা', 'জানালো', 'মেয়েরা', 'আনমনে', 'অতীতে', 'আলখাল্লা', 'খোঁজে', 'চেহারার', 'পাড়', 'পেরিয়ে', 'এইসব', 'সায়', 'সহজাত', 'স্রোতের', 'পরা', 'মূল্য', 'ক্ষুধা', 'তিনজন', 'গাল', 'উঠলেন', 'অংশে', 'দেখিয়েছে', 'তুলতে', 'বাজে', 'যেতেই', 'কারও', 'অস্বস্তি', 'হয়েছেন', 'আনন্দে', 'পাঁচ', 'পেছনের', 'চেয়েছিলাম', 'আগমনে', 'অধিপতি', 'বারের', 'চাবি', 'জানলে', 'ঝাঁপিয়ে', 'উড়ছে', 'এপাশ', 'গণিত', 'হুমকি', 'আমৃত্যু', 'শান্তি', 'হতাশা', 'প্রফুল্ল', 'মশাল', 'অস্বাভাবিক', 'অপেক্ষার', 'কটাক্ষ', 'থাকতো', 'বিনিময়', 'সম্রাজ্যের', 'শত্রু', 'মানিকের', 'চরের', 'এসেছিলেন', 'নিঃশ্বাসে', 'ঘামে', 'মুখস্থ', 'রাখলেন', 'ডাইরীটা', 'অথবা', 'রাশেদ', 'গোছানো', 'হবেন', 'ব্যতিক্রম', 'ভাববে', 'রাবেয়া', 'ভাবা', 'সর্বত্র', 'ধূসর', 'প্রতিচ্ছবি', 'রূপার', 'কাটছে', 'ফলে', 'বলেছিল', 'আটকাতে', 'পরিশ্রম', 'এটাকে', 'বাস', 'গুলোর', 'ধরিয়ে', 'ছাউনি', 'জিজ্ঞাসাবাদ', 'পথচলা', 'জলে', 'হোসেন', 'শেকড়', 'পরপর', 'দুর্বল', 'ক্ষমতার', 'চতুর্দশী', 'অন্যান্য', 'পাতার', 'পক্ষ', 'করেছিলাম', 'রাজপথে', 'সাধারন', 'হাসপাতালে', 'সত্যিই', 'বিরিয়ানী', 'ফসলের', 'রেখেছি', 'জানিনা', 'প্রাণপণে', 'যেমনটা', 'সৈকত', 'পারছিনা', 'অস্থির', 'টেবিল', 'প্রাসাদ', 'অশুভ', 'রীতিমত', 'বীভৎস', 'মাড়িয়ে', 'পার্থক্য', 'বোঝানোর', 'বাঁচার', 'নয়।', 'সবটুকু', 'চিরন্তন', 'অজান্তেই', 'সুউচ্চ', 'ঘাস', 'সেরে', 'নির্মল', 'বামে', 'বেরোতে', 'হিসেব', 'নিয়েছি', 'বেতন', 'প্রাচীন', 'গতবারের', 'কর্ম', 'ছাড়িয়ে', 'পূরণ', 'এসেছি।', 'রাশেদের', 'ম্যাসেজ', 'করিস', 'বৃত্তি', 'কারনে', 'তৈরির', 'শিরায়', 'দৃঢ়', 'সর্বশক্তি', 'ভাবছি', 'স্বচ্ছ', 'ডানে', 'প্রহরীরা', 'শিশু', 'বসানো', 'নাটকের', 'জলপ্রপাতের', 'ইতস্তত', 'ক্ষমতাসীনদের', 'চলেছি', 'ধাপে', 'ভেজা', 'অনবরত', 'তয়', 'গলার', 'রাত্রি', 'শোনে', 'ছদ্মবেশ', 'বিষ', 'দুজনকে', 'যাকে', 'টুকরো', 'গাড়ি', 'মাসের', 'সংবাদটা', 'চরে', 'কাছাকাছি', 'মোড়ানো', 'নগরীর', 'দুরত্ব', 'নিয়েছিল', 'সুখবর', 'যাচ্ছিস', 'কামরা', 'করিডোরে', 'আসেননি', 'তত', 'ভবনে', 'বাবাও', 'স্বীকার', 'তামাক', 'পাতাগুলো', 'বালুচর', 'ধানক্ষেত', 'এনে', 'বার্তাবাহকের', 'শোভা', 'আজন্ম', 'মিছিলে', 'ভবনের', 'করুক', 'পর্দা', 'প্রদীপ', 'বিপক্ষে', 'আবদার', 'ডাবরিবাসী', 'ধরেই', 'মানা', 'বাঁচিয়ে', 'নয়নে', 'আমি।', 'বার্তাবাহক', 'সরছে', 'সূচক', 'ভাবতেই', 'নিরাপত্তা', 'হব', 'বিনয়', 'মিলেছে', 'সমর্থন', 'সাম্রাজ্যের', 'আসবেন', 'উবে', 'অবশিষ্ট', 'আঙুল', 'ভ্রুক্ষেপ', 'সুপারি', 'সংশয়', 'অপরাধী', 'বন্ধুকে', 'অব্যাহতি', 'মিমপি', 'এমনই', 'হ', 'পর্ব', 'সেকি', 'কড়া', 'হাতগুলো', 'চিহ্ন', 'প্রবল', 'গোটা', 'সমস্যার', 'অর্থের', 'যাব-', 'বিপরীতে', 'রাজপথ', 'নিচের', 'দেবিদ্বারের', 'বৃথা', 'বমি', 'দপ', 'আদিম', 'হাসির', 'উঠবে', 'জামা', 'আঁকা', 'হাজতে', 'মারতে', 'কারন', 'এগোতে', 'মার', 'শুনেই', 'বাহিনী', 'ভাবলো', 'এরাই', 'সংখ্যা', 'শোধ', 'আসছিল', 'হাসিটা', 'সফল', 'ছুরি', 'পাগলের', 'ফুটল', 'চিন্তাটা', 'চাড়া', 'গায়ের', 'ফিসফিস', 'চলি', 'আউলিয়াখানার', 'নৌকা', 'আশ্বাস', 'নেড়ে', 'মোরে', 'এতো', 'আতংক', 'স্তুপ', 'সরবরাহ', 'ফেলার', 'দলপতি', 'বড্ড', 'ভেবেছি', 'রেজাল্ট', 'দেখাল', 'মোটেই', 'শ্রেণীর', 'বিদ্রোহের', 'ডেমিটনরা', 'উজ্জ্বল', 'করতাম', 'বিড়বিড়', 'মুক্তির', 'বর্ষার', 'গাড়িতে', 'জিজ্ঞাসু', 'সত্যটা', 'বেরোনোর', 'রূপে', 'রূপকথা', 'দালালদের', 'জোরালো', 'আদেশ', 'ধরার', 'যাত্রায়', 'বাহ', 'ছিঁড়ে', 'আপত্তি', 'কৌশলে', 'সন্দেহের', 'উদয়', 'সহকারে', 'কষ্টে', 'মানসিক', 'দিচ্ছিল', 'ঘাতক', 'খুঁজেছি', 'আমকে', 'লজ্জায়', 'গিয়েই', 'ওখানেই', 'সত্যের', 'সন্ধান', 'বউ', 'গুপ্তচর', 'নিলে', 'খুলতে', 'কেটেছে', 'বিকেলের', 'অভাবের', 'ধোঁকা', 'পুরনো', 'রক্তে', 'চলছি', 'যেহেতু', 'অসমাপ্ত', 'প্রসস্ত', 'অভিনয়', 'রতনকে', 'ঋণ', 'শাণ', 'গড়ে', 'পরস্পরকে', 'এবারের', 'প্রতিনিয়ত', 'মানেই', 'মুরাকিব', 'দোষারোপ', 'থাকায়', 'শিশুর', 'মধুর', 'ধ্বংস', 'দোরানকে', 'পারতাম', 'নিরাপত্তার', 'রাজ', 'চলল', 'নিয়মিত', 'পুরোটা', 'বিদ্যা', 'বাকিটা', 'সপ্তম', 'মেয়েগুলো', 'বলছো', 'কসবি', 'লাশের', 'প্রতিরক্ষা', 'ফুট', 'ধপ', 'ভেনেনিফারের', 'সেকেন্ড', 'ধরছে', 'মুশকিল', 'মরিচ', 'পালাতে', 'পারলেই', 'দলপতির', 'ভয়ংকর', 'হোটেল', 'ফেলেছেন', 'ঢের', 'ডুবিয়ে', 'বইয়ে', 'গ্রামে', 'হওয়ায়', 'আট', 'বেশিই', 'রাখেন', 'বিনা', 'চলেছেন', 'পানীয়', 'নামতে', 'শুনেছে', 'উল্টা', 'আভা', 'ইতিহাসের', 'বিশালপুর', 'সঞ্চয়', 'চিন্তাগুলো', 'উদ্ধার', 'চাঞ্চল্য', 'ভাবনার', 'থেকো', 'বহুদিন', 'প্রয়োজনীয়', 'পরই', 'জ্ঞানের', 'এমনটাই', 'দাঁড়ি', 'রং', 'সাইফুলের', 'দুশ্চিন্তা', 'লো', 'কিছুক্ষন', 'বিব্রত', 'আস্ত', 'প্রতিযোগিতায়', 'মেঘে', 'বালুচরে', 'পুড়ে', 'দাগ', 'ভাঙ্গনকে', 'তিনিও', 'রওনা', 'ছিল।', 'সাহায্যের', 'পিছু', 'ঝড়ের', 'ঘটে', 'পদ্ম', 'তুলেছে', 'রূপাকে', 'সঙ্গ', 'ভণিতা', 'দাদার', 'তুলল', 'পেট', 'ঘুরলেন', 'ঠোঁটের', 'মন্দিরে', 'মূর্তি', 'ঘুরল', 'কথা।', 'ফুটিয়ে', 'পায়নি', 'করেছিলেন', 'শিখা', 'পরমুহূর্তে', 'ভবন', 'পরনে', 'কাঠামো', 'অর্ডার', 'রেল', 'পিলে', 'প্রবাহিত', 'পশু', 'নারীর', 'অনেকক্ষণ', 'ছাদের', 'জারি', 'ভীষণ', 'জুয়া', 'ঘোর', 'জাল', 'পাতায়', 'ভাঙে', 'খোলার', 'যুগ', 'বছরে', 'পিঠ', 'আক্রোশে', 'পরশের', 'ভাবলে', 'অনেকগুলো', 'ফেরানো', 'শক্তির', 'অন্যায়', 'সন্তানের', 'পরিচারিকার', 'ওপরে', 'পাথরের', 'বাড়াতে', 'অসম্পূর্ণ', 'নির্ঘুম', 'পায়চারি', 'অপ্রত্যাশিত', 'মন্দির', 'ছাড়', 'নিমিষেই', 'সতর্ক', 'পাল্টে', 'ছলছল', 'বাঁচাতে', 'ডানা', 'প্রতিধ্বনি', 'নিক্ষেপ', 'দায়ী', 'ধৈর্য', 'ইতিবাচক', 'শাস্তি', 'সুপারিশ', 'হাটে', 'অস্পষ্ট', 'বাষ্প', 'পরম', 'ওবায়দুরকে', 'ভালোভাবেই', 'পড়লাম', 'ভাঙ্গনবাসীর', 'ব্যস্ততা', 'দাদা', 'উঁচিয়ে', 'আসো', 'এসেছিলাম', 'খাচ্ছেন', 'ডাকা', 'খায়রুল', 'দেখেছো', 'বললেই', 'ডিম', 'বইটা', 'পেরেছেন', 'ওপাশ', 'দারোয়ান', 'প্রথমেই', 'হইছে', 'দেওয়া', 'নির্ভার', 'কইলাম', 'মাস', 'পাঠাতে', 'অন্যতম', 'সদস্য', 'গরিবের', 'পরীক্ষার', 'বাটি', 'অধিকাংশই', 'উচ্চারণ', 'থাকতেই', 'রোকসানাকে', 'তরকারি', 'আবিষ্কার', 'আল্লার', 'বিরোধীতা', 'ক্রমাগত', 'রোগ', 'ওপাশে', 'বোমা', 'এস.আই', 'হুম', 'দাওয়াত', 'বসেছেন', 'ঘাবড়ে', 'আনার', 'আছিস', 'সহজেই', 'চুমু', 'গোসল', 'চাল', 'উত্তরে', 'পাত্তা', 'তৃপ্তি', 'ভোরবেলা', 'ক্যামনে', 'আল্লা', 'সোনালি', 'তোলার', 'বেড়াতে', 'আপায়', 'বিনীত', 'গেটের', 'যাইতে', 'প্রকৃতি', 'অসাধারণ', 'ভাষায়', 'আড়ালে', 'ক্ষেত্রে', 'মিল', 'একটার', 'চেয়েছে', 'হয়েছি', 'সামলাতে', 'বাড়িটার', 'আর্ট', 'নিতান্ত', 'বাড়ে', 'লেগেছে', 'মৃত্যুকে', 'জন্মের', 'বরাবর', 'মানতে', 'রাহিকে', 'আছ', 'আবছা', 'নিঃপ্রাণ', 'ঝাড়', 'বেশির', 'মানুষটা', 'দিয়েও', 'আছেই', 'পাচ্ছেন', 'জানতেন', 'দিগন্ত', 'উপেক্ষা', 'সময়ই', 'একটুও', 'কানের', 'জন্যেই', 'সঠিক', 'কবর', 'বোনকে', 'প্রভাবিত', 'দোকানদার', 'বসিয়েছে', 'ঘনিয়ে', 'সৃষ্টির', 'বসবে', 'পান', 'নিশো', 'জানানোর', 'ফড়িয়াদের', 'ছড়িয়েছে', 'রুটি', 'প্রকৃত', 'মারামারি', 'সুবিধার', 'মুদ্রার', 'চর', 'এবিষয়ে', 'চুমুক', 'অবকাশ', 'দশটা', 'খোঁজার', 'হয়-', 'উঠেছিল', 'সকলেই', 'বক', 'ফড়িয়া', 'ঢোক', 'গলে', 'জীর্ণ', 'ভাঙা', 'আগুনের', 'আগুনে', 'অনেকবার', 'শত্রুর', 'তাকাচ্ছে', 'এসেছিস', 'ভ্রু', 'তাকেও', 'লাঠির', 'অপবিদ্যার', 'আজকাল', 'দেখানোর', 'নিরেট', 'কইরা', 'একরাশ', 'হাসিতে', 'ফুফুর', 'পুরোটাই', 'হাজির', 'যাচ্ছিলাম', 'রেপ', 'নাড়ি', 'দ্বিধান্বিত', 'চওড়া', 'পাচ্ছি', 'ওনাকে', 'এযাত্রায়', 'হুট', 'কাকা', 'কুকুরের', 'পারিনা', 'ছিটে', 'শেষোক্ত', 'পারবো', 'স্বাক্ষর', 'দুয়েক', 'অন্ধকারের', 'বারান্দা', 'চিমনি', 'সুদের', 'থাকবেন', 'বুঝবে', 'ভাঙ্গে', 'হাজারো', 'অভিজ্ঞতার', 'পড়েছি', 'চমক', 'অধিক', 'অবনতি', 'ভাবি', 'একটানা', 'পড়ন্ত', 'একজনই', 'খসে', 'ভাবছেন', 'দেখো', 'পরিমাণ', 'মতে', 'নভোচারী', 'শোনালো', 'বিরিয়ানীর', 'উঠলো', 'দেখতাম', 'বস', 'ল্যাম্পপোস্টের', 'সুদীর্ঘ', 'ডুব', 'কাজটাই', 'কালকে', 'ধমক', 'রাজকন্যা', 'হবেই', 'বোধগম্য', 'দেখাবে', 'ছাপিয়ে', 'রাখবেন', 'দিছি', 'যতটুকু', 'চাঁদটা', 'পেশ', 'আশংকা', 'আশেপাশে', 'স্রোতে', 'খেয়েছে', 'ফটক', 'ক্লাসের', 'বর্ণের', 'ভূমির', 'প্রান্তর', 'চরিত্রের', 'বাচ্চার', 'এতেই', 'কসবিখানার', 'ফসল', 'জমিতে', 'রাখলে', 'দেখলেন', 'শুনল', 'অট্টহাসিতে', 'দাঁড়ালেন', 'সহকারী', 'দিগন্তে', 'মেনশন', 'ধাপ', 'বসলেন', 'এলাকায়', 'ভূমি', 'সরল', 'কটা', 'আসবি', 'অভিযোগ', 'হাড়ে', 'দিছে', 'আহ্বান', 'কালা', 'ক্ষৌণীর', 'কল্প-প্রতিমা', 'বাঁধানো', 'ভাইয়া', 'আলিঙ্গন', 'সাম্রাজ্য', 'মহিলা', 'এধরনের', 'খাইতে', 'সঙ্গিনী', 'করলি', 'অধীর', 'মিথ্যার', 'দাড়', 'অধিকার', 'তাইতো', 'ঝাপসা', 'দিকের', 'জিনিসটা', 'যাবে।', 'চুলগুলো', 'সুন্দরী', 'বানায়', 'নিচ্ছেন', 'জাসপারকে', 'ভাইকে', 'তলা', 'দুইয়ে', 'বানোয়াট', 'থাকলেই', 'সদৃশ', 'কন্ঠে', 'কয়', 'ভাবাচ্ছে', 'হুবহু', 'বাবা-মার', 'পরিবেশন', 'ভাঙ্গনবাসী', 'বিছিয়ে', 'শোনাল', 'ভেবেই', 'তাকাতে', 'বসাতে', 'দেখেন', 'আপনারে', 'অতিরিক্ত', 'দাই', 'বাচ্চাটাকে', 'জনতার', 'শ্লোগান', 'কাঠি', 'ঠোঁট', 'শ্রেষ্ঠত্ব', 'এগোল', 'তাড়নায়', 'হাফ', 'কাইফকে', 'সৎকার', 'একযোগে', 'ঝাপটা', 'সেদিনের', 'উর্দি', 'রাখাল', 'কিচ্ছু', 'মূলভবনে', 'খঞ্জর', 'বাড়িতেই', 'তোলা', 'বাচ্চাটা', 'রাজার', 'করছিস', 'সুড়ঙ্গ', 'খড়ের', 'বিস্ফারিত', 'যেই', 'নই', 'আমিই', 'জোড়', 'ভবিষ্যৎ', 'সাড়াটা', 'যতো', 'করুণ', 'আবিদকে', 'মঙ্গল', 'কুয়াশা', 'নত', 'সূর্যাস্ত', 'বিকট', 'ধ্বংসের', 'সত্ত্বেও', 'চেয়েছিল', 'প্রায়শই', 'ভার', 'বলয়', 'খোঁজা', 'সেজন্যই', 'বসেই', 'ভয়টা', 'পড়েছেন', 'সামিল', 'আনন্দের', 'ধরুন', 'ভূমিকা', 'মাঠের', 'সমাপ্তি', 'ছবিটা', 'সরাতে', 'হাট', 'অবস্থানে', 'প্রচেষ্টা', 'দক্ষিণ', 'খোপ', 'ইতিহাসে', 'অনুমোদন', 'রিক্সায়', 'জননীর', 'অবিচার', 'ক্যানভাস', 'তুলি', 'ফজরের', 'শূণ্য', 'চুলায়', 'সকালের', 'ওয়ালিদদের', 'ঢাকায়', 'কেন্দ্র', 'চিবুক', 'অভিজাত', 'বেড়েছে', 'গরুর', 'দীপার', 'সামান্যতম', 'সেরাদের', 'অসন্তোষ', 'মাছের', 'শেষবারের', 'আশেপাশের', 'প্রজন্ম', 'চোখেও', 'পাহারায়', 'সীমা', 'শ্বাস', 'ঃ', 'গড়নের', 'ব্যর্থতা', 'পাবার', 'গতকাল', 'আরাম', 'চলার', 'সিরিজ', 'আপনা', 'রোজা', 'হাস্যকর', 'ছটফট', 'মরার', 'ঝুলানো', 'খুঁড়িয়ে', 'নেন', 'করব।', 'পারে।', 'ওপারে', 'এগোচ্ছে', 'শিশির', 'ফুরিয়ে', 'কতগুলো', 'পৌঁছেছে', 'বেড়েই', 'দেবেন', 'সম্পর্কের', 'মাফ', 'প্রস্থানের', 'রেগে', 'সেখানেও', 'ঢুকলাম', 'রত্ন', 'নেতা', 'দেব।', 'পরোয়ানা', 'দিবি', 'যাচাই', 'দফা', 'হয়া', 'চামড়া', 'পারলো', 'কাহিনী', 'ব্যাগে', 'প্রত্যাশা', 'দূরত্ব', 'চাহিদা', 'জঘন্য', 'ভাঙার', 'টাকায়', 'বলিনি', 'পথিক', 'দাম', 'চক্রবর্তী', 'চাচার', 'বোঝানো', 'পরিকল্পনার', 'ভরাট', 'শীঘ্রই', 'অনুযায়ী', 'হই', 'নগরী', 'চড়ে', 'গভীরে', 'নিকশ', '-না', 'সুবাস', 'প্রথমবার', 'অন্যকে', 'মাত্রা', 'ঠিকানায়', 'মদ', 'আয়েদিস', 'আমারো', 'মোবাইল', 'প্রেক্ষা', 'চাপ', 'গ্রহন', 'কেনা', 'সাধ্য', 'অপেক্ষাকৃত', 'ভদ্রলোক', 'রুকাইয়াকে', 'অন্যরা', 'ডাকলে', 'নাড়িয়ে', 'ওয়াজ', 'দুর্বলতা', 'টিফিন', 'জাবিরকে', 'বন্দোবস্ত', 'ময়দানে', 'নিরাশ', 'রুমের', 'মহা', 'পড়লেন', 'জেলে', 'আটকানোর', 'বোকামি', 'পিছনে', 'নিতেই', 'আমারও', 'স্বামীর', 'রাতেই', 'আত্মীয়', 'গালি', 'কোণে', 'উল্টে', 'বাবুর', 'চালান', 'অভিমান', 'নির্বোধ', 'গতবার', 'শর্ত', 'মিস্ত্রি', 'হাওয়া', 'দেখিনি', 'কাউকেই', 'বস্তুর', 'আপনিও', 'ধারের', 'ঘোরে', 'নইলে', 'জানলেন', 'হাওয়ায়', 'দমকা', 'পাহারা', 'কারণেই', 'উচ্চতায়', 'ভালোবাসেন', 'অবচেতন', 'নৌকায়', 'হেলান', 'খেলছে', 'ছুটতে', 'আশ্চর্য', 'গতরাতে', 'ভাবেই', 'শিরিনের', \"''\", 'অস্বীকার', 'সবকিছুই', 'চায়না', 'যুগে', 'বিদ্রোহ', 'ফ্যাকাসে', 'জানতাম', 'নিয়ন্ত্রণের', 'ঘুমাচ্ছে', 'অর্থে', 'আগামীকাল', 'মহাবিশ্বের', 'সবে', 'বেড়ায়', 'স্বর', 'পরবর্তী', 'ধবধবে', 'সন্তানকে', 'পড়', 'ঘ্রাণ', 'ছুট', 'বসেন', 'লেখাপড়া', 'লা', 'নিচ', 'জড়ো', 'প্রবেশাধিকার', 'নিলো', 'ঘা', 'ছিলি', 'ই', 'ততই', 'খুজতে', 'জেনেই', 'একশ', 'ছোকরা', 'ঠোঁটে', 'আসিস', 'হ্যালো', 'থাকতাম', 'বিদেয়', 'ছড়ানো', 'মাংস', 'ঠায়', 'ক্রমশ', 'দেখলো', 'বাড়তে', 'দেখাই', 'ঘরটার', 'উচ্ছল', 'শিখিয়েছে', 'খাস', 'বাকিদের', 'ধাতব', 'নির্লিপ্ত', 'ভাঁজে', 'পারবি', 'মুহাম্মদ', 'পরিবারে', 'পড়ছেন', 'অঘোষিত', 'এক্ষুণি', 'টমি', 'চুক্তি', 'মৃতপ্রায়', 'প্রশিক্ষণে', 'মানুষেরা', 'ঘটেছে', 'দায়', 'চাই।', 'বিভাজন', 'বলছি।', 'মহান', 'তোমাকেই', 'ফুলগুলোর', 'ঘাড়ের', 'স্ত্রীর', 'পোষা', 'ধুলোর', 'হেটে', 'রংধনুর', 'তড়িৎ', 'একদিকে', 'সুখে', 'সেদিকেই', 'আমাকেও', 'এবারেও', 'সংবরণ', 'বাপ', 'শোনানো', 'বাণী', 'কথাটাই', 'ব্যতীত', 'নামল', 'এও', 'মেকি', 'মেধাবী', 'বলো।', 'প্রতিদান', 'কৃষক', 'ফেল', 'ঢুকিয়ে', 'কালি', 'সপ্তাহে', 'খুনী', 'ঢুকল', 'নীলাভ', 'বিরক্তির', 'ধরেন', 'বাড়ানোর', 'নির্ভয়ে', 'ক্ষনিক', 'হইলে', 'পেছনেই', 'দে', 'যত্ন', '১', 'আশপাশে', 'দেবিদ্বারে', 'তাকালে', 'ধানের', 'ঘেমে', 'ভালোভাবে', 'গিয়েছিলাম', 'ছুঁতে', 'হৃদয়ে', 'চুপচাপ', 'বয়সী', 'তবলা', 'ঠান্ডা', 'ইমাম', 'কণ্ঠটা', 'আক্কেল', 'খাবে', 'যন্ত্রণা', 'অভ্যস্ত', 'বাড়তি', 'হইবো', 'দুম', 'সহস্রকাল', 'পাঠিয়েছি', 'ব্যাগগুলো', 'ব্যাগের', 'হয়নি।', 'ভিক্ষা', 'সপ্তাহ', 'উদ্ভিদগুলো', 'দুঃখিত', 'গুম', 'আগলে', 'রক্ষার', 'ভিক্ষুকদের', 'লোকজন', 'ফিরলে', 'জীবন্ত', 'একি', 'টানটান', 'হচ্ছেন', 'পালাবদল', 'গালের', 'ঢুকছে', 'মূর্তির', 'কোট', 'টের', 'করানো', 'ভ্রমণে', 'চারপাশের', 'ঠাট্টার', 'অলৌকিক', 'কেজি', 'কোর্টে', 'হাশরের', 'আদায়', 'সেসব', 'পুঁজি', 'বিভ্রান্ত', 'বিশ', 'টোকা', 'আল্লাহ', 'করছিলাম', 'খাওয়াতে', 'জলপ্রপাত', 'বাসভবন', 'একাকার', 'গল্পে', 'এলান', 'চোরের', 'ভিড়ে', 'চেনেন', 'সারাজীবন', 'ভিজতে', 'পদধ্বনি', 'আক্রমণ', 'নিশ্বাস', 'লাফিয়ে', 'বুড়ো', 'সিঁড়িতে', 'সাময়িক', 'চাকু', 'শূন্যে', 'কপাল', 'কর্ণধার', 'পাবেন', 'বোঝাল', 'পেরে', 'মুদ্রা', 'বোকার', 'কতোটা', 'সেভাবেই', 'খাইলে', 'বাদাম', 'হবে-', 'দেখেছেন', 'চাপিয়ে', 'অবসান', 'বরফ', 'কিছুদূরে', 'উৎসব', 'দরবার', 'খেলতে', 'খাবেন', 'ফোয়ারা', 'চালানো', 'গানের', 'খাদ্য', 'বৃষ্টিস্নাত', 'আসব', 'কয়দিন', 'দেরিতে', 'রহস্যের', 'প্লেট', 'পারতেন।', 'লাফে', 'ডুলি', 'দিকটা', 'ঢিল', 'মেয়েটি', 'কমতি', 'ততটা', 'ভবিষ্যতে', 'আখ', 'বাস্তবে', 'ক্ষণিক', 'চোখকে', 'ষড়যন্ত্র', 'উদ্ভিদ', 'সবথেকে', 'নেতার', 'ভাবনাটা', 'দুলাভাইকে', 'স্বরূপ', 'শিহরিত', 'স্বজাতি', 'উঠি', 'নক', 'ভেদ', 'লাফ', 'থাকত', 'ঢোকা', 'আঙ্গুল', 'এগোতেই', 'কাপড়টা', 'স্তর', 'উঠিয়ে', 'দেখছিল', 'বেশে', 'আড়াল', 'বেহেশতে', 'জানতো', 'জেনেও', 'প্রয়োজনের', 'অবলম্বন', 'বহুদূর', 'শক্তিটুকু', 'সন্তুষ্টির', 'দিবেন', 'কলামাক্ত', 'ধোঁয়া', 'বিশৃঙ্খলা', 'পৌঁছানোর', 'জরুরী', 'কাগজে', 'লোককে', 'চেনার', 'প্রজন্মের', 'নাড়ালো', 'বইগুলো', 'বাকিরা', 'পিছলে', 'স্বাগত', 'ধী-আয়েদিসে', 'সুবিস্তৃত', 'উচ্চ', 'স্বচক্ষে', 'কার্যালয়', 'চরম', 'অপর', 'দ্রুততার', 'মিলিত', 'জাদু', 'চক্কর', 'আমলে', 'কলা', 'বলছিল', 'লোহার', 'দ্বিরেফও', 'তাতেও', 'আধুনিক', 'থাকল', 'ছাদটা', 'খটকা', 'সুখ', 'অগত্যা', 'কাঠে', 'নি।', 'পড়বেন', 'মূলভবন', 'চক্ষু', 'জীবিত', 'মাচার', 'পাত্রে', 'প্রমিতি', 'অঝোরে', 'বসা', 'হবি', 'ভাবলেন', 'গেট', 'যতক্ষণ', 'তুলছে', 'দেখেছিল', 'ভালোবাসার', 'আবেগ', 'দিনগুলো', 'মঙ্গলের', 'কৃষ্ণচূড়া', 'ডাবরিবাসীর', 'গোপনীয়তায়', 'কল্যাণ', 'গন্তব্য', 'কোনটা', 'পড়েনি', 'করোনা', 'মেতে', 'ফাঁকি', 'মারে', 'জীবনটা', 'ইচ্ছাটা', 'লাশটা', 'লাখ', 'জান্তব', 'নামবে', 'ঝরা', 'পেতাম', 'গল্পের', 'বাতলে', 'হারামজাদা', 'দেবী', 'হচ্ছি', 'যথারীতি', 'পাচ্ছিল', 'হাতছানি', 'রিভিউ', 'শপথ', 'ভাগ্যবান', 'ঘন্টাটা', 'পারেনা', 'নাহলে', 'চরণ', 'টিপটিপ', 'মাজতে', 'ব্যাগটা', 'প্রতিবারই', 'ছুমাইয়া', 'নকশার', 'ধৈর্যের', 'সংসার', 'দোকানটা', 'লাগাতে', 'জটিল', 'কবচটা', 'খুলছে', 'আসর', 'কুয়াশার', 'আকুতি', 'আধিপত্য', 'খরচ', 'দ্বিপ্রহর', 'পৃথিবীটা', 'নে', 'উড়ছিল', 'হাঁটাহাঁটি', 'চোয়াল', 'বর্তমান', 'জেঁকে', 'পেঁচা', 'পড়ি', 'কান্নায়', 'সত্তার', 'ছেলেরা', 'খুঁজছে', 'স্মরণ', 'পড়ত', 'পরেই', 'শেখা', 'বিক্রির', 'জনসমুদ্র', 'ফসকে', 'ফেনা', 'খাও', 'শহুরে', 'অসাড়', 'বাল্য', 'জিজ্ঞাস', 'হতাম-', 'নিয়ন্ত্রণে', 'সেহেতু', 'চলুন', 'পাঠিয়ে', 'খাড়া', 'লাইব্রেরি', 'ফাঁদে', 'রেখ', 'ছুটল', 'কৃত্রিম', 'জমানো', 'পিতার', 'খুশিই', 'একবারো', 'কষ্টের', 'বাসার', 'বাকী', 'মেলানো', 'ভেবেছ', 'ষোল', 'আঙিনায়', 'বক্তা', 'সুস্থির', 'তীরে', 'চরিত্র', 'আত্মিক', 'শিকড়', 'হবেনা', 'মাইয়ার', 'বুদ্ধিমান', 'জীবনে', 'চলায়', 'ভূমিষ্ঠ', 'আলোচনা', 'কোনরকমে', 'পারার', 'দাড়িয়ে', 'পকেটে', 'মানুষরা', 'কতক', 'উপকার', 'বলেছিলে', 'শখ', 'বাঁধ', 'বহিঃপ্রকাশ', 'ধুপ', 'নেমেছে', 'ভাড়া', 'কেউই', 'আত্মবিশ্বাসী', 'স্বামী', 'আগন্তুক', 'গোর', 'খাটে', 'টলছে', 'পুরু', 'বলাই', 'আফরিন', 'গোচর', 'ছিড়ে', 'অশান্ত', 'জ্বরের', 'ভূমিতে', 'অপরের', 'ইনি', 'থাইকা', 'অভিবাদন', 'দাস', 'পেঁপে', 'পড়তেই', 'তরুণীর', 'কাটতে', 'ভুলেই', 'ডেকেছে', 'পুড়িয়ে', 'চাবুক', 'মাল', 'হাসিমুখে', 'বর্ষনে', 'আলোতে', 'লালকুঠি', 'ভোজ', 'রান্নার', 'কাটাতে', 'সেরকম', 'সিক্ত', 'ছোঁয়া', 'অনাগত', 'মস্তিষ্কের', 'ব্যানার', 'যুক্ত', 'ফেরাতে', 'কফি', 'নিম্ন', 'প্রতিশোধ', 'কলিজা', 'একদৃষ্টিতে', 'বাঁধের', 'ফিরছে', 'বটগাছ', 'ভালবাসা', 'বসলো', 'কলার', 'জনতা', 'এতক্ষন', 'তাক', 'টিপ', 'বাস্তব', 'চূড়ান্ত', 'আপাদমস্তক', 'কাঁধের', 'কাপ', 'দাওয়াতী', 'বিলিয়ে', 'কান্নার', 'ভালো।', 'সৌন্দর্যের', 'হুশ', 'বাংলা', 'দেশ', 'জীবনকে', 'উদ্দেশ্যহীন', 'সিংহাসনে', 'কারোর', 'ছ', 'ওষুধ', 'সমস্যায়', 'আব্দুর', 'সমুদ্র', 'এতদূর', 'চিত্র', 'আরলোর', 'বলতেই', 'বিশ্বাসঘাতকতা', 'তলায়', 'যেতাম', 'শ্রাবণী', 'জানান', 'আকাশটা', 'মেহমান', 'ভাঙ্গা', 'খেয়েই', 'ক্ষমতাও', 'শুনলেই', 'করবেই', 'আঁছড়ে', 'শুনেছেন', 'বেগ', 'আটকা', 'ফড়িয়ারা', 'সম্পন্ন', 'পয়সা', 'নরকের', 'যাত্রার', 'দুবার', 'বিনয়ের', 'পেলেই', 'গল্পটা', 'কেনাকাটা', 'পরক্ষণেই', 'দেখেছ', 'রূপকথার', 'জোরদার', 'কার্যালয়ে', 'পনের', 'পাষাণ', 'হাঁপিয়ে', 'মিছিল', 'বান্দর', 'সন্ধিক্ষণে', 'বোঝ', 'দশা', 'লেখে', 'ঝরতে', 'থুতনিতে', 'দাবি', 'গঠন', 'অভিমানে', 'সুড়ঙ্গে', 'দরকার।', 'কমছে', 'নিভৃতে', 'জনসমুদ্রে', 'সরু', 'নিঃসঙ্গ', 'সুখের', 'স্বর্গ', 'দূরত্বে', 'ধন-সম্পদ', 'থরে', 'রোম', 'একটানে', 'পুত্র', 'নিশ্চয়তা', 'এতগুলো', 'নেশার', 'বর্ণ', 'বাড়াবাড়ি', 'খাব', 'ঝলমলে', 'থাকুক', 'পাঠায়', 'মশা', 'ছিদ্র', 'গুলোতে', 'রাইট', 'বিবেচনায়', 'আজব', 'লাগত', 'শারীরিক', 'মূলভবনের', 'প্রকান্ড', 'শেখায়', 'যোজন', 'জানালেন', 'দালানের', 'যান্ত্রিক', 'অকারণে', 'দুধভাত', 'আসতো', 'ঘিন', 'ঝিমিয়ে', 'মঞ্চের', 'স্বর্ণ', 'চিরচেনা', 'পরিমান', 'সভ্যতার', 'সমাবেশ', 'শঙ্কিত', 'ধরলেন', 'প্রতিযোগিতার', 'হয়েছে-', 'ক্ষতিপূরণ', 'মিষ্টি', 'টানতে', 'মশার', 'খাওয়াবি', 'কাঁদত', 'অনিশ্চিত', 'শুষে', 'পাত্রের', 'সম', 'আশাহত', 'ধারন', 'ফুঁপিয়ে', 'তর্ক', 'ক্ষীণ', 'যামু', 'দৃশ্যের', 'নেবেন', 'নিষ্পাপ', 'আগ্রহে', 'নিজেরই', 'সৈনিক', 'ওভার', 'লেখাগুলো', 'ঘটছে', 'দেখব', 'ইরানী', 'ইজি', 'চারদিক', 'শরীরটা', 'অনুরোধ', 'মনেও', 'কৌতূহল', 'বাইরেও', 'প্রত্যেক', 'ভোজের', 'শ্রমিক', 'আহ', 'ব্যক্তিগত', 'নড়াচড়া', 'বসাল', 'আহাজারি', 'সংসারে', 'অঝোর', 'বলতেন', 'খাবারে', 'ভালোবেসে', 'বিড়', 'অস্বীকৃতি', 'দাঁড়াতেই', 'নিষেধ', 'দিও', 'অল্প', 'এগোচ্ছি', 'লেখকের', 'পিঠে', 'ক্যান্তররাই', 'এসময়', 'দুঃখ', 'আদর', 'বদল', 'ভেনেনিফার', 'আঠা', 'বিলাসিতা', 'বিছানো', 'ছোঁপ', 'প্রতিপত্তি', 'চিবিয়ে', 'এইখানে', 'পারছিস', 'মেরেছে', 'সূর্যটাকে', 'আঁকতে', 'অগোছালো', 'দাঁতে', 'ক্ষুধার', 'নিভিয়ে', 'গরিব', 'গলিতে', 'স্নেহের', 'প্রসারিত', 'ভালা', 'শুনছে', 'সাধন', 'নাকে', 'রাণীকে', 'খুলেছে', 'পথেই', 'বিক্ষুব্ধ', 'করান', 'চেতনা', 'তাকানোর', 'চিনে', 'জাগে', 'থিওরির', 'মানুষটার', 'তিনগুণ', 'বিদ্যার', 'ডাইরীতে', 'ডায়েরীটা', 'নক্ষত্র', 'ঝটকায়', 'ছেদ', 'সাবধানতা', 'আধো', 'দিনই', 'যাবতীয়', 'এগোলেন', 'জন্মভূমির', 'এলে', 'সাম্রাজ্যে', 'উনিশ', 'কখনও', 'যেকারো', 'প্রভাব', 'অনন্তকাল', 'আল্লাহর', 'সৈন্য', 'জনসাধারণের', 'তাকাচ্ছেন', 'তিনিই', 'ফুটপাতে', 'বিকল্প', 'প্রতিধ্বনিত', 'ঐতিহ্য', 'সৎ', 'বাটিতে', 'গর', 'ব্রয়লার', 'মানবিক', 'বাচ্চাটার', 'কলাগাছের', 'অন্ধকারেও', 'সবসময়', 'নাইলে', 'কইতে', 'বেজায়', 'অনুশোচনা', 'শোকের', 'জানায়', 'হিসাব', 'উপড়ে', 'গুহাবাসীর', 'গুহার', 'লুকাতে', 'চাওয়া-চাওয়ি', 'এতদিনে', 'রুজি', 'ব্যবসায়', 'আন্দাজ', 'শাস্তির', 'চাইলেও', 'এখানেও', 'বেতনের', 'শুনবেন', 'বাইরেই', 'আশাবাদী', 'আঁতকে', 'দরজাটার', 'ধুর', 'ধী-আয়েদিসকে', 'থাকছেই', 'মাখতে', 'ভালবাসার', 'নড়ছে', 'আওড়ালো', 'পারদর্শী', 'সর্বকনিষ্ঠ', 'শোনেনি', 'কাতর', 'হইল', 'মঞ্চায়ন', 'গিয়া', 'শ্রেয়', 'আকার', 'টকটকে', 'শিসের', 'জানলা', 'ভাঙ্গনে', 'নিঃসন্দেহে', 'logic', 'দেয়াটা', 'বলছিলাম', 'আমন্ত্রণ', 'পরীক্ষায়', 'আজই', 'জন্যও', 'জসুয়াও', 'ছাড়লেন', 'কনস্টেবল', 'মগজ', 'চোটে', 'জানালাম', 'হাসে', 'পাগলা', 'বরাবরই', 'হওয়াই', 'খোলাই', 'উৎসুক', 'তামাটে', 'বানিয়েছে', 'দিবো', 'বাপের', 'শান', 'ঝট', 'দুঃস্বপ্ন', 'ঘোমটা', 'গিয়েও', 'অফিস', 'সরকারি', 'শূণ্যতা', 'বুকটা', 'প্রবেশদ্বার', 'বাড়ালো', 'দেখবেন', 'জলা', 'বৃদ্ধের', 'বিলম্ব', 'বাঁচে', 'সালাম', 'প্রশান্তি', 'ঘনিষ্ঠ', 'ফোনটা', 'বলতাম', 'ছাড়বে', 'পেয়েছেন', 'গিয়েছিলে', 'শোনাতে', 'যাস', 'খদ্দের', 'করে।', 'স্পিনার', 'ঝোলানো', 'সক্রিয়তা', 'লবণ', 'কিনারা', 'সম্বন্ধে', 'নগ্ন', 'স্মৃতিশক্তি', 'ছিপছিপে', 'তাকালেও', 'প্রস্তুতির', 'অভিব্যক্তি', 'খেতেও', 'স্বামীকে', 'আবহ', 'পেরেছি', 'অস্ত্র', 'করছো', 'সচেতন', 'অগ্নিদৃষ্টি', 'অবস্থাতেই', 'হয়েছিলো', 'নাবিলাকে', 'বলেছিলেন', 'নম্বর', '-কিসের', 'রাখতেই', 'বিকৃত', 'কাজেই', 'সাজগোজ', 'আবর্জনার', 'নাহয়', 'বিচি', 'ধোয়া', 'কেসে', 'জ্ঞানী', 'দালাল', 'জটলা', 'হয়েই', 'আসিনি', 'যাব।', 'খান', 'এগোনো', 'কাকতালীয়', 'শোনাচ্ছে', 'চিত্তে', 'সদা', 'স্নিগ্ধ', 'কুঁচকে', 'শ', 'বংশীয়', 'সাতটা', 'হাতজোড়', 'দাড়ি', 'পরিত্যাগ', 'পৌছানোর', 'শ্যামলা', 'চাইছিল', 'পত্রিকা', 'ভাঙল', 'শুনশান', 'অনিচ্ছা', 'বঞ্চিত', 'কোণঠাসা', 'চৌকিতে', 'সাবধানী', 'ঘোড়াগুলো', 'বিসর্জন', 'অনন্ত', 'গাছগুলো', 'লাগলাম', 'ধ্বনি', 'গিলে', 'নিঃসঙ্গতা', 'বিপত্তি', 'সামর্থ্য', 'রাখলো', 'কাঁদে', 'দাঁড়ানোর', 'ঘুরপাক', 'বাক্যে', 'প্রবাহ', 'পেত', 'খাঁদে', 'নাড়াল', 'ফোঁটাও', 'আতিথেয়তা।', 'সূচনা', 'তাদেরও', 'প্রেমিকের', 'খুললেন', 'দারুন', 'মিলছে', 'জাঁকজমক', 'দখলে', 'হুমকির', 'আমাদের।', 'সাথেও', 'বিন্দুতে', 'উচ্চতা', 'মাদকতায়', 'অনুপস্থিত', 'ফিরলেন', 'পরিস্থিতিতে', 'ঘাট', 'লাভের', 'উপায়ে', 'অনেকের', 'মুখভঙ্গি', 'দীর্ঘায়িত', 'বিকার', 'নেশায়', 'খাওয়াবো', 'দৃশ্যপট', 'ঠিকরে', 'প্রাচুর্যের', 'উপরেই', 'শিকার', 'ভদ্র', 'শহরটা', 'জিনিসের', 'অন্ধকারেই', 'নব', 'খাবি', 'গম্ভীর', 'নোংরা', 'পোশাকে', 'শেখানো', 'মামার', 'পদ', 'কেস', 'অবসরে', 'বিষয়গুলো', 'কোমরে', 'বাক্যটা', 'কাঁদবে', 'পালনে', 'মরা', 'প্রচুর', 'বিনোদন', 'দিনকাল', 'এসবে', 'রোজগার', 'ছিটিয়ে', 'হাঁস', 'সাজাতে', 'চলবো', 'পারব।', 'যতবার', 'বালুতে', 'ফন্দি', 'রিসিভ', 'কিশোর', 'করতো', 'দিতাম', 'দিয়েন', 'রুদ্রের', 'খ্যাচর', 'অত্যন্ত', 'ইখলাছও', 'দেবীর', 'প্রতিকৃতি', 'কিনতে', 'হারে', 'বারো', 'সম্মানের', 'জ্বরটা', 'রুগ্ন', 'কাটিয়েছে', 'অলস', 'দামে', 'ফুঁসছে', 'বাহু', 'পিলগ্রিমও', 'কৃতিত্ব', 'বসেছিল', 'পালিয়েছে', 'কন্যা', 'দুইবার', 'তপ্ত', 'ভেঙেছে', 'দিলেও', 'ফাটল', 'পশ্চিম', 'ভূমিকম্পে', 'ছিটকে', 'সমাজের', 'পৌঁছানো', 'চিরকুট', 'নিথর', 'ধ্বংসস্তুপ', 'পারা', 'পাঠ', 'সংরক্ষণ', 'আগ্রহী', 'লাগিয়েছে', 'বেরোনো', 'হাঁপাতে', 'মন্ত্র', 'সারাক্ষণ', 'দানব', 'ভাবার', 'কাঁপতে', 'আপনিই', 'বাঁচানোর', 'ঝরছে', 'শাড়িতে', 'বিয়া', 'মিশ্র', 'লক্ষ্মী', 'পরিবর্তে', 'ঝর', 'মুদ্রাকেই', 'দুজনেই', 'খুলবে', 'উচ্চবাচ্য', 'প্রমান', 'শুকনা', 'একাকীত্ব', 'বিশ্বাসযোগ্য', 'নাড়াচাড়া', 'মূল্যবান', 'শুনছেন', 'টাইপ', 'একবারও', 'কথাগুলোই', 'ডাকার', 'নেয়নি', 'আপু', 'কমেনি', 'পাইনা', 'ফেদলা', 'মানুষটাকে', 'গদি', 'বাসভবনে', 'দৌড়', 'কয়েকজনকে', 'পেশাদার', 'সহসাই', 'ডাকল', 'অক্ষত', 'বর্ষন', 'বন্ধুদের', 'বাড়ালেন', 'মুঠোয়', 'ঘেঁষে', 'ব্যথ্যা', 'নামেই', 'প্লেটে', 'নীতি', 'সিদ্ধান্তে', 'মেখে', 'উপনীত', 'জেরা', 'খাদে', 'মধ্যেও', 'জন্য।', 'সুসংবাদ', 'বসলে', 'খুশিতে', 'চাকর', 'আফসোস', 'হচ্ছে।', 'হতাশার', 'ডাকলেন', 'নামানো', 'দলের', 'সবুজে', 'হদিস', 'গায়েব', 'বক্তৃতা', 'দশজনের', 'মেলা', 'একদল', 'ধেয়ে', 'পৃথিবীকে', 'চড়ক', 'নির্বোধের', 'কাজকে', 'জ্বলজ্বলে', 'কোনকিছু', 'আঁকড়ে', 'রি', 'দেহের', 'ঘাড়টা', 'ঘুষি', 'সেটাকে', 'মানিয়ে', 'স্বান্তনা', 'মারল', 'এঁকে', 'নাড়ে', 'আনলো', 'শব্দের', 'কাটেনি', 'ডেকেছেন', 'ভারে', 'খোজ', '১৫', 'ভবিষ্যতের', 'সম্মানিত', 'টাইপের', 'অবতারণা', 'স্মৃতিগুলো', '-নিবিতা', 'বেড়ানো', 'স্বদেশ', 'ক্যানভাসে', 'তুলির', 'হোটেলের', 'রাস্তাটা', 'রয়ে', 'মোটে', 'পোহাতে', 'পাহাড়গুলো', 'রইলেন', 'বালিকা', 'গোলাপি', 'দর্শন', 'বলেনি', 'অট্টহাসি', 'বসবাস', 'বুনো', 'দীপুকে', 'এদিক', 'সানভিকে', 'অনুভূতির', 'চিকিৎসা', 'ভয়ার্ত', 'হ্যা', 'মেজ', 'সারাদিনের', 'আবহাওয়া', 'চুপসে', 'মুখোশ', 'আফরিনের', 'পরামর্শ', 'ফুটপাত', 'শুরুর', 'সম্বোধন', 'গাঁ', 'মৃতের', 'আয়ের', 'নশ্বর', 'হজম', 'দান', '-বাবা', 'আসলি', 'হুইল', 'সাবধানে', 'খুঁটির', 'মসজিদে', 'করছি।', 'শিক্ষিত', 'মৃতদের', 'খেলাটা', 'ছাড়ল', 'প্রাক্তনরা', 'অসন্তুষ্ট', 'চাইছ', 'চিরে', 'নিজস্ব', 'অদম্য', 'আপাত', 'দেখায়', 'চিনি', 'পান্তা', 'জানাই', 'উন্মুক্ত', 'শক্তিশালী', 'বিনিয়োগ', 'কোয়ার্থকে', 'শুভ', 'করায়', 'জমা', 'আয়না', 'আসন', 'ভুয়া', 'দেও', 'ডাকবো', 'শোক', 'প্রতিপক্ষকে', 'জাগিয়ে', 'ঘনীভূত', 'ফোটে', 'জাত', 'পারলেও', 'উচ্চারিত', 'কবরের', 'হলো।', 'পরশু', 'বরণ', 'করেছেন।', 'রসিকতা', 'মৃত্যুবার্ষিকীতে', 'কাটানোর', 'হাহ', 'ভয়টাই', 'অভিন্ন', 'পবিত্রতার', 'মিমপিরা', 'সেটার', 'কিসে', 'করুন।', 'এখানে।', 'বৃদ্ধি', 'হাসলেন', '--', 'মধ্যরাতে', 'কাপে', 'লাগোয়া', 'আচ্ছন্ন', 'পরস্পরের', 'একান্ত', 'ঘুমায়', 'পাওনাদারদের', 'আগাছা', 'কাঁদি', 'চুলটা', 'প্রতিবছর', 'খুঁটি', 'ঘণ্টা', 'বিদীর্ণ', 'বেগম', 'ধনী', 'রেখেছ', 'নিস্তব্ধতা', 'কচুরিপানার', 'বিলে', 'বার্ষিক', 'হৃদয়কে', 'কোলাহল', 'আকাশটাকে', 'জমির', 'রবে', 'বিচিত্র', 'বিশ্বাসে', 'বালুকণা', 'উচ্চাশা', 'শুনি', 'রাতভর', 'গোবর', 'ঋণের', 'পাও', 'জালে', 'খুঁজি', 'মুঠো', 'প্যাটার্ন', 'থাকিস', 'বর্ষা', 'আবর্তন', 'লিকুই', 'ঘোষের', 'পূর্ণতা', 'ছদ্মবেশে', 'মাচানের', 'নীরব', 'রুক্ষ', 'আউলিয়াখানা', 'উদ্দাম', 'বেড়ার', 'বিন্যাস', 'সংগ্রাম', 'কচলাতে', 'কুপি', 'ঋতুর', 'ভাঁড়', 'সভ্যতা', 'গৌরব', 'ল্যাম্পপোস্ট', 'জীবনানন্দ', 'অভুক্ত', 'তাড়িয়ে', 'নির্জন', 'অমর', 'অস্তগামী', 'সূর্যালোক', 'বস্তা', 'প্রান্তরে', 'গাছটাতে', 'তামাকের', 'বারও', 'অনুভবে', 'ছুঁই', 'জলচৌকিতে', 'লোভে', 'যিনি', 'শীত', 'পূবের', 'প্রতিক্ষায়', 'ভাবছ', 'করব-', 'করেছ', 'চিতা', 'ফিবোনাচ্চি', 'দক্ষিনা', 'ছাতা', 'প্রখর', 'শ্রমিকের', 'ঘোলা', 'হেঁটেছি', 'সুদ', 'সন্ন্যাসীকে', 'পথিকের', 'অংক', 'ঢোকে', 'যুবায়েরের', 'বাঁশবন', 'হারিকেনটা', 'ফুলগুলো', 'ছায়াসঙ্গী', 'আকাশটাতে', 'বালিতে', 'জুতো', 'মেমোরিয়াল', 'ট্রাস্ট', 'কবিরকে', 'সঞ্চারিত', 'লালন', \"'আফজাল\", 'রাইতে', 'তাকিয়েই', 'বরাবরের', 'প্রহর', 'মাংসের', 'দিয়েছিস', 'চিন্তাই', 'ঝর্ণার', 'দিয়েছি।', 'বৃত্ত', 'ঘৃ্না', 'অহেতুক', 'পাঠাচ্ছে', 'তোমারা', 'লুফে', 'কখনোও', 'সমাধানের', 'ধরি', 'না।আপনাকে', 'চেষ্টায়', 'সংরক্ষিত', 'বৃত্তের', 'একমত', 'করেছিলে', 'গুঞ্জন', 'উৎকণ্ঠার', 'নিমিশে', 'সাবলীল', 'প্রদীপটা', 'বায়ু', 'গন্ধম-বৃক্ষ', 'ঘোরাফেরা', 'পাইলো', 'বসন্তের', 'অঢেল', 'পাঁচটা', 'কারিগর', 'লোকগুলো', 'টুলে', 'কিংবদন্তী', 'বড়জোর', 'করছিলেন', 'গ্রীষ্মের', 'আউলিয়াখানায়', 'চইল্লা', 'ছবির', 'যেসব', 'মাঝের', 'খল', 'হ্রদ', 'আগাগোড়া', 'সুনয়না', 'মানুষেরে', 'আমদের', 'চলতি', 'রূঢ়', 'পরিক্রমায়', 'আদরের', 'প্রথমত', 'ছোকরার', 'কাচুমাচু', 'কোষে', 'হারাম', 'ধ্বনিত', 'কয়েকজনের', 'ক্ষেত্র', 'গোরস্থানের', 'মিলন', 'খ্যাচ', 'রাগান্বিত', 'প্রতিফলিত', 'হ্রদের', 'থাকে।', 'অকারণ', 'শাখায়', 'অপেক্ষাতেই', 'কবরটা', 'আকর্ষনের', 'অতলে', 'জমকালো', 'গড়েছে', 'সুরমা', 'অযত্নের', 'সড়িয়ে', 'চক্র', 'সবুজের', 'গজিয়েছে', 'প্রশ্নগুলো', 'যৌন', 'ঝুকে', 'কাকটাও', 'নড়ে', 'চক্রের', 'বেণী', 'দুঃসংবাদ', 'এইটুকু', 'ঘূর্ণি', 'একার', 'চুন', 'কোণায়', 'ভ্রমণ', 'বাচ্চাদের', 'বাঁকিয়ে', 'গুপ্ত', 'মরবে', '-কি', 'বিশালপুরে', 'ঘোরের', 'এমনও', 'চঞ্চল', 'কসবিরা', 'লোভী', 'উপযুক্ত', 'কয়টা', 'পাত্রটা', 'সময়টুকু', 'গড়িয়েছে', 'এলোকেশী', 'ব্যথা', 'যখ', 'পেয়েছিল', 'সম্ভাব্য', 'জনপদে', 'খোলে', 'খাট', 'বেস', 'কথাটাও', 'বাক্সে', 'তাকায়', 'হঠাত', 'শেকল', 'লোপ', 'বাচিয়ে', 'অর্জনের', 'রেখেছেন', 'প্রশ্নে', 'থেকে।', 'অবস্থানের', 'গেল।', 'ভাববো', 'মাঝেমাঝে', 'এগোলো', 'অন্ধ', 'হুকুম', 'দিবস', 'নিষিদ্ধ', 'বেটা', 'বোরো', 'যেথায়', 'প্রতিরোধ', 'লাগছে-', 'অচেতন', 'অমাবস্যার', 'অবশ', 'পারবে।', 'পারোনি', 'এতটুকুই', 'না।আমার', 'নাছোড়বান্দা', 'তাপে', 'ততটুকু', 'বিএ', 'ঘন্টাখানেক', 'হয়তো', 'পাবে।', 'কতবার', 'মৃত্যুতেই', 'তাবু', 'টোল', 'দুধ', 'মাখানো', 'ফিরতেই', 'ধু-ধু', 'প্লিজ', 'ত্বকের', 'শূকর', 'এরপরের', 'থামার', 'ভারি', 'বিরাম', 'ভোগ', 'অন্তরালে', 'কেসের', 'হাত-পা', 'ঢুকায়', 'সরানো', 'পেরিয়েছে', 'লাইনের', 'ভান', 'বস্তার', 'ইখলাছে', 'ব্লকের', 'ঝতুর', 'খরস্রোতা', 'বেঁধেছে', 'সমর্থনের', '-হ্যা', 'হুটহাট', 'চিঠির', 'ফতুয়াটা', 'তাড়াহুড়া', 'পরিস্থিতির', 'তুলবে', 'যুদ্ধের', 'সাঁই', 'হুহু', 'দুর্যোগ', 'ছেলেও', 'দ্বিধা-দ্বন্দের', 'বাছুরটাকে', 'আভিজাত্য', 'লেখাটার', 'সর্বময়', 'গুমোট', 'পাপিষ্ট', 'সীমানায়', 'আচরন', 'বড়কর্তা', 'সামাল', 'শেখে', 'ডাকি', 'নির্ধারিত', 'পেয়াজ', 'সেইসব', 'চমকাচ্ছে', 'আশি', 'চালানোর', 'জানবেন', 'নিরুদ্দেশ', 'ভেনাসের', 'বন্ধন', 'দেওয়ার', 'আগস্ট', 'নাকের', 'বিড়ি', 'অন্ত', 'করে-', 'ডিঙি', 'আলতো', 'বিশ্বাসযোগ্যতা', 'ব্যবসার', 'দোকানও', 'বাহারের', 'অভ্যর্থনা', 'ঝিমঝিম', 'শেষের', 'সাইফুলকে', 'দুরের', 'অনুভূতিকে', 'টমির', 'শ্রেষ্ঠ', 'পথহারা', 'উত্থান', 'রাখো', 'উৎফুল্ল', 'বাসন্তী', 'চুরির', 'অপরিমেয়', 'সুবিচার', 'প্রত্যাহ', 'ধুলোয়', 'বীজ', 'অনুশোচনার', 'জড়সড়', 'সহানুভূতি', 'ভেবেছেন', 'সাগরে', 'খুনীর', 'নৈঃশব্দ', 'রণদাদেবী', 'মাটিগুলো', 'পিস', 'আসামি', 'কেকটা', 'অনুষ্ঠানে', 'প্রতীক', 'যাচ্ছে।', 'বিচ্ছু', 'দেখাচ্ছেন', 'দিমিত্রিভের', 'শুনিয়ে', 'ভূত', 'যেগুলো', 'মুখরিত', 'বাজিয়ে', 'ঘেটে', 'আধাপোড়া', 'অপমানিত', 'অমৃত', 'চেম্বার', 'করতেও', 'বাজ', 'গুরুতর', 'অসম্মান', 'সিগারেটের', 'তৃতীয়াংশ', '৩০', 'করি।', 'জনগণ', 'খুঁজল', 'শিক্ষকদের', 'তুমি।', 'পড়াশোনায়', 'নীরবতায়', 'কেন্দ্রিক', 'প্রতিবাদ', 'জমতে', 'করানোর', 'স্থায়ী', 'নিশ্চয়', 'সংক্ষিপ্ত', 'গুণমুগ্ধ', 'বালির', 'ঘটবে', 'ঠিকঠাক', 'রাখছেন', 'ওঠেন', 'যায়।', 'আমরাও', 'শুনেছিলাম', 'আগেরবারের', 'প্রাপ্ত', 'বটগাছের', 'পক্ষেই', 'হারিয়েছে', 'সাফাই', 'ঢালু', 'দেননি', 'পড়তাম', 'প্রতিপক্ষ', 'দেয়াই', 'ক্যানভাসের', 'খুশির', 'ঝরঝরে', 'ঝামেলায়', 'ডাকটা', 'কাগজটার', 'ধুতুরা', 'সাহসী', 'অট্টালিকার', 'নিশোর', 'ছেলেটি', 'রাজকন্যার', 'ভীষন', 'নেই-', 'খাদ্যের', 'নাটকীয়', 'হাটবার', 'হইনি', 'রকমই', 'পেঁচাগুলো', 'মরি', 'এমদাদের', 'শেষটা', 'গুলিয়ে', 'জানলো', 'বেদনা', 'পেঁচাদের', 'ছাই', 'জিনিসগুলো', 'যাবেনা', 'রক্তলাল', 'নাড়ছে', 'ন্যূনতম', 'ডাকের', 'নিগুঢ়', 'রাখলেও', 'লেখকদের', 'বিদ্ধ', 'ছাড়ানো', 'বাণে', 'শ্যালো', 'উঠেই', 'সর্বপ্রথম', 'মেশিন', 'অক্ষমতার', 'সেচ', 'রঙগুলো', 'হাসলো', 'যৌবনা', 'মানুষে', 'টুলের', 'আম্মা', 'বেঞ্চিতে', 'ধারণাকে', 'সত্তাকে', 'উকি', 'ভাবত', 'ওয়েব', 'এজেন্ট', 'নর্তকীর', 'কাউরে', 'শুকাতে', 'কিছুতে', 'বস্তায়', '-জি', 'পেঁচাটা', 'ভাবলেই', 'উচ্চস্বরে', 'চরিত্রে', 'জিন্দাবন', 'ছাড়ার', 'অধ্যায়', 'পিরামিড', 'তরে', 'জ্যোৎস্না', 'আতংকে', 'বাঁচা', 'পচা', 'পুসকুনিতে', 'এলাকা', 'আলকানতারাই', 'কালচে', 'অস্থিরতা', 'বেলকনি', 'আমাতে', 'ইচ্ছাকৃতভাবে', 'কচুরিপানা', 'মরতে', 'উৎসের', 'খেল', 'আজকেই', 'শিরোনাম', 'ত্রিশজন', 'কল্পিত', 'বিচারের', 'থাকতেও', 'ষষ্ঠ', 'করেনা', 'আজকেও', 'বেদনার', 'পড়বো', 'মোচড়', 'নিস্তব্ধতায়', 'শুনেছি।', 'দাঁড়ান', 'বহুক্ষণ', 'বর্বর', 'স্বীকারোক্তি', 'পুতুল', 'গুহায়', 'দুর্যোগের', 'প্রতিদিনের', 'দীক্ষা', 'স্ত্রীকে', 'টাকাও', 'জ্বলছিল', 'শিখে', 'রাষ্ট্র', 'চড়াও', 'শোকে', 'গুহাবাসী', 'প্রাণবন্ত', 'ভিতরের', 'মশালটা', 'ভঙ্গ', 'মুহুর্তে', 'বিলাপ', 'কোম্পানির', 'দেখেও', 'বিশেষত্ব', 'মাঝেও', 'রাজনীতির', 'বটে', 'ধরাশায়ী', 'নয়জন', 'বাঁধতে', 'জট', 'হতভম্ব', 'আকস্মিকতায়', 'চুলের', 'কেন্দ্রবিন্দু', 'দলটার', 'হিতাহিত', 'পাঁচজন', 'মোটর', 'ধমকানি', 'ওদিকে', 'আংশিক', 'কেন্দ্রীভূত', 'পড়ায়', 'পয়সায়', 'চলছেই', 'ব্যাঙ', 'দেবতা', 'বিষন্ন', 'স্পর্শে', 'ক্ষণে', 'সিদ্ধান্তহীনতায়', 'গুণটা', 'চতুর্দিকে', 'এইমুহূর্তে', 'হানা', 'ছায়ার', 'অভিমানী', 'যথাসম্ভব', 'ক্ষণ', 'বৈশাখী', 'শোনাবে', 'পৌঁছেই', 'দৃষ্টিও', 'বহুকাল', 'বুজে', 'চোরাবালির', 'তিল', 'দৃশ্যমান', 'খাদের', 'নিস্তেজ', 'নির্ভর', 'দিদিমা', 'নয়টা', 'মিলনের', 'মাঝখান', 'ডালের', 'সাঁতার', 'লড়াই', 'সিঁড়িগুলো', 'খেত', 'তুলেছিল', 'আটকানো', 'ক্ষিপ্রতা', 'পরও', 'এমনে', 'চুড়ান্ত', 'ছিন্নভিন্ন', 'জাগলে', 'সৈকতের', 'রচিত', 'গিলল', 'গোপনীয়তার', 'অন্যটা', 'বিশালাকার', 'ঝলমল', 'মস্ত', 'বিচ্ছেদ', 'বীর', 'কুর্ণিশ', 'সমুদ্রের', 'অধিপতির', 'লেখার', 'আপ্রাণ', 'আশীর্বাদ', 'পোলা', 'দ্বারপ্রান্তে', 'জাদুর', 'পর্দার', 'কলেজের', 'আয়েদিসে', 'নিমপাতা', 'শৈশব', 'ঢেকুর', 'প্রসন্ন', 'নেহাত', 'টাঙিয়ে', 'জেলেদের', 'সর্ববৃহৎ', 'ভাঁড়ের', 'সম্পত্তির', 'আলা', 'বোতল', 'ক্যানভাসটা', 'ক্ষণিকের', 'কয়েকটি', 'বালু', 'জেলেরা', 'নিমেষে', 'মৃতবৎ', 'অসহ্য', 'অনন্য', 'বৈঠকখানা', 'মখমলের', 'ব্যথায়', 'ঝাউবনের', 'চাঙ্গা', 'আছি।', 'অবদান', 'কাপুরুষ', 'দেখাশোনা', 'স্বার্থপর', 'গাধা', 'স্বভাব', 'বজায়', 'নিক', 'যেও', 'লোকেরা', 'লোকদের', 'সাবধানি', 'এক্কেবারে', 'জন্তুর', 'বৃহৎ', 'পরনের', 'দু-এক', 'অংশগ্রহণ', 'ছাত্রের', 'তোলেন', 'ঘটতে', 'দৃঢ়ভাবে', 'তাদেরকে', 'ভাবছিল', 'সত্যকে', 'পোড়া', 'কাঁপিয়ে', 'বাড়িয়েছে', 'তাকেই', 'উচ্চতার', 'টমেটো', 'উপরই', 'বসেছিলাম', 'করছ', 'প্রশ্নবোধক', 'অধীনেই', 'শান্তিতে', 'পুঁতে', 'রাত্রির', 'মধ্যভাগে', 'এসেছ', 'ভাল-মন্দ', 'হৃদয়ের', 'নেতৃত্বের', 'জাম-তলায়', 'বিশ্বাস।', 'টায়', '১২', 'একটিবার', 'আচরণ', 'দিশেহারা', 'বাহিরে', 'স্বাগতম', 'উঠার', 'শাসনের', 'ঘরগুলো', 'ক্ষত', 'সড়কের', 'বলছ', 'থালা', 'পুরুষের', 'পূজার', 'কোনদিক', 'দেখত', 'এবারো', 'চারদিকের', 'হোটেলে', 'বাড়িগুলো', 'সাড়ে', 'বেদম', 'চাইব', 'চাইনি', 'ভাঁজগুলো', 'ঘোড়া', 'অব্যহতি', 'হাতাতে', 'ছড়াচ্ছে', 'লাগাম', 'পল্লবে', 'শুধুশুধু', 'মিমপিদের', 'ফেরেনি', 'নিহিত।', 'শাশ্বত', 'মেঘলা', 'চেয়েছিলেন', 'দিন।', 'গ্লাস', 'বিবর্ণ', 'ঢেউয়ে', 'চালে', 'হামাগুড়ি', 'সংখ্যার', 'লেখায়', 'পাহাড়ে', 'ছুটিতে', 'প্রিয়তমা', 'কলুষিত', 'পাথুরে', 'গণিতের', 'চোখেমুখে', 'জোয়ার', 'ভাঙাতে', 'জর্জরিত', 'পেড়িয়ে', 'উত্তেজনায়', 'ছোড়া', 'সর্বনাশ', 'টিপটা', 'কান্নাকাটি', 'অক্সিজেন', 'একজন।', 'নাগাল', 'হিমশিম', 'কথাকে', 'বহনকারীর', 'এলাকার', 'নোটের', 'রক্তাক্ত', 'স্তরে', 'ভিজছে', 'আঁচলে', 'উত্তরটা', 'কবচটাই', 'ধর', 'খাইম', 'ভুলিয়ে', 'মাখামাখি', 'আঁধারে', 'অবহেলা', 'ডুলির', 'চোখও', 'পার্ক', 'গড়তে', 'মিথ্যে', 'বাঁচিয়েছে', 'নিয়ত', 'সম্রাজ্য', 'দক্ষিণের', 'আসুক', 'অস্তিত্বের', 'অজ্ঞাত', 'শিক্ষকের', 'আসুন', 'ছাত্র', 'চাকায়', 'কল্পনার', 'পৃথক', 'ভদ্রতা', 'কল্যাণে', 'অন্তরে', 'যেখান', 'ঢাকার', 'মহাকালের', 'শুরুতে', 'কাঁপানো', 'আপনে', 'ভাইজানের', 'দিয়েছিলে', 'বিতরণ', 'যাক।', 'খায়রুলের', 'ধনে', 'কেবলই', 'একবারে', 'রান্নাঘর', 'বেড়িয়েছে', 'ঝাঁকাল', 'হতাশায়', 'বিপদজনক', 'মানবে', 'পেঁচিয়ে', 'অনুমান', 'নারাজ', 'ভাববেন', 'উপলক্ষ্য', 'সম্মুখে', 'পর্যায়ের', 'মোড়া', 'আয়াতাকার', 'তীক্ষ্ম', 'পটল', 'কাকের', 'খিচুড়ি', 'কাঁপুনি', 'পথটাকে', 'পরিচালনা', 'মনেহয়', 'সমাজ', 'জাগতিক', 'প্রথা', 'প্রদীপের', 'চাকা', 'সংকেত', 'আবির্ভাব', 'মতামত', 'সংগ্রহ', 'তুচ্ছ', 'ওরাই', 'ক্ষয়ে', 'ফিক', 'হন্যে', 'ত্বক', 'আনন্দিত', 'করো।', 'যাচ্ছো', 'রুগী', 'বিষয়টাকে', 'বড়বোনের', 'করছে।', 'কার্যসিদ্ধি', 'রেখেছো', 'আঁচড়ে', 'অপচয়', 'চিৎকারে', 'আলস্য', 'আলোতেই', 'প্রশ্নবিদ্ধ', 'ছুটছি', 'দুটিতে', 'গেলি', 'ফালি', 'পারবেন।', 'আলকাতরা', 'খবরের', 'করিয়েছেন', 'হুড়মুড়', 'রামানুজন', '।।', 'বাকিগুলো', 'দারিদ্রতা', 'কমু', 'লাপাত্তা', 'তমার', 'সবকিছুর', 'মেতেছে', 'গণকবরের', 'খুঁজছিল', 'উপস্হিতি', 'প্রশ্রয়', 'মান', 'ছদ্মবেশের', 'সানভি।', 'শাস্তিযোগ্য', 'ভেদাভেদ', 'হত।', 'যোগ্য', 'প্রতীক্ষায়', 'নায়কের', 'ভরতে', 'মন-মতি', 'আল্লাহু', 'একথাও', 'ঘৃনায়', 'করোনি', 'এলিয়ে', 'দিয়েছিলাম', 'তুমুল', 'খানার', 'অভিনেতা', 'বিভৎস', 'চোখাচোখি', 'চড়া', 'নীড়ে', 'সৌজন্যতা', 'বাঁচল', 'কবি', 'বিষণ্ণ', 'আড্ডা', 'ভৃত্যকে', 'অনুকরণ', 'উপার্জন', 'স্বতন্ত্র', 'দুঃসাহস', 'খোলস', 'ভ্রমন', 'শেখরে', 'লিখিত', 'কাছেও', 'বসুন', 'আবেশ', 'পিছুটান', 'সারাজীবনের', 'হরকলি', 'বাহক', 'দিনটা', 'সহকর্মী', 'কোথাকার', 'শোনাই', 'ক্ষেপণ', 'অত', 'দাশের', 'ছুঁয়েছে', 'সর্বদা', 'শোনেননি', 'বুঝলে', 'গুটি', 'আত্মহত্যার', 'আলগা', 'শিকল', 'নারকেল', 'মানুষরাই', 'সম্ভ্রান্ত', 'অতিথিদের', 'কল্পনাতেও', 'অনুবাদ', 'প্রাণরস', 'পরিণতি', 'স্বপ্নেও', 'সুতো', 'উচ্ছসিত', 'কামনার', 'ঝাপিয়ে', 'মোটা', 'লোকবল', 'নির্বাক', 'উঠতেই', 'প্রাণপনে', 'অবাকই', 'নির্বাসন', 'সকলই', 'মামুলি', 'অপরাধীদের', 'পাঠানোর', 'সারারাত', 'প্রথমজন', 'পিলগ্রিমদের', 'ধক', 'জ্বীনের', 'এবারও', 'সৎকারের', 'মিটার', 'সচকিত', 'বিবেচনা', 'মুদ্রাককে', 'এজগতে', 'হাতেও', 'একের', 'একবেলা', 'লোকের', 'জীবিকার', 'উঠবস', 'চাইনা', 'কৌতুক', 'তিতা', 'এখানকার', 'বিশেষভাবে', 'কাপড়গুলো', 'প্রচার', 'পণ্য', 'এসো।', 'অব্যক্ত', 'বিচরন', 'চেয়েও', 'স্তুপে', 'হাঁটছেন', 'হোমিওপ্যাথিক', 'পরতে', 'কেরামতিয়া', 'বারন', 'থাকাই', 'খেতের', 'করাও', 'উপহাস', 'ছোটবেলায়', 'বানাতে', 'পক্ষপাতি', 'খাতিরে', 'নেননি', 'তাদেরকেও', 'চীনাবাদাম', 'এসবের', 'বিয়েটা', 'একাকী', 'আমলকী', 'সমতল', 'টি', 'মৃত্যুপুরী', 'ওলটপালট', 'প্রার্থনায়', 'মেইস্টার', 'ঝালাইয়ের', 'প্রতিনিধি', 'অনিশ্চয়তার', 'ভাইয়ার', 'সত্বাটা', 'কলেজ', 'ছাড়তে', 'গেছো', 'এড়ানো', 'মালকিন', 'উৎসবের', 'ছিন্ন', 'উন্নতির', 'পৃথিবীটাকে', 'গর্জনে', 'আগন্তুকের', 'উপঢৌকন', 'হাতছাড়া', 'সন্তানদের', 'আতিথেয়তা', 'অধিবাসী', 'বেড়ান', 'সইছে', 'থাপ্পড়', 'বিল', 'মধ্যরাতেও', 'যথাযথ', 'তর', 'ভিড়ের', 'মশালের', 'বানালে', 'আসলেও', 'মুখদর্শন', 'রাজপথের', 'উত্তম', 'কালবৈশাখী', 'অপকর্মের', 'কোলের', 'কিংবদন্তীর', 'লোলুপ', 'ছেলেমেয়ে', 'ডায়েরী', 'জমেছে', 'বাছতে', 'খাঁকারি', 'লিখত', 'একটাও', 'একটুকুও', 'থাকবি', 'যায়ে', 'পরিশোধের', 'প্রতিশ্রুতি', 'ফেললে', 'কোনভাবে', 'আগুন্তক', 'পড়লেই', 'রচনা', 'আমারই', 'গাছটাকে', 'তদবির', 'মটর', 'চালিত', 'জনে', 'সুধা', 'শুনবো', 'পরিবর্তনটা', 'হাঁটুতে', 'তাস', 'ধোঁয়ায়', 'করবা', 'ত্রিশ-চল্লিশজন', 'যুবককে', 'মর্মোদ্ধার', 'রেস্টুরেন্টের', 'Receive', 'দিব্বি', 'প্রকার', 'নামলেই', 'পৌঁছায়', 'যতই', 'তিনদিন', 'টুকু', 'পরিকল্পনায়', 'মার্ডার', 'করেছে।', 'ডাক্তারের', 'আশে', 'খন্ড', 'দেইনি', 'উন্মোচিত', 'খঞ্জরটা', 'খাম', 'ধরাধরি', 'স্যালুট', 'হাসপাতাল', 'বিষয়ের', 'আমের', 'শালুক', 'ঢুকলো', 'পোস্ট', 'মনোবিজ্ঞানে', 'বদ্ধ', 'পরিবর্তিত', 'মশারি', 'চৌকি', 'পাঁচেক', 'আবুল', 'কাশেম', 'পথচারী', 'শুনলাম', 'বাচবে', 'দুদিন', 'মায়াকাড়া', 'ধুলো', 'দক্ষতা', 'টোকাও', 'ফিরলাম', 'মায়ার', 'পকেট', 'ফর্সা', 'মানাতো', 'চিত্রাঙ্কনে', 'আনছে', 'ক্যান্তর।', 'দিলি', 'ওয়াটার', 'চালাচ্ছে', 'বুনে', 'দেখতেই', 'আঁকাবাঁকা', 'উঠলে', 'মজুরি', '২', 'কাঠগোলাপের', 'উঠলেই', 'এঁকেছে', 'পরিপাটি', 'যাপনের', 'উচিত।', 'পাক', 'বিরাতে', 'বাহুল্য', 'নং', 'বাধিয়ে', 'কেরোসিনের', 'সমেত', 'ছড়ি', 'তিনেক', 'আমার।', 'প্রাইমারি', 'লগে', 'প্রমানের', 'তোড়া', 'পিপাসায়', 'গন্তব্যে', 'ভালবাসে', 'চাচাকে', 'গাছগুলোতে', 'মঞ্চ', 'কাদায়', 'বেরিয়েই', 'ইনজেকশন', 'কাদা', 'ওয়ালিদকেও', 'পোশাকের', 'পাবি', 'কড়ি', 'বিষয়টাতে', 'খেতেই', 'কেনার', 'দামী', 'সাপের', 'জলের', 'ডাস্টবিনে', 'বেঈমানী', 'কথাবার্তা', 'লক্ষণ', 'মানসিকতার', 'ধরত', 'লাগছে।', 'দু-একজন', 'লোকমা', 'বেকার', 'বোঝে', 'কালকেই', 'বাকশক্তি', 'পড়লেও', 'সত্যিকারের', 'অংশটুকু', 'ফারিয়াকে', 'আসাতে', 'নবাবপুর', 'বেকারের', 'থামলো', 'প্রশ্নও', 'মানসিকতা', 'আক্রোশ', 'বলয়ে', 'শির', 'মৃত্যুতে', 'মিলল', 'নানার', 'পাকস্থলি', 'উপক্রম', 'মানিককে', 'মাঠটা', 'সকালেই', 'রাখ', 'চষে', 'কতদূর', 'মৃতদেহ', 'কান্ড', 'রীতি', 'বিভোর', 'ক্ষোভের', 'মাতালের', 'গলি', 'ভাঙতে', 'ধাম', 'বুঝল', 'নেতিবাচক', 'আখেরে', 'পারেন।', 'জান', 'যাও।', 'কখনই', 'রাখি', 'ভারসাম্য', 'ইতি', 'পাঠালো', 'প্রহরীরাও', 'তালুকদার', 'সুপ্রসন্ন', 'শেখাতে', 'নাচতে', 'চারটা', 'বাবুর্চি', 'ঝলক', 'রাতটা', 'চায়নি', 'প্রয়োজনে', 'প্রাণির', 'বর্শার', 'ডুকরে', 'প্রলাপ', 'বৈশিষ্ট্য', 'কাগজটাতে', 'এগুতে', 'আসবেন।', 'মূল্যে', 'টলে', 'হুঁশ', 'ভুলতে', 'প্রতিভা', 'সামাদ', 'অনুভূতিটা', 'ধাতস্থ', 'মালিককে', 'বিকালে', 'চেঞ্জ', 'উত্তাল', 'কোষ', 'তাপ', 'দেখাতেই', 'একশ্রেণি', 'ধর্ষণ', 'পরিচিতির', 'আপা', 'জটলার', 'মাথাতেই', 'মুরগি', 'পাটি', 'তরুণদের', 'ইশ', 'শ্রেণির', 'গাছটা', 'ক্ষমতাসীনরা', 'ভোলানো', 'ততটাই', 'প্রত্যাখ্যান', 'যেটুকু', 'নামই', 'নিবে', 'জয়ধ্বনি', 'অন্যকেউ', 'কিনেছে', 'রুদ্রকে', 'লিখছেন', 'পরিশ্রান্ত', 'ছেলে-মেয়েকে', 'গেছিলাম', 'মন্তব্য', 'নেতৃত্ব', 'এতসব', 'ফিরেছেন', 'খোঁচা', 'থকে', 'দমন', 'লক্ষ্যই', 'বানিয়েছি', 'ওমা', 'তারে', 'কর।', 'টিনের', 'নাড়ালাম', 'খাটো', 'ব্র্যাক', 'আতশবাজি', 'ধার্মিক', 'ক্ষমতাসীন', 'ডেলিভারি', 'পর্বে', 'ঢেউয়ের', 'পেলেও', 'ঢালের', 'চুলোয়', 'সাবেক', 'পড়ান', 'হইতে', 'অস্বস্তির', 'সমস্যাটা', 'পছন্দের', 'লকডাউনে', 'টাঙ্গিয়ে', 'প্রবৃত্তি', 'অফুরন্ত', 'বসছে', 'সম্প্রতি', 'অতিথিকে', 'জয়', 'পুলিশের', 'রকমের', 'ডলা', 'পরিবর্তনের', 'পাচ্ছ', 'ধরানো', 'ধ্বংসযজ্ঞ', 'আড়াআড়ি', 'ছেলেটা-', 'ভালভাবে', 'পলিথিন', 'হা…', 'চাইতেন', 'শতক', 'বৃক্ষ', 'জ্বালাবে', 'সৌভাগ্য', 'মরলো', 'কুকুরটাও', 'খাইবো', 'মজুরী', 'থাকতাম।', 'কালার', 'হাসছেন', 'দোয়া', 'তাণ্ডব', 'বোতলটা', 'এতটাই', 'মামাতো', 'বক্তব্যের', 'বিশ্বাসঘাতকতার', 'দুচোখ', 'পিঁড়িতে', 'স্বজাতিকে', 'গ্রহণের', 'পোদ্দারি', 'ছোটরা', 'দেখেননি', 'নিয়োগ', 'অথিতিকে', 'মুখোশের', 'ধ্বংসাবশেষের', 'সংক্রান্ত', 'পাজর', 'ইতসস্ত', 'গীটারের', 'দলকে', 'পিঠা', 'মোরগ', 'ফুসফুসে', 'সমবয়সী', 'ধাধায়', 'লিখলেন', 'মোড়কে', 'সর্বাধিক', 'জানি।', 'খাতে', 'পাড়ার', 'ছেলেমেয়েকে', 'দলটায়', 'বলি-', 'গুলা', 'কর্মচারীর', 'জুলুম', 'মৌলিক', 'শ্বশুর', 'দ্বায়িত্ব', 'গুরুদায়িত্ব', 'অক্ষরের', 'ফুফুকে', 'থাপড়াইতে', 'তিরস্কৃত', 'টাকাই', 'কষ্টগুলো', 'রেখেছিল', 'পেক্ষাপট', 'পদে', 'প্রকৃতিতে', 'ছাড়লো', 'বৈঠকেই', 'সর্ব', 'চিলতে', 'মৌখিক', 'রাহমান', 'ভাষার', 'ব্যস', 'ভাবনাগুলো', 'ছাড়পত্র', 'আমাকেই', 'ভর্তির', 'দারোয়ানকে', 'অনুসরন', 'কষে', 'বংশ', 'যান।', 'পরপরই', 'এজগত', 'কথাটার', 'বলতো', 'বেকায়দায়', 'জোটে', 'হয়েছিস', 'রমনি', 'অক্ষর', 'দুঃসময়ে', 'আসবাব', 'বলছিলি', 'দুশ্চিন্তার', 'সাড়ারাত', 'আনিয়ে', 'পরিহিত', 'মৃতদেহের', 'পায়।', 'পঞ্চাশ', 'বাক্যের', 'অনিশ্চয়তায়', 'স্বপ্নটার', 'কমবয়সী', 'ছন্দে', 'করেলেন', 'উদ্ভট', 'অমনি', 'মা-', 'শোনাত', 'বসাবে', 'অবস্থাতেও', 'গাছে', 'জাতের', 'ত', 'খাওয়ালে', 'শোনাও', 'অনুসন্ধান', 'আগমনের', 'রূপকথাকে', 'দুজনকেই', 'প্লাবিত', 'স্বপ্নটায়', 'ভিত্তি', 'গ্রীষ্মে', 'বানাই', 'কথামত', 'কথাটুকু', 'দৃশ্যগুলো', 'গিললেন', 'অতিমানবীয়', 'বউয়ের', 'প্রতিষ্ঠা', 'পারিস।', 'তুমিতে', 'আর্তনাত', '৬', 'সংজ্ঞা', 'ফকিরের', 'তৃপ্তির', 'বন্ধুটিকে', '৭', 'উভয়ই', 'সেদিনও', 'মারামারিতে', 'বিচরণ', 'আলুর', 'লিখেছেন', 'রমজান', 'দিগ্বিদিক', 'ভাঙছে', 'নিমের', 'বিরক্তই', 'বারান্দার', 'চালালেন', 'আভিজাত্যের', 'লাগলে', 'চলছিল', 'বিদ্যা-অপবিদ্যা', 'শীতকাল', 'প্রস্তুতকৃত', 'মন্ত্রীর', 'টিভির', 'একথাটা', 'টার', 'পরিধি', 'হলপ', 'শিরোনামে', 'এসেছে।', 'ফিরবে', 'দুঃচিন্তা', 'উড়বে', 'উৎসাহী', 'গিলবে', \"দু'বছর\", 'আপনি।', 'আম্মু', 'বেঁধেছি', 'ভাবছিলাম', 'উন্মাদ', 'দাঁড়াব', 'চাইছি', 'বাজনা', 'দাঁড়ালে', 'কইছে', 'চেয়েছিলো', 'কৃষকের', 'মিথ্যাচার', 'বাসর', 'আত্মহত্যা', 'ভিত', 'পারতো', 'ক্লিয়ার', 'পত্রহীন', 'থামছেই', 'বহন', 'কোনটাই', 'শত্রুতা', 'জমবে', 'উচ্চারন', 'প্ররোচনা', 'কসম', 'ধর্মের', 'স্বার্থ', 'হলঘর', 'দেখাচ্ছিল', 'বাঁশি', 'উড়তে', 'দ্বিরেফ।', 'সরব', 'নির্বাসনে', 'চললেন', 'দুর্লভ', 'দ্বিরেফকেই', 'সর্বস্ব', 'সম্মতির', 'কমিয়ে', 'প্রতিক্ষনে', 'না।কিন্তু', 'উপাদেয়', 'ঈশ্বরই', 'করাটা', 'অনুমোদনহীন', 'নারীমূর্তি', 'গৃহবাসীর', 'মরীচিকার', 'ইদ', 'মরীচিকা', 'পাহাড়টা', 'আকস্মিক', 'ঈগলের', 'কর্মকাণ্ড', 'গর্ত', 'স্বাধীন', 'পরাজিত', 'বয়সটা', 'দিপুকেও', 'প্রথমদিন', 'প্রাণি', 'জাহাজের', 'চাট্টিখানি', 'সীমাহীন', 'কর্ণপাত', 'কৌতুহল', 'দিচ্ছি।', 'শিখলে', 'ক্ষৌণী।', 'টাটকা', 'তিরষ্কারের', 'অপেক্ষারত', 'সন্ন্যাসী-', 'উপযোগ', 'জ্যোতি', 'ফিকে', 'মূর্খ', 'শব্দটাই', 'বিউটি', 'পার্লার', 'আছিলাম', 'প্রকাশিত', 'চিমনির', 'বিক্ষিপ্তভাবে', 'হওয়াতে', 'বৈকি', 'ত্রুটি', 'দৃষ্টিসীমা', 'হাজিরা', 'রিভিউটা', 'অল্পতেই', 'বিচ্ছিন্ন', 'দাড়াও', 'কিংকর্তব্যবিমূঢ়', 'চেরাগ', 'গরু-ছাগল', 'নীতি-নির্ধারকরা', 'শ্যাষ', 'নির্জনতাকে', 'চলমান', 'বড়বোন', 'বিষাদের', 'নির্বিঘ্নে', 'থাকাতেই', 'জনই', 'ভিক্ষুকরা', 'অবগাহন', 'মেঘ-', 'ব্যাথ্যা', 'ছাড়ো।', 'চললে', 'চাই-', 'লোকগুলোর', 'দেখনি', 'খেলেই', 'গোছাতে', 'হাওয়ার', 'বাঁধন', 'দাঁড়িয়েই', 'কর\\u200dতে', 'চকচকে', 'দীর্যশ্বাস', 'রাতেও', 'জাগা', 'সাধ্যের', 'ঠেকছে', 'সহযোগীর', 'আগ্রহের', 'নালীতেই', 'গেছিস', 'পাঠাব', 'ঈশ্বর', 'নীলেই', 'যা-', 'কাটে', 'গরু-ছাগলের', 'সাহসের', 'প্রতারণা', 'একবুক', 'রেখা', 'নার্স', 'অসুন্দর', 'খিদে', 'ভঙ্গি', 'পেচিয়ে', 'ছিল-', 'কুঁড়েঘরের', 'যেদিকে', 'লেপ্টে', 'সেদিক', 'খাননি', 'অর্ধনমিত', 'কোকড়া', 'রুকাইয়াও', 'ভিক্ষুক', 'গুরুত্বপূর্ন', 'সত্যিকার', 'ট্যাঁও', 'স্বান্তনার', 'মাতিয়ে', 'গলবিল', 'পাংচার', 'পাল্টায়', 'তটস্থ', 'ছিলনা', 'সমাধানে', 'নালীতে।', 'দোরানও', 'ধনীদের', 'মোড়টাতে', 'পাত্রপক্ষ', 'চিবোতে', 'উড়ো', 'জ্ঞানীর', 'ছুয়ে', 'মই', 'ভাষ্য', 'তুমিই', 'রেশমী', 'তাড়ানোর', 'মনোবল', 'অনুভুতি', 'আনাগোনা', 'কবিতাটা', 'পাগলামো', 'ইয়ত্তা', 'থাকবে-', 'সহোদরা', 'সাবধানতার', 'ধরেছিল', 'সুবিশাল', 'কেডা', 'খোড়া', 'ক্লান্তিহীন', 'শীর্ণকায়', 'পথচলা-', 'সুন্দরতম', 'ভাজি', 'বস্তুটার', 'কষ্টই', 'সরাইখানায়', 'পেটান', 'এজন্যে', 'সৌম্য', 'ভগ্নপ্রায়', 'শুনেছিল', 'শেখার', 'পালিয়েছে।', 'খাইনি', 'গুণের', 'দলনেতা', 'বস্তুকে', 'গুরুগম্ভীর', 'ফোটা', 'অমিয়', 'বরের', 'এককোণে', 'ওয়ার্ল্ডকে', 'সাধনার', 'এলেন', 'দুঃশ্চিতার', 'বীজটা', 'থর', 'মায়ে', 'বুদ্ধের', 'সংগীত', 'নোট', 'রাখি।', 'শোনো।', 'দিগন্তের', 'দিমু', 'নিরব', 'পরিবেশটা', 'বস্তুগুলো', 'শিখেছেন', 'লোকগাথা', 'পাল্টাতে', 'বর্ণহীন', 'আলফিকে', 'প্রসঙ্গ', 'বুনতে', 'চাকরির', 'ঝাঁপ', 'সুনিশ্চিত', 'তফাদার', 'ছাড়াই', 'সাদরে', 'মোমবাতি', 'রিমিঝিম', 'শিখছি', 'নজির', 'সূর্যোদয়ের', 'কুসুম', 'ঢোকেন', 'নিও', 'বিকেলবেলা', 'প্যাকেট', 'খোঁয়াড়', 'জ্বালা', 'গহ্বরে', 'দিগন্তেই', 'মেটে', 'গহ্বর', 'ঘটনাটা', 'বটগাছটাতে', 'হোকনা', 'মাধ্যম', 'করণীয়', 'মেষের', 'কিনা-', 'হাসবে', 'পার্থিব', 'কাগজগুলো', 'বারণ।', 'ইতিমধ্যে', 'প্রতিটাক্ষণ', 'ঝাঁঝালো', 'হননি।', 'গুন', 'ভদ্রতার', 'এগোলাম', 'উপভোগের', 'রিক্সার', 'দুর্যোগে', 'দু-একটা', 'জায়গার', 'সরানোর', 'বিধ্বস্ত', 'দৃষ্টিসীমায়', 'মসজিদ', 'ধূলিময়', 'মৃত্যুপুরীতে', 'সবেমাত্র', 'পাতি', 'চলতেই', 'কিছুদুর', 'ডোবার', 'এজগতেরই', 'কোষাগার', 'সেক্ষেত্রে', 'জানোয়ার', 'চুলও', 'অকৃতকার্য', 'জড়তা', 'ঝাঁঝের', 'বানাইনি', 'নিবু', 'দৃঢ়তার', 'ভাইদের', 'সঙ্গীদের', 'ভূমিকায়', 'পক্ষের', 'সূচ', 'যাবে-', 'ভয়াবহ', 'বাঁচাবে', 'জুড়ি', 'পড়িনি', 'দাঁড়া', 'মাদক', 'ছেলে-মেয়ে', 'মুষড়ে', 'প্রথাকে', 'বুকেই', 'পূর্বাভাস', 'ভাতের', 'সানগ্লাস', 'মাঝারি', 'মনোক্ষুণ', 'বস্তিতে', 'ওয়ালিদ-', 'ছেলেই', 'হাটা', 'তাওতো', 'এজগতের', 'পুকুরে', 'ক্রোধ', 'সংখ্যাটা', 'ঝালাই', 'আপনারই', 'তুষারশুভ্র', 'সংগ্রামের', 'সুতা', 'জগতটা', 'ভাগনে', 'প্রেমিকার', 'থেকেছে', 'ঠোঁঠে', 'দাঁড়িয়েছিল', 'পাল', 'লিখেছি', 'পৌঁছেছিল', 'কারনেই', 'তারাকে', 'পাগলটা', 'জ্বরও', 'চেঁচামেচি', 'স্বাভাবিকভাবে', 'আত্মবিশ্বাসের', 'আছন্ন', 'মাটিতেই', 'পাইছে', 'এরাও', 'ঝাউবনে', 'ইংরেজিতে', 'গেরস্থ', 'আতিথেয়তার', 'আত্মবিশ্বাসে', 'সূর্যটার', 'চাইছিলাম', 'ফিস', 'পেশি', 'উন্নতি', 'রূপজীবার', 'পাচ্ছিলাম', 'দুমুখো', 'অদৃশা', 'হয়েছিলাম', 'ডাবরিবাসীকে', 'আসামী', 'দেয়।', 'সৈনিকের', 'পাইলে', 'বাসভবনের', 'করেছি।', 'চারক', 'জামার', 'কাটাকাটি', 'ভুলোনা', 'বর্ষের', 'হাজারবার', 'সংলাপ', 'পেরেছো', 'হাজিরার', 'অন্যভাবে', 'আবহাওয়ার', 'যতদূরে', 'কমই', 'পরিয়ে', 'কবচের', 'সুপুরুষ', 'আরোহন', 'সম্বল', 'একখণ্ড', 'জেল', 'গৃহবন্দী', 'বিলটা', 'ব্যক্তিকে', 'অঙ্গভঙ্গি', 'ভাতে', 'শ্বাসকষ্ট', 'হাড়ি', 'প্রজন্মকে', 'সুদূরে', 'ব্যবসায়ী', 'বিলীন', 'পড়বি', 'শক্তিকে', 'বদ্ধমূল', 'দরজাও', 'বাইর', 'অনিশ্চয়তাকে', 'বেশ।', 'খাতায়', 'নাশক', 'অঞ্চলে', 'কঞ্চি', 'ঘোষ', 'সংসারের', 'উনার', 'তারার', 'পারতেই', 'বিরাজমান', 'দাদুর', 'অবশেষ', 'সঙ্গতা', 'নো', 'তাকিয়েছ', 'বিদেশী', 'নারীই', 'দিনপর', 'উত্তপ্ত', 'কুচকাওয়াজ', 'কলাপাতা', 'মুসড়ে', 'থাকলাম', 'কথাগুলোতে', 'মুর্তির', 'থেমেছে', 'বিষাক্ত', 'সবগুলো', 'নিতাম', 'হাবুডুবু', 'ফেলেছি।', 'গেরস্থের', 'জনস্রোত', 'বলেছিলো', 'ফুটলো', 'তোমার।', 'সেদিন।', 'থাকলেন', 'চারজনের', 'প্রমাণিত', 'সুঘ্রাণে', 'করাটাও', 'নাদুসনুদুস', 'ভ্রাতা', 'অনুগত', 'দলছুট', 'করে-বলে', 'কামান', 'বসানোর', 'ভ্রান্ত', 'সীমায়', 'দাগে', 'অনর্গল', 'চলেছে।', 'নেয়ায়', 'যারাই', 'অটল', 'সমূহ', 'আবেগের', 'লিভানকে', 'টলমল', 'পরার', 'দ্যাখে', 'অভিযানে', 'অতটা', 'মিছিলের', 'ত্রিশজনকে', 'চালায়', 'ক্ষিপ্র', '``', 'নামব', 'অবুঝ', 'মহাকাল', 'চেহারাটা', 'কর্মী', 'গোধূলি', 'ঝাড়ু', 'ফিকটাস…', 'মানবাধিকার', 'আজস্র', 'বোঝালেন', 'তুললেন', 'অশেষ', 'তুলেই', 'অগ্রভাগে', 'সাতার', 'সামনেও', 'পদার্থবিজ্ঞান', 'আয়।', 'অতিক্রমের', 'হবারই', 'বসেছি', 'দায়ভার', 'তুলতুলা', 'কৌশলী', 'একেছে', 'হাসপাতালের', 'ছোট্টো', 'প্রিয়জন', 'বেলকনিতে', 'কপট', 'ঘুরিয়েই', 'নিগেলও', 'গ্লাসে', 'তুলা', 'হিন্দু', 'দিয়েছিলো', 'শিকায়', 'আধা', 'মেঘগুলো', 'নিয়েছিলাম।', 'নিশ্চিন্তে', 'যাক-', 'চালাটুকু', 'তরবারিগুলো', 'কুলাচ্ছে', 'ফিলিক্সও', 'একবারি', 'বাঁধে', 'ভেজানো', 'লাগতো', 'সম্রাজ্যে', 'ব্রাহ্মণকে', 'ওয়ানে', 'শুনতেই', 'গেয়ে', 'বুলি', 'করছিলে', 'শুনিবেনা', 'ড্রাম', 'তাকালেই', 'বুঝেছ', 'রান্নাঘরের', 'নিহিত', 'ফরসা', 'সত্যগুলো', 'স্বার্থের', 'ফাঁসজাল', 'রাতটার', 'গোপনীয়', 'অবৈধ', 'আজীবন', 'গভীরতা', 'ঠেকাতে', 'উঠি।', 'আলখাল্লার', 'মরলে', 'অন্যকিছু', 'সুসজ্জিত', 'ঠাওর', 'জঙ্গলে', 'বুঝেছি', 'বসবো', 'বাড়ায়', 'হারা', 'ঘুমান', 'স্রোতহীন', 'আন্দোলন', 'আগাছাগুলো', 'লিখবো', 'লাইট', 'রপ্ত', 'যুগল', 'কহিবে', 'আইন', 'নিষ্প্রাণ', 'আমন', 'পারছেনা', 'দাড়ালাম', 'পড়ালেখার', 'পৃষ্ঠায়', 'ভাবেন', 'কাঁপন', 'মশারির', 'একশ্রেণীর', 'এঁকেছি।', 'তাড়াহুড়ো', 'হইলেই', 'সাদামাটা', 'কমায়', 'আসছো', 'দেহে', 'নামা', 'পরিকল্পনাটা', 'গাইবান্ধা', 'দরজাগুলো', 'ফেঁপে', 'দাড়ালেন', 'আসেনা', 'দোকানেই', 'লেখালেখি', 'পৌঁছতে', 'করিনা', 'ক্ষতটা', 'দগদগে', 'আয়েশী', 'পর্দাটা', 'স্বপ্নবাজ', 'থামলে', '২য়', 'খাবারগুলো', 'শিরশির', 'তৈরিই', 'বিরস', 'সাইনবোর্ড', 'অতিবাহিত', 'খাওয়াবে', 'রেখেছিলাম', 'খালের', 'বিবাগী', 'অংশটা', 'উদ্ধত', 'থুথু', 'রুকাইয়া-', 'দিস', 'ওয়ালিদও', 'কুঞ্চিত', 'খোদাই', 'স্কিপসোফ্রেনিয়া', 'এঁকেছি', 'হাজারটা', 'দেহটা', 'শামুকের', 'যাচ্ছ', 'উচিয়ে', 'করেছিস', 'ভদ্রলোকের', 'পিঠের', 'লাগলেন', 'সালেহার', 'চটে', 'কাতরাচ্ছে', 'একনজর', 'থামাতে', 'শফিকের', 'কামুক', 'থামে', 'এরমধ্যে', 'সঙ্গিনীকে', 'আহমেদ', 'তরবারির', '……', 'ধ্বংস-মৃত্যুর', 'বিরতিহীন', 'সাধ্যমত', 'বেরসিক', 'গন্ধে', 'ঝাঁকুনি', 'তীব্রতা', 'হাবিজাবি', 'কাজও', 'অতিসাবধানী', 'দর্শক', 'সুগন্ধি', 'সঁপে', 'টক', 'জমিজমা', 'ঘুমাবো', 'চাওয়ি', 'পরিচারিকাদ্বয়', 'পাখিকে', 'পরিবারকে', 'নীচতলায়', 'পিলারটা', 'ফড়', 'বিলাস', 'পিষে', 'বাবারে', 'বিশ্বাসই', 'এগিয়েছে', 'ভালোলাগার', 'দুর্ঘটনাকে', 'ঘরটাকে', 'ঘেরার', 'ঘরকে', 'চলেছ', 'টু', 'ধর্ষণের', 'অযথা', 'প্রবাহের', 'শশা', 'টেরই', 'স্বয়ংসম্পূর্ণ', 'অকৃপণভাবে', 'আগন্তুককে', 'শয়তান', 'কামড়ায়', 'ডাটাটা', 'ভিজিয়ে', 'পরিচর্যাকারীর', 'বিশ্রাম', 'প্রাথমিক', 'এরমাঝেই', 'থিওরিটা', 'বসি', 'নিন', 'শিখিয়ে', 'হলফ', 'সেন্স', 'গদিতে', 'কাতরতা', 'ব্যাংকের', 'মুখটি', 'চুম্বন', 'শকুন', 'বাগান', 'শয়তানের', 'ঘুষ', 'বিরক্তিকর', 'প্রাণকে', 'সম্মূখীন', 'উল্লেখ', 'লাবন্য', 'পাকাচ্ছে', 'গুছতাখি', 'টিপিক্যাল', 'আপার', 'বললি', 'পরিচিত।', 'করেনি।', 'নেড়ি', 'পারবোনা', 'দৃশ্যে', 'ধকল', 'কদিনে', 'ঝাঁকড়া', 'অফ', 'সংক্ষেপে', 'কাপড়ের', 'সাক্ষাৎ', 'অলক্ষ্যে', 'খেরবাড়িতে', 'বেহাল', 'শক্তিও', 'হিউমার', 'প্রতিবাদে', 'গুল্ম', 'ক্রুর', 'চক্রবৃদ্ধি', 'তৃষ্ণার্ত', 'ফোনে', 'জেগেই', 'ফলের', 'বিষটা', 'পিটপিট', 'হাসাতে', 'পতপত', 'কীটনাশকের', 'স্রোতস্বিনী', 'চেরার', 'সূর্যকে', 'কচিপাতার', 'বুঝেন', 'বালিকার', 'পাচ্ছিলেন', 'সাক্ষাতের', 'জামাটা', 'সাধু', 'স্রষ্টাকে', 'নির্মম', 'বৃক্ষের', 'জেলের', 'গণ্ডগোল', 'বিলুপ্ত', 'স্বপ্নটাকে', 'ঢিলেঢালা', 'পাওনাটাই', 'উপরি', 'এসেছিলো', 'লাগাল', 'নির্ধারক', 'কইলে', 'মাথাও', 'প্রতিবিম্ব', 'বাসনা', 'হাবিল', 'কোথাকার-', 'বিস্তৃন', 'ধ্বংসাবশেষ', 'ছাত্রছাত্রীদের', 'বিষের', 'ভাবুন', 'পদভারে', 'খামোশ', 'ঝাউবন', 'দুর্গের', 'মুছছে', 'নুইয়ে', 'রাজায়', 'জলদি', 'লাখে', 'উদ্বিগ্ন', 'ধাঁধানো', 'ফাঁকে', 'হিংসা', 'বাজল', 'ছেলে-মেয়েরা', 'চা-পাতা', 'শুনেছিস', 'আস্তাবল', 'ন', 'বারোটা', 'গোয়ালের', 'সময়েও', 'পদের', 'মুড়ি', 'নিকটে', 'অভিযোগের', 'কানেও', 'বুঝছি', 'অস্তমিত', 'হাত-মুখ', 'দেবতার', 'অন্যমনস্ক', 'গুচ্ছ', 'সৈকতকে', 'মাথানিচু', 'বাবা-মা', 'মারছে', 'অভাবে', 'উদ্রেক', 'চৌকির', 'কবরে', 'গোপনীয়।', 'গল্প।', 'ভেজানোর', 'বুদ্ধিমানের', 'ঠাঁই', 'মশাই', 'ব্যবহৃত', 'বেড়িয়েছি', 'আমাকে।', 'সংকোচ', 'যাইবো', 'সহস্রবার', 'ন্যাকামি', 'অপার্থিব', 'কক্ষপথে', 'একদিক', '#', 'আউলায়', 'রোজই', 'কোনমতে', 'আনবো', 'ঝগড়া', 'লেগেই', 'সমুদ্রতীরে', 'দেশপ্রেম', 'সদরে', 'কাকড়া', 'উর্ধ্বে', 'পুকুর', 'মরণ', 'ঝিনুক', 'জড়িত', 'খাবারটা', 'বিশ্বাসের', 'গড়াগড়ি', 'নানী', 'পেয়ালা', 'নেতিয়ে', 'অস্থায়ী', 'হ্যাঁচকা', 'তারের', 'শালা', 'কাঁটায়', 'তালার', 'কাচা', 'বিরুৎ', 'গরুগুলো', 'গুনে', 'জনসমুদ্রের', 'একেকভাবে', 'ঠেকেছে', 'লড়াকু', 'প্রকাশ্যে', 'মুখটাই', 'পটলের', 'দ্বিপ্রহরে', 'বাতাসটা', 'বাথরুমে', 'যেকোনো', 'প্রবেশদ্বারে', 'মোকাবেলা', 'ফড়িয়াকে', 'কিছুদিনের', 'ছাল', 'ইথান।', 'ঘেষে', 'টানাটানি', 'শুক্রবার', 'মারবে', 'জমলে', 'রেহাই', 'মারটা', 'চারাগাছ', 'বেগুন', 'দুপাশে', 'বিদ্যাটা', 'শিখতে', 'মাছরাঙ্গাটা', 'কিনারায়', 'আলু', 'স্বভাবে', 'বর্ষণে', 'কারোই', 'দুইজনের', 'একলা', 'সংঘর্ষের', 'বাঁচাল', 'পুত্রের', 'আক্রমণের', 'বিজ্ঞান', 'প্রবণতা', 'মুখো', 'অর্ধ', 'থাকবেনা', 'ধরণের', 'নিরবে', 'স্রষ্টার', 'গোয়ালঘর', 'রেখে-', 'সাগর', 'ভাসমান', 'যাইম', 'ধান্দাবাজ', 'চাকুগুলো', 'জড়ানো', 'চোরাবালিতে', 'চরমে', 'ক্ষান্ত', 'হৃদপিণ্ড', 'শরীরটাও', 'হামার', 'দেখলেও', 'যাওয়াটাই', 'ডেকেছি', 'ভাবিস', 'জটলাগুলো', 'কাজটাও', 'পেরেছিলে', 'টবে', 'পকেটেই', 'পত', 'তরুণের', 'স্বপ্নগুলো', 'ভোজবাজির', 'সমীচিন', 'লোকসান', 'চট', 'এটার', 'শখের', 'অপরাধের', 'ব্যাঙের', 'সাহায্যে', 'রাখবি', 'লাগা', 'কাচের', 'উপোস', 'বলতে-', 'চুড়ি', 'বেজে', 'ফড়িয়াগুলো', 'দাবা', 'হারিকেনের', 'দেখাতাম', 'নাটকীয়তা', 'ডজন', 'শুক্লাকে', 'নিলেই', 'জাতি', 'পরিশ্রমী', 'রাহিকা', 'রফিক', 'ঘামছে', 'প্রেমের', 'আলোড়ন', 'থামতে', 'অভিপ্রায়ে', 'চিত্রকর্মগুলো', 'রূহ', 'নিলজ্জ', 'দেয়ালগুলো', 'ফ্রাই', 'বান্দরকে', 'তাকাবে', 'করনি', 'দাঁড়ালেই', 'হাড়গুলো', 'ঘেরা', 'জঙ্গল', 'শোষকের', 'পিছ', 'বিদ্যুতের', 'দলে', 'ফড়িয়াটা', 'ঢাল', 'রাজসিক', 'বাছুরটাকেও', 'প্রাচুর্য', 'ঘৃণায়', 'নেতৃত্বে', 'প্রার্থণা', 'জনসাধারণ', 'ভেবেছিলেন', 'স্যূপের', 'কোমর', 'দালালটা', 'দুর্বলতার', 'মনযোগ', 'ফড়িয়াটার', 'অবলীলায়', 'ইঞ্চি', 'কয়েল', 'আদর্শ', 'কল্পনাকে', 'হাঁসগুলো', 'বললাম-', 'মৌ', 'আরেকটা', 'দু-একটি', 'ঘোরেন', 'শুনেছ', 'কটকট', 'দ্যা', 'পাড়টা', 'বিভাজনের', 'আনছি', 'বপন', 'তেজ', 'কাজগুলো', 'দক্ষিণে', 'চাইছো', 'অবিরাম', 'প্রক্রিয়া', 'ভাসাবে', 'গুহা', 'মাসেই', 'মালপত্র', 'শাখা-প্রশাখা', 'খাতির', 'বট', 'মনোযোগের', 'এমনিতেও', 'পারছিলাম', 'তেলের', 'মানুষগুলোর', 'খুললে', 'আশ্বাসটুকু', 'পেরেছিল', 'সরূপ', 'দিতেন', 'বাড়িয়েছিল', 'বাবা।', 'বেরোবার', 'রংপুর', 'বেরিয়েছিল', 'মানুষটাই', 'অপ্রকাশিত', 'বিড়ালের', 'ততক্ষনে', 'ভুলব', 'ঢিপ', 'রণে', 'বুলাতে', 'শিখায়', 'কোটটা', 'কেশাগ্র', 'বেশী', 'সার্থকতা', 'কেলিয়ে', 'ছুতে', 'আত্মসমর্পণ', 'অচেনাই', 'বাবরি', 'important', 'তিনজনই', 'আহার', 'বিভ্রমে', 'কথাটায়', 'আসবে।', '-আচ্ছা', 'পৃষ্ঠা', 'ভাঙ্গি', 'পাতাতেই', 'পাওনি', 'বেইমান', 'মধ্যদুপুরে', 'বেইমানি', 'আনমনা', 'ম্লান', 'ঢোকাতে', 'ছাতাটা', 'গতকালের', 'হাতি', 'জানবে', 'প্রিয়ার', 'এখনকার', 'অবস্থাতে', 'লাভটা', 'পৌছালো', 'ডেমিটনদের', 'তাজা', 'ভুলের', 'দণ্ড', 'সান্ত্বনা', 'দোষে', 'বর্ষাকালে', 'কাঁদছ', 'বলছিলে', 'বসেছিলে', 'রাখবার', 'খুজছিলাম', 'নিখুঁত', 'পড়েই', 'বিলাশপুর', 'চারিদিক', 'লাগবেই', 'একখন্ড', 'নাটকে', 'টমিকে', 'সবকিছুতেই', 'ছপ', 'চাষ', 'সুবিধাই', 'বাজেভাবে', 'সাক্ষ্য', 'যাচ্ছি-', 'বস্ত্র', 'মাস্ক', 'চাইতেও', 'ভাঙবে', 'পরেছে', 'বেগতিক', 'পাহারাদার', 'দামি', 'কেমনে', 'কোটের', 'কুড়িয়ে', 'দেশপ্রমিকের', 'স্বর্গীয়', 'গুপ্তচরের', 'লাগাচ্ছে', 'ধিক্কার', 'আজরাঈল', 'এরমধ্যেই', 'বলিনি।', 'জলজ্যান্ত', 'ঘুরতেই', 'কাটানো', 'শে', 'একজোড়া', 'কাটল', 'কাঁদো', 'নামতেই', 'অন', 'ঢাকনার', 'অনুষ্ঠান', 'বরন', 'হবো', 'প্রদর্শনী', 'হাঁপাচ্ছে', 'অবাস্তব', 'আলখাল্লাটা', 'চাকতির', 'ডিঙ্গিয়ে', 'গজ', 'সখ্যতা', 'বলবি', 'অনলেই', 'অনলে', 'গেছলাম', 'ঠেস', 'চইলা', 'বন', 'রূপালী', 'গজের', 'ফাইজলামি', 'যাচ্ছেনা', 'ধাক্কার', 'হাসিকে', 'জ্বিনদের', 'নিত্য', 'ইন্দ্রিয়', 'ফেরালো', 'পালাবার', 'রাষ্ট্রপ্রধান', 'বারবার।', 'হাতও', 'পুষে', 'উঠ', 'লুকোচুরি', 'ভাগ্যে', 'নিঃসঙ্গতাকে', 'প্রশস্থ', 'উঠান', 'বক্সের', 'প্রাচীর', 'পরিবর্তনটাও', 'গুলির', 'হয়েছিল।', 'ময়লার', 'কইতাম', 'কিছুক্ষনপর', 'দাওয়া', 'সয়', 'প্রজ্ঞা', 'ডাউন', 'ফ্যাকাশে', 'বুকশেলফ', 'এগারো', 'সংখ্যাই', 'কালকের', 'ঝুঁকিপূর্ণ', 'রাখাটা', 'আর্থিক', 'ভাববার', 'থামলেন', 'গাইছে', 'তো।', 'হারাবে', 'শ্রেষ্ঠত্বের', 'ডিসটাব', 'এতই', 'পোক্ত', 'অট্টহাসির', 'আটকিয়ে', 'পার্কে', 'সুদে-আসলে', 'করবে।', 'উপদেশ', 'বলেও', 'স্মৃতিতে', 'লিখেছো', 'লাগার', 'কুকুরটার', 'আচমকা', 'অরে', 'বুকিং', 'কণা', 'কামলা', 'পাপ', 'আটকায়', 'দুনিয়ার', 'স্বল্পভাষী', 'একদন্ড', 'হোসেনের', 'বেড়াচ্ছে।', 'সঙ্গত', 'বিশৃঙ্খলার', 'পরীক্ষাটা', 'ঈশ্বরের', 'বিচক্ষণতা', 'মর্ত্যে', 'ওদিক', 'হাসছিলে', 'ওয়েবে', 'রাজত্ব', 'স্বপ্রণোদিত', 'লোম', 'তথ্যগুলো', 'নড়বড়ে', 'সমাধি', 'শুনিনি', 'বিন্দুমাত্র', 'ধরতেই', 'বুবুকে', 'নাবিকের', 'খাব।', 'স্মৃতিতেই', 'মাইয়ারা', 'পূর্বপুরুষরা', 'হেরে', 'বিদ্বেষ', 'মৃত্যুই', 'মরুভূমি', 'গড়ন', 'প্রকষ্টে', 'ভাবতেও', 'নাই।', 'সোজাসুজি', 'রাখলাম', 'গাড়িওয়ালারা', 'করছেনা', 'নকল', 'আটকুঁড়ে', 'মাতাল', 'গাড়ির', 'লিখছিল', 'ডাকবে', 'বিন্যস্ত', 'লজ্জার', 'আনলেন', 'দেখছিলে', 'কদাকর', 'আগুন্তুকের', 'মৌসুমে', 'খোলাসা', 'অপেক্ষমান', 'আচার', 'ওপাড়ে', 'জগতকে', 'নিশ্চিহ্ন', 'বাদলা', 'নিস্তব্ধ', 'নিশ্বাসের', 'ধড়ফড়', 'গড়া', 'এলিশিয়ান', 'খাওয়ায়', 'অকাল', 'আবাদি', 'ছেলেটির', 'চোঙের', 'প্রাক্কালে', 'ভিতরেই', 'স্পস্ট', 'গোলা', 'ছাড়ানোর', 'ঝিমাচ্ছে', 'ব্যাস', 'বুলিয়েছে', 'প্রাণী', 'সঙ্গীরা', 'সভার', 'শুইয়ে', 'তরুণীকে', 'নির্যাতিত', 'চেম্বারের', 'প্রভুর', 'বেমানান', 'খাঁচায়', 'পূর্বপুরুষরাই', 'খাঁচা', 'হুড', 'জলাতে', 'অজান্তে', 'সেভাবে', 'ট্রফি', 'টিকতে', 'সিনেমার', 'ইয়ে', 'হাইড্রার', 'হিসাবে', 'দু-চোখ', 'ভাবছিস', 'হ্যাকিং', 'হয়ে-', 'নৃত্য', 'দেরী', 'রূপসার', 'একতা', 'আগোচরে', 'মূলত', 'গয়না', 'মজাই', 'অধিপতিকে', 'ফ্লাইট', 'গিয়েছো', 'রঙশালার', 'পালকের', 'বাড়ী', 'আফরিনকে', 'কন্যাকে', 'বাজারটা', 'শ্রম', 'পাঁচে', 'সস্তায়', 'বেশকিছু', 'কানায়', 'সুখানুভূতি', 'ভাষণ', 'খাচ্ছি', 'দশ-বারো', 'সুখী', 'সাতে', 'কাষ্ঠ্যমঞ্চে', 'পরমুহূর্তেই', 'গরুগুলিকে', 'কেনই', 'জমাতে', 'ক্ষণিকপর', 'একপাশে', 'খাবো', 'প্রতিরোধের', 'কদমে', 'মুড', 'ফিলিক্স।', 'শ্বশুরের', 'ধাপড়ি-ধুপড়ি', 'যেতাম।', 'বোনটার', 'নির্লিপ্তভাবে', 'সযত্নে', 'দুইজনই', 'গাইতে', 'দরুন', 'সম্পত্তি', 'প্যাডেলে', 'মাতৃতন্ত্র', 'জেনেশুনে', 'জীবন্দশায়', 'সবাইরে', 'চক্রবর্তীর', 'বুদ্ধিটা', 'আকৃতির', 'খচখচানি', 'বালক', 'বিরোধী', 'গ্রাফ', 'দাহ', 'কেপে', 'কৈফিয়ত', 'জনগণকে', 'সচরাচর', 'চেড়ে', 'জীবনেও', 'ঘোড়ার', 'গর্বিত', 'কাটলো', 'অমঙ্গল', 'হইচই', 'শুকানোর', 'উত্তেজনা', 'বারি', 'কটমট', 'বউমা', 'ভাসায়', 'নাগরিক', 'যেকেউ', 'দায়সারা', 'মৃগী', 'কন্ঠস্বর', 'পড়াচ্ছেন', 'প্রশ্নটাই', 'ঝিরি', 'মহত্ব', 'মতোই', 'ফাটিয়ে', 'ডাইরীর', 'তিলও', 'অপব্যবহার', 'নবীশ', 'ভারতে', 'নিরর্থক', 'তাকাবার', 'লাভও', 'আলেয়াকে', 'তবে…', 'প্রতিমাসে', 'অপ্রয়োজনীয়', 'অসহযোগ', 'মগ্ন', 'বাড়াই', 'প্রান্ত', 'উটকো', 'ভাউচার', 'সাঁ', 'বিদঘুটে', 'জনশূন্য', 'কবুল', 'অবিরত', 'গলবিলে', 'মহল', 'অভিভাবক', 'নামটাই', 'জুটলে', 'পাখিদের', 'পাতে', 'দুইদিনের', 'জলস্রোত', 'ভয়টুকু', 'চাচ্ছি', 'নির্ঘাত', 'রুগীর', 'বিস্তারিত', 'ধুলি-ধূসর', 'জানল', 'ঘাটের', 'অপরাধীর', 'মেটায়', 'বাহ্', 'বাদ্যযন্ত্রের', 'কাঁদ', 'মিছরির', 'মান-সম্মান', 'বোঝাও', 'বাদ্যযন্ত্র', 'শিশি', 'যৌবনের', 'আতঙ্কে', 'পরিচারিকাদের', 'ভাবতাম', 'আশপাশ', 'শোয়ার', 'নদীটা', 'চেয়েছিলে', 'হাশর', 'সুস্থতা', 'মাঝামাঝি', 'অমলিন', 'অস্থিতিশীল', 'আগে।', 'একাটা', 'গুজব', 'জেদাজেদিতে', 'একেবারেই', 'মৌনতায়', 'আবোল-তাবোল', 'ততোটা', 'পাবিনা', 'ছায়াও', 'উদ্যান', 'তুলেছেন', 'শিউড়ে', 'নারে', 'কিছুনা', 'দিদি', 'সরাতেই', '-এই', 'ভ্রমর', 'গৃহযুদ্ধ', 'নাড়িভুড়ি', 'যতোটা', 'বাড়ালাম', 'ব্যবস্থাই', 'কেন-', 'বিচ্ছুর', 'ব্যবহারের', 'আছে-', 'ঘোড়াটাকে', 'বানাচ্ছে', 'কোটি', 'রাসয়নিক', 'পাউন্ডের', 'খামতি', 'কাবু', 'বাতাসও', 'নিয়মে', 'জনগণের', 'আস্তাবলের', 'ঝড়তে', 'ভুগছে', 'খোলাচুল', 'উদ্দ্রেক', 'নিপাত', 'ঘুমানোর', 'জড়', 'ডাবরিপ্রধান', 'আধপাকা', 'নম্বরটা', 'গবেষণা', 'ঠিকমত', 'ইচ্ছাও', 'বাজছে', 'শেয়ার', 'শ্লোগানের', 'গ্রহের', 'কোলাহলে', 'জ্বলজ্বল', 'আলী', 'দশদিন', 'বলেন।', 'জন্মদিন', 'তাইলে', 'এম', 'পাতাবাহারের', 'নির্মলকে', 'জলাধর', 'পৌঁছালে', 'শূলে', 'নেক্সট', 'স্টেপ', 'মুল', 'হা-হা-হা', 'চিন্তাকে', 'রূপা-', 'দুর্বলতাকে', 'কমলো', 'ভালোবাসতো', 'কোর্ট', 'পানিও', 'মদের', 'রান্নাঘরে', 'হলুদের', 'কাহফও', 'গামছা', 'যায়-', 'আতঙ্ক', 'বাঁচান', 'নামলো', 'বালুর', 'বেরিয়েছে', 'রশি', 'বেড়াব', 'সুকৌশলে', 'বোনা', 'দিমিত্রিভকে', 'পরিস্থিতিতেও', 'ঘোষণার', 'মাও', 'মারধর', 'প্রায়ই', 'লুঙ্গি', 'ইট', 'গোলাপের', 'মাধ্যমেই', 'ছোঁড়া', 'চেঁচিয়ে', 'ছাউনির', 'বাজি', 'ভক্ত', 'বারুদের', 'কণ্ঠস্বরগুলো', 'মোবাইলের', 'পঁচিশ', 'ভড়কে', 'কেঁদেই', 'বাড়ল', 'বসত', 'উদঘাটন', 'বৌদি', 'ডানদিকে', 'অদূরেই', 'কয়েকদিনে', 'জানে।', 'পরশুদিন', 'ত্যাক্ত', 'ভুত', 'নকশায়', 'শোনো', 'জরাজীর্ণ', 'নাশের', 'সভ্য', 'প্রাণীর', 'তারপরে', 'রোদের', 'কাটুক', 'শুভ্র-বসনা', 'ছিদ্রগুলো', 'ঘুরলেই', 'জন্মদিনের', 'মহামারীর', 'অপরাধবোধ', 'প্লাকার্ড', 'খতম', 'দরজাটায়', 'যুদ্ধে', 'খট', 'হঠ্যাৎ', 'অশ্বথ', 'সদ্যজাত', 'ফিসফাস', 'লাইনটা', 'ভুবন', 'একবিংশ', 'রাখতেন', 'বজ্রপাতের', 'শতকের', 'ক্ষমতাধর', 'স্থানীয়', 'সেদিনই', 'হন্তদন্ত', 'রোকসানাও', 'ছেলেটাও', 'বিপ', 'একদমই', 'শাড়ির', 'দেখালেন', 'খুনীকে', 'নাড়লেন', 'চোখটা', 'তড়াক', 'চাইলাম', 'মোম', 'গোনা', 'বিপ্লবী', 'ভোঁতা', 'তুলতেই', 'অন্ধের', 'চিরতরে', 'নিয়েও', 'উপুর', 'মুছিয়ে', 'হিস', 'দাইদের', 'ওপরেই', 'বুঝিনি।', 'উভয়েরই', 'কোনকিছুই', 'লম্বাটে', 'চিনবেন', 'খেয়েও', 'গর্ভবতী', 'খাঁজগুলো', 'আধ', 'জবাই', 'চিতার', 'মেয়েটাই', 'শতাব্দীর', 'জুন', 'বাতাসটুকু', 'ইলেক্ট্রন', 'না।আমি', 'গোসলে', 'যাচ্ছি।', 'যন্ত্রণায়', 'নির্জনতায়', 'কিলোমিটার', 'ফাটানো', 'প্রসব', 'খয়েরি', 'বেষ্টনি', 'স্বাচ্ছন্দ্য', 'বর্শাটা', 'এতদূরে', 'শৃঙ্খলে', 'ছাতিম', 'বশবর্তী', 'খাঁজ', 'ভাগ্যের', 'বজ্রপাতে', 'অঙ্কটা', 'কোম্পানিগুলো', 'শিখেই', 'বউদি', 'গোপনে', 'প্রতিজ্ঞা', 'চেষ্টাও', 'চলন', 'নারীকে', 'স্বাভাবিকের', 'একেই', 'হয়েছো', 'লড়ে', 'পরাজয়', 'ঘাসের', 'খবরও', 'ছবিটার', 'ফুটছে', 'তোলেনি', 'দ্বিরেফদের', 'মহাপ্রলয়ের', 'বুঝবেন', 'ঘি', 'কাউ', 'সম্মোহন', 'তেলে', 'সামলাবে', 'চপচপ', 'তিলে', 'টুপি', 'ফুটো', 'মহামান্য', 'বসুন।', 'উর্বর', 'সভ্যতাকে', 'অবসরের', 'আচ্ছাদন', 'বেরোবেন', 'দরবারে', 'চিন্তা-ভাবনা', 'মানানসই', 'খাইয়ে', 'বিষাদ', 'যায়নি।', 'আটকাবো', 'অতীতকে', 'কাসার', 'জ্ঞানী-গুণী', 'শিশুটি', 'নেই।বাবা', 'অভাজনকে', 'চিনলাম', 'নিজেরাই', 'বোনটা', 'অগোচরে', 'ক্রস', 'জয়ের', 'বিজয়ীর', '-আপনাকে', 'বহুক্ষন', 'ছায়ামূর্তি', 'থাম', 'নাড়াতে', 'সার', 'ভ্রমণসঙ্গী', 'চিঠি', 'ধুতি', 'পরেছেন', 'ছুঁড়েছে', 'কসবিকে', 'প্রধানকে', 'কেঁদেছি', 'বক্তার', 'উশকো', 'ঝাঁকিয়ে', 'দাঁড়ালো', 'খুশকো', 'দাড়াতে', 'সঙ্গে', 'কনস্টেবলদের', '-এটা', 'পৌছাল', 'স্থানুর', 'নদীকে', 'তাকালাম', 'কীভাবে', 'চেয়েছেন', 'স্বজন', 'কাশফুল', 'লিপিবদ্ধ', 'বেড়াই', 'রাতারাতি', 'মুজারিবদের', 'রেললাইনের', 'রাঙিয়ে', 'নীড়', 'বাকিতে', 'লিখি', '-অবশ্যই', 'যায়না', 'জামিনের', 'অনেকটাই', 'পারছিল', 'কর্পূরের', 'রাইত', 'ক্ষমতাচুত', 'অসাধ্য', 'সত্বেও', 'বিরতিতে', '।যদিও', 'ঘটলো', 'সয়ে', 'শার্টের', 'ঘাবড়াল', 'আনবে', 'খেয়ালই', 'স্রস্টার', 'বক্তব্য', 'বিদ্যমান', 'জিতে', 'চেয়ারের', 'পাঠাইলাম', 'ভীড়ের', 'কইলেন', 'ভদ্রমহিলা', 'ঝনঝন', 'নৈঋতও', 'পিচ্ছিল', 'শ্যাওলা', 'সাহসে', 'ক্যামেরাম্যান', 'ব্যাপিত', 'বসনে', 'একদিনের', 'যন্ত্রনা', 'যুবায়েরকে', 'ভয়ও', 'পদচিহ্ন', 'গ্লানি', 'বিচির', 'যৌবন', 'আবাধ', 'গ্লুকোজ', 'খাইছি', 'তিরস্কার', 'নর্দমার', 'বটগাছটা', 'ঝুড়ির', 'পরেও', 'দ্বীপ', 'গাউন', 'দুইদিন', 'লাগল-', 'চেয়ারটাতে', 'আইলে', 'ভুলি', 'ভুস', 'ওঠানো', 'অভিনয়ের', 'জিনিসপত্র', 'নিষ্ঠুর', 'দেখছ', 'সান্তনা', 'চোখজোড়া', 'ছায়ামূর্তিটা', 'নিচ্ছি', 'পরিধেয়', 'জ্বি।', 'এতকিছু', 'প্রচ্ছন্ন', 'প্রচলিত', 'সীমাবদ্ধ', 'মনেই', 'দ্বিতীয়জন', 'সাইফ।', 'কোনরকম', 'এনেছো', 'বলেননি', '৫', 'স্বপ্নতরীটি', 'গ্রাম', 'পালতোলা', 'বিদ্যালয়', 'ট্রেনটা', 'স্কুলগামী', 'মইধ্যেই', 'টোস্ট', 'হস্পিটালে', 'দাঙ্গা', 'লিখছে', 'ছবিগুলো', 'জ্বলতে', 'খোরাক', 'নিঃপ্রান', 'কাড়ি', 'আইজকা', 'ফিরেই', 'নেমেই', 'পারি।', 'নিবিড়', 'মূর্খতার', 'টানার', 'চাহনিতে', 'অতীতটাকে', 'টিম', 'ভ্রূক্ষেপ', 'বেরিয়েছেন', 'ঘামায়', 'পট', 'শিশুতোষ', 'উধত', 'ঠোঁঠ', 'ওয়ালীদাদ', 'প্রজেক্ট', 'ভাঙলো', 'আড়মোড়া', 'পারিশ্রমিক', 'থুপ', 'ঠাকুরের', 'সাক্ষাতে', 'থাকাটা', 'বিদিত', 'নিখোঁজ', 'থুতনি', 'মন্দ', 'যতগুলো', 'চমকিত', 'রাজপুত্রের', 'ফারিয়াও', 'চেতন', 'ফকিরকে', 'পড়াই', 'আরামে', 'বলুন।', 'ব্যক্তির', 'যাননি', 'গাঁথা।', 'সুতোয়', 'মিমপি।', 'তারিখ', '।কিন্তু', 'একান্তভাবে', 'মারি', 'অন্ধকারটা', 'যাবারই', 'রাগের', 'দেখভাল', 'সমগ্র', 'বুকভরা', 'দিনরাত', 'আশেক', 'বৈধতা', 'নিবিতাদের', 'আল্লহু', 'তের', 'ফেলেছি', 'ভেতরের', 'পাঠাও', 'ধরো', 'খানা', 'উম্মাদ', 'সূর্যোদয়ে', 'আবেশে', 'নিমু', 'কারাগারে', 'মুর্তি', 'জলাঞ্জলি', 'হাঁটব', 'আসীন', 'কিশোরীর', 'বিকাল', 'থামালেন', 'বীণার', 'আনুষ্ঠানিকতা', 'পাঠিয়েছিল', 'আক্ষরিক', 'লাজুক', 'দাঁড়িয়েছেন', 'হস্তান্তর', 'চেন', 'চাচ্ছিস', 'বিস্তর', 'নামুক', 'সুশৃঙ্খল', 'ফায়দা', 'অপূর্ণ', 'প্রবহমান', 'তীর', 'ডগায়', 'সাফল্য', 'সীমার', 'ষ্টেশন', 'বাড়িটাতে', 'উঠেছেন', 'ফিরবার', 'পেছাতে', 'থাকবে।', 'থলে', 'সম্মোহিতের', 'ততক্ষণ', 'উপকরণ', 'হসপিটালে', 'আঁকছে', 'নেভানোর', 'দুহাত', 'যামুগা।', 'শুরু-', 'ধুতে', 'কর্কশ', 'ভেঙ্গেছে', 'ভগ্নাংশে', 'শুয়ারের', 'সোনা', 'তিনবার', 'সংশয়ের', 'হাবিলদার', 'স্নান', 'পাড়া', 'ব্রিজটা', 'দাসত্বের', 'সালে', 'বল।', 'বিনে', 'আছে।তার', 'ধাওয়া', 'সর্বশেষ', 'ঘুরেছে', 'চীনাবাদামের', 'নাম।', 'আনেনি', 'টলতে', 'দশম', 'ঘটানোর', 'ঢলে', 'মানানোর', 'ঘুরি', 'ঢং', 'সাজাল', 'মহাশূন্যে', 'বইতে', 'শোন।', 'মহাশূন্যের', 'ভাগে', 'গুঁজে', 'অংশকে', 'ক্ষুধার্ত', 'ভাসা', 'ফলকে', 'খুনটা', 'ঢাকতে', 'ওয়ালিদাদ', 'কামড়', 'পিপাসা', 'হবে…', 'মানুষগুলোই', 'তথ্যের', 'চক', 'প্রভাতের', 'বিতর্ক', 'কেন্দ্রের', 'ছুঁড়ছে', 'সন্ধানে', 'শত্রুদের', 'যা।', 'চোখেই', 'একীভূত', 'কামিয়ে', 'গ্রীষ্মকালে', 'কাশবনে', 'ঘুমাচ্ছিল', 'বদলোক', 'দ্বেবিদ্বার', 'বাঁচি', 'বাড়িটায়', 'পৌছে', 'পেরেই', 'হরকলির', 'পত্রগুলো', 'মানসপটে', '৪৮', 'সকালটা', 'ঘোরানোর', 'খুলেই', 'খাওয়ানো', 'কেদারা', 'জয়োল্লাসে', 'রাখতো', 'ছটা', 'বারান্দাতেই', 'ছুকছুক', 'সগৌরবে', 'উচু', 'যাইহোক', 'ছুড়ে', 'কেবিনে', 'হিসেবটা', 'আছে।আমি', 'নেশাগ্রস্থ', 'শাখা', 'ধারনক্ষমতা', 'ঐটুকুই', 'জাতে', 'বসো', 'হারিকেন', 'কোৎ', 'ঘটনাই', 'প্রতিদিনকার', 'মত।তার', 'অমুক', 'নৈঋতে', 'কেন্দ্রবিন্দুতে', 'তাণ্ডবে', 'শুন্যে', 'কার্ণিশ', 'নহর', 'মোছার', 'কাদার', 'ওবায়দুর-রুকাইয়ার', 'থোকায়', 'প্রভু', 'ঘুরাঘুরি', 'অপলক', 'অনিশ্চিতভাবে', 'কুচকুচে', 'উপহার।', 'প্রতিমা', 'আঙুলে', 'উঁচুতে', 'এলোমেলোভাবে', 'নিখুঁতভাবে', 'বালাই', 'কালক্ষেপণের', 'জ্বালায়', 'বাস্তবায়ন', 'ভৎসনা', 'আধশোয়া', 'নামটাও', 'পরিবর্তনটুকু', 'মেলেনি', 'আছিতো', 'থাকেনা', 'তরফ', 'ছোকরাকে', 'ততবার', 'ইটের', 'ইন্টারনেট', 'ঝুঁকিয়ে', 'খারাপের', 'ক্লান্তিকে', 'ইন্টারেস্টিং', 'অর্থনৈতিক', 'নীরবে', 'আবশ্যক', 'বালুময়', 'চাচ্ছিলাম', 'হাতেনাতে', 'স্বাদের', 'মাধ্যমিক', 'তরলের', 'শিক্ষার্থী', 'ছুটেছে', 'নাতো', 'জমি-জমার', 'কোল', 'সংযোগ', 'বিদায়ের', 'বেসামরিক', 'নাইনে', 'কৃষ্ণচূড়ার', 'জমছে', 'ফিফটি-ফিফটি', 'চান্স', 'কারণটা', 'বর্নের', 'শ্রমিককে', 'স্থপতি', 'পেচানো', 'মানুষরে', 'প্লান', 'কাঁদলে', 'পেয়াদার', 'অস্তিত্বকে', 'গোলক', 'কন্ঠ', 'জিহ্বা', 'উল্টিয়ে', 'ভালবাসি', 'চরাতে', 'যাওয়ারও', 'সম্ভোধন', 'খুর', 'কেঁদেছে', 'তিস্তায়', 'পারমিশন', 'গোয়াল', 'খামটা', 'সমস্বরে', 'পাওনা', 'ব্যাপারই', 'বৃত্তিটা', 'আরামদায়ক', 'জ্বালানোর', 'দ্বিতীয়ত', 'গেছ', 'রন্ধ্রে', 'নিরবতা', 'অতীব', 'বাতিটা', 'অতৃপ্তি', 'বকুল', 'লেখেনি', 'পারিজাত', 'উত্তরাধিকারীরা', 'কর্মস্থলের', '।আমি', 'করেছিলি', 'ফ্যালফ্যাল', 'দীর্ঘতম', 'এসেছিলে', 'পরিচয়টা', 'পালাবদলের', 'কোঁকড়া', 'কণ্ঠের', 'মনঃক্ষুন্ন', 'হিম', 'পতিত', 'অসীমে', 'সচেতনভাবে', 'পুরোপুরি', 'বুদ্ধিদীপ্ত', 'গ্রিলের', 'পরিশোধ', 'বদের', 'কণ্ঠস্বরে', 'ঝাড়া', 'অববাহিকার', 'জায়গাতেই', '-আপনার', 'ফিনিক্স', 'বিস্তার', 'বাষ্পের', 'হাড্ডি', 'হয়েছে।আমি', 'অগ্রাহ্য', 'নির্দেশনা', 'বাধের', 'সম্ভাবা', '-কারণ', 'কামরাতেই', 'ঈষৎ', 'মাকেও', 'রোমাঞ্চিত', 'জলরাশির', 'মারব', 'বেলার', 'চিকন', 'জুটবে', 'I', 'বুঝানোর', 'সাহেবকে', 'যেখানেই', 'সাহচার্য', 'ঝাঁকি', 'জাগানোর', 'অন্ততকাল', 'সুদূর', 'আকর্ষণীয়', 'যাবো-', 'খুলতেই', 'বাতাসকে', 'প্রাকৃতিক', 'দূরেই', 'ট্রেনের', 'শ্রদ্ধেয়', 'ব্যাটার', 'নিশ্বাঃস', 'শববাহী', 'পাগলি', 'সারল্য', 'প্রকট', 'দরবারের', 'শিম-ভাজি', 'আত্মপক্ষ', 'পরত', 'আরাধ্য', 'উদ্দ্যম', 'প্রার্থনারত', 'ছায়ায়', 'সেগুলোতে', 'মধ্যদিয়ে', 'ইচ্ছার', 'বক্সে', 'নম্র', 'দিনমজুর', 'সিদ্ধ', 'সাধিত', 'দশেক', 'কষ্টটা', 'লোমকূপ', 'অভিনব', 'কাটলেই', 'আঠাগুলো', 'থোকায়', 'টুপ', 'হাহ…', 'টিপটাকে', 'সঙ্গতাকে', 'থানা', 'বন্দীশালা', 'of', 'আল্লাহ্\\u200c', 'ডাকেনি', 'রূপবতী', 'উপায়ও', 'সাবলীলভাবে', 'ধরবো', 'সময়টাতে', 'জ্বালাও', 'বসন্ত', 'নি।বাবা', 'সামানে', 'নিবিটার', 'মধ্যবয়সী', 'কাঁদা', 'সরীসৃপ', 'বাঁধছে', 'ব্রাহ্মণ', 'ফাসাইছে', 'মেঘকে', 'বুট', 'কদমবুচি', 'অভিসার', 'বস্তি', 'কায়দায়', 'হাড়ি-পাতিল', 'পড়েছে', 'জ্যোৎস্নাটুকু', 'দশভাগের', 'নবীজী', 'খায়া', 'ততোই', 'এলা', 'বুড়ো-ছেলেদের', 'গরুগুলা', 'শুন্যতায়', 'ভালোলাগছে', 'তাড়াও', 'হাতড়াতে', 'রুকাইয়াই', 'দেঁতো-', 'স্যুপ', 'আলামত', 'সামন', 'প্যাটার্নটা', 'এটা-তো', 'দিবার', 'কলতান', 'কাদা-পলি', 'টেহা', 'খাইলি', 'জ্বিগাস', 'ঘৃণা-বোধ', 'টেতন', 'করুম', 'গালিচা', 'দিয়ে', 'চাকরও', 'প্রাণভরে', 'ক্রিতিকর্ম', 'ভাবতাছি', 'ঝাটা', 'গোয়ালঘরের', 'কামে', 'বাটাইয়া', 'বুঝবো', 'মশারিটা', 'বুঝতেছেন', 'বোবা', 'ফালাই', 'চালককে', 'ওয়ালিদ-ফারিয়া', 'তেলাপোকার', 'জাকির', 'ব্যবসা-পাতি', 'খুঁটিতে', 'ভাসতেছে', 'জামানার', 'মাখছে', 'দিয়াশলাই', 'বাঁশবনের', 'কাশফুলের', 'বিক্রিই', 'ততোক্ষণে', 'সাবাড়', 'পেপে', 'টার্ম', 'চরটাতে', 'সবের', 'কিচিরমিচির', 'নেইম', 'নেইস', 'সময়কার', 'বর্ডার', 'জাহান্নামে', 'কাশফুলগুলো', 'সমারোহ', 'হইব', 'চুবানি', 'পামু', '-আসলে', 'প্রকৃতিকে', 'বয়লার', 'বউয়ের-', 'বকনা', 'লিখলি', 'ফল।পুষ্টি', 'ওপাড়ের', 'খেটে', 'অনেকদিনের', 'কৌতূহলের', 'খানেও', 'বল্ল-', 'বৌ', 'ক্ষতস্থানে', 'মাথাব্যথা', 'দেখেছিস', 'মুই', 'নিজেরও', 'জ্বলন্ত', 'শোধের', 'কিননা', 'যাইতি', 'ব্রয়লারে', 'বাঁশ', 'প্রয়াস', 'রাগাটা', 'খোশগল্প', 'করাইতেছি', 'দাদী', 'রফিককে', 'বাছুরটা', 'বহুরূপী', 'যামো-', 'চুমো', 'মানও', 'আস্তরণ', 'ক্ষমায়', 'বুঝবি', 'নাতি-নাতনিকে', 'খাড়ায়', 'মইধ্যে', 'ব্যবসায়ীরা', 'কয়া', 'খাড়াও', 'সংকোচ-বোধ', 'শরতের', 'মইরা', '১৮-২১', 'যতোগুলা', 'পুড়ো', 'লেনদেন', 'ব্যাপারটায়', 'গজায়', 'লাগতেছে', 'জবাবদিহি', 'তড়িঘড়ি', 'ভালই', 'সরলভাব', 'মারতাম', 'গ্রাফের', 'শুভ্রতা', 'সাঁতরে', 'পলির', 'ব্যবসাপাতি', 'ইবাদত', 'শইল্লে', 'ওরাও', 'কাজকাম', 'করাইলো', 'ছিঃছিঃ', 'বেড়ার', 'কালাই', 'মাচা', 'বুঝলা', 'পেপার', 'ট্রিক', 'কোনোদিনও', 'চিন্তাগ্রস্থ', 'ব্যবসায়ীকে', 'তেন', 'কষাকষি', 'কইল্লো', 'বুঝা', 'পুঁজের', 'খামুনা', 'সকাল-সন্ধ্যা', 'হালাল', 'হটার', 'নানীর', 'প্রানপণ', 'আজিত-খোড়ার', 'নিরুপায়', 'একপাশ', 'বিশ্বাসী', 'কাঁদতো', 'কাঁদতাম', 'পরবর্তীদের', 'পূর্ববর্তী', 'ওজনের', 'সমর্পণ', 'প্যাঁরাসিটামল', 'সুমহান', 'অ্যান্টিবায়োটিক', 'পুরাপুরি', 'ফাকা', 'দৈহিক', 'পায়ু', 'ওষুধটা', 'সাগরকে', 'বারন্দায়', 'ক্ষণস্থায়ী', 'ম্যালেরিয়া', 'করালাম।তারপর', 'অমানবিক', 'প্রতিমাসেই', 'নিস্তব্ধতার', 'বস্তাগুলোকে', 'সংশয়বাদী', 'বিবেকের', 'ধূলিকণার', 'শাক', 'ছুটা', 'বুয়ার', 'করমু', 'বুঝায়', 'ব্যাটারা', 'বাচ্ছা', 'খেদাইয়া', 'পোলার', 'আপনেরেও', 'বাচ্চা-কাচ্চা', 'বউগুলা', 'গুলিকে', 'জাক', 'পারুম', 'ছানা', 'জেট', 'প্রদক্ষিণ', 'জীবন-মৃত্যু', 'কিন্ত', 'সহোদর', 'হাটু', 'জন্মমৃত্যু', 'দুই-তিন', 'সন্তুষ্টি', 'আবদ্ধ', 'লাউ', 'শিম', 'ধূলিকণাকেও', 'আকৃতি', 'কাঁপুনির', 'বাড়ার', 'রিকটার', 'স্কেলের', 'ভুমিকম্প', 'কাপছে', 'ভুমিকম্পের', 'ওকে-', 'কাঁপুক', 'ভোরেই', 'আজানের', 'মহাবিশ্ব', 'নিঃস্ব', 'একবিন্দুতে', 'পাড়েই', 'লাঠিতে', 'জন্মেরও', 'এতিম', 'থাকবে।এ', 'অনন্তকালের', 'ছায়াপথ', 'নক্ষত্রবিধ', 'হাঁপাচ্ছিস', 'ভাঙ্গলেও', 'প্রোটন', 'নিউট্রন', 'দা', 'প্রোটনে', 'বিমর্ষ', 'গেছে।কাঁদতে', 'চক্রাকারে', 'ধূলিকণাগুলো', 'যাওয়া-আসা', 'ফলগুলো', 'কণার', 'বেড়াচ্ছি', 'টাকে', 'প্রাঙ্গণ', 'নাচাইব', 'গিজগিজ', 'নিমাইচরণ', 'কয়েদিখানায়', 'নির্মলের', 'করেন-', 'চিড়িয়াখানায়', 'এতেও', 'নিলি', 'ভগবান', 'ছুড়তে', 'সৃষ্টিকর্তার', 'টুকরা', 'শবদেহ', 'জ্বলার', 'মুখাগ্নি', 'প্রেক্ষার', 'শিশিতে', 'ওষুধের', 'সাজানোর', 'আবোলতাবোল', 'ফুঁসে', 'চইল্যা', 'বালুচরকে', 'চমকায়', 'চিল্লাচিল্লি', 'খাইলাম', 'টাশকি', 'সমাচার', 'তোষামোদ', 'মতোও', 'ঘামা', 'পুলিশে', 'গরমে', 'বেঞ্চিটাতে', 'ঘোরাঘুরি', 'আম্মারে', 'খালা', 'লাগেনা', 'দেইখা', 'শালার', 'বসাইলো', 'কইল–', 'উশৃঙ্খল', 'শাসিয়ে', 'পাঠাই', 'ধূমপান', 'আনাও', 'জনরে', 'ট্রিটমেন্টে', 'হাসো', 'দু-সপ্তাহ', 'ঠেকিয়ে', 'বাপেরে', 'খামাখা', 'আসমু', 'উৎপাত', 'নিশপিশ', 'করতাছে', 'টগবগ', 'দেখতাছেন', 'এরেও', 'ডিস্টাব', 'দাড়াইছেন', 'দরকার-', 'চাচ্ছ', 'চড়-থাপ্পড়', 'নিয়েই-তো', 'ধরায়', 'নাতে', 'শাস্তিও', 'ঘুরঘুর', 'ফেলব', 'বিস্কুট', 'মতেরও', 'শিক্ষক-', 'রংপুরে', 'কালেক্ট', 'মাইয়াই', 'শুনেন', 'লোকও', 'উড়াং', 'পাড়াং', 'সান্ত্বনাটুকু', 'খাইলেও', 'পাউডার', 'বানাউক', 'No', 'হল-', 'এবারই', 'দাড়ালো', 'আগাছাগুলোকে', 'জন্মেছিল', '।অন্য', 'আগাছার', 'ডেউয়ার', 'ডেউয়া', 'শইল্ল', 'রোচে', 'অভয়', 'মোরা', 'পইড়া', 'আইছি', 'পোলাটারে', 'চাইর', 'কল্পনাগুলোকে', 'দেড়', 'চাইপা', 'ধরলেই', 'তুলুক', 'আনমু', 'উপদ্র', 'ভরিয়ে', 'মোবাইলে', 'করাইতে', 'ফলগুলোকে', 'লালচে', 'শাঁসের', 'খাওয়াইলেই', 'Problem.', 'আলবত', 'বদনামি', 'মশকরা', 'খামোখা', 'জড়াইয়োনা', 'আমারি', 'দ্বীন-দুনিয়া', 'ট্রিটমেন্টের', 'আনব', 'এইভাবে', 'ভুগানো', 'ঘুরাইতেছেন', 'শৌখিন', 'কল-কবজা', 'পাঠিয়েছিলাম', 'সিম', 'ফালায়', 'ধারাপাত', 'টেনশন', 'নিয়েন', 'সিরিয়াস', 'কেরোসিন', 'কাটাচ্ছে', 'হেঁসে', 'বেতনটা', 'কাপুনি', 'বুড়ির', 'বসায়া', 'চিত্রকর্ম', 'জানালাটা', 'আম্মুর', 'আম্মুকে', 'অতিমাত্রা', 'বানাইছে', 'শইল্লের', 'জন্যেও', 'বেঞ্চে', 'জমিয়েছে', 'বান্ধবীদের', 'একাধিক', 'যাওনের', 'ঘুমাইতেছে।', 'গ্যারেজে', '০৬', 'রোড', 'হলুদে', '০২', '-ইতি', 'চাপার', 'কাঁঠালি', 'ব্লাড', 'টেস্ট', 'টরীক্ষা', 'করাচ্ছেন', 'গ্যারাজের', 'Sense', 'মুরগির', 'ঝালমুড়ি-ওয়ালা', 'মুক্তভুমি', 'রেইনকোট', 'তালি', 'আমেজ', 'পারিনি-', 'গার্লস', 'ছাত্রদের', 'থাকো', 'দেয়।আর', 'নেমেছো', 'বোঝা-বুঝি', 'তাঁকে', 'দাড়া', 'কলম', 'খাতার', 'রচনাটা', 'সাইক্রেটিস্ট', 'অচিরেই', 'হেমায়েতপুরে', 'হেমায়েত', 'পুরে', 'উন্মাদকে', 'ছাত্রছাত্রীরা', 'সবগুলোতে', 'জীবিকা', 'নড়লো', 'নির্ধারণ', 'আকাশটাই', 'ক্রেতার', 'humour', 'হাঁসেদের', 'রিং', 'মাছে', 'বর্ষ', 'সীমানাহীন', 'টেংরা', 'ফিজিক্স', 'শিং', 'সুপ্রসন্নই', 'ব্যাপক', 'জালের', 'মনোবিজ্ঞানের', 'সাপগুলো', 'রোগের', 'অসুস্থতা', 'হয়।ভাগ্য', 'ভেলায়', 'মালকোঁচা', 'চরিত্রকে', 'ব্যাবহার', 'মৌসুমেই', 'কাড়ে', 'ভেলার', 'পড়েনা', 'নামলাম', 'রাতও', 'ঝুপ', 'ভিটেছাড়া', 'দো-তলা', 'হরহামেশাই', 'পুঁটি', 'mc2', 'খিলখিল', '=', 'চার-পাচ', 'পাট', 'জামাটার', 'চেইনটা', 'টোর', 'মাছগুলো', 'খড়াজাল', 'কোতোয়ালী', 'অনতিদূরে', 'ওযুখানার', 'সেরেই', 'স', 'ছাড়াচ্ছে', 'পেয়ারা', 'বাবর-হুমায়ুন', 'টাইপ।', 'স্থানান্তরের', 'হুমায়ুনের', 'অসুখ', 'বাবরের', 'স্থানান্তর', 'বাবর', 'বাবর-হুমায়ূন', 'পাঁচদিন', 'চিমটি', 'জালটা', 'E', 'থাকেন-', 'খাচ্ছিলাম', 'শোনাবে-', 'বৃত্তি-যোগ্য', 'কমার', 'এসেছি।সাধারণত', 'প্রবর্তন', 'কৃতি', 'ঢোকানো', 'নিয়ম-মত', 'রোগ-মুক্তি', 'ঝিম-ঝিম', 'বিলাশপুরের', 'শিক্ষার্থীদের', 'উপজেলার', 'করলো-', 'মামায়', 'ঘাড়তেড়া', 'প্যাটের', 'প্যাটে', 'থাকবার', 'বইল্লা', 'ফালাইলাম', 'দিনকালের', 'ম্যাজম্যাজ', 'হিসটরি', 'মহল্লায়', 'আফজাল', 'দ্বীন', 'শরিক', 'দঅ', 'অক্টোবর', 'হুলস্থুল', 'আমটাও', 'মাতালরা', 'ভাইব্রেশন', 'পড়েও', 'ভাইব্রেশ্ন', 'অপ্রতুলতার', 'খাইছিস', 'ভেজে', 'টরে', 'have', 'an', 'matter', 'to', 'deal', 'with', 'you.', 'মার্কেটে', 'লাগছিল', 'এলাহী', 'বৃষ্টি-', 'হলনা', 'রাজশাহী-চাপাই', 'ওখান', 'কেজি।', 'শায়েস্তা', 'খাঁর', 'আমল', 'সাতকড়া', 'নির্বাচন', 'জাহান', 'কামিয়াব', 'ফ্যাসাদে', 'কুমিল্লা', 'আড়াই', 'শো', 'কিনলাম', 'ফিঙা', 'ঝুলায়া', 'রাইতের', 'এগারোটায়', 'রৌদ্রের', 'টিইকা', 'নীলপাতা', 'বাইচা', '২৭', 'কুমারীর', 'কওন', 'লে', 'ভাইয়ারে', 'চ', 'খেলিয়াছে', 'সেলফ', 'চশমা', 'মুভি', 'দেখছিলেন', 'চুল-চোখের', 'টিভি', 'দেহ-বুলায়ে', 'ধুয়েছে', 'উদ্দেশ্যকরে', 'ফিরলো', 'ঝিমাবে', 'কুকর্ম', 'রামপুরায়', 'রায়ের', 'হাইফাই', 'স্টেজে', 'উইঠা', 'পুরা', 'এপাশ-ওপাশ', 'দ্যাখেনা', 'ভোঁরে', 'আইলাম', 'নিন্দে', 'কইতেও', 'পলায়া', 'ফেললাম', 'শুয়োরের', 'বান্দাইলো', 'দপ্তরী', 'ক্ষেইপা', 'পরে-চোখের', 'আইসা', 'ছুটি।', 'ভুইল্যা', 'ভালোবাসে-বনের', 'ফিরতিছি।', 'দেইখ্যা', 'চিক্কুর', 'কইলো-', 'বুঝিস', 'পটাপট', 'নানীকে', 'ছায়াটুকু', 'আল্লাহ-হাদীস', 'ধার্য', 'ওবাইয়দুর', 'লক্ষণীয়', 'অনশন', 'আমরণ', 'পাওনাদার', 'জুস', 'চারা', 'ওলটাচ্ছেন', 'জমিগুলো', 'প্রতিরূপ', 'স্পষ্টতার', 'শরৎ', 'আজাইড়া', 'শুনায়েন', 'মহাজ্ঞানী', 'শাপলা', 'পড়াশুনা', 'জেনেটিক্যাল', 'ইঞ্জিনিয়ারিং', 'শরৎকাল', 'চিন্তে', 'পতাকার', 'সন্ন্যাসীও', 'সাগরের', 'বাঁধাকে', 'ফেজের', 'সিরিয়াসলি', 'পরিভ্রমণ', 'নামাজ-কালাম', 'কামড়া-কামড়ির', 'আঁচল', 'সুযুগ', 'চিমটায়', 'ওইখানে', 'দোষ-', 'কইবেন', 'হোন-', 'আউলাইলো', 'শোনেন', 'আরেকজন', 'কাইড়া', 'কাড়িকাড়ি', 'বেলুনে', 'দেখাইছি', 'মানুষ-গিরি', 'লিক', 'মেশাতে', 'বাতাসই', 'বেলুন', 'যাইতাছি', 'ছেঁকে', 'রাইখেন', 'ছাঁকনি', '১৫-১৬', 'এক্তু', 'ধর্মভীরু', 'গতিপথের', 'পড়িয়ে', 'হুই', 'নিঃসীম', 'দিগ্\\u200cদিগন্তের', 'সময়টায়', 'মোর', 'ছোটবেলা', 'যেয়ে', 'আসতাম', 'রবীন্দ্র', 'আজিত-খোঁড়ার', 'ধর-', 'বসতাম', 'কিলোমিটারের', 'ছাতার', 'পাতাটা', 'হাটার', 'প্রত্যেকে', 'সূক্ষভাবে', 'যানবাহনের', 'ঝোপ', 'তাকানো', 'ঢুকলে', 'মহাবিপদ', 'ঘামাচ্ছি', 'মানকচুর', 'বাপু', 'হবেনা-', 'থামবে', 'হুল্লোড়', 'রোঁদের', 'নেমেছি', 'জীব', '০', 'দেখাদেখি', 'কষ্টকর', 'দেহকে', 'শুভকামনা', 'চাল-চলন', 'ভালোবাসো', 'ধ্বনিকে', 'লেখালেখির', 'সেনসিটিভ', 'অনুসরণের', 'ক্রমে', 'ভাষাটা', 'Based', '.', '\\xad', 'শেখাবে', 'গৌণ', 'ওগুলো', 'অতিদ্রুত', 'গন্ডগোল', 'পূর্বাকাশে', 'চিন্তাযুক্ত', 'স্যান্ডেল', 'কাইন্ডলি', 'হ্যান্ডেল', 'রিমিঝিম॥', 'শ্রাবণবর্ষণসঙ্গীতে', 'পাড়বে', 'একজন-', 'আপনেরে', 'ভালমন্দ', 'জানোয়ারের', 'খাওয়াইছে', 'পড়তেছে', 'মালিশ', 'দগদগ', 'কালশিরা', 'ময়লা', 'চেনো', 'হারামি-', 'ঝুটি', 'বাপে', 'শিকা', 'দেবো', 'গুড়ের', 'ফুটা', 'পেটাতে', 'মিথ্যেবাদী', 'ধরলেও', 'দিন-রাত', 'ডুলিতে', 'উঠানটা', 'জানেনা', 'অন্যত্র', 'মোটরসাইকেল', 'বাঁশ-বাগানে', 'টার্গেট', 'গতকালই', 'হস্তক্ষেপ', 'ফন্দিফিকির', 'উৎকণ্ঠিত', 'আজাদকে', 'কুত্তা', 'শাশুড়ির', 'যান-', 'তালাক', 'প্রার্থনার', 'জামাইকে', 'রাবেয়ার', 'টকাতেই', 'পাঠান', 'Monkey', 'Monkey.', 'চিড়িয়াখানা', 'দিচ্ছেন-', 'ফিরিস্তি', 'বাড়ান', 'মারাই', 'মসুর', 'আব্বাও', 'দই', 'রাবেয়া-', 'সালাদ', 'তোল-', 'রূপচর্চায়', 'দ্রব্য', 'মুখমুন্ডলে', 'পাঠাচ্ছি-', 'ধবংস', 'সম্ভবনা', 'খড়ে', 'ভেড়ার', 'খতে', 'বাড়িতেও', 'হোমরা-চোমরা', 'আইটেম', 'সেগুলা', 'মাখিস', 'মাখি', 'মাখলে', 'যাইতো', 'সবগুলা', 'বুয়াকে', 'দিছিস', 'দেইস', 'চুলার', 'দরিয়া', 'হড়বড়', 'আজ-', 'ফিরেও', 'হইলি', 'দেড়ি', 'বলোনা', 'মস্তিষ্ককে', 'রেস্ট', 'ফ্রি', 'মাইন্ডে', 'চুলোটার', 'উঠানের', 'গু-গোবর', 'ব্যাটা-', 'ব্যাটাকে', 'আইটেমও', 'পিড়িঁতে', 'শীতলপাটি', 'মিশনে', 'সটকে', 'ভেড়াই', 'ফাইনাল', 'এক-দুইবার', 'মোটাসোটা', 'নে-', 'চোরকে', 'চুলোটা', 'চললো', 'বলতেও', 'জানে-', 'এক্সপেরিমেন্টাল', 'যাইম।', 'আব্বাই', 'থুইয়া', 'আব্বার', 'স্টার্ট', 'ডাক-', 'প্যাঁদানি', 'ছালের', 'মুসুর', 'শুটকি', 'ভর্তার', 'ছড়াছড়ি', 'বিকালের', 'সময়টাও', 'ফতে', 'চেনা-পরিচয়', 'বৃদ্ধির', 'চিন্তা-ভাবনায়', 'নিছে', 'এপারে', 'গোঁজার', 'ছাপড়া', 'কলকল', 'বিস্কিট', 'ঘুরবে-', 'করল-', 'তোমরাও', 'যুবায়ের-', 'শিক্ষিকা', 'চার-পাঁচ', 'খাটি', 'গাভীর', 'পিওর', 'বিশ্ববিদ্যালয়ের', 'আশ্রয়স্থল', 'বলতাছেন', 'জামায়', 'ফ্যাক্টরি', 'গার্মেন্টস', 'পেশায়', 'ভদ্রলোককে', 'পুলিশদের', 'থেতলায়', 'দেশ-দশের', 'দেশ-দশ', 'কারেন্ট', 'গবাদিপশু', 'দমকলের', 'দিকটাতে', 'যেটাতে', 'ছোটাছুটি', 'ধাধিয়ে', 'বিদ্যালয়ে', 'মনকে', 'আলোড়িত', 'এইট', 'পাগলও', 'অ্যাবসুলট', 'বিউটির', 'Absolute', 'Beauty', 'নামটার', 'উঠাচ্ছেন', 'নির্মাণের', 'শ্বেতশুভ্র', 'ফুটবে', 'শরৎ-এ', 'গোঁফে', 'কাশবন', 'দু-দিক', 'দুটা', 'চরটাকে', 'কচলাচ্ছে', 'কবলে', 'পাড়ায়', 'শক', 'তিনটায়', 'আড়ম্বরেই', 'মর্জি', 'যাবিই', 'প্রেমিকা', 'সাহেবও', 'ঘাপলা', 'গার্মেন্টসে', 'বউসহ', 'ছুমাইয়ার', 'ছাড়ের', 'ওবায়দুর-রুকাইয়া', 'অকাম', 'আসচি', 'বদলোককে', 'হুমকি-ধমকি', 'ঝুকি', 'উঁকি-ঝুকি', 'অর্থই', 'ঢুকায়া', 'হারামজাদা-', 'দাড়ায়া', 'বউরা', 'আঙিনা', 'বউদের', 'হেলতে', 'কানাকড়িও', 'তেড়ে', 'কেল্লা', 'রূপটা', 'এইটাও', 'আসতেছে', 'শাশুড়ি', 'আল্লারে', 'তওবা', 'ইসতেগফার', 'কোত', 'ফেরেশস্তা', 'খালার', 'বন্ধই', 'খটখটে', 'শিরিনকে', 'জিগাইলো', '–ছাদেক', 'থামেনা', 'কনস্টেবলের', 'চায়া', 'খুলবেই', 'ওসির', 'গুষ্টি', 'don', 't', 'care.', 'কট্রাস', 'থাকছে', 'পগারপার', 'এরিয়ায়', 'সামলাইছি', 'এরিয়া', 'ভোঁ', 'ছারখার', 'শেখ', 'চন্দ্রের', 'ভিক্ষার', 'একজোট', 'যেভাবেই', 'হক', 'গড়ায়', 'বাড়তেই', 'অপারগ', 'ভাইজানকে', 'জিনিসও', 'ছাড়েনা', 'শক্ত-সামর্থ্য', 'পারিনা-', 'এনজিও', 'দুইটার', 'আক্ষেপের', 'নির্ভয়', 'বলেনা', 'বাড়ছে-', 'একখান', 'মানত', 'করচি', 'একশখান', 'হাতখালি', 'বহুগুণ', 'একলোক', 'আসচ্ছে', 'প্যাস্টিকে', 'চুলা', '।নতুন', 'দখলের', 'ফুলকি', 'নবাবের', 'ছুটির', 'দুধারে', 'ছাত্রছাত্রীর', 'ভাঁজি', 'খাসনি', 'নাম-ডাক', 'আরোগ্য', 'প্রসার', 'নাই-', 'হুজুর', 'জামা-কাপড়', 'কেরামতি', 'লোকজনের', 'টাকেও', 'খুলছ', 'তরকারী', 'চালকুমড়ার', 'দোহাই', 'তবারক', 'ঘামাচ্ছে', 'মুয়াজ্জিন', 'এতিমখানায়', 'ভাবিয়ে', 'অগ্নিমূর্তি', 'শৃঙ্খলা', 'বিরুদ্ধ', 'থেকে-বেশ', 'প্যাকেটে', 'জ্বাল', 'টিন', 'ওয়ালারা', 'চিটার', 'দাওয়ার', 'পাঠায়া', 'রিযিক', 'দাতা', 'মম', 'প্রিয়তম', 'প্যাঁচাল', 'সখা', 'গীতাঞ্জলী', 'অগ্নিদৃষ্টিতে', 'পাশেরজন', 'ভঙ্গীতে', 'বললেন-', 'এইসবে', 'রবী', 'কলকব্জা', 'যিকির', 'অপরূপ', 'ইনসাফ', 'ঢেউগুলো', 'জানাবো', 'করাবো', 'বুঝিয়েছিলেন', 'সূত্রের', 'ত্রিভুজ', 'প্যাসকেলের', 'ধারি', 'সমুখ', 'বাড়িটে', 'গু', 'আগামীর', 'জাহাঙ্গীর-', 'সাথে-', 'কাড়াকাড়ি', 'বন্দরের', 'আকস্মিতায়', 'পালে', 'নৌকার', 'ভাঁটির', 'উঁচুস্বরে', 'দক্ষিণ-পশ্চিম', 'ঠেলে।', 'হেলায়', 'ক্যা', 'আপনের', 'দোযখে', 'দাখিল', 'আল্লাহু।', 'যেয়ো', 'স্বপনসম', 'বাজান', 'বলানোর', 'শুনানোর', 'মালিকও', 'এনার', 'বাতিক', 'এইটাই', 'পুষ্পবৃষ্টি', 'একটাকাও', 'রিয়েলিটিতে', 'রাতজাগা', 'অশ্রুক্ষরন', 'আড়ালে', 'হাহাহা…', 'দিমিত্রিভকে।', 'রাতজেগে', 'হাতশা', 'ভার্জুয়াল', 'দুবেলা', 'পৌঁছলেই', 'রাশেদে', 'পৌছাবো', 'পৌঁছেছি', 'ক্ষণস্হায়ী', 'বিহার', 'স্রোতস্বিনী-', 'ভর-পেটা', 'খাটুনি', 'রাশেদকেই', 'কারাবাস', 'বিরহে', 'এজেন্টকে', 'ভালোলাগাই', 'ইউনিটকে', 'অ্যাকশন', 'স্যার…', 'বন্দীশালায়', 'নাগরিককে', 'সাড়াদিন', 'সশ্রম', 'কারাবাসে', 'এবারকার', 'অনুভূতিগুলো', 'ফেলে।', 'অপসারিত', 'স্পৃহা', 'চেলা', 'এগুলা', 'নিঃসৃত', 'দ্বিতীয়বারে', 'ফোনের', 'কোষের', 'প্রাণরসে', 'পশুত্ব', 'বিপ…তিনটা', 'দিচ্ছি…', 'গেছে…লাইন', 'সত্তা', 'জামাট', 'সর্বগ্রাসী', 'মহাপ্রলয়', 'এক্ষনি।', 'পবিত্রতাকে', 'শোষন', 'কর্তার', 'বড়ো', 'লোম-কূপে', 'আমি-', 'উৎসুখ', 'গ্রাফাইটের', 'বাহনের', 'জন্মলগ্ন', 'সংশয়হীন', 'স্বপ্নতরী', 'বিষয়েই', 'দেব-', 'স্রোতস্বিনীতে', 'রিয়েলিটির', 'অমানুষ', 'ভার্চুয়াল', 'মহাপাপ', 'জনাব', 'হোটলে', 'নাগর', 'হোটেলে।', 'কদাগর', 'বুদ্ধিমত্তার', 'পথচলাই', 'মিছিলেই', 'বাহুকে', 'বাঁধটাতে', 'কালের', 'পথটাতে', 'ভরসাতেই', 'ঝাঁপটা', 'নয়-', 'হার্ডওয়্যার', 'ছুঁয়েছিলে', 'বেশকিছুক্ষন', 'ভালবাসতে', 'দোকানপাট', 'লক', 'মাত্রাটা', 'বিড়ম্বনা', 'ভালোবাসতেই', 'শতবার', 'বশেছিলাম', 'গড়েছি', 'যাচ্ছি…', 'দিবস-রাত্রী', 'অপেশাদার', 'হারাতেই', 'জমানোর', 'ভালোলাগে', 'যে।', 'বিভ্র্রমেই', 'গন্ধও', 'দিন-মাস-বছর', 'সমুদ্রসম', 'গ্লাভস', 'ভরেছে', 'হওয়াতেই', 'ভাঙরির', 'জানোতো', 'বলো-', 'অপবাহিকার', 'চেষ্টায়ও', 'ছাই-', 'প্রতিক্ষণে', 'ডিলিট', 'চিৎকারে-', 'থবড়ে', 'অনন্তের', 'বিষণ্ন', 'দুপুরটাকে', 'সংশয়ে', 'শহড়', 'চলব', 'টিবিটা', 'আদায়ের', 'পথসভায়', 'প্রতিবাদী', 'ছিড়তে', 'মৃত্যু্র', 'ক্লোন', 'ঝোকের', 'প্রতিলিপি', 'বিভ্রান্তি', 'নার্ভগুলো', 'ঝিমানো', 'বাহিনীর', 'শভ্রবসনে', 'সন্দেহও', 'জনবসতি', 'পৌঁছছে', 'রাশেদও', 'ভেঙ্গেছে-', 'চিৎকারকারীকে', 'শূনতে', 'কর্ণকুহরে', 'আপেক্ষায়', 'ভাঙ্গার', 'ভাবাবে', 'গৃহে', 'সুকঠিন', 'সর্বনাশা', 'বানী', 'হেসেছি', 'বোতামে', 'স্কেলে', 'ভূ-পৃষ্ট', 'তোতলামি', 'বহুগুন', 'অপদার্থ', 'রিপোর্ট', 'নম্নরটা', 'ন্যকামি', 'ম্যাসেজটার', 'ক্ষুদেবার্তা', 'কমকিছু', 'বোতামটাতে', 'থাকনা', 'ধরেছেন', 'হারাব', 'বুঝিয়েছি', 'প্রস্থানই', 'সূর্য-', 'চলেছিলাম', 'পাবশিক', 'ভুনাখিচুড়ি', 'ফাগুন', 'খচ্চরটা', 'ভুনাখিচুড়ির', 'গতিবিধি', 'ভাবতো', 'ফিয়াদ', 'পংক্তি', 'সত্তর', 'সাজিয়েছি-', 'শোনাব', 'হাঁটলেই', 'চটি', 'ট্রু', 'যথাসময়', 'খুঁজলাম', 'হাদারাম', 'দ্রুতগামী', 'কপটতায়', 'পৌরুষের', 'দ্বিধা-সংশয়-অজানা', 'পেরেও', 'শাক্তিশালী', 'আঙ্কেল', 'নামি', 'দ্বিধা-সংশয়-হারানোর', 'সবারই', 'রোগী', 'সাজাবো', 'বোতাম', 'নামলে-', 'যুবতীর', 'হৃদ', 'স্পন্দন', 'জন্মাচ্ছে', 'জন্মাচ্ছে।', 'মেলবে', 'শিল্পির', 'সমান্তরালে', 'আভা-', 'ফলও', 'রিপোর্টের', 'একান্তে', 'সেগুলোই', 'আভায়', 'দেখব-', 'মুখশ্রী', 'ডাক্তাররাও', 'দিয়ে-', 'রেখেছিলে', 'জোনাকিদের', 'যন্ত্রণাটা', 'মেলায়', 'অশরীরী', 'রেখেছিলে-', 'লাভ-ক্ষতির', 'টেলিফোনের', 'ভাসে', 'ছড়ায়', 'স্লিপারের', 'অন্ধহকার', 'ফেরি', 'অভিহিত', 'আনলে', 'প্রতিষ্ঠান', 'কাঁদামাখা', 'কোমল', 'পাত', 'নির্জলা', 'ভরকে', 'মাস।', 'চেপেই', 'বহুদূ্রে', 'আঝোর', 'কাঁদার', 'শব্দই', 'বনিকের', 'স্যার।', 'নড', 'প্রতারকের', 'অশ্লিলতায়', 'হিংস্রতায়', 'পরশ্রীকাতরতায়', 'আশির্বাদ', 'আশির্বাদকে', 'ভন্ড', 'কয়েকটাদিন', 'ভিক্ষুকের', 'ঘাড়ত্যাড়াদের', 'বিজ্ঞানীদের', 'সন্ত্রাসী', 'তথাকথিত', 'দৈন্যতা', 'একাকিত্বের', 'ইসরায়েলের', 'উপাখ্যান', 'বাঁকে', 'গলিপথে', 'একমুঠো', 'ডালচিনি', 'দেখতে-', 'শতবর্ষ', 'রাধো', 'চালের', 'গো', 'কন্ঠটা', 'চর্বিও', 'লবঙ্গ', 'সাহসও', 'এপাশের', 'মসল্লা', 'রসুন', 'মরিচও', 'আটছে', 'বিশেক', 'তাপাও', 'প্ররোচিত', 'নিংড়ানো', 'আকাঙ্খার', 'বিদ্ঘুটে', 'সঞ্চারন', 'রাজবাড়ি', 'ইন্টেলিজেন্স', 'ইনফরমেশন', 'জয়েন', 'শতশত', 'বাড়িটাকে', 'যুবতী', 'শুচ্ছে', 'অপেক্ষাকে', 'মুহুর্তকে', 'পুকুরের', 'ঘাটটাতে', 'জলাধারে', 'অপূরনীয়', 'ডুবেছিলাম', 'প্রশান্ত', 'নিকট', 'গুডুম', 'আহারে', 'পড়তো', 'খুজেছি', 'কল্প-প্রতিমাকে', 'রাগলেই', 'আবিদ…', 'প্রতিমাটি', 'ভাঙ্গিয়েছে', 'আহারের', 'পাকস্থলীর', 'ভূল', 'থেমেও', 'আহার্য', 'দুবেলার', 'পরিমানে', 'বেখেয়ালে', 'আবাক', 'বাসিনি', 'খাইছে', 'প্রভু-', 'ডোবাও', 'উড়বো', 'হাসেন', 'মিটমিট', 'উড়াও', 'শুন্য', 'ফেরাও', 'খুজেছ', 'আকর্ষন', 'চড়ুইকে', 'উদ্যম', 'প্রান', 'হাস', 'আয়…', 'ভাতও', 'স্মৃতিময়', 'মাতি', 'বন্দনায়', 'পর্যবেক্ষন', 'আমার-', 'স্মিত', 'শ্রেষ্ট', 'দেখাত', 'টিটকারি', 'পালাচ্ছে।', 'বদলাইনি', 'মর্ত্যবাসী', 'শান্ত-ক্লান্ত', 'আসনি', 'বটে।', 'চিত্তকে', 'জাগরুক', 'ক্যাফেইনের', 'টানা-টানা', 'উত্তরাধিকারীদের', 'ভ্রু-যুগল', 'রক্তাত্ত', 'বিনিদ্র', 'গেলে-', 'রুচি', 'প্রতিমাকে', 'মত্যবাসীদের', 'ভ্রু-জুগল', 'ঢোলের', 'চোখকেও', 'আন্দোলিত', 'শৃঙ্খ্ল', 'সূর্যালোকে', 'মুখর', 'পথচলায়', 'দুধভাতের', 'জোনাকি', 'একিভূত', 'দিনকে', 'তোমাতে', 'যেকিনা', 'আসীম', 'ঘোরায়', 'আশ্রু', 'যাদু', 'বিতারিত', 'সড়সড়', 'কতক্ষন', 'করছে।এভাবে', 'চালার', 'ঘুমালে', 'ঠাসাঠাসি', 'মাড়ানো', 'দুষ্ট', 'বৈশাখও', 'প্রকৃ্তিকে', 'ঘটনাও', 'একপ্লেট', 'সস্তান', 'শতবর্ষী', 'জীবাশ্মের', 'শিউরে', 'ধার্মিকের', 'মো্রে', 'ঘষে', 'ঝোপের', 'কামুকতায়', 'মত্ত', 'মানুষরূপী', 'জুটি', 'সব্দ', 'বন্য', 'খোলসে', 'মিনারটা', 'যৌনাতাই', 'ধারক', 'ধর্মশালা', 'অপবিত্র', 'রমনীতে', 'আহ্ববান', 'ধর্মশালার', 'বেড়াচ্ছেন', 'ভোলেনি', 'স্বস্তিতে', 'অযুত-লক্ষ', 'উচ্চস্বরে-', 'দেখালে', 'মরিচিকা', 'শেখালে', 'বোঝাটাকে', 'কাঁদছি', 'হাঁটছি', 'তাঁরা', 'বৃ্দ্ধ', 'মহিলার', 'ভাসছি', 'বানের', 'অনল', 'ভেজাও', 'খা…', 'আয়…দুধভাত', 'মাখবো', 'দিশা', 'তেপান্তরের', 'আর-', 'মসৃ্ন', 'অতটাও', 'সিরিস', 'মিছল', 'শোকাতুর', 'আবিদও', 'প্রতীকি', 'মিছলের', 'শস্যদায়ী', 'ক্ষেতকে', 'যাচিব', 'সুর-সঙ্গীত', 'নাকো', 'বালকের', 'পেরোনো', 'সাজের', 'বিদ্রোহী', 'হাসিমুখ', 'উঠবে-', 'রংধনুতে', 'চেয়েছ', 'রঙ্গে', 'তিনবার…নাহ', 'আধার', 'এক্ষনি', 'নামাবে', 'মুর্খের', 'দূ্র', 'ফানুস', 'দেখে-', 'করেছ-', 'ডিকোড', 'ভাসায়নি', 'দূর্লভ', 'অশ্রু-', 'বিজ্ঞানী', 'অজানায়', 'নির্জনতার', 'হোটল', 'পথিক-', 'গিয়েছ', 'সাইটে', 'ফেলেছ', 'মুখোর', 'আগেভাগেই', 'সন্ধ্যায়-', 'দক্ষিনের', 'মরিচিকার', 'বেচারাকে', 'গ্রিল', 'রাশিয়া', 'সাথি', 'ফোঁটায়', 'ফোঁটাগুলো', 'ট্রেস', 'শিক্ত', 'হাসিটাই', 'সত্তাও', 'মিশেছি', 'কাঠফাঁটা', 'চলেছিলে', 'ছোঁ', 'যাচ্ছিলেন', 'ঝড়ছিল', 'দীর্ঘশ্বাসে', 'হৃদকম্পন', 'নিঃশ্বাসে-', 'মিশেছিলাম', 'মনস্ক', 'ত্যাগও', 'শিশিরই', 'উপস্তিতি', 'পথিক-কে', 'ভাঙরি', 'কাটতেই', 'আলোতেও', 'পড়েছে-', 'পড়ছেনা', 'ইন্সেপশন', 'মুহাম্মাদ', 'সিপাহী', 'ইস্পাতের', 'হেরাক্লিস', 'কাস্তে-', 'প্রতিকী', 'দাড়িঁযে', 'শহীদের', 'অশরীরি', 'স্মরনে', 'বেড়াচ্ছ', 'মাস্কে', 'ঢেকেছিলে', 'ব্যাথিত', 'তর্জনির', 'বৃদ্ধাঙুলি', 'সোনারগ্রাম', 'অগ্র', 'তুমিতো', 'খুজছে', 'আগাছাই', 'বাসী', 'কসাইখানার', 'বেচাকেনা', 'নালায়', 'ভেতরকার', 'ডার্ক', 'তারকা', 'ছেড়েছে', 'টেনিস', 'উইলিয়ামস', 'শকুনকে', 'আবেগহীন', 'খুজলে', 'খোজা', 'পিশাচ', 'ফুলই', 'সুঘ্রান', 'দীর্ঘ-যাত্রা', 'সর্গীয়', 'ভ্রু-যুগলও', 'যেন-', 'বিহঙ্গের', 'মায়াবতী', 'থরেথরে', 'আঙ্গাবহ', 'অজানাতে', 'দু-হাত', 'স্ক্রিনে', 'গুচ্ছকে', 'ফুটেছে-', 'মোসাদ', 'মোসাদ।', 'আন্ডারকাভার', 'নাতালিয়া', 'শব্দ…', 'সাপ্টা', 'শকুনটা', 'রাগিয়ে', 'সজীব', 'আযাচিত', 'বীনার', 'আদি', 'অন্তহীন', 'কোষগুলো', 'সাইট', 'ঝকল', 'কানেক্ট', 'বান্ধুবীর', 'ডিভাইস', 'ওঠে-', 'চলছিলে', 'একমনে', 'কাপ্তান', 'শধু', 'কিবোর্ড', 'আগন্তুকবেশী', 'পবিত্রতম', 'চৌদ্দগুষ্টির', 'লুকায়িত', 'কাভারে', 'জন্', 'সাথের', 'পশুটার', 'রুম', 'আইডি', 'কুকুরটাই', 'পশুটা', 'বিদেশি', 'পাহাড়ায়', 'উচ্ছিষ্ট', 'শাখাগুলো', 'থরথর', 'প্রোকোপে', 'চালাকি', 'জন্মানোই', 'জিহ্বার', 'ভুলেও', 'স্বপ্নচারী', 'জাগাবে', 'পিতা', 'ক্ষোভে', 'বকবে', 'খোদা', 'ছেঁড়া', 'কোরান', 'জগৎ', 'এগারটা', 'সাজাবে', 'যোগাবে', 'গাদা', 'পুঁজিপতি', 'রাজনৈতিক', 'সক্ষম', 'বিক্ষোভ', 'আশাহীন', 'মার্কেটের', 'ওয়ালা', 'পরিচয়হীন', 'ভ্রমনে', 'ক্ষুধায়', 'থেকে-', 'শিশুটা', 'নেবে-', 'প্রণয়ে', 'লুকবে', 'পিতিৃপরিচয়', 'মাথামোটা', 'আগমনেই', 'দারিদ্র্যতা', 'মার্কেট', 'বন্ধনকে', 'স্বপ্নকে', 'মানুষটিকে', 'আদায়ে', 'দশটায়', 'পাল্টি', 'কাঁটার', 'বৃত্তির', 'অযত্নে', 'পৈচাশিক', 'যন্ত্রের', 'ঘুমাতাম', 'লুঙ্গিটা', 'পাঞ্জাবীটা', 'ময়লায়', 'ফতুয়া', 'বাজাতাম', 'জীবনকালে', 'আলমারিতে', 'রেখেছিলেন', 'পরবেন', 'বায়না', 'সংকোচে', 'আগ্নতুক', 'গাইছি', 'বুদ্ধিও', 'কমিটি', 'যোগে', 'দালানগুলো', 'ব্যবচ্ছেদ', 'প্রহসনের', 'ধরণীকে', 'কুটীরে', 'ফার্সি', 'উপসর্গ', 'নাম-', 'গীটারটা', 'রেডি', 'নামটাকে', 'সার্টিফিকেটের', 'যুক্তাক্ষর', 'পুণ্যের', 'শিল্পি', 'সখের', 'নোটিফিকেশন', 'প্রকোষ্টে', 'পোস্টে', 'সোনারোদে', 'সুস্বাদু', 'এলোচুল', 'পড়ুক', 'সাদা-কালো', 'বাস্তবের', 'প্রতিটাক্ষন', 'রোদেও', 'পঞ্চমুখ', 'বারাবার', 'প্রশংসায়', 'সোনামুখ', 'দেখেতে', 'বিভ্রম-', 'দায়িত্বের', 'দেয়াকে', 'বিভ্রম-বীজ', 'উল্লেখ্য', 'বসেছিলাম-', 'ইট-পাথরের', 'টুকরোগুলোর', 'সময়িক', 'সত্যে', 'রঙিন', 'বাণীর', 'প্রশংসার', 'ঘোলাজলে', 'ভিজিয়েছিলে', 'কাঁপছিলে', 'ফিরতি', 'বিভোর-', 'মহুর্তে', 'বোঝায়', 'প্রস্থানবেলায়-', 'বেঁদেপল্লীর', 'তাঁবুগুলো', 'উঠছিলে-', 'তাকাই', 'গুলোতেও', 'পেটুক', 'পাপে', 'অর্জনে', 'ত্যাগে', 'ধ্বংসে', 'সৃষ্টিতে', 'নখে', 'বালিশে', 'বিভ্রম\\xad\\xad', 'পুণ্যে', 'পঙক্তিতে', 'অকস্যাৎ', 'অট্ট', 'দেখি-', 'অভিলাষী', 'যুক্তির', 'বেড়াজাল', 'যুবক-', 'বিশুদ্ধ', 'টাইমলাইনে', 'রিমঝিম', 'আবেগে', 'জাগরনে', 'চঞ্চলতায়', 'ফাজলামো', 'জ্যোৎস্নায়ও', 'উদাসীনতায়', 'কর্মহীনতায়', 'কর্মযজ্ঞে', 'স্বাধীনতায়', 'পারাধীনতায়', 'ধারনা', 'ক্লিক', 'অসুখে', 'তৃপ্তিতে', 'অতৃপ্তিতে', 'উল্লাসে', 'গুতায়', 'অবস্থিত', 'জন্মে', 'খুনিদের-', 'ভয়ানক', 'সারাশরীর', 'কষ্টগুলোকে', 'বিলবোর্ডে', 'অবয়বে', 'মানুষনামী', 'ক্রয়', 'কন্ঠের', 'দেখিনা', 'কাকেরও', 'তুলিনি', 'কখনোতো', 'রসনা-বিলাসের', 'জন্মানো', 'অন্ন', 'সেদিনতো', 'পাখনা', 'কতোদিন', 'হাতবোমায়', 'তেজষ্ক্রিয়তায়', 'ভ্রমরের', 'সাজবে', 'অনবদ্য', 'অবিনাশী', 'তেজস্বী', 'বিপন্ন', 'ডানায়', 'ঝলসানো', 'ক্রয়কে', 'দানবীয়', 'বিষয়-বস্তু', 'দূষণে', 'সুখ-শান্তি', 'রাত্রীকালীন', 'অন্ধপ্রায়', 'ডাস্টবিনের', 'ফুটপাতের', 'মস্তক-বিহীন', 'পৃষ্ঠদেশে', 'ফরিয়াদ', 'খুজিনি', 'ঠুকিনি', 'অনুতাপ', 'প্রলোভনে', 'আত্মাদের', 'বাঁচলাম', 'প্রকম্পিত', 'দুর্গন্ধময়', 'শৃঙ্খল', 'ভাগাড়ে', 'রব', 'সূর্যাস্তে', 'ব্যথা-কষ্টের', 'ঊর্ধ্বে', 'মেলার', 'নিঃশর্ত', 'বেদীতে', 'দাসত্ব', 'বেওয়ারিশ', 'নিজেরাইতো', 'গেছি-', 'উড়েছিলাম', 'একাকীত্বের', 'পারে-', 'নামক', 'বাসনাতো', 'করুণা', 'আজ্ঞাবহ', 'শবাধার', 'তোমরাতো', 'স্বজাতির', 'মেটাও', 'পাশবিক', 'তৃষ্ণা', 'কামানকে', 'হাতিয়ার', 'হয়ছি', 'ভেজাবে', 'কবিতারা', 'উপায়ন্ত', 'কয়লার', 'কঙ্কাল', 'ভিজেছিলাম', 'কেঁদেছিলাম', 'কান্না-', 'শোক-বিষন্নতা', 'ভালোলাগাগুলো', 'দীপ্তিমান', 'মরিচার', 'তাঁরাদের', 'ছোঁয়ার', 'আস্তানা', 'রক্তচোষাদের', 'অর্জিত', 'সার্টিফিকেটগুলো', 'কানাকড়ি', 'অবয়য়ে', 'কালীন', 'কুক্ষণে', 'প্রানি', 'শরটা', 'হৃদয়ধারীদের', 'রক্তমাংসের', 'সত্ত্বার', 'কাগুজে', 'কদর', 'প্রজাতির', 'ক্ষয়', 'বাছার', 'ফোঁসা', 'আসংখ্য', 'আবরন', 'প্রেমিকাকে', 'ধরেছিলাম', 'বেকারদের', 'অনুভূতিগুলোতে', 'দেখাব', 'কষাঘাত', 'হৃদপিন্ডটা', 'ছুঁয়েছি', 'অভিমানের', 'পথচল-', 'বেঁধেছ', 'ঘড়িটার', 'ফুফিয়ে', 'কেঁদেছ', 'ভাবিয়েছে', 'ফোঁটা-', 'আত্মচিৎকারকে', 'খুঁজেছিলে', 'চেয়েছ-ভালোবাসি', 'ছোঁয়াতে', 'হাতটি', 'আমার-কোন', 'দড়জায়', 'কবিতাই', 'চেয়েছ-', 'হৃদস্পন্দন', 'খুঁজেছ', 'মেপেছ', 'দমিয়ে', 'ধিরে', 'নাড়ালেন', 'আপেক্ষা', 'শব্দগুচ্ছ', 'সাজাব', 'তোমায়-', 'তোমাতেই', 'গিয়ে-', 'নতজানু', 'সত্যগুলোকে', 'শ্বাশ্বত', 'দোষের', 'লগনে', 'খোলসের', 'গুলো-', 'পূর্ণতায়', 'ঠেকল', 'হাদিয়া', 'শোধনাগারে', 'কেঁদেছিল', 'বর্ণনার', 'মেরেছিলাম', 'হারামজাদী', 'দুয়ো', 'শুনাচ্ছি', 'আজতো', 'জ্বালাতে', 'বিস্ময়ে', 'হতবাক', 'প্রেসক্লাবের', 'ধর্ষিতা', 'খাইতেও', 'ওটাকেও', 'ক্রসফায়ারে', 'শপিংমলের', 'সামান্যই', 'সমাধিতে', 'গণতন্ত্র', 'গ্যাসের', 'ঝেঁকে', 'সংখ্যালঘুর', 'নেত্রীর', 'মিটে', 'কলে', 'পুরস্কার', 'বিলবোর্ডের', 'ভাসাতে', 'চেঙ্গিস', 'খানের', 'স্তম্ভে', 'সম্রাট', 'ফাঁদ', 'গণতন্ত্রের', 'কফিনটা', 'ছায়াঘেরা', 'মহাপ্রস্থান', 'শ্বাস্বত', 'বহমান', 'বিশালত্বের', 'অংশতো', 'অক্ষরও', 'পাইতো', 'জন্মাবধি', 'পর্যন্তও', 'করবেনা', 'আগ্রহটা', 'স্নায়ুর', 'ল্যাম্পপোস্টগুলো-', 'শালিকের-', 'স্মৃতিতেও', 'অবিনশ্বর', 'খুজবে', 'বয়েসী', 'বটগাছটা-', 'হরিণী', 'স্রষ্টাও', 'দিবসে', 'জারজ', 'নর্দামার', 'পাপড়ির', 'মলত্যাগ', 'প্রস্রাবে', 'বলবি।', 'খাওয়াচ্ছি', 'ঔরসজাত', 'ছুঁড়বে', 'কেঁদ', 'রুদ্রই', 'মুছো', 'বিরহিণীর', 'কেঁদনা', 'শব্দতো', 'যান্ত্রিকতা', 'মেশান', 'ধর্মনিরপেক্ষ', 'সাম্যবাদী', 'খাও।', 'সি', 'থেকেই-', 'ডাঙ্গুলি', 'কানামাছি', 'রাগই', 'বোমাবাজি', 'বাজিই', 'এইচে', 'সেনাবাহিনীতে', 'কখনোবা', 'প্রিয়-', 'চাঁদাবাজি', 'ঠকানো', 'প্রগতিশীল', 'ঝুকিপূর্ণই', 'ফাঁটিয়ে', 'ধর্ষকের', 'সৈনিকতো', 'ডাকেন', 'বিলাই', 'বেঞ্চ', 'গলবিলের', 'তালিম', 'রুচির', 'চিকলি', 'বোঝনি', 'প্রেয়সীই', 'পার্কের', 'মানবতাবাদী', 'পাথেয়', 'সহদরা', 'পদবী', 'পদবীর', 'লীগ', 'পূজারী', 'আশীষই', 'সামাজিক', 'ফাঁসি', 'জ্বালাময়ী', 'ভাষনই', 'শুকে', 'শাজাহান', 'খেয়েছো', 'পূর্ব-পুরুষদের', 'অকৃতজ্ঞ', 'প্রজাদের', 'লেজহীন', 'স্বরটাই', 'উচ্ছেদ', 'সন্তুষ্টিই', 'কমেনি।', 'খেয়েছি', 'পাঁচতারা', 'চাঁদার', 'রমজানে', 'মিলাদ', 'ত্রানের', 'বীরোচিত', 'গুঁড়িয়ে', 'বিরোধীদের', 'পোষ্য', 'যদিওবা', 'মুক্তিযুদ্ধ', 'বঙ্গবন্ধুর', 'নড়েচড়ে', 'দেখাও।', 'ন্যায়বিচার', 'স্বাধীনতাকে', 'জাদুঘরে', 'মার্চের', 'আওড়াই', 'পাঞ্জাবীর', 'মুজিব', 'তকমাটা', 'জোড়াল', 'ঝাল', 'স্বাদটা', 'বর্ষণমুখর', 'পাইকারী', 'যানবহনের', 'সীমানাটা', 'পেরিয়েছি', 'ব্রীজের', 'হাঁটছিলাম', 'উত্তর-দক্ষিনে', 'বলব।', 'নদীটাতে', 'সফলভাবে', 'বীজটিকে-', 'প্রজেক্টটা', 'চলাচলে', 'হচ্ছিল-', 'প্রজেক্টের', 'চাদরের', 'প্রজেক্ট।', 'গাঁজাখুরি', 'ডালপালা', 'নির্মলতাকে', 'বেসামাল', 'সুক্ষ', 'দাঁড়ালাম', 'তোর।', 'বিচ্ছুরিত', 'আবাস', 'সঠিক-ভুলের', 'এককাজ', 'কষছিলে', 'পরিমাপ', 'বাড়ছিল-', 'বাজারটার', 'দিকে-', 'গাঁয়ের', 'পথঘাট', 'পথিমধ্যে', 'খনিকটা', 'রোদটা', 'বেরুলে-', 'নিয়েছিস', 'ঠোঁঠের', 'হাঁটছিলে-', 'দ্বীপে', 'দিব।', 'আজম্নকাল', 'সেতুর', 'হাঁটছিলাম-', 'খাই।', 'পাতের', 'স্তম্ভগুলোর', 'সূর্যালোক-', 'দাঁড়ালে-', 'দক্ষিণা', 'অবাধ্য', 'কেশপাল', 'গিয়েছি', 'মেড', 'হোম', 'ট্রাই', 'প্রার্থিত', 'কল্প-প্রতিমার', 'অতিরঞ্জিত', 'হাসিটাকে', 'সোনারোদের', 'বসে।', 'সোনারং', 'উঠছিলে', 'নামছিলে', 'শ্বেত-শুভ্র', 'নিলাম-', 'রেখাগুলোতে', 'খাইয়েছে', 'অকারনে', 'ছোয়াতে', 'অসংখ্যবার', 'লালিত', 'বিশ্ববিদ্যালয়', 'ওভারব্রিজের', 'ঢুকেছে', 'গড়পরতা', 'তাঁকিয়ে', 'লীলাভূমি', 'হেঁটেই', 'ফয়েলের', 'অ্যালুমিনিয়াম', 'প্যাকেজিং', 'সময়টকে', 'ব্যাধান', 'ছুঁড়ছো', 'নর', 'উদ্বায়ী', 'সাধারনত', 'নাড়তে', 'কর্পুরের', 'প্রজ্জলিত', 'কোষে-', 'কালিমাকে', 'রাজপথই', 'টিস্যুর', 'ঝাঁকুনিতে', 'চলতাম', 'গেছেই', 'দরে', 'ডাকলেই', 'খোপায়', 'পড়াব', 'ফুল-', 'প্রস্হান', 'পদক্ষেপের', 'খাঁচায়-', 'তাল', 'যাযাবর', 'হাউজ', 'কফির', 'শুকেই', 'পরিকল্পিত', 'সিল', 'নিয়ে-', 'পূঃর্নজন্ম', 'প্রতীক্ষার', 'সড়ে', 'ভিড়ল', 'স্বপ্নবন্দরে', 'জমাচ্ছে', 'দ্বীপের', 'শর্তে', 'ফসলে', 'স্বর্ণরাজি', 'পূরনের', 'উদ্দেশ্যে-', 'অভাবনীয়', 'গৌরবকেও', 'বাড়িগুলোকে', 'যাচ্ছিলাম-', 'ফুঁড়িয়ে', 'পথটাও', 'জংশনে', 'প্লাটফর্মে', 'ট্রেনটি', 'আখাঙ্কিত', 'রৌদ্রস্নান', 'রাজপথটাকে', 'হুইসেল', 'স্বপ্নভঙ্গ', 'কলমি', 'ফুটেছিল-', 'একছেলে', 'উন্মুখ', 'গেঞ্জি', 'হাতা', 'করছিলাম-', 'মুহূর্তে-', 'শতসহস্র', 'অধিষ্টাত্রী', 'পুবের', 'দেখালো', 'উদ্যানে', 'ঠোঁকর', 'প্রথম-জন', 'গরল', 'কলমে', 'কেহ', 'ছাড়ি', 'লিখ', 'সেথা', 'সুপেয়', 'ফ্যান', 'ঘুমাও', 'স্বপ্ন-যান', 'গীত', 'লাগিয়েছিলে', 'শুনেছিলে', 'তালিকায়', 'মূল্যবানদের', 'দেশে।', 'হাসছো', 'পশ্চাতে', 'তোমারে', 'প্রবাহমান', 'বান্না', 'তুলশী', 'ঘরকন্নার', 'ঘুমানো', 'জায়নামাজে', 'মেজে', 'বাসন', 'শেষরাতে', 'বিছানাটা', 'ল্যাম্প', 'বাবাকেও', 'কবিতাটা-', 'অনাকাঙ্ক্ষিত', 'চলিবে', 'বাঁধিবে', 'তব', 'জ্বালালে', 'বিষন্নতার', 'said', 'প্রিয়দর্শিনী', 'ঢেকেছে', 'বিলির', 'তরুণপ্রাণ', 'ঠিকি', 'চললেও', 'কংক্রিট', 'ধার-দেনা', 'আস্তরণে', 'মহামারি', 'মিছিলে-শ্লোগানে', 'নির্ভশীল', 'বক্ষপিঞ্জর', 'ঢালাই', 'পড়াত', 'লোহায়', 'খন্ডকালীন', 'বেসরকারি', 'বুনেছিল', 'সমজদারের', 'Well', 'জুড়ায়', 'ভাঙ্গাতো', 'পারতা', 'বলেছিলে-', 'ভাঙ্গিয়ে', 'নামবো', 'জ্যোৎস্নার', 'জদি', 'দহনজ্বালা', 'টাকাটাই', 'হৃদয়খানি', 'শ্যামল', 'পুঞ্জীভূত', 'পরিত্যক্ত', 'ভুতুড়ে', 'দীর্ঘপথ', 'শঙ্কু', 'চন্দ্রমল্লিকার', 'বাগানে', 'মুছবে', 'সাহেবে', 'যুগযুগ', 'বন্দি', 'ক্লিয়ারলি', 'আকুলতা', 'ভুগলেও', 'পথচলার', 'ভুগছেন', 'একসাথেই', 'ঘুমাবেন', 'প্রতিবেশীরা', 'গুনলে', 'অধম', 'বলে-', 'দিনেই', 'ডুপ্লেক্স', 'লতা-ডুমুরের', 'গণ্ডগোলটা', 'সঞ্জীবও', 'পড়বে', 'আসবো-', 'টয়লেটে', 'শুনিয়েছিলাম', 'সেদিনটা', 'ভাবনাগুলোকে', 'আত্মাকে', 'কনিষ্ঠ', 'ঘুমাচ্ছি', 'কাব্য-উপন্যাস', 'There', 'গন্তব্যপথে', 'Answer', 'আসলাম-', 'that.', 'about', 'no', 'is', 'ওয়াল', 'ক্রিপার', 'বাহারি', 'কিন', 'ছানাবড়া', 'বিস্ময়ের', '৭ম', 'ছিটেফোঁটা', 'লেখাগুলোই', 'পরন্তু', 'বসবেন', 'ক্যাক্\\u200cটাসের', 'টানছেন', 'ছেড়াটা', 'বটগাছটায়', 'লেখাই', 'লেখাগুলোকে', 'আকাশী', 'ইউনিফর্মে', '৩য়', 'দুষ্প্রাপ্য', 'অদ্ভুদলোকে', 'চিত্রশিল্পীদের', 'দেশ-বিদেশের', 'ভৌতিক', 'ঢুকতাম', 'গাছগাছালি', 'হরেক', 'ক্যাক্\\u200cটাস', 'রঙ-বেরঙের', 'ভাবটা', 'উগ্র', 'লাইটিং', 'দেখতেন', 'ঢুকলেন', '১২.৫৫', 'দ্বারা', 'বারান্দাগুলোকে', 'দেয়াল-জুড়ে', 'বিলাসী', 'মায়াভরা', 'লক্ষে', 'তৃষ্ণায়', 'দুকূল', 'কার্তিকে', 'কৃষ্ণচূড়ার', 'ধানে', 'নিজস্বতার', 'যুগেও', 'থ্যাঁতলানো', 'হাতুড়ি', 'অঘোরে', 'ফোঁটাটিও', 'ক্ষতবিক্ষত', 'ধানখেতে', 'ডুবন্ত', 'অবিশ্রান্ত', 'দুমড়ে-মুচড়ে', 'লুকায়', 'অবেলায়', 'প্লাবনে', 'বাসটির', 'প্রাবাহমান', 'ফাগুনের', 'সূদুর', 'পলাশের', 'খুনে', 'রাঙিয়েছে', 'বসন', 'অবগুণ্ঠন', 'পলাশে', 'ঘুমায়নি', 'রক্তভেজা', 'পকেটের', 'কোনো', 'কৃতদার', 'প্রিয়তমার', 'চিল', 'নাবিক', 'অজর', 'বাসটিকে', 'সন্তানঃ', 'আকাঙ্ক্ষায়', 'পর্দায়', 'সাদাকালো', 'সিনেপ্লেক্সের', 'অবয়ব', 'দুপাশের', 'শৈশবের', 'কিশোরের', 'এসছে', 'পরছে', 'ডোবায়', 'তৃপ্ততা', 'ছুয়েছিলো', 'অঙ্কুরিত', 'শস্যক্ষেত', 'সাই-সাই', 'সকালবেলা', 'নিত্যকার', 'তনুশ্রীকে', 'ট্রাক', 'বটবৃক্ষের', 'তেলবাহী', 'অশ্রুবিন্দু', 'চন্দ্রপ্রভা', 'মহাপ্লাবন', 'কবিতাটি', 'উদ্দামতায়', 'ওষ্ঠ', 'বাসটা', 'কামুকতার', 'দ্রুতবেগে', 'মুহুর্ত', 'এলেই', 'ছুয়েছিলাম', 'চুম্মনে', 'শিরা-উপশিরা', 'গুনগুনিয়ে', 'তুলোর', 'ধূলিতে', 'যুদ্ধক্ষেত্রের', 'নিষ্প্রয়োজন', 'ভিজছি', 'বাগানটা', 'ধানখেত', 'সবেতো', 'উঠলাম', 'চলেগেছে', 'মেঠোপথ', 'গাঢ', 'মুখিয়ে', 'ভেজালেই', 'সুতার', 'চাইনে', 'একেকবার', 'নোটটাকে', 'হাতটাকেই', 'বুলাচ্ছে', 'কমদ', 'হৃদয়জুড়ে', 'লুটিয়েছে', 'মূর্তিমান', 'ব্যাপারী', 'খালেদ', 'পিতাঃ', 'হানিফ', 'মোহাম্মদ', 'লেখা-', 'সাইনবোর্ডে', 'প্রেয়সীর', 'প্রাতে', 'দিবালোকে', 'দৌড়াতে', 'ঊর্ধ্বশ্বাসে', 'একগুচ্ছ', 'শেফালী', 'বাপকে', 'শারদ', 'অবারিত', 'জ্বলবে', 'নিষঙ্গতা', 'রাঙা', 'প্লাবন', 'উচ্ছ্বসিত', 'ধারায়', 'জাতিস্মরের', 'যন্ত', 'প্রস্তরযুগ', 'অক্ষরগুলো', 'আবির', 'ল্যাম্পপোস্টে', 'পুঁজিবাদী', 'প্রেমিকারা', 'পাতাটির', 'রাষ্ট্রের', 'নৃপতির', 'কেবিনের', 'মস্তক', 'শহরজুড়ে', 'কিনুত', 'জানালায়', 'তৈরী', 'চুম্বনের', 'নড়বড়ে', 'মৌনতা', 'ল্যম্পপোস্ট', 'পিদিম', 'অশ্বত্থের', 'সঙ্গমে', 'লোনাজল', 'অশ্রুর', 'লোনা', 'চন্দ্রমল্লিকারা', 'শিশিরের', 'কলমটা', 'একঝাপটা', 'হিমেল', 'শক্তিটা', 'অভীষ্ট', 'কাকটার', 'Power', 'কিনেছিলাম', 'খায়রুল', 'জমিটা', 'নিয়েছে-', 'মনটা', 'ডাকেও', 'Blast', 'Movie', 'দিচ্ছি-', 'ইংলিশ', 'সা-সা-সা', 'পাথরকে', 'ছেলেমেয়েদের', 'তিরিশ', 'ছেড়েই', 'দিয়েছ', 'BCS', 'বাবা-বাবা', 'সহজও', 'the', 'বশত', 'অলসতা', 'চাচী', 'ওযু', 'উঠছি', 'পড়ছি', 'day.', 'opening', 'অতিশয়', 'Happy', 'মোটের', 'আছি-', 'ঐদিকে', 'বুঝলি', 'ধারণার', 'নগণ্য', 'ভাবমারার', 'জন্মেছিলাম', 'মেখেছি', 'নন্দলাল', 'সময়গুলো', 'স্নাতকে', 'আপেক্ষিক', 'শালবীথি', 'তিনপাহাড়', 'গৌরপ্রাঙ্গনে', 'সংগ্রহশালায়', 'বসুর', 'সেটি', 'বুলিয়েছি', 'রঙে', 'শিল্পকর্ম', 'কোপাই', 'ফুলকাগজ', 'অফসেট', 'অববাহিকায়', 'প্রাঙ্গণেই', 'ক্লাসরুমে', 'কৈশোরের', 'বোলপুরের', 'Paranormalজগত', 'পাতাবাহার', 'কাটিয়েছি', 'পশ্চিমবাংলার', 'বীরভূম', 'জেলার', 'বোঝেনা', 'শান্তিনিকেতনে', 'Indication', 'দেশভাগের', 'আপনারাও', 'রবীন্দ্রনাথের', 'বাসলে', 'বিশ্বভারতীর', 'আম্র-কুঞ্জে', 'শিক্ষাজীবন', 'Unknown', 'number', 'করছিনা', 'অজুহাত', 'হি', 'গোয়ালঘরে', 'শট', 'দেবে-', 'আস্তাকুড়', 'বাছুরটার', 'ধমকা-ধমকি', 'চেচামেচির', 'ফাজলামি', 'বইগুলোকে', 'বুঝিয়েছে', 'বিভিন্নভাবে', 'জনেরই', 'জানাত', 'চাচ্ছে।', 'কামাই', 'বুবুখুব', 'আদিমতম', 'Call', 'গোছের', 'দামটা', 'মহাআগ্রহে', 'আল্লাহ্\\u200cর', 'গুলাকে', 'হাতোত', 'দেও-', 'মুরুব্বি', 'লাগবে-', 'জন্মানোর', 'খুলছেন', 'একেছ', 'বল্লাম-', 'তামাশা', 'বলে।বলা', 'চোখ-মুখে', 'কান্নাই', 'বলবে-', 'এইদিকে-', 'ওখানটায়', 'Vibration', 'বাড়ন্ত', 'কাদাতে', 'বেল', '-দরকার', 'আয়-', 'ভালোলাগা', '-আমার', 'বইপত্র', 'পাচ্ছিনা', 'রেখেছিস', 'গেছে-', 'সন্দেহ-', 'Back', 'করিস-', 'আধঘন্টা', 'ওসব-', 'Message', 'সন্ত্রাসীরা', 'যাবেই', 'মাস্তানরাও', 'স্যারকে', 'গাধাটা', 'দীর্ঘসময়', 'প্রক্রিতির', 'জ্যোতিবিদ্যা', 'থাকবে-মানিকদের', 'শুনবে-', 'তাহলেও', 'থাপড়াবে', 'Negative', 'থাপড়াইতেও', 'মোবাইল-টাকা', 'চাপায়', 'ভদ্রভাবে', 'মাস্তানরা', 'গেলনা', 'ফুলটা', 'বসেছিলেন', 'দার্শনিক', 'মোছে', 'মওকুফ', 'পাঁচশত', 'লিখলাম', 'শিক্ষা-বৃত্তি', 'পেয়েছিস', 'মিথ্যাবাদী', 'জাগছেন', 'ঘড়িতে', 'উত্তরপাড়ায়', 'যাহোক', 'ভবেছিলাম', 'জি', 'ফিরবো-', 'অফিসে', 'পেরেছিলাম', 'বাবা-', '৫.৩০', 'সর্ব-উৎকৃষ্ট', 'ক্রিম', 'সম্বোধনের', 'লাগানোর', 'ফেসওয়াস', 'তেলতেলে', 'পড়ালেখাটা', 'ক্রিমের', 'ছেলে-মেয়েদের', 'ফর্সাকারী', 'জমিয়ে', 'জমিটাতে', 'কর্মকাণ্ডের', 'জমিটার', 'ধানই', 'ফি', 'তিনশত', 'হাঁস-মুরগির', 'যোদ্ধা', 'ছেলে-', 'ভেঙেছি', 'ছিটকিনি', 'জানেননা', 'শাপলা-শালুক', 'বলেছিলেন-', 'একটাসূত্র', 'কয়েকশ', 'মাজছেন', 'টেবিলটা', 'গড়গড়া', 'অযত্ন', 'রুমটা', 'কুলি', 'দারোয়ানরা', 'সঞ্জীবকে', 'বিকিরণ', 'তাপের', 'শক্তিই', 'সুনিপুনভাবে', 'নিঃসন্তান', 'দমনের', 'রক্ষার্থে', 'রাগ-ক্রোধ', 'একরোখা-', 'বর্ণীত', 'হাদিসে', 'দুর্নিবার', 'বাবা-মাকে', 'বোঝালে', 'ধনীব্যক্তি', 'বারে', 'সাহেবই', 'ব্রাজিলিয়ান', 'ফ্লাক্সে', 'জাগতে', 'প্রথমতই', 'জাগার', 'না-=বলে', 'অবস্থার', 'প্রীতিভাজনেষুর', 'ছাত্রী', 'সরলতা', 'কলাবতীকে', 'যাওয়াতেই', 'রসদ', 'বুঝতেই', 'বসন্তকালে', 'খুঁজবেন', 'মহাকাশযানের', 'হলুদাভ', 'অর্থাৎ', 'টুপটাপ', 'মালা', 'ফুরাতেই', 'পাড়েও', 'স্থবির', 'দপ্তরি', 'স্নিগ্ধতা', 'বাকীদের', 'কণাগুলোর', 'মুখদর্শনে', 'ফলাই', 'গেটটা', 'হয়নি।কাগজ', '-একটু', 'নতুনভাবে', 'গড়ার', 'পড়েও', 'এই..খালি', 'কেউকেউ', 'Paranormal', 'যোগায়', 'দিনেও', 'চিরকাল', 'জগতটাকে', 'ডাকছি', 'ইচ্ছাগুলো', 'মহাকাশচারী', 'সোমবার', 'প্রতিবছরের', 'ন্যায়', 'জমিটা-তো', 'নিম্নোক্ত', 'প্যাকেজ', 'গোলায়', 'যাহাই', 'নিয়াছে', 'বলিয়া', 'পাকার', 'থকেও', 'নাও-', 'সৎব্যবহার', 'ধুয়েও', 'কিনেছি', 'জিনিসগুলা', '১২৬৫', 'গুলায়', 'ফারিয়ার', 'PHমেপে', 'মাড়াই', 'ডোজ', 'Dr.', 'ছাত্র-ছাত্রীদের', 'কক্ষ', 'খাওয়াতেই', 'বোনই', 'হেমন্তকাল', 'উজ্জ্বলতা', 'পড়িলে', 'ধুম', 'লিফলেট', 'America', 'Dakota', 'North', 'Specialist', 'Skin', 'Amdad', 'বৃষ্টিপাতে', 'বাড়বে', 'গুলি', 'করবোই', 'প্রকৃ্তিতে', 'পাতাগুলোও', 'টান্-টান', 'মুহুর্তটাকে', 'স্মৃ্তিটাকে', 'পাত্রপক্ষের', 'যত্নকরে', 'অ্যালবামে', 'যাপিত', 'রান্নাটা', 'নিস্তব্ধতাকে', 'নিমেশে', 'পড়েছিস', 'অপরিচিতা', 'হাতছা্নি', 'ওহ্', 'সেজেগুজে', 'পাখিরা', 'মেলবন্ধন', 'ঝিঁঝি', 'অভিজ্ঞতায়', 'আমির', 'ছায়ামুর্তি', 'ছায়ামুর্তিতে', 'সবিস্তারে', 'বয়সি', 'পশ্চিমের', 'পোকা', 'মেলেছে', 'জয়গান', 'যোষিত', 'পুরুষালি', 'হাঁটাচলায়', 'নীল-', 'নীলে', 'পাখা', 'রমনি-', 'একটু-একটু', 'ঢোড়া', 'কতকাল', 'কবিতাগুলো-', 'এদিন', 'একনায়কের', 'হাঁটছ', 'পাতাগুলোকে', 'ন্যাস্ত', 'গুরুভার', 'জাতির', 'দু-পাশে', 'চত্বরে', 'সমর', 'সুকৌশলী', 'অনাবাদি', 'জমিও', 'আকাঙ্খিত', 'দক্ষ', 'অতিষ্ঠ', 'শীতটা', 'বিবর্তন', 'মাফিক', 'আন্তগামী', 'ইন্দ্রজাল', 'পেনশনের', 'আজগর', 'আকশ', 'নিভৃতচারী', 'পরিদর্শনের', 'রুটিন', 'যাচ্ছিলো', 'পাও-', 'দাঁড়িয়েছি', 'বোনদের', 'নামনি', 'বিপত্নীক', 'চিনবে', 'অভিলাষ', 'ত্রুটির', 'লিস্টটা', 'একটি-দুটি-তিনটি', 'রাত-জাগা', 'গুটিসুটি', 'ধূলি-মেঘ-বজ্রপাত', 'শিউলি', 'দুঃস্বপ্নের', 'চৌ-রাস্তার', 'দিপাকে', 'ভাসছে-', 'লাবণ্যে', 'বোর্ডের', 'নিদ্রাহীন', 'তরুনের', 'আকাশই', 'মেঘাচ্ছন্ন', 'তর্কের', 'মুখকে', 'তরুন', 'ভাইভা', 'কর্তাদের', 'অজস্রো', 'ঘ্রাণে', 'এটো', 'দেশলাই', 'অকস্মাৎ', 'যিশুর', 'সিংহদ্বার', 'শুনবে', 'খুঁজনা', 'নালিশ', 'প্রশ্নবাণে', 'ফিরবো', 'ভোঁদৌড়', 'আঁধার', 'উচ্ছাস', 'পরাস্ত', 'গোবেচারাকে', 'প্রত্যাশি', 'জুটির', 'হিসেবেও', 'আলাদিনের', 'মুছবার', 'নামাটা', 'সুন্দরের', 'আমগাছটা', 'গরিয়ে', 'গিন্নি', 'ব্যাথা', 'আভাটুকু', 'মেজো', 'মন-আকাশে', 'ডিসির', 'পাগলটার', 'মুড়িয়ে', 'বোনজামাইও', 'রান্নায়', 'স্তূপ', 'ঘুম-ঘুম', 'একঘেয়ে', 'বোকামো', 'ময়ূর', 'সাজার', 'বাজারদর', 'নামে-', 'রোদে-পোড়া', 'জিন্সে-', 'ভবঘুরের', 'দেখছো', 'হতাম', 'ক্ষনের', 'স্হির', 'অমীয়', 'প্রেরনা', 'অসুন্দরদেরও', 'অতিদীর্ঘ', 'কৃত্রিমতা', 'শেষমেশ', 'পুরুষটিকে', 'গোখরো', 'ফুল-ফলে', 'রমনির', 'সৃষ্টিকে', 'একবর্ণী', 'ছুয়েছিল', 'মরুর', 'একবিন্দু', 'আঁচড়ানো', 'সুশৃঙ্খলভাবে', 'রাতটাকে', 'কাঁদিনি-', 'স্পর্শকে', 'কাকটি', 'ক্লান্তিও', 'থামেনি', 'জৈবিক', 'তলানিতেই', 'চাহিদাগুলোকে', 'মেলতেই', 'জম্নানোর', 'স্বর্ণালংকার', 'যতক্ষন', 'চাইছে-', 'বিশ্বস্ত', 'সুদীর্য', 'কৃষ্ণচূড়ায়', 'আওড়াচ্ছেন', 'ফূটবে', 'থাকবো-', 'জম্নেছিলাম', 'নৈশপ্রহরী', 'কয়্লার', 'ঘরটাতে', 'মগডালে', 'উড়ছিল-', 'নৈশব্দের', 'ঈগল', 'জ্বলছি্ল', 'অলংকার', 'উপচে', 'কামুক-হিংস্র', 'ঠুঁকেছে', 'পায়না', 'রোল', 'করেন।', 'মার্জনা', 'উদ্দ্যমে', 'সৎকারে', 'খোমাটা', 'পিচঢালা', 'নতস্বরে', 'ছাত্রীর', 'বখাটে', 'অধঃপতনে', 'গমগম', 'কাপুরুষোচিত', 'ফিসফস', 'বীরত্বকে', 'খেপেছেন', 'হায়েনার', 'নুহ্য', 'শুভশ্রী', 'রৌপ্য', 'শিশুকে', 'পূ্র্বপুরুষদের', 'গ্লানিময়', 'ফেরী', 'তকমা', 'শীঘ্রম', 'সমাজে', 'মানুষরুপী', 'অস্হি-চর্মসার', 'বিবেক', 'কতদুর', 'বর্জিত', 'রাখবই।', 'জনকদের', 'শিকারী', 'বেধে', 'লুকোতে', 'লজ্জাবতীর', 'প্রথমবারের', 'রক্তচোষা', 'অতীতটাকে-', 'ঝলকানি', 'এগুতেই', 'এগুনোর', 'শক্তিটুকুও', 'নিঃশেষ', 'অভিশপ্ত', 'একনিমিষে', 'দেও।', 'লাগায়', 'আসছে-', 'বেলাভূমিতে', 'সাজায়া', 'মরিয়ম', 'নিঃশ্বাসটাকে', 'কলঙ্কিত', 'করছি–', 'বৃক্ষকে', 'লক্ষ্যহীন', 'নর-পশুটার', 'উস্থান', '-পতন', 'শহরটাকে', 'পথগুলোকে', 'ঘোষনা', 'গ্রাফাইট', 'চলছি-', 'গন্তব্যের', 'পথভ্রান্ত', 'কালোর', 'আর্বিভাব', 'শ্রাবণের', 'যক্ষের', 'স্মরন', 'দিচ্ছে-', 'আসি।', 'পুজি', 'সময়কে', 'রক্ষণাবেক্ষণকারী।', 'সিড়িটা', 'রমনীর', 'লাইনে', 'সন্ধায়', 'উত্তরাধিকার', 'অন্তকাল', 'জরিয়ে', 'রমনী', 'মহাকালকে', 'অক্টোপাসের', 'খুলেছেন', 'হয়ছে', 'ধরবে', 'গুল্মো', 'উধ্বগামী', 'শাল', 'সিড়ি', 'শুকোতে', 'সেড়ে', 'পাতালপুরীতে', 'বিশ্বাসকে', 'খা।', 'শুইছিস', 'মানাতে', 'ছাওয়া', 'ঘুমাইছিস', 'ভবিষ্যৎও', 'সূর্যটায়', 'প্রতিয়মান', 'একেকটি', 'প্রতিক্ষাকে', 'উপজীব্য', 'নিমেষেই', 'ঘর্মাক্ত', 'পাতালের', 'পড়েছিলো', 'বোনরাও', 'ভক্ষণ', 'স্বার্থে', 'জয়ধ্বনি', 'বিকেটা', 'চলনা', 'চিরজীবী', 'হউন', 'স্বরতন্ত্রী', 'ছিঁড়ুক', 'কৈফিয়ত', 'আয়োজন-', 'প্রজার', 'দেরির', 'ঘুমিয়ে', 'চেয়ারেই', 'সর্বকালে', 'ছোটখাটো', 'ঘুরবে', 'কত-শত', 'রাজ্যাভিষেকের', 'রিকশায়', 'পত্নীভক্ত', 'অশ্বত্থ', 'গাছটির', 'গাছটিকে', 'ইমোশনলেস', 'প্রদক্ষিণরত', 'ফেলবো', 'জিহবা', 'এতোদিন', 'রাজ্যভার', 'দ্বায়িত্বজ্ঞানহীন', 'স্বাধীনচেতারা', 'স্বাধীনচেতা', 'কুষ্মাণ্ডকে', 'বঙ্গদেশের', 'প্যানপ্যানানি', 'ধূর', 'কতো-শত', 'সারাটা', 'নর্দমা-ফুটপাত-খাস', 'কমন', 'বাংলা-রাগ', 'বাংলাতে', 'খিস্তি', 'হিন্দিতে', 'দিনটি', 'বুধবার', 'ইংরেজিটাও', 'ব্যাটার-গলা', 'ভীতিকর', 'কাটি', 'চড়াই', 'শূলে।', 'সৌরভ', 'হিমচাঁপার', 'সাজান', 'মাধবীলতার', 'অন্তঃসত্ত্বা', 'রোমাঞ্চকর', 'অজুহাতে', 'ঘরবন্দী', 'সভাসদগন', 'চুঙ্গি-খোর', 'ধূর্ত', 'পাল্টিবাজ', 'বকধার্মিক', 'এসময়টুকু', 'মনোরঞ্জনের', 'কতেক', 'গাইবে', 'চুল-দাড়ির', 'রবীন্দ্রনাথকে', 'গুরুদেবকে', 'চপেটাঘাত', 'ততোধিক', 'মহারাজ', 'মজলিসে', 'প্রকোষ্ঠে', 'হৃদপিন্ডের', 'মুহুর্তের', 'হাঁটছিলো', 'ঐশ্বর্য', 'রাসকেলকে', 'হাবাগোবা', 'সৈকতই', 'রক্তচক্ষু', 'অস্ত্রের', 'ঝনঝনানিতে', 'উচ্চকিত', 'ইউ', 'স্লোগান', 'হৃদয়পটে', 'লেখালেখিও', 'অধ্যাপনা', 'পরশও', 'রাখালিয়া', 'সততা', 'রাসকেল', 'ফাকিং', 'যমদূত', 'থুতুু', 'বিধবা', 'শস্য', 'শরীরও', 'আবরণ', 'বিপুল', 'ঐশ্বর্যে', 'সজ্জিত', 'প্রাণহীন', 'ইডিয়ট', 'মাংসপিন্ডের', 'নৈবেদ্য', 'খাতাটি', 'শুভবুদ্ধির', 'চড়টা', 'ফাল্গুনে', 'বিপুলা', 'আত্মসম্মানবোধ', 'ব্যকুলতা', 'জ্যোৎস্নায়', 'সৃষ্টিকর্তা', 'নিংড়ে', 'ঘুমিয়েছে', 'আর্তি', 'ব্যাপ্তির', 'তনুশ্রীর', 'পরস্পর', 'চূর্ণবিচূর্ণ', 'বুনেছে', 'ইন্দ্রজালিক', 'ঝাপটিয়ে', 'ছোটবোন', 'বিনুনি', 'পলাশ', 'বড়িয়ে', 'ললাটে', 'রোমন্থন', 'অঘোর', 'কমতে', 'ভেবেছিলো', 'মোমবাতির', 'সহসা', 'গ্রীক', 'পথে-', 'প্রণয়ের', 'বিরহের', 'বাজুক', 'কোমলতা', 'ঝলকানিতে', 'চেহারাও', 'সাদাসিধা', 'মাকড়সাকে', 'গলাধঃকরণ', 'সর্বভুক', 'টিকটিকি', 'জড়াবে', 'মুছবেন', 'পথচারীদের', 'তেলবাজিতে', 'সড়ক', 'অনাহারে', 'সুবোধ', 'খাবে-ঘুরবে', 'ভুলো', 'রাজাই', 'গণেশ', 'পূজ্য', 'বোনজামাই', 'গড়ব', 'জুড়ানো', 'পাওনার', 'দেনা', 'জুটিয়ে', 'মগজটুকুই', 'নিয়মেই', 'পরছি', 'মরুক', 'সংকল্পে', 'নগদ', 'তালে', 'দেয়া-নেয়া', 'সচল', 'হামেশা', 'হর', 'ব্যাপারও', 'ব্যথাও', 'চাকরিজীবি', 'রাজকার্যেই', 'হাকানোর', 'এটাতে', 'দেশকে', 'বাগে', 'যত্নে', 'আরোও', 'যৌতুকেই', 'কৃতিত্বে', 'জামানায়', 'মশাইয়ের', 'ভাগ্নীর', 'খড়কুটোর', 'প্যাঁকপ্যাঁক', 'নিঃশেষিত', 'ধূলিঝড়', 'মরূভূমি', 'ধ্বংসযজ্ঞের', 'বোর্ডে', 'উন্নয়ন', 'অদূরের', 'ধূলি', 'বিপন্ন-অর্ধমৃত', 'অনার্স-মাস্টার্স', 'অশ্রুপাতে', 'চৌকিদার', 'পাহারারত', 'অজগর', 'কৃতকার্য', 'ছেয়েছে', 'জুটলো', 'দু-চোখে', 'আকাঙ্খা', 'গেলো', 'বসন্তে', 'কোকিল', 'দূর্বাঘাসে', 'ভাগ্নী', 'পাত্রী', 'বন্যায়', 'শহর-গ্রাম-দিগন্ত', 'পাঁকা', 'ছেঁয়ে', 'কপালও', 'রুক্ষতার', 'রসের', 'ব্যাটে-বলে', 'যোগান', 'লাখের', 'লাখেই', 'হাঁটুজল', 'মুখেতে', 'রাজামশাই', 'চণ্ডালদের', 'মারুন', 'ধোঁকায়', 'ফেলুন', 'পিপাসিত', 'বুধ', 'বধের', 'খিলখিলিয়ে', 'মনুষ্যভাব', 'অন্যটাতে', 'ছোবল', 'অজগরের', 'ক্ষণিক-বাদে', 'রাজকোষ', 'প্রাসাদ-গাড়ি', 'পেয়াদাকে', 'নজরুল', 'মানলাম', 'রাজকোষেও', 'বিদ্রোহীকে', 'ক্যাকটাস', 'গ্রিলে', 'দুলছে', 'বাসাগুলো', 'বাবুইপাখির', 'উপড়েছে', 'শেষবেলা', 'অবলা', 'বসায়নি', 'সাম্যবাদ', 'অত্যাচারী', 'শাস্তিস্বরূপ', 'জুটল', 'ভোগ্য', 'হিঁচড়ে', 'বস্তি-নর্দমা', 'দুজনার', 'কাস্তে-কোদাল', 'রাজহাঁস', 'মেয়েকেই', 'কিনছেন', 'জনাকয়েক', 'হোমরা', 'মোড়ল', 'বাঁধল', 'গালেও', 'হাঁসের', 'সারবে', 'সন্নিকটে', 'মগজের', 'যতনে', 'ঠাস', 'নগদে', 'দাস-দাসী', 'দিনরাত্রি', 'দাসী', 'দাম।', 'মেরুদন্ডহীন', 'কীটকে', 'বিয়েটাই', 'প্রতিদিনে', 'অনাসৃষ্টি', 'চাবুকে', 'দমে', 'মৃত্যুতেও', 'আমলনামা', 'লুটল', 'রাজভাণ্ডার', 'পাচার', 'দন্ড', 'হবে-মুন্ডু', 'মুন্ডুপাতে', 'শুধতে', 'ঘামের', 'প্রমত্তা', 'পারিজাতের', 'প্রতিযোগী', 'ভাবনায়', 'মদ্যপান', 'সম্ভাবনাই', 'বোলালো', 'মানাও', 'ক্ষমতায়নের', 'শিখেছে', 'স্বাগত।', 'কুশল', 'কর্মস্থলে', 'মনস্থির', 'খেদমতে', 'কসবিখানা', 'সাহসটুকু', 'নরকেই', 'মনোপুত', 'ভালোবাসলে', 'হইনি।', 'সংশয়টুকু', 'রূপান্তর', 'চিনব', 'গুঞ্জনের', 'হৃদপিণ্ডটা', 'চড়ছে', 'আলোচ্য', 'নিপীড়ন', 'ঘিরেই', 'দো-তলার', 'আয়তন', 'রক্ত-অশ্রু', 'খাটটার', 'জানোয়ারটা', 'বীভৎসতায়', 'খুবলে', 'নিলমি', 'রক্তধারা', 'খাটের', 'ডাকত', 'ফেলেছিল।', 'গতবছর', 'স্তরের', 'নেতৃত্বই', 'ঝাঁকিতে', 'ব্যথ্যাটা', 'সঙ্গিণী', 'গিয়েছেন।', 'ঢোকাল', 'পড়ছিল', 'আশ্চর্যবোধক', 'ধাঁধার', 'কাশো।', 'টেনেই', 'বিষয়টার', 'আদিখ্যেতা', 'হাটল', 'ওখানে।', 'গলাতে', 'মৌমাছির', 'বলছিস', 'কলিজায়', 'উল্টালো', 'মুহূর্তকাল', 'স্থানটা', 'যোগ্য।', 'আহ্লাদী', 'বাড়িতে।', 'মুটিয়ে', 'ফোঁড়ন', 'নাড়া', 'পোকাটা', 'স্ত্রীরা', 'সন্দিহান', 'ধী', 'স্বামীরা', 'ডানের', 'আলমারি', 'কামরাটা', 'ধরাতেই', 'পরিনতি', 'লাফাচ্ছে', 'হাসোজ্জল', 'খচখচ', 'ফুর্তিতে', 'পায়েই', 'কাধের', 'সিঁড়িগুলোকে', 'জুগিয়ে', 'রুষ্ঠ', 'সমীহ', 'অন্দরে', 'অনিচ্ছাসত্ত্বেও', 'স্থাপিত', 'নীতির', 'নতুনের', 'ডাবরীবাসির', 'চলত', 'উঠত', 'কমাল', 'গতিও', 'হাঁটাচলা', 'থলেটা', 'সারলো', 'নাচিয়ে', 'অনভ্যস্তদের', 'পাপের', 'নিরবিচ্ছিন্ন', 'ভ্যু', 'শুভেচ্ছা', 'জন্তুও', 'জন্তু', 'এপরের', 'এবড়ো-খেবড়ো', 'থলেটার', 'পটে', 'সিঁড়িগুলোও', 'দৃষ্টিভঙ্গি', 'অনিরাপদ', 'Χ', 'তাকাতেও', 'অনিদির্ষ্ট', 'সেতুটা', 'পাহাড়গুলোর', 'সেতু', 'বিপরীতধর্মী', 'হতভাগা', 'বিপদগ্রস্থ', 'হাঁটে', 'সৌজন্যতার', 'অন্তর', 'হানি', 'স্ব-অবস্থানে', 'অন্যরা।', 'এইভেবে', 'অসর্তকতাই', 'সমকক্ষ', 'অন্যান্যদের', 'নিম্নগামী', 'দুগাল', 'মানেটা', 'দায়িত্ব।', 'মঞ্চ।', 'পরাণ', 'কুঁজো', 'শিথিল', 'ব্যাগগুলোতে', 'চা-বাগানে', 'পাহাড়ি', 'উপযোগী', 'ভঙ্গিটাই', 'ঝুলানোর', 'বিদ্যালয়গামী', 'যাওয়াই', 'জীবনটাই', 'গ্রীবা', 'ইথানকেও', 'আসে…', 'আগেই…', 'ঝোলানোর', 'বেল্ট', 'ব্যাগগুলোকে', 'ডাবরিয়ানরা', 'একজনে', 'শরীরকে', 'বেজার', 'যথেষ্ট।', 'কোয়ার্থই', 'প্রয়োজনও', 'এসেছো।', '…কিসের', 'ফেলানরদের', 'ফেলানরও', 'মিমপিও', 'অপছন্দ', 'নির্ধারন', 'নীতিনির্ধারকের', 'আপনারাই', 'দাঁড়ান……এই', 'গুণগুলোর', 'গাদাগাদি', 'সাক্ষাত', 'লোকটাই', 'বোলালেন', 'সম্পর্কে।', 'অবস্থানটাও', 'অনর্থক', 'কারাগারের', 'প্রথাগত', 'ভুলিনি', 'গেছেন।', 'পুরোপরি', 'তরবারীধারী', 'নির্ধারকরা', 'মনোভাব', 'মারছেন', 'জুলফি', 'ষাঁড়ের', 'উত্তীর্ণ', 'বিদ্যা-অপবিদ্যার', 'ধী-আয়েদিস।', 'ছাড়ো', 'পেরেছিলেন', 'দ্বন্দ', 'বিপরীতদিকে', 'এমাথায়', 'ভবিষ্যতেও', 'চামড়ার', 'নারীতে', 'খুঁজবে', 'তরবারিকে', 'রুখতে', 'মাথাকে', 'ঝাকালো', 'সাধকদের', 'বাড়িও', 'কল্যাণকর', 'বইগুলোই', 'বিষয়বস্তুর', 'পাঠক', 'অবস্থায়ও', 'ফেলত।', 'বিষয়টাই', 'দৌড়ানোর', 'সহস্রবর্ষজীবী', 'গণকবর', 'মরুচারী', 'পিঠেই', 'বুঝতেও', 'ইখলাছ…ইখলাছ', 'উচ্চপদস্থ', 'গভীরতার', 'মধ্যপদস্থ', 'ছেলেটাই', 'তীরের', 'দেয়ালও', 'স্তুপটাতে', 'জায়গাটুকু', 'থুবড়ে', 'একনিমেষে', 'যতদুর', 'ভরদুপুরেও', 'অনিশ্চয়তাই', 'কারগারের', 'জুড়াতো', 'পাজামার', 'সুরৎহাল', 'বাবা-মায়ের', 'মিলবে', 'দু-রাত', 'অন্যজনের', 'বল…তোর', 'পৌঁছায়নি', 'মর্মাহত', 'শা', 'শয়তানি', 'বুকে।', 'চিনি।', 'ডান-বামে', 'খোঁচায়', 'শিখেছিস।', 'চালনায়', 'দ্বিখণ্ডিত', 'পশ্চাৎদেশে', 'আহ্লাদীর', 'পারিশ্রমিকে', 'নিগূঢ়', 'বাপইকে', 'টাকাগুলো', 'প্যাঁচটা', 'বিধান', 'রেলিং', 'দেবেও', 'প্যাঁচটার', 'দিস।', 'কুণ্ডলিগুলো', 'জিহ্বায়', 'অত্যাচার', 'বাপই', 'প্যাঁচ', 'খুজল', 'পার্কুর', 'দু-লাইন', 'কনুই', 'ভাঙ্গছে', 'নবাবজাদার', 'পাথারের', 'তুষ্ট', 'পারছে।', 'নিয়েছিলেন', 'তিনটাকে', 'পারছি।', 'নাজেহাল', 'তরবারিধারী', 'নাট্যমঞ্চের', 'শুয়েই', 'দ্রুত।', 'প্রেরণ', 'রাগটাই', 'কত্ত', 'দ্রুততায়', 'পেরেক', 'তক্তা', 'শোনানোর', 'দেখো।', 'দর্শনীয়', 'তোলাই', 'আলকাতারাকে', 'নিতান্তই', 'বেইমানী', 'অচেতনভাবে', 'বোলাচ্ছে', 'ঢিলে', 'অনুগ্রহের', 'ল্যাং', 'মজ্জাগত', 'স্বার্থপরের', 'গুণাবলির', 'চারিত্রিক', 'গর্ভ', 'সহজ।', 'পদার্পন', 'বেরোচ্ছে', 'ভরবে', 'প্রায়শ্চিত্ত', 'চেহারাতেই', 'সংকীর্ণ', 'নিভৃত', 'নিভু', 'অবিশ্বাস্য', 'কার্যসিদ্ধির', 'সর্বসাকুল্যে', 'খাদ', 'উৎকন্ঠা', 'মানবো', 'মানি', 'শাসক', 'ঈশ্বরকে', 'শঙ্কার', 'ফিরবেন', 'অর্ধাংশ', 'ফোলা', 'কণ্ঠনালীটা', 'খুরটা', 'চিনচিনে', 'নিভু্', 'খাওনের', 'ভিড়েই', 'ভোজই', 'সাম্রাজের', 'হাহাকার', 'লাল-কুঠি', 'স্থপতির', 'শকুনের', 'হাতিগুলোকেও', 'নির্মানের', 'ভুড়িভোজে', 'মাড়ানোর', 'ঐমুহূর্তে', 'কথিত', 'পিলগ্রিমই', 'নাড়ি-নক্ষত্র', 'পাইক', 'আমাগো', 'সিঁড়িটাই', 'যথাযথভাবে', 'বাক্যটার', 'পশুদের', 'দু-বেলা', 'কাটাবেন', 'ছোকরাটার', 'পাইনি', 'জীবনযাপনের', 'কতজনই', 'বিলাসিতার', 'গোফ', 'ভুলটা', 'মাথাটাকে', 'নাপিতকে', 'দ্বিগুন', 'কামাতেন', 'কেদারাটা', 'আচড়ানো', 'লাশটাও', 'বাস্তবতায়', 'বিশেষে', 'আধিক্ষেতা', 'জবাইপূর্ব', 'এতকাল', 'চামড়াটা', 'গলাও', 'পুতুলে', 'বেড়াবে', 'দাঁড়াও।', 'সিন্দুক', 'নিশ্ছিদ্র', 'ছোকরাটা', 'খুরের', 'আলকনতারার', 'মোহাবিষ্ট', 'শুনলেন', 'প্রতিধ্বনিত্ব', 'সংলাপের', 'আওড়ে', 'রেকর্ডের', 'সম্রাজেরই', 'কুটিরে', 'মানুষির', 'অভিসম্পাত', 'ডাবরিদের', 'ষড়যন্ত্র।', 'লুকাচ্ছে', 'প্রমাণও', 'উপদেষ্টার', 'কোয়ার্থে…', 'কিন্তু…', 'নির্বাচিত', 'মরবেও', 'বাহ্যিকভাবে', 'অক্ষমতা', 'গরীবের', 'ভূষণ', 'হিরণ্ময়', 'তোতলালো', 'হিইইরন্মমমময়', 'ইহলোকের', 'খাটাতে', 'দোরান।', 'দিব্যি', 'নীতিবাক্য', 'বাজনার', 'দো', 'রাজবাড়িতে', 'খোঁজখবরও', 'সছিদ্র', 'সুযোগটুকু', 'পেটেও', 'প্রতিউত্তর', 'হিংসার', 'রাঙানি', 'উম্মোচিত', 'পাবেও', 'পৌঁছেও', 'ধাপের', 'আরলোকে', 'লজ্জাটা', 'চড়িয়ে', 'শুলে', 'সবকটাকে', 'ইতিহাসকে', 'সমন্ধেও', 'গড়বড়', 'ওহো', 'লিখছিলাম।', 'লিখছিলে', 'লেখকরা', 'ন্যস্ত', 'ক্রমবর্ধবান', 'লেখককের', 'অতীতের', 'অতিক্রান্ত', 'সাইজের', 'ঢাউস', 'ধাতে', 'শীর্ষে', 'ভোলেননি', 'লিখছি।', 'স্বহাস্যে', 'শোচনীয়', 'আবডালে', 'লিখেছিল', 'অনুচ্ছেদ', 'মহলের', 'অভিশাপেও', 'ছলে', 'অক্ষমতাকে', 'বিদ্রুপ', 'জনশ্রুতি', 'লোকদুটো', '…পিলগ্রিম', 'অনুচ্ছেদটা', 'রসিয়ে', 'লেখাটাই', 'ভূষন', 'বেরোল', 'লিখছো', 'খোলসটা', 'মানুষিতে', 'সংকীর্ণতর', 'ভেতর-বাইরে', 'করিনি।', 'বিনিময়েও', 'পারতে।', 'অন্তুত', 'গাদায়', 'পৌঁছেনি', 'সিন্ধ্য', 'মুগ্ধতা', 'নৈঋতেরই', 'পরিচিতার', 'কণ্ঠস্বরটাই', 'অভিনেতার', 'দাঁড়াও', 'পেটানো', 'সুগঠিত', 'চিটচিটে', 'চনমনে', 'পাকড়াও', 'সময়টাই', 'রুহহীন', 'ফেলত', 'ফিলিক্সকেও', 'তোমাকে।', 'উচ্চমার্গীয়', 'খুনিদের', 'নজরদারি', 'উপরও', 'প্রত্যকটা', 'টিপে', 'সত্য।', 'পেরেছি।', 'পারো।', 'বাঁচলো', 'এগুয়েমি', 'নেশাদ্রব্য', 'আনতে।', 'হায়নার', 'বাহুবন্ধন', 'বাধ্যগত', 'কাঁধেই', 'উচ্চতাজনিত', 'সারতে', 'স্বল্পতার', 'সুড়ঙ্গটাও', 'সুড়ঙ্গের', 'পেরোলেই', 'সুড়ঙ্গটা', 'পৌঁছানোই', 'পথসঙ্গী', 'নবীশ।', 'হনহন', 'জ্যান্ত', 'উদ্ভিদগুলোকে', 'সাজিয়েছে', 'এদফায়', 'বিতর্কের', 'ফাদ', 'বস্তাকে', 'অপার', 'ছায়াটা', 'আছাড়', 'ভ্র', 'ঊঠতে', 'জলপ্রপাতটার', 'সাইফকেও', 'স্বর্গের', 'অসঙ্গতিপূর্ণ', 'অর্থহীন', 'হিতে', 'ঝরণাগুলো', 'ফেনিল', 'ফেলিন', 'আভাটা', 'পুনবার', 'ব্যাপারেও', 'সঙ্গীত', 'সুরেলা', 'মিলবে।', 'দুইপাশ', 'শিক্ষাটা', 'আটা', 'কেউ।', 'ডলাডলি', 'গর্দানোর', 'কামানোর', 'পাঠিয়েছেন', 'আসত।', 'সরছেই', 'সমীকরণ', 'জুটছে', 'চাইতাম', 'খসা', 'বোটা', 'ভাবছো', 'মারলে', 'মাখিয়ে', 'পারোনি।', 'ক্ষমতাটাই', 'দুর্দিনেও', 'বিলাসবহুল', 'যাপন', 'অর্পিত', 'বাস্তবতা', 'মানুষি', 'মোড়েই', 'ইভান-লিভান', 'ঠেকেনি', 'জীবনকালের', 'পুরষ্কৃতও', 'ঝুলত', 'বেলাতেও', 'একইসাথে', 'দুর্দশা', 'মিনমিন', 'স্বর্ণময়', 'উপার্জনের', 'জানতেও', 'রাগটা', 'পাঠাতাম', 'কোঠায়', 'শূন্যের', 'কাদাতেই', 'জেলির', 'আঠালো', 'পাটাতনটা', 'হিংস্রতা', 'চেহারাটাই', 'ফিরব', 'দিকে।', 'ক্ষীর্ণ', 'দিকটায়', 'জলধারা', 'ঢালুর', 'চাপড়', 'দাঁড়ালেও', 'মাড়াব', 'নেশাগ্রস্ত', 'ডাইনী।', 'বেড়া', 'দেখতাম।', 'আত্মসম্মান', 'মরিচবাতির', 'এতটুকুর', 'নৈঋতকেই', 'বাস্তবায়নেও', 'উদ্দেককারী', 'এতদ্রুত', 'শক্তি।', 'নিভছে', 'অস্বস্তিতে', 'জলপ্রপাতটাই', 'আশ্বাসে', 'ওসব।', 'কৌতহল', 'বাঁধতাম', 'কনুইয়ের', 'দৃশ্যটার', 'স্বাধীনতার', 'কবিরও', 'কুড়েঘর', 'স্থানেই', 'তরুণীও', 'করেছিলেন।', 'দ্বিতীয়টার', 'দুঃসংবাদটা', 'মওকুফের', 'টেবিলেই', 'শোনাই।', 'সুসংবাদটাই', 'দৃষ্টিকোণ', 'উপর।', 'দুইটাই', 'পরিণতিতে', 'নির্বিকারভাবে', 'বিলি', 'সচেতনভাবেই', 'এনেছি', 'পরাকাষ্ঠা', 'পরিক্রমা', 'খুঁটিনাটি', 'বদলের', 'ছিঃ', 'ছাদটাকে', 'সমানে', 'আঞ্চলিকতার', 'খুঁজলেন', 'বাল্যবন্ধুদের', 'পুর্ণমিলনী', 'উপস্থিত।', 'দুর্গ', 'পিলারগুলো', 'গর্দভ', 'ইটগুলো', 'সুরকি', 'বারান্দাটা', 'শহর।', 'চালাক', 'নীতিনির্ধারক', 'ত্যাড়া', 'ঝুলিয়েই', 'নওদাই', 'জানি…', 'ব্যক্তিটি', 'ইতিহাসেও', 'প্রধানদের', 'অভদ্রের', 'ভদ্রভাবেই', 'গর্দান', 'আপনাকে।', 'খুঁজেও', 'মুখটাকে', 'বিছানাটায়', 'আপ্যায়ন', 'ফেললাম।', 'তাৎক্ষণিক', 'পরিচর্যাকারী', 'শুশ্রুষা', 'সেবা', 'আলকানতারারও', 'ভাঁড়কে', 'খেরবাড়ির', 'অবগত', 'শুনি।', 'রাখলেই', 'গোপনীয়তাই', 'দ্বিধা-দ্বন্দ', 'অন্যকারো', 'বিরোধ', 'কর্তব্য', 'আরোপিত', 'শুনুন', 'সুখ।', 'হিংসায়', 'ভোজে', 'ভুলগুলো', 'পূর্বপুরুষদের', 'বোধহয়।', 'প্রত্যেকের', 'ত্যাগেই', 'তুকারি', 'অভিশাপের', 'সোফাগুলোতে', 'সেরকমই', 'তেমনটা', 'নদীটাই', 'বলে।', 'অতিথিরা', 'আলোটা', 'সর্বশান্ত', 'যখনই', 'পায়তারা', 'ভয়াল', 'ভাগ্যিস', 'এতকিছুর', 'চূড়ায়', 'যতসামান্য', 'আয়োজনের', 'আলোকে', 'এড়ানোর', 'প্রাণকেন্দ্রে', 'ক্ষুব্ধ', 'এবারেই', 'এদিকে।', 'পদব্রজ', 'সেতুগুলোতে', 'চালিয়েও', 'গজিয়েছিল', 'খুড়তে', 'খুঁড়ছিল', 'টলছিল', 'পেরোনর', 'পেরোনোর', 'বুঁদ', 'পদব্রজে', 'ফিরেছি', 'আহবানে', 'তরঙ্গ', 'উদ্দীপনা', 'মিলতে', 'সমীকরণটা', 'উৎসর্গে', 'ডানপাশে', 'বণর্না', 'লিভান।', 'সুনাম', 'কর্মে-অপকর্মে', 'ইস্ততস্ত', 'কিঞ্চিত', 'ইভানও', 'মানে।', 'শুনব', 'ঝরঝর', 'সার্বক্ষনিক', 'পরোয়ানায়', 'অশ্রুবিন্দুর', 'স্নায়ু', 'আশঙ্কা', 'সুদৃশ্য', 'আঁধারের', 'ভয়েই', 'উজ্জল', 'বাউন্ডুলে', 'থেমেছেন', 'দোলাচলে', 'প্রদর্শনই', 'প্রদর্শন', 'শুনতো', 'যথার্থভাবে', 'নামলেন', 'বৈঠক।', 'দুলতে', 'সময়েরই', 'সহচর', 'অশ্বারোহীদের', 'সেখানেও।', 'পারতি।', 'ভিন্নভাবে', 'কচু।', 'শুকরে', 'রতনে', 'শোয়া', 'সোফা', 'বাবাকেই', 'কবচে', 'গগন', 'ফট', 'মোচড়ে', 'শূণ্যেই', 'কোমরেই', 'বাঁচবে', 'দুটোই', 'কোমরের', 'হওয়াটা', 'বাঁচানো', 'প্রাবল্য', 'ঘুষিতে', 'ঘুষিটা', 'মানুষই', 'ফেরানোর', 'ত্রিশজকে', 'ছয়ফুটের', 'বিদারী', 'জায়গাটাই', 'ঘন-ঘন', 'অধিকারী', 'নির্দয়ভাবে', 'কোকাচ্ছে', 'নয়জনই', 'পূর্বপরিচিত।', 'সম্পদের', 'কাজটাতে', 'ঝক্কিতে', 'গেড়েই', 'জায়গাগুলো', 'জনা', 'নয়জনের', 'হেলমেট', 'শ্বেত', 'ধন-সম্পদের', 'বরফে', 'গোঙ্গানির', 'চাপড়াল', 'পাশটায়', 'ধা', 'হৃদপিণ্ডে', 'উপস্থিতে', 'ওফোড়', 'এফোড়', 'চাকুটার', 'মাঝখানটা', 'আহহা', 'আসতেন।', 'উনিশ-বিশ', 'অব্ধি', 'মিশতে', 'চাকুগুলোর', 'চাকুর', 'আসতেন', 'ফেরাতেই', 'ঘুরিয়েছে', 'দশচোখা', 'আক্রমণকারীরা', 'সুবাদে', 'আত্মরক্ষার', 'স্থূল', 'প্রশিক্ষণের', 'ভোলে', 'ধুপ-ধাপ', 'প্রান্তের', 'লাঠিগুলোকে', 'জোষ্ঠ্য', 'আকারেও', 'উদ্ভিদের', 'লাওকানতারা', 'ভুঁড়ি', 'নাচাচ্ছিলেন', 'নিরস্ত্র', 'নবম', 'আটজনের', 'দেখতেছে', 'দাড়ানোর', 'ভাবতেন', 'দেখালেই', 'অনিন্দ্য', 'পরিপূর্ণ', 'অব্দি', 'নাশ', 'মৃত্যুভয়', 'সহোদরের', 'সামলিয়ে', 'পরিব্রাজকের', 'সিদ্ধান্তহীনতা', 'কূল', 'ত্রানকর্তা', 'ফড়িয়ারাই', 'খুইয়ে', 'পূর্বাপর', 'জীবনটাও', 'অমৃতধারা', 'আলকানতারাকেই', 'সত্যতা', 'আগুনও', 'পোশাকগুলো', 'হাটলেই', 'বল্লম', 'সাজতেই', 'বিছানাটাও', 'মখমলে', 'সোফায়', 'বেছানো', 'প্রসাদের', 'দরজাগুলোতে', 'আস্তাবলে', 'করেননি।', 'বল্লমের', 'প্রহরীটা', 'জানিয়েছেন।', 'বাস্তবায়নে', 'যাছে', 'বল্লমগুলো', 'ফলায়', 'সুচালো', 'প্রতিহিংসার', 'দলটাকেও', 'চিনতেও', 'দালালগুলো', 'মুখটাও', 'যারপরনাই', 'সবকটার', 'পতনের', 'দোল', 'সাহায্যে।', 'হাতকড়ার', 'কয়েকটাকে', 'নিচটায়', 'খেলিয়ে', 'নয়জনকে', 'দেখাওনি', 'গিলছে', 'তাকানোই', 'লতাগুলো', 'অনুকূল', 'ব্যাঙগুলো', 'কল্পনায়ও', 'তোতলাচ্ছেন', 'বস্ত্রে', 'ঝুকল', 'গড়িয়েই', 'নেভেনি', 'পুটলি', 'গড়াতে', 'রোলারের', 'ব্যাঙদের', 'আঁচে', 'উর্ধ্বগামী', 'কলুষ', 'হাতকড়া', 'ইঞ্চিতে', 'অঙ্গের', 'সংবেদনশীল', 'কল্পনাতে', 'ধনুকের', 'আশাচ্ছন্ন', 'বলোনি', 'ঘুরেই', 'একদিকেই', 'আলোকবর্তিকাটা', 'আলোকবর্তিকা', 'বস্তুটি', 'ধোঁয়াও', 'শুয়োরটা', 'বিক্ষিপ্ত', 'অসন্তোষের', 'প্রতিফলন', 'প্রবৃত্তির', 'কালক্ষেপন', 'কারণটাই', 'সরিয়েছে', 'খেরবাড়ি', 'মানসিকভাবে', 'শারিরীকভাবে', 'সহযাত্রী', 'অসহায়ত্ব', 'শুনলো', 'খুঁজছেন', 'মিটারের', 'হয়েছিলেন', 'উঠছিল', 'হাটছেন', '…কান', 'তৃতীয়বারের', 'বালুরাশির', 'মরুভূমির', 'চিকচিক', 'ছেঁড়ে', 'বধ্যমূল', 'তিনশ', 'মুখগুলোর', 'দাড়ালে', 'ধারনের', 'উষর', 'বোনটাকে', 'সেবার', 'মুদ্রাকে।', 'ইশারাই', 'বুঝদার', 'সাহয্য', 'তুলব', 'হৃদয়হীন', 'বোঝাবুঝির', 'বোঝাবুঝি', 'কিসব', 'পৌঁছাবে', 'হৃদয়হীনতার', 'উঠলেও', 'শরীরটাই', 'প্রবোধ', 'শ্রেয়।', 'পালটে', 'মহাদুর্যোগে', 'মুদ্রাকবাসীর', 'স্বজনকে', 'কতজনকে', 'সমৃদ্ধ।', 'কাশছে', 'সবগুলোর', 'চিকিৎসাটা', 'অধীনস্ত্বরা', 'বিরোধিতার', 'পাঠালেও', 'দম্ভ', 'গুড়িয়ে', 'কণ্ঠেও', 'চিকিৎসার', 'কৃতজ্ঞ।', 'পুনঃরুথান', 'জয়ী', 'চোটটা', 'চোটের', 'লাশকে', 'কাশতেই', 'কাশতে', 'সবিস্ময়ে', 'পাক্কা', 'তীক্ষ্মতর', 'উদ্ভ্রান্তের', 'বড়ও', 'বিরোধিতাও', 'অংশ।', 'অংশটার', 'জগতেরই', 'মনোযোগী', 'পাঠদানের', 'কথাকেও', 'নিশ্চিন্ত', 'হায়', 'ব্যাঘাত', 'নীচতলা', 'কোথাও।', 'আগা', 'বাস্তব।', 'প্রত্যকেটা', 'ভ্রম', 'প্রশ্নেই', 'মাঝপথেই', 'চিন্তাতেই', 'অস্থিরতার', 'হবেই।', 'খ-ও', 'অনিয়ন্ত্রিত', 'পক্ষপাতিত্ব', 'দণ্ডনীয়', 'বহির্ভুত', 'শতাংশ', 'নিরানব্বই', 'বিষয়কেই', 'উদঘাটিত', 'সংশিষ্ট', 'থাকাটাই', 'ওপরো', 'ক্ষৌণীতে', 'এরথেকে', 'জেনেছি', 'গোপনীয়ভাবে।', 'হচ্ছো', 'কোটর', 'মইগুলো', 'ঘুরালেন', 'হতাশাও', 'কুটির', 'ভেবেছিলাম।', 'তর্কে', 'রাজদরবারে', 'পৌঁছলে', 'ঝটকা…কালো', 'আপোষ', 'তৃতীয়বার', 'ঘটনাকে', 'আকারে', 'কুড়েঘরের', 'এরপরে', 'বাক্স', 'ফেলাটা', 'সুক্ষ্ম', 'চমকপ্রদ', 'কুঁড়েঘরটার', 'ভূষা', 'জিনিস।', 'করিডোরের', 'করিডোরটা', 'লেগেছিল', 'রূপকাথার', 'অমূল্য', 'উৎচ্ছসিত', 'স্বরণকালের', 'অপবাদটা', 'মনঃপুত', 'মানুষজন', 'কাঠামোগুলো', 'উপকরন', 'পারদর্শিতা', 'ভেতরটা', 'কুটিরের', 'ঠেকে', 'একশজন', 'আর্তনাদের', 'বাল্যবন্ধু।', 'অরক্ষিত', 'নিজেরা', 'জপে', 'স্বার্থে।', 'ইশারায়…', 'বিক্রেতা', 'রাখেননি', 'লুকিয়েছেন', 'ভাঙ্গনবাসীকে', 'জানিয়েছেন', 'দেখিয়েছে।', 'মেজাজে', 'খোশ', 'ঝামেলাটা', 'বহুদিনের', 'তোতলায়', 'উঠবেন', 'বাধাতেই', 'নই।', 'বাগড়া', 'দেয়াতে', 'জায়গাটাতেই', 'দ্বিতীয়জনের', 'পাল্টেছে', 'ভৃত্যের', 'তিরষ্কার', 'সংবাদকে', 'পাবেন।', 'সংবাদের', 'বিনীতভাবে', 'সাফল্যে', 'সুসম্পর্ক', 'প্রতিরোধী।', 'এক্ষেত্রে', 'কোটরে', 'প্রতিরোধীর', 'চিন্তাটাই', 'সবকিছুতে', 'লেশ', 'ইচ্ছাপূরণের', 'পঞ্চসম্রাজ্যের', 'হারাচ্ছেন', 'দুঃচিন্তার', 'পদমর্যাদা', 'সামলানো', 'সমব্যথায়', 'ব্যথিত', 'মগ', 'কুডাক', 'বন্ধুই', 'ঘটতেও', 'গ্রহণযোগ্য', 'পদ্ধতি', 'ঢোলে', 'প্রাণকেন্দ্র', 'সেতুতেই', 'সম্পর্কযুক্ত', 'সৈন্যের', 'জীবনদশায়', 'একারণেই', 'দুর্দশার', 'বাহকের', 'প্র-পিতামহ', 'পিতামহ', 'দশায়', 'রুটিগুলো', 'অভদ্রতা', 'অবস্থাও', 'কানকে', 'আশপাশেই', 'অপ্রিয়', 'ভারপ্রাপ্ত', 'নিদিষ্ট', 'গড়নে', 'জলাশয়ে', 'বার্তাটা', 'পাঠালেন', 'রাখাটাও', 'ঘামও', 'প্রথমজনের', 'অতিকায়', 'রমরমা', 'বেরোবে', 'ভূমিকম্পটার', 'লিকুইর।', 'ফেরাটা', 'মিশ্রন', 'রত', 'অনেককেই', 'আদ্রতা', 'বিঁধছে', 'বাতাসটাই', 'মেইস্টারদের', 'তুষারের', 'লিকুইরের', 'সুরসুর', 'বরফের', 'পুরুষদের', 'খোঁজো।', 'কসবিদের', 'তুললে', 'পাষাণেরও', 'অনিশ্চয়তাটুকু', 'দুমড়ে', 'সত্যিকারে', 'পারবেও', 'মৃত্যুপুরীর', 'চতুর্দিক', 'লীলা', 'তান্ডব', 'নাড়ির', 'অপ্রাসঙ্গিক', 'একশ্রেণির', 'ধাঁধিয়ে', 'বোঝাটা', 'শীতেও', 'বেশিরভাগই', 'নিরাসক্ত', 'অহং', 'তুষার', 'ধাঁধানোসৌন্দর্য', 'উপস্থির', 'এরপরই', 'ইতিহাসবিদদের', 'ইতিহাসে।', 'সহস্রবর্ষের', 'অসম্পূর্ণই', 'হয়েছে…', 'হলদেটে', 'দাঁতগুলো', 'সঞ্চয়ের', 'উপহাসটাই', 'পত্রও', 'চারদিকটা', 'আলাপী', 'এসবও', 'ওঠানামা', 'বাসস্থানের', 'এবিষয়েও', 'বানানোই', 'হাস্যজ্জল', 'পিলগ্রিমসহ', 'চিবুচ্ছেন', 'হারায়', 'ব্যবহারে', 'ঘন্টাখানেকের', 'যেকথাটা', 'বাজতে', 'জাসপারেরও', 'সিঁথি', 'দৃষ্টিগোচর', 'অপ্রস্তত', 'নির্ধারকদের', 'বার্তাবাহকে', 'সতর্কতা', 'রুখে', 'আয়ত্ত', 'নিয়মগুলো', 'নিয়মের', 'আসরেই', 'রঙশালা', 'পাততেও', 'সমাগত', 'আমন্ত্রিত', 'বণিতা', 'আবাল', 'কার্পন্য', 'আতশবাজির', 'কুঁড়ি', 'মানুষরাও', 'নির্বাসিত', 'বিদ্যাকে', 'স্বজ্ঞানে', 'জাদুবিদ্যার', 'ফেলানররা', 'আক্ষা', 'অনুমোদিত', 'জাদুবিদ্যাকে', 'বসেন।', 'পুরোদস্তুর', 'অংশের', 'পুরুষরা', 'হাঁড়ি', 'আগ্রহবশত', 'শুভক্ষণে', 'নীরবতার', 'মুহূর্তেও', 'ব্যক্তিবর্গ', 'ভরসন্ধ্যায়', 'স্বপ্নাহতের', 'মোহময়', 'অগণিত', 'চড়েছে', 'জ্বলিয়ে', 'দীপাবলির', 'ধারকে', 'ত্রিপদী', 'অযুত', 'সজ্জা', 'ব্যতিক্রমই', 'জাদুবিদ্যায়', 'কাঠগড়ায়', 'সময়কাল', 'প্রবাদ', 'ধ্বংসলীলায়', 'রক্ষাকর্তা', 'বেনামি', 'বিনামূল্যে', 'সাম্রাজ্যকে', 'লণ্ডভণ্ড', 'দান।', 'আমরা…', 'ঘাটেনি', 'দিয়েছেও', 'মাটিকে', 'পলি', 'চাইছেন।', 'পত্তন', 'গোড়া', 'তীরেই', 'ঘাটতে', 'ভেঙ্গেছিল', 'ঐতিহ্যের', 'নদীটির', 'নির্দ্বিধায়', 'নিয়তি', 'প্রলয়ের', 'নিয়ন্ত্রনে', 'মুজারিব', 'পাননি', 'অনেককিছু', 'মহাপ্রলয়ে', 'নাকচ', 'দুস্বপ্ন', 'উন্মত্ত', 'জলোচ্ছ্বাসের', 'জলোচ্ছ্বাস', 'গর্জনটা', 'দুর্স্বপ্নের', 'ক্ষ্যাপাটে', 'সারথি', 'মহৎপ্রাণ', 'কথাগুলোকে', 'অংশগ্রহনে', 'পদধ্বনিতে', 'অতর্কিত', 'আনুষ্ঠানিকতায়', 'গোরস্থান', 'চোখেচোখি', 'পেয়েও', 'হন্তারককে', 'সামনটা', 'আবৃত', 'হারাল', 'রক্ষী', 'বেদিক', 'সামনটায়', 'ধারণাতেও', 'বক্ষ', 'আকস্মিকতা', 'ছুরিটা', 'হাঁটছিল', 'প্রতিমূর্তি', 'হেঁটেছে', 'নাজিল', 'অদিষ্ট', 'মাতৃভূমি', 'অনিশ্চিয়তা', 'মা।', 'আলকানতারা।', 'মহামারী', 'পেঁচাটার', 'দৈব', 'স্বপ্ন।', 'ধ্যান', 'খয়বারকে', 'মাঝবয়সী', 'পণ্ডশ্রম', 'পুত্রদ্বয়ের', 'বলিরেখা', 'আপবিদ্যার', 'সর্তক', 'ফাল', 'গাঁদায়', 'উপঢৌকনের', 'সৈনিকদের', 'আভিবাদনের', 'জনতাকে', 'প্রতিদান।', 'এতরাতে', 'খোপগুলোকে', 'সুদৃষ্টি', 'কপটতা', 'অপরিসীম', 'দৃষ্টিপাত', 'সভাস্থলে', 'কাটছেই', 'হুংকার', 'ফ্রেমে', 'সভাস্থলের', 'ঢেউটা', 'কানপর্যন্ত', 'আপনাদেরই', 'মিশেছিল', 'ধাতু', 'লক্ষ্যভেদ', 'দুরভিসন্ধি', 'বিশেষত', 'হানার', 'আশতবাজি', 'ওফোঁড়', 'এফোঁড়', 'কাষ্ঠমঞ্চ', 'দরাজ', 'মা-বোনকে', 'করবো।', 'সজাগ', 'অপপ্রচার', 'রাজ্যেও', 'উপকারে', 'উদিত', 'সুপ্রাচীন', 'ফেলানরের', 'জন্মগ্রহণ', 'জন্মভূমিতে', 'শেকড়ের', 'গোছাচ্ছে', 'প্রমাণের', 'জন্মভূমিকে', 'শখে', 'তারাগুলোর', 'প্রতিশ্রুতির', 'দিনটার', 'চাইত', 'নির্বাচনের', 'খাওয়াবো।', 'সুযোগটা', 'ঠেকত', 'হাসত', 'প্রতিশ্রুতিগুলো', 'মূসাও', 'জানিয়েছিলাম।', 'ব্যাপ্তি', 'ব্যাপ্তিকালে', 'বিক্রেতার', 'মমতার', 'ভাই-বোন', 'করেছে…', 'পুলকে', 'বহাল', 'অপ্রয়োজনে', 'তবিয়তেই', 'ছড়িয়েছি', 'পটু', 'জন্মদাতা', 'একরতি', 'জ্বরে', 'শুশ্রষায়', 'জামাটাও', 'কিনেও', 'ষড়যন্ত্রের', 'স্থানু', 'খাবারটুকু', 'বন্দী।', 'জিজ্ঞেসও', 'কাষ্ঠমঞ্চে', 'প্রাণসঞ্চার', 'নিরীহ', 'উঠো', 'অপারগতা', 'নীতিনির্ধারকদের', 'সুধীজন', 'ঘাটতি', 'বইগুলোর', 'ফিলিক্সই', 'জনপ্রতিনিধি', 'স্তুপগুলোর', 'কটুক্তি', 'উপর্যুপরি', 'কাষ্ঠ্যমঞ্চ', 'খাওনি।', 'মিলনায়তন', 'ধ্বনিতে', 'অতিপরিচিত', 'রাক্ষসী', 'ভাগেই', 'মারত', 'ফুরালে', 'ঠাই', 'দৃষ্টিতেও', 'বিভ্রান্তের', 'বোনেরাও', 'ভাইবোনের', 'সেদ্ধ', 'আশাই', 'ছুটত', 'সফেট', 'ক্ষেতে', 'সফেদ', 'তারাগুলো', 'আকাশটাও', 'গভীরতর', 'স্বভাবসুলভ', 'দেশপ্রমিক', 'ভাঙ্গনবাসীও', 'ফাসানোর', 'গ্রহণে', 'এনেছেন', 'সৈন্যদের', 'খাঁটিয়ে', 'সামন্তকে', 'অবসাদে', 'প্রতীক্ষা', 'কান্নাকাটি-আহাজারি', 'ইদের', 'ভেজালো', 'খিদের', 'কাটাল', 'মানার', 'ভাঙনেই', 'আততায়ীর', 'বড়ভাইয়ের', 'জোগান', 'জানালেও', 'খাটেনি', 'উৎসবে', 'চাওয়াকে', 'বোধক', 'দর্শানো', 'নথি', 'ভগ্নদশা', 'ভাবাই', 'মহাকাব্যিক', 'ঠুনকো', 'ঘাটলে', 'দারিদ্র', 'সুখচ্ছবি', 'ক্ষুধাকে', 'স্বপ্নটুকুই', 'স্বচ্ছলতা', 'একপ্রান্ত', 'সৃষ্ট', 'প্রত্যাশায়', 'সামন্তের', 'সংস্কার', 'মেরামত', 'ধড়ের', 'চাপে', 'অনেক।', 'জনসম্মুখে', 'বাহ্যিক', 'ওলোটপালট', 'দুর্গম', 'ভেস্তে', 'ছাড়ছে', 'বাতাসেরও', 'চড়ানো', 'ভাঙনেরও', 'বলবেও', 'আপোষহীন', 'দেশপ্রেমের', 'মোক্ষম', 'শেখা।', 'জানালাগুলোও', 'মুখভঙ্গিতে', 'অশ্রাব্য', 'আশাও', 'রাখাই', 'সোহাগা', 'সোনায়', 'পাশার', 'জুটত', 'জুতাই', 'জুতা', 'পদধূলিও', 'সামনা', 'ষড়যন্ত্রকারীদের', 'সামালানো', 'আংশকায়', 'পরিস্থিতে', 'মঙ্গলজনক', 'ব্যক্তিত্বের', 'সামনি', 'মুশকিল।', 'খয়বারে', 'উত্তম-অধম', 'থাকবেই', 'পঞ্চাশটার', 'ম্যাপের', 'ম্যাপ', 'কোনভাবেই', 'পাঁচশ', 'ক্যান্তররাও', 'আগত', 'পরিকর', 'উদ্দেশ্যকে', 'এতটাও', 'ক্যান্তদের', 'দামামা', 'পতাকা', 'এদিকটায়', 'মিশল', 'একত্রিত', 'ঘুমেই', 'তলার', 'আওয়াজটা', 'ভবনও', 'রক্ষণশীল', 'যুক্তিটাও', 'ভবনটার', 'পরিধিকে', 'হত্যাযজ্ঞের', 'শরীরেই', 'দুনিয়া', 'সাধতে', 'শোরগোল', 'তিনটি', 'গুরুত্বপূর্ণ।', 'সবকিছু।', 'উঠব', 'ভবনটাই', 'মূসা।', 'সংযুক্ত', 'ভবনই', 'মহাকাব্য', 'নয়ত', 'জিঘাংসায়', 'ফাঁস', 'অব্যাহতির', 'তৈয়ার', 'রাজ্যগুলো', 'চিন্তামগ্ন', 'তৎকালীন', 'নাড়ল', 'জড়াতে', 'গণহারে', 'বিভাজনকে', 'দাঁড়িয়েও', 'অধিনস্ত', 'বোঝাতেই', 'সবকথা', 'বোঝান', 'নেতাকে', 'ব্যক্তিত্ব', 'ক্ষ্যাপা', 'পদস্থ', 'বহুবছরের', 'বাক্যেই', 'সাহসেই', 'ঘৃণাটাই', 'কবচধারী', 'নির্দেশে', 'আটক', 'আগন্তকের', 'অনেকখানি', 'নির্ভুলভাবে', 'সন্দেহভাজন', 'নিজে।', 'ধারীদের', 'ক্ষেপে', 'যথাযোগ্য', 'অনেকাংশে', 'ক্ষতের', 'নজরদারীতে', 'খাটবে', 'ততবারই', 'পরিসমাপ্তি', 'তালগোল', 'দলেও', 'বর্শাগুলো', 'থাকেই', 'অস্ত্রে', 'সংগ্রহে', 'দ্বিমুখী', 'লড়াইটা', 'সংখ্যায়', 'সংখ্যাও', 'নিরাপত্তায়', 'দুপক্ষ', 'দলটাকে', 'জনবল', 'শতজনের', 'নীচতলার', 'উপরতলার', 'উপরতলায়', 'এইদলে', 'বিকোয়', 'অভিজ্ঞতাই', 'বহুগুণে', 'তারুণ্যের', 'পরাজয়ের', 'বুমেরাং', 'চর্চাতেই', 'ছন্দটা', 'সেক্ষেত্রেও', 'কৌশলটা', 'পুনাবৃত্তি', 'লাগালো', 'দাঁড়াবার', 'লাশগুলো', 'সম্মুখ', 'থপথপ', 'খঞ্জরধারী', 'গলেই', 'তরবারিধারীদের', 'একশজনের', 'কাকপক্ষীর', 'অনুমতিতে', 'সরবে', 'তৃতীয়াংশে', 'দলভুক্ত', 'দাও।', 'পাটাতনে', 'মূসাই', 'অন্তিম', 'ইচ্ছাটি', 'শতগুণ', 'বানচাল', 'মূসাদের', 'উর্দির', 'হাঁটল', 'ভাবনাগুলোই', 'বাধার', 'এতজন', 'পাকিয়ে', 'রোষানল', 'মনঃক্ষুণ্ণ', 'অভিমুখে', 'পৌঁছোল', 'দলদুটো', 'শতজন', 'প্রতিদলে', 'ছিটিয়েছে', 'তরল', 'ছদ্মবেশীর', 'শিরদাঁড়া', 'বাটে', 'গদিটা', 'খঞ্জরের', 'শহিদ', 'বাঁচলে', 'খুঞ্জরটা', 'ডানহাতে', 'গাজী', 'লুকানো', 'বিষটাই', 'অধ্যায়ের', 'বাছাই', 'টেকে', 'সুশ্রী', 'ছাড়েননি', 'মৃত্যুশোক', 'ভগ্ন', 'সন্তানকেই', 'মনোনিবেশ', 'দিয়েছিলেন', 'কঠোর', 'মেষগুলো', 'খোঁয়াড়ের', 'দ্বিপ্রহরেই', 'পাষাণে', 'দেশান্তরি', 'দুপক্ষই', 'আশংকায়', 'রাখালেরও', 'পাঠাত', 'বালকদের', 'মাখা', 'আশকারা', 'নিয়োজিত…', 'হেঁচড়ে', 'নেয়াই', 'পড়াটা', 'পক্ষই', 'এশহরে', 'ভাবেনি', 'গোলামে', '…সুনির্দিষ্ট', 'পেলি', 'কয়েদী', 'সূত্র', 'ব্যক্তিই', 'এতদিনের', 'বোকা।', 'দিয়ে…', 'খোঁয়াড়ে', 'অক্ষিগহ্বরে', 'অশ্রুকে', 'পাষাণের', 'জনসভায়', 'জনসাধারণকে', 'মানলো', 'উষ্ণ', 'সৈন্যরা', 'আটবার', 'যেতেন', 'ঘটলে', 'ব্যখ্যার', 'তুরুপের', 'দাগটা', 'পেঁচাটাই', 'ছোটবেলায়।', 'পেয়েছো', 'জানতেই', 'মেজাজের', 'দিয়েছেন।', 'ভাঙ্গনই', 'তাস।', 'রাখালকে', 'খোল', 'ধমকের', 'কাঁদতেন', 'সহ্যের', 'বিঁধত', 'রাখালটা', 'ডাকপিয়ন', 'ডাকতেন', 'বিরামহীন', 'ছড়া', 'চরাচ্ছে', 'কৈশোরে', 'মেধা', 'থাকতেন', 'ছিলই', 'ভাবেননি', 'ঘুর্নাক্ষরে', 'আলকানতার', 'সেবিকা', 'দশজনকে', 'তিনজনকে', 'হের', 'টুল', 'খোঁচানো', 'খোঁচাচ্ছিল', 'খোলো।', 'সটান', 'বন্দীই', 'নজরবন্দী', 'কুখ্যাত', 'অর্থবোধক', 'বলাটা', 'আত্মগোপনের', 'মহৎ', 'বসালেন', 'বাহাদুর', 'সামলাও', 'আসুক।', 'ফের', 'ভাবখানা', 'তোয়াক্কাই', 'স্বর্ণাক্ষরে', 'বাঁচিয়েছিল', 'নওদা।', 'বান্দা', 'ফেলেন।', 'দোষটা', 'ডুবিয়েছে।', 'আত্মবিশ্বাসই', 'আগামীতে', 'ছোকরাই', 'রাখে।', 'গুপ্তচরকে', 'ভুগছিল', 'সিদ্ধান্থীনতায়', 'আলনাকানতারা', 'ষাড়ের', 'অপমানটা', 'গাইল', 'রয়েই', 'খায়েশ', 'রীতির', 'সমসাময়িক', 'একসময়ের', 'কাজগুলোও', 'গুটিকতক', 'স্থাপন', 'অযুহাত', 'অভিনন্দন', 'এশহরের', 'দেখি।', 'সর্দার', 'সরবরাহকারী', 'নিয়ন্ত্রণকারী', 'আসরের', 'ইজারাদার', 'বৈঠকখানার', 'উপস্থিতিই', 'ছিদ্রযুক্ত', 'থাকো।', 'অনিয়মের', 'সেধেছে', 'হাবিলকে', 'লোকালয়', 'পেলো', 'চড়েই', 'কষা', 'থিথ', 'বাচ্চারা', 'ভঙ্গের', 'ঈর্ষার', 'শুরুটা', 'ঝগড়ার', 'চুবানোর', 'কাঁদায়', 'ভূষার', 'নিমলি।', 'কারণেও', 'ধার্মিক-অধার্মিক', 'গরিব-ধনী', 'অংকন', 'প্রিয়জনের', 'মরেনি', 'আয়ত্ব', 'মারের', 'বেহুশ', 'ভাবনাটাকে', 'কলারটা', 'লক্ষনই', 'শূন্যেই', 'বোধশক্তি', 'ব্যঙ্গ', 'কেলাচ্ছে', 'ঘামতে', 'যমের', 'খুপরিটকে', 'ছাউনিতে', 'তুললো', 'শরীরটাকে', 'আনন্দটুকুই', 'প্রানের', 'হেঁচকি', 'বছরখানেক', 'ছলছলে', 'সম্ভ্যবা', 'পেরেছেন।', 'তথ্যও', 'বিয়েতে', 'আত্মীয়ের', 'বিবাহের', 'স্ত্রী।', 'পলকও', 'আর…', 'গ্লাসেই', 'আঁশটে', 'বিস্বাদ', 'ঝটকা', 'মুহূর্তটা', 'অন্ধদের', 'হিচড়ে', 'চৌকাঠে', 'দুয়েকের', 'পলায়নপর', 'ধোঁয়াতে', 'গলিয়ে', 'সুচতুর', 'আলখাল্লাটাই', 'গুড়েবালি', 'লাভই', 'দক্ষতার', 'পরিণাম', 'লড়তে', 'পেরোতেই', 'সুইচের', 'বিছানাই', 'সন্ধানের', 'অর্ধনগ্ন', 'ধাক্কায়', 'কক্ষের', 'ওওও…', 'অসুবিধে', 'পালালে', 'বাক', 'জিরিয়ে', 'মরদেহটাকে', 'দরজাগুলোর', 'সাধে', 'বিদ্যায়', 'খেই', 'কয়েকমুহূর্ত', 'সাধারনের', 'পেশিগুলোতে', 'পালানোই', 'পালানোর', 'পালাচ্ছে', 'মরণের', 'কাঠগড়া', 'করাতেও', 'থামলেই', 'নয়ন', 'অর্থ-কষ্ট', 'হাঁটুর', 'দিবসেই', 'জানালে', 'কৃতজ্ঞতা', 'যাতায়াত', 'সহায়', 'দানের', 'একচুল', 'দুঃখে', 'ভাড়াটে', 'রানী', 'চমকালো', 'চেষ্টা…', 'মহারানী', 'হয়ত্', 'দাইরাও', 'হীতে', 'পাছে', 'রাণীকেও', 'কার্পণ্য', 'অসহযোগিতা', 'কাকভেজা', 'তারপাশেই', 'এক্ষেত্রেও', 'সেকেন্ডের', 'সামলাবো', 'যথাস্থানে', 'করোটির', 'অভিজ্ঞ', 'চেচিয়ে', 'খামচে', 'হাঁপাচ্ছিল', 'রানীও', 'দুদিকে', 'তালু', 'তলপেটে', 'রানীর', 'হাঁপাচ্ছেন', 'প্রদীপগুলোও', 'দাইয়ের', 'ঘামছেন', 'তাপমাত্রা', 'অস্ত্রটা', 'ঝাকিয়ে', 'প্রতিজ্ঞার', 'কিহ', 'অনিচ্ছায়', 'বলেছিলাম।', 'রুমালটা', 'ফুটফুটে', 'রুমাল', 'মিথ্যাবাদীর', 'পক্ষপাতী', 'অপষ্ট', 'অপরাধীকে', 'মুখচ্ছবিই', 'বোধের', 'মরেছে', 'অঙ্গভঙ্গির', 'কাঁপলো', 'ডগা', 'শিরা', 'কুঁকড়ে', 'উপশিরা', 'তলপেটেই', 'নিম্নচাপ', 'পীড়াও', 'শতাব্দী', 'মহিমাণ্বিত', 'রাণীকেই', 'বসেনি', 'বিঁধল', 'মর্যাদা', 'সাবালক', 'প্রাণটা', 'কাতরাচ্ছেন', 'বেদনায়', 'আতুড়', 'আক্ষেপ', 'ঠিকানার', 'ঘটেছিল', 'কাঁদেনি', 'খবরে', 'জানালোগুলো', 'একেবারের', 'লেপে', 'দেয়ালগুলোতে', 'তৃতীয়স্তরে', 'সন্ধানেই', 'লোভের', 'খাদ্যহীন', 'প্রয়াণ', 'লোভ', 'নির্বংশ', 'শিশুটাও', 'ফেরাবার', 'নিজেরটুকু', 'নিসঙ্গ', 'দুঃখজনক', 'স্বল্প', 'সবগুলোই', 'পশুতে', 'সভা', 'গোঙ্গানীর', 'পেঁচার', 'নাড়ছেন', 'আলফিও', 'পেঁচারা', 'বিশ্বাসযোগ্যতার', 'পুষতেই', 'শত-সহস্র', 'এদেরকে', 'হবে।অপেক্ষা', 'বৈশিষ্ট্যের', 'ওড়ার', 'আপনজন', 'বাদেই', 'জানালাগুলোর', 'বিচ্যুতি', 'মাঝরাত', 'কুয়াশাটুকু', 'মিলটা', 'পরিশ্রমিকে', 'সাগরেদরদের', 'দুর্দিনে', 'তিক্ত-মধুর', 'তল্লাটে', 'লাশ।', 'ভৃত্যেকে', 'দয়ার', 'নিস্তার', 'জোরাজোরি', 'জড়ানোর', 'উদ্বোধন', 'সাগরেদদের', 'সাগরেদরা', 'সাগরেদ', 'মেঝেতেই', 'নৃত্যে', 'নর্তকীরা', 'প্যাঁচে', 'সুখী।', 'ধোঁয়ার', 'ভাবও', 'জাগয়ায়', 'উদ্ভিদে', 'বেরলো', 'বিদারি', 'গগণ', 'আকর্ষনে', 'সাধারণভাবেই', 'পাতবে', 'সুখীই', 'গোসলের', 'অতিথিশালা', 'রাজমহলের', 'যতদিন', 'নিশ্চয়ই।', 'দুমুঠো', 'বেলাতেই', 'বোঝাতেও', 'খুশিকে', 'ভয়টাকে', 'মৃত্যুবরন', 'থপ', 'জ্বিনরা', 'মরদেহটা', 'হৃদযন্ত্র', 'পালনকারী', 'ডেমিটনরাই', 'হুকুমকারী', 'জগতই', 'সেইরাতে', 'প্রতাপশালী', 'সেইকাজ', 'যেকাজ', 'আনুগত্য', 'ডেমিটন', 'কিছুসংখ্যক', 'গুহাবাসীদের', 'বাসীর', 'চাঞ্চল্যকর', 'নিমলিও', 'মুণ্ডু', 'তরাণ্বিত', 'প্রতিনিয়ত।', 'ফেঁসে', 'তেমনটাই', 'আড়াআড়িভাবে', 'ঢোকালো', 'বইটাও', 'যোগত্যা', 'কম্পন', 'বাজাচ্ছে', 'কৌটা', 'কৌটার', 'পর্দাগুলো', 'কাজই', 'বইথেকে', 'শুরুতেই', 'কালক্ষেপণ', 'একপর্যায়ে', 'ধরেনি', 'অগ্নি', 'দুনিয়ায়', 'নরপিশাচের', 'স্বেচ্ছাচারীতার', 'গুরু', 'লঘু', 'মনমরা', 'দাসের', 'নামায়', 'ছুটছে।', 'জুগিয়েছিল', 'বিতর্কে', 'স্নায়ুকেন্দ্র', 'পাতলেন', 'রোজকার', 'নিরিবিলি', 'দীর্ঘশ্বাসটা', 'অজানতেই', 'একহাতে', 'লাগেনি', 'লীলায়', 'চল্লিশতম', 'এনেছিল', 'বেশ্যাদের', 'গুহাবাসীকে', 'মানছেই', 'গুটিয়েও', 'চতুর্থ', 'আশ্রয়ী', 'দুই-একদিনে', 'অন্ধকারকে', 'ঘাবড়ানোর', 'প্রদীপটুকু', 'ঝুল', 'দানবই', 'দর্শনে', 'দৈহ্যিক', 'দৈর্ঘ্য', 'তোয়ালেতে', 'পূর্বশর্তগুলো', 'নিদর্শণ', 'টুপিটা', 'থাকুন', 'হাতাহাতি', 'মারেননি', 'বিরক্তিটা', 'দেই।', 'বুঝেছে', 'গল্পই', 'বিপথগামী', 'বলেছি।', 'রাখবে।', 'বিছিন্ন', 'করাকে', 'নির্দেশেই', 'নক্ষত্রের', 'অঙ্ক', 'পড়বে।', 'রাস্তাগুলোই', 'করবেন।', 'পরিস্থিতিকেই', 'টাল', 'অহিংস', 'এক্কষুণি', 'সংগ্রহের', 'নকশাটাকে', 'পৌঁছালেই', 'মেরেছিল', 'ওভারকোট', 'কোটে', 'রক্তপাত', 'মাটাল', 'দু-একবার', 'জানিয়েছে', 'গোড়াতে', 'মিথ্যাচারের', 'দুখানা', 'কখনো।', 'পশুও', 'রাস্তাগুলোতে', 'হয়ত।', 'তিন..', 'সমাবেশ।', 'এক্ষুণি।', 'থাকব।', 'রাজি।', 'অস্তিত্বই', 'চাপানো', 'অসময়ে', 'ধী-', 'বক্ত্যবটুকু', 'পিটিয়ে', 'সাথে।', 'টক্কর', 'সমাবেশের', 'কুকর্মগুলোও', 'সুকর্ম', 'প্রতিযোগীতার', 'ডাকুন', 'নেমেছিলাম', 'টুটি', 'দুই..', 'ফুসছে', 'এক..', 'আটকায়।', 'মুখোশটা', 'স্ব-সম্মানে', 'বাঁচালাম', 'আসন্ন।', 'একদফা', 'অন্যথায়', 'বুঝ', 'জানাও', 'মাড়াতে', 'অশ্রুতে', 'উঠ-বস', 'দশগুণ', 'লক্ষন', 'সম্পর্কটাই', 'চড়তে', 'চেতনানাশক', 'পরামর্শের', 'ঘষা', 'ঘুরিয়েছেন', 'দিলাম।', 'প্রণোদিতভাবেই', 'ছিদ্রই', 'ছিদ্রগুলোর', 'আনকানতারার', 'হলওয়ের', 'নামমাত্র', 'মতলব', 'দরজাটাই', 'শুনেও', 'প্রছন্ন', 'ইচ্ছাই', 'হত্যাকাণ্ডের', 'বহির্ভূত', 'ছিঁড়তে', 'দ্রুততম', 'চোয়ালে', 'লক্ষণও', 'পুরুত্ব', 'ক্রোধে', 'শ্রদ্ধাবোধের', 'ধ্বনিত্ব', 'নাগালে', 'কামরাতেও', 'রূদ্ধশ্বাসে', 'ছয়টা', 'রশিটা', 'বিশ্বাসঘাতক', 'হেচকি', 'বেজন্মা', 'পলকেই', 'সৌহার্দ্যে', 'বাকশক্তিহীন', 'আপনার।', 'গোলাম', 'অসংলগ্ন', 'ঘোরার', 'লাগতে', 'ওভারকোটটা', 'সামনাসামনি', 'ব্যয়ে', 'এরাস্তাটাই', 'তৃতীয়জন', 'হচ্ছিস', 'জানলি', 'বাজবে', 'গলির', 'বৈ', 'রাস্তাগুলোকে', 'তাড়াহূড়োয়', 'নিকটবর্তী', 'দ্বিতীয়স্তর', 'নজরে', 'বেরুবার', 'ক্ষুধাটা', 'অযত্নেই', 'গায়েও', 'গ্রামবাংলায়', 'সাফল্যের', 'নাও।', 'পেটানোর', 'হাতুড়ি', 'সাতটাতেই', 'দৌড়ানো', 'চত্ত্বর', 'বিশিষ্ট', 'দুইশ', 'রূপালি', 'মাড়ায়', 'বিনাবাক্য', 'আলকানতারারটা', 'আলকানাতারার', 'পাহারাদারদের', 'ঢাকনায়', 'মাঝখানেই', 'রাস্তাটাই', 'সাজ', 'চুত', 'সামলাবেন', 'আকাশ-পাতাল', 'দুফোটা', 'পরিচর্যা', 'শেষকৃত্যের', 'মাতৃবিয়োগ', 'দেখতেও', 'ফেলানরকে', 'সম্ভব্ব', 'গুণাবলি', 'সম্ভাবনাময়', 'আরোপ', 'অতিশায্যে', 'বালককে', 'খারিজ', 'প্রতিনিধিদের', 'জনগনের', 'আমজনতার', 'সক্রিয়', 'বিসর্জনের', 'সংবর্ধনা', 'ঐশ্বরিক', 'দাবির', 'গাড়লেন', 'বসতি', 'ধর্ম', 'সংস্কৃতি', 'সাহিত্য', 'অপমানের', 'সমৃদ্ধ', 'দুরত্বের', 'শোনালেও', 'আভিমানের', 'এইজগতের', 'শিক্ষক-ছাত্রের', 'পেয়েছি।', 'শ্লোগানে', 'ত্বরাণ্বিত', 'অভিষেককে', 'নিষ্ক্রিয়', 'নীতি-নির্ধারকের', 'আগ-পিছ', 'হত্যাকানণ্ডের', 'বিজলির', 'শব্দ-নৈঃশব্দ্যের', 'ভাঙাতেই', 'শশ্মানের', 'স্তব্ধ', 'এখনো।', 'কাঁদাই', 'তাচ্ছিল্যের', 'কাঁদলেই', 'বাচ্চাটাও', 'সামলাবার', 'সূক্ষ্ম', 'পলকের', 'নিয়েছো।', 'যাওনি', 'সম্ভব।', 'দমক', 'সুখবরকে', 'আমজনতা', 'পদটা', 'দিতেও', 'জনপ্রিয়তার', 'জনপ্রিয়তা', 'জনপ্রিয়', 'এটুকু', 'ডাবিরর', 'বেমালুম', 'ছোট-বড়', 'দুঃসংবাদের', 'শুকায়', 'অশ্রুই', 'শিখিনি', 'শূন্যস্থান', 'বর্তমানের', 'খবরই', 'দুধরনের', 'আখ্যা', 'অভিষেক', 'দ্বীর্ঘশ্বাস', 'অনুষ্ঠানের', 'কামরাতে', 'সেবারও', 'প্রতিক্রিয়াই', 'সম্মানে', 'আয়ে', 'প্রতিদ্বন্দি', 'তাড়াহুড়ার', 'বোঝাও।', 'হেট', 'আসামির', 'বলবে।', 'পারতে', 'কিশোরী', 'রাজ্যপ্রধান', 'দায়িত্বশীল', 'ভেবেছিলে', 'আদৌ', 'গোধুলির', 'কর্মব্যস্ত', 'উপকারই', 'গিয়েছে।', 'গৃহযুদ্ধের', 'উসকে', 'ধরিয়েছে', 'গোলযোগ', 'ছড়ায়।', 'পাতলেই', 'খণ্ডন', 'জানেনই', 'দ্বিধাণ্বিত', 'বিরাজ', 'কচলালো', 'এরমাঝে', 'সামগ্রিক', 'সৌজন্য', 'নাড়ার', 'ক্যান্তররা।', 'বাঁকাভাবেই', 'ভাই-বোনের', 'সিদ্ধান্তেও', 'আসনেই', 'বলয়টার', 'প্রস্তুত।', 'সংকোচটা', 'অবদানও', 'নামানোর', 'বসিয়েছিল', 'দুয়ারে', 'অধিষ্ঠিত', 'লাইব্রেরি।', 'আসনে', 'অধিষ্ঠানের', 'মর্তে', 'অভিষেকের', 'জমায়েত', 'লাখো', 'শিক্ষককে', 'সে৷', 'শত-সহস্রগুণ', 'উত্তরেই', 'কূটনৈতিক', 'থাকি।', 'দরদ', 'দুস্কর', 'দর্স্যীপণায়', 'ভাগের', 'বসাক', 'বিপর্যয়', 'সুযোগটাও', 'গলিত', 'দেবিদ্বারেও', 'আমরা।', 'সরাচ্ছে', 'ছাড়াও', 'তৃতীয়মাত্রার', 'দুশ্চিতায়', 'সীসা', 'দশভুজা', 'আঘাতে', 'কাণ্ডজ্ঞান', 'থাকবে।আপনি', 'হয়েছিল।তাছাড়া', 'না।সব', 'তাইনা', 'ছলেন', 'ক্ষেত্রেও', 'জানে।বাবা', 'না।কি', 'ডাক্তার।তাই', 'মাকে।সব', 'অবশ্যমখে', 'ফেলেছে।বাবা', 'গেছে।কিন্তু', 'মতসবাই', 'এল।আম্যের', 'উঠল।মাস', 'নানুবাড়িতে', 'করলো।এইসব', 'সুধু', 'উচিত।কিন্তু', 'নেই।তার', 'ত্রহ্যাকলে', 'হবে।একেকটা', 'চাইছেন।আগামী', 'করেছেন।এইবার', 'ব্যভার', '-মানে', 'বসবে।আমি', 'জেকে', 'সবজি', 'আছে।আর', 'যাবে।এমনিতেই', 'ফেল্বে।বাবা', '।বিশ্বাস', 'এইটুকু।দয়া', '-তার', 'চাচ্ছি।আপনি', 'বাচাতে', 'সীমানা', 'করলেন।এক', 'করছিলেন।আর', '-কিন্তু', 'ছিলখুব', 'ছিল।কিন্তু', 'পরহেযগার', 'মহিলামা', 'কারনে।মা', '-মাকে', 'কেন/', '-হুম', 'লাগত।এই', 'কেন্মনে', 'শ্রীঘ্রই', 'নি।তবে', '-সব', 'সম্পর্কেখুলে', '-তিনি', 'সময়নিবিতা', 'মিশূক।মানুষ', 'তিনিমানুষ্কে', 'না।তিনি', 'দিল।বাবাকে', 'তখনকার', 'লাখটাকা', 'মাকেওনা', 'বন্ধুকেও', 'না।তার', 'পারে।প্রথমে', 'মা।বাবা', '।মা', 'বেশি।আর', 'চাননি।টাকা-পয়সা', 'জানানে', 'নিল।যে', 'আন্তরিক', 'বাসায়।মা', 'দাড়ালো।বাবার', 'হয়র', 'বসন্তকাল', 'পড়বেন।চক্র', 'হল।কি', '।হয়', 'কুকুরতাকে', 'আমিজানি', 'ডাকলাম-', 'চাইছে।কিন্তু', '১৮৫৭', 'নির্বাক।তার', 'বললাম।তবুও', 'পাচ্ছো', 'শব্দহীন', 'শব্দহীন।তাই', 'মহাশুন্যে।মহাশুন্য', 'যাচ্ছে।সেও', 'মহাশুন্যে', 'করছে।নিশাচর', '।আপনার', 'মুঘল', 'ধরণা', 'ফেলেছো।কাজটা', 'সিপাহি', 'করেছো।আরো', 'শেষকরেই', 'নিজেকেপ্রশ্ন', 'হলাম।মনে', 'কেবিন', 'হবে।ডাঃ', 'মুর্তিরমত।আমাকে', 'নির্বাক।তাকে', 'না।সে', 'করলাম।কথা', 'ফেলে।তোমার', 'নিশ্বাসে', '।এটাই', 'প্রত্যক্ষদর্শীকে', '।খুনী', 'সাক্ষী।তাই', 'আসন্ন।তাই', 'তুমি।যেখানে', '।সেই', 'সম্রাটদের', 'থামুন।আমি', 'আমি।তার', 'স্বাভাবিক।আপনি', 'প্রতক্ষদর্শীকে', 'গর্বে', 'দেখেছে।তাই', 'করেছে।সে', 'আপুই', 'সহজ।একমাত্র', 'সাহায্যটাই', 'প্রস্ন', 'সবোর্ত্তম', 'যেত-', 'করবই।কিন্তু', 'হবে।আপনি', 'করারা', 'নেই।যা', '-ভুল', '-আপনিকি', 'এসেছিলেন।দুইবারেই', 'বংশধর', 'বলছি।তার', '।পাগল', 'রোডের', 'এসব।আপনিকি', 'কলেজে', 'গেছেন।কিন্থু', '-আছা', '-বিশ্বাস', '-সেগুলো', 'শ্রদ্ধা', 'রজনীকান্ত', 'চেয়েছি।সেগুলো', 'ছফার', 'লগ', 'কবরটার', 'এলজি', 'পেসেন্টদের', 'না।হড়বড়', 'চুপকরে', 'এগারোটা।আমি', 'পড়বেন।আর', 'ঝাঁকিয়ে', 'ডাকাডাকি', 'আগ্রহটাকে', 'পাতাহীন', 'ডাইরীটার', 'মালিকেরও', 'রোগটার', 'মস্তিস্কের', 'বোরা', 'মজাটা', 'মৌসুম', 'অরা', 'রতনও', 'ছাড়ে', 'পাঠিয়েছিস', 'ঘটেছে।', 'ধানক্ষেতের', '-কোথায়', 'ফুলিয়ে', '-হাসপাতালে', '-জোর', '-মিথ্যে', 'শালিক', 'নিবিতাকেও', 'থাকুক।তাই', 'দেনে', 'বার্ষিকী।আর', '-আজ', 'করিয়েছে', 'পালক', 'নি।তার', 'হইয়েছে', '-সামান্য', 'নি।সামান্য', '।তেমন', 'করনো', 'অসুস্থ।তাই', 'হুস', 'গাড়িটা', 'দেখালেও', 'বাচালো', 'ধারণায়', 'ধারনার', 'বন্ধুরা', 'কাঁটালো', 'বাড়ি-গাড়ি', 'বাচিয়েছিল', 'প্রথম্বার', 'কামড়ে', 'বেধেছে', 'আক্রমন', 'রাস্তাতেই', 'পায়চারী', 'কামালা', 'কামলাই', 'সুদর্শন', 'কাটা-মাড়াই', 'ভর্তিও', 'ধারনাকে', 'তথ্যই', 'আবাদে', 'রোগটা', 'স্কিপ্সফ্রেনিয়া', 'বৃষ্টিপাত', 'অহরহ', 'ছুতেও', 'ভাড়ায়', 'বেরোবো', 'খরচের', 'খেলেছে', 'টিস্যু', 'কামলার', 'কৃষি', 'প্লেটের', 'কেনাই', 'পড়াবে', 'জুয়াই', 'যাবেন।আমিচলে', 'নিবিতাও', 'করলাম।যার', 'হোক।নিবিতার', 'ক্লিনিক।তাদেরকে', 'করিয়েছে।বাবার', 'ভালো।আমার', '-ভালো।তোমার', '-ভালো', 'মাতামাতি', 'ছোটখাট', 'না।মাঝে', 'সমস্যা।তারা', 'না।সুন্দরী', 'বললাম।সে', 'দৃষতিতে', 'দৃষ্টি।এই', 'ভরসাহীন', 'শুন্য।যাকে', 'অসহায়ের', 'ক্লান্ত।সে', 'করেছে।আপনিক', '-এইতো', '-ওরা', 'কেটা', 'লজ্জিত', 'আপনিকরে', 'দিয়েছেন।না', 'জানে।তার', '-তাহলে', 'ফোনটাই', 'করতে।আমাকে', 'ফোনটাও', '–কফিকিছু', 'ল্যান্ড', 'গেছে।এই', 'ফোন্টা', 'হচ্ছে।আমার', '-সেটাই', 'নেই।আমি', 'ওসবের', 'ইন্দ্রের', 'হচ্ছে।চিন্তার', 'বসলো।তাকে', '।ঘর', 'কাননের', 'পড়েছি।কি', 'গেল।৫০৭', 'পোয়া', 'জন্য।এরপর', 'হল।দারোয়ান', 'বেরতে', 'পেলাম্না', 'পাচটার', 'গাছটিই', 'জন্য।সে', 'হচ্ছি।কিন্তু', '-আমি', 'থামান', '-হাসি', 'না।হা', '।গতকাল', 'নন্দন', 'বেডে', 'বিপত্তি।যাই', 'ঢুক্লাম।নিবিতা', 'পয়তাল্লিস', 'চাইবেন', 'গেছে।তিনি', 'এতক্ষনে', 'নিয়ে।নিবিতার', 'হচ্ছে।শুধু', 'পারতাম।শুধু', 'হয়েছে।ডাক্তার', 'দেখাছি', 'ঘুমাচ্ছে।কিন্তু', 'হবে।আমাকে', 'নিবতার', '।তার', 'observation', 'proper', 'আযান', 'দাড়িয়ে।বাড়িটার', 'বলি।', 'রূপান্তরিত', 'দুধ-চিতই', 'চোট', 'পাকামো', 'ভ্রমণের', 'পুরোদমে', 'খাতে।', 'বালিশের', 'অনুজ', 'সংখ্যাতত্ত্ব', 'প্রতিও', 'বহুদূরের', 'নক্ষত্রে', 'সঙী', '।আমার', '।তাড়াতাড়ি', '-কথা', 'সিদ্ধডিমের', 'শেলফ', 'দুই-চারটা', 'টাকাতো', 'জ্ঞানহীন', 'প্রথম।', 'একত্রে', 'নলখন্ড', 'ডাবরিতে।', 'অন্ধকার-', 'আকাঙ্ক্ষা-বিহীন', 'গরু।', 'আকাঙ্ক্ষা', 'রাখতাম', 'খুলির', 'কর্ম-বিহীন', 'ভালোবাসাহীন', 'নিষ্ফল।', 'কবিতাটার', 'আসে।', 'ছোট-ফুফু', '।এখানেই', '-স্যার', 'ত্যাঁদড়ামো', '-জ্বি', 'পড়াকে', '।ডিম', 'বয়েল', '।হাফ', '-জ্বী', 'চিনো', '-সিদ্ধ', 'গ্রুপের', 'বিট', '-এত', 'তোরে', '-কে', '-বসে', '-কাজ', '-ওই', 'হাটলেন', '।তখনই', 'শোনায়', 'গুহদ্বারে', '-বাহ', '।সিদ্ধ', 'ত্যাদড়ামো', '-সালা', '।কাজের', '-কাবিখা', '-জানি', '।তা', '।ফেসবুকে', '-মুখ', 'সাপ্লায়ারের', 'ককটেল', '।তবে', 'বানাইতে', '।ককটেল', 'করেছিছ', 'সালারা', 'দারুণ।', 'উৎসাচ্ছকে', 'নার্ভাস', 'অর্থেই', 'ম্যানেজার', 'বাণীই', 'শুনিয়েছে', 'টেউ', 'অর্ধেকই', 'দম্পতিরা', 'নাগাদ', 'কাকড়াকে', 'মনগড়া', 'লোণের', 'সমুদ্রসৈকত।', 'ককশিয়া', 'মতন', 'ডাকাত', 'ছি', 'মরবো', 'সে-', 'প্রতিযোগিতামূলক', 'খেলাধুলা', 'পিওন', 'যাওয়াতে', 'তেলই', 'কণ্ঠনালীতে', 'ছিচকে', 'চুরিটা', 'ডাকাতির', 'ছেলেরাও', 'নিয়মটা', 'পরিমাণটা', 'আমানিশা', 'গজাতে', 'সুদখোরদের', 'প্রাণচাঞ্চল্য', 'অভ্যাসটা', 'বসতেই', 'ব্যাংকে', 'কাককালো', 'বালুরাশি', 'সমুদ্রতট', 'মাইরেন', 'উর্ধব', 'তেতো', 'পোশাকেই', 'ছোটরাও', 'সপরিবারে', 'বইটার', 'দম্পতি', 'প্রফেট', 'কাহ্\\u200cলিল', 'কালিগোলা', 'জিব্\\u200cরান', 'মানুষ।', 'নাতিকে', 'শোনান', 'আজ।', 'অস্ফুট-স্বর', 'সঙ্গীতে', 'ঢুকতেই', 'গুণাগুণ', 'জানাচ্ছে', 'মোক', 'টুঁ', 'শব্দও', 'মর', 'আলোকোজ্জ্বল', 'নামাজের', 'একেরারে', 'মহাজনেরে', 'সঙ্গীর', 'কাগজটায়', 'তাড়ায়', 'ঘেঁষাঘেঁষি', 'দম্পতিদের', 'বড়দের', 'ছোটছোট', 'নিমপাতার', 'বয়োজোষ্ঠ্য', 'হচ্ছে।তফাদার', 'সাহেব।তারপরও', '।সায়ন্তন', 'প্রয়োজন।মানসিক', 'থাকবো।নাকি', 'হবে।বলে', 'এনসাইক্লোপিডিয়া', 'পাঠিয়েছে।জেল-হাজতে', 'এন্সাইক্লোপিডিয়া', 'চেয়েছিলাম।সে', 'পরিচয়ের', 'হলাম।আমি', 'গেল।আমি', '-হাসান', '-তোমার', '-হাজতে', '-ছাদেক', '-কইতে', 'পাঠাইছে', 'ভাইয়ে', 'নেন।ছাদেক', 'ছাদেকওপুর', '।হয়ত', 'এনসাইক্লোপিড়িয়া', 'মাথায়।প্রথমে', 'লেগেছে-', 'হয়েছে।তাকে', 'করেছে।দিনের', 'টমিকেই', 'এমদাদকে', 'ফেলেছে।আবার', 'করেছে।তারপর', 'কষবে', 'নিবিতা।কারণ', 'ছক', 'নিশ্চিত।এখন', 'কিনা।এখন', 'বলুন-', 'হয়েছিল।বইটা', 'নিবিতাকেই', 'মানিকে', 'করা।মলাট', 'মলাট', 'বই।রঙীন', 'ছিলেন।এই', 'পড়লাম।এখান', 'পড়ে।মানুষ', 'দাদু', 'যাচ্ছেনা।বসতে', 'দাড়ীয়ে', 'জম্নেছিলি', 'বাড়ীও', 'নেই।তবে', 'শোন-', 'পারেন।ভদ্রমহিলা', 'রখতে', 'বাড়ীর', 'হয়েছেই', 'আত্মসমর্পন', 'মত।খুব', 'ছিলো', 'বাড়ীটার', 'যায়।সাননের', 'সাওম্নে', 'চাদ।মানুষ', 'হল।আমার', 'অজুখানায়', 'থাকে।চোখ', 'করে।তারাও', 'বিমোহিত', 'আমাবস্যায়।এক', 'পূর্নিমা', 'ক্ষ্যে', 'আছে।লাইটের', 'নয়।এক', 'আছে।পূর্নিমার', 'পরিষ্কার।আকাশে', 'কখনো।আকাশ', 'তাকালাম।রাস্তায়', 'আধারীর', 'পাশদিয়ে', 'এইসংকেত', 'স্থিরবুদ্ধি', 'না।নাম', 'করো-', 'এগেয়ে', 'আসলো।আস্তে', 'পারেন।খুব', '।আমাকে', 'বিষয়।তিন', 'পুলিস', 'থেমেছে।মাঝরাতের', 'দুরে', 'শব্দে।পঞ্চাশ', 'জানে।হঠাত', 'পাচ্ছি।আর', 'উঠেছে।তার', 'ফেলবে।কুকুরটাও', 'পড়বে।মাংসপিন্ড', 'না।মনে', 'করছে।কিন্তু', 'হয়ত।চোখ', 'আসলো।আমি', 'বিনিয়ের', '-এখানে', 'গিয়েছিলি', 'ডাকো', 'হাবিলদারের।ওসি', 'তফাদার।তফাদার', 'পেল।কারণ', 'দাড়াতেই', 'দাড়ালো।সামনে', 'দিল।তারপর', 'পড়েছে।ওসি', 'ভেবেছিলাম।কিন্তু', 'আসলেন।তার', 'করবেন।স্যার', 'সম্বোধোন', 'দেই।যদি', '-শেষ', 'না।ওসি', 'চোর-ছ্যাচোড়', 'মোষের', 'ঘোরে।কুকুরটার', 'ঘুমচ্ছিস-', 'ভয়।তখন', 'অনুভুতি।শিরদাড়া', 'পরিবেশকেও', 'ঘণ্টার', 'অনুভুতি।ক্রমশ', 'প্রাচীনতম', 'পালাতে।তাকে', 'মেয়েটিকে', 'সুরু', 'চাকার', 'আধাঘণ্টা', 'সা', 'নেই।কিন্তু', 'পায়।মাঝরাতে', 'ত্রিশবার', 'মানু্ষ', 'হচ্ছে।সুস্থ', 'স্বভাবের', 'বর্তমানে', '।কত', 'দিচ্ছে।এই', 'শ্লোথ', 'নিচ্ছে।সময়হলেই', 'ছেলেটাকেও', 'পিটুনির', 'আসে।নিবিতা', 'আত্মসম্পর্নের', '।অসহায়', 'জ্যোতিতে', 'রকম।রাস্তায়', 'রেখেছে।চাদের', 'আওটকে', 'যেন।সেই', 'হয়ত।কুকুরটার', 'উঠল।তিন', 'কুকুর।বুকটা', 'দেখছিলাম', 'বোনও', 'হাসার', 'ড্রামে', 'কনস্টেবলকে', 'খাবারগুলা', '–দাওয়া', 'চরটা', 'আমিবললাম–', 'সেখানকার', 'বেগুনভাজি', 'আলুভাজি', 'যাওয়াও', 'সাতদিন', 'বেটি', 'কামের', 'আইজকে', 'চারদিন', 'কৃষকদের', 'এতবাজার', 'আতবচালআররুইমাছকিনেবাসায়ফিরলাম', 'পোলাও', 'ভারত-বাংলাদেশের', 'মিসরের', 'তোমরাই', 'কোতোয়ালি', 'হিমালয়', 'কাশ্মীর', 'কনেস্টেবল', 'খাওয়ানোর', 'নেপালের', 'গেটেই', 'লুম্বিনী', 'মহামতি', 'জন্মস্থান', 'চায়ও', 'গৌতম', 'অর', 'যাইতেছেন', 'বিচ্ছুরে', 'বাটিটা', 'অপূর্ণতা', 'গোস্ত', 'খাওয়াইতে', 'মায়', 'ম্যাষ', 'আছিলো', 'মানান', 'লাইগাই', 'কাচ্চাদের', 'ওয়ার্ড', 'প্রশ্নকরে', 'বেড', 'স্যালেন', 'ওদেরকে', 'খুইজা', 'আপারা', 'সেইখানে', 'ফেললো', 'ফানদায়', 'ডাইরিয়া', 'তোমারাই', 'করলাম-বলেন', 'গোছগাছ', 'থাকাটাকে', 'গেছিলে', 'দিছেন', 'ও-কার', 'আ-কার', 'কাকাতুয়া', 'ঘুঘু', 'শিখাইছে', 'শিখাইলো', 'ইচ্ছাশক্তিই', 'ভাঙ্গতে', 'চাইছিলো', 'পরিচয়ে', 'লাগলেই', 'অনুভবেই', 'আসি-', 'কথোপকথনের', 'সবাচ্ছন্দে', 'ঘুরেছেন', 'লেফট', 'এরে', 'রাইট।', 'গিরগিটিকে', 'দেওয়াতে', 'খেলেন', 'না।তোমার', 'ভাতিজার', 'চেয়ারটা', 'গিরগিটির', 'ঘুমাননি', 'পাতাও', 'ছিমছাম', 'পাচেক', 'চাপলাম', 'কলিংবেল', 'কর্মচারীকে', 'তুইও', 'ফুরাবে', 'ভিলা', 'সুন্দরই', 'খাওয়ালেন', 'চলেই', 'ভিলায়', 'সবল', 'অবনত', 'জন্মদিনে', 'বান্ধবীর', 'কেলিয়ে', 'কালীমন্দিরের', 'হাটতেই', 'বাতিল', 'চাপাচাপি', 'ভিত্তিও', 'সতরাং', 'নেওয়া', 'ভালবাসাকে', 'বিশ্লেষণের', 'বিশ্লেষণ', 'মায়াজালে', 'ব', 'ভিতরে।', 'সাইনবোর্ডগুলোর', 'মন্দিরটা', 'জড়াইছি', 'বইলেন', 'আসছিলো', 'কা', 'পুরোপুরিভাবে', 'সঙ্গও', 'টাঙানো', 'অকে', 'ঢুইকা', 'কলকাঠি', 'বাবাই', 'জানাবেন', 'ম্যানেজ', 'বেশভূষা', 'ভবঘুরে', 'বেশিদিন', 'তারেও', 'কুল', 'নুরপুর', 'ধুলা', 'জায়গাটার', 'দোকানগুলোর', 'পরচিত', 'অগভীর', 'ওয়ালাকে', 'বেরুতেই', 'পুকুরগুলো', 'অসম', 'শিশুকালে', 'দেখেছিলাম', 'বিবাহিতা', 'ধুলায়', 'ডাকলো', 'লুটোপুটি', 'নিবিতাআররতনথানাথেকেবেরহলাম।টিফিনবাটিরঅবশিষ্টখাবারনিয়েমোতাহারচাচারবাড়িযেতেহবে।কিন্তুবাড়িরঠিকানাআমিজানিনা।বাড়িখুঁজেপাবকিনাবুঝতেপারছিনা।এইবিষয়েআমিসামান্যচিন্তিত।আমিএকাথাকলেকোনচিন্তাছিলনা।ইচ্ছামতঘুরেবাড়িখুঁজেবেরকরাযেত।নিবিতাসাথেযাচ্ছেবলেইযতচিন্তা।নিবিতাকেঅবশ্য', 'বটগাছটার', 'কইছিলাম', 'দেখতেছেন', 'সংখ্যাধিক্যের', 'কয়েলকে', 'ডাক্তার।', 'মর্টেমই', 'ঘনঘন', 'শ্বাসরুদ্ধ', 'রিপোর্টে', 'মর্টেম', 'কড়ালের', 'কোপাইছি', 'কুড়াল', 'মারছি', 'কোপায়', 'ধ্বংসলীলা', 'আইনজীবি', 'আইনজীবীকে', 'লড়ুক', 'আইনজীবী', 'ভাবা-ভাবি', 'অপ্রয়জনীয়', 'ঝড়', 'বিজ্ঞানের', 'হিসাব-নিকাশ', 'পাড়িয়ে', 'যুগের', 'শহীদ', 'হাতমুখ', 'মগে', 'দিচ্ছি-বলেন', 'দূর-সম্পর্কের', 'নোনতা', 'ঢালা', 'চামচ', 'চামচের', 'সালামই', 'বিজ্ঞানে', 'ধেয়ে', 'ঢালার', 'অদুর', 'তাণ্ডবলীলা', 'চলতেছে', 'দেন-দরবার', 'বিপাকে', 'বিশেষত্বও', 'দাড়াচ্ছে', 'অনর্থ', 'খোঁজাটা', 'পরগাছা', 'পরগাছার', 'পাতা-ফুল', 'পট্টিতে', 'থানার', 'রূপটার', 'বাঁশবনে', 'পট্টি', 'উচুস্তর', 'পরশে', 'প্রসারের', 'জীবন-জীবিকার', 'কোতয়ালী', 'একটিও', 'পারতাছে', 'দেড়শ', 'ঢুকান।', 'মায়েরে', 'ঝুলাবে', 'ঝুলাইয়া', 'কম্বল।', 'খালিগান', 'ভাগ্যক্রমে', 'ডিল', 'আত্মীয়কে', 'অফিসার', 'আসামীর', 'হাস্যোজ্জ্বল', 'অফিসারকে', 'ডিউটি', 'পুলিশী', 'দশটার', 'কয়েলগুলোর', 'মরেনা', 'দিও-', 'কয়েলে', 'আমুল', 'মানচিত্র', 'শ্রীলঙ্কান', 'পরোটা', 'ভাগিয়ে', 'জনকে', 'ধয়ে', 'ঘুড়ি', 'এগুলোর', 'অন্যদিন', 'আড্ডাবাজী', 'লিখেছিলেন', 'নানাবাড়ির', 'মিলানোর', 'মাঠটাকেই', 'পার্থক্যই', '-১+১=০', 'ঝরেছিল', 'মালিকানা', 'গোড়ালি', 'ছ্যাকাও', 'অপূর্ব', 'গোলগাল', 'মুখ্য', 'বাঁচলেও', 'ক্ষণের', 'আস্তাকুড়ে', 'চলতেও', 'শ্রেনীর', 'সময়ও', 'ছ্যাকা', 'প্রেরণা', 'চারবার', 'লিখেছিলাম', 'কাগজপত্র', 'ছিটানো', 'গোছানোর', 'প্লাস', 'মাইনাস', 'পাপড়ির', 'রাতাএ', 'মৃত্যুহীন', 'অর্থনৈতিকভাবে', 'সচ্ছল', 'করিয়েছি', 'কাঁঠালের', 'নুয়ে', 'আমগাছ', 'পাঁকতে', 'ধর্মাবলম্বীরা-', 'নাতি-নাতনিদের', 'দরদর', 'এনার্জি', 'হাইস্কুলে', 'উদ্বেগ', 'সালামকে', 'মশাদের', 'কাঠগোলাপকে', 'ভালবাসলে', 'নাম্বারও', 'ফাইভে', 'সৌন্দর্যও', 'শাখার', 'অংশেও', 'কেপলার', 'নিষ্ক্রিয়।', '–বিকর্ষণ', 'শাখাগুলোকে', 'করাতাম', 'ভালবাসবে', 'মূলকথা', 'আবেগগুলো', 'কারের', 'ন্যাড়া', 'বৌদ্ধ', 'পুরানা', 'বুঝেছেন', 'বংশগত', 'দর্প', 'ব্যক্তিময়তা', '২৫', 'হয়না-', 'অসুবিধা', 'করেছি।কিন্তু', 'ঘুমাই', 'পড়েছিলেন', 'এগারোটার', 'পূজা', 'দুটির', 'ফুটেছিল', 'মেয়েটির', 'লেখাতেই', 'যুগান্তকারী', 'দুর্বৃত্তরা', 'আন্টি', 'আংকেল', 'মহাপুরুষ', 'পালানোটা', 'আত্মীয়দের', 'আমেরিকায়', 'মামাদের', 'নয়টায়', 'পাঠাচ্ছি', 'পারমানেন্ট', 'ক্যান', 'প্রকোপ', 'মুক', 'দেকে', 'বেচারীর', 'বারোটার', 'মরবি', 'অবিভক্ত', 'টমিকেও', 'বাংলায়', '১৯৩৬', 'হয়েছিল-', 'সুময়', 'টমিই', 'পালাবে', 'পালিয়েছি', 'হাউমাউ', 'মরেই', 'শিংমাছ', 'লাগতেছিল', 'উল্টায়', 'লাফাচ্ছিলো', 'তোকে-', 'নিরুদ্দেশে', 'জের', 'সাপে', 'বোকাবোকা', 'উপন্যাসের', 'মে', 'ধাধা', 'রেসিপি', 'প্রথমের', 'পড়বেন।', 'প্যান', 'ভর্তায়', 'তাবিজ', 'কেঁদেছিলাম-', 'বাড়িগুলোর', 'ফাল্গুন', 'বারোই', 'সম্পৃক্ত', 'আগস্টের', 'জুলাই', 'ছুটেছিলাম', 'কথোপকথন', 'লক্ষ্মীভাগ্যের', 'পরেছো', 'কবিরাজ', 'ভালোবাসাই', 'ঝাড়-ফুঁক', 'লক্ষ্মীভাগ্যটা', 'করতেছিল', 'পায়-', 'পাড়টাও', 'শরতে', '২৮', 'বিকেলটা', 'পাঠনোর', 'লিখলো', 'চিঠিও', 'রূপচর্চা', 'সতেজ', 'চিরকুটে', 'উল্টাচ্ছি', 'পাপড়ি-', 'বেহেশতে।', '।টমি', 'টুটব্রাশ', 'মরেন', 'ব্রিটেনকেও', 'ব্রিটেনেরও', 'বিগ্রহ', 'জ্বালানি', 'রাষ্ট্রে', 'বলবেন।', 'ডাক্তারদের', 'লাইফ', 'ল্যাব', 'your', 'পড়ো', 'উঠবি-', 'হচ্ছে।তুমি', 'সন্ধ্যাতেই', 'ঐটাই', 'হওনি', 'seat.', 'Take', 'প্রতিষ্ঠানে', 'কিন্তু-', 'প্লিজ।', 'অপারেশনে', 'ছেলেটিকে', 'উঁচু-নিচু', 'চেম্বারে', 'অনুসারেই', 'প্রেসিডেন্ট', 'আমেরিকার', 'পারমাণবিক', 'বিশ্বের', 'স্টোনহেড', 'কলোসিয়াম', 'টাওয়ার', 'হেলানো', 'পীসার', 'চীনের', 'বকবকানি', 'কুড়াবো-', 'সত্যশ্চর্য', 'রাশি', '১৮০ফিট', 'নায়াগ্রা', 'জলাভূমি', 'লতাগুল্ম', 'চাইবো', 'বিদেশের', 'গির্জার', 'আমাদেরকেও', 'সাথ', 'ধন্না', 'প্রধানরাও', 'ইরানের', 'আমেরিকা', 'ফিকির', 'সীমান্ত', 'বলেছিল-', 'বন্টন', 'সারিয়ে', 'সুন্দরবন', 'ভারতের', 'রাষ্ট্রপ্রধানরা', 'অন্যদেশের', 'আশ্চর্যের', 'আমাশয়', 'ভোট', 'কক্সবাজারকে', 'বেঁচেছিলাম-', 'ডাকিনি', 'মৃত্যুও', 'করতেছে', 'লাগাইতে', 'ধাচের', 'ঘটনাগুলো', 'জর', 'পাটাতনের', 'ধাপড়িধুপড়ি', 'বন্ধুত্ব', 'পরিবেশে', 'খা', 'দেখুক', 'সিরিজকে', 'টিকাগুলা', 'উঠানেই', 'উৎসবমুখর', 'চমৎকার', 'উপহারগুলাই', 'সাথী', 'এয়', 'কারেন্টের', 'ছিড়া', 'ভুজ-কোটি', 'থাপড়ায়', 'মিস্ত্রিকে', 'নি।আগের', 'গুরু-শিষ্য', 'খেলবো', 'খেলবে', 'হারজিত', 'সাধনা', 'ঘাসে', 'ব্যাটায়', 'পাল্টাইতে', 'ফাংশান', 'কেল্লাফতে', 'যায়া', 'ফুস', 'লাগাইতাছে', 'উঠিরে', 'নারকেলের', 'আসাতেও', 'পছন্দমত', 'ড্রয়ারে', 'ছোপ', 'খুললাম', 'আলমারির', 'ডুপ্লিকেট', 'কাঠমিস্ত্রির', 'তেমনই', 'খোঁজাখুঁজির', 'ডেথ', 'কিনবি', 'বসব', 'প্রভুভক্ত', 'ঘুমাতো', 'সুখেই', 'ফাঁকেফাঁকে', 'নিয়েছিলাম', 'মৃত্যুটা', 'সুবিন্যস্ত', 'নাড়ু-তো', 'গপাগপ', 'কেলেঙ্কারি', 'বাচা', 'যাও-', 'নাড়ু', 'জন্মদিন।', '।তাই', 'সম্ভবনাও', 'যাওয়াটা', 'চত্বরটা', 'মিনিটে', 'আধঘণ্টার', 'সিটে', 'কচি-পাতা', 'মধ্যদিয়েই', 'ভ্যান', 'রিক্সা-', 'শুরশুর', 'মিস্ত্রির', 'পাখিগুলো', 'বাজানোর', 'লক্ষ্মীতলা', 'না।শুধু', 'খাইয়েছেন', 'সাইকেলেই', 'কেননা', 'তুমিজে', 'আলসেমি', 'শার্টটা', 'ঘটনায়', 'করারই', 'নামাতে', 'মনেমনে', 'কেক্টা', 'কানাঘুষা', 'নাস্তার', 'নানারকম', 'আখক্ষেতে', 'স্যার-', 'কেকের', 'দ্বারায়', 'ব্যাকুল', 'আফসোসই', 'চিঠিতেও', 'চিঠিতে', 'মানুষগুলোও', 'উল্টাতেই', 'কভার', 'বহুদূরে', 'খুশী', 'অহ', 'ওয়ালিদকেই', 'মদ্ধেই', 'চোখ-মুখ', 'এরপরও', 'প্রথমদিকে', 'রীতিমতো', 'হরিশবাবু', 'কাটবে', 'বাসে', 'শয়তানী', 'দাগটেনে', 'রস', 'দেখিয়েছো', 'বসো।', 'করো।ঠিক', 'বোঝাবে', 'কথাটি', 'লোকগুলোকে', 'গ্রাফ-খাতা', 'ধরান', 'প্রতিবারের', 'ধমকায়', 'আল্লাই', 'বানিয়েছেন', 'খায়ে', 'বেটারে', 'সুযোগে', 'ধরাই', 'মান-', 'রাহিও', 'চেয়ার-রা', 'বিচ্ছুকে', 'দেশের', 'ঘাটাঘাটি', 'বস্তুগুলোই', 'আর্টিকেল', 'পড়বে-', 'পৌছাতে', 'আখক্ষেতে-', 'আখের', 'আখক্ষেত', 'চেয়ারদের', 'বলোতো', 'চেয়ারটায়', 'বস্তুরই', 'শ্রদ্ধাবোধ', 'পদার্থের', 'আওতার', 'সবশেষ', 'রেখেছে।', 'টাঙ্গানো', 'ছটফটানি', 'জড়ানোকী', 'প্রয়োজন।', 'রয়েছে।', 'শাসনে', 'জানুক', 'সোনারনালী', 'ইহজগতের', 'গুরুত্বের', 'মুদ্রাকবাসী', 'বিরোধিতা', 'হাস্য-রসাত্মক', 'তবেকী', 'রেখাকে', 'অনিচ্ছাকৃত', 'তবেই', 'মৌণতা', 'আবির্ভূত', 'ধারালো', 'কারাগারই', 'কোষাগারে', 'ওঠানোর', 'নিচ্ছিদ্র', 'নাড়ানোর', 'বসাচ্ছে', 'সেটাতেও', 'সম্মানেরকী', 'চেঁচালো', 'সম্পর্কটা', 'কোয়ার্থও', 'ফলাফলওকী', 'সাব্যস্ত', 'দোষী', 'এরজন্য', 'পাঠিয়েছ', 'বেঁধেছেন', 'চুক্তির', 'মহীরূহতে', 'বিনিয়োগটা', 'গৃহীত', 'মূর্খ।', 'বন্ধ।', 'শিখবেন', 'রাখলাম।', 'অপমানটাকে', 'মাখেনি', 'প্রয়োগের', 'ওয়ার্ল্ডেকে', 'বাঁধাগ্রস্থ', 'নিয়েছো', 'অন্তত।', 'আয়েদিসের', 'মিমপিরাও', 'মিমপকে', 'অকাট্য', 'খুঁজলো', 'মাধ্যমই', 'চুষবো', 'নারীকণ্ঠ', 'কুরবানি', 'আপনারকী', 'যেত।', 'অদিষ্টকে', 'প্রথমদিনই', 'উপকরণগুলো', 'ভাওতাবাজি', 'কামনা', 'সাআআআনভি', 'ভাঙলেন', 'ব্যাথ্যাটা', 'চর্চার', 'তোতলাতে', 'নাচালেন', 'ভাঙ্গনবাসীরা', 'দাও…সাআআআনভি…', 'একবারের', 'প্রস্তাবনার', 'অমাবস্যা', 'কচু', 'দলে।', 'দুটোকী', 'বালিকাকে', 'নাচালো', 'বর্তায়।', 'অবর্তমানে', 'কায়দা', 'পায়চারিতে', 'অস্ত', 'কাঁধগুলো', 'দ্বিগুনেরও', 'ইথানে', 'গলাটাও', 'পাঠাও।', 'লিভানটা', 'বসারই', 'টপকে', 'আলকানতারারকে', 'পদটাই', 'চাওয়ার', 'বলিয়ে', 'যত্নশীলতা', 'পরিশ্রমে', 'দায়।', 'সরূপে', 'নতুনদের', 'চমকটা', 'নিয়েছেন।', 'বাক্যটাই', 'নাগরিকদের', 'প্রশ্নটার', 'আনুগত্যের', 'তাছাড়া…', 'হাতড়ে', 'উচ্চ্যবাচ্য', 'সুখিই', 'অনুভূতিটার', 'তদারকি', 'অনুপস্থিতি', 'পদাধিকার', 'তুলিটা', 'গালিটা', 'জেলেরাও', 'আঘাতপ্রাপ্ত', 'উফ', 'সপাত', 'আয়নার', 'সমস্যাই', 'ফুলদানি', 'একখানে', 'লাশটাকে', 'এলোপাথাড়ি', 'মৃতদেহটা', 'হলেকী', 'কাটাচ্ছিল', 'হইহই', 'নদীথেকে', 'মৃতদেহটার', 'প্রত্যুত্তর', 'টিলার', 'ক্যানভাসেই', 'দূর্গের', 'কান্ত', 'দৌড়াচ্ছে', 'যৌনতার', 'বয়ঃসন্ধিকালে', 'যথাযথই', 'বসেকী', 'বেরিয়েছেন।', 'রাম', 'পর্যন্তকী', 'চিত্রকর্মে', 'এদিকেই', 'ক্যান্তররাকী', 'হাপাচ্ছে', 'অধৈর্য', 'আঁকতেন', 'আলেয়াও', 'চিত্রকরের', 'অমন', 'দীর্ঘ-শ্বাস', 'অতটুকুই', 'খেলাধুলায়', 'শিক্ষানবিশ', 'নমনীয়', 'গতরাতেই', 'পিপাসু', 'সিঁথির', 'সিঁদুরে', 'শ্রেষ্ঠাংশে', 'গোনে', 'মঞ্চস্থ', 'লোকই', 'অকৃত্রিম', 'কৃষিকাজে', 'অতন্দ্র', 'সরলরেখার', 'পথগুলো', 'পাহাড়কে', 'টেক্কা', 'বিভীষিকাময়', 'শশ্মান', 'অধিকারিণী', 'প্রতিদানও', 'বয়ঃকনিষ্ঠ', 'ভাবুক', 'প্রতিশোধের', 'ব্যর্থতার', 'সিগ্ধতার', 'সিগ্ধতা', 'উত্তরবঙ্গের', 'স্নেহধন্য', 'জেদী', 'উপলব্ধি', 'অধিকাংশের', 'বোন।', 'গেরস্ত', 'নিষেধাজ্ঞা', 'অনুপস্থিতিতে', 'ভিখারি', 'সৌন্দর্যে', 'দৈর্ঘ\\u200d্যে', 'বৃত্তাকার', 'চারকের', 'বালি', 'প্রলয়ঙ্করী', 'বিশ্লেষন', 'মুহূর্তকে', 'বালু-রাশি', 'করছিলো', 'দুর্বিষহ', 'শূন্যতার', 'কালে', 'মাননীয়', 'নৈঋতই', 'জ্যৈষ্ঠ', 'কণায়', 'নয়টার', 'চল্লিশের', 'দানশীল', 'আঁকে', 'আচড়', 'বনেদি', 'কেন্দ্রটাকে', 'গেড়েছে', 'চাকুরী', 'সারির', 'ধাধানো', 'রহমানই', 'প্রবেশপথ', 'কম্বল', 'নামাযের', 'জলপ্রপাতে', 'বেষ্টন', 'গোলকের', 'ফাঁপা', 'স্থিরচিত্রের', 'ওজু', 'হাড়', 'সবিস্তরে', 'আহ্বায়ক', 'কৌতূহলী', 'বাসিন্দা', 'দেহরক্ষী', 'ক্ষমতাকে', 'নিয়ে।', 'আগাছাগুলোতে', 'আমরাই', 'অপরাধকে', 'জায়গাটি', 'জানলেই', 'ধ্বক', 'আকাশটার', 'দুপরে', 'মিটিমিটি', 'পাটকাঠি', 'নির্ণয়', 'গুলোও', 'ত্রিশজনের', 'জোড়ায়', 'লকলকিয়ে', 'রহিত', 'আসায়', 'আবছায়া', 'ঘরগুলোর', 'নালীর।', 'থামানো', 'নিয়োজিত।', 'কাল…', 'গিয়েছেন', 'ওপারের', 'পল্লীর', 'সমানুপাতিক', 'ঝুঁকির', 'হাড়', 'ঠাণ্ডায়', 'অনুভূতি-শূন্য', 'পাঠালে', 'নিচ্ছি।', 'বিতাড়িত', 'বটেই', 'জাভিয়ারও', 'বিশ্বস্থ', 'ঊর্ধ্ব-পানে', 'উদ্দেশ্যেই', 'হাল্কা', 'মুরগীগুলোকে', 'খোয়ারে', 'শুরুটাই', 'ঢুকাতে', 'অনুনয়', 'মাধ্যমিকে', 'অষ্টম', 'আসছি-', 'শ্রেণীতে', 'গাউনের', 'অতিথি', 'দেহরক্ষীর', 'শ্যামবর্ণ', 'রোগা', 'খিচিমের', 'হয়রান', 'মোজ-মাস্তি', 'আশ্বত', 'পারেনি।', 'বিস্তারের', 'একইকথা', 'দ্বিগ্বিজয়ী', 'যোগাযোগের', 'চারপাশকে', 'ধরছেন', 'পারতাম।', 'বৈচিত্র্য', 'ভ্রমনসঙ্গী', 'কেও', 'যোগ্যতা', 'ঋতু', 'সম্বোধনে', 'তারতম্য', 'আসেননি।', 'পূর্বেই', 'শত-সহস্রবার', 'চিনলেও', 'কইছিলি', 'তুলনামূলক', 'চাপড়ে', 'ভুল।', 'ফেলবেন', 'জুড়িয়ে', 'সহযোগী', 'কাহফ।', 'সমুদ্রসৈকত', 'শেষপর্যন্ত', 'সম্রাজের', 'ঝাউবনটা', 'চেষ্টার', 'বুকটাও', 'নিঃশ্বাসের', 'শিরাগুলো', 'গুলজার', 'দুর্গন্ধ', 'প্রাসাদে', 'কঠিনতর', 'গাম্ভীর্যপূর্ণ', 'প্রতারণার', 'একাগ্রতার', 'দিনগুলোতে', 'জেদ', 'ছেলেদের', 'কোনঠাসা', 'বাড়াচ্ছে', 'তিনি।', 'সেরা।', 'তুমি…', 'বানাবেন', 'শরীরকেই', 'পালাব', 'মিমপি…', 'তাহলে…তাহলে', 'প্রতরণার', 'কুচিন্তাগুলোকে', 'নিয়ন্ত্রনের', 'গোনার', 'দুদিকটা', 'মিললো', 'চলাচল', 'জলন্ত', 'কড়াই', 'সত্বা', 'বেড়ানোর', 'কয়েকযুগ', 'জানেন।', 'ঐদিকটায়', 'বর্ণনাও', 'ঝাপ', 'মন্থর', 'উষ্ণতা', 'স্ক্রল', 'শেষবার', 'ছেলেকেই', 'খড়গ', 'অনুলিপি', 'উনুনে', 'ছ্যাঁক', 'মালিকদের', 'ভূকম্পন', 'লাগাও', 'মালিকরা', 'মুখমণ্ডল', 'শূণ্যস্থান', 'সত্বাগুলো', 'বঝার', 'প্রবেশদ্বারগুলো', 'গ্লাসের', 'কালসিরে', 'গিয়েছিলাম।', 'রোধকারী', 'জানোয়ারগুলোকে', 'ধন্যবাদ।', 'নিমন্ত্রন', 'নরকে', 'আছেন।', 'সিঁড়িটার', 'বিচারে', 'পাওয়া-', 'পৌণপণিক', 'গোত্রীয়', 'বাঁক', 'আটজন', 'ঘামছেন।', 'লম্পটরা', 'বোঝো', 'ঘোরো', 'শরীরী', 'পুরানো', 'মসৃণ', 'মুছলেন', 'পোশাক-আশাক', 'গুলোতেই', 'নীতিতে', 'শরবতের', 'চক্ষুলজ্জার', 'কল্পনাই', 'শরবতটা', 'শান্তই', 'দু-কদম', 'তুড়ি', 'লাঠিই', 'নাটকীয়তার', 'বিশ্বাস-অবিশ্বাস', 'মালিকানায়', 'গুণগুলোই', 'আঙুলের', 'চালিয়েছে', 'আলকানতারাকেও', 'দু-কদমের', 'বাজাল', 'সরবতের', 'গালিতে', 'মা-বাবা', 'হাসিলের', 'দালালরা', 'দূরত্বটাই', 'অদেখা', 'বিরতির', 'নিরীক্ষা', 'এড়াল', 'বুদ্ধিমত্বা', 'অকাঠ', 'কম-বেশি', 'তীর্থস্থান', 'পর্যটনের', 'নারীদের', 'স্ববিস্তরে', 'কৃত্বিত', 'খরব', 'চিত্রকর', 'শৈল্পিক', 'লিকুইরটা', 'সাজে', 'জবড়জঙ', 'মোজাইক', 'আধিক্য', 'ঠোকর', 'অবলোকন', 'ব্যস্ততার', 'তাদেরই', 'নেতাদের', 'গ্লাসটা', 'নেতারা', 'বক্তৃতায়', 'চাক্ষুস', 'আওতায়', 'উন্নত', 'হারেননি', 'বিষ্ময়', 'পিলগ্রিমরা', 'ঠেকালেন', 'নালীও', 'ফাটাচ্ছে', 'বাড়ি।', 'চুমকেই', 'শরবত', 'অনুলিপি।', 'এসেছিলাম।', 'স্মৃতিই', 'উল্টোটা', 'একেছি।', 'যাইনি', 'ইথানেরও', 'যতটাই', 'শব্দচয়ন', 'পঞ্চাশ-উর্ধ্ব', 'শতভাগ', 'গজানোর', 'ঠোকা', 'মরিচা', 'এনেছেন।', 'মনকাড়া', 'দীর্ঘশ্বাস-', 'শুকিয়েছে', 'ক্ষোভটা', 'লাঞ্ছিত', 'স্বত্বেও', 'ভাবনাটাই', 'এঁকেছ', 'ঘুরানো', 'যতদ্রুত', 'হোক।', 'সূত্রটা', 'তোয়াক্কা', 'ঝাঁঝ', 'এগোচ্ছেন', 'তোমাকেও', 'দেখছি।', 'সম্মানটা', 'শিল্পী', 'টাখনু', 'এলাম', 'দিনটাই', 'গতবারও', 'ওঠেনি', 'স্বপ্নও', 'শিল্পকর্মগুলো', 'নামকরা', 'উঠছেন', 'মোক্ষ', 'অবস্থানটা', 'স্থিরচিত্র', 'অবশ্যই।', 'আগেরকার', 'জৌলুস', 'আকল', 'আঁকলে', 'বেশে।', 'বার্তায়', 'রূদ্ধশ্বাস', 'ঘৃণিত', 'তাহলেই', 'স্মৃতিটা', 'জানলেও', 'ধর্ষক', 'থাকাকালীন', 'খুনিকে', 'অগ্যতা', 'আঁচড়', 'নাগরিকরা', 'ভাবমূর্তি', 'বয়োবৃদ্ধ', 'গলিটা', 'ধাপটা', 'চাইতে', 'যথেষ্ঠ', 'শত্রুও', 'নেতাসুলভ', 'সামলালেন', 'অবিভাবক', 'বসলেও', 'ভাগীদার', 'হারিয়েছে।', 'কিনা।', 'নৈরাজ্যের', 'আচ্ছা।', 'অঙ্কের', 'অবিচারের', 'ঘায়ে', 'ঝুঁকল', 'নুনের', 'ছাড়ছেন', 'থামছে', 'ঝাকুনিটা', 'এইজন্যই', 'টুকরোর', 'বিধি', 'এগোনোর', 'ফাইজলামির', 'ফারাক', 'পশ্চাৎদেশের', 'পাজামা', 'ঘুরাল', 'গজিয়ে', 'পশ্চাৎদেশ', 'বেরসিকও', 'পাজামাই', 'সিংহের', 'হতভম্ভ', 'ছদ্মবেশটা', 'পানীয়ের', 'নিচটা', 'মুহূর্তে।', 'আড়ষ্ট', 'ঝাড়বাতিগুলো', 'ঝাঁঝাঁ', 'অদৃষ্ট', 'বাতির', 'তারস্বরে', 'শুকোয়নি', 'ফুটন্ত', 'জিন্দাবনের', 'কাচ', 'বাচাল', 'উচ্চারণও', 'ঠিকমতো', 'একএক', 'বাতিগুলো', 'ফাটিয়েছে', 'স্বশব্দে', 'এড়ায়নি', 'সিংহাসনের', 'প্রতাপে', 'প্রতিষ্ঠিত', 'কান্তর', 'ক্ষয়িঞ্চু', 'সেসবে', 'গোমড়া', 'কোনে', 'কলঙ্কের', 'চলনের', 'মৌণতাকে', 'গ্রহণযোগ্যতা', 'রাত্রীযাপনের', 'নিবেদিত', 'শিঙ্গার', 'অভ্যাস।', 'ছিটা', 'মোহনীয়তায়', 'সৌরভে', 'খণ্ডটা', 'মারলেও', 'পারাই', 'মহিমান্বিত', 'রসিক', 'ঘরটাই', 'অভ্যস্থ', 'হবো।', 'রেখেছি।', 'শিঙ্গায়', 'অরক্ষিত।', 'ছাদে', 'সুরের', 'দুইতলা', 'পিলারের', 'মৃগীরোগী', 'ছড়াতে', 'চাদরেই', 'প্রতিমার', 'নিশাচর', 'দুদিনে', 'অভাবটা', 'ঢেলেছে', 'সূর্যদেব', 'ধুয়া-ধর্ষণ', 'খুন-খারাবি', 'তরু', 'উর্ধ্ব', 'নালীকে', 'যৌবনে', 'অনুমতির', 'অফিসের', 'দুসাধ্য', 'কেরানীর', 'প্রকারভেদের', 'কচি', 'বিন্দুর', 'কাজল', 'জ্যামিতিক', 'নির্মমভাবে', 'নিচেই', 'ডিম্বাশয়টি', 'ঘামাই', 'ঝাঁঝে', 'ওয়াইনের', 'পারদ', 'আহ…', 'পাত্রটার', 'জোড়াতালি', 'স্বরেই', 'গমের', 'পাপড়িগুলো', 'পাহাড়েও', 'ভেবেছে', 'চারাগুলো', 'ঢালতে', 'গাছেই', 'ঢালতেই', 'কাণ্ডের', 'ক্ষিদে', 'রোস্ট', 'ঘিয়ের', 'লক্ষ্মীর', 'ছাদ।সামনেই', 'খেলানো', 'ঢেঊ', 'গাঢ়ত্ব', 'সগোত্র', 'গর্বের', 'একাংশে', 'বিষ্ণুর', 'শ্রী', 'অবতার', 'রাঁধা-কৃষ্ণের', 'অন্তর্দ্বন্দ', 'গাম্ভীর্য', 'অযাচিত', 'বৃহস্পতিবার', 'সাড়ম্বরে', 'কৃষ্ণের', 'বেখেয়ালি', 'রুটির', 'খাতা', 'জবাবে', 'মনোমতো', 'বলত-', 'কুয়াশাচ্ছন্ন', 'চাইতেন।', 'গোমরা', 'কাদের', 'শুনতেও', 'কারবারে', 'উঠাতে', 'বৈঠকটা', 'সুলভ', 'মাখার', 'কটাক্ষ্য', 'কারবারটাই', 'মিষ্টির', 'অস্ফুট', 'আঙুর', 'কুলীন', 'বানাবে', 'পাতলে', 'নিকষ', 'আকর্ষণে', 'ঘামটুকু', 'পুনরায়', 'গাড়ছে', 'ধৈর্যশীলদের', 'জোগাচ্ছে', 'ইন্ধন', 'প্রকোপে', 'অগ্নিশিখা', 'পূর্বনির্ধারিত', 'রেখো', 'গবাধি', 'হেলেদুলে', 'অগ্নিকুন্ড', 'উৎসটা', 'জুলফিও', 'ইসমাইল', 'নিশির', 'সরায়নি', 'শ্রেণী', 'ক্রমান্বয়ে', 'অধঃক্রমে', 'কেউবা', 'পাস', 'তিনে', 'তখন-', 'হোঁচট', 'মোহগ্রস্থ', 'পাড়ায়', 'সাজা', 'প্র্যাকটিস', 'স্রোতও', 'তাহলে-', 'জুম্মার', 'মাওলানা', 'ম্যাট্রিক', 'পড়লেনা', 'পরীক্ষাই', 'চিরদিনের', 'ওবায়দুররের', 'বাপ-চাচাদের', 'বন্ধক', 'চেহারাতেও', 'আয়েশি', 'রহস্যময়তা', 'দিয়েছে।', 'অথিতিকেই', 'গম-খেত', 'পৈত্রিক', 'রোমহর্ষক', 'সহায়তায়', 'সারাবছরের', 'জীবনই', 'কার্তিক', 'নাকটা', 'সরিষার', 'আইল', 'বেচে', 'হ্যাঁ।', 'মাছ-ফুলকপির', 'বাতাসেও', 'বাড়ছেই', 'পৌণপুনিক', 'তামাকেও', 'তাকিয়েছিলেন', 'বিড়ির', 'অখাদ্য', 'আহ্ববায়ক', 'বালিশ', 'দ্বিরেফকেস্পষ্ট', 'বিষয়ই', 'পানই', 'খাটুনিও', 'অবসরপত্র', 'শার্ট', 'সরেনি', 'চারপাশটা', 'কওয়া', 'দীপ্তি', 'ঘিয়ে', 'বিমূঢ়', 'কিংকর্তব্য', 'অবিকল', 'সত্ত্বাগুলো', 'রঙ্গের', 'সত্ত্বাটা', 'স্বত্ত্বাকে', 'চন্দ্রমল্লিকা', 'মন্দিরটিকে', 'ফুলগুলি', 'দৃষ্টিকে', 'অসাড়ের', 'বিবেচ্য', 'ফাপা', 'মুখমন্ডল', 'ঘোমটার', 'গাঁদা', 'সরষে', 'বাগানটিতে', 'শয়তানগুলো', 'রামানুজুনের', 'গণিতবিদ', 'ইচ্ছায়', 'সত্ত্বাদের', 'কাব্যতীর্থে', 'গণিতে', 'ছাড়িনি', 'অপরজনকে', 'দাদু।', 'দর্শকরা', 'করবে-', 'কালী', 'জানোয়ারগুলো', 'সমুদ্রসৈকতে', 'দাদুকে', 'আবদারে', 'জাম-তলা', 'প্রতি-সন্ধ্যায়', 'তুলসী', 'খাওয়ান', 'মানবিকতা-', 'অস্বাভাবিকতার', 'সূর্যটা-তো', 'দমানো', 'গতিরোধ', 'গেলো-', 'গুল্মগুলো', 'চাপকে', 'ভরসার', 'ডোম', 'স্বরটা', 'মূর্ছণার', 'শেলফে', 'সাবানের', 'হাটেও', 'সাবান', 'সবকিছুকে', 'একমন', 'নীচে', 'মাছকে', 'জ্বালানো', 'দিকতো', 'সুঘ্রাণ', 'গন্ধটা', 'অন্যরাও', 'দাঁড়াচ্ছে', 'স্থাপনা', 'হত্যা', 'নালীতেও', 'চাওনা', 'ধনকুবেররাও', 'কাঁটিয়ে', 'স্বপ্নপূরনের', 'করাটাই', 'মানবিকতা', 'বিশ্বাসেও', 'পিণ্ড', 'সংখ্যাগুলো', 'ফোড়ন', 'ভালবাসতাম', 'কণ্ঠটায়', 'পাইনি-', 'স্বয়ং', 'গাছই', 'জিন্দাবনে', 'পুরুরত্ব', 'কেই', 'গম্বুজগুলো', 'সূচালো', 'মাথাগুলো', 'গম্বুজের', 'গম্বুজ', 'পাহাড়সম', 'দুইদিকে', 'দেবীও', 'ভীতির', 'গুড়ুম-', 'গোঁফ', 'দৈতাকার', 'পাল্লার', 'সয়াবিন', 'লজ্জিত।', 'রাখায়', 'খেলাপি', 'হেয়', 'আলিঙ্গনে', 'উষ্ম', 'প্রহার', 'যাবা', 'চরিত্রটি', 'রসিদ', 'করছি-', 'জ্ঞানীদের', 'ভাওয়ালের', 'মুদ্রাকপ্রধান', 'রমেন্দ্রনারায়ণের', 'আলখাল্লায়', 'দাড়িপাল্লা', 'নকশাগুলো', 'রূপাও', 'সেজেছে', 'মন-মর্জি', 'প্রবণ', 'বালিহাঁসের', 'অকুল', 'পাথার', 'ব্যক্তিবর্গের', 'তেজহীন', '-এর', 'ভূমিকম্পও', 'নীলচে-সবুজ', 'মাছরাঙ্গা', 'একপলক', 'অর্থকষ্ট', 'ধর্মতত্ত্বে', 'শ্রোদ্ধাবোধ', 'স্বত্বাটা', 'দুই-তিনবার', 'পানকৌড়ি', 'হাসাহাসি', 'অশ্বারোহীকে', 'স্থিরতা', 'বহনকারীরা', 'উপস্থিতিতে', 'করি-', 'রেজাল্টের', 'বহনকারী', 'হচ্ছি-', 'বিশালকার', 'চাল-চলনের', 'প্রতিনিধিত্ব', 'খাওয়াটা', 'করি-বলেন', 'ভ্রমনের', 'বহর', 'ফটকের', 'চালই', 'অগ্নিকুণ্ডের', 'উপজেলা', 'কিনতে-', 'বাঁশ-বাগানটার', 'সাতের', 'আড়চোখে', 'শ্রোতা', 'লাঠিটার', 'লাবণ্য', 'বউ-পুতুল', 'কাণ্ডকারখানা', 'বক্ষদেশ', 'গোয়ালে', 'য়েক', 'খাম্বা', 'সেজে', 'জবড়জঙ্গ', 'পাল্লাগুলো', 'ঘুপচির', 'এগোচ্ছিল', 'ডাকছিলি', 'ধাতুতে', 'জুটেছে', 'অনুসরণকারীরা', 'হয়তোবা', 'হারাবি', 'মরুভূমিতে', 'লাগালেই', 'ঘরবাড়িও', 'প্রাঙ্গণে', 'দেবিদ্বারেই', 'পর্যবেক্ষণে', 'স্পষ্টতই', 'আজান', 'অন্যভুবনের', 'রিনরিনে', 'ভুবনের', 'তিলটার', 'মায়ামায়া', 'অমায়িক', 'মাগরিবের', 'কাম্য', 'ডাকছিল', 'ডাকছিলাম', 'শহরেই', 'বোঝেন', 'রাখছিলাম', 'পেকেছে', 'উপাধিও', 'খা-', 'মারফি', 'গ্রিফিন', 'উপাধি', 'পতিতালয়ে', 'ফলটাতে', 'উত্তরের', 'কষ', 'সফেদার', 'পরিবারই', 'উওর', 'লো।', 'বৈষম্যগুলো', 'মেথরের', 'ভাই-বোনদের', 'আমারই।', 'হসি', 'ছোঁয়', 'ডাবরিয়ানদের', 'এবছরই', 'ডিগ্রি', 'নিঃষ্পাপ', 'কি-', 'থাকে-', 'চামারের', 'কথা-বার্তায়', 'শহরকে', 'বন্দোবস্ত।', 'দুইশ্রেণির', 'শ্রেণি', 'সফেদা', 'পেড়ে', 'কাঁচামরিচ', 'বাদককে', 'শাসে', 'বাজাচ্ছেন', 'তরুণি', 'উঠতি', 'ঠেকাল', 'স্বজনদের', 'বিষণতা', 'শ্লথ', 'বৃষ্টিও', 'কর্মচারী', 'চতুর', 'আবহটূকুও', 'ভাপ', 'অভ্যাসও', 'দৈনিক', 'ভিজতেই', 'ফোঁটার', 'বাদেও', 'পরিবেশের', 'বিশালপুরেই', 'মিলন-মেলা', 'চাষিদের', 'মুর্ছা', 'হাটবারে', 'বহুবার', 'সংকোচের', 'সমাগম', 'দোকানদাররা', 'মহিলাকে', 'মেয়েটাও', 'অঞ্চলের', 'কেনা-বেচার', 'কাপড়টুকু', 'চরাঞ্চল', 'দর্শনের', 'শোয়ানো', 'ব্যবহারযোগ্য', 'ইচ্ছাকে', 'পাইকারি', 'ট্রাকগুলোর', 'পূর্বক্ষন', 'গরগর', 'ফুলকপি', 'তবলাটা', 'দোকানি', 'শেখালেও', 'দোকানির', 'কিনবে', 'পূর্বে', 'ছোটমাছ', 'হারমোনিয়ামও', 'শোনামাত্র', 'তবলার', 'পৃষ্ঠপোষকতা', 'ঘাটে', 'যুবায়েরই', 'বাদ্যযন্ত্রটা', 'গৌর', 'যন্ত্রটা', 'দোকানটাই', 'বেকারই', 'চোটেই', 'স্বাস্থ্যবান', 'জর্দা', 'দেবিদ্বারবাসী', 'কেনে', 'আতঙ্কিত', 'আতংকিত', 'গল্পগুলো', 'ব্যবসায়ীদের', 'দোকানদারের', 'বিএতে', 'কোওওওআআ……য়ার্থ', 'অস্বাভাবিকতা', 'বাতাসেই', 'কণ্ঠেই', 'পঁয়তাল্লিশ', 'তরুণই', 'মাধ্যমিকের', 'বাদামি', 'লাঠিটাতে', 'বিষপানে', 'চালা', 'উভয়', 'উত্তম–অধম', 'দাঁড়িয়ে-', 'আসতিস', 'ফাস্ট', 'সেটাইতো', 'বিপদকে', 'সাংঘর্ষিক', 'আফসোসের', 'মানিকজোড়', 'যাত্রাপালায়', 'বানানে', 'আদাব', 'ভাঙ্গনপ্রধান', 'পারতিস', 'দিদিও', 'রাবণটাও', 'ঝালমুড়ির', 'উপহারই', 'এইমুহূর্তেও', 'খানিকক্ষণ', 'আলো-আঁধার', 'ভালো-খারাপ', 'মেরুর', 'কস্মিনকালেও', 'ভ্রাতার', 'জমজ', 'ধর্মটাই', 'অস্থিমজ্জায়', 'শিস', 'প্রতিক্রিয়ার', 'হারাবো', 'দেরীতে', 'গলাটা', 'হাক', 'লিভান…', 'পড়েতেই', 'চন্দ্র', 'উপবাস', 'পারিপার্শ্বিক', 'তোরাও', 'দৃষ্টিতেই', 'শরৎকালে', 'খুঁড়ে', 'সংযত', 'পদ্মে', 'শালুকে', 'বিলটাকে', 'আসবি-', 'ধুলিতে', 'হেড', 'উঠা', 'অগ্নিকুণ্ড', 'বিদ্যালয়ের', 'হাতড়াল', 'রাগী', 'কারণটি', 'রূপসা', 'প্রতিকৃতির', 'উজ্জীবিত', 'স্থগিত', 'পড়ালেখায়', 'উৎসাহদাতা', 'সমস্যা-', 'করি-বলে', 'ছাত্র-ছাত্রী', 'ঝাঁ', 'পারছ', 'খোঁড়া', 'কজন', 'এদূর', 'ডেকেছ', 'তালিকাটা', 'শক্তিবলে', 'যুক্তিযুক্ত', 'হারানোই', 'খুঁড়তে', 'উৎকৃষ্ট', 'ছেলেকেঁদেখে', 'বসায়', 'পঞ্চাশের', 'গাই', 'ফড়িয়াদেরই', 'দর', 'দরজাতেই', 'বাইসাইকেলে', '-জন', 'জেলা', 'বিদ্রুপের', 'এছাড়াও', 'অনায়াসে', 'রাঙ্গানির', 'হলোই', 'আদেশে', 'আদেশের', 'ফড়িয়াটি', 'লালমনিরহাট', 'মহাশয়', 'গুই', 'পেরিয়েছেন', 'মাথা-মুণ্ডু', 'বলছি-', 'বিষাদগ্রস্ত', 'অপূর্ণই', 'চোখেরই', 'আকর্ষনীয়', 'চোয়ালগুলো', 'ভাবীকে', 'কথাতে', 'থলের', 'আসছি।', 'দে-', 'স্বাস্থ্যের', 'ভুড়ি', 'ওটাই', 'ঘটেনি', 'দ্বিতীয়টি', 'দশের', 'খদ্দেরের', 'ভাজা', 'ফাঁসাতে', 'একনা', 'পড়িস-', 'দূরত্বেও', 'ঝরানো', 'ঘুমাস', 'কুলায়', 'সালেহাকে', 'ঘুমাইলে', 'দেখাচ্ছেও', 'রহিম', 'আঙ্গিনার', 'শুই-', 'তো-', 'আঁধারকে', 'জনক', 'ভোগেন', 'অন্তর্দ্বন্দে', 'রেশমি', 'সুপুরুষরা', 'দালালির', 'পাকিস্তান', 'বাড়া', 'ব্যবসায়িক', 'সারেন', 'প্রাতরাশ', 'ব্রিটিশ', 'ভারত', 'মেট্রিক', 'জুয়ার', 'সুপুরুষের', 'আই.এ', 'সরকারী', 'চাকরিতে', 'কাটাচ্ছেন', 'পত্রিকার', 'প্রহরীই', 'কলাম', '>']\n"
          ]
        }
      ],
      "source": [
        "vocab = list(model.wv.index_to_key)\n",
        "vectors = model.wv[vocab]\n",
        "\n",
        "# Reduce the dimensionality using PCA for plotting\n",
        "pca = PCA(n_components=2)\n",
        "result = pca.fit_transform(vectors)\n",
        "\n",
        "# Plot the Word2Vec embeddings\n",
        "plt.figure(figsize=(12, 8))\n",
        "plt.scatter(result[:, 0], result[:, 1])\n",
        "plt.rcParams['font.family'] =  'DejaVu Sans'\n",
        "# Annotate each point with the corresponding word\n",
        "prop = fm.FontProperties(fname='kalpurush.ttf')\n",
        "for i, word in enumerate(vocab[:100]):\n",
        "    plt.annotate(word, xy=(result[i, 0], result[i, 1]),fontproperties=prop)\n",
        "\n",
        "plt.title('Word2Vec Embeddings')\n",
        "plt.xlabel('Principal Component 1')\n",
        "plt.ylabel('Principal Component 2')\n",
        "plt.show()\n",
        "\n",
        "# Display the vocabulary\n",
        "print(\"Vocabulary:\", vocab)"
      ]
    },
    {
      "cell_type": "code",
      "execution_count": null,
      "metadata": {
        "id": "v8NAa90eXKAJ"
      },
      "outputs": [],
      "source": [
        "#vocab\n",
        "def find_similar_words(word, topn=5):\n",
        "    similar_words = model.wv.similar_by_word(word, topn=topn)\n",
        "    return similar_words"
      ]
    },
    {
      "cell_type": "code",
      "execution_count": null,
      "metadata": {
        "colab": {
          "base_uri": "https://localhost:8080/"
        },
        "id": "4sMs_Xw8Csxe",
        "outputId": "99a9b958-18aa-4dd3-d48b-c438e5d4ecb5"
      },
      "outputs": [
        {
          "output_type": "execute_result",
          "data": {
            "text/plain": [
              "[('পেল', 0.969700813293457),\n",
              " ('ওসব', 0.9695905447006226),\n",
              " ('কোথায়', 0.9536568522453308),\n",
              " ('কতদিন', 0.9482546448707581),\n",
              " ('চূর্ণবিচূর্ণ', 0.9424494504928589)]"
            ]
          },
          "metadata": {},
          "execution_count": 12
        }
      ],
      "source": [
        "#!pip install bnlp_toolkit\n",
        "similar = find_similar_words('সে', topn=5)\n",
        "similar"
      ]
    },
    {
      "cell_type": "code",
      "execution_count": null,
      "metadata": {
        "colab": {
          "base_uri": "https://localhost:8080/"
        },
        "id": "rnm9xQHVzXv3",
        "outputId": "c8704348-05a0-439a-de6a-fdd1388b5a03"
      },
      "outputs": [
        {
          "output_type": "execute_result",
          "data": {
            "text/plain": [
              "[('জ্বি।', 0.9862616658210754),\n",
              " ('”', 0.9840666055679321),\n",
              " ('স্যার', 0.9802067279815674),\n",
              " ('স্যার…', 0.9718302488327026),\n",
              " ('লুকিয়ে', 0.9704017043113708),\n",
              " ('ভুগছেন', 0.9697463512420654),\n",
              " ('মাস।', 0.9686223864555359),\n",
              " ('সিদ্ধান্তহীনতায়', 0.9675377011299133),\n",
              " ('খেয়েছি', 0.9672414064407349),\n",
              " ('চার', 0.9663671851158142)]"
            ]
          },
          "metadata": {},
          "execution_count": 13
        }
      ],
      "source": [
        "#!pip install bnlp_toolkit\n",
        "similar = find_similar_words('লাইনশেষ', topn=10)\n",
        "similar"
      ]
    },
    {
      "cell_type": "code",
      "execution_count": null,
      "metadata": {
        "id": "UwMDjpcIXYBM"
      },
      "outputs": [],
      "source": [
        "import numpy as np\n",
        "from tensorflow.keras.models import Sequential\n",
        "from tensorflow.keras.layers import Embedding, LSTM, Dense, Dropout\n",
        "from tensorflow.keras.preprocessing.text import Tokenizer\n",
        "from tensorflow.keras.preprocessing.sequence import pad_sequences\n",
        "import tensorflow as tf\n",
        "from keras.utils import to_categorical\n",
        "\n",
        "import tensorflow as tf\n",
        "from tensorflow.keras.models import Sequential\n",
        "from tensorflow.keras.layers import Embedding, LSTM, Dense\n",
        "from tensorflow.keras.preprocessing.text import Tokenizer\n",
        "from tensorflow.keras.preprocessing.sequence import pad_sequences\n",
        "import numpy as np\n",
        "from keras.utils import to_categorical\n",
        "import json"
      ]
    },
    {
      "cell_type": "code",
      "execution_count": null,
      "metadata": {
        "id": "HcTYzSKusZm4"
      },
      "outputs": [],
      "source": [
        "def load_text_data(file_path):\n",
        "    \"\"\"\n",
        "    Load text data from a TXT file.\n",
        "\n",
        "    Parameters:\n",
        "    - file_path (str): The path to the TXT file.\n",
        "\n",
        "    Returns:\n",
        "    - str: The text data read from the file.\n",
        "    \"\"\"\n",
        "    try:\n",
        "        with open(file_path, 'r', encoding='utf-8') as file:\n",
        "            text_data = file.read()\n",
        "        return text_data\n",
        "    except FileNotFoundError:\n",
        "        print(f\"Error: File not found at '{file_path}'.\")\n",
        "        return None\n",
        "    except Exception as e:\n",
        "        print(f\"Error: Unable to read the file at '{file_path}'.\")\n",
        "        print(f\"Details: {e}\")\n",
        "        return None"
      ]
    },
    {
      "cell_type": "code",
      "execution_count": null,
      "metadata": {
        "id": "Bfh0t0Pfg38Q"
      },
      "outputs": [],
      "source": [
        "def load_bengali_stopwords(file_path):\n",
        "    \"\"\"\n",
        "    Load Bengali stopwords from a TXT file.\n",
        "\n",
        "    Parameters:\n",
        "    - file_path (str): The path to the TXT file containing stopwords.\n",
        "\n",
        "    Returns:\n",
        "    - list: The list of Bengali stopwords.\n",
        "    \"\"\"\n",
        "    try:\n",
        "        with open(file_path, 'r', encoding='utf-8') as file:\n",
        "            stopwords = file.read().splitlines()\n",
        "        return stopwords\n",
        "    except FileNotFoundError:\n",
        "        print(f\"Error: File not found at '{file_path}'.\")\n",
        "        return None\n",
        "    except Exception as e:\n",
        "        print(f\"Error: Unable to read the file at '{file_path}'.\")\n",
        "        print(f\"Details: {e}\")\n",
        "        return None"
      ]
    },
    {
      "cell_type": "code",
      "execution_count": null,
      "metadata": {
        "id": "at31sXnyu5Aa"
      },
      "outputs": [],
      "source": [
        "# Load your Word2Vec model\n",
        "word2vec_model = Word2Vec.load(\"/content/word2vec_com_cbow_v24.bin\")\n",
        "\n",
        "# Load and preprocess your text data\n",
        "story_text = load_text_data(\"/content/storty_text.txt\")\n",
        "novel_text = load_text_data(\"/content/novel_text.txt\")\n",
        "poem_text = load_text_data(\"/content/poem_text.txt\")\n",
        "\n",
        "bengali_stopwords = load_bengali_stopwords(\"/content/benglai_stopwords.txt\")\n",
        "\n",
        "#tokenizer = NLTKTokenizer()\n",
        "\n",
        "# Tokenize using bnlp and NLTK tokenizer\n",
        "#story_tokens = tokenizer.word_tokenize(story_text)\n",
        "#novel_tokens = tokenizer.word_tokenize(novel_text)\n",
        "#poem_tokens = tokenizer.word_tokenize(poem_text)"
      ]
    },
    {
      "cell_type": "code",
      "execution_count": null,
      "metadata": {
        "id": "OwakE_6JhJ3n"
      },
      "outputs": [],
      "source": [
        "poem_text = poem_text.replace('\\n', ' লাইনশেষ ').replace('...', ' কবিতাশেষ ')\n"
      ]
    },
    {
      "cell_type": "code",
      "execution_count": null,
      "metadata": {
        "id": "TXPXswyFABJC"
      },
      "outputs": [],
      "source": [
        "# Load the dictionary from the file\n",
        "with open('/content/word_index.json', 'r') as json_file:\n",
        "    word_index = json.load(json_file)\n",
        "\n",
        "\n"
      ]
    },
    {
      "cell_type": "code",
      "execution_count": null,
      "metadata": {
        "colab": {
          "base_uri": "https://localhost:8080/"
        },
        "id": "t9_PNSP4l06Q",
        "outputId": "c668b78f-7b9a-4b03-bf53-d331616aa739"
      },
      "outputs": [
        {
          "output_type": "execute_result",
          "data": {
            "text/plain": [
              "(17491, 50)"
            ]
          },
          "metadata": {},
          "execution_count": 7
        }
      ],
      "source": [
        "embedding_layer_weights = word2vec_model.wv.vectors\n",
        "embedding_layer_weights.shape"
      ]
    },
    {
      "cell_type": "code",
      "execution_count": null,
      "metadata": {
        "colab": {
          "base_uri": "https://localhost:8080/"
        },
        "id": "KNu5mdCMjtCu",
        "outputId": "becf8dd5-60be-4f9e-e75a-e03f6486cecb"
      },
      "outputs": [
        {
          "output_type": "execute_result",
          "data": {
            "text/plain": [
              "(17491, 10)"
            ]
          },
          "metadata": {},
          "execution_count": 31
        }
      ],
      "source": [
        "#embedding_layer_weights.dump('embedder_weights.pkl')\n",
        "\n",
        "embedding_layer_weights.shape"
      ]
    },
    {
      "cell_type": "code",
      "execution_count": null,
      "metadata": {
        "id": "FGrPgPD4sUie"
      },
      "outputs": [],
      "source": [
        "# Add sentence-ending markers\n",
        "#story_tokens += bengali_stopwords + [\"\\n\"]\n",
        "#novel_tokens += bengali_stopwords + [\"\\n\"]\n",
        "#poem_tokens += bengali_stopwords + [\"\\n\"]\n",
        "\n",
        "#all_tokens = story_tokens + novel_tokens + poem_tokens\n"
      ]
    },
    {
      "cell_type": "code",
      "execution_count": null,
      "metadata": {
        "id": "7YIv-y2pqBPi"
      },
      "outputs": [],
      "source": [
        "#len(all_tokens)\n",
        "    # Create a word-to-index mapping\n",
        "#word_index = {word: index for index, word in enumerate(set(all_tokens), start=1)}\n",
        "#len(word_index)\n",
        "#peom sequences creation\n",
        "tknizer = NLTKTokenizer()\n",
        "word_index = word_index\n",
        "inp_seq =[]\n",
        "\n",
        "tokens = tokenizer.word_tokenize(poem_text)\n",
        "tokens = [word for word in tokens if word in word_index]\n",
        "replaced_text = ' '.join(str(word_index.get(word, word)) for word in tokens)\n",
        "token_list = []\n",
        "current_sequence = []\n",
        "\n",
        "for token in replaced_text.split():\n",
        "  add_token = int(token)\n",
        "  token_list.append(add_token)\n",
        "\n",
        "for token_id in token_list:\n",
        "  #print(token_id)\n",
        "\n",
        "  current_sequence.append(token_id)\n",
        "\n",
        "    # Check if the current token ID is one of the ending tokens\n",
        "  if token_id == end_token_id:\n",
        "        # Add the current sequence to the list of sequences\n",
        "    inp_seq.append(current_sequence)\n",
        "\n",
        "    current_sequence = []\n",
        "\n",
        "        # Start a new sequence\n",
        "\n"
      ]
    },
    {
      "cell_type": "code",
      "execution_count": null,
      "metadata": {
        "colab": {
          "base_uri": "https://localhost:8080/"
        },
        "id": "pqnUh_B95WeH",
        "outputId": "bb914551-7794-4af9-c4f5-703cc5f8b0d6"
      },
      "outputs": [
        {
          "output_type": "execute_result",
          "data": {
            "text/plain": [
              "17491"
            ]
          },
          "metadata": {},
          "execution_count": 13
        }
      ],
      "source": [
        "vocab_size = len(word_index)\n",
        "vocab_size"
      ]
    },
    {
      "cell_type": "code",
      "execution_count": null,
      "metadata": {
        "id": "BxlEahlU-r_w"
      },
      "outputs": [],
      "source": [
        "import random\n",
        "inp_seq\n",
        "# Number of random sequences to add\n",
        "num_random_sequences = 200\n",
        "\n",
        "# Randomly select lines from inp_seq and target_seq\n",
        "selected_input_sequences = random.sample(inp_seq, num_random_sequences)\n",
        "#selected_target_sequences = random.sample(target_seq, num_random_sequences)\n",
        "\n",
        "# Add selected sequences back to inp_seq and target_seq\n",
        "inp_seq += selected_input_sequences\n",
        "#target_seq += selected_target_sequences\n",
        "#inp_seq = random.sample(inp_seq, 1000)\n",
        "modified_sequence = [sequence[:-1] for sequence in inp_seq]\n",
        "#modified_sequence = inp_seq\n",
        "\n",
        "inp_seq = modified_sequence"
      ]
    },
    {
      "cell_type": "code",
      "execution_count": null,
      "metadata": {
        "id": "cLkSIDl8dEcf"
      },
      "outputs": [],
      "source": [
        "#for encoder decoder architecture\n",
        "\n",
        "modified_sequence\n",
        "max_sequence_length = max([len(seq) for seq in modified_sequence])\n",
        "\n",
        "# Create input sequences\n",
        "\n"
      ]
    },
    {
      "cell_type": "code",
      "execution_count": null,
      "metadata": {
        "id": "qDeP9CnGfDha"
      },
      "outputs": [],
      "source": [
        "input_seq = []\n",
        "target_seq = []\n",
        "for i in range(len(inp_seq)-1):\n",
        "  input_seq.append(inp_seq[i])\n",
        "  target_seq.append(inp_seq[i+1])\n",
        "\n"
      ]
    },
    {
      "cell_type": "code",
      "source": [
        "\n",
        "\n"
      ],
      "metadata": {
        "id": "uu9lyuFdQJ2U"
      },
      "execution_count": null,
      "outputs": []
    },
    {
      "cell_type": "code",
      "source": [
        "new_target_seq= [[start_token_id] + inner_list for inner_list in target_seq]\n",
        "input_sequences = pad_sequences(input_seq, padding='post',maxlen = max_sequence_length)\n",
        "new_target_sequences = pad_sequences(new_target_seq, padding='post',maxlen = max_sequence_length)\n",
        "target_sequences = pad_sequences(target_seq, padding='post',maxlen = max_sequence_length)"
      ],
      "metadata": {
        "id": "ZgxsscSh9Yzs"
      },
      "execution_count": null,
      "outputs": []
    },
    {
      "cell_type": "code",
      "execution_count": null,
      "metadata": {
        "id": "a1hmzJjMgeAs",
        "colab": {
          "base_uri": "https://localhost:8080/"
        },
        "outputId": "7570b8ff-5d46-47e7-f1a2-ea23322d0fc5"
      },
      "outputs": [
        {
          "output_type": "execute_result",
          "data": {
            "text/plain": [
              "(999, 21)"
            ]
          },
          "metadata": {},
          "execution_count": 20
        }
      ],
      "source": [
        "input_sequences.shape"
      ]
    },
    {
      "cell_type": "code",
      "execution_count": null,
      "metadata": {
        "id": "OL0IuovpfELf"
      },
      "outputs": [],
      "source": [
        "\n",
        "# Convert target sequences to one-hot encoding\n",
        "one_hot_target_sequences = to_categorical(target_sequences, num_classes=vocab_size)"
      ]
    },
    {
      "cell_type": "code",
      "source": [],
      "metadata": {
        "id": "pme7l89f9T7B"
      },
      "execution_count": null,
      "outputs": []
    },
    {
      "cell_type": "code",
      "execution_count": null,
      "metadata": {
        "colab": {
          "base_uri": "https://localhost:8080/"
        },
        "id": "wnelfwde5Gqx",
        "outputId": "09e0f1d6-8543-454d-85b3-4fa7db5f9070"
      },
      "outputs": [
        {
          "output_type": "stream",
          "name": "stdout",
          "text": [
            "Input Sequence: [11820  1315  7152 13579  7826  5455     0     0     0     0     0     0\n",
            "     0     0     0     0     0     0     0     0     0     0     0     0\n",
            "     0     0     0     0     0     0     0     0     0     0     0]\n",
            "Target Sequence: [ 6514 12113 12113  5165  7638  8534   221     0     0     0     0     0\n",
            "     0     0     0     0     0     0     0     0     0     0     0     0\n",
            "     0     0     0     0     0     0     0     0     0     0     0]\n",
            "One-Hot Target Sequence: [12113 12113  5165  7638  8534   221     0     0     0     0     0     0\n",
            "     0     0     0     0     0     0     0     0     0     0     0     0\n",
            "     0     0     0     0     0     0     0     0     0     0     0]\n"
          ]
        }
      ],
      "source": [
        "# Example: Show the first input sequence, target sequence, and one-hot encoded target sequence\n",
        "print(\"Input Sequence:\", input_sequences[0])\n",
        "print(\"Target Sequence:\", new_target_sequences[0])\n",
        "print(\"One-Hot Target Sequence:\", np.argmax(one_hot_target_sequences[0], axis=-1))"
      ]
    },
    {
      "cell_type": "code",
      "execution_count": null,
      "metadata": {
        "id": "xZocQH685cwa"
      },
      "outputs": [],
      "source": []
    },
    {
      "cell_type": "code",
      "execution_count": null,
      "metadata": {
        "id": "DMN3wW_3Sxig"
      },
      "outputs": [],
      "source": [
        "final_seq = []\n",
        "for seq in inp_seq:\n",
        "  for i in range(1,len(seq)):\n",
        "    ng_sec = seq[:i+1]\n",
        "\n",
        "    final_seq.append(ng_sec)\n",
        "\n",
        "#final_seq"
      ]
    },
    {
      "cell_type": "code",
      "execution_count": null,
      "metadata": {
        "id": "aQOR7b33s99f"
      },
      "outputs": [],
      "source": [
        "tknizer = NLTKTokenizer()\n",
        "def create_sequence(text,tknizer,word_index):\n",
        "\n",
        "  input_seq =[]\n",
        "  tokenizer = tknizer\n",
        "  word_index = word_index\n",
        "\n",
        "\n",
        "  splt_txt = text.split('\\n')\n",
        "  for line in splt_txt:\n",
        "    tokens = tokenizer.word_tokenize(line)\n",
        "    #replace somedday\n",
        "    tokens = [word for word in tokens if word in word_index]\n",
        "    replaced_text = ' '.join(str(word_index.get(word, word)) for word in tokens)\n",
        "\n",
        "    splt_replaced_text = replaced_text.split()\n",
        "    array_of_tokens = [int(number) for number in splt_replaced_text]\n",
        "\n",
        "    for i in range(1,len(array_of_tokens)):\n",
        "      ng_sec = array_of_tokens[:i+1]\n",
        "\n",
        "      input_seq.append(ng_sec)\n",
        "\n",
        "\n",
        "  return input_seq\n",
        "\n",
        "\n",
        "\n"
      ]
    },
    {
      "cell_type": "code",
      "execution_count": null,
      "metadata": {
        "id": "bYG4FlFZkvEa"
      },
      "outputs": [],
      "source": [
        "\n",
        "#inp_seq = create_sequence(poem_text,tknizer,word_index)\n",
        "#inp_seq\n"
      ]
    },
    {
      "cell_type": "code",
      "execution_count": null,
      "metadata": {
        "colab": {
          "base_uri": "https://localhost:8080/"
        },
        "id": "lFvioehXtCuW",
        "outputId": "40dbe465-ce1c-40e8-a496-d8b75cc65852"
      },
      "outputs": [
        {
          "data": {
            "text/plain": [
              "[]"
            ]
          },
          "execution_count": 91,
          "metadata": {},
          "output_type": "execute_result"
        }
      ],
      "source": [
        "predicted_word = [word for word, index in word_index.items() if index == 4173]\n",
        "predicted_word"
      ]
    },
    {
      "cell_type": "code",
      "execution_count": null,
      "metadata": {
        "id": "foBsM7ULP_G1"
      },
      "outputs": [],
      "source": [
        "\n"
      ]
    },
    {
      "cell_type": "code",
      "execution_count": null,
      "metadata": {
        "id": "nlKVhQeoP_Mg"
      },
      "outputs": [],
      "source": []
    },
    {
      "cell_type": "code",
      "execution_count": null,
      "metadata": {
        "colab": {
          "base_uri": "https://localhost:8080/"
        },
        "id": "YZ4zQqfujwj5",
        "outputId": "56e92641-4b29-4977-aa6f-92b1944566a0"
      },
      "outputs": [
        {
          "data": {
            "text/plain": [
              "17490"
            ]
          },
          "execution_count": 26,
          "metadata": {},
          "output_type": "execute_result"
        }
      ],
      "source": []
    },
    {
      "cell_type": "code",
      "execution_count": null,
      "metadata": {
        "id": "zTYsGDS75OYu"
      },
      "outputs": [],
      "source": []
    },
    {
      "cell_type": "code",
      "execution_count": null,
      "metadata": {
        "colab": {
          "base_uri": "https://localhost:8080/"
        },
        "id": "Sn8QaGJ1o8G6",
        "outputId": "babdf58f-2483-43b7-e673-6c3e3ff937ef"
      },
      "outputs": [
        {
          "data": {
            "text/plain": [
              "[[1, 2], [1, 2, 3], [1, 2, 3, 4], [1, 2, 3, 4, 5], [1, 2, 3, 4, 5, 6]]"
            ]
          },
          "execution_count": 40,
          "metadata": {},
          "output_type": "execute_result"
        }
      ],
      "source": [
        "input_sequences"
      ]
    },
    {
      "cell_type": "code",
      "execution_count": null,
      "metadata": {
        "colab": {
          "base_uri": "https://localhost:8080/"
        },
        "id": "x0BH4YReLCuu",
        "outputId": "5bfbd5ca-9beb-4334-88eb-16eefb337351"
      },
      "outputs": [
        {
          "data": {
            "text/plain": [
              "6129"
            ]
          },
          "execution_count": 49,
          "metadata": {},
          "output_type": "execute_result"
        }
      ],
      "source": [
        "word_to_find = 'লাইনশেষ'\n",
        "if word_to_find in word_index:\n",
        "    end_token_id =word_index[word_to_find]\n",
        "\n",
        "end_token_id"
      ]
    },
    {
      "cell_type": "code",
      "execution_count": null,
      "metadata": {
        "colab": {
          "base_uri": "https://localhost:8080/"
        },
        "id": "oVm8LpGUZd9w",
        "outputId": "a7cdf41d-f755-43a4-8dde-7c91a880a210"
      },
      "outputs": [
        {
          "data": {
            "text/plain": [
              "12446"
            ]
          },
          "execution_count": 88,
          "metadata": {},
          "output_type": "execute_result"
        }
      ],
      "source": [
        "len(final_seq)"
      ]
    },
    {
      "cell_type": "code",
      "execution_count": null,
      "metadata": {
        "colab": {
          "base_uri": "https://localhost:8080/"
        },
        "id": "0-VIyr4GecQJ",
        "outputId": "f5fe0667-afc9-45fe-9bdb-cc33c1d06d7d"
      },
      "outputs": [
        {
          "data": {
            "text/plain": [
              "array([3939, 3689, 3006, ..., 2520, 2142, 2215], dtype=int32)"
            ]
          },
          "execution_count": 81,
          "metadata": {},
          "output_type": "execute_result"
        }
      ],
      "source": [
        "leninput_sequences[:,-1]"
      ]
    },
    {
      "cell_type": "code",
      "execution_count": null,
      "metadata": {
        "id": "lTe6hv5b_b26"
      },
      "outputs": [],
      "source": [
        "input_sequences = final_seq\n",
        "input_sequences = pad_sequences(input_sequences, maxlen=max_sequence_length, padding='pre')\n",
        "x, y = input_sequences[:, :-1], input_sequences[:, -1]"
      ]
    },
    {
      "cell_type": "code",
      "execution_count": null,
      "metadata": {
        "colab": {
          "base_uri": "https://localhost:8080/"
        },
        "id": "2CXpWUOGgSyh",
        "outputId": "84571515-c29a-45bf-f1c6-0b988809f84c"
      },
      "outputs": [
        {
          "data": {
            "text/plain": [
              "(12446,)"
            ]
          },
          "execution_count": 77,
          "metadata": {},
          "output_type": "execute_result"
        }
      ],
      "source": [
        "y.shape"
      ]
    },
    {
      "cell_type": "code",
      "execution_count": null,
      "metadata": {
        "id": "d-9TnQ6d2UsN"
      },
      "outputs": [],
      "source": [
        "max_sequence_length = max([len(seq) for seq in final_seq])"
      ]
    },
    {
      "cell_type": "code",
      "execution_count": null,
      "metadata": {
        "id": "QOIK_fHQgTTS"
      },
      "outputs": [],
      "source": []
    },
    {
      "cell_type": "markdown",
      "source": [],
      "metadata": {
        "id": "qRZNEjbRZvwP"
      }
    },
    {
      "cell_type": "code",
      "execution_count": null,
      "metadata": {
        "id": "Zi9PWln5vN8-"
      },
      "outputs": [],
      "source": []
    },
    {
      "cell_type": "code",
      "execution_count": null,
      "metadata": {
        "id": "BKSDuVsegTyq"
      },
      "outputs": [],
      "source": [
        "def prepare_traing_data(inp_seq,vocab_size):\n",
        "  vocab_size = vocab_size\n",
        "\n",
        "  input_sequences = inp_seq\n",
        "  max_sequence_length = max([len(seq) for seq in input_sequences])\n",
        "  input_sequences = pad_sequences(input_sequences, maxlen=max_sequence_length, padding='pre')\n",
        "  x, y = input_sequences[:, :-1], input_sequences[:, -1]\n",
        "  y = tf.keras.utils.to_categorical(y, num_classes= vocab_size)\n",
        "\n",
        "  return x,y,max_sequence_length"
      ]
    },
    {
      "cell_type": "code",
      "execution_count": null,
      "metadata": {
        "id": "5vvdVfbyYVE0"
      },
      "outputs": [],
      "source": [
        "x,y,max_sequence_length = prepare_traing_data(final_seq,vocab_size)"
      ]
    },
    {
      "cell_type": "code",
      "execution_count": null,
      "metadata": {
        "id": "UPI8dEC1bSjD"
      },
      "outputs": [],
      "source": []
    },
    {
      "cell_type": "code",
      "execution_count": null,
      "metadata": {
        "id": "XkeCdvOlrz00"
      },
      "outputs": [],
      "source": []
    },
    {
      "cell_type": "code",
      "execution_count": null,
      "metadata": {
        "colab": {
          "base_uri": "https://localhost:8080/"
        },
        "id": "B6c0gKdjljBG",
        "outputId": "ff66b0f5-bf28-438c-f378-1a0baf3eae9e"
      },
      "outputs": [
        {
          "name": "stdout",
          "output_type": "stream",
          "text": [
            "Model: \"sequential_4\"\n",
            "_________________________________________________________________\n",
            " Layer (type)                Output Shape              Param #   \n",
            "=================================================================\n",
            " embedding_4 (Embedding)     (None, 35, 100)           1749000   \n",
            "                                                                 \n",
            " lstm_10 (LSTM)              (None, 35, 100)           80400     \n",
            "                                                                 \n",
            " lstm_11 (LSTM)              (None, 100)               80400     \n",
            "                                                                 \n",
            " batch_normalization_4 (Bat  (None, 100)               400       \n",
            " chNormalization)                                                \n",
            "                                                                 \n",
            " dense_4 (Dense)             (None, 17490)             1766490   \n",
            "                                                                 \n",
            "=================================================================\n",
            "Total params: 3676690 (14.03 MB)\n",
            "Trainable params: 1927490 (7.35 MB)\n",
            "Non-trainable params: 1749200 (6.67 MB)\n",
            "_________________________________________________________________\n",
            "Epoch 1/300\n",
            "294/295 [============================>.] - ETA: 0s - loss: 8.1854 - accuracy: 0.1273"
          ]
        },
        {
          "name": "stderr",
          "output_type": "stream",
          "text": [
            "WARNING:tensorflow:Can save best model only with val_loss available, skipping.\n"
          ]
        },
        {
          "name": "stdout",
          "output_type": "stream",
          "text": [
            "\b\b\b\b\b\b\b\b\b\b\b\b\b\b\b\b\b\b\b\b\b\b\b\b\b\b\b\b\b\b\b\b\b\b\b\b\b\b\b\b\b\b\b\b\b\b\b\b\b\b\b\b\b\b\b\b\b\b\b\b\b\b\b\b\b\b\b\b\b\b\b\b\b\b\b\b\b\b\b\b\b\b\b\b\r295/295 [==============================] - 10s 18ms/step - loss: 8.1841 - accuracy: 0.1272\n",
            "Epoch 2/300\n",
            "295/295 [==============================] - ETA: 0s - loss: 6.6316 - accuracy: 0.1361"
          ]
        },
        {
          "name": "stderr",
          "output_type": "stream",
          "text": [
            "WARNING:tensorflow:Can save best model only with val_loss available, skipping.\n"
          ]
        },
        {
          "name": "stdout",
          "output_type": "stream",
          "text": [
            "\b\b\b\b\b\b\b\b\b\b\b\b\b\b\b\b\b\b\b\b\b\b\b\b\b\b\b\b\b\b\b\b\b\b\b\b\b\b\b\b\b\b\b\b\b\b\b\b\b\b\b\b\b\b\b\b\b\b\b\b\b\b\b\b\b\b\b\b\b\b\b\b\b\b\b\b\b\b\b\b\b\b\b\b\r295/295 [==============================] - 5s 16ms/step - loss: 6.6316 - accuracy: 0.1361\n",
            "Epoch 3/300\n",
            "295/295 [==============================] - ETA: 0s - loss: 6.3205 - accuracy: 0.1433"
          ]
        },
        {
          "name": "stderr",
          "output_type": "stream",
          "text": [
            "WARNING:tensorflow:Can save best model only with val_loss available, skipping.\n"
          ]
        },
        {
          "name": "stdout",
          "output_type": "stream",
          "text": [
            "\b\b\b\b\b\b\b\b\b\b\b\b\b\b\b\b\b\b\b\b\b\b\b\b\b\b\b\b\b\b\b\b\b\b\b\b\b\b\b\b\b\b\b\b\b\b\b\b\b\b\b\b\b\b\b\b\b\b\b\b\b\b\b\b\b\b\b\b\b\b\b\b\b\b\b\b\b\b\b\b\b\b\b\b\r295/295 [==============================] - 5s 16ms/step - loss: 6.3205 - accuracy: 0.1433\n",
            "Epoch 4/300\n",
            "295/295 [==============================] - ETA: 0s - loss: 6.1859 - accuracy: 0.1438"
          ]
        },
        {
          "name": "stderr",
          "output_type": "stream",
          "text": [
            "WARNING:tensorflow:Can save best model only with val_loss available, skipping.\n"
          ]
        },
        {
          "name": "stdout",
          "output_type": "stream",
          "text": [
            "\b\b\b\b\b\b\b\b\b\b\b\b\b\b\b\b\b\b\b\b\b\b\b\b\b\b\b\b\b\b\b\b\b\b\b\b\b\b\b\b\b\b\b\b\b\b\b\b\b\b\b\b\b\b\b\b\b\b\b\b\b\b\b\b\b\b\b\b\b\b\b\b\b\b\b\b\b\b\b\b\b\b\b\b\r295/295 [==============================] - 5s 18ms/step - loss: 6.1859 - accuracy: 0.1438\n",
            "Epoch 5/300\n",
            "292/295 [============================>.] - ETA: 0s - loss: 6.0785 - accuracy: 0.1445"
          ]
        },
        {
          "name": "stderr",
          "output_type": "stream",
          "text": [
            "WARNING:tensorflow:Can save best model only with val_loss available, skipping.\n"
          ]
        },
        {
          "name": "stdout",
          "output_type": "stream",
          "text": [
            "\b\b\b\b\b\b\b\b\b\b\b\b\b\b\b\b\b\b\b\b\b\b\b\b\b\b\b\b\b\b\b\b\b\b\b\b\b\b\b\b\b\b\b\b\b\b\b\b\b\b\b\b\b\b\b\b\b\b\b\b\b\b\b\b\b\b\b\b\b\b\b\b\b\b\b\b\b\b\b\b\b\b\b\b\r295/295 [==============================] - 5s 16ms/step - loss: 6.0766 - accuracy: 0.1447\n",
            "Epoch 6/300\n",
            "295/295 [==============================] - ETA: 0s - loss: 5.9691 - accuracy: 0.1456"
          ]
        },
        {
          "name": "stderr",
          "output_type": "stream",
          "text": [
            "WARNING:tensorflow:Can save best model only with val_loss available, skipping.\n"
          ]
        },
        {
          "name": "stdout",
          "output_type": "stream",
          "text": [
            "\b\b\b\b\b\b\b\b\b\b\b\b\b\b\b\b\b\b\b\b\b\b\b\b\b\b\b\b\b\b\b\b\b\b\b\b\b\b\b\b\b\b\b\b\b\b\b\b\b\b\b\b\b\b\b\b\b\b\b\b\b\b\b\b\b\b\b\b\b\b\b\b\b\b\b\b\b\b\b\b\b\b\b\b\r295/295 [==============================] - 5s 17ms/step - loss: 5.9691 - accuracy: 0.1456\n",
            "Epoch 7/300\n",
            "293/295 [============================>.] - ETA: 0s - loss: 5.8405 - accuracy: 0.1461"
          ]
        },
        {
          "name": "stderr",
          "output_type": "stream",
          "text": [
            "WARNING:tensorflow:Can save best model only with val_loss available, skipping.\n"
          ]
        },
        {
          "name": "stdout",
          "output_type": "stream",
          "text": [
            "\b\b\b\b\b\b\b\b\b\b\b\b\b\b\b\b\b\b\b\b\b\b\b\b\b\b\b\b\b\b\b\b\b\b\b\b\b\b\b\b\b\b\b\b\b\b\b\b\b\b\b\b\b\b\b\b\b\b\b\b\b\b\b\b\b\b\b\b\b\b\b\b\b\b\b\b\b\b\b\b\b\b\b\b\r295/295 [==============================] - 5s 16ms/step - loss: 5.8427 - accuracy: 0.1459\n",
            "Epoch 8/300\n",
            "292/295 [============================>.] - ETA: 0s - loss: 5.7040 - accuracy: 0.1495"
          ]
        },
        {
          "name": "stderr",
          "output_type": "stream",
          "text": [
            "WARNING:tensorflow:Can save best model only with val_loss available, skipping.\n"
          ]
        },
        {
          "name": "stdout",
          "output_type": "stream",
          "text": [
            "\b\b\b\b\b\b\b\b\b\b\b\b\b\b\b\b\b\b\b\b\b\b\b\b\b\b\b\b\b\b\b\b\b\b\b\b\b\b\b\b\b\b\b\b\b\b\b\b\b\b\b\b\b\b\b\b\b\b\b\b\b\b\b\b\b\b\b\b\b\b\b\b\b\b\b\b\b\b\b\b\b\b\b\b\r295/295 [==============================] - 5s 17ms/step - loss: 5.7059 - accuracy: 0.1497\n",
            "Epoch 9/300\n",
            "292/295 [============================>.] - ETA: 0s - loss: 5.5677 - accuracy: 0.1522"
          ]
        },
        {
          "name": "stderr",
          "output_type": "stream",
          "text": [
            "WARNING:tensorflow:Can save best model only with val_loss available, skipping.\n"
          ]
        },
        {
          "name": "stdout",
          "output_type": "stream",
          "text": [
            "\b\b\b\b\b\b\b\b\b\b\b\b\b\b\b\b\b\b\b\b\b\b\b\b\b\b\b\b\b\b\b\b\b\b\b\b\b\b\b\b\b\b\b\b\b\b\b\b\b\b\b\b\b\b\b\b\b\b\b\b\b\b\b\b\b\b\b\b\b\b\b\b\b\b\b\b\b\b\b\b\b\b\b\b\r295/295 [==============================] - 5s 18ms/step - loss: 5.5665 - accuracy: 0.1524\n",
            "Epoch 10/300\n",
            "295/295 [==============================] - ETA: 0s - loss: 5.4242 - accuracy: 0.1583"
          ]
        },
        {
          "name": "stderr",
          "output_type": "stream",
          "text": [
            "WARNING:tensorflow:Can save best model only with val_loss available, skipping.\n"
          ]
        },
        {
          "name": "stdout",
          "output_type": "stream",
          "text": [
            "\b\b\b\b\b\b\b\b\b\b\b\b\b\b\b\b\b\b\b\b\b\b\b\b\b\b\b\b\b\b\b\b\b\b\b\b\b\b\b\b\b\b\b\b\b\b\b\b\b\b\b\b\b\b\b\b\b\b\b\b\b\b\b\b\b\b\b\b\b\b\b\b\b\b\b\b\b\b\b\b\b\b\b\b\r295/295 [==============================] - 5s 16ms/step - loss: 5.4242 - accuracy: 0.1583\n",
            "Epoch 11/300\n",
            "294/295 [============================>.] - ETA: 0s - loss: 5.2824 - accuracy: 0.1606"
          ]
        },
        {
          "name": "stderr",
          "output_type": "stream",
          "text": [
            "WARNING:tensorflow:Can save best model only with val_loss available, skipping.\n"
          ]
        },
        {
          "name": "stdout",
          "output_type": "stream",
          "text": [
            "\b\b\b\b\b\b\b\b\b\b\b\b\b\b\b\b\b\b\b\b\b\b\b\b\b\b\b\b\b\b\b\b\b\b\b\b\b\b\b\b\b\b\b\b\b\b\b\b\b\b\b\b\b\b\b\b\b\b\b\b\b\b\b\b\b\b\b\b\b\b\b\b\b\b\b\b\b\b\b\b\b\b\b\b\r295/295 [==============================] - 5s 17ms/step - loss: 5.2811 - accuracy: 0.1607\n",
            "Epoch 12/300\n",
            "293/295 [============================>.] - ETA: 0s - loss: 5.1374 - accuracy: 0.1647"
          ]
        },
        {
          "name": "stderr",
          "output_type": "stream",
          "text": [
            "WARNING:tensorflow:Can save best model only with val_loss available, skipping.\n"
          ]
        },
        {
          "name": "stdout",
          "output_type": "stream",
          "text": [
            "\b\b\b\b\b\b\b\b\b\b\b\b\b\b\b\b\b\b\b\b\b\b\b\b\b\b\b\b\b\b\b\b\b\b\b\b\b\b\b\b\b\b\b\b\b\b\b\b\b\b\b\b\b\b\b\b\b\b\b\b\b\b\b\b\b\b\b\b\b\b\b\b\b\b\b\b\b\b\b\b\b\b\b\b\r295/295 [==============================] - 5s 16ms/step - loss: 5.1397 - accuracy: 0.1648\n",
            "Epoch 13/300\n",
            "292/295 [============================>.] - ETA: 0s - loss: 4.9990 - accuracy: 0.1698"
          ]
        },
        {
          "name": "stderr",
          "output_type": "stream",
          "text": [
            "WARNING:tensorflow:Can save best model only with val_loss available, skipping.\n"
          ]
        },
        {
          "name": "stdout",
          "output_type": "stream",
          "text": [
            "\b\b\b\b\b\b\b\b\b\b\b\b\b\b\b\b\b\b\b\b\b\b\b\b\b\b\b\b\b\b\b\b\b\b\b\b\b\b\b\b\b\b\b\b\b\b\b\b\b\b\b\b\b\b\b\b\b\b\b\b\b\b\b\b\b\b\b\b\b\b\b\b\b\b\b\b\b\b\b\b\b\b\b\b\r295/295 [==============================] - 5s 16ms/step - loss: 5.0012 - accuracy: 0.1699\n",
            "Epoch 14/300\n",
            "292/295 [============================>.] - ETA: 0s - loss: 4.8623 - accuracy: 0.1764"
          ]
        },
        {
          "name": "stderr",
          "output_type": "stream",
          "text": [
            "WARNING:tensorflow:Can save best model only with val_loss available, skipping.\n"
          ]
        },
        {
          "name": "stdout",
          "output_type": "stream",
          "text": [
            "\b\b\b\b\b\b\b\b\b\b\b\b\b\b\b\b\b\b\b\b\b\b\b\b\b\b\b\b\b\b\b\b\b\b\b\b\b\b\b\b\b\b\b\b\b\b\b\b\b\b\b\b\b\b\b\b\b\b\b\b\b\b\b\b\b\b\b\b\b\b\b\b\b\b\b\b\b\b\b\b\b\b\b\b\r295/295 [==============================] - 5s 17ms/step - loss: 4.8637 - accuracy: 0.1766\n",
            "Epoch 15/300\n",
            "294/295 [============================>.] - ETA: 0s - loss: 4.7345 - accuracy: 0.1835"
          ]
        },
        {
          "name": "stderr",
          "output_type": "stream",
          "text": [
            "WARNING:tensorflow:Can save best model only with val_loss available, skipping.\n"
          ]
        },
        {
          "name": "stdout",
          "output_type": "stream",
          "text": [
            "\b\b\b\b\b\b\b\b\b\b\b\b\b\b\b\b\b\b\b\b\b\b\b\b\b\b\b\b\b\b\b\b\b\b\b\b\b\b\b\b\b\b\b\b\b\b\b\b\b\b\b\b\b\b\b\b\b\b\b\b\b\b\b\b\b\b\b\b\b\b\b\b\b\b\b\b\b\b\b\b\b\b\b\b\r295/295 [==============================] - 5s 16ms/step - loss: 4.7341 - accuracy: 0.1837\n",
            "Epoch 16/300\n",
            "294/295 [============================>.] - ETA: 0s - loss: 4.6029 - accuracy: 0.1941"
          ]
        },
        {
          "name": "stderr",
          "output_type": "stream",
          "text": [
            "WARNING:tensorflow:Can save best model only with val_loss available, skipping.\n"
          ]
        },
        {
          "name": "stdout",
          "output_type": "stream",
          "text": [
            "\b\b\b\b\b\b\b\b\b\b\b\b\b\b\b\b\b\b\b\b\b\b\b\b\b\b\b\b\b\b\b\b\b\b\b\b\b\b\b\b\b\b\b\b\b\b\b\b\b\b\b\b\b\b\b\b\b\b\b\b\b\b\b\b\b\b\b\b\b\b\b\b\b\b\b\b\b\b\b\b\b\b\b\b\r295/295 [==============================] - 5s 17ms/step - loss: 4.6037 - accuracy: 0.1940\n",
            "Epoch 17/300\n",
            "293/295 [============================>.] - ETA: 0s - loss: 4.4803 - accuracy: 0.2028"
          ]
        },
        {
          "name": "stderr",
          "output_type": "stream",
          "text": [
            "WARNING:tensorflow:Can save best model only with val_loss available, skipping.\n"
          ]
        },
        {
          "name": "stdout",
          "output_type": "stream",
          "text": [
            "\b\b\b\b\b\b\b\b\b\b\b\b\b\b\b\b\b\b\b\b\b\b\b\b\b\b\b\b\b\b\b\b\b\b\b\b\b\b\b\b\b\b\b\b\b\b\b\b\b\b\b\b\b\b\b\b\b\b\b\b\b\b\b\b\b\b\b\b\b\b\b\b\b\b\b\b\b\b\b\b\b\b\b\b\r295/295 [==============================] - 5s 17ms/step - loss: 4.4837 - accuracy: 0.2025\n",
            "Epoch 18/300\n",
            "293/295 [============================>.] - ETA: 0s - loss: 4.3597 - accuracy: 0.2141"
          ]
        },
        {
          "name": "stderr",
          "output_type": "stream",
          "text": [
            "WARNING:tensorflow:Can save best model only with val_loss available, skipping.\n"
          ]
        },
        {
          "name": "stdout",
          "output_type": "stream",
          "text": [
            "\b\b\b\b\b\b\b\b\b\b\b\b\b\b\b\b\b\b\b\b\b\b\b\b\b\b\b\b\b\b\b\b\b\b\b\b\b\b\b\b\b\b\b\b\b\b\b\b\b\b\b\b\b\b\b\b\b\b\b\b\b\b\b\b\b\b\b\b\b\b\b\b\b\b\b\b\b\b\b\b\b\b\b\b\r295/295 [==============================] - 5s 16ms/step - loss: 4.3612 - accuracy: 0.2139\n",
            "Epoch 19/300\n",
            "293/295 [============================>.] - ETA: 0s - loss: 4.2506 - accuracy: 0.2263"
          ]
        },
        {
          "name": "stderr",
          "output_type": "stream",
          "text": [
            "WARNING:tensorflow:Can save best model only with val_loss available, skipping.\n"
          ]
        },
        {
          "name": "stdout",
          "output_type": "stream",
          "text": [
            "\b\b\b\b\b\b\b\b\b\b\b\b\b\b\b\b\b\b\b\b\b\b\b\b\b\b\b\b\b\b\b\b\b\b\b\b\b\b\b\b\b\b\b\b\b\b\b\b\b\b\b\b\b\b\b\b\b\b\b\b\b\b\b\b\b\b\b\b\b\b\b\b\b\b\b\b\b\b\b\b\b\b\b\b\r295/295 [==============================] - 5s 18ms/step - loss: 4.2519 - accuracy: 0.2263\n",
            "Epoch 20/300\n",
            "294/295 [============================>.] - ETA: 0s - loss: 4.1440 - accuracy: 0.2354"
          ]
        },
        {
          "name": "stderr",
          "output_type": "stream",
          "text": [
            "WARNING:tensorflow:Can save best model only with val_loss available, skipping.\n"
          ]
        },
        {
          "name": "stdout",
          "output_type": "stream",
          "text": [
            "\b\b\b\b\b\b\b\b\b\b\b\b\b\b\b\b\b\b\b\b\b\b\b\b\b\b\b\b\b\b\b\b\b\b\b\b\b\b\b\b\b\b\b\b\b\b\b\b\b\b\b\b\b\b\b\b\b\b\b\b\b\b\b\b\b\b\b\b\b\b\b\b\b\b\b\b\b\b\b\b\b\b\b\b\r295/295 [==============================] - 5s 16ms/step - loss: 4.1459 - accuracy: 0.2353\n",
            "Epoch 21/300\n",
            "295/295 [==============================] - ETA: 0s - loss: 4.0404 - accuracy: 0.2514"
          ]
        },
        {
          "name": "stderr",
          "output_type": "stream",
          "text": [
            "WARNING:tensorflow:Can save best model only with val_loss available, skipping.\n"
          ]
        },
        {
          "name": "stdout",
          "output_type": "stream",
          "text": [
            "\b\b\b\b\b\b\b\b\b\b\b\b\b\b\b\b\b\b\b\b\b\b\b\b\b\b\b\b\b\b\b\b\b\b\b\b\b\b\b\b\b\b\b\b\b\b\b\b\b\b\b\b\b\b\b\b\b\b\b\b\b\b\b\b\b\b\b\b\b\b\b\b\b\b\b\b\b\b\b\b\b\b\b\b\r295/295 [==============================] - 5s 17ms/step - loss: 4.0404 - accuracy: 0.2514\n",
            "Epoch 22/300\n",
            "294/295 [============================>.] - ETA: 0s - loss: 3.9424 - accuracy: 0.2649"
          ]
        },
        {
          "name": "stderr",
          "output_type": "stream",
          "text": [
            "WARNING:tensorflow:Can save best model only with val_loss available, skipping.\n"
          ]
        },
        {
          "name": "stdout",
          "output_type": "stream",
          "text": [
            "\b\b\b\b\b\b\b\b\b\b\b\b\b\b\b\b\b\b\b\b\b\b\b\b\b\b\b\b\b\b\b\b\b\b\b\b\b\b\b\b\b\b\b\b\b\b\b\b\b\b\b\b\b\b\b\b\b\b\b\b\b\b\b\b\b\b\b\b\b\b\b\b\b\b\b\b\b\b\b\b\b\b\b\b\r295/295 [==============================] - 5s 17ms/step - loss: 3.9424 - accuracy: 0.2651\n",
            "Epoch 23/300\n",
            "294/295 [============================>.] - ETA: 0s - loss: 3.8503 - accuracy: 0.2780"
          ]
        },
        {
          "name": "stderr",
          "output_type": "stream",
          "text": [
            "WARNING:tensorflow:Can save best model only with val_loss available, skipping.\n"
          ]
        },
        {
          "name": "stdout",
          "output_type": "stream",
          "text": [
            "\b\b\b\b\b\b\b\b\b\b\b\b\b\b\b\b\b\b\b\b\b\b\b\b\b\b\b\b\b\b\b\b\b\b\b\b\b\b\b\b\b\b\b\b\b\b\b\b\b\b\b\b\b\b\b\b\b\b\b\b\b\b\b\b\b\b\b\b\b\b\b\b\b\b\b\b\b\b\b\b\b\b\b\b\r295/295 [==============================] - 5s 16ms/step - loss: 3.8502 - accuracy: 0.2779\n",
            "Epoch 24/300\n",
            "293/295 [============================>.] - ETA: 0s - loss: 3.7536 - accuracy: 0.2920"
          ]
        },
        {
          "name": "stderr",
          "output_type": "stream",
          "text": [
            "WARNING:tensorflow:Can save best model only with val_loss available, skipping.\n"
          ]
        },
        {
          "name": "stdout",
          "output_type": "stream",
          "text": [
            "\b\b\b\b\b\b\b\b\b\b\b\b\b\b\b\b\b\b\b\b\b\b\b\b\b\b\b\b\b\b\b\b\b\b\b\b\b\b\b\b\b\b\b\b\b\b\b\b\b\b\b\b\b\b\b\b\b\b\b\b\b\b\b\b\b\b\b\b\b\b\b\b\b\b\b\b\b\b\b\b\b\b\b\b\r295/295 [==============================] - 5s 18ms/step - loss: 3.7551 - accuracy: 0.2916\n",
            "Epoch 25/300\n",
            "293/295 [============================>.] - ETA: 0s - loss: 3.6790 - accuracy: 0.3023"
          ]
        },
        {
          "name": "stderr",
          "output_type": "stream",
          "text": [
            "WARNING:tensorflow:Can save best model only with val_loss available, skipping.\n"
          ]
        },
        {
          "name": "stdout",
          "output_type": "stream",
          "text": [
            "\b\b\b\b\b\b\b\b\b\b\b\b\b\b\b\b\b\b\b\b\b\b\b\b\b\b\b\b\b\b\b\b\b\b\b\b\b\b\b\b\b\b\b\b\b\b\b\b\b\b\b\b\b\b\b\b\b\b\b\b\b\b\b\b\b\b\b\b\b\b\b\b\b\b\b\b\b\b\b\b\b\b\b\b\r295/295 [==============================] - 5s 16ms/step - loss: 3.6795 - accuracy: 0.3021\n",
            "Epoch 26/300\n",
            "295/295 [==============================] - ETA: 0s - loss: 3.5912 - accuracy: 0.3147"
          ]
        },
        {
          "name": "stderr",
          "output_type": "stream",
          "text": [
            "WARNING:tensorflow:Can save best model only with val_loss available, skipping.\n"
          ]
        },
        {
          "name": "stdout",
          "output_type": "stream",
          "text": [
            "\b\b\b\b\b\b\b\b\b\b\b\b\b\b\b\b\b\b\b\b\b\b\b\b\b\b\b\b\b\b\b\b\b\b\b\b\b\b\b\b\b\b\b\b\b\b\b\b\b\b\b\b\b\b\b\b\b\b\b\b\b\b\b\b\b\b\b\b\b\b\b\b\b\b\b\b\b\b\b\b\b\b\b\b\r295/295 [==============================] - 5s 17ms/step - loss: 3.5912 - accuracy: 0.3147\n",
            "Epoch 27/300\n",
            "294/295 [============================>.] - ETA: 0s - loss: 3.5083 - accuracy: 0.3259"
          ]
        },
        {
          "name": "stderr",
          "output_type": "stream",
          "text": [
            "WARNING:tensorflow:Can save best model only with val_loss available, skipping.\n"
          ]
        },
        {
          "name": "stdout",
          "output_type": "stream",
          "text": [
            "\b\b\b\b\b\b\b\b\b\b\b\b\b\b\b\b\b\b\b\b\b\b\b\b\b\b\b\b\b\b\b\b\b\b\b\b\b\b\b\b\b\b\b\b\b\b\b\b\b\b\b\b\b\b\b\b\b\b\b\b\b\b\b\b\b\b\b\b\b\b\b\b\b\b\b\b\b\b\b\b\b\b\b\b\r295/295 [==============================] - 5s 17ms/step - loss: 3.5088 - accuracy: 0.3260\n",
            "Epoch 28/300\n",
            "292/295 [============================>.] - ETA: 0s - loss: 3.4384 - accuracy: 0.3362"
          ]
        },
        {
          "name": "stderr",
          "output_type": "stream",
          "text": [
            "WARNING:tensorflow:Can save best model only with val_loss available, skipping.\n"
          ]
        },
        {
          "name": "stdout",
          "output_type": "stream",
          "text": [
            "\b\b\b\b\b\b\b\b\b\b\b\b\b\b\b\b\b\b\b\b\b\b\b\b\b\b\b\b\b\b\b\b\b\b\b\b\b\b\b\b\b\b\b\b\b\b\b\b\b\b\b\b\b\b\b\b\b\b\b\b\b\b\b\b\b\b\b\b\b\b\b\b\b\b\b\b\b\b\b\b\b\b\b\b\r295/295 [==============================] - 5s 16ms/step - loss: 3.4385 - accuracy: 0.3362\n",
            "Epoch 29/300\n",
            "293/295 [============================>.] - ETA: 0s - loss: 3.3509 - accuracy: 0.3508"
          ]
        },
        {
          "name": "stderr",
          "output_type": "stream",
          "text": [
            "WARNING:tensorflow:Can save best model only with val_loss available, skipping.\n"
          ]
        },
        {
          "name": "stdout",
          "output_type": "stream",
          "text": [
            "\b\b\b\b\b\b\b\b\b\b\b\b\b\b\b\b\b\b\b\b\b\b\b\b\b\b\b\b\b\b\b\b\b\b\b\b\b\b\b\b\b\b\b\b\b\b\b\b\b\b\b\b\b\b\b\b\b\b\b\b\b\b\b\b\b\b\b\b\b\b\b\b\b\b\b\b\b\b\b\b\b\b\b\b\r295/295 [==============================] - 5s 18ms/step - loss: 3.3540 - accuracy: 0.3504\n",
            "Epoch 30/300\n",
            "292/295 [============================>.] - ETA: 0s - loss: 3.2813 - accuracy: 0.3594"
          ]
        },
        {
          "name": "stderr",
          "output_type": "stream",
          "text": [
            "WARNING:tensorflow:Can save best model only with val_loss available, skipping.\n"
          ]
        },
        {
          "name": "stdout",
          "output_type": "stream",
          "text": [
            "\b\b\b\b\b\b\b\b\b\b\b\b\b\b\b\b\b\b\b\b\b\b\b\b\b\b\b\b\b\b\b\b\b\b\b\b\b\b\b\b\b\b\b\b\b\b\b\b\b\b\b\b\b\b\b\b\b\b\b\b\b\b\b\b\b\b\b\b\b\b\b\b\b\b\b\b\b\b\b\b\b\b\b\b\r295/295 [==============================] - 5s 16ms/step - loss: 3.2837 - accuracy: 0.3591\n",
            "Epoch 31/300\n",
            "293/295 [============================>.] - ETA: 0s - loss: 3.2085 - accuracy: 0.3741"
          ]
        },
        {
          "name": "stderr",
          "output_type": "stream",
          "text": [
            "WARNING:tensorflow:Can save best model only with val_loss available, skipping.\n"
          ]
        },
        {
          "name": "stdout",
          "output_type": "stream",
          "text": [
            "\b\b\b\b\b\b\b\b\b\b\b\b\b\b\b\b\b\b\b\b\b\b\b\b\b\b\b\b\b\b\b\b\b\b\b\b\b\b\b\b\b\b\b\b\b\b\b\b\b\b\b\b\b\b\b\b\b\b\b\b\b\b\b\b\b\b\b\b\b\b\b\b\b\b\b\b\b\b\b\b\b\b\b\b\r295/295 [==============================] - 5s 17ms/step - loss: 3.2103 - accuracy: 0.3739\n",
            "Epoch 32/300\n",
            "294/295 [============================>.] - ETA: 0s - loss: 3.1490 - accuracy: 0.3817"
          ]
        },
        {
          "name": "stderr",
          "output_type": "stream",
          "text": [
            "WARNING:tensorflow:Can save best model only with val_loss available, skipping.\n"
          ]
        },
        {
          "name": "stdout",
          "output_type": "stream",
          "text": [
            "\b\b\b\b\b\b\b\b\b\b\b\b\b\b\b\b\b\b\b\b\b\b\b\b\b\b\b\b\b\b\b\b\b\b\b\b\b\b\b\b\b\b\b\b\b\b\b\b\b\b\b\b\b\b\b\b\b\b\b\b\b\b\b\b\b\b\b\b\b\b\b\b\b\b\b\b\b\b\b\b\b\b\b\b\r295/295 [==============================] - 5s 17ms/step - loss: 3.1493 - accuracy: 0.3817\n",
            "Epoch 33/300\n",
            "295/295 [==============================] - ETA: 0s - loss: 3.0872 - accuracy: 0.3900"
          ]
        },
        {
          "name": "stderr",
          "output_type": "stream",
          "text": [
            "WARNING:tensorflow:Can save best model only with val_loss available, skipping.\n"
          ]
        },
        {
          "name": "stdout",
          "output_type": "stream",
          "text": [
            "\b\b\b\b\b\b\b\b\b\b\b\b\b\b\b\b\b\b\b\b\b\b\b\b\b\b\b\b\b\b\b\b\b\b\b\b\b\b\b\b\b\b\b\b\b\b\b\b\b\b\b\b\b\b\b\b\b\b\b\b\b\b\b\b\b\b\b\b\b\b\b\b\b\b\b\b\b\b\b\b\b\b\b\b\r295/295 [==============================] - 5s 16ms/step - loss: 3.0872 - accuracy: 0.3900\n",
            "Epoch 34/300\n",
            "292/295 [============================>.] - ETA: 0s - loss: 3.0272 - accuracy: 0.4017"
          ]
        },
        {
          "name": "stderr",
          "output_type": "stream",
          "text": [
            "WARNING:tensorflow:Can save best model only with val_loss available, skipping.\n"
          ]
        },
        {
          "name": "stdout",
          "output_type": "stream",
          "text": [
            "\b\b\b\b\b\b\b\b\b\b\b\b\b\b\b\b\b\b\b\b\b\b\b\b\b\b\b\b\b\b\b\b\b\b\b\b\b\b\b\b\b\b\b\b\b\b\b\b\b\b\b\b\b\b\b\b\b\b\b\b\b\b\b\b\b\b\b\b\b\b\b\b\b\b\b\b\b\b\b\b\b\b\b\b\r295/295 [==============================] - 5s 17ms/step - loss: 3.0269 - accuracy: 0.4016\n",
            "Epoch 35/300\n",
            "295/295 [==============================] - ETA: 0s - loss: 2.9723 - accuracy: 0.4080"
          ]
        },
        {
          "name": "stderr",
          "output_type": "stream",
          "text": [
            "WARNING:tensorflow:Can save best model only with val_loss available, skipping.\n"
          ]
        },
        {
          "name": "stdout",
          "output_type": "stream",
          "text": [
            "\b\b\b\b\b\b\b\b\b\b\b\b\b\b\b\b\b\b\b\b\b\b\b\b\b\b\b\b\b\b\b\b\b\b\b\b\b\b\b\b\b\b\b\b\b\b\b\b\b\b\b\b\b\b\b\b\b\b\b\b\b\b\b\b\b\b\b\b\b\b\b\b\b\b\b\b\b\b\b\b\b\b\b\b\r295/295 [==============================] - 5s 16ms/step - loss: 2.9723 - accuracy: 0.4080\n",
            "Epoch 36/300\n",
            "295/295 [==============================] - ETA: 0s - loss: 2.9100 - accuracy: 0.4167"
          ]
        },
        {
          "name": "stderr",
          "output_type": "stream",
          "text": [
            "WARNING:tensorflow:Can save best model only with val_loss available, skipping.\n"
          ]
        },
        {
          "name": "stdout",
          "output_type": "stream",
          "text": [
            "\b\b\b\b\b\b\b\b\b\b\b\b\b\b\b\b\b\b\b\b\b\b\b\b\b\b\b\b\b\b\b\b\b\b\b\b\b\b\b\b\b\b\b\b\b\b\b\b\b\b\b\b\b\b\b\b\b\b\b\b\b\b\b\b\b\b\b\b\b\b\b\b\b\b\b\b\b\b\b\b\b\b\b\b\r295/295 [==============================] - 5s 16ms/step - loss: 2.9100 - accuracy: 0.4167\n",
            "Epoch 37/300\n",
            "295/295 [==============================] - ETA: 0s - loss: 2.8587 - accuracy: 0.4253"
          ]
        },
        {
          "name": "stderr",
          "output_type": "stream",
          "text": [
            "WARNING:tensorflow:Can save best model only with val_loss available, skipping.\n"
          ]
        },
        {
          "name": "stdout",
          "output_type": "stream",
          "text": [
            "\b\b\b\b\b\b\b\b\b\b\b\b\b\b\b\b\b\b\b\b\b\b\b\b\b\b\b\b\b\b\b\b\b\b\b\b\b\b\b\b\b\b\b\b\b\b\b\b\b\b\b\b\b\b\b\b\b\b\b\b\b\b\b\b\b\b\b\b\b\b\b\b\b\b\b\b\b\b\b\b\b\b\b\b\r295/295 [==============================] - 5s 17ms/step - loss: 2.8587 - accuracy: 0.4253\n",
            "Epoch 38/300\n",
            "293/295 [============================>.] - ETA: 0s - loss: 2.7867 - accuracy: 0.4358"
          ]
        },
        {
          "name": "stderr",
          "output_type": "stream",
          "text": [
            "WARNING:tensorflow:Can save best model only with val_loss available, skipping.\n"
          ]
        },
        {
          "name": "stdout",
          "output_type": "stream",
          "text": [
            "\b\b\b\b\b\b\b\b\b\b\b\b\b\b\b\b\b\b\b\b\b\b\b\b\b\b\b\b\b\b\b\b\b\b\b\b\b\b\b\b\b\b\b\b\b\b\b\b\b\b\b\b\b\b\b\b\b\b\b\b\b\b\b\b\b\b\b\b\b\b\b\b\b\b\b\b\b\b\b\b\b\b\b\b\r295/295 [==============================] - 5s 16ms/step - loss: 2.7887 - accuracy: 0.4356\n",
            "Epoch 39/300\n",
            "295/295 [==============================] - ETA: 0s - loss: 2.7288 - accuracy: 0.4432"
          ]
        },
        {
          "name": "stderr",
          "output_type": "stream",
          "text": [
            "WARNING:tensorflow:Can save best model only with val_loss available, skipping.\n"
          ]
        },
        {
          "name": "stdout",
          "output_type": "stream",
          "text": [
            "\b\b\b\b\b\b\b\b\b\b\b\b\b\b\b\b\b\b\b\b\b\b\b\b\b\b\b\b\b\b\b\b\b\b\b\b\b\b\b\b\b\b\b\b\b\b\b\b\b\b\b\b\b\b\b\b\b\b\b\b\b\b\b\b\b\b\b\b\b\b\b\b\b\b\b\b\b\b\b\b\b\b\b\b\r295/295 [==============================] - 5s 17ms/step - loss: 2.7288 - accuracy: 0.4432\n",
            "Epoch 40/300\n",
            "295/295 [==============================] - ETA: 0s - loss: 2.6744 - accuracy: 0.4540"
          ]
        },
        {
          "name": "stderr",
          "output_type": "stream",
          "text": [
            "WARNING:tensorflow:Can save best model only with val_loss available, skipping.\n"
          ]
        },
        {
          "name": "stdout",
          "output_type": "stream",
          "text": [
            "\b\b\b\b\b\b\b\b\b\b\b\b\b\b\b\b\b\b\b\b\b\b\b\b\b\b\b\b\b\b\b\b\b\b\b\b\b\b\b\b\b\b\b\b\b\b\b\b\b\b\b\b\b\b\b\b\b\b\b\b\b\b\b\b\b\b\b\b\b\b\b\b\b\b\b\b\b\b\b\b\b\b\b\b\r295/295 [==============================] - 5s 16ms/step - loss: 2.6744 - accuracy: 0.4540\n",
            "Epoch 41/300\n",
            "293/295 [============================>.] - ETA: 0s - loss: 2.6321 - accuracy: 0.4604"
          ]
        },
        {
          "name": "stderr",
          "output_type": "stream",
          "text": [
            "WARNING:tensorflow:Can save best model only with val_loss available, skipping.\n"
          ]
        },
        {
          "name": "stdout",
          "output_type": "stream",
          "text": [
            "\b\b\b\b\b\b\b\b\b\b\b\b\b\b\b\b\b\b\b\b\b\b\b\b\b\b\b\b\b\b\b\b\b\b\b\b\b\b\b\b\b\b\b\b\b\b\b\b\b\b\b\b\b\b\b\b\b\b\b\b\b\b\b\b\b\b\b\b\b\b\b\b\b\b\b\b\b\b\b\b\b\b\b\b\r295/295 [==============================] - 5s 16ms/step - loss: 2.6350 - accuracy: 0.4600\n",
            "Epoch 42/300\n",
            "293/295 [============================>.] - ETA: 0s - loss: 2.5540 - accuracy: 0.4772"
          ]
        },
        {
          "name": "stderr",
          "output_type": "stream",
          "text": [
            "WARNING:tensorflow:Can save best model only with val_loss available, skipping.\n"
          ]
        },
        {
          "name": "stdout",
          "output_type": "stream",
          "text": [
            "\b\b\b\b\b\b\b\b\b\b\b\b\b\b\b\b\b\b\b\b\b\b\b\b\b\b\b\b\b\b\b\b\b\b\b\b\b\b\b\b\b\b\b\b\b\b\b\b\b\b\b\b\b\b\b\b\b\b\b\b\b\b\b\b\b\b\b\b\b\b\b\b\b\b\b\b\b\b\b\b\b\b\b\b\r295/295 [==============================] - 5s 18ms/step - loss: 2.5581 - accuracy: 0.4766\n",
            "Epoch 43/300\n",
            "294/295 [============================>.] - ETA: 0s - loss: 2.5151 - accuracy: 0.4775"
          ]
        },
        {
          "name": "stderr",
          "output_type": "stream",
          "text": [
            "WARNING:tensorflow:Can save best model only with val_loss available, skipping.\n"
          ]
        },
        {
          "name": "stdout",
          "output_type": "stream",
          "text": [
            "\b\b\b\b\b\b\b\b\b\b\b\b\b\b\b\b\b\b\b\b\b\b\b\b\b\b\b\b\b\b\b\b\b\b\b\b\b\b\b\b\b\b\b\b\b\b\b\b\b\b\b\b\b\b\b\b\b\b\b\b\b\b\b\b\b\b\b\b\b\b\b\b\b\b\b\b\b\b\b\b\b\b\b\b\r295/295 [==============================] - 5s 16ms/step - loss: 2.5164 - accuracy: 0.4773\n",
            "Epoch 44/300\n",
            "292/295 [============================>.] - ETA: 0s - loss: 2.4554 - accuracy: 0.4949"
          ]
        },
        {
          "name": "stderr",
          "output_type": "stream",
          "text": [
            "WARNING:tensorflow:Can save best model only with val_loss available, skipping.\n"
          ]
        },
        {
          "name": "stdout",
          "output_type": "stream",
          "text": [
            "\b\b\b\b\b\b\b\b\b\b\b\b\b\b\b\b\b\b\b\b\b\b\b\b\b\b\b\b\b\b\b\b\b\b\b\b\b\b\b\b\b\b\b\b\b\b\b\b\b\b\b\b\b\b\b\b\b\b\b\b\b\b\b\b\b\b\b\b\b\b\b\b\b\b\b\b\b\b\b\b\b\b\b\b\r295/295 [==============================] - 5s 18ms/step - loss: 2.4551 - accuracy: 0.4949\n",
            "Epoch 45/300\n",
            "293/295 [============================>.] - ETA: 0s - loss: 2.4139 - accuracy: 0.4966"
          ]
        },
        {
          "name": "stderr",
          "output_type": "stream",
          "text": [
            "WARNING:tensorflow:Can save best model only with val_loss available, skipping.\n"
          ]
        },
        {
          "name": "stdout",
          "output_type": "stream",
          "text": [
            "\b\b\b\b\b\b\b\b\b\b\b\b\b\b\b\b\b\b\b\b\b\b\b\b\b\b\b\b\b\b\b\b\b\b\b\b\b\b\b\b\b\b\b\b\b\b\b\b\b\b\b\b\b\b\b\b\b\b\b\b\b\b\b\b\b\b\b\b\b\b\b\b\b\b\b\b\b\b\b\b\b\b\b\b\r295/295 [==============================] - 5s 16ms/step - loss: 2.4141 - accuracy: 0.4964\n",
            "Epoch 46/300\n",
            "294/295 [============================>.] - ETA: 0s - loss: 2.3506 - accuracy: 0.5074"
          ]
        },
        {
          "name": "stderr",
          "output_type": "stream",
          "text": [
            "WARNING:tensorflow:Can save best model only with val_loss available, skipping.\n"
          ]
        },
        {
          "name": "stdout",
          "output_type": "stream",
          "text": [
            "\b\b\b\b\b\b\b\b\b\b\b\b\b\b\b\b\b\b\b\b\b\b\b\b\b\b\b\b\b\b\b\b\b\b\b\b\b\b\b\b\b\b\b\b\b\b\b\b\b\b\b\b\b\b\b\b\b\b\b\b\b\b\b\b\b\b\b\b\b\b\b\b\b\b\b\b\b\b\b\b\b\b\b\b\r295/295 [==============================] - 5s 16ms/step - loss: 2.3516 - accuracy: 0.5072\n",
            "Epoch 47/300\n",
            "294/295 [============================>.] - ETA: 0s - loss: 2.3012 - accuracy: 0.5197"
          ]
        },
        {
          "name": "stderr",
          "output_type": "stream",
          "text": [
            "WARNING:tensorflow:Can save best model only with val_loss available, skipping.\n"
          ]
        },
        {
          "name": "stdout",
          "output_type": "stream",
          "text": [
            "\b\b\b\b\b\b\b\b\b\b\b\b\b\b\b\b\b\b\b\b\b\b\b\b\b\b\b\b\b\b\b\b\b\b\b\b\b\b\b\b\b\b\b\b\b\b\b\b\b\b\b\b\b\b\b\b\b\b\b\b\b\b\b\b\b\b\b\b\b\b\b\b\b\b\b\b\b\b\b\b\b\b\b\b\r295/295 [==============================] - 5s 18ms/step - loss: 2.3018 - accuracy: 0.5196\n",
            "Epoch 48/300\n",
            "293/295 [============================>.] - ETA: 0s - loss: 2.2635 - accuracy: 0.5241"
          ]
        },
        {
          "name": "stderr",
          "output_type": "stream",
          "text": [
            "WARNING:tensorflow:Can save best model only with val_loss available, skipping.\n"
          ]
        },
        {
          "name": "stdout",
          "output_type": "stream",
          "text": [
            "\b\b\b\b\b\b\b\b\b\b\b\b\b\b\b\b\b\b\b\b\b\b\b\b\b\b\b\b\b\b\b\b\b\b\b\b\b\b\b\b\b\b\b\b\b\b\b\b\b\b\b\b\b\b\b\b\b\b\b\b\b\b\b\b\b\b\b\b\b\b\b\b\b\b\b\b\b\b\b\b\b\b\b\b\r295/295 [==============================] - 5s 16ms/step - loss: 2.2666 - accuracy: 0.5236\n",
            "Epoch 49/300\n",
            "292/295 [============================>.] - ETA: 0s - loss: 2.2165 - accuracy: 0.5322"
          ]
        },
        {
          "name": "stderr",
          "output_type": "stream",
          "text": [
            "WARNING:tensorflow:Can save best model only with val_loss available, skipping.\n"
          ]
        },
        {
          "name": "stdout",
          "output_type": "stream",
          "text": [
            "\b\b\b\b\b\b\b\b\b\b\b\b\b\b\b\b\b\b\b\b\b\b\b\b\b\b\b\b\b\b\b\b\b\b\b\b\b\b\b\b\b\b\b\b\b\b\b\b\b\b\b\b\b\b\b\b\b\b\b\b\b\b\b\b\b\b\b\b\b\b\b\b\b\b\b\b\b\b\b\b\b\b\b\b\r295/295 [==============================] - 5s 17ms/step - loss: 2.2166 - accuracy: 0.5323\n",
            "Epoch 50/300\n",
            "294/295 [============================>.] - ETA: 0s - loss: 2.1642 - accuracy: 0.5462"
          ]
        },
        {
          "name": "stderr",
          "output_type": "stream",
          "text": [
            "WARNING:tensorflow:Can save best model only with val_loss available, skipping.\n"
          ]
        },
        {
          "name": "stdout",
          "output_type": "stream",
          "text": [
            "\b\b\b\b\b\b\b\b\b\b\b\b\b\b\b\b\b\b\b\b\b\b\b\b\b\b\b\b\b\b\b\b\b\b\b\b\b\b\b\b\b\b\b\b\b\b\b\b\b\b\b\b\b\b\b\b\b\b\b\b\b\b\b\b\b\b\b\b\b\b\b\b\b\b\b\b\b\b\b\b\b\b\b\b\r295/295 [==============================] - 5s 16ms/step - loss: 2.1636 - accuracy: 0.5461\n",
            "Epoch 51/300\n",
            "295/295 [==============================] - ETA: 0s - loss: 2.1252 - accuracy: 0.5492"
          ]
        },
        {
          "name": "stderr",
          "output_type": "stream",
          "text": [
            "WARNING:tensorflow:Can save best model only with val_loss available, skipping.\n"
          ]
        },
        {
          "name": "stdout",
          "output_type": "stream",
          "text": [
            "\b\b\b\b\b\b\b\b\b\b\b\b\b\b\b\b\b\b\b\b\b\b\b\b\b\b\b\b\b\b\b\b\b\b\b\b\b\b\b\b\b\b\b\b\b\b\b\b\b\b\b\b\b\b\b\b\b\b\b\b\b\b\b\b\b\b\b\b\b\b\b\b\b\b\b\b\b\b\b\b\b\b\b\b\r295/295 [==============================] - 5s 16ms/step - loss: 2.1252 - accuracy: 0.5492\n",
            "Epoch 52/300\n",
            "293/295 [============================>.] - ETA: 0s - loss: 2.0875 - accuracy: 0.5553"
          ]
        },
        {
          "name": "stderr",
          "output_type": "stream",
          "text": [
            "WARNING:tensorflow:Can save best model only with val_loss available, skipping.\n"
          ]
        },
        {
          "name": "stdout",
          "output_type": "stream",
          "text": [
            "\b\b\b\b\b\b\b\b\b\b\b\b\b\b\b\b\b\b\b\b\b\b\b\b\b\b\b\b\b\b\b\b\b\b\b\b\b\b\b\b\b\b\b\b\b\b\b\b\b\b\b\b\b\b\b\b\b\b\b\b\b\b\b\b\b\b\b\b\b\b\b\b\b\b\b\b\b\b\b\b\b\b\b\b\r295/295 [==============================] - 5s 17ms/step - loss: 2.0878 - accuracy: 0.5551\n",
            "Epoch 53/300\n",
            "294/295 [============================>.] - ETA: 0s - loss: 2.0377 - accuracy: 0.5664"
          ]
        },
        {
          "name": "stderr",
          "output_type": "stream",
          "text": [
            "WARNING:tensorflow:Can save best model only with val_loss available, skipping.\n"
          ]
        },
        {
          "name": "stdout",
          "output_type": "stream",
          "text": [
            "\b\b\b\b\b\b\b\b\b\b\b\b\b\b\b\b\b\b\b\b\b\b\b\b\b\b\b\b\b\b\b\b\b\b\b\b\b\b\b\b\b\b\b\b\b\b\b\b\b\b\b\b\b\b\b\b\b\b\b\b\b\b\b\b\b\b\b\b\b\b\b\b\b\b\b\b\b\b\b\b\b\b\b\b\r295/295 [==============================] - 5s 16ms/step - loss: 2.0379 - accuracy: 0.5667\n",
            "Epoch 54/300\n",
            "295/295 [==============================] - ETA: 0s - loss: 1.9801 - accuracy: 0.5794"
          ]
        },
        {
          "name": "stderr",
          "output_type": "stream",
          "text": [
            "WARNING:tensorflow:Can save best model only with val_loss available, skipping.\n"
          ]
        },
        {
          "name": "stdout",
          "output_type": "stream",
          "text": [
            "\b\b\b\b\b\b\b\b\b\b\b\b\b\b\b\b\b\b\b\b\b\b\b\b\b\b\b\b\b\b\b\b\b\b\b\b\b\b\b\b\b\b\b\b\b\b\b\b\b\b\b\b\b\b\b\b\b\b\b\b\b\b\b\b\b\b\b\b\b\b\b\b\b\b\b\b\b\b\b\b\b\b\b\b\r295/295 [==============================] - 5s 17ms/step - loss: 1.9801 - accuracy: 0.5794\n",
            "Epoch 55/300\n",
            "294/295 [============================>.] - ETA: 0s - loss: 1.9552 - accuracy: 0.5810"
          ]
        },
        {
          "name": "stderr",
          "output_type": "stream",
          "text": [
            "WARNING:tensorflow:Can save best model only with val_loss available, skipping.\n"
          ]
        },
        {
          "name": "stdout",
          "output_type": "stream",
          "text": [
            "\b\b\b\b\b\b\b\b\b\b\b\b\b\b\b\b\b\b\b\b\b\b\b\b\b\b\b\b\b\b\b\b\b\b\b\b\b\b\b\b\b\b\b\b\b\b\b\b\b\b\b\b\b\b\b\b\b\b\b\b\b\b\b\b\b\b\b\b\b\b\b\b\b\b\b\b\b\b\b\b\b\b\b\b\r295/295 [==============================] - 5s 16ms/step - loss: 1.9555 - accuracy: 0.5809\n",
            "Epoch 56/300\n",
            "292/295 [============================>.] - ETA: 0s - loss: 1.9101 - accuracy: 0.5925"
          ]
        },
        {
          "name": "stderr",
          "output_type": "stream",
          "text": [
            "WARNING:tensorflow:Can save best model only with val_loss available, skipping.\n"
          ]
        },
        {
          "name": "stdout",
          "output_type": "stream",
          "text": [
            "\b\b\b\b\b\b\b\b\b\b\b\b\b\b\b\b\b\b\b\b\b\b\b\b\b\b\b\b\b\b\b\b\b\b\b\b\b\b\b\b\b\b\b\b\b\b\b\b\b\b\b\b\b\b\b\b\b\b\b\b\b\b\b\b\b\b\b\b\b\b\b\b\b\b\b\b\b\b\b\b\b\b\b\b\r295/295 [==============================] - 5s 16ms/step - loss: 1.9112 - accuracy: 0.5920\n",
            "Epoch 57/300\n",
            "295/295 [==============================] - ETA: 0s - loss: 1.8763 - accuracy: 0.5972"
          ]
        },
        {
          "name": "stderr",
          "output_type": "stream",
          "text": [
            "WARNING:tensorflow:Can save best model only with val_loss available, skipping.\n"
          ]
        },
        {
          "name": "stdout",
          "output_type": "stream",
          "text": [
            "\b\b\b\b\b\b\b\b\b\b\b\b\b\b\b\b\b\b\b\b\b\b\b\b\b\b\b\b\b\b\b\b\b\b\b\b\b\b\b\b\b\b\b\b\b\b\b\b\b\b\b\b\b\b\b\b\b\b\b\b\b\b\b\b\b\b\b\b\b\b\b\b\b\b\b\b\b\b\b\b\b\b\b\b\r295/295 [==============================] - 5s 17ms/step - loss: 1.8763 - accuracy: 0.5972\n",
            "Epoch 58/300\n",
            "295/295 [==============================] - ETA: 0s - loss: 1.8341 - accuracy: 0.6056"
          ]
        },
        {
          "name": "stderr",
          "output_type": "stream",
          "text": [
            "WARNING:tensorflow:Can save best model only with val_loss available, skipping.\n"
          ]
        },
        {
          "name": "stdout",
          "output_type": "stream",
          "text": [
            "\b\b\b\b\b\b\b\b\b\b\b\b\b\b\b\b\b\b\b\b\b\b\b\b\b\b\b\b\b\b\b\b\b\b\b\b\b\b\b\b\b\b\b\b\b\b\b\b\b\b\b\b\b\b\b\b\b\b\b\b\b\b\b\b\b\b\b\b\b\b\b\b\b\b\b\b\b\b\b\b\b\b\b\b\r295/295 [==============================] - 5s 16ms/step - loss: 1.8341 - accuracy: 0.6056\n",
            "Epoch 59/300\n",
            "293/295 [============================>.] - ETA: 0s - loss: 1.7981 - accuracy: 0.6116"
          ]
        },
        {
          "name": "stderr",
          "output_type": "stream",
          "text": [
            "WARNING:tensorflow:Can save best model only with val_loss available, skipping.\n"
          ]
        },
        {
          "name": "stdout",
          "output_type": "stream",
          "text": [
            "\b\b\b\b\b\b\b\b\b\b\b\b\b\b\b\b\b\b\b\b\b\b\b\b\b\b\b\b\b\b\b\b\b\b\b\b\b\b\b\b\b\b\b\b\b\b\b\b\b\b\b\b\b\b\b\b\b\b\b\b\b\b\b\b\b\b\b\b\b\b\b\b\b\b\b\b\b\b\b\b\b\b\b\b\r295/295 [==============================] - 5s 16ms/step - loss: 1.7993 - accuracy: 0.6112\n",
            "Epoch 60/300\n",
            "295/295 [==============================] - ETA: 0s - loss: 1.7698 - accuracy: 0.6190"
          ]
        },
        {
          "name": "stderr",
          "output_type": "stream",
          "text": [
            "WARNING:tensorflow:Can save best model only with val_loss available, skipping.\n"
          ]
        },
        {
          "name": "stdout",
          "output_type": "stream",
          "text": [
            "\b\b\b\b\b\b\b\b\b\b\b\b\b\b\b\b\b\b\b\b\b\b\b\b\b\b\b\b\b\b\b\b\b\b\b\b\b\b\b\b\b\b\b\b\b\b\b\b\b\b\b\b\b\b\b\b\b\b\b\b\b\b\b\b\b\b\b\b\b\b\b\b\b\b\b\b\b\b\b\b\b\b\b\b\r295/295 [==============================] - 5s 17ms/step - loss: 1.7698 - accuracy: 0.6190\n",
            "Epoch 61/300\n",
            "292/295 [============================>.] - ETA: 0s - loss: 1.7362 - accuracy: 0.6231"
          ]
        },
        {
          "name": "stderr",
          "output_type": "stream",
          "text": [
            "WARNING:tensorflow:Can save best model only with val_loss available, skipping.\n"
          ]
        },
        {
          "name": "stdout",
          "output_type": "stream",
          "text": [
            "\b\b\b\b\b\b\b\b\b\b\b\b\b\b\b\b\b\b\b\b\b\b\b\b\b\b\b\b\b\b\b\b\b\b\b\b\b\b\b\b\b\b\b\b\b\b\b\b\b\b\b\b\b\b\b\b\b\b\b\b\b\b\b\b\b\b\b\b\b\b\b\b\b\b\b\b\b\b\b\b\b\b\b\b\r295/295 [==============================] - 5s 16ms/step - loss: 1.7394 - accuracy: 0.6225\n",
            "Epoch 62/300\n",
            "295/295 [==============================] - ETA: 0s - loss: 1.7076 - accuracy: 0.6272"
          ]
        },
        {
          "name": "stderr",
          "output_type": "stream",
          "text": [
            "WARNING:tensorflow:Can save best model only with val_loss available, skipping.\n"
          ]
        },
        {
          "name": "stdout",
          "output_type": "stream",
          "text": [
            "\b\b\b\b\b\b\b\b\b\b\b\b\b\b\b\b\b\b\b\b\b\b\b\b\b\b\b\b\b\b\b\b\b\b\b\b\b\b\b\b\b\b\b\b\b\b\b\b\b\b\b\b\b\b\b\b\b\b\b\b\b\b\b\b\b\b\b\b\b\b\b\b\b\b\b\b\b\b\b\b\b\b\b\b\r295/295 [==============================] - 5s 17ms/step - loss: 1.7076 - accuracy: 0.6272\n",
            "Epoch 63/300\n",
            "293/295 [============================>.] - ETA: 0s - loss: 1.6748 - accuracy: 0.6377"
          ]
        },
        {
          "name": "stderr",
          "output_type": "stream",
          "text": [
            "WARNING:tensorflow:Can save best model only with val_loss available, skipping.\n"
          ]
        },
        {
          "name": "stdout",
          "output_type": "stream",
          "text": [
            "\b\b\b\b\b\b\b\b\b\b\b\b\b\b\b\b\b\b\b\b\b\b\b\b\b\b\b\b\b\b\b\b\b\b\b\b\b\b\b\b\b\b\b\b\b\b\b\b\b\b\b\b\b\b\b\b\b\b\b\b\b\b\b\b\b\b\b\b\b\b\b\b\b\b\b\b\b\b\b\b\b\b\b\b\r295/295 [==============================] - 5s 15ms/step - loss: 1.6753 - accuracy: 0.6373\n",
            "Epoch 64/300\n",
            "295/295 [==============================] - ETA: 0s - loss: 1.6461 - accuracy: 0.6370"
          ]
        },
        {
          "name": "stderr",
          "output_type": "stream",
          "text": [
            "WARNING:tensorflow:Can save best model only with val_loss available, skipping.\n"
          ]
        },
        {
          "name": "stdout",
          "output_type": "stream",
          "text": [
            "\b\b\b\b\b\b\b\b\b\b\b\b\b\b\b\b\b\b\b\b\b\b\b\b\b\b\b\b\b\b\b\b\b\b\b\b\b\b\b\b\b\b\b\b\b\b\b\b\b\b\b\b\b\b\b\b\b\b\b\b\b\b\b\b\b\b\b\b\b\b\b\b\b\b\b\b\b\b\b\b\b\b\b\b\r295/295 [==============================] - 5s 16ms/step - loss: 1.6461 - accuracy: 0.6370\n",
            "Epoch 65/300\n",
            "295/295 [==============================] - ETA: 0s - loss: 1.6220 - accuracy: 0.6430"
          ]
        },
        {
          "name": "stderr",
          "output_type": "stream",
          "text": [
            "WARNING:tensorflow:Can save best model only with val_loss available, skipping.\n"
          ]
        },
        {
          "name": "stdout",
          "output_type": "stream",
          "text": [
            "\b\b\b\b\b\b\b\b\b\b\b\b\b\b\b\b\b\b\b\b\b\b\b\b\b\b\b\b\b\b\b\b\b\b\b\b\b\b\b\b\b\b\b\b\b\b\b\b\b\b\b\b\b\b\b\b\b\b\b\b\b\b\b\b\b\b\b\b\b\b\b\b\b\b\b\b\b\b\b\b\b\b\b\b\r295/295 [==============================] - 5s 17ms/step - loss: 1.6220 - accuracy: 0.6430\n",
            "Epoch 66/300\n",
            "293/295 [============================>.] - ETA: 0s - loss: 1.5831 - accuracy: 0.6517"
          ]
        },
        {
          "name": "stderr",
          "output_type": "stream",
          "text": [
            "WARNING:tensorflow:Can save best model only with val_loss available, skipping.\n"
          ]
        },
        {
          "name": "stdout",
          "output_type": "stream",
          "text": [
            "\b\b\b\b\b\b\b\b\b\b\b\b\b\b\b\b\b\b\b\b\b\b\b\b\b\b\b\b\b\b\b\b\b\b\b\b\b\b\b\b\b\b\b\b\b\b\b\b\b\b\b\b\b\b\b\b\b\b\b\b\b\b\b\b\b\b\b\b\b\b\b\b\b\b\b\b\b\b\b\b\b\b\b\b\r295/295 [==============================] - 5s 15ms/step - loss: 1.5816 - accuracy: 0.6522\n",
            "Epoch 67/300\n",
            "294/295 [============================>.] - ETA: 0s - loss: 1.5582 - accuracy: 0.6559"
          ]
        },
        {
          "name": "stderr",
          "output_type": "stream",
          "text": [
            "WARNING:tensorflow:Can save best model only with val_loss available, skipping.\n"
          ]
        },
        {
          "name": "stdout",
          "output_type": "stream",
          "text": [
            "\b\b\b\b\b\b\b\b\b\b\b\b\b\b\b\b\b\b\b\b\b\b\b\b\b\b\b\b\b\b\b\b\b\b\b\b\b\b\b\b\b\b\b\b\b\b\b\b\b\b\b\b\b\b\b\b\b\b\b\b\b\b\b\b\b\b\b\b\b\b\b\b\b\b\b\b\b\b\b\b\b\b\b\b\r295/295 [==============================] - 5s 17ms/step - loss: 1.5574 - accuracy: 0.6560\n",
            "Epoch 68/300\n",
            "292/295 [============================>.] - ETA: 0s - loss: 1.5244 - accuracy: 0.6605"
          ]
        },
        {
          "name": "stderr",
          "output_type": "stream",
          "text": [
            "WARNING:tensorflow:Can save best model only with val_loss available, skipping.\n"
          ]
        },
        {
          "name": "stdout",
          "output_type": "stream",
          "text": [
            "\b\b\b\b\b\b\b\b\b\b\b\b\b\b\b\b\b\b\b\b\b\b\b\b\b\b\b\b\b\b\b\b\b\b\b\b\b\b\b\b\b\b\b\b\b\b\b\b\b\b\b\b\b\b\b\b\b\b\b\b\b\b\b\b\b\b\b\b\b\b\b\b\b\b\b\b\b\b\b\b\b\b\b\b\r295/295 [==============================] - 5s 16ms/step - loss: 1.5258 - accuracy: 0.6605\n",
            "Epoch 69/300\n",
            "293/295 [============================>.] - ETA: 0s - loss: 1.5065 - accuracy: 0.6646"
          ]
        },
        {
          "name": "stderr",
          "output_type": "stream",
          "text": [
            "WARNING:tensorflow:Can save best model only with val_loss available, skipping.\n"
          ]
        },
        {
          "name": "stdout",
          "output_type": "stream",
          "text": [
            "\b\b\b\b\b\b\b\b\b\b\b\b\b\b\b\b\b\b\b\b\b\b\b\b\b\b\b\b\b\b\b\b\b\b\b\b\b\b\b\b\b\b\b\b\b\b\b\b\b\b\b\b\b\b\b\b\b\b\b\b\b\b\b\b\b\b\b\b\b\b\b\b\b\b\b\b\b\b\b\b\b\b\b\b\r295/295 [==============================] - 5s 16ms/step - loss: 1.5066 - accuracy: 0.6641\n",
            "Epoch 70/300\n",
            "292/295 [============================>.] - ETA: 0s - loss: 1.4793 - accuracy: 0.6739"
          ]
        },
        {
          "name": "stderr",
          "output_type": "stream",
          "text": [
            "WARNING:tensorflow:Can save best model only with val_loss available, skipping.\n"
          ]
        },
        {
          "name": "stdout",
          "output_type": "stream",
          "text": [
            "\b\b\b\b\b\b\b\b\b\b\b\b\b\b\b\b\b\b\b\b\b\b\b\b\b\b\b\b\b\b\b\b\b\b\b\b\b\b\b\b\b\b\b\b\b\b\b\b\b\b\b\b\b\b\b\b\b\b\b\b\b\b\b\b\b\b\b\b\b\b\b\b\b\b\b\b\b\b\b\b\b\b\b\b\r295/295 [==============================] - 5s 17ms/step - loss: 1.4839 - accuracy: 0.6733\n",
            "Epoch 71/300\n",
            "295/295 [==============================] - ETA: 0s - loss: 1.4512 - accuracy: 0.6775"
          ]
        },
        {
          "name": "stderr",
          "output_type": "stream",
          "text": [
            "WARNING:tensorflow:Can save best model only with val_loss available, skipping.\n"
          ]
        },
        {
          "name": "stdout",
          "output_type": "stream",
          "text": [
            "\b\b\b\b\b\b\b\b\b\b\b\b\b\b\b\b\b\b\b\b\b\b\b\b\b\b\b\b\b\b\b\b\b\b\b\b\b\b\b\b\b\b\b\b\b\b\b\b\b\b\b\b\b\b\b\b\b\b\b\b\b\b\b\b\b\b\b\b\b\b\b\b\b\b\b\b\b\b\b\b\b\b\b\b\r295/295 [==============================] - 5s 16ms/step - loss: 1.4512 - accuracy: 0.6775\n",
            "Epoch 72/300\n",
            "295/295 [==============================] - ETA: 0s - loss: 1.4282 - accuracy: 0.6840"
          ]
        },
        {
          "name": "stderr",
          "output_type": "stream",
          "text": [
            "WARNING:tensorflow:Can save best model only with val_loss available, skipping.\n"
          ]
        },
        {
          "name": "stdout",
          "output_type": "stream",
          "text": [
            "\b\b\b\b\b\b\b\b\b\b\b\b\b\b\b\b\b\b\b\b\b\b\b\b\b\b\b\b\b\b\b\b\b\b\b\b\b\b\b\b\b\b\b\b\b\b\b\b\b\b\b\b\b\b\b\b\b\b\b\b\b\b\b\b\b\b\b\b\b\b\b\b\b\b\b\b\b\b\b\b\b\b\b\b\r295/295 [==============================] - 5s 17ms/step - loss: 1.4282 - accuracy: 0.6840\n",
            "Epoch 73/300\n",
            "294/295 [============================>.] - ETA: 0s - loss: 1.4062 - accuracy: 0.6881"
          ]
        },
        {
          "name": "stderr",
          "output_type": "stream",
          "text": [
            "WARNING:tensorflow:Can save best model only with val_loss available, skipping.\n"
          ]
        },
        {
          "name": "stdout",
          "output_type": "stream",
          "text": [
            "\b\b\b\b\b\b\b\b\b\b\b\b\b\b\b\b\b\b\b\b\b\b\b\b\b\b\b\b\b\b\b\b\b\b\b\b\b\b\b\b\b\b\b\b\b\b\b\b\b\b\b\b\b\b\b\b\b\b\b\b\b\b\b\b\b\b\b\b\b\b\b\b\b\b\b\b\b\b\b\b\b\b\b\b\r295/295 [==============================] - 5s 16ms/step - loss: 1.4063 - accuracy: 0.6882\n",
            "Epoch 74/300\n",
            "293/295 [============================>.] - ETA: 0s - loss: 1.3866 - accuracy: 0.6904"
          ]
        },
        {
          "name": "stderr",
          "output_type": "stream",
          "text": [
            "WARNING:tensorflow:Can save best model only with val_loss available, skipping.\n"
          ]
        },
        {
          "name": "stdout",
          "output_type": "stream",
          "text": [
            "\b\b\b\b\b\b\b\b\b\b\b\b\b\b\b\b\b\b\b\b\b\b\b\b\b\b\b\b\b\b\b\b\b\b\b\b\b\b\b\b\b\b\b\b\b\b\b\b\b\b\b\b\b\b\b\b\b\b\b\b\b\b\b\b\b\b\b\b\b\b\b\b\b\b\b\b\b\b\b\b\b\b\b\b\r295/295 [==============================] - 5s 15ms/step - loss: 1.3847 - accuracy: 0.6910\n",
            "Epoch 75/300\n",
            "292/295 [============================>.] - ETA: 0s - loss: 1.3617 - accuracy: 0.6969"
          ]
        },
        {
          "name": "stderr",
          "output_type": "stream",
          "text": [
            "WARNING:tensorflow:Can save best model only with val_loss available, skipping.\n"
          ]
        },
        {
          "name": "stdout",
          "output_type": "stream",
          "text": [
            "\b\b\b\b\b\b\b\b\b\b\b\b\b\b\b\b\b\b\b\b\b\b\b\b\b\b\b\b\b\b\b\b\b\b\b\b\b\b\b\b\b\b\b\b\b\b\b\b\b\b\b\b\b\b\b\b\b\b\b\b\b\b\b\b\b\b\b\b\b\b\b\b\b\b\b\b\b\b\b\b\b\b\b\b\r295/295 [==============================] - 5s 17ms/step - loss: 1.3625 - accuracy: 0.6970\n",
            "Epoch 76/300\n",
            "293/295 [============================>.] - ETA: 0s - loss: 1.3366 - accuracy: 0.6999"
          ]
        },
        {
          "name": "stderr",
          "output_type": "stream",
          "text": [
            "WARNING:tensorflow:Can save best model only with val_loss available, skipping.\n"
          ]
        },
        {
          "name": "stdout",
          "output_type": "stream",
          "text": [
            "\b\b\b\b\b\b\b\b\b\b\b\b\b\b\b\b\b\b\b\b\b\b\b\b\b\b\b\b\b\b\b\b\b\b\b\b\b\b\b\b\b\b\b\b\b\b\b\b\b\b\b\b\b\b\b\b\b\b\b\b\b\b\b\b\b\b\b\b\b\b\b\b\b\b\b\b\b\b\b\b\b\b\b\b\r295/295 [==============================] - 5s 15ms/step - loss: 1.3357 - accuracy: 0.7002\n",
            "Epoch 77/300\n",
            "294/295 [============================>.] - ETA: 0s - loss: 1.3190 - accuracy: 0.7054"
          ]
        },
        {
          "name": "stderr",
          "output_type": "stream",
          "text": [
            "WARNING:tensorflow:Can save best model only with val_loss available, skipping.\n"
          ]
        },
        {
          "name": "stdout",
          "output_type": "stream",
          "text": [
            "\b\b\b\b\b\b\b\b\b\b\b\b\b\b\b\b\b\b\b\b\b\b\b\b\b\b\b\b\b\b\b\b\b\b\b\b\b\b\b\b\b\b\b\b\b\b\b\b\b\b\b\b\b\b\b\b\b\b\b\b\b\b\b\b\b\b\b\b\b\b\b\b\b\b\b\b\b\b\b\b\b\b\b\b\r295/295 [==============================] - 5s 16ms/step - loss: 1.3192 - accuracy: 0.7053\n",
            "Epoch 78/300\n",
            "295/295 [==============================] - ETA: 0s - loss: 1.3021 - accuracy: 0.7052"
          ]
        },
        {
          "name": "stderr",
          "output_type": "stream",
          "text": [
            "WARNING:tensorflow:Can save best model only with val_loss available, skipping.\n"
          ]
        },
        {
          "name": "stdout",
          "output_type": "stream",
          "text": [
            "\b\b\b\b\b\b\b\b\b\b\b\b\b\b\b\b\b\b\b\b\b\b\b\b\b\b\b\b\b\b\b\b\b\b\b\b\b\b\b\b\b\b\b\b\b\b\b\b\b\b\b\b\b\b\b\b\b\b\b\b\b\b\b\b\b\b\b\b\b\b\b\b\b\b\b\b\b\b\b\b\b\b\b\b\r295/295 [==============================] - 5s 16ms/step - loss: 1.3021 - accuracy: 0.7052\n",
            "Epoch 79/300\n",
            "292/295 [============================>.] - ETA: 0s - loss: 1.2836 - accuracy: 0.7073"
          ]
        },
        {
          "name": "stderr",
          "output_type": "stream",
          "text": [
            "WARNING:tensorflow:Can save best model only with val_loss available, skipping.\n"
          ]
        },
        {
          "name": "stdout",
          "output_type": "stream",
          "text": [
            "\b\b\b\b\b\b\b\b\b\b\b\b\b\b\b\b\b\b\b\b\b\b\b\b\b\b\b\b\b\b\b\b\b\b\b\b\b\b\b\b\b\b\b\b\b\b\b\b\b\b\b\b\b\b\b\b\b\b\b\b\b\b\b\b\b\b\b\b\b\b\b\b\b\b\b\b\b\b\b\b\b\b\b\b\r295/295 [==============================] - 5s 16ms/step - loss: 1.2852 - accuracy: 0.7066\n",
            "Epoch 80/300\n",
            "295/295 [==============================] - ETA: 0s - loss: 1.2649 - accuracy: 0.7156"
          ]
        },
        {
          "name": "stderr",
          "output_type": "stream",
          "text": [
            "WARNING:tensorflow:Can save best model only with val_loss available, skipping.\n"
          ]
        },
        {
          "name": "stdout",
          "output_type": "stream",
          "text": [
            "\b\b\b\b\b\b\b\b\b\b\b\b\b\b\b\b\b\b\b\b\b\b\b\b\b\b\b\b\b\b\b\b\b\b\b\b\b\b\b\b\b\b\b\b\b\b\b\b\b\b\b\b\b\b\b\b\b\b\b\b\b\b\b\b\b\b\b\b\b\b\b\b\b\b\b\b\b\b\b\b\b\b\b\b\r295/295 [==============================] - 5s 17ms/step - loss: 1.2649 - accuracy: 0.7156\n",
            "Epoch 81/300\n",
            "294/295 [============================>.] - ETA: 0s - loss: 1.2460 - accuracy: 0.7146"
          ]
        },
        {
          "name": "stderr",
          "output_type": "stream",
          "text": [
            "WARNING:tensorflow:Can save best model only with val_loss available, skipping.\n"
          ]
        },
        {
          "name": "stdout",
          "output_type": "stream",
          "text": [
            "\b\b\b\b\b\b\b\b\b\b\b\b\b\b\b\b\b\b\b\b\b\b\b\b\b\b\b\b\b\b\b\b\b\b\b\b\b\b\b\b\b\b\b\b\b\b\b\b\b\b\b\b\b\b\b\b\b\b\b\b\b\b\b\b\b\b\b\b\b\b\b\b\b\b\b\b\b\b\b\b\b\b\b\b\r295/295 [==============================] - 5s 15ms/step - loss: 1.2458 - accuracy: 0.7146\n",
            "Epoch 82/300\n",
            "294/295 [============================>.] - ETA: 0s - loss: 1.2253 - accuracy: 0.7205"
          ]
        },
        {
          "name": "stderr",
          "output_type": "stream",
          "text": [
            "WARNING:tensorflow:Can save best model only with val_loss available, skipping.\n"
          ]
        },
        {
          "name": "stdout",
          "output_type": "stream",
          "text": [
            "\b\b\b\b\b\b\b\b\b\b\b\b\b\b\b\b\b\b\b\b\b\b\b\b\b\b\b\b\b\b\b\b\b\b\b\b\b\b\b\b\b\b\b\b\b\b\b\b\b\b\b\b\b\b\b\b\b\b\b\b\b\b\b\b\b\b\b\b\b\b\b\b\b\b\b\b\b\b\b\b\b\b\b\b\r295/295 [==============================] - 5s 16ms/step - loss: 1.2258 - accuracy: 0.7202\n",
            "Epoch 83/300\n",
            "293/295 [============================>.] - ETA: 0s - loss: 1.2170 - accuracy: 0.7208"
          ]
        },
        {
          "name": "stderr",
          "output_type": "stream",
          "text": [
            "WARNING:tensorflow:Can save best model only with val_loss available, skipping.\n"
          ]
        },
        {
          "name": "stdout",
          "output_type": "stream",
          "text": [
            "\b\b\b\b\b\b\b\b\b\b\b\b\b\b\b\b\b\b\b\b\b\b\b\b\b\b\b\b\b\b\b\b\b\b\b\b\b\b\b\b\b\b\b\b\b\b\b\b\b\b\b\b\b\b\b\b\b\b\b\b\b\b\b\b\b\b\b\b\b\b\b\b\b\b\b\b\b\b\b\b\b\b\b\b\r295/295 [==============================] - 5s 17ms/step - loss: 1.2157 - accuracy: 0.7211\n",
            "Epoch 84/300\n",
            "295/295 [==============================] - ETA: 0s - loss: 1.1890 - accuracy: 0.7285"
          ]
        },
        {
          "name": "stderr",
          "output_type": "stream",
          "text": [
            "WARNING:tensorflow:Can save best model only with val_loss available, skipping.\n"
          ]
        },
        {
          "name": "stdout",
          "output_type": "stream",
          "text": [
            "\b\b\b\b\b\b\b\b\b\b\b\b\b\b\b\b\b\b\b\b\b\b\b\b\b\b\b\b\b\b\b\b\b\b\b\b\b\b\b\b\b\b\b\b\b\b\b\b\b\b\b\b\b\b\b\b\b\b\b\b\b\b\b\b\b\b\b\b\b\b\b\b\b\b\b\b\b\b\b\b\b\b\b\b\r295/295 [==============================] - 5s 18ms/step - loss: 1.1890 - accuracy: 0.7285\n",
            "Epoch 85/300\n",
            "294/295 [============================>.] - ETA: 0s - loss: 1.1689 - accuracy: 0.7303"
          ]
        },
        {
          "name": "stderr",
          "output_type": "stream",
          "text": [
            "WARNING:tensorflow:Can save best model only with val_loss available, skipping.\n"
          ]
        },
        {
          "name": "stdout",
          "output_type": "stream",
          "text": [
            "\b\b\b\b\b\b\b\b\b\b\b\b\b\b\b\b\b\b\b\b\b\b\b\b\b\b\b\b\b\b\b\b\b\b\b\b\b\b\b\b\b\b\b\b\b\b\b\b\b\b\b\b\b\b\b\b\b\b\b\b\b\b\b\b\b\b\b\b\b\b\b\b\b\b\b\b\b\b\b\b\b\b\b\b\r295/295 [==============================] - 6s 20ms/step - loss: 1.1686 - accuracy: 0.7304\n",
            "Epoch 86/300\n",
            "294/295 [============================>.] - ETA: 0s - loss: 1.1603 - accuracy: 0.7343"
          ]
        },
        {
          "name": "stderr",
          "output_type": "stream",
          "text": [
            "WARNING:tensorflow:Can save best model only with val_loss available, skipping.\n"
          ]
        },
        {
          "name": "stdout",
          "output_type": "stream",
          "text": [
            "\b\b\b\b\b\b\b\b\b\b\b\b\b\b\b\b\b\b\b\b\b\b\b\b\b\b\b\b\b\b\b\b\b\b\b\b\b\b\b\b\b\b\b\b\b\b\b\b\b\b\b\b\b\b\b\b\b\b\b\b\b\b\b\b\b\b\b\b\b\b\b\b\b\b\b\b\b\b\b\b\b\b\b\b\r295/295 [==============================] - 6s 19ms/step - loss: 1.1616 - accuracy: 0.7342\n",
            "Epoch 87/300\n",
            "293/295 [============================>.] - ETA: 0s - loss: 1.1365 - accuracy: 0.7382"
          ]
        },
        {
          "name": "stderr",
          "output_type": "stream",
          "text": [
            "WARNING:tensorflow:Can save best model only with val_loss available, skipping.\n"
          ]
        },
        {
          "name": "stdout",
          "output_type": "stream",
          "text": [
            "\b\b\b\b\b\b\b\b\b\b\b\b\b\b\b\b\b\b\b\b\b\b\b\b\b\b\b\b\b\b\b\b\b\b\b\b\b\b\b\b\b\b\b\b\b\b\b\b\b\b\b\b\b\b\b\b\b\b\b\b\b\b\b\b\b\b\b\b\b\b\b\b\b\b\b\b\b\b\b\b\b\b\b\b\r295/295 [==============================] - 6s 19ms/step - loss: 1.1357 - accuracy: 0.7382\n",
            "Epoch 88/300\n",
            "293/295 [============================>.] - ETA: 0s - loss: 1.1226 - accuracy: 0.7406"
          ]
        },
        {
          "name": "stderr",
          "output_type": "stream",
          "text": [
            "WARNING:tensorflow:Can save best model only with val_loss available, skipping.\n"
          ]
        },
        {
          "name": "stdout",
          "output_type": "stream",
          "text": [
            "\b\b\b\b\b\b\b\b\b\b\b\b\b\b\b\b\b\b\b\b\b\b\b\b\b\b\b\b\b\b\b\b\b\b\b\b\b\b\b\b\b\b\b\b\b\b\b\b\b\b\b\b\b\b\b\b\b\b\b\b\b\b\b\b\b\b\b\b\b\b\b\b\b\b\b\b\b\b\b\b\b\b\b\b\r295/295 [==============================] - 5s 15ms/step - loss: 1.1240 - accuracy: 0.7403\n",
            "Epoch 89/300\n",
            "293/295 [============================>.] - ETA: 0s - loss: 1.1143 - accuracy: 0.7415"
          ]
        },
        {
          "name": "stderr",
          "output_type": "stream",
          "text": [
            "WARNING:tensorflow:Can save best model only with val_loss available, skipping.\n"
          ]
        },
        {
          "name": "stdout",
          "output_type": "stream",
          "text": [
            "\b\b\b\b\b\b\b\b\b\b\b\b\b\b\b\b\b\b\b\b\b\b\b\b\b\b\b\b\b\b\b\b\b\b\b\b\b\b\b\b\b\b\b\b\b\b\b\b\b\b\b\b\b\b\b\b\b\b\b\b\b\b\b\b\b\b\b\b\b\b\b\b\b\b\b\b\b\b\b\b\b\b\b\b\r295/295 [==============================] - 5s 15ms/step - loss: 1.1152 - accuracy: 0.7413\n",
            "Epoch 90/300\n",
            "295/295 [==============================] - ETA: 0s - loss: 1.0989 - accuracy: 0.7462"
          ]
        },
        {
          "name": "stderr",
          "output_type": "stream",
          "text": [
            "WARNING:tensorflow:Can save best model only with val_loss available, skipping.\n"
          ]
        },
        {
          "name": "stdout",
          "output_type": "stream",
          "text": [
            "\b\b\b\b\b\b\b\b\b\b\b\b\b\b\b\b\b\b\b\b\b\b\b\b\b\b\b\b\b\b\b\b\b\b\b\b\b\b\b\b\b\b\b\b\b\b\b\b\b\b\b\b\b\b\b\b\b\b\b\b\b\b\b\b\b\b\b\b\b\b\b\b\b\b\b\b\b\b\b\b\b\b\b\b\r295/295 [==============================] - 5s 17ms/step - loss: 1.0989 - accuracy: 0.7462\n",
            "Epoch 91/300\n",
            "292/295 [============================>.] - ETA: 0s - loss: 1.0776 - accuracy: 0.7485"
          ]
        },
        {
          "name": "stderr",
          "output_type": "stream",
          "text": [
            "WARNING:tensorflow:Can save best model only with val_loss available, skipping.\n"
          ]
        },
        {
          "name": "stdout",
          "output_type": "stream",
          "text": [
            "\b\b\b\b\b\b\b\b\b\b\b\b\b\b\b\b\b\b\b\b\b\b\b\b\b\b\b\b\b\b\b\b\b\b\b\b\b\b\b\b\b\b\b\b\b\b\b\b\b\b\b\b\b\b\b\b\b\b\b\b\b\b\b\b\b\b\b\b\b\b\b\b\b\b\b\b\b\b\b\b\b\b\b\b\r295/295 [==============================] - 5s 15ms/step - loss: 1.0775 - accuracy: 0.7486\n",
            "Epoch 92/300\n",
            "294/295 [============================>.] - ETA: 0s - loss: 1.0667 - accuracy: 0.7526"
          ]
        },
        {
          "name": "stderr",
          "output_type": "stream",
          "text": [
            "WARNING:tensorflow:Can save best model only with val_loss available, skipping.\n"
          ]
        },
        {
          "name": "stdout",
          "output_type": "stream",
          "text": [
            "\b\b\b\b\b\b\b\b\b\b\b\b\b\b\b\b\b\b\b\b\b\b\b\b\b\b\b\b\b\b\b\b\b\b\b\b\b\b\b\b\b\b\b\b\b\b\b\b\b\b\b\b\b\b\b\b\b\b\b\b\b\b\b\b\b\b\b\b\b\b\b\b\b\b\b\b\b\b\b\b\b\b\b\b\r295/295 [==============================] - 5s 16ms/step - loss: 1.0664 - accuracy: 0.7526\n",
            "Epoch 93/300\n",
            "295/295 [==============================] - ETA: 0s - loss: 1.0399 - accuracy: 0.7581"
          ]
        },
        {
          "name": "stderr",
          "output_type": "stream",
          "text": [
            "WARNING:tensorflow:Can save best model only with val_loss available, skipping.\n"
          ]
        },
        {
          "name": "stdout",
          "output_type": "stream",
          "text": [
            "\b\b\b\b\b\b\b\b\b\b\b\b\b\b\b\b\b\b\b\b\b\b\b\b\b\b\b\b\b\b\b\b\b\b\b\b\b\b\b\b\b\b\b\b\b\b\b\b\b\b\b\b\b\b\b\b\b\b\b\b\b\b\b\b\b\b\b\b\b\b\b\b\b\b\b\b\b\b\b\b\b\b\b\b\r295/295 [==============================] - 5s 17ms/step - loss: 1.0399 - accuracy: 0.7581\n",
            "Epoch 94/300\n",
            "293/295 [============================>.] - ETA: 0s - loss: 1.0347 - accuracy: 0.7605"
          ]
        },
        {
          "name": "stderr",
          "output_type": "stream",
          "text": [
            "WARNING:tensorflow:Can save best model only with val_loss available, skipping.\n"
          ]
        },
        {
          "name": "stdout",
          "output_type": "stream",
          "text": [
            "\b\b\b\b\b\b\b\b\b\b\b\b\b\b\b\b\b\b\b\b\b\b\b\b\b\b\b\b\b\b\b\b\b\b\b\b\b\b\b\b\b\b\b\b\b\b\b\b\b\b\b\b\b\b\b\b\b\b\b\b\b\b\b\b\b\b\b\b\b\b\b\b\b\b\b\b\b\b\b\b\b\b\b\b\r295/295 [==============================] - 5s 15ms/step - loss: 1.0343 - accuracy: 0.7608\n",
            "Epoch 95/300\n",
            "292/295 [============================>.] - ETA: 0s - loss: 1.0270 - accuracy: 0.7603"
          ]
        },
        {
          "name": "stderr",
          "output_type": "stream",
          "text": [
            "WARNING:tensorflow:Can save best model only with val_loss available, skipping.\n"
          ]
        },
        {
          "name": "stdout",
          "output_type": "stream",
          "text": [
            "\b\b\b\b\b\b\b\b\b\b\b\b\b\b\b\b\b\b\b\b\b\b\b\b\b\b\b\b\b\b\b\b\b\b\b\b\b\b\b\b\b\b\b\b\b\b\b\b\b\b\b\b\b\b\b\b\b\b\b\b\b\b\b\b\b\b\b\b\b\b\b\b\b\b\b\b\b\b\b\b\b\b\b\b\r295/295 [==============================] - 5s 17ms/step - loss: 1.0289 - accuracy: 0.7599\n",
            "Epoch 96/300\n",
            "294/295 [============================>.] - ETA: 0s - loss: 1.0179 - accuracy: 0.7598"
          ]
        },
        {
          "name": "stderr",
          "output_type": "stream",
          "text": [
            "WARNING:tensorflow:Can save best model only with val_loss available, skipping.\n"
          ]
        },
        {
          "name": "stdout",
          "output_type": "stream",
          "text": [
            "\b\b\b\b\b\b\b\b\b\b\b\b\b\b\b\b\b\b\b\b\b\b\b\b\b\b\b\b\b\b\b\b\b\b\b\b\b\b\b\b\b\b\b\b\b\b\b\b\b\b\b\b\b\b\b\b\b\b\b\b\b\b\b\b\b\b\b\b\b\b\b\b\b\b\b\b\b\b\b\b\b\b\b\b\r295/295 [==============================] - 5s 16ms/step - loss: 1.0186 - accuracy: 0.7597\n",
            "Epoch 97/300\n",
            "295/295 [==============================] - ETA: 0s - loss: 1.0046 - accuracy: 0.7673"
          ]
        },
        {
          "name": "stderr",
          "output_type": "stream",
          "text": [
            "WARNING:tensorflow:Can save best model only with val_loss available, skipping.\n"
          ]
        },
        {
          "name": "stdout",
          "output_type": "stream",
          "text": [
            "\b\b\b\b\b\b\b\b\b\b\b\b\b\b\b\b\b\b\b\b\b\b\b\b\b\b\b\b\b\b\b\b\b\b\b\b\b\b\b\b\b\b\b\b\b\b\b\b\b\b\b\b\b\b\b\b\b\b\b\b\b\b\b\b\b\b\b\b\b\b\b\b\b\b\b\b\b\b\b\b\b\b\b\b\r295/295 [==============================] - 5s 16ms/step - loss: 1.0046 - accuracy: 0.7673\n",
            "Epoch 98/300\n",
            "292/295 [============================>.] - ETA: 0s - loss: 0.9795 - accuracy: 0.7714"
          ]
        },
        {
          "name": "stderr",
          "output_type": "stream",
          "text": [
            "WARNING:tensorflow:Can save best model only with val_loss available, skipping.\n"
          ]
        },
        {
          "name": "stdout",
          "output_type": "stream",
          "text": [
            "\b\b\b\b\b\b\b\b\b\b\b\b\b\b\b\b\b\b\b\b\b\b\b\b\b\b\b\b\b\b\b\b\b\b\b\b\b\b\b\b\b\b\b\b\b\b\b\b\b\b\b\b\b\b\b\b\b\b\b\b\b\b\b\b\b\b\b\b\b\b\b\b\b\b\b\b\b\b\b\b\b\b\b\b\r295/295 [==============================] - 5s 17ms/step - loss: 0.9822 - accuracy: 0.7708\n",
            "Epoch 99/300\n",
            "293/295 [============================>.] - ETA: 0s - loss: 0.9729 - accuracy: 0.7737"
          ]
        },
        {
          "name": "stderr",
          "output_type": "stream",
          "text": [
            "WARNING:tensorflow:Can save best model only with val_loss available, skipping.\n"
          ]
        },
        {
          "name": "stdout",
          "output_type": "stream",
          "text": [
            "\b\b\b\b\b\b\b\b\b\b\b\b\b\b\b\b\b\b\b\b\b\b\b\b\b\b\b\b\b\b\b\b\b\b\b\b\b\b\b\b\b\b\b\b\b\b\b\b\b\b\b\b\b\b\b\b\b\b\b\b\b\b\b\b\b\b\b\b\b\b\b\b\b\b\b\b\b\b\b\b\b\b\b\b\r295/295 [==============================] - 5s 16ms/step - loss: 0.9754 - accuracy: 0.7732\n",
            "Epoch 100/300\n",
            "294/295 [============================>.] - ETA: 0s - loss: 0.9510 - accuracy: 0.7735"
          ]
        },
        {
          "name": "stderr",
          "output_type": "stream",
          "text": [
            "WARNING:tensorflow:Can save best model only with val_loss available, skipping.\n"
          ]
        },
        {
          "name": "stdout",
          "output_type": "stream",
          "text": [
            "\b\b\b\b\b\b\b\b\b\b\b\b\b\b\b\b\b\b\b\b\b\b\b\b\b\b\b\b\b\b\b\b\b\b\b\b\b\b\b\b\b\b\b\b\b\b\b\b\b\b\b\b\b\b\b\b\b\b\b\b\b\b\b\b\b\b\b\b\b\b\b\b\b\b\b\b\b\b\b\b\b\b\b\b\r295/295 [==============================] - 5s 17ms/step - loss: 0.9513 - accuracy: 0.7734\n",
            "Epoch 101/300\n",
            "293/295 [============================>.] - ETA: 0s - loss: 0.9465 - accuracy: 0.7773"
          ]
        },
        {
          "name": "stderr",
          "output_type": "stream",
          "text": [
            "WARNING:tensorflow:Can save best model only with val_loss available, skipping.\n"
          ]
        },
        {
          "name": "stdout",
          "output_type": "stream",
          "text": [
            "\b\b\b\b\b\b\b\b\b\b\b\b\b\b\b\b\b\b\b\b\b\b\b\b\b\b\b\b\b\b\b\b\b\b\b\b\b\b\b\b\b\b\b\b\b\b\b\b\b\b\b\b\b\b\b\b\b\b\b\b\b\b\b\b\b\b\b\b\b\b\b\b\b\b\b\b\b\b\b\b\b\b\b\b\r295/295 [==============================] - 5s 16ms/step - loss: 0.9479 - accuracy: 0.7769\n",
            "Epoch 102/300\n",
            "292/295 [============================>.] - ETA: 0s - loss: 0.9419 - accuracy: 0.7783"
          ]
        },
        {
          "name": "stderr",
          "output_type": "stream",
          "text": [
            "WARNING:tensorflow:Can save best model only with val_loss available, skipping.\n"
          ]
        },
        {
          "name": "stdout",
          "output_type": "stream",
          "text": [
            "\b\b\b\b\b\b\b\b\b\b\b\b\b\b\b\b\b\b\b\b\b\b\b\b\b\b\b\b\b\b\b\b\b\b\b\b\b\b\b\b\b\b\b\b\b\b\b\b\b\b\b\b\b\b\b\b\b\b\b\b\b\b\b\b\b\b\b\b\b\b\b\b\b\b\b\b\b\b\b\b\b\b\b\b\r295/295 [==============================] - 5s 16ms/step - loss: 0.9441 - accuracy: 0.7781\n",
            "Epoch 103/300\n",
            "293/295 [============================>.] - ETA: 0s - loss: 0.9222 - accuracy: 0.7785"
          ]
        },
        {
          "name": "stderr",
          "output_type": "stream",
          "text": [
            "WARNING:tensorflow:Can save best model only with val_loss available, skipping.\n"
          ]
        },
        {
          "name": "stdout",
          "output_type": "stream",
          "text": [
            "\b\b\b\b\b\b\b\b\b\b\b\b\b\b\b\b\b\b\b\b\b\b\b\b\b\b\b\b\b\b\b\b\b\b\b\b\b\b\b\b\b\b\b\b\b\b\b\b\b\b\b\b\b\b\b\b\b\b\b\b\b\b\b\b\b\b\b\b\b\b\b\b\b\b\b\b\b\b\b\b\b\b\b\b\r295/295 [==============================] - 5s 17ms/step - loss: 0.9244 - accuracy: 0.7779\n",
            "Epoch 104/300\n",
            "295/295 [==============================] - ETA: 0s - loss: 0.9227 - accuracy: 0.7793"
          ]
        },
        {
          "name": "stderr",
          "output_type": "stream",
          "text": [
            "WARNING:tensorflow:Can save best model only with val_loss available, skipping.\n"
          ]
        },
        {
          "name": "stdout",
          "output_type": "stream",
          "text": [
            "\b\b\b\b\b\b\b\b\b\b\b\b\b\b\b\b\b\b\b\b\b\b\b\b\b\b\b\b\b\b\b\b\b\b\b\b\b\b\b\b\b\b\b\b\b\b\b\b\b\b\b\b\b\b\b\b\b\b\b\b\b\b\b\b\b\b\b\b\b\b\b\b\b\b\b\b\b\b\b\b\b\b\b\b\r295/295 [==============================] - 5s 16ms/step - loss: 0.9227 - accuracy: 0.7793\n",
            "Epoch 105/300\n",
            "293/295 [============================>.] - ETA: 0s - loss: 0.9101 - accuracy: 0.7828"
          ]
        },
        {
          "name": "stderr",
          "output_type": "stream",
          "text": [
            "WARNING:tensorflow:Can save best model only with val_loss available, skipping.\n"
          ]
        },
        {
          "name": "stdout",
          "output_type": "stream",
          "text": [
            "\b\b\b\b\b\b\b\b\b\b\b\b\b\b\b\b\b\b\b\b\b\b\b\b\b\b\b\b\b\b\b\b\b\b\b\b\b\b\b\b\b\b\b\b\b\b\b\b\b\b\b\b\b\b\b\b\b\b\b\b\b\b\b\b\b\b\b\b\b\b\b\b\b\b\b\b\b\b\b\b\b\b\b\b\r295/295 [==============================] - 5s 17ms/step - loss: 0.9102 - accuracy: 0.7830\n",
            "Epoch 106/300\n",
            "294/295 [============================>.] - ETA: 0s - loss: 0.8921 - accuracy: 0.7921"
          ]
        },
        {
          "name": "stderr",
          "output_type": "stream",
          "text": [
            "WARNING:tensorflow:Can save best model only with val_loss available, skipping.\n"
          ]
        },
        {
          "name": "stdout",
          "output_type": "stream",
          "text": [
            "\b\b\b\b\b\b\b\b\b\b\b\b\b\b\b\b\b\b\b\b\b\b\b\b\b\b\b\b\b\b\b\b\b\b\b\b\b\b\b\b\b\b\b\b\b\b\b\b\b\b\b\b\b\b\b\b\b\b\b\b\b\b\b\b\b\b\b\b\b\b\b\b\b\b\b\b\b\b\b\b\b\b\b\b\r295/295 [==============================] - 5s 16ms/step - loss: 0.8923 - accuracy: 0.7918\n",
            "Epoch 107/300\n",
            "293/295 [============================>.] - ETA: 0s - loss: 0.8784 - accuracy: 0.7897"
          ]
        },
        {
          "name": "stderr",
          "output_type": "stream",
          "text": [
            "WARNING:tensorflow:Can save best model only with val_loss available, skipping.\n"
          ]
        },
        {
          "name": "stdout",
          "output_type": "stream",
          "text": [
            "\b\b\b\b\b\b\b\b\b\b\b\b\b\b\b\b\b\b\b\b\b\b\b\b\b\b\b\b\b\b\b\b\b\b\b\b\b\b\b\b\b\b\b\b\b\b\b\b\b\b\b\b\b\b\b\b\b\b\b\b\b\b\b\b\b\b\b\b\b\b\b\b\b\b\b\b\b\b\b\b\b\b\b\b\r295/295 [==============================] - 5s 16ms/step - loss: 0.8805 - accuracy: 0.7895\n",
            "Epoch 108/300\n",
            "293/295 [============================>.] - ETA: 0s - loss: 0.8769 - accuracy: 0.7911"
          ]
        },
        {
          "name": "stderr",
          "output_type": "stream",
          "text": [
            "WARNING:tensorflow:Can save best model only with val_loss available, skipping.\n"
          ]
        },
        {
          "name": "stdout",
          "output_type": "stream",
          "text": [
            "\b\b\b\b\b\b\b\b\b\b\b\b\b\b\b\b\b\b\b\b\b\b\b\b\b\b\b\b\b\b\b\b\b\b\b\b\b\b\b\b\b\b\b\b\b\b\b\b\b\b\b\b\b\b\b\b\b\b\b\b\b\b\b\b\b\b\b\b\b\b\b\b\b\b\b\b\b\b\b\b\b\b\b\b\r295/295 [==============================] - 5s 17ms/step - loss: 0.8782 - accuracy: 0.7907\n",
            "Epoch 109/300\n",
            "295/295 [==============================] - ETA: 0s - loss: 0.8628 - accuracy: 0.7928"
          ]
        },
        {
          "name": "stderr",
          "output_type": "stream",
          "text": [
            "WARNING:tensorflow:Can save best model only with val_loss available, skipping.\n"
          ]
        },
        {
          "name": "stdout",
          "output_type": "stream",
          "text": [
            "\b\b\b\b\b\b\b\b\b\b\b\b\b\b\b\b\b\b\b\b\b\b\b\b\b\b\b\b\b\b\b\b\b\b\b\b\b\b\b\b\b\b\b\b\b\b\b\b\b\b\b\b\b\b\b\b\b\b\b\b\b\b\b\b\b\b\b\b\b\b\b\b\b\b\b\b\b\b\b\b\b\b\b\b\r295/295 [==============================] - 5s 16ms/step - loss: 0.8628 - accuracy: 0.7928\n",
            "Epoch 110/300\n",
            "293/295 [============================>.] - ETA: 0s - loss: 0.8527 - accuracy: 0.7977"
          ]
        },
        {
          "name": "stderr",
          "output_type": "stream",
          "text": [
            "WARNING:tensorflow:Can save best model only with val_loss available, skipping.\n"
          ]
        },
        {
          "name": "stdout",
          "output_type": "stream",
          "text": [
            "\b\b\b\b\b\b\b\b\b\b\b\b\b\b\b\b\b\b\b\b\b\b\b\b\b\b\b\b\b\b\b\b\b\b\b\b\b\b\b\b\b\b\b\b\b\b\b\b\b\b\b\b\b\b\b\b\b\b\b\b\b\b\b\b\b\b\b\b\b\b\b\b\b\b\b\b\b\b\b\b\b\b\b\b\r295/295 [==============================] - 5s 16ms/step - loss: 0.8532 - accuracy: 0.7976\n",
            "Epoch 111/300\n",
            "292/295 [============================>.] - ETA: 0s - loss: 0.8494 - accuracy: 0.7988"
          ]
        },
        {
          "name": "stderr",
          "output_type": "stream",
          "text": [
            "WARNING:tensorflow:Can save best model only with val_loss available, skipping.\n"
          ]
        },
        {
          "name": "stdout",
          "output_type": "stream",
          "text": [
            "\b\b\b\b\b\b\b\b\b\b\b\b\b\b\b\b\b\b\b\b\b\b\b\b\b\b\b\b\b\b\b\b\b\b\b\b\b\b\b\b\b\b\b\b\b\b\b\b\b\b\b\b\b\b\b\b\b\b\b\b\b\b\b\b\b\b\b\b\b\b\b\b\b\b\b\b\b\b\b\b\b\b\b\b\r295/295 [==============================] - 5s 17ms/step - loss: 0.8522 - accuracy: 0.7981\n",
            "Epoch 112/300\n",
            "295/295 [==============================] - ETA: 0s - loss: 0.8338 - accuracy: 0.7993"
          ]
        },
        {
          "name": "stderr",
          "output_type": "stream",
          "text": [
            "WARNING:tensorflow:Can save best model only with val_loss available, skipping.\n"
          ]
        },
        {
          "name": "stdout",
          "output_type": "stream",
          "text": [
            "\b\b\b\b\b\b\b\b\b\b\b\b\b\b\b\b\b\b\b\b\b\b\b\b\b\b\b\b\b\b\b\b\b\b\b\b\b\b\b\b\b\b\b\b\b\b\b\b\b\b\b\b\b\b\b\b\b\b\b\b\b\b\b\b\b\b\b\b\b\b\b\b\b\b\b\b\b\b\b\b\b\b\b\b\r295/295 [==============================] - 5s 16ms/step - loss: 0.8338 - accuracy: 0.7993\n",
            "Epoch 113/300\n",
            "295/295 [==============================] - ETA: 0s - loss: 0.8272 - accuracy: 0.7991"
          ]
        },
        {
          "name": "stderr",
          "output_type": "stream",
          "text": [
            "WARNING:tensorflow:Can save best model only with val_loss available, skipping.\n"
          ]
        },
        {
          "name": "stdout",
          "output_type": "stream",
          "text": [
            "\b\b\b\b\b\b\b\b\b\b\b\b\b\b\b\b\b\b\b\b\b\b\b\b\b\b\b\b\b\b\b\b\b\b\b\b\b\b\b\b\b\b\b\b\b\b\b\b\b\b\b\b\b\b\b\b\b\b\b\b\b\b\b\b\b\b\b\b\b\b\b\b\b\b\b\b\b\b\b\b\b\b\b\b\r295/295 [==============================] - 5s 17ms/step - loss: 0.8272 - accuracy: 0.7991\n",
            "Epoch 114/300\n",
            "294/295 [============================>.] - ETA: 0s - loss: 0.8200 - accuracy: 0.8039"
          ]
        },
        {
          "name": "stderr",
          "output_type": "stream",
          "text": [
            "WARNING:tensorflow:Can save best model only with val_loss available, skipping.\n"
          ]
        },
        {
          "name": "stdout",
          "output_type": "stream",
          "text": [
            "\b\b\b\b\b\b\b\b\b\b\b\b\b\b\b\b\b\b\b\b\b\b\b\b\b\b\b\b\b\b\b\b\b\b\b\b\b\b\b\b\b\b\b\b\b\b\b\b\b\b\b\b\b\b\b\b\b\b\b\b\b\b\b\b\b\b\b\b\b\b\b\b\b\b\b\b\b\b\b\b\b\b\b\b\r295/295 [==============================] - 5s 15ms/step - loss: 0.8197 - accuracy: 0.8041\n",
            "Epoch 115/300\n",
            "293/295 [============================>.] - ETA: 0s - loss: 0.8043 - accuracy: 0.8062"
          ]
        },
        {
          "name": "stderr",
          "output_type": "stream",
          "text": [
            "WARNING:tensorflow:Can save best model only with val_loss available, skipping.\n"
          ]
        },
        {
          "name": "stdout",
          "output_type": "stream",
          "text": [
            "\b\b\b\b\b\b\b\b\b\b\b\b\b\b\b\b\b\b\b\b\b\b\b\b\b\b\b\b\b\b\b\b\b\b\b\b\b\b\b\b\b\b\b\b\b\b\b\b\b\b\b\b\b\b\b\b\b\b\b\b\b\b\b\b\b\b\b\b\b\b\b\b\b\b\b\b\b\b\b\b\b\b\b\b\r295/295 [==============================] - 5s 15ms/step - loss: 0.8051 - accuracy: 0.8060\n",
            "Epoch 116/300\n",
            "292/295 [============================>.] - ETA: 0s - loss: 0.8164 - accuracy: 0.8039"
          ]
        },
        {
          "name": "stderr",
          "output_type": "stream",
          "text": [
            "WARNING:tensorflow:Can save best model only with val_loss available, skipping.\n"
          ]
        },
        {
          "name": "stdout",
          "output_type": "stream",
          "text": [
            "\b\b\b\b\b\b\b\b\b\b\b\b\b\b\b\b\b\b\b\b\b\b\b\b\b\b\b\b\b\b\b\b\b\b\b\b\b\b\b\b\b\b\b\b\b\b\b\b\b\b\b\b\b\b\b\b\b\b\b\b\b\b\b\b\b\b\b\b\b\b\b\b\b\b\b\b\b\b\b\b\b\b\b\b\r295/295 [==============================] - 5s 17ms/step - loss: 0.8163 - accuracy: 0.8038\n",
            "Epoch 117/300\n",
            "292/295 [============================>.] - ETA: 0s - loss: 0.7838 - accuracy: 0.8129"
          ]
        },
        {
          "name": "stderr",
          "output_type": "stream",
          "text": [
            "WARNING:tensorflow:Can save best model only with val_loss available, skipping.\n"
          ]
        },
        {
          "name": "stdout",
          "output_type": "stream",
          "text": [
            "\b\b\b\b\b\b\b\b\b\b\b\b\b\b\b\b\b\b\b\b\b\b\b\b\b\b\b\b\b\b\b\b\b\b\b\b\b\b\b\b\b\b\b\b\b\b\b\b\b\b\b\b\b\b\b\b\b\b\b\b\b\b\b\b\b\b\b\b\b\b\b\b\b\b\b\b\b\b\b\b\b\b\b\b\r295/295 [==============================] - 5s 16ms/step - loss: 0.7846 - accuracy: 0.8128\n",
            "Epoch 118/300\n",
            "293/295 [============================>.] - ETA: 0s - loss: 0.7881 - accuracy: 0.8115"
          ]
        },
        {
          "name": "stderr",
          "output_type": "stream",
          "text": [
            "WARNING:tensorflow:Can save best model only with val_loss available, skipping.\n"
          ]
        },
        {
          "name": "stdout",
          "output_type": "stream",
          "text": [
            "\b\b\b\b\b\b\b\b\b\b\b\b\b\b\b\b\b\b\b\b\b\b\b\b\b\b\b\b\b\b\b\b\b\b\b\b\b\b\b\b\b\b\b\b\b\b\b\b\b\b\b\b\b\b\b\b\b\b\b\b\b\b\b\b\b\b\b\b\b\b\b\b\b\b\b\b\b\b\b\b\b\b\b\b\r295/295 [==============================] - 5s 17ms/step - loss: 0.7893 - accuracy: 0.8113\n",
            "Epoch 119/300\n",
            "292/295 [============================>.] - ETA: 0s - loss: 0.7898 - accuracy: 0.8085"
          ]
        },
        {
          "name": "stderr",
          "output_type": "stream",
          "text": [
            "WARNING:tensorflow:Can save best model only with val_loss available, skipping.\n"
          ]
        },
        {
          "name": "stdout",
          "output_type": "stream",
          "text": [
            "\b\b\b\b\b\b\b\b\b\b\b\b\b\b\b\b\b\b\b\b\b\b\b\b\b\b\b\b\b\b\b\b\b\b\b\b\b\b\b\b\b\b\b\b\b\b\b\b\b\b\b\b\b\b\b\b\b\b\b\b\b\b\b\b\b\b\b\b\b\b\b\b\b\b\b\b\b\b\b\b\b\b\b\b\r295/295 [==============================] - 5s 15ms/step - loss: 0.7894 - accuracy: 0.8084\n",
            "Epoch 120/300\n",
            "295/295 [==============================] - ETA: 0s - loss: 0.7651 - accuracy: 0.8142"
          ]
        },
        {
          "name": "stderr",
          "output_type": "stream",
          "text": [
            "WARNING:tensorflow:Can save best model only with val_loss available, skipping.\n"
          ]
        },
        {
          "name": "stdout",
          "output_type": "stream",
          "text": [
            "\b\b\b\b\b\b\b\b\b\b\b\b\b\b\b\b\b\b\b\b\b\b\b\b\b\b\b\b\b\b\b\b\b\b\b\b\b\b\b\b\b\b\b\b\b\b\b\b\b\b\b\b\b\b\b\b\b\b\b\b\b\b\b\b\b\b\b\b\b\b\b\b\b\b\b\b\b\b\b\b\b\b\b\b\r295/295 [==============================] - 5s 16ms/step - loss: 0.7651 - accuracy: 0.8142\n",
            "Epoch 121/300\n",
            "292/295 [============================>.] - ETA: 0s - loss: 0.7601 - accuracy: 0.8174"
          ]
        },
        {
          "name": "stderr",
          "output_type": "stream",
          "text": [
            "WARNING:tensorflow:Can save best model only with val_loss available, skipping.\n"
          ]
        },
        {
          "name": "stdout",
          "output_type": "stream",
          "text": [
            "\b\b\b\b\b\b\b\b\b\b\b\b\b\b\b\b\b\b\b\b\b\b\b\b\b\b\b\b\b\b\b\b\b\b\b\b\b\b\b\b\b\b\b\b\b\b\b\b\b\b\b\b\b\b\b\b\b\b\b\b\b\b\b\b\b\b\b\b\b\b\b\b\b\b\b\b\b\b\b\b\b\b\b\b\r295/295 [==============================] - 5s 17ms/step - loss: 0.7615 - accuracy: 0.8172\n",
            "Epoch 122/300\n",
            "295/295 [==============================] - ETA: 0s - loss: 0.7578 - accuracy: 0.8142"
          ]
        },
        {
          "name": "stderr",
          "output_type": "stream",
          "text": [
            "WARNING:tensorflow:Can save best model only with val_loss available, skipping.\n"
          ]
        },
        {
          "name": "stdout",
          "output_type": "stream",
          "text": [
            "\b\b\b\b\b\b\b\b\b\b\b\b\b\b\b\b\b\b\b\b\b\b\b\b\b\b\b\b\b\b\b\b\b\b\b\b\b\b\b\b\b\b\b\b\b\b\b\b\b\b\b\b\b\b\b\b\b\b\b\b\b\b\b\b\b\b\b\b\b\b\b\b\b\b\b\b\b\b\b\b\b\b\b\b\r295/295 [==============================] - 5s 16ms/step - loss: 0.7578 - accuracy: 0.8142\n",
            "Epoch 123/300\n",
            "294/295 [============================>.] - ETA: 0s - loss: 0.7459 - accuracy: 0.8190"
          ]
        },
        {
          "name": "stderr",
          "output_type": "stream",
          "text": [
            "WARNING:tensorflow:Can save best model only with val_loss available, skipping.\n"
          ]
        },
        {
          "name": "stdout",
          "output_type": "stream",
          "text": [
            "\b\b\b\b\b\b\b\b\b\b\b\b\b\b\b\b\b\b\b\b\b\b\b\b\b\b\b\b\b\b\b\b\b\b\b\b\b\b\b\b\b\b\b\b\b\b\b\b\b\b\b\b\b\b\b\b\b\b\b\b\b\b\b\b\b\b\b\b\b\b\b\b\b\b\b\b\b\b\b\b\b\b\b\b\r295/295 [==============================] - 5s 17ms/step - loss: 0.7457 - accuracy: 0.8190\n",
            "Epoch 124/300\n",
            "292/295 [============================>.] - ETA: 0s - loss: 0.7300 - accuracy: 0.8193"
          ]
        },
        {
          "name": "stderr",
          "output_type": "stream",
          "text": [
            "WARNING:tensorflow:Can save best model only with val_loss available, skipping.\n"
          ]
        },
        {
          "name": "stdout",
          "output_type": "stream",
          "text": [
            "\b\b\b\b\b\b\b\b\b\b\b\b\b\b\b\b\b\b\b\b\b\b\b\b\b\b\b\b\b\b\b\b\b\b\b\b\b\b\b\b\b\b\b\b\b\b\b\b\b\b\b\b\b\b\b\b\b\b\b\b\b\b\b\b\b\b\b\b\b\b\b\b\b\b\b\b\b\b\b\b\b\b\b\b\r295/295 [==============================] - 5s 16ms/step - loss: 0.7293 - accuracy: 0.8196\n",
            "Epoch 125/300\n",
            "295/295 [==============================] - ETA: 0s - loss: 0.7400 - accuracy: 0.8193"
          ]
        },
        {
          "name": "stderr",
          "output_type": "stream",
          "text": [
            "WARNING:tensorflow:Can save best model only with val_loss available, skipping.\n"
          ]
        },
        {
          "name": "stdout",
          "output_type": "stream",
          "text": [
            "\b\b\b\b\b\b\b\b\b\b\b\b\b\b\b\b\b\b\b\b\b\b\b\b\b\b\b\b\b\b\b\b\b\b\b\b\b\b\b\b\b\b\b\b\b\b\b\b\b\b\b\b\b\b\b\b\b\b\b\b\b\b\b\b\b\b\b\b\b\b\b\b\b\b\b\b\b\b\b\b\b\b\b\b\r295/295 [==============================] - 5s 15ms/step - loss: 0.7400 - accuracy: 0.8193\n",
            "Epoch 126/300\n",
            "292/295 [============================>.] - ETA: 0s - loss: 0.7320 - accuracy: 0.8187"
          ]
        },
        {
          "name": "stderr",
          "output_type": "stream",
          "text": [
            "WARNING:tensorflow:Can save best model only with val_loss available, skipping.\n"
          ]
        },
        {
          "name": "stdout",
          "output_type": "stream",
          "text": [
            "\b\b\b\b\b\b\b\b\b\b\b\b\b\b\b\b\b\b\b\b\b\b\b\b\b\b\b\b\b\b\b\b\b\b\b\b\b\b\b\b\b\b\b\b\b\b\b\b\b\b\b\b\b\b\b\b\b\b\b\b\b\b\b\b\b\b\b\b\b\b\b\b\b\b\b\b\b\b\b\b\b\b\b\b\r295/295 [==============================] - 5s 17ms/step - loss: 0.7312 - accuracy: 0.8190\n",
            "Epoch 127/300\n",
            "292/295 [============================>.] - ETA: 0s - loss: 0.7136 - accuracy: 0.8258"
          ]
        },
        {
          "name": "stderr",
          "output_type": "stream",
          "text": [
            "WARNING:tensorflow:Can save best model only with val_loss available, skipping.\n"
          ]
        },
        {
          "name": "stdout",
          "output_type": "stream",
          "text": [
            "\b\b\b\b\b\b\b\b\b\b\b\b\b\b\b\b\b\b\b\b\b\b\b\b\b\b\b\b\b\b\b\b\b\b\b\b\b\b\b\b\b\b\b\b\b\b\b\b\b\b\b\b\b\b\b\b\b\b\b\b\b\b\b\b\b\b\b\b\b\b\b\b\b\b\b\b\b\b\b\b\b\b\b\b\r295/295 [==============================] - 5s 16ms/step - loss: 0.7146 - accuracy: 0.8256\n",
            "Epoch 128/300\n",
            "294/295 [============================>.] - ETA: 0s - loss: 0.7144 - accuracy: 0.8248"
          ]
        },
        {
          "name": "stderr",
          "output_type": "stream",
          "text": [
            "WARNING:tensorflow:Can save best model only with val_loss available, skipping.\n"
          ]
        },
        {
          "name": "stdout",
          "output_type": "stream",
          "text": [
            "\b\b\b\b\b\b\b\b\b\b\b\b\b\b\b\b\b\b\b\b\b\b\b\b\b\b\b\b\b\b\b\b\b\b\b\b\b\b\b\b\b\b\b\b\b\b\b\b\b\b\b\b\b\b\b\b\b\b\b\b\b\b\b\b\b\b\b\b\b\b\b\b\b\b\b\b\b\b\b\b\b\b\b\b\r295/295 [==============================] - 5s 16ms/step - loss: 0.7137 - accuracy: 0.8249\n",
            "Epoch 129/300\n",
            "294/295 [============================>.] - ETA: 0s - loss: 0.6998 - accuracy: 0.8277"
          ]
        },
        {
          "name": "stderr",
          "output_type": "stream",
          "text": [
            "WARNING:tensorflow:Can save best model only with val_loss available, skipping.\n"
          ]
        },
        {
          "name": "stdout",
          "output_type": "stream",
          "text": [
            "\b\b\b\b\b\b\b\b\b\b\b\b\b\b\b\b\b\b\b\b\b\b\b\b\b\b\b\b\b\b\b\b\b\b\b\b\b\b\b\b\b\b\b\b\b\b\b\b\b\b\b\b\b\b\b\b\b\b\b\b\b\b\b\b\b\b\b\b\b\b\b\b\b\b\b\b\b\b\b\b\b\b\b\b\r295/295 [==============================] - 5s 17ms/step - loss: 0.7000 - accuracy: 0.8277\n",
            "Epoch 130/300\n",
            "293/295 [============================>.] - ETA: 0s - loss: 0.7025 - accuracy: 0.8279"
          ]
        },
        {
          "name": "stderr",
          "output_type": "stream",
          "text": [
            "WARNING:tensorflow:Can save best model only with val_loss available, skipping.\n"
          ]
        },
        {
          "name": "stdout",
          "output_type": "stream",
          "text": [
            "\b\b\b\b\b\b\b\b\b\b\b\b\b\b\b\b\b\b\b\b\b\b\b\b\b\b\b\b\b\b\b\b\b\b\b\b\b\b\b\b\b\b\b\b\b\b\b\b\b\b\b\b\b\b\b\b\b\b\b\b\b\b\b\b\b\b\b\b\b\b\b\b\b\b\b\b\b\b\b\b\b\b\b\b\r295/295 [==============================] - 5s 16ms/step - loss: 0.7013 - accuracy: 0.8282\n",
            "Epoch 131/300\n",
            "295/295 [==============================] - ETA: 0s - loss: 0.7039 - accuracy: 0.8271"
          ]
        },
        {
          "name": "stderr",
          "output_type": "stream",
          "text": [
            "WARNING:tensorflow:Can save best model only with val_loss available, skipping.\n"
          ]
        },
        {
          "name": "stdout",
          "output_type": "stream",
          "text": [
            "\b\b\b\b\b\b\b\b\b\b\b\b\b\b\b\b\b\b\b\b\b\b\b\b\b\b\b\b\b\b\b\b\b\b\b\b\b\b\b\b\b\b\b\b\b\b\b\b\b\b\b\b\b\b\b\b\b\b\b\b\b\b\b\b\b\b\b\b\b\b\b\b\b\b\b\b\b\b\b\b\b\b\b\b\r295/295 [==============================] - 5s 17ms/step - loss: 0.7039 - accuracy: 0.8271\n",
            "Epoch 132/300\n",
            "295/295 [==============================] - ETA: 0s - loss: 0.6895 - accuracy: 0.8310"
          ]
        },
        {
          "name": "stderr",
          "output_type": "stream",
          "text": [
            "WARNING:tensorflow:Can save best model only with val_loss available, skipping.\n"
          ]
        },
        {
          "name": "stdout",
          "output_type": "stream",
          "text": [
            "\b\b\b\b\b\b\b\b\b\b\b\b\b\b\b\b\b\b\b\b\b\b\b\b\b\b\b\b\b\b\b\b\b\b\b\b\b\b\b\b\b\b\b\b\b\b\b\b\b\b\b\b\b\b\b\b\b\b\b\b\b\b\b\b\b\b\b\b\b\b\b\b\b\b\b\b\b\b\b\b\b\b\b\b\r295/295 [==============================] - 5s 15ms/step - loss: 0.6895 - accuracy: 0.8310\n",
            "Epoch 133/300\n",
            "294/295 [============================>.] - ETA: 0s - loss: 0.6799 - accuracy: 0.8332"
          ]
        },
        {
          "name": "stderr",
          "output_type": "stream",
          "text": [
            "WARNING:tensorflow:Can save best model only with val_loss available, skipping.\n"
          ]
        },
        {
          "name": "stdout",
          "output_type": "stream",
          "text": [
            "\b\b\b\b\b\b\b\b\b\b\b\b\b\b\b\b\b\b\b\b\b\b\b\b\b\b\b\b\b\b\b\b\b\b\b\b\b\b\b\b\b\b\b\b\b\b\b\b\b\b\b\b\b\b\b\b\b\b\b\b\b\b\b\b\b\b\b\b\b\b\b\b\b\b\b\b\b\b\b\b\b\b\b\b\r295/295 [==============================] - 5s 16ms/step - loss: 0.6806 - accuracy: 0.8332\n",
            "Epoch 134/300\n",
            "293/295 [============================>.] - ETA: 0s - loss: 0.6727 - accuracy: 0.8328"
          ]
        },
        {
          "name": "stderr",
          "output_type": "stream",
          "text": [
            "WARNING:tensorflow:Can save best model only with val_loss available, skipping.\n"
          ]
        },
        {
          "name": "stdout",
          "output_type": "stream",
          "text": [
            "\b\b\b\b\b\b\b\b\b\b\b\b\b\b\b\b\b\b\b\b\b\b\b\b\b\b\b\b\b\b\b\b\b\b\b\b\b\b\b\b\b\b\b\b\b\b\b\b\b\b\b\b\b\b\b\b\b\b\b\b\b\b\b\b\b\b\b\b\b\b\b\b\b\b\b\b\b\b\b\b\b\b\b\b\r295/295 [==============================] - 5s 17ms/step - loss: 0.6732 - accuracy: 0.8327\n",
            "Epoch 135/300\n",
            "295/295 [==============================] - ETA: 0s - loss: 0.6702 - accuracy: 0.8341"
          ]
        },
        {
          "name": "stderr",
          "output_type": "stream",
          "text": [
            "WARNING:tensorflow:Can save best model only with val_loss available, skipping.\n"
          ]
        },
        {
          "name": "stdout",
          "output_type": "stream",
          "text": [
            "\b\b\b\b\b\b\b\b\b\b\b\b\b\b\b\b\b\b\b\b\b\b\b\b\b\b\b\b\b\b\b\b\b\b\b\b\b\b\b\b\b\b\b\b\b\b\b\b\b\b\b\b\b\b\b\b\b\b\b\b\b\b\b\b\b\b\b\b\b\b\b\b\b\b\b\b\b\b\b\b\b\b\b\b\r295/295 [==============================] - 5s 15ms/step - loss: 0.6702 - accuracy: 0.8341\n",
            "Epoch 136/300\n",
            "294/295 [============================>.] - ETA: 0s - loss: 0.6707 - accuracy: 0.8330"
          ]
        },
        {
          "name": "stderr",
          "output_type": "stream",
          "text": [
            "WARNING:tensorflow:Can save best model only with val_loss available, skipping.\n"
          ]
        },
        {
          "name": "stdout",
          "output_type": "stream",
          "text": [
            "\b\b\b\b\b\b\b\b\b\b\b\b\b\b\b\b\b\b\b\b\b\b\b\b\b\b\b\b\b\b\b\b\b\b\b\b\b\b\b\b\b\b\b\b\b\b\b\b\b\b\b\b\b\b\b\b\b\b\b\b\b\b\b\b\b\b\b\b\b\b\b\b\b\b\b\b\b\b\b\b\b\b\b\b\r295/295 [==============================] - 5s 17ms/step - loss: 0.6718 - accuracy: 0.8327\n",
            "Epoch 137/300\n",
            "294/295 [============================>.] - ETA: 0s - loss: 0.6671 - accuracy: 0.8348"
          ]
        },
        {
          "name": "stderr",
          "output_type": "stream",
          "text": [
            "WARNING:tensorflow:Can save best model only with val_loss available, skipping.\n"
          ]
        },
        {
          "name": "stdout",
          "output_type": "stream",
          "text": [
            "\b\b\b\b\b\b\b\b\b\b\b\b\b\b\b\b\b\b\b\b\b\b\b\b\b\b\b\b\b\b\b\b\b\b\b\b\b\b\b\b\b\b\b\b\b\b\b\b\b\b\b\b\b\b\b\b\b\b\b\b\b\b\b\b\b\b\b\b\b\b\b\b\b\b\b\b\b\b\b\b\b\b\b\b\r295/295 [==============================] - 5s 15ms/step - loss: 0.6678 - accuracy: 0.8347\n",
            "Epoch 138/300\n",
            "292/295 [============================>.] - ETA: 0s - loss: 0.6543 - accuracy: 0.8387"
          ]
        },
        {
          "name": "stderr",
          "output_type": "stream",
          "text": [
            "WARNING:tensorflow:Can save best model only with val_loss available, skipping.\n"
          ]
        },
        {
          "name": "stdout",
          "output_type": "stream",
          "text": [
            "\b\b\b\b\b\b\b\b\b\b\b\b\b\b\b\b\b\b\b\b\b\b\b\b\b\b\b\b\b\b\b\b\b\b\b\b\b\b\b\b\b\b\b\b\b\b\b\b\b\b\b\b\b\b\b\b\b\b\b\b\b\b\b\b\b\b\b\b\b\b\b\b\b\b\b\b\b\b\b\b\b\b\b\b\r295/295 [==============================] - 5s 15ms/step - loss: 0.6546 - accuracy: 0.8386\n",
            "Epoch 139/300\n",
            "294/295 [============================>.] - ETA: 0s - loss: 0.6463 - accuracy: 0.8404"
          ]
        },
        {
          "name": "stderr",
          "output_type": "stream",
          "text": [
            "WARNING:tensorflow:Can save best model only with val_loss available, skipping.\n"
          ]
        },
        {
          "name": "stdout",
          "output_type": "stream",
          "text": [
            "\b\b\b\b\b\b\b\b\b\b\b\b\b\b\b\b\b\b\b\b\b\b\b\b\b\b\b\b\b\b\b\b\b\b\b\b\b\b\b\b\b\b\b\b\b\b\b\b\b\b\b\b\b\b\b\b\b\b\b\b\b\b\b\b\b\b\b\b\b\b\b\b\b\b\b\b\b\b\b\b\b\b\b\b\r295/295 [==============================] - 5s 17ms/step - loss: 0.6484 - accuracy: 0.8402\n",
            "Epoch 140/300\n",
            "294/295 [============================>.] - ETA: 0s - loss: 0.6534 - accuracy: 0.8388"
          ]
        },
        {
          "name": "stderr",
          "output_type": "stream",
          "text": [
            "WARNING:tensorflow:Can save best model only with val_loss available, skipping.\n"
          ]
        },
        {
          "name": "stdout",
          "output_type": "stream",
          "text": [
            "\b\b\b\b\b\b\b\b\b\b\b\b\b\b\b\b\b\b\b\b\b\b\b\b\b\b\b\b\b\b\b\b\b\b\b\b\b\b\b\b\b\b\b\b\b\b\b\b\b\b\b\b\b\b\b\b\b\b\b\b\b\b\b\b\b\b\b\b\b\b\b\b\b\b\b\b\b\b\b\b\b\b\b\b\r295/295 [==============================] - 5s 16ms/step - loss: 0.6538 - accuracy: 0.8386\n",
            "Epoch 141/300\n",
            "293/295 [============================>.] - ETA: 0s - loss: 0.6468 - accuracy: 0.8412"
          ]
        },
        {
          "name": "stderr",
          "output_type": "stream",
          "text": [
            "WARNING:tensorflow:Can save best model only with val_loss available, skipping.\n"
          ]
        },
        {
          "name": "stdout",
          "output_type": "stream",
          "text": [
            "\b\b\b\b\b\b\b\b\b\b\b\b\b\b\b\b\b\b\b\b\b\b\b\b\b\b\b\b\b\b\b\b\b\b\b\b\b\b\b\b\b\b\b\b\b\b\b\b\b\b\b\b\b\b\b\b\b\b\b\b\b\b\b\b\b\b\b\b\b\b\b\b\b\b\b\b\b\b\b\b\b\b\b\b\r295/295 [==============================] - 5s 17ms/step - loss: 0.6487 - accuracy: 0.8408\n",
            "Epoch 142/300\n",
            "293/295 [============================>.] - ETA: 0s - loss: 0.6310 - accuracy: 0.8436"
          ]
        },
        {
          "name": "stderr",
          "output_type": "stream",
          "text": [
            "WARNING:tensorflow:Can save best model only with val_loss available, skipping.\n"
          ]
        },
        {
          "name": "stdout",
          "output_type": "stream",
          "text": [
            "\b\b\b\b\b\b\b\b\b\b\b\b\b\b\b\b\b\b\b\b\b\b\b\b\b\b\b\b\b\b\b\b\b\b\b\b\b\b\b\b\b\b\b\b\b\b\b\b\b\b\b\b\b\b\b\b\b\b\b\b\b\b\b\b\b\b\b\b\b\b\b\b\b\b\b\b\b\b\b\b\b\b\b\b\r295/295 [==============================] - 5s 17ms/step - loss: 0.6318 - accuracy: 0.8436\n",
            "Epoch 143/300\n",
            "294/295 [============================>.] - ETA: 0s - loss: 0.6284 - accuracy: 0.8414"
          ]
        },
        {
          "name": "stderr",
          "output_type": "stream",
          "text": [
            "WARNING:tensorflow:Can save best model only with val_loss available, skipping.\n"
          ]
        },
        {
          "name": "stdout",
          "output_type": "stream",
          "text": [
            "\b\b\b\b\b\b\b\b\b\b\b\b\b\b\b\b\b\b\b\b\b\b\b\b\b\b\b\b\b\b\b\b\b\b\b\b\b\b\b\b\b\b\b\b\b\b\b\b\b\b\b\b\b\b\b\b\b\b\b\b\b\b\b\b\b\b\b\b\b\b\b\b\b\b\b\b\b\b\b\b\b\b\b\b\r295/295 [==============================] - 5s 16ms/step - loss: 0.6282 - accuracy: 0.8416\n",
            "Epoch 144/300\n",
            "294/295 [============================>.] - ETA: 0s - loss: 0.6330 - accuracy: 0.8418"
          ]
        },
        {
          "name": "stderr",
          "output_type": "stream",
          "text": [
            "WARNING:tensorflow:Can save best model only with val_loss available, skipping.\n"
          ]
        },
        {
          "name": "stdout",
          "output_type": "stream",
          "text": [
            "\b\b\b\b\b\b\b\b\b\b\b\b\b\b\b\b\b\b\b\b\b\b\b\b\b\b\b\b\b\b\b\b\b\b\b\b\b\b\b\b\b\b\b\b\b\b\b\b\b\b\b\b\b\b\b\b\b\b\b\b\b\b\b\b\b\b\b\b\b\b\b\b\b\b\b\b\b\b\b\b\b\b\b\b\r295/295 [==============================] - 5s 17ms/step - loss: 0.6325 - accuracy: 0.8418\n",
            "Epoch 145/300\n",
            "295/295 [==============================] - ETA: 0s - loss: 0.6217 - accuracy: 0.8446"
          ]
        },
        {
          "name": "stderr",
          "output_type": "stream",
          "text": [
            "WARNING:tensorflow:Can save best model only with val_loss available, skipping.\n"
          ]
        },
        {
          "name": "stdout",
          "output_type": "stream",
          "text": [
            "\b\b\b\b\b\b\b\b\b\b\b\b\b\b\b\b\b\b\b\b\b\b\b\b\b\b\b\b\b\b\b\b\b\b\b\b\b\b\b\b\b\b\b\b\b\b\b\b\b\b\b\b\b\b\b\b\b\b\b\b\b\b\b\b\b\b\b\b\b\b\b\b\b\b\b\b\b\b\b\b\b\b\b\b\r295/295 [==============================] - 5s 16ms/step - loss: 0.6217 - accuracy: 0.8446\n",
            "Epoch 146/300\n",
            "295/295 [==============================] - ETA: 0s - loss: 0.6111 - accuracy: 0.8474"
          ]
        },
        {
          "name": "stderr",
          "output_type": "stream",
          "text": [
            "WARNING:tensorflow:Can save best model only with val_loss available, skipping.\n"
          ]
        },
        {
          "name": "stdout",
          "output_type": "stream",
          "text": [
            "\b\b\b\b\b\b\b\b\b\b\b\b\b\b\b\b\b\b\b\b\b\b\b\b\b\b\b\b\b\b\b\b\b\b\b\b\b\b\b\b\b\b\b\b\b\b\b\b\b\b\b\b\b\b\b\b\b\b\b\b\b\b\b\b\b\b\b\b\b\b\b\b\b\b\b\b\b\b\b\b\b\b\b\b\r295/295 [==============================] - 5s 17ms/step - loss: 0.6111 - accuracy: 0.8474\n",
            "Epoch 147/300\n",
            "295/295 [==============================] - ETA: 0s - loss: 0.6170 - accuracy: 0.8438"
          ]
        },
        {
          "name": "stderr",
          "output_type": "stream",
          "text": [
            "WARNING:tensorflow:Can save best model only with val_loss available, skipping.\n"
          ]
        },
        {
          "name": "stdout",
          "output_type": "stream",
          "text": [
            "\b\b\b\b\b\b\b\b\b\b\b\b\b\b\b\b\b\b\b\b\b\b\b\b\b\b\b\b\b\b\b\b\b\b\b\b\b\b\b\b\b\b\b\b\b\b\b\b\b\b\b\b\b\b\b\b\b\b\b\b\b\b\b\b\b\b\b\b\b\b\b\b\b\b\b\b\b\b\b\b\b\b\b\b\r295/295 [==============================] - 5s 16ms/step - loss: 0.6170 - accuracy: 0.8438\n",
            "Epoch 148/300\n",
            "295/295 [==============================] - ETA: 0s - loss: 0.6129 - accuracy: 0.8474"
          ]
        },
        {
          "name": "stderr",
          "output_type": "stream",
          "text": [
            "WARNING:tensorflow:Can save best model only with val_loss available, skipping.\n"
          ]
        },
        {
          "name": "stdout",
          "output_type": "stream",
          "text": [
            "\b\b\b\b\b\b\b\b\b\b\b\b\b\b\b\b\b\b\b\b\b\b\b\b\b\b\b\b\b\b\b\b\b\b\b\b\b\b\b\b\b\b\b\b\b\b\b\b\b\b\b\b\b\b\b\b\b\b\b\b\b\b\b\b\b\b\b\b\b\b\b\b\b\b\b\b\b\b\b\b\b\b\b\b\r295/295 [==============================] - 5s 15ms/step - loss: 0.6129 - accuracy: 0.8474\n",
            "Epoch 149/300\n",
            "294/295 [============================>.] - ETA: 0s - loss: 0.6146 - accuracy: 0.8443"
          ]
        },
        {
          "name": "stderr",
          "output_type": "stream",
          "text": [
            "WARNING:tensorflow:Can save best model only with val_loss available, skipping.\n"
          ]
        },
        {
          "name": "stdout",
          "output_type": "stream",
          "text": [
            "\b\b\b\b\b\b\b\b\b\b\b\b\b\b\b\b\b\b\b\b\b\b\b\b\b\b\b\b\b\b\b\b\b\b\b\b\b\b\b\b\b\b\b\b\b\b\b\b\b\b\b\b\b\b\b\b\b\b\b\b\b\b\b\b\b\b\b\b\b\b\b\b\b\b\b\b\b\b\b\b\b\b\b\b\r295/295 [==============================] - 5s 17ms/step - loss: 0.6150 - accuracy: 0.8443\n",
            "Epoch 150/300\n",
            "293/295 [============================>.] - ETA: 0s - loss: 0.6089 - accuracy: 0.8457"
          ]
        },
        {
          "name": "stderr",
          "output_type": "stream",
          "text": [
            "WARNING:tensorflow:Can save best model only with val_loss available, skipping.\n"
          ]
        },
        {
          "name": "stdout",
          "output_type": "stream",
          "text": [
            "\b\b\b\b\b\b\b\b\b\b\b\b\b\b\b\b\b\b\b\b\b\b\b\b\b\b\b\b\b\b\b\b\b\b\b\b\b\b\b\b\b\b\b\b\b\b\b\b\b\b\b\b\b\b\b\b\b\b\b\b\b\b\b\b\b\b\b\b\b\b\b\b\b\b\b\b\b\b\b\b\b\b\b\b\r295/295 [==============================] - 5s 15ms/step - loss: 0.6105 - accuracy: 0.8455\n",
            "Epoch 151/300\n",
            "293/295 [============================>.] - ETA: 0s - loss: 0.6064 - accuracy: 0.8479"
          ]
        },
        {
          "name": "stderr",
          "output_type": "stream",
          "text": [
            "WARNING:tensorflow:Can save best model only with val_loss available, skipping.\n"
          ]
        },
        {
          "name": "stdout",
          "output_type": "stream",
          "text": [
            "\b\b\b\b\b\b\b\b\b\b\b\b\b\b\b\b\b\b\b\b\b\b\b\b\b\b\b\b\b\b\b\b\b\b\b\b\b\b\b\b\b\b\b\b\b\b\b\b\b\b\b\b\b\b\b\b\b\b\b\b\b\b\b\b\b\b\b\b\b\b\b\b\b\b\b\b\b\b\b\b\b\b\b\b\r295/295 [==============================] - 5s 16ms/step - loss: 0.6063 - accuracy: 0.8480\n",
            "Epoch 152/300\n",
            "294/295 [============================>.] - ETA: 0s - loss: 0.5883 - accuracy: 0.8527"
          ]
        },
        {
          "name": "stderr",
          "output_type": "stream",
          "text": [
            "WARNING:tensorflow:Can save best model only with val_loss available, skipping.\n"
          ]
        },
        {
          "name": "stdout",
          "output_type": "stream",
          "text": [
            "\b\b\b\b\b\b\b\b\b\b\b\b\b\b\b\b\b\b\b\b\b\b\b\b\b\b\b\b\b\b\b\b\b\b\b\b\b\b\b\b\b\b\b\b\b\b\b\b\b\b\b\b\b\b\b\b\b\b\b\b\b\b\b\b\b\b\b\b\b\b\b\b\b\b\b\b\b\b\b\b\b\b\b\b\r295/295 [==============================] - 5s 17ms/step - loss: 0.5883 - accuracy: 0.8527\n",
            "Epoch 153/300\n",
            "292/295 [============================>.] - ETA: 0s - loss: 0.5975 - accuracy: 0.8489"
          ]
        },
        {
          "name": "stderr",
          "output_type": "stream",
          "text": [
            "WARNING:tensorflow:Can save best model only with val_loss available, skipping.\n"
          ]
        },
        {
          "name": "stdout",
          "output_type": "stream",
          "text": [
            "\b\b\b\b\b\b\b\b\b\b\b\b\b\b\b\b\b\b\b\b\b\b\b\b\b\b\b\b\b\b\b\b\b\b\b\b\b\b\b\b\b\b\b\b\b\b\b\b\b\b\b\b\b\b\b\b\b\b\b\b\b\b\b\b\b\b\b\b\b\b\b\b\b\b\b\b\b\b\b\b\b\b\b\b\r295/295 [==============================] - 5s 16ms/step - loss: 0.5983 - accuracy: 0.8488\n",
            "Epoch 154/300\n",
            "292/295 [============================>.] - ETA: 0s - loss: 0.5899 - accuracy: 0.8539"
          ]
        },
        {
          "name": "stderr",
          "output_type": "stream",
          "text": [
            "WARNING:tensorflow:Can save best model only with val_loss available, skipping.\n"
          ]
        },
        {
          "name": "stdout",
          "output_type": "stream",
          "text": [
            "\b\b\b\b\b\b\b\b\b\b\b\b\b\b\b\b\b\b\b\b\b\b\b\b\b\b\b\b\b\b\b\b\b\b\b\b\b\b\b\b\b\b\b\b\b\b\b\b\b\b\b\b\b\b\b\b\b\b\b\b\b\b\b\b\b\b\b\b\b\b\b\b\b\b\b\b\b\b\b\b\b\b\b\b\r295/295 [==============================] - 5s 17ms/step - loss: 0.5918 - accuracy: 0.8534\n",
            "Epoch 155/300\n",
            "292/295 [============================>.] - ETA: 0s - loss: 0.5829 - accuracy: 0.8525"
          ]
        },
        {
          "name": "stderr",
          "output_type": "stream",
          "text": [
            "WARNING:tensorflow:Can save best model only with val_loss available, skipping.\n"
          ]
        },
        {
          "name": "stdout",
          "output_type": "stream",
          "text": [
            "\b\b\b\b\b\b\b\b\b\b\b\b\b\b\b\b\b\b\b\b\b\b\b\b\b\b\b\b\b\b\b\b\b\b\b\b\b\b\b\b\b\b\b\b\b\b\b\b\b\b\b\b\b\b\b\b\b\b\b\b\b\b\b\b\b\b\b\b\b\b\b\b\b\b\b\b\b\b\b\b\b\b\b\b\r295/295 [==============================] - 5s 16ms/step - loss: 0.5816 - accuracy: 0.8527\n",
            "Epoch 156/300\n",
            "293/295 [============================>.] - ETA: 0s - loss: 0.5757 - accuracy: 0.8549"
          ]
        },
        {
          "name": "stderr",
          "output_type": "stream",
          "text": [
            "WARNING:tensorflow:Can save best model only with val_loss available, skipping.\n"
          ]
        },
        {
          "name": "stdout",
          "output_type": "stream",
          "text": [
            "\b\b\b\b\b\b\b\b\b\b\b\b\b\b\b\b\b\b\b\b\b\b\b\b\b\b\b\b\b\b\b\b\b\b\b\b\b\b\b\b\b\b\b\b\b\b\b\b\b\b\b\b\b\b\b\b\b\b\b\b\b\b\b\b\b\b\b\b\b\b\b\b\b\b\b\b\b\b\b\b\b\b\b\b\r295/295 [==============================] - 5s 16ms/step - loss: 0.5760 - accuracy: 0.8547\n",
            "Epoch 157/300\n",
            "295/295 [==============================] - ETA: 0s - loss: 0.5715 - accuracy: 0.8547"
          ]
        },
        {
          "name": "stderr",
          "output_type": "stream",
          "text": [
            "WARNING:tensorflow:Can save best model only with val_loss available, skipping.\n"
          ]
        },
        {
          "name": "stdout",
          "output_type": "stream",
          "text": [
            "\b\b\b\b\b\b\b\b\b\b\b\b\b\b\b\b\b\b\b\b\b\b\b\b\b\b\b\b\b\b\b\b\b\b\b\b\b\b\b\b\b\b\b\b\b\b\b\b\b\b\b\b\b\b\b\b\b\b\b\b\b\b\b\b\b\b\b\b\b\b\b\b\b\b\b\b\b\b\b\b\b\b\b\b\r295/295 [==============================] - 5s 17ms/step - loss: 0.5715 - accuracy: 0.8547\n",
            "Epoch 158/300\n",
            "294/295 [============================>.] - ETA: 0s - loss: 0.5787 - accuracy: 0.8526"
          ]
        },
        {
          "name": "stderr",
          "output_type": "stream",
          "text": [
            "WARNING:tensorflow:Can save best model only with val_loss available, skipping.\n"
          ]
        },
        {
          "name": "stdout",
          "output_type": "stream",
          "text": [
            "\b\b\b\b\b\b\b\b\b\b\b\b\b\b\b\b\b\b\b\b\b\b\b\b\b\b\b\b\b\b\b\b\b\b\b\b\b\b\b\b\b\b\b\b\b\b\b\b\b\b\b\b\b\b\b\b\b\b\b\b\b\b\b\b\b\b\b\b\b\b\b\b\b\b\b\b\b\b\b\b\b\b\b\b\r295/295 [==============================] - 5s 16ms/step - loss: 0.5785 - accuracy: 0.8527\n",
            "Epoch 159/300\n",
            "292/295 [============================>.] - ETA: 0s - loss: 0.5701 - accuracy: 0.8540"
          ]
        },
        {
          "name": "stderr",
          "output_type": "stream",
          "text": [
            "WARNING:tensorflow:Can save best model only with val_loss available, skipping.\n"
          ]
        },
        {
          "name": "stdout",
          "output_type": "stream",
          "text": [
            "\b\b\b\b\b\b\b\b\b\b\b\b\b\b\b\b\b\b\b\b\b\b\b\b\b\b\b\b\b\b\b\b\b\b\b\b\b\b\b\b\b\b\b\b\b\b\b\b\b\b\b\b\b\b\b\b\b\b\b\b\b\b\b\b\b\b\b\b\b\b\b\b\b\b\b\b\b\b\b\b\b\b\b\b\r295/295 [==============================] - 5s 17ms/step - loss: 0.5734 - accuracy: 0.8534\n",
            "Epoch 160/300\n",
            "294/295 [============================>.] - ETA: 0s - loss: 0.5675 - accuracy: 0.8558"
          ]
        },
        {
          "name": "stderr",
          "output_type": "stream",
          "text": [
            "WARNING:tensorflow:Can save best model only with val_loss available, skipping.\n"
          ]
        },
        {
          "name": "stdout",
          "output_type": "stream",
          "text": [
            "\b\b\b\b\b\b\b\b\b\b\b\b\b\b\b\b\b\b\b\b\b\b\b\b\b\b\b\b\b\b\b\b\b\b\b\b\b\b\b\b\b\b\b\b\b\b\b\b\b\b\b\b\b\b\b\b\b\b\b\b\b\b\b\b\b\b\b\b\b\b\b\b\b\b\b\b\b\b\b\b\b\b\b\b\r295/295 [==============================] - 5s 16ms/step - loss: 0.5682 - accuracy: 0.8556\n",
            "Epoch 161/300\n",
            "292/295 [============================>.] - ETA: 0s - loss: 0.5667 - accuracy: 0.8563"
          ]
        },
        {
          "name": "stderr",
          "output_type": "stream",
          "text": [
            "WARNING:tensorflow:Can save best model only with val_loss available, skipping.\n"
          ]
        },
        {
          "name": "stdout",
          "output_type": "stream",
          "text": [
            "\b\b\b\b\b\b\b\b\b\b\b\b\b\b\b\b\b\b\b\b\b\b\b\b\b\b\b\b\b\b\b\b\b\b\b\b\b\b\b\b\b\b\b\b\b\b\b\b\b\b\b\b\b\b\b\b\b\b\b\b\b\b\b\b\b\b\b\b\b\b\b\b\b\b\b\b\b\b\b\b\b\b\b\b\r295/295 [==============================] - 5s 16ms/step - loss: 0.5665 - accuracy: 0.8564\n",
            "Epoch 162/300\n",
            "295/295 [==============================] - ETA: 0s - loss: 0.5653 - accuracy: 0.8551"
          ]
        },
        {
          "name": "stderr",
          "output_type": "stream",
          "text": [
            "WARNING:tensorflow:Can save best model only with val_loss available, skipping.\n"
          ]
        },
        {
          "name": "stdout",
          "output_type": "stream",
          "text": [
            "\b\b\b\b\b\b\b\b\b\b\b\b\b\b\b\b\b\b\b\b\b\b\b\b\b\b\b\b\b\b\b\b\b\b\b\b\b\b\b\b\b\b\b\b\b\b\b\b\b\b\b\b\b\b\b\b\b\b\b\b\b\b\b\b\b\b\b\b\b\b\b\b\b\b\b\b\b\b\b\b\b\b\b\b\r295/295 [==============================] - 5s 17ms/step - loss: 0.5653 - accuracy: 0.8551\n",
            "Epoch 163/300\n",
            "294/295 [============================>.] - ETA: 0s - loss: 0.5567 - accuracy: 0.8606"
          ]
        },
        {
          "name": "stderr",
          "output_type": "stream",
          "text": [
            "WARNING:tensorflow:Can save best model only with val_loss available, skipping.\n"
          ]
        },
        {
          "name": "stdout",
          "output_type": "stream",
          "text": [
            "\b\b\b\b\b\b\b\b\b\b\b\b\b\b\b\b\b\b\b\b\b\b\b\b\b\b\b\b\b\b\b\b\b\b\b\b\b\b\b\b\b\b\b\b\b\b\b\b\b\b\b\b\b\b\b\b\b\b\b\b\b\b\b\b\b\b\b\b\b\b\b\b\b\b\b\b\b\b\b\b\b\b\b\b\r295/295 [==============================] - 5s 16ms/step - loss: 0.5566 - accuracy: 0.8606\n",
            "Epoch 164/300\n",
            "294/295 [============================>.] - ETA: 0s - loss: 0.5545 - accuracy: 0.8570"
          ]
        },
        {
          "name": "stderr",
          "output_type": "stream",
          "text": [
            "WARNING:tensorflow:Can save best model only with val_loss available, skipping.\n"
          ]
        },
        {
          "name": "stdout",
          "output_type": "stream",
          "text": [
            "\b\b\b\b\b\b\b\b\b\b\b\b\b\b\b\b\b\b\b\b\b\b\b\b\b\b\b\b\b\b\b\b\b\b\b\b\b\b\b\b\b\b\b\b\b\b\b\b\b\b\b\b\b\b\b\b\b\b\b\b\b\b\b\b\b\b\b\b\b\b\b\b\b\b\b\b\b\b\b\b\b\b\b\b\r295/295 [==============================] - 5s 17ms/step - loss: 0.5538 - accuracy: 0.8573\n",
            "Epoch 165/300\n",
            "293/295 [============================>.] - ETA: 0s - loss: 0.5503 - accuracy: 0.8596"
          ]
        },
        {
          "name": "stderr",
          "output_type": "stream",
          "text": [
            "WARNING:tensorflow:Can save best model only with val_loss available, skipping.\n"
          ]
        },
        {
          "name": "stdout",
          "output_type": "stream",
          "text": [
            "\b\b\b\b\b\b\b\b\b\b\b\b\b\b\b\b\b\b\b\b\b\b\b\b\b\b\b\b\b\b\b\b\b\b\b\b\b\b\b\b\b\b\b\b\b\b\b\b\b\b\b\b\b\b\b\b\b\b\b\b\b\b\b\b\b\b\b\b\b\b\b\b\b\b\b\b\b\b\b\b\b\b\b\b\r295/295 [==============================] - 5s 16ms/step - loss: 0.5499 - accuracy: 0.8597\n",
            "Epoch 166/300\n",
            "294/295 [============================>.] - ETA: 0s - loss: 0.5506 - accuracy: 0.8573"
          ]
        },
        {
          "name": "stderr",
          "output_type": "stream",
          "text": [
            "WARNING:tensorflow:Can save best model only with val_loss available, skipping.\n"
          ]
        },
        {
          "name": "stdout",
          "output_type": "stream",
          "text": [
            "\b\b\b\b\b\b\b\b\b\b\b\b\b\b\b\b\b\b\b\b\b\b\b\b\b\b\b\b\b\b\b\b\b\b\b\b\b\b\b\b\b\b\b\b\b\b\b\b\b\b\b\b\b\b\b\b\b\b\b\b\b\b\b\b\b\b\b\b\b\b\b\b\b\b\b\b\b\b\b\b\b\b\b\b\r295/295 [==============================] - 5s 16ms/step - loss: 0.5517 - accuracy: 0.8571\n",
            "Epoch 167/300\n",
            "294/295 [============================>.] - ETA: 0s - loss: 0.5365 - accuracy: 0.8637"
          ]
        },
        {
          "name": "stderr",
          "output_type": "stream",
          "text": [
            "WARNING:tensorflow:Can save best model only with val_loss available, skipping.\n"
          ]
        },
        {
          "name": "stdout",
          "output_type": "stream",
          "text": [
            "\b\b\b\b\b\b\b\b\b\b\b\b\b\b\b\b\b\b\b\b\b\b\b\b\b\b\b\b\b\b\b\b\b\b\b\b\b\b\b\b\b\b\b\b\b\b\b\b\b\b\b\b\b\b\b\b\b\b\b\b\b\b\b\b\b\b\b\b\b\b\b\b\b\b\b\b\b\b\b\b\b\b\b\b\r295/295 [==============================] - 5s 17ms/step - loss: 0.5371 - accuracy: 0.8635\n",
            "Epoch 168/300\n",
            "292/295 [============================>.] - ETA: 0s - loss: 0.5382 - accuracy: 0.8615"
          ]
        },
        {
          "name": "stderr",
          "output_type": "stream",
          "text": [
            "WARNING:tensorflow:Can save best model only with val_loss available, skipping.\n"
          ]
        },
        {
          "name": "stdout",
          "output_type": "stream",
          "text": [
            "\b\b\b\b\b\b\b\b\b\b\b\b\b\b\b\b\b\b\b\b\b\b\b\b\b\b\b\b\b\b\b\b\b\b\b\b\b\b\b\b\b\b\b\b\b\b\b\b\b\b\b\b\b\b\b\b\b\b\b\b\b\b\b\b\b\b\b\b\b\b\b\b\b\b\b\b\b\b\b\b\b\b\b\b\r295/295 [==============================] - 5s 16ms/step - loss: 0.5373 - accuracy: 0.8618\n",
            "Epoch 169/300\n",
            "295/295 [==============================] - ETA: 0s - loss: 0.5282 - accuracy: 0.8666"
          ]
        },
        {
          "name": "stderr",
          "output_type": "stream",
          "text": [
            "WARNING:tensorflow:Can save best model only with val_loss available, skipping.\n"
          ]
        },
        {
          "name": "stdout",
          "output_type": "stream",
          "text": [
            "\b\b\b\b\b\b\b\b\b\b\b\b\b\b\b\b\b\b\b\b\b\b\b\b\b\b\b\b\b\b\b\b\b\b\b\b\b\b\b\b\b\b\b\b\b\b\b\b\b\b\b\b\b\b\b\b\b\b\b\b\b\b\b\b\b\b\b\b\b\b\b\b\b\b\b\b\b\b\b\b\b\b\b\b\r295/295 [==============================] - 5s 16ms/step - loss: 0.5282 - accuracy: 0.8666\n",
            "Epoch 170/300\n",
            "292/295 [============================>.] - ETA: 0s - loss: 0.5429 - accuracy: 0.8617"
          ]
        },
        {
          "name": "stderr",
          "output_type": "stream",
          "text": [
            "WARNING:tensorflow:Can save best model only with val_loss available, skipping.\n"
          ]
        },
        {
          "name": "stdout",
          "output_type": "stream",
          "text": [
            "\b\b\b\b\b\b\b\b\b\b\b\b\b\b\b\b\b\b\b\b\b\b\b\b\b\b\b\b\b\b\b\b\b\b\b\b\b\b\b\b\b\b\b\b\b\b\b\b\b\b\b\b\b\b\b\b\b\b\b\b\b\b\b\b\b\b\b\b\b\b\b\b\b\b\b\b\b\b\b\b\b\b\b\b\r295/295 [==============================] - 5s 16ms/step - loss: 0.5437 - accuracy: 0.8611\n",
            "Epoch 171/300\n",
            "295/295 [==============================] - ETA: 0s - loss: 0.5322 - accuracy: 0.8625"
          ]
        },
        {
          "name": "stderr",
          "output_type": "stream",
          "text": [
            "WARNING:tensorflow:Can save best model only with val_loss available, skipping.\n"
          ]
        },
        {
          "name": "stdout",
          "output_type": "stream",
          "text": [
            "\b\b\b\b\b\b\b\b\b\b\b\b\b\b\b\b\b\b\b\b\b\b\b\b\b\b\b\b\b\b\b\b\b\b\b\b\b\b\b\b\b\b\b\b\b\b\b\b\b\b\b\b\b\b\b\b\b\b\b\b\b\b\b\b\b\b\b\b\b\b\b\b\b\b\b\b\b\b\b\b\b\b\b\b\r295/295 [==============================] - 5s 16ms/step - loss: 0.5322 - accuracy: 0.8625\n",
            "Epoch 172/300\n",
            "295/295 [==============================] - ETA: 0s - loss: 0.5292 - accuracy: 0.8621"
          ]
        },
        {
          "name": "stderr",
          "output_type": "stream",
          "text": [
            "WARNING:tensorflow:Can save best model only with val_loss available, skipping.\n"
          ]
        },
        {
          "name": "stdout",
          "output_type": "stream",
          "text": [
            "\b\b\b\b\b\b\b\b\b\b\b\b\b\b\b\b\b\b\b\b\b\b\b\b\b\b\b\b\b\b\b\b\b\b\b\b\b\b\b\b\b\b\b\b\b\b\b\b\b\b\b\b\b\b\b\b\b\b\b\b\b\b\b\b\b\b\b\b\b\b\b\b\b\b\b\b\b\b\b\b\b\b\b\b\r295/295 [==============================] - 5s 17ms/step - loss: 0.5292 - accuracy: 0.8621\n",
            "Epoch 173/300\n",
            "292/295 [============================>.] - ETA: 0s - loss: 0.5242 - accuracy: 0.8649"
          ]
        },
        {
          "name": "stderr",
          "output_type": "stream",
          "text": [
            "WARNING:tensorflow:Can save best model only with val_loss available, skipping.\n"
          ]
        },
        {
          "name": "stdout",
          "output_type": "stream",
          "text": [
            "\b\b\b\b\b\b\b\b\b\b\b\b\b\b\b\b\b\b\b\b\b\b\b\b\b\b\b\b\b\b\b\b\b\b\b\b\b\b\b\b\b\b\b\b\b\b\b\b\b\b\b\b\b\b\b\b\b\b\b\b\b\b\b\b\b\b\b\b\b\b\b\b\b\b\b\b\b\b\b\b\b\b\b\b\r295/295 [==============================] - 5s 16ms/step - loss: 0.5239 - accuracy: 0.8652\n",
            "Epoch 174/300\n",
            "294/295 [============================>.] - ETA: 0s - loss: 0.5211 - accuracy: 0.8659"
          ]
        },
        {
          "name": "stderr",
          "output_type": "stream",
          "text": [
            "WARNING:tensorflow:Can save best model only with val_loss available, skipping.\n"
          ]
        },
        {
          "name": "stdout",
          "output_type": "stream",
          "text": [
            "\b\b\b\b\b\b\b\b\b\b\b\b\b\b\b\b\b\b\b\b\b\b\b\b\b\b\b\b\b\b\b\b\b\b\b\b\b\b\b\b\b\b\b\b\b\b\b\b\b\b\b\b\b\b\b\b\b\b\b\b\b\b\b\b\b\b\b\b\b\b\b\b\b\b\b\b\b\b\b\b\b\b\b\b\r295/295 [==============================] - 5s 16ms/step - loss: 0.5210 - accuracy: 0.8659\n",
            "Epoch 175/300\n",
            "293/295 [============================>.] - ETA: 0s - loss: 0.5248 - accuracy: 0.8641"
          ]
        },
        {
          "name": "stderr",
          "output_type": "stream",
          "text": [
            "WARNING:tensorflow:Can save best model only with val_loss available, skipping.\n"
          ]
        },
        {
          "name": "stdout",
          "output_type": "stream",
          "text": [
            "\b\b\b\b\b\b\b\b\b\b\b\b\b\b\b\b\b\b\b\b\b\b\b\b\b\b\b\b\b\b\b\b\b\b\b\b\b\b\b\b\b\b\b\b\b\b\b\b\b\b\b\b\b\b\b\b\b\b\b\b\b\b\b\b\b\b\b\b\b\b\b\b\b\b\b\b\b\b\b\b\b\b\b\b\r295/295 [==============================] - 5s 17ms/step - loss: 0.5242 - accuracy: 0.8642\n",
            "Epoch 176/300\n",
            "295/295 [==============================] - ETA: 0s - loss: 0.5202 - accuracy: 0.8647"
          ]
        },
        {
          "name": "stderr",
          "output_type": "stream",
          "text": [
            "WARNING:tensorflow:Can save best model only with val_loss available, skipping.\n"
          ]
        },
        {
          "name": "stdout",
          "output_type": "stream",
          "text": [
            "\b\b\b\b\b\b\b\b\b\b\b\b\b\b\b\b\b\b\b\b\b\b\b\b\b\b\b\b\b\b\b\b\b\b\b\b\b\b\b\b\b\b\b\b\b\b\b\b\b\b\b\b\b\b\b\b\b\b\b\b\b\b\b\b\b\b\b\b\b\b\b\b\b\b\b\b\b\b\b\b\b\b\b\b\r295/295 [==============================] - 5s 16ms/step - loss: 0.5202 - accuracy: 0.8647\n",
            "Epoch 177/300\n",
            "295/295 [==============================] - ETA: 0s - loss: 0.5209 - accuracy: 0.8654"
          ]
        },
        {
          "name": "stderr",
          "output_type": "stream",
          "text": [
            "WARNING:tensorflow:Can save best model only with val_loss available, skipping.\n"
          ]
        },
        {
          "name": "stdout",
          "output_type": "stream",
          "text": [
            "\b\b\b\b\b\b\b\b\b\b\b\b\b\b\b\b\b\b\b\b\b\b\b\b\b\b\b\b\b\b\b\b\b\b\b\b\b\b\b\b\b\b\b\b\b\b\b\b\b\b\b\b\b\b\b\b\b\b\b\b\b\b\b\b\b\b\b\b\b\b\b\b\b\b\b\b\b\b\b\b\b\b\b\b\r295/295 [==============================] - 5s 17ms/step - loss: 0.5209 - accuracy: 0.8654\n",
            "Epoch 178/300\n",
            "292/295 [============================>.] - ETA: 0s - loss: 0.5125 - accuracy: 0.8671"
          ]
        },
        {
          "name": "stderr",
          "output_type": "stream",
          "text": [
            "WARNING:tensorflow:Can save best model only with val_loss available, skipping.\n"
          ]
        },
        {
          "name": "stdout",
          "output_type": "stream",
          "text": [
            "\b\b\b\b\b\b\b\b\b\b\b\b\b\b\b\b\b\b\b\b\b\b\b\b\b\b\b\b\b\b\b\b\b\b\b\b\b\b\b\b\b\b\b\b\b\b\b\b\b\b\b\b\b\b\b\b\b\b\b\b\b\b\b\b\b\b\b\b\b\b\b\b\b\b\b\b\b\b\b\b\b\b\b\b\r295/295 [==============================] - 5s 16ms/step - loss: 0.5142 - accuracy: 0.8667\n",
            "Epoch 179/300\n",
            "295/295 [==============================] - ETA: 0s - loss: 0.5134 - accuracy: 0.8668"
          ]
        },
        {
          "name": "stderr",
          "output_type": "stream",
          "text": [
            "WARNING:tensorflow:Can save best model only with val_loss available, skipping.\n"
          ]
        },
        {
          "name": "stdout",
          "output_type": "stream",
          "text": [
            "\b\b\b\b\b\b\b\b\b\b\b\b\b\b\b\b\b\b\b\b\b\b\b\b\b\b\b\b\b\b\b\b\b\b\b\b\b\b\b\b\b\b\b\b\b\b\b\b\b\b\b\b\b\b\b\b\b\b\b\b\b\b\b\b\b\b\b\b\b\b\b\b\b\b\b\b\b\b\b\b\b\b\b\b\r295/295 [==============================] - 5s 16ms/step - loss: 0.5134 - accuracy: 0.8668\n",
            "Epoch 180/300\n",
            "294/295 [============================>.] - ETA: 0s - loss: 0.5106 - accuracy: 0.8675"
          ]
        },
        {
          "name": "stderr",
          "output_type": "stream",
          "text": [
            "WARNING:tensorflow:Can save best model only with val_loss available, skipping.\n"
          ]
        },
        {
          "name": "stdout",
          "output_type": "stream",
          "text": [
            "\b\b\b\b\b\b\b\b\b\b\b\b\b\b\b\b\b\b\b\b\b\b\b\b\b\b\b\b\b\b\b\b\b\b\b\b\b\b\b\b\b\b\b\b\b\b\b\b\b\b\b\b\b\b\b\b\b\b\b\b\b\b\b\b\b\b\b\b\b\b\b\b\b\b\b\b\b\b\b\b\b\b\b\b\r295/295 [==============================] - 5s 17ms/step - loss: 0.5109 - accuracy: 0.8676\n",
            "Epoch 181/300\n",
            "292/295 [============================>.] - ETA: 0s - loss: 0.5066 - accuracy: 0.8700"
          ]
        },
        {
          "name": "stderr",
          "output_type": "stream",
          "text": [
            "WARNING:tensorflow:Can save best model only with val_loss available, skipping.\n"
          ]
        },
        {
          "name": "stdout",
          "output_type": "stream",
          "text": [
            "\b\b\b\b\b\b\b\b\b\b\b\b\b\b\b\b\b\b\b\b\b\b\b\b\b\b\b\b\b\b\b\b\b\b\b\b\b\b\b\b\b\b\b\b\b\b\b\b\b\b\b\b\b\b\b\b\b\b\b\b\b\b\b\b\b\b\b\b\b\b\b\b\b\b\b\b\b\b\b\b\b\b\b\b\r295/295 [==============================] - 5s 16ms/step - loss: 0.5056 - accuracy: 0.8702\n",
            "Epoch 182/300\n",
            "294/295 [============================>.] - ETA: 0s - loss: 0.5108 - accuracy: 0.8673"
          ]
        },
        {
          "name": "stderr",
          "output_type": "stream",
          "text": [
            "WARNING:tensorflow:Can save best model only with val_loss available, skipping.\n"
          ]
        },
        {
          "name": "stdout",
          "output_type": "stream",
          "text": [
            "\b\b\b\b\b\b\b\b\b\b\b\b\b\b\b\b\b\b\b\b\b\b\b\b\b\b\b\b\b\b\b\b\b\b\b\b\b\b\b\b\b\b\b\b\b\b\b\b\b\b\b\b\b\b\b\b\b\b\b\b\b\b\b\b\b\b\b\b\b\b\b\b\b\b\b\b\b\b\b\b\b\b\b\b\r295/295 [==============================] - 5s 17ms/step - loss: 0.5116 - accuracy: 0.8671\n",
            "Epoch 183/300\n",
            "294/295 [============================>.] - ETA: 0s - loss: 0.5012 - accuracy: 0.8698"
          ]
        },
        {
          "name": "stderr",
          "output_type": "stream",
          "text": [
            "WARNING:tensorflow:Can save best model only with val_loss available, skipping.\n"
          ]
        },
        {
          "name": "stdout",
          "output_type": "stream",
          "text": [
            "\b\b\b\b\b\b\b\b\b\b\b\b\b\b\b\b\b\b\b\b\b\b\b\b\b\b\b\b\b\b\b\b\b\b\b\b\b\b\b\b\b\b\b\b\b\b\b\b\b\b\b\b\b\b\b\b\b\b\b\b\b\b\b\b\b\b\b\b\b\b\b\b\b\b\b\b\b\b\b\b\b\b\b\b\r295/295 [==============================] - 5s 16ms/step - loss: 0.5008 - accuracy: 0.8699\n",
            "Epoch 184/300\n",
            "295/295 [==============================] - ETA: 0s - loss: 0.5014 - accuracy: 0.8691"
          ]
        },
        {
          "name": "stderr",
          "output_type": "stream",
          "text": [
            "WARNING:tensorflow:Can save best model only with val_loss available, skipping.\n"
          ]
        },
        {
          "name": "stdout",
          "output_type": "stream",
          "text": [
            "\b\b\b\b\b\b\b\b\b\b\b\b\b\b\b\b\b\b\b\b\b\b\b\b\b\b\b\b\b\b\b\b\b\b\b\b\b\b\b\b\b\b\b\b\b\b\b\b\b\b\b\b\b\b\b\b\b\b\b\b\b\b\b\b\b\b\b\b\b\b\b\b\b\b\b\b\b\b\b\b\b\b\b\b\r295/295 [==============================] - 5s 16ms/step - loss: 0.5014 - accuracy: 0.8691\n",
            "Epoch 185/300\n",
            "293/295 [============================>.] - ETA: 0s - loss: 0.5075 - accuracy: 0.8713"
          ]
        },
        {
          "name": "stderr",
          "output_type": "stream",
          "text": [
            "WARNING:tensorflow:Can save best model only with val_loss available, skipping.\n"
          ]
        },
        {
          "name": "stdout",
          "output_type": "stream",
          "text": [
            "\b\b\b\b\b\b\b\b\b\b\b\b\b\b\b\b\b\b\b\b\b\b\b\b\b\b\b\b\b\b\b\b\b\b\b\b\b\b\b\b\b\b\b\b\b\b\b\b\b\b\b\b\b\b\b\b\b\b\b\b\b\b\b\b\b\b\b\b\b\b\b\b\b\b\b\b\b\b\b\b\b\b\b\b\r295/295 [==============================] - 5s 17ms/step - loss: 0.5083 - accuracy: 0.8711\n",
            "Epoch 186/300\n",
            "294/295 [============================>.] - ETA: 0s - loss: 0.5020 - accuracy: 0.8683"
          ]
        },
        {
          "name": "stderr",
          "output_type": "stream",
          "text": [
            "WARNING:tensorflow:Can save best model only with val_loss available, skipping.\n"
          ]
        },
        {
          "name": "stdout",
          "output_type": "stream",
          "text": [
            "\b\b\b\b\b\b\b\b\b\b\b\b\b\b\b\b\b\b\b\b\b\b\b\b\b\b\b\b\b\b\b\b\b\b\b\b\b\b\b\b\b\b\b\b\b\b\b\b\b\b\b\b\b\b\b\b\b\b\b\b\b\b\b\b\b\b\b\b\b\b\b\b\b\b\b\b\b\b\b\b\b\b\b\b\r295/295 [==============================] - 5s 16ms/step - loss: 0.5022 - accuracy: 0.8682\n",
            "Epoch 187/300\n",
            "293/295 [============================>.] - ETA: 0s - loss: 0.4997 - accuracy: 0.8699"
          ]
        },
        {
          "name": "stderr",
          "output_type": "stream",
          "text": [
            "WARNING:tensorflow:Can save best model only with val_loss available, skipping.\n"
          ]
        },
        {
          "name": "stdout",
          "output_type": "stream",
          "text": [
            "\b\b\b\b\b\b\b\b\b\b\b\b\b\b\b\b\b\b\b\b\b\b\b\b\b\b\b\b\b\b\b\b\b\b\b\b\b\b\b\b\b\b\b\b\b\b\b\b\b\b\b\b\b\b\b\b\b\b\b\b\b\b\b\b\b\b\b\b\b\b\b\b\b\b\b\b\b\b\b\b\b\b\b\b\r295/295 [==============================] - 5s 17ms/step - loss: 0.4985 - accuracy: 0.8703\n",
            "Epoch 188/300\n",
            "292/295 [============================>.] - ETA: 0s - loss: 0.4997 - accuracy: 0.8703"
          ]
        },
        {
          "name": "stderr",
          "output_type": "stream",
          "text": [
            "WARNING:tensorflow:Can save best model only with val_loss available, skipping.\n"
          ]
        },
        {
          "name": "stdout",
          "output_type": "stream",
          "text": [
            "\b\b\b\b\b\b\b\b\b\b\b\b\b\b\b\b\b\b\b\b\b\b\b\b\b\b\b\b\b\b\b\b\b\b\b\b\b\b\b\b\b\b\b\b\b\b\b\b\b\b\b\b\b\b\b\b\b\b\b\b\b\b\b\b\b\b\b\b\b\b\b\b\b\b\b\b\b\b\b\b\b\b\b\b\r295/295 [==============================] - 5s 16ms/step - loss: 0.4999 - accuracy: 0.8702\n",
            "Epoch 189/300\n",
            "292/295 [============================>.] - ETA: 0s - loss: 0.4977 - accuracy: 0.8728"
          ]
        },
        {
          "name": "stderr",
          "output_type": "stream",
          "text": [
            "WARNING:tensorflow:Can save best model only with val_loss available, skipping.\n"
          ]
        },
        {
          "name": "stdout",
          "output_type": "stream",
          "text": [
            "\b\b\b\b\b\b\b\b\b\b\b\b\b\b\b\b\b\b\b\b\b\b\b\b\b\b\b\b\b\b\b\b\b\b\b\b\b\b\b\b\b\b\b\b\b\b\b\b\b\b\b\b\b\b\b\b\b\b\b\b\b\b\b\b\b\b\b\b\b\b\b\b\b\b\b\b\b\b\b\b\b\b\b\b\r295/295 [==============================] - 5s 16ms/step - loss: 0.4998 - accuracy: 0.8722\n",
            "Epoch 190/300\n",
            "294/295 [============================>.] - ETA: 0s - loss: 0.4808 - accuracy: 0.8746"
          ]
        },
        {
          "name": "stderr",
          "output_type": "stream",
          "text": [
            "WARNING:tensorflow:Can save best model only with val_loss available, skipping.\n"
          ]
        },
        {
          "name": "stdout",
          "output_type": "stream",
          "text": [
            "\b\b\b\b\b\b\b\b\b\b\b\b\b\b\b\b\b\b\b\b\b\b\b\b\b\b\b\b\b\b\b\b\b\b\b\b\b\b\b\b\b\b\b\b\b\b\b\b\b\b\b\b\b\b\b\b\b\b\b\b\b\b\b\b\b\b\b\b\b\b\b\b\b\b\b\b\b\b\b\b\b\b\b\b\r295/295 [==============================] - 5s 18ms/step - loss: 0.4814 - accuracy: 0.8743\n",
            "Epoch 191/300\n",
            "294/295 [============================>.] - ETA: 0s - loss: 0.4868 - accuracy: 0.8729"
          ]
        },
        {
          "name": "stderr",
          "output_type": "stream",
          "text": [
            "WARNING:tensorflow:Can save best model only with val_loss available, skipping.\n"
          ]
        },
        {
          "name": "stdout",
          "output_type": "stream",
          "text": [
            "\b\b\b\b\b\b\b\b\b\b\b\b\b\b\b\b\b\b\b\b\b\b\b\b\b\b\b\b\b\b\b\b\b\b\b\b\b\b\b\b\b\b\b\b\b\b\b\b\b\b\b\b\b\b\b\b\b\b\b\b\b\b\b\b\b\b\b\b\b\b\b\b\b\b\b\b\b\b\b\b\b\b\b\b\r295/295 [==============================] - 5s 18ms/step - loss: 0.4875 - accuracy: 0.8726\n",
            "Epoch 192/300\n",
            "293/295 [============================>.] - ETA: 0s - loss: 0.4895 - accuracy: 0.8717"
          ]
        },
        {
          "name": "stderr",
          "output_type": "stream",
          "text": [
            "WARNING:tensorflow:Can save best model only with val_loss available, skipping.\n"
          ]
        },
        {
          "name": "stdout",
          "output_type": "stream",
          "text": [
            "\b\b\b\b\b\b\b\b\b\b\b\b\b\b\b\b\b\b\b\b\b\b\b\b\b\b\b\b\b\b\b\b\b\b\b\b\b\b\b\b\b\b\b\b\b\b\b\b\b\b\b\b\b\b\b\b\b\b\b\b\b\b\b\b\b\b\b\b\b\b\b\b\b\b\b\b\b\b\b\b\b\b\b\b\r295/295 [==============================] - 5s 17ms/step - loss: 0.4894 - accuracy: 0.8717\n",
            "Epoch 193/300\n",
            "295/295 [==============================] - ETA: 0s - loss: 0.4765 - accuracy: 0.8762"
          ]
        },
        {
          "name": "stderr",
          "output_type": "stream",
          "text": [
            "WARNING:tensorflow:Can save best model only with val_loss available, skipping.\n"
          ]
        },
        {
          "name": "stdout",
          "output_type": "stream",
          "text": [
            "\b\b\b\b\b\b\b\b\b\b\b\b\b\b\b\b\b\b\b\b\b\b\b\b\b\b\b\b\b\b\b\b\b\b\b\b\b\b\b\b\b\b\b\b\b\b\b\b\b\b\b\b\b\b\b\b\b\b\b\b\b\b\b\b\b\b\b\b\b\b\b\b\b\b\b\b\b\b\b\b\b\b\b\b\r295/295 [==============================] - 5s 16ms/step - loss: 0.4765 - accuracy: 0.8762\n",
            "Epoch 194/300\n",
            "295/295 [==============================] - ETA: 0s - loss: 0.4846 - accuracy: 0.8755"
          ]
        },
        {
          "name": "stderr",
          "output_type": "stream",
          "text": [
            "WARNING:tensorflow:Can save best model only with val_loss available, skipping.\n"
          ]
        },
        {
          "name": "stdout",
          "output_type": "stream",
          "text": [
            "\b\b\b\b\b\b\b\b\b\b\b\b\b\b\b\b\b\b\b\b\b\b\b\b\b\b\b\b\b\b\b\b\b\b\b\b\b\b\b\b\b\b\b\b\b\b\b\b\b\b\b\b\b\b\b\b\b\b\b\b\b\b\b\b\b\b\b\b\b\b\b\b\b\b\b\b\b\b\b\b\b\b\b\b\r295/295 [==============================] - 5s 16ms/step - loss: 0.4846 - accuracy: 0.8755\n",
            "Epoch 195/300\n",
            "294/295 [============================>.] - ETA: 0s - loss: 0.4884 - accuracy: 0.8729"
          ]
        },
        {
          "name": "stderr",
          "output_type": "stream",
          "text": [
            "WARNING:tensorflow:Can save best model only with val_loss available, skipping.\n"
          ]
        },
        {
          "name": "stdout",
          "output_type": "stream",
          "text": [
            "\b\b\b\b\b\b\b\b\b\b\b\b\b\b\b\b\b\b\b\b\b\b\b\b\b\b\b\b\b\b\b\b\b\b\b\b\b\b\b\b\b\b\b\b\b\b\b\b\b\b\b\b\b\b\b\b\b\b\b\b\b\b\b\b\b\b\b\b\b\b\b\b\b\b\b\b\b\b\b\b\b\b\b\b\r295/295 [==============================] - 5s 17ms/step - loss: 0.4891 - accuracy: 0.8729\n",
            "Epoch 196/300\n",
            "293/295 [============================>.] - ETA: 0s - loss: 0.4856 - accuracy: 0.8736"
          ]
        },
        {
          "name": "stderr",
          "output_type": "stream",
          "text": [
            "WARNING:tensorflow:Can save best model only with val_loss available, skipping.\n"
          ]
        },
        {
          "name": "stdout",
          "output_type": "stream",
          "text": [
            "\b\b\b\b\b\b\b\b\b\b\b\b\b\b\b\b\b\b\b\b\b\b\b\b\b\b\b\b\b\b\b\b\b\b\b\b\b\b\b\b\b\b\b\b\b\b\b\b\b\b\b\b\b\b\b\b\b\b\b\b\b\b\b\b\b\b\b\b\b\b\b\b\b\b\b\b\b\b\b\b\b\b\b\b\r295/295 [==============================] - 5s 16ms/step - loss: 0.4864 - accuracy: 0.8734\n",
            "Epoch 197/300\n",
            "293/295 [============================>.] - ETA: 0s - loss: 0.4774 - accuracy: 0.8727"
          ]
        },
        {
          "name": "stderr",
          "output_type": "stream",
          "text": [
            "WARNING:tensorflow:Can save best model only with val_loss available, skipping.\n"
          ]
        },
        {
          "name": "stdout",
          "output_type": "stream",
          "text": [
            "\b\b\b\b\b\b\b\b\b\b\b\b\b\b\b\b\b\b\b\b\b\b\b\b\b\b\b\b\b\b\b\b\b\b\b\b\b\b\b\b\b\b\b\b\b\b\b\b\b\b\b\b\b\b\b\b\b\b\b\b\b\b\b\b\b\b\b\b\b\b\b\b\b\b\b\b\b\b\b\b\b\b\b\b\r295/295 [==============================] - 5s 17ms/step - loss: 0.4778 - accuracy: 0.8726\n",
            "Epoch 198/300\n",
            "293/295 [============================>.] - ETA: 0s - loss: 0.4694 - accuracy: 0.8760"
          ]
        },
        {
          "name": "stderr",
          "output_type": "stream",
          "text": [
            "WARNING:tensorflow:Can save best model only with val_loss available, skipping.\n"
          ]
        },
        {
          "name": "stdout",
          "output_type": "stream",
          "text": [
            "\b\b\b\b\b\b\b\b\b\b\b\b\b\b\b\b\b\b\b\b\b\b\b\b\b\b\b\b\b\b\b\b\b\b\b\b\b\b\b\b\b\b\b\b\b\b\b\b\b\b\b\b\b\b\b\b\b\b\b\b\b\b\b\b\b\b\b\b\b\b\b\b\b\b\b\b\b\b\b\b\b\b\b\b\r295/295 [==============================] - 5s 16ms/step - loss: 0.4692 - accuracy: 0.8761\n",
            "Epoch 199/300\n",
            "293/295 [============================>.] - ETA: 0s - loss: 0.4704 - accuracy: 0.8771"
          ]
        },
        {
          "name": "stderr",
          "output_type": "stream",
          "text": [
            "WARNING:tensorflow:Can save best model only with val_loss available, skipping.\n"
          ]
        },
        {
          "name": "stdout",
          "output_type": "stream",
          "text": [
            "\b\b\b\b\b\b\b\b\b\b\b\b\b\b\b\b\b\b\b\b\b\b\b\b\b\b\b\b\b\b\b\b\b\b\b\b\b\b\b\b\b\b\b\b\b\b\b\b\b\b\b\b\b\b\b\b\b\b\b\b\b\b\b\b\b\b\b\b\b\b\b\b\b\b\b\b\b\b\b\b\b\b\b\b\r295/295 [==============================] - 5s 16ms/step - loss: 0.4711 - accuracy: 0.8767\n",
            "Epoch 200/300\n",
            "292/295 [============================>.] - ETA: 0s - loss: 0.4692 - accuracy: 0.8768"
          ]
        },
        {
          "name": "stderr",
          "output_type": "stream",
          "text": [
            "WARNING:tensorflow:Can save best model only with val_loss available, skipping.\n"
          ]
        },
        {
          "name": "stdout",
          "output_type": "stream",
          "text": [
            "\b\b\b\b\b\b\b\b\b\b\b\b\b\b\b\b\b\b\b\b\b\b\b\b\b\b\b\b\b\b\b\b\b\b\b\b\b\b\b\b\b\b\b\b\b\b\b\b\b\b\b\b\b\b\b\b\b\b\b\b\b\b\b\b\b\b\b\b\b\b\b\b\b\b\b\b\b\b\b\b\b\b\b\b\r295/295 [==============================] - 5s 17ms/step - loss: 0.4698 - accuracy: 0.8766\n",
            "Epoch 201/300\n",
            "292/295 [============================>.] - ETA: 0s - loss: 0.4693 - accuracy: 0.8760"
          ]
        },
        {
          "name": "stderr",
          "output_type": "stream",
          "text": [
            "WARNING:tensorflow:Can save best model only with val_loss available, skipping.\n"
          ]
        },
        {
          "name": "stdout",
          "output_type": "stream",
          "text": [
            "\b\b\b\b\b\b\b\b\b\b\b\b\b\b\b\b\b\b\b\b\b\b\b\b\b\b\b\b\b\b\b\b\b\b\b\b\b\b\b\b\b\b\b\b\b\b\b\b\b\b\b\b\b\b\b\b\b\b\b\b\b\b\b\b\b\b\b\b\b\b\b\b\b\b\b\b\b\b\b\b\b\b\b\b\r295/295 [==============================] - 5s 16ms/step - loss: 0.4701 - accuracy: 0.8755\n",
            "Epoch 202/300\n",
            "293/295 [============================>.] - ETA: 0s - loss: 0.4686 - accuracy: 0.8755"
          ]
        },
        {
          "name": "stderr",
          "output_type": "stream",
          "text": [
            "WARNING:tensorflow:Can save best model only with val_loss available, skipping.\n"
          ]
        },
        {
          "name": "stdout",
          "output_type": "stream",
          "text": [
            "\b\b\b\b\b\b\b\b\b\b\b\b\b\b\b\b\b\b\b\b\b\b\b\b\b\b\b\b\b\b\b\b\b\b\b\b\b\b\b\b\b\b\b\b\b\b\b\b\b\b\b\b\b\b\b\b\b\b\b\b\b\b\b\b\b\b\b\b\b\b\b\b\b\b\b\b\b\b\b\b\b\b\b\b\r295/295 [==============================] - 5s 16ms/step - loss: 0.4690 - accuracy: 0.8755\n",
            "Epoch 203/300\n",
            "294/295 [============================>.] - ETA: 0s - loss: 0.4652 - accuracy: 0.8776"
          ]
        },
        {
          "name": "stderr",
          "output_type": "stream",
          "text": [
            "WARNING:tensorflow:Can save best model only with val_loss available, skipping.\n"
          ]
        },
        {
          "name": "stdout",
          "output_type": "stream",
          "text": [
            "\b\b\b\b\b\b\b\b\b\b\b\b\b\b\b\b\b\b\b\b\b\b\b\b\b\b\b\b\b\b\b\b\b\b\b\b\b\b\b\b\b\b\b\b\b\b\b\b\b\b\b\b\b\b\b\b\b\b\b\b\b\b\b\b\b\b\b\b\b\b\b\b\b\b\b\b\b\b\b\b\b\b\b\b\r295/295 [==============================] - 5s 17ms/step - loss: 0.4652 - accuracy: 0.8775\n",
            "Epoch 204/300\n",
            "295/295 [==============================] - ETA: 0s - loss: 0.4652 - accuracy: 0.8765"
          ]
        },
        {
          "name": "stderr",
          "output_type": "stream",
          "text": [
            "WARNING:tensorflow:Can save best model only with val_loss available, skipping.\n"
          ]
        },
        {
          "name": "stdout",
          "output_type": "stream",
          "text": [
            "\b\b\b\b\b\b\b\b\b\b\b\b\b\b\b\b\b\b\b\b\b\b\b\b\b\b\b\b\b\b\b\b\b\b\b\b\b\b\b\b\b\b\b\b\b\b\b\b\b\b\b\b\b\b\b\b\b\b\b\b\b\b\b\b\b\b\b\b\b\b\b\b\b\b\b\b\b\b\b\b\b\b\b\b\r295/295 [==============================] - 5s 16ms/step - loss: 0.4652 - accuracy: 0.8765\n",
            "Epoch 205/300\n",
            "294/295 [============================>.] - ETA: 0s - loss: 0.4705 - accuracy: 0.8745"
          ]
        },
        {
          "name": "stderr",
          "output_type": "stream",
          "text": [
            "WARNING:tensorflow:Can save best model only with val_loss available, skipping.\n"
          ]
        },
        {
          "name": "stdout",
          "output_type": "stream",
          "text": [
            "\b\b\b\b\b\b\b\b\b\b\b\b\b\b\b\b\b\b\b\b\b\b\b\b\b\b\b\b\b\b\b\b\b\b\b\b\b\b\b\b\b\b\b\b\b\b\b\b\b\b\b\b\b\b\b\b\b\b\b\b\b\b\b\b\b\b\b\b\b\b\b\b\b\b\b\b\b\b\b\b\b\b\b\b\r295/295 [==============================] - 5s 18ms/step - loss: 0.4709 - accuracy: 0.8745\n",
            "Epoch 206/300\n",
            "294/295 [============================>.] - ETA: 0s - loss: 0.4559 - accuracy: 0.8788"
          ]
        },
        {
          "name": "stderr",
          "output_type": "stream",
          "text": [
            "WARNING:tensorflow:Can save best model only with val_loss available, skipping.\n"
          ]
        },
        {
          "name": "stdout",
          "output_type": "stream",
          "text": [
            "\b\b\b\b\b\b\b\b\b\b\b\b\b\b\b\b\b\b\b\b\b\b\b\b\b\b\b\b\b\b\b\b\b\b\b\b\b\b\b\b\b\b\b\b\b\b\b\b\b\b\b\b\b\b\b\b\b\b\b\b\b\b\b\b\b\b\b\b\b\b\b\b\b\b\b\b\b\b\b\b\b\b\b\b\r295/295 [==============================] - 5s 16ms/step - loss: 0.4562 - accuracy: 0.8787\n",
            "Epoch 207/300\n",
            "294/295 [============================>.] - ETA: 0s - loss: 0.4620 - accuracy: 0.8785"
          ]
        },
        {
          "name": "stderr",
          "output_type": "stream",
          "text": [
            "WARNING:tensorflow:Can save best model only with val_loss available, skipping.\n"
          ]
        },
        {
          "name": "stdout",
          "output_type": "stream",
          "text": [
            "\b\b\b\b\b\b\b\b\b\b\b\b\b\b\b\b\b\b\b\b\b\b\b\b\b\b\b\b\b\b\b\b\b\b\b\b\b\b\b\b\b\b\b\b\b\b\b\b\b\b\b\b\b\b\b\b\b\b\b\b\b\b\b\b\b\b\b\b\b\b\b\b\b\b\b\b\b\b\b\b\b\b\b\b\r295/295 [==============================] - 5s 17ms/step - loss: 0.4623 - accuracy: 0.8784\n",
            "Epoch 208/300\n",
            "294/295 [============================>.] - ETA: 0s - loss: 0.4547 - accuracy: 0.8814"
          ]
        },
        {
          "name": "stderr",
          "output_type": "stream",
          "text": [
            "WARNING:tensorflow:Can save best model only with val_loss available, skipping.\n"
          ]
        },
        {
          "name": "stdout",
          "output_type": "stream",
          "text": [
            "\b\b\b\b\b\b\b\b\b\b\b\b\b\b\b\b\b\b\b\b\b\b\b\b\b\b\b\b\b\b\b\b\b\b\b\b\b\b\b\b\b\b\b\b\b\b\b\b\b\b\b\b\b\b\b\b\b\b\b\b\b\b\b\b\b\b\b\b\b\b\b\b\b\b\b\b\b\b\b\b\b\b\b\b\r295/295 [==============================] - 6s 21ms/step - loss: 0.4547 - accuracy: 0.8816\n",
            "Epoch 209/300\n",
            "295/295 [==============================] - ETA: 0s - loss: 0.4613 - accuracy: 0.8787"
          ]
        },
        {
          "name": "stderr",
          "output_type": "stream",
          "text": [
            "WARNING:tensorflow:Can save best model only with val_loss available, skipping.\n"
          ]
        },
        {
          "name": "stdout",
          "output_type": "stream",
          "text": [
            "\b\b\b\b\b\b\b\b\b\b\b\b\b\b\b\b\b\b\b\b\b\b\b\b\b\b\b\b\b\b\b\b\b\b\b\b\b\b\b\b\b\b\b\b\b\b\b\b\b\b\b\b\b\b\b\b\b\b\b\b\b\b\b\b\b\b\b\b\b\b\b\b\b\b\b\b\b\b\b\b\b\b\b\b\r295/295 [==============================] - 6s 20ms/step - loss: 0.4613 - accuracy: 0.8787\n",
            "Epoch 210/300\n",
            "293/295 [============================>.] - ETA: 0s - loss: 0.4588 - accuracy: 0.8783"
          ]
        },
        {
          "name": "stderr",
          "output_type": "stream",
          "text": [
            "WARNING:tensorflow:Can save best model only with val_loss available, skipping.\n"
          ]
        },
        {
          "name": "stdout",
          "output_type": "stream",
          "text": [
            "\b\b\b\b\b\b\b\b\b\b\b\b\b\b\b\b\b\b\b\b\b\b\b\b\b\b\b\b\b\b\b\b\b\b\b\b\b\b\b\b\b\b\b\b\b\b\b\b\b\b\b\b\b\b\b\b\b\b\b\b\b\b\b\b\b\b\b\b\b\b\b\b\b\b\b\b\b\b\b\b\b\b\b\b\r295/295 [==============================] - 6s 20ms/step - loss: 0.4593 - accuracy: 0.8782\n",
            "Epoch 211/300\n",
            "295/295 [==============================] - ETA: 0s - loss: 0.4559 - accuracy: 0.8777"
          ]
        },
        {
          "name": "stderr",
          "output_type": "stream",
          "text": [
            "WARNING:tensorflow:Can save best model only with val_loss available, skipping.\n"
          ]
        },
        {
          "name": "stdout",
          "output_type": "stream",
          "text": [
            "\b\b\b\b\b\b\b\b\b\b\b\b\b\b\b\b\b\b\b\b\b\b\b\b\b\b\b\b\b\b\b\b\b\b\b\b\b\b\b\b\b\b\b\b\b\b\b\b\b\b\b\b\b\b\b\b\b\b\b\b\b\b\b\b\b\b\b\b\b\b\b\b\b\b\b\b\b\b\b\b\b\b\b\b\r295/295 [==============================] - 5s 18ms/step - loss: 0.4559 - accuracy: 0.8777\n",
            "Epoch 212/300\n",
            "294/295 [============================>.] - ETA: 0s - loss: 0.4439 - accuracy: 0.8822"
          ]
        },
        {
          "name": "stderr",
          "output_type": "stream",
          "text": [
            "WARNING:tensorflow:Can save best model only with val_loss available, skipping.\n"
          ]
        },
        {
          "name": "stdout",
          "output_type": "stream",
          "text": [
            "\b\b\b\b\b\b\b\b\b\b\b\b\b\b\b\b\b\b\b\b\b\b\b\b\b\b\b\b\b\b\b\b\b\b\b\b\b\b\b\b\b\b\b\b\b\b\b\b\b\b\b\b\b\b\b\b\b\b\b\b\b\b\b\b\b\b\b\b\b\b\b\b\b\b\b\b\b\b\b\b\b\b\b\b\r295/295 [==============================] - 5s 16ms/step - loss: 0.4436 - accuracy: 0.8823\n",
            "Epoch 213/300\n",
            "293/295 [============================>.] - ETA: 0s - loss: 0.4499 - accuracy: 0.8793"
          ]
        },
        {
          "name": "stderr",
          "output_type": "stream",
          "text": [
            "WARNING:tensorflow:Can save best model only with val_loss available, skipping.\n"
          ]
        },
        {
          "name": "stdout",
          "output_type": "stream",
          "text": [
            "\b\b\b\b\b\b\b\b\b\b\b\b\b\b\b\b\b\b\b\b\b\b\b\b\b\b\b\b\b\b\b\b\b\b\b\b\b\b\b\b\b\b\b\b\b\b\b\b\b\b\b\b\b\b\b\b\b\b\b\b\b\b\b\b\b\b\b\b\b\b\b\b\b\b\b\b\b\b\b\b\b\b\b\b\r295/295 [==============================] - 5s 16ms/step - loss: 0.4490 - accuracy: 0.8793\n",
            "Epoch 214/300\n",
            "293/295 [============================>.] - ETA: 0s - loss: 0.4473 - accuracy: 0.8808"
          ]
        },
        {
          "name": "stderr",
          "output_type": "stream",
          "text": [
            "WARNING:tensorflow:Can save best model only with val_loss available, skipping.\n"
          ]
        },
        {
          "name": "stdout",
          "output_type": "stream",
          "text": [
            "\b\b\b\b\b\b\b\b\b\b\b\b\b\b\b\b\b\b\b\b\b\b\b\b\b\b\b\b\b\b\b\b\b\b\b\b\b\b\b\b\b\b\b\b\b\b\b\b\b\b\b\b\b\b\b\b\b\b\b\b\b\b\b\b\b\b\b\b\b\b\b\b\b\b\b\b\b\b\b\b\b\b\b\b\r295/295 [==============================] - 5s 15ms/step - loss: 0.4470 - accuracy: 0.8810\n",
            "Epoch 215/300\n",
            "293/295 [============================>.] - ETA: 0s - loss: 0.4481 - accuracy: 0.8807"
          ]
        },
        {
          "name": "stderr",
          "output_type": "stream",
          "text": [
            "WARNING:tensorflow:Can save best model only with val_loss available, skipping.\n"
          ]
        },
        {
          "name": "stdout",
          "output_type": "stream",
          "text": [
            "\b\b\b\b\b\b\b\b\b\b\b\b\b\b\b\b\b\b\b\b\b\b\b\b\b\b\b\b\b\b\b\b\b\b\b\b\b\b\b\b\b\b\b\b\b\b\b\b\b\b\b\b\b\b\b\b\b\b\b\b\b\b\b\b\b\b\b\b\b\b\b\b\b\b\b\b\b\b\b\b\b\b\b\b\r295/295 [==============================] - 5s 17ms/step - loss: 0.4478 - accuracy: 0.8806\n",
            "Epoch 216/300\n",
            "292/295 [============================>.] - ETA: 0s - loss: 0.4596 - accuracy: 0.8771"
          ]
        },
        {
          "name": "stderr",
          "output_type": "stream",
          "text": [
            "WARNING:tensorflow:Can save best model only with val_loss available, skipping.\n"
          ]
        },
        {
          "name": "stdout",
          "output_type": "stream",
          "text": [
            "\b\b\b\b\b\b\b\b\b\b\b\b\b\b\b\b\b\b\b\b\b\b\b\b\b\b\b\b\b\b\b\b\b\b\b\b\b\b\b\b\b\b\b\b\b\b\b\b\b\b\b\b\b\b\b\b\b\b\b\b\b\b\b\b\b\b\b\b\b\b\b\b\b\b\b\b\b\b\b\b\b\b\b\b\r295/295 [==============================] - 5s 16ms/step - loss: 0.4581 - accuracy: 0.8777\n",
            "Epoch 217/300\n",
            "293/295 [============================>.] - ETA: 0s - loss: 0.4428 - accuracy: 0.8834"
          ]
        },
        {
          "name": "stderr",
          "output_type": "stream",
          "text": [
            "WARNING:tensorflow:Can save best model only with val_loss available, skipping.\n"
          ]
        },
        {
          "name": "stdout",
          "output_type": "stream",
          "text": [
            "\b\b\b\b\b\b\b\b\b\b\b\b\b\b\b\b\b\b\b\b\b\b\b\b\b\b\b\b\b\b\b\b\b\b\b\b\b\b\b\b\b\b\b\b\b\b\b\b\b\b\b\b\b\b\b\b\b\b\b\b\b\b\b\b\b\b\b\b\b\b\b\b\b\b\b\b\b\b\b\b\b\b\b\b\r295/295 [==============================] - 5s 16ms/step - loss: 0.4454 - accuracy: 0.8828\n"
          ]
        },
        {
          "data": {
            "text/plain": [
              "<keras.src.callbacks.History at 0x7f2016d84e20>"
            ]
          },
          "execution_count": 56,
          "metadata": {},
          "output_type": "execute_result"
        }
      ],
      "source": [
        "from keras.models import Sequential\n",
        "from keras.layers import Embedding, LSTM, Dropout, Dense, BatchNormalization\n",
        "from keras.optimizers import Adam\n",
        "from keras.constraints import max_norm\n",
        "from keras.callbacks import ModelCheckpoint, EarlyStopping\n",
        "from keras.preprocessing.sequence import pad_sequences\n",
        "\n",
        "# Define the model\n",
        "model = Sequential()\n",
        "model.add(Embedding(input_dim=vocab_size, output_dim=100, input_length=max_sequence_length-1, weights=[embedding_layer_weights], trainable=False))\n",
        "model.add(LSTM(100, return_sequences=True))\n",
        "#model.add(Dropout(0.4))\n",
        "model.add(LSTM(100))\n",
        " # Add BatchNormalization layer\n",
        "model.add(BatchNormalization())\n",
        "model.add(Dense(vocab_size, activation='softmax'))\n",
        "\n",
        "# Compile the model\n",
        "learning_rate = 0.001  # Adjust the learning rate\n",
        "optimizer = Adam(learning_rate=learning_rate)\n",
        "model.compile(optimizer=optimizer, loss='categorical_crossentropy', metrics=['accuracy'])\n",
        "\n",
        "# Print model summary\n",
        "model.summary()\n",
        "\n",
        "# Define callbacks\n",
        "checkpoint = ModelCheckpoint(\"best_model.h5\", save_best_only=True)\n",
        "early_stopping = EarlyStopping(monitor='loss', patience=5)\n",
        "\n",
        "# Train the model\n",
        "epochs = 300\n",
        "batch_size = 48\n",
        "model.fit(x, y, epochs=epochs, batch_size=batch_size, callbacks=[checkpoint, early_stopping])\n"
      ]
    },
    {
      "cell_type": "code",
      "execution_count": null,
      "metadata": {
        "id": "oo0SrCorY39K"
      },
      "outputs": [],
      "source": [
        "model.save('poem_model_cbow.h5')"
      ]
    },
    {
      "cell_type": "code",
      "execution_count": null,
      "metadata": {
        "id": "vTuoDCN7jKdL"
      },
      "outputs": [],
      "source": [
        "story_model = model\n",
        "story_model.save('stroy_model.hd5')"
      ]
    },
    {
      "cell_type": "code",
      "execution_count": null,
      "metadata": {
        "id": "emjp3EwCgURR"
      },
      "outputs": [],
      "source": [
        "model.save('poem_cbow.hd5')"
      ]
    },
    {
      "cell_type": "code",
      "execution_count": null,
      "metadata": {
        "id": "EKPCT_fwjzz3"
      },
      "outputs": [],
      "source": []
    },
    {
      "cell_type": "code",
      "execution_count": null,
      "metadata": {
        "id": "JmlGKPe6kPUn"
      },
      "outputs": [],
      "source": []
    },
    {
      "cell_type": "code",
      "execution_count": null,
      "metadata": {
        "colab": {
          "base_uri": "https://localhost:8080/"
        },
        "id": "210dXIxLPEfH",
        "outputId": "7a74d784-eada-49f7-a58f-edf268d418e3"
      },
      "outputs": [
        {
          "name": "stdout",
          "output_type": "stream",
          "text": [
            "Requirement already satisfied: Transformers in /usr/local/lib/python3.10/dist-packages (4.35.2)\n",
            "Requirement already satisfied: filelock in /usr/local/lib/python3.10/dist-packages (from Transformers) (3.13.1)\n",
            "Requirement already satisfied: huggingface-hub<1.0,>=0.16.4 in /usr/local/lib/python3.10/dist-packages (from Transformers) (0.20.3)\n",
            "Requirement already satisfied: numpy>=1.17 in /usr/local/lib/python3.10/dist-packages (from Transformers) (1.23.5)\n",
            "Requirement already satisfied: packaging>=20.0 in /usr/local/lib/python3.10/dist-packages (from Transformers) (23.2)\n",
            "Requirement already satisfied: pyyaml>=5.1 in /usr/local/lib/python3.10/dist-packages (from Transformers) (6.0.1)\n",
            "Requirement already satisfied: regex!=2019.12.17 in /usr/local/lib/python3.10/dist-packages (from Transformers) (2023.12.25)\n",
            "Requirement already satisfied: requests in /usr/local/lib/python3.10/dist-packages (from Transformers) (2.31.0)\n",
            "Requirement already satisfied: tokenizers<0.19,>=0.14 in /usr/local/lib/python3.10/dist-packages (from Transformers) (0.15.1)\n",
            "Requirement already satisfied: safetensors>=0.3.1 in /usr/local/lib/python3.10/dist-packages (from Transformers) (0.4.2)\n",
            "Requirement already satisfied: tqdm>=4.27 in /usr/local/lib/python3.10/dist-packages (from Transformers) (4.66.1)\n",
            "Requirement already satisfied: fsspec>=2023.5.0 in /usr/local/lib/python3.10/dist-packages (from huggingface-hub<1.0,>=0.16.4->Transformers) (2023.6.0)\n",
            "Requirement already satisfied: typing-extensions>=3.7.4.3 in /usr/local/lib/python3.10/dist-packages (from huggingface-hub<1.0,>=0.16.4->Transformers) (4.5.0)\n",
            "Requirement already satisfied: charset-normalizer<4,>=2 in /usr/local/lib/python3.10/dist-packages (from requests->Transformers) (3.3.2)\n",
            "Requirement already satisfied: idna<4,>=2.5 in /usr/local/lib/python3.10/dist-packages (from requests->Transformers) (3.6)\n",
            "Requirement already satisfied: urllib3<3,>=1.21.1 in /usr/local/lib/python3.10/dist-packages (from requests->Transformers) (2.0.7)\n",
            "Requirement already satisfied: certifi>=2017.4.17 in /usr/local/lib/python3.10/dist-packages (from requests->Transformers) (2023.11.17)\n"
          ]
        }
      ],
      "source": [
        "!pip install Transformers"
      ]
    },
    {
      "cell_type": "code",
      "execution_count": null,
      "metadata": {
        "id": "eOwvLzTeH3Ak"
      },
      "outputs": [],
      "source": []
    },
    {
      "cell_type": "code",
      "execution_count": null,
      "metadata": {
        "colab": {
          "base_uri": "https://localhost:8080/"
        },
        "id": "czgEU5M0H7Sp",
        "outputId": "2602e497-5021-4cd1-96a7-1be60b9ce6ce"
      },
      "outputs": [
        {
          "data": {
            "text/plain": [
              "tuple"
            ]
          },
          "execution_count": 121,
          "metadata": {},
          "output_type": "execute_result"
        }
      ],
      "source": []
    },
    {
      "cell_type": "code",
      "execution_count": null,
      "metadata": {
        "id": "3YlOO4u2dMJP"
      },
      "outputs": [],
      "source": [
        "\n",
        "\n",
        "def generate_text(model,max_sequence_length, tokenizer, word_index, seed_text, num_words):\n",
        "    result = seed_text\n",
        "    tokenizer = tokenizer\n",
        "    for _ in range(num_words):\n",
        "        # Tokenize the seed text\n",
        "        tokens = tokenizer.word_tokenize(seed_text)\n",
        "        encoded_seed = [word_index.get(word, word) for word in tokens]\n",
        "\n",
        "        # Pad the sequence to match the model's input length\n",
        "        max_sequence_length = max_sequence_length\n",
        "        padded_seed = pad_sequences([encoded_seed], maxlen=max_sequence_length-1, padding='pre')\n",
        "\n",
        "        # Predict the next word\n",
        "        predicted_index = np.argmax(model.predict(padded_seed), axis=-1)\n",
        "        predicted_word = [word for word, index in word_index.items() if index == predicted_index[0]][0]\n",
        "\n",
        "        # Update the seed text for the next iteration\n",
        "        seed_text += \" \" + predicted_word\n",
        "        result += \" \" + predicted_word\n",
        "\n",
        "        if predicted_word == 'কবিতাশেষ':\n",
        "          break\n",
        "\n",
        "    result = result.replace('লাইনশেষ','\\n')\n",
        "    result = result.replace('কবিতাশেষ','...')\n",
        "    return result\n",
        "\n"
      ]
    },
    {
      "cell_type": "code",
      "execution_count": null,
      "metadata": {
        "colab": {
          "base_uri": "https://localhost:8080/"
        },
        "id": "FdL-Im__dNJf",
        "outputId": "866a3905-cff0-4f9f-cf49-dcd6f942bd31"
      },
      "outputs": [
        {
          "name": "stdout",
          "output_type": "stream",
          "text": [
            "1/1 [==============================] - 0s 41ms/step\n",
            "1/1 [==============================] - 0s 21ms/step\n",
            "1/1 [==============================] - 0s 21ms/step\n",
            "1/1 [==============================] - 0s 23ms/step\n",
            "1/1 [==============================] - 0s 21ms/step\n",
            "1/1 [==============================] - 0s 22ms/step\n",
            "1/1 [==============================] - 0s 21ms/step\n",
            "1/1 [==============================] - 0s 22ms/step\n",
            "1/1 [==============================] - 0s 20ms/step\n",
            "1/1 [==============================] - 0s 21ms/step\n",
            "1/1 [==============================] - 0s 20ms/step\n",
            "1/1 [==============================] - 0s 26ms/step\n",
            "1/1 [==============================] - 0s 21ms/step\n",
            "1/1 [==============================] - 0s 21ms/step\n",
            "1/1 [==============================] - 0s 25ms/step\n",
            "1/1 [==============================] - 0s 26ms/step\n",
            "1/1 [==============================] - 0s 19ms/step\n",
            "1/1 [==============================] - 0s 31ms/step\n",
            "1/1 [==============================] - 0s 21ms/step\n",
            "1/1 [==============================] - 0s 20ms/step\n",
            "1/1 [==============================] - 0s 20ms/step\n",
            "1/1 [==============================] - 0s 21ms/step\n",
            "1/1 [==============================] - 0s 20ms/step\n",
            "1/1 [==============================] - 0s 21ms/step\n",
            "1/1 [==============================] - 0s 20ms/step\n",
            "1/1 [==============================] - 0s 22ms/step\n",
            "1/1 [==============================] - 0s 21ms/step\n",
            "1/1 [==============================] - 0s 20ms/step\n",
            "1/1 [==============================] - 0s 21ms/step\n",
            "1/1 [==============================] - 0s 19ms/step\n",
            "1/1 [==============================] - 0s 20ms/step\n",
            "1/1 [==============================] - 0s 20ms/step\n",
            "1/1 [==============================] - 0s 20ms/step\n",
            "1/1 [==============================] - 0s 20ms/step\n",
            "1/1 [==============================] - 0s 21ms/step\n",
            "1/1 [==============================] - 0s 20ms/step\n",
            "1/1 [==============================] - 0s 24ms/step\n",
            "1/1 [==============================] - 0s 22ms/step\n",
            "1/1 [==============================] - 0s 21ms/step\n",
            "1/1 [==============================] - 0s 22ms/step\n",
            "1/1 [==============================] - 0s 21ms/step\n",
            "1/1 [==============================] - 0s 20ms/step\n",
            "1/1 [==============================] - 0s 20ms/step\n",
            "1/1 [==============================] - 0s 22ms/step\n",
            "1/1 [==============================] - 0s 21ms/step\n",
            "1/1 [==============================] - 0s 24ms/step\n",
            "1/1 [==============================] - 0s 20ms/step\n",
            "1/1 [==============================] - 0s 20ms/step\n",
            "1/1 [==============================] - 0s 21ms/step\n",
            "1/1 [==============================] - 0s 21ms/step\n"
          ]
        }
      ],
      "source": [
        "seed = \"প্রিয়তমা এই বিষণ্ণ পৃথিবীর\"\n",
        "\n",
        "word_inedex = word_index\n",
        "\n",
        "tknizer = NLTKTokenizer()\n",
        "tst = generate_text(model,max_sequence_length, tknizer, word_index, seed, 50)"
      ]
    },
    {
      "cell_type": "code",
      "execution_count": null,
      "metadata": {
        "colab": {
          "base_uri": "https://localhost:8080/",
          "height": 55
        },
        "id": "dGLRkgVV6R6V",
        "outputId": "b212204e-0854-42f1-fcee-6e0edccb676a"
      },
      "outputs": [
        {
          "data": {
            "application/vnd.google.colaboratory.intrinsic+json": {
              "type": "string"
            },
            "text/plain": [
              "'প্রিয়তমা এই বিষণ্ণ পৃথিবীর পথে - \\n \\n \\n \\n তোমাকে বেড়াচ্ছ ধরে বাদে , \\n যাওয়া ! \\n \\n \\n \\n \\n \\n \\n \\n \\n \\n \\n ! \\n ! \\n ! \\n ! \\n \\n মানুষরুপী হিংস্র হায়েনার \\n গরিয়ে ! বসন আর প্রিয় জ্বলে অতি আকাশে এক নিচ্ছি আশ্রয় একদিন'"
            ]
          },
          "execution_count": 71,
          "metadata": {},
          "output_type": "execute_result"
        }
      ],
      "source": [
        "tst"
      ]
    },
    {
      "cell_type": "code",
      "execution_count": null,
      "metadata": {
        "colab": {
          "base_uri": "https://localhost:8080/",
          "height": 1000
        },
        "id": "ITfyN-DJgdwe",
        "outputId": "0ddc4a7c-3253-4fa5-e2d1-febc6c24c896"
      },
      "outputs": [
        {
          "data": {
            "application/vnd.google.colaboratory.intrinsic+json": {
              "type": "string"
            },
            "text/plain": [
              "'পুরো অস্তিত্ব আজ বিষন্নতার দখলে,\\nশিরায় শিরায় প্রবাহমান রক্ত রূপ নিঃসঙ্গতা\\nঅথচ আজ আমাদের পথে নামার কথা ছিলো \\nতুমি বলেছিলে- যেদিন খুব জ্যোৎস্না হবে \\nসেদিন আমারা হাতে হাত রেখে পথে নামবো,  \\nবলেছিলে মধ্যরাতে জ্যোৎস্নার অদৃশ্য পেয়ালা তে চুমুক দিয়ে\\nকি হবে আকাশ থেকে বৃষ্টি ফেলে?\\nযদি না জুড়ায় তোর তপ্ত বুকের দহনজ্বালা,\\nযদি না হৃদয়খানি হয়ে ওঠে উর্বর এক শ্যামল ভূমি,\\nযদি তোর আবছা আধো ভাবনাগুলো পুঞ্জীভূত আবেগ শুধুই,\\nযদি না বলতে পারিস হৃদয়ের গুপ্ত যতো সত্যগুলো  এক নিমিষে!\\n…\\nচিরচেনা শহরটা যেন আজ পরিত্যক্ত ভুতুড়ে নগরী এক,\\nদীর্ঘপথ অথচ স্বপ্নবাজ জীবিত পথিক নেই।\\nঅথচ একদিন শঙ্কু সমজদারের নিথর দেহ নিয়ে\\nমিছিলে-শ্লোগানে মুখরিত হয়েছিল প্রতিটি প্রাণ, \\nধ্বংস-মৃত্যুর মধ্যদিয়ে নতুন স্বপ্ন বুনেছিল প্রতিটি তরুণপ্রাণ।\\n…\\nসময়টা বড়ই বেরসিক,\\nচলুন আজ এই বেরসিক সময়ে একটি শহরের গল্প শোনাই।\\nহ্যাঁ ঠিকি শুনেছেন একটি শহরের গল্প,!\\nএ শহর কংক্রিট আস্তরণে ঢেকেছে দেহ,\\nবক্ষপিঞ্জর গড়েছে ঢালাই লোহায়,\\nঅথচ বিষাদ প্রবহমান প্রতিটি শিরায় শিরায়।\\nনদী পাড়ে আজ বৃষ্টি বিলাস,\\nপেছনে পড়ে আছে বিলাসী শহর,\\nওপারে বিস্তৃত আকাশ,\\nডান বাহু ছুঁয়ে আছে প্রিয়দর্শিনী!\\nচোখে তার মায়াভরা অভিমান, \\nঠোঁট ছুয়ে গেছে বিবাগী বৃষ্টি। \\nহে মূর্তিমান ল্যাম্পপোস্ট;\\nতুমি সেই প্রেয়সীর মতো;\\nযে দিবালোকে নিজেকে আড়াল করে  মৃতদের মতো,\\nঅথচ রাত্রির মধ্যভাগে নিজেকে সঁপে দেয় কামুক প্রেমিকের হাতে।\\nযেন একগুচ্ছ শেফালী তুমি,\\nদীর্ঘ রাত সুবাস ছড়িয়ে ঝরে পড় শারদ প্রাতে।\\nআমি পথিক প্রেমিক, \\nআমারও তোমার মতো একলা আকাশ,\\nঅজস্র কোলাহলে অবিরাম কেটে যায় যান্ত্রিক জীবন \\nঅথচ হৃদয়জুড়ে এক পৃথিবীর নিঃসঙ্গতা!\\n…\\n- বৃষ্টি নামবে , মেঘ ডাকছে।\\n- চলো তবে ওঠা যাক।\\n- না না, আর কিছুক্ষণ থাকি। দূরের ঐ কদম গাছটার দিকে তাকাও।\\n- মনে হচ্ছে বৃষ্টিস্নাত হওয়ার জন্য মুখিয়ে আছে! কমদ গাছটাকে সঙ্গ দেবে নাকি!\\n- তাহলে তো বেশ হতো! দেখ গাছটার ঠিক উপরে মেঘগুলো কেমন দিগ্বিদিক ছুটছে!\\n- তবে আমি কিন্তু ভিজছি না, সবেতো জ্বর সেরে উঠলাম। তুমি শাড়ি পড়লে হয়তো ভেবে দেখতাম!\\n- শাড়ি পড়িনি বলে কি বৃষ্টিতে ভেজা নিষ্প্রয়োজন?\\n- আমার আবার প্রয়োজন? চার\\'টা সিগারেট আর দু\\'প্লেট ভাতে যার দিন চলে যায়!\\n- তর্ক রাখো, হাতটা ধরো, বৃষ্টি পড়ছে!\\n- ভেজালেই তো! আচ্ছা পুরো আকাশ নয়তো আমার হাত কোনটা বেছে নেবে?\\n- পুরো আকাশ আমার চাইনে, আমাকে ভেজানোর জন্য একখণ্ড মেঘ, আর আমাকে ধরে রাখবার জন্য হাতটাকেই বেছে নেব!\\n…\\n\"কখনো চোখ রেখেছ তোমার দক্ষিণের জানালায়?\\nকতোটা রক্তাক্ত দেহ নিয়ে দাঁড়িয়ে দূরের শিমুল গাছটা।\\nনির্ঘুম মাঝরাতে কখনো তাকিয়েছ পূর্ণ চাঁদটা\\'তে?\\nতখনো কি মনে হয় নি?\\nনি:সঙ্গতা কতোটা বিদীর্ণ করেছে তোমার হৃদয়কে।\\nজানো, ঐ রক্তলাল শিমুল, পূর্ণ চাঁদ \\nকিংবা তোমার অনুভব সর্বত্র বিরাজমান এক আবর্তন\"\\nরাত বাড়ছে, বাড়ছে নিষঙ্গতা\\nঅথচ তোমার পথে নামার কথা ছিল,\\nবলেছিলে - বসন্তের রাতে চাঁদটা প্রথম যখন  আকাশে উঁকি দেবে,\\nঠিক তখনি আমরা বেড়িয়ে পড়বো।\\nবলেছিলে - রাতভর জেগে থাকা ল্যাম্পপোস্টে\\'র আলোয়\\nপুনরাবৃত্তি হবে আমাদের প্রথম চুম্বনের!\\nচাদর জড়িয়ে নড়বড়ে চেয়ারটাতে হেলান দিয়ে বসে আছি। \\nএখন মধ্যরাত,\\nআমার শহরে আজ তুমি নেই\\nঘুমিয়ে পড়েছে ব্যস্ত শহর\\nশূন্য রাজপথে জুড়ে আদিম মৌনতা,\\nশীতের রাতে ল্যম্পপোস্ট যেন কেরোসিনের পিদিম \\nএই শহরের কোন অন্ধকার গলিতে হয়তো \\nকোন রূপজীবার সঙ্গমে ভিজছে শরীর\\nলোনাজল গড়িয়ে পড়ছে ভাঁজে ভাঁজে \\nরূপজীবার শরীরে হয়তো কামনার শিহরণ নেই\\nলোমকূপ যেন অশ্রুর ফোয়ারা নীল কষ্ট ভেসে যায় লোনা স্রোতে।   \\nধূসর কুয়াশা নেমেছে  আজ আমার আঙিনায়\\nচন্দ্রমল্লিকারা ভিজছে শিশিরের জলে,\\nদূর বহু দূরে গাঢ় অন্ধকারে যেন মিশে আছো তুমি,\\nকলমটা যেন খুব বেশি বিষণ্ণ \\nকিছুতেই কবিতা লিখছে না আজ,\\nতুমি চলে গেলে নিয়ে গেলে কবিতার ভাষা,\\nফিরে এসো প্রিয় তবে একঝাপটা হিমেল হাওয়ার রূপে\\nচুমু এঁকে দাও এই নিঃপ্রাণ ঠোঁটে!\\nকি করছো তবে?\\nঅদৃশা, আজ তৈরী থেকো\\nআজ পার্ক মোড়ে মিছিল হবে\\nশ্লোগানের তীব্রতা আছড়ে পড়বে তোমার জানালায় \\nআজ পুষ্পবৃষ্টি হবে শহরজুড়ে \\nপেশাদার সৈনিকের মতো কুচকাওয়াজ করতে করতে এগিয়ে যাবে একদল উদ্দাম প্রেমিক \\nতুমিও চলে এসো মিছিলের অগ্রভাগে \\nহাতে হাত রেখে পাড়ি দেব বিপ্লবী উচ্ছ্বসিত দিন\\nআজস্র গোধূলি আমি খুঁজেছি চলছি শাশ্বত কোন প্রিয় মুখ,\\nঅভিমানী কোন প্রিয় সুর, \\nকোন জাতিস্মরের ডাকে থমকে যাক মহাকাল!\\nপ্রস্তরযুগ থেকে এই পুঁজিবাদী যুগ যে প্রেমিকারা কাঁপন তুলেছিল পৃথিবীর বুকে বদলে দিয়েছিলো রাষ্ট্রের সীমা, নৃপতির মস্তক লুটিয়েছে যুদ্ধক্ষেত্রের তপ্ত ধূলিতে ফাগুনের শেষ বেলায় রক্তিম পলাশের মতো ছোঁপ ছোঁপ  তাজা খুনে রাঙিয়েছে নিজের বসন \\n…\\nপ্রিয়তমা এই বিষণ্ণ পৃথিবীর পথে - \\nচলো আর একটিবার পাশাপাশি পথ চলি,\\nএকটিবার অবগুণ্ঠন খুলে বুক ভরা নিঃশ্বাস নাও তুমি। \\nপৃথিবী এখনো পুরোটা কলুষিত হয়ে যায়নি প্রিয় \\nএখনো এর শিরায় শিরায় রক্ত প্রাবাহমান\\nঅবিশ্বাসের বিষাক্ত মেঘে এখনো পৃথিবী যায়নি ঢেকে\\nআজও পৃথিবীর বুকে গোলাপ ফোটে\\nরক্তিম পলাশে পৃথিবী এখনো ছেয়ে যায়\\nআজও কোন কৃতদার প্রিয়তমার শরীরের গন্ধ ভালোবাসে\\nআজও অপেক্ষায় থাকে কোন প্রেমিক চিল পুরুষ \\nপ্রিয়তমা এখনো জোয়ার হয়, প্লাবনে ভাসায় দুকূল \\nআজও কার্তিকে সোনালি ধানে ভরে ওঠে মাঠ\\nএই নিজস্বতার যুগেও অকারণে পেতে দেয় বুক\\nতৃষ্ণায় কাতর হয়ে বিলিয়ে দেয় শেষ ফোঁটাটিও!\\nঅবিশ্রান্ত বর্ষণে ভিজে লুকায় অজর অশ্রুবিন্দু।\\n…\\nচন্দ্রপ্রভা কতটুকু প্রেম হৃদয়ে আমাদের? \\nকতটুকু ভালোবাসি আমরা?\\nআমরা কি সত্যিই ভালোবাসি!\\nনাকি বৈশাখী ঝড়ের মতো হঠাৎ এসেছিলো প্রেম\\nভাসিয়ে সাময়িক উদ্দামতায়, \\nআমরা পরস্পরকে স্পর্শ করেছিলাম,\\nসে স্পর্শে কি প্রেম ছিলো?\\nআমরা পরস্পরের ওষ্ঠ ছুয়েছিলাম,\\nচুম্মনে শিহরিত হয়েছিলো প্রতিটি শিরা-উপশিরা\\nসে শিহরণ কি প্রেম ছিলো?\\nনাকি আদিম কামুকতার জোয়ার ছিলো হৃদয়ে আমাদের!\\nআমরা পরস্পরের ছায়া হয়ে দাঁড়িয়ে ছিলাম, \\nসে দাঁড়িয়ে থাকায় কি প্রেম ছিলো নাকি অভ্যাস ছিলো নিত্যকার?\\nস্বপ্নে কি কখনো পরস্পরকে পেয়েছি খুঁজে?\\nনাকি সাদাকালো স্বপ্নে অবয়ব খুঁজেছি শুধুই! \\nমিলনের আকাঙ্ক্ষায় অসংখ্য নির্ঘুম রাত কেটেছে আমাদের,\\nতীব্র শীতের রাতে শরীরে এসছে সমূহ জোয়ার,\\nমিলনের তৃপ্ততা কি আমাদের হৃদয় ছুয়েছিলো?\\nএকবার একটা অঙ্কুরিত শস্যক্ষেত দেখিয়ে বলেছিলে -\\nআমাদের ভালোবাসা এই চারাগাছ গুলির মতো বাড়বে রোজ,\\nচারাগাছ গুলি বড় হতে হতে একদিন ফুল-ফলে ভরে উঠেছিল \\nতারপর একদিন মাঠ ভরা শস্য রেখে হঠাৎ ওরা মরে গেল নিজে!\\nআমাদের ভালোবাসা কি মৃত শামুকের মতো?\\nবাইরে প্রচন্ড শক্ত আবরণ অথচ ভিতরে প্রাণের শিহরণ নেই,\\nনাকি বিপুল ঐশ্বর্যে সজ্জিত পিরামিড \\nএকটা প্রাণহীন মাংসপিন্ডের জন্য রাজসিক নৈবেদ্য। \\nশূন্য কবিতার খাতাটি পড়ে থাকে পাশে,\\nসে জীবন চায়, নষ্ট হতে চায়,\\nসে নিষিদ্ধ শিরোনাম হতে চায়, শেষ ফাল্গুনে।\\nহে শাশ্বত মহাকাল, তোমার বিপুলা ঐশ্বর্য থেকে \\nদু-একটি অমর চরণ চাও, পূর্ণতা দাও।\\nশোষকের রক্তচক্ষু, কিংবা অস্ত্রের ঝনঝনানিতে\\nযদি না হয় কখনো উচ্চকিত উচ্চারণ ;\\nতবে নিষিদ্ধ স্লোগান হয়ে টিকে থাক\\nপ্রজন্ম থেকে প্রজন্মের হৃদয়পটে।\\nটিকে থাক সেইসব প্রেমিকের মনে;\\nযারা জীবন ভালোবাসে, যাদের রাখালিয়া মন,\\nযাদের পথে যেতে যেতে ফেরার ব্যকুলতা নেই,\\nঅজস্র রাতের পর কোন এক পূর্ণ জ্যোৎস্নায় পৃথিবীর পথে-\\nবালিকার গোপন প্রেমের মতো দাগ কেটে থাক মনে।\\n…\\nবিষন্ন নির্ঘুম রাতে যদি শোন \\nপ্রণয়ের বেলা শেষে বিদায়ের ক্ষণে বিরহের সুর হয়ে বাজুক \\nঅশ্রু\\nপ্রবল বর্ষণে ভেসে যাচ্ছে নগরী,\\nঅমাবস্যার জমাট অন্ধকার ছাপিয়ে বিকট শব্দে ডেকে যাচ্ছে মেঘ\\nবিদ্যুৎ ঝলকানিতে যেন ছিন্নভিন্ন হয়ে যাচ্ছে আকাশ। \\nএকটা জড়সড় মাকড়সাকে গলাধঃকরণ করে ফেলে একটা সর্বভুক টিকটিকি!\\nমোমবাতির শেষ অংশটুকু তীব্র প্রতিবাদে সবটুকু আলো নিংড়ে দিয়ে হঠাৎ দপ করে নিভে গেল!\\nআমি খোলা দরজার দিকে তাকিয়ে থাকি \\nকে যেন এগিয়ে আসে, আমার সামনে এসে দাঁড়িয়ে যায় আমার হাত ছুঁয়ে দেয়\\nরাজপথ যেন বর্ষার যৌবনা স্রোতস্বিনী\\nঅথচ এই অস্থির সময় আমি আছি বিছানার এককোণে \\nআমরা পরস্পরের দিকে এগিয়ে যাই প্রেম পূর্ণ হৃদয় নিয়ে\\nআমারা পরস্পরের দিকে এগিয়ে যাই তৃষ্ণার্ত আর্তি নিয়ে \\nআমরা পাশাপাশি পথ ধরে এগিয়ে চলি ছুঁতে পারার মতো দূরত্বে  \\nআমাদের ছায়া দিনের ব্যাপ্তির সাথে দীর্ঘ হতে থাকে\\nপরস্পর মিলিত হয়, পরস্পরকে অতিক্রম করে\\nঅস্তগামী সূর্যের সাথে তারা একীভূত হয় পূর্ণতা পায় পথচলা\\nপ্রতিনিয়ত আমারা ভেঙে যাই, ছিন্নভিন্ন হই\\nআমরা আবার জন্ম নেই,\\nপাতা ঝরা বৃক্ষের কচিপাতার মতো\\nঝড়ে আহত পাখির মতো ডানা ঝাপটিয়ে আশ্রয় খুঁজি \\nঅদৃশা, সন্ধ্যা নামছে ।\\nরক্তিম পলাশ ফুলগুলো শেষ বারের মতো\\nছুঁয়ে যাচ্ছে সূর্যালোক, \\nনরকের দরজার মতো প্রশস্ত মুখ দিয়ে\\nসূর্যকে যেন গিলে ফেলছে অন্ধকার,\\nহাতটা বড়িয়ে দাও, স্পর্শ করো আমার চিবুক\\nশেষ চুম্বন এঁকে দাও ললাটে আমার,\\nমুছে ফেল অশ্রু, একি কান্নার ক্ষণ!\\nআমাদের ভালোবাসা পূর্ণতা পেতে পেতে\\nজন্ম নিয়েছে বিপরীত বোধ!\\nএইতো আর কিছুক্ষণ ভালোবাসা ছাপিয়ে জিতে যাবে বোধ,\\nতখন আমারা অন্য পুরুষ অন্য কোন নারী! \\nআজ স্মৃতির রোমন্থন নয়,\\nআজ শেষ প্রস্থান বেলায় \\nহৃদয় ভাঙার কাতরতা নাহয় গোপন থাক,\\nস্মৃতিগুলো যমদূত হয়ে আঘাত করুক \\nহৃদপিন্ডের প্রতিটি প্রকোষ্ঠে। \\nঅদূরে অশ্বত্থ গাছটির দিকে তাকাও \\nদেখতে পাবে গাছটিকে প্রদক্ষিণরত একটি আহত শকুন,\\nএতোদিন যে শিকার করেছে, ছিন্নভিন্ন করেছে মৃতের পাজর \\nআজ নিজেই হয়তো ভোজ হবে কোন নেড়ি কুকুরের!   \\nকখনো চোখ রেখেছ তোমার দক্ষিণের জানালায়?\\nকতোটা রক্তাক্ত দেহ নিয়ে দাঁড়িয়ে দূরের শিমুল গাছটা।\\nনির্ঘুম মাঝরাতে কখনো তাকিয়েছ পূর্ণ চাঁদটা\\'তে?\\nতখনো কি মনে হয় নি?\\nনি:সঙ্গতা কতোটা বিদীর্ণ করেছে তোমার হৃদয়কে।\\nজানো, ঐ রক্তলাল শিমুল, পূর্ণ চাঁদ \\nকিংবা তোমার অনুভব সর্বত্র বিরাজমান এক আবর্তন\"   \\n…\\nগতরাতে এক ‘আজব স্বপ্ন’ দেখলাম,  \\nআমার মতো অকাল কুষ্মাণ্ডকে \\nদেয়া হলো বঙ্গদেশের রাজ্যভার! \\nরাজ্যাভিষেকের জন্য হলো মহা আয়োজন-  \\nকত-শত লোক জয়ধ্বনি চারপাশ \\n‘রাজা মশাই চিরজীবী হউন’ বলতে বলতেই \\nকারোর যাচ্ছে ছিঁড়ে স্বরতন্ত্রী, তা ছিঁড়ুক!  \\nরাজার স্বার্থে প্রজার মরণ দেশপ্রেম তো সর্বকালে!  \\nকতো-শত যুদ্ধ হলো সৈন্য মরলো লাখে লাখে\\nতাতে রাজার কি যায় বা আসে, বীর মরবে বীর আসবে\\nরাজায় রাজায় ভাব জমবে, রাজ্য যাবে রাজ্য পাবে!\\nচারদিকে সভাসদগন আছেন বসে রাজসিক বেশে,  \\nসেকি, এরা তো সব চুঙ্গি-খোর, ধূর্ত বেশ, পাল্টিবাজ বকধার্মিক!\\nঅদূরে মনোরঞ্জনের জমকালো আয়োজন   \\nজন কতেক সাদা চুল-দাড়ির রবীন্দ্রনাথকে মারছে চাবুক!   \\nচেঁচিয়ে বললাম ‘খামোশ, তোদের সাহস কতো?  \\nগুরুদেবকে চপেটাঘাত’!  \\nপেয়াদার ততোধিক জোরালো জবাব – \\n‘দেখুন মহারাজ, এই ব্যাটার সাহস কতো \\nএই মজলিসে গাইবে নাকি সে বাংলা-রাগ,\\nআরে ব্যাটা বাংলাতে কি রক্ত জাগে \\nখিস্তি দিয়েও মজা পাইনা তেমন \\nপারিস যদি হিন্দিতে গা, ইংরেজিটাও থাকলো কমন!\\nইচ্ছে করছে ব্যাটার-গলা কাটি নয়তো চড়াই শূলে।’\\nপাশ ফিরতেই চমকে দেখি মন্ত্রীর তামাক সাজান জীবনানন্দ! \\nগত জন্মের দুঃখ যত মুছবেন হয়ত তেলবাজিতে, \\nআমার কেমন যেন বমি আসছে, ভীষণ মাথা ঘুরছে। \\nঠিক তখনি;   \\nকোন জানি এক বিদ্রোহীকে আনছে টেনে শিকল বেঁধে,\\nশাস্তি স্বরূপ উপড়েছে চোখ, কেটেছে হাত। \\nরাজ্য চায়নি, রাজকোষেও ভাগ বসায়নি\\nচেয়েছিল সাম্যবাদ, অত্যাচারী নিপাত যাক  \\nসেই হলো কাল, শাস্তিস্বরূপ জুটল শিকল! \\nহিঁচড়ে যখন আনল কাছে\\nতাকিয়ে দেখি ঝাঁকড়া চুলে নজরুল হাসছেন খিলখিলিয়ে, \\nপেয়াদাকে হুকুম দিলাম - খুলে দাও ওনার পায়ের শিকল,  \\n‘রাজামশাই কি আর হবে আমার জন্য দুঃখ করে\\nযদি পারেন এই চণ্ডালদের মারুন জুতো, ফেলুন পুঁতে, \\nএরা সব দুমুখো সাপ, এক মুখেতে মনুষ্যভাব\\nঅন্যটাতে মারবে মরণ ছোবল,  \\nপেটে এদের অজগরের অসীম ক্ষুধা  \\nক্ষণিক-বাদে গিলবে রাজকোষ, প্রাসাদ-গাড়ি,\\nবস্তি-নর্দমা, দিগন্ত বিস্তৃত ফসলের মাঠ,\\nকৃষকের হাল, শ্রমিকের কাস্তে-কোদাল,  \\nগরিবের রক্ত পানে সারবে ভোজ প্রতিদিনে!’\\n\\'ব্যাটা, তুই বড্ড বলিস বেশি\\'  \\nবিদ্যুৎ বেগে মারল চাবুক তাঁর মুখে \\nফাটল ঠোঁট, ভাঙল দাঁত। \\n‘খামোশ, অনেক হলো অনাসৃষ্টি \\nচাবুকে কি সত্য দমে, মৃত্যুতেও যায় না মুছে  \\nথাকবে টিকে সহস্র যুগ  \\nঅন্য নামে - নতুন মুখে - ভিন্ন সুরে।  \\nএই এখুনি বিচার হবে, দেখা হবে আমলনামা, \\nভরাট পেটে কে কতবার তুলল ঢেকুর,   \\nলুটল পুকুর, গিলল টাকা গয়না সমেত,  \\nশ্রমিকের রক্তে গড়া রাজভাণ্ডার করলো পাচার, \\nআজ এদের বিচার হবে, দন্ড হবে-মুন্ডু\\nহাজারবার মুন্ডুপাতে শুধতে হবে ঘামের দাম।’   \\nএরপর জনাকয়েক হোমরা মোড়ল বাঁধল আমায় পিছন থেকে, \\nএক নিমিষেই মাথার থেকে মগজ গুলো সরিয়ে নিলো! \\nঘুমে যেন চোখ আসছে বুঝে, মৃত্যু বুঝি খুব সন্নিকটে। \\n‘রাজা মশাই এই মগজের কাজ কি বলুন \\nতার থেকে ওটা সুস্থ থাকুক খুব যতনে \\nশ’খানেক দাস-দাসী রাখবে নজর দিনরাত্রি,  \\nএখন থেকে আপনি বরং মুক্তি পেলেন\\nমগজ যতো সচল থাকে ব্যথাও বাড়ে সমান তালে!   \\nদেশ নিয়ে চিন্তা যতো আমরা নিলাম নিজের করে,  \\nতাই এই দেশে কেউ রাজা হলে রাজকার্যেই মুক্তি মেলে! \\nদেশকে ভাবুন একটা পাগলা ঘোড়া  \\nলাগাম টেনে, চাবুক মেরে আনবো বাগে \\nখুব যত্নে গড়ব পাহাড় অর্থ দিয়ে \\nমরুক নাহয় মানুষ কিছু অনাহারে!   \\nআমরা চাই- সুবোধ রাজা\\nখাবে-ঘুরবে, চোখে দেখবে ক্ষণিক বাদে যাবে ভুলে \\nভুলো রাজাই প্রিয় সবার   \\nগোবর গণেশ তাই সবার পূজ্য!  \\nরাজার নামেই সড়ক হবে, প্রাসাদ হবে চোখ জুড়ানো,   \\nশুধু মগজটুকুই যত্ন করে থাকুক তোলা \\nআমরা জানি এই নিয়মেই রাজা মশাইয়ের মুক্তি মেলে!’  \\nচোখ মেলে দেখা প্রথম সূর্যোদয়\\nতারপর প্রথম সন্ধ্যা শেষে নামে দীর্ঘ জমাট অন্ধকার, \\nপৃথিবীর ধূলি গায়ে মেখে হাঁটতে শেখার নগ্ন শৈশব \\nকোন এক বসন্তে বাতাসে ভেসে আসে ফুলের ঘ্রাণ \\nনতুন কচিপাতার আড়ালে ডেকে ওঠে একটি পুরুষ কোকিল,\\nসময় পেরিয়ে যায় -\\nদূর্বাঘাসে জমে থাকা স্বচ্ছ শিশির কণা মিলিয়ে যায়\\nহঠাৎ বৈশাখী ঝড়ে উড়ে যায় বুড়ো বট \\nবন্যায় প্লাবিত হয় শহর-গ্রাম-দিগন্ত বিস্তৃত ফসলের মাঠ,\\nতবুও নতুন শিশু হামাগুড়ি দিতে দিতে পৃথিবীকে ভালোবেসে ফেলে\\nতারপর বৃক্ষের মতো শাখা-প্রশাখা ছড়িয়ে ছেঁয়ে ফেলে বিস্তৃত আকাশ\\nপ্রতিনিয়ত শিকড় বৃদ্ধি পেতে পেতে আঁকড়ে ধরে থাকে সম্পূর্ণ পৃথিবী,\\nএকদিন রুক্ষতার চাদর জড়িয়ে দরজায় করা নাড়ে তীব্র শীত\\nএকটি দুটি করে ঝরতে থাকে পাতাগুলো \\nশিকড় দীর্ঘ ক্লান্তি নিয়ে একদিন বন্ধ করে রসের যোগান   \\nআর একটি মাত্র ভোর দেখার আকাঙ্খা নিয়ে দু-চোখে নেমে আসে নিকশ অন্ধকার,\\nপৃথিবীতে পড়ে থাকে মিলিয়ে যাওয়া পদচিহ্ন আর অপূর্ণ স্বপ্নের জন্য কিছু দীর্ঘশ্বাস!\\n…\\nঅন্ধকার হয়ে আসছে পৃথিবী \\nআকাশ ছেয়েছে কালো মেঘে \\nযেন কোন আদিম গুহার ভিতর চলছি পথ \\nদু-একটি ল্যাম্পপোস্ট জ্বলছে নিঃশেষিত মশালের মতো, \\nপ্রচন্ড ধূলিঝড় শহর জুড়ে \\nকোন দূর মরূভূমি হতে \\nধ্বংসযজ্ঞের পূর্বাভাস নিয়ে যেন ধেয়ে আসছে ওরা,\\nশহরের সব থেকে বয়সী বটগাছটা\\nএইমাত্র খড়কুটোর মতো উড়ে গিয়ে পড়েছে অদূরের বস্তিতে\\nপ্রকৃতির সব ক্ষোভ মেটে যেন বিপন্ন-অর্ধমৃত মুখের অশ্রুপাতে।\\nআমার চেনা একজন চৌকিদার \\nএখনো পাহারারত মন্ত্রীর কোষাগার,\\nকোষাগার নয় একটা আস্ত অজগর যেন \\nনর্দমা-ফুটপাত-খাস জমি গিলে \\nঅবশেষে ভক্ষণ করছে নিজের শরীর!  \\nক্ষণিক আগেই যে পাগলটা ফুটপাতে ঘুমিয়ে পড়েছিলো\\nএখন একটা এটো সিগারেট হাতে ধরে\\nঅনবরত জ্বালিয়ে যাচ্ছে দেশলাই \\nঅকস্মাৎ যিশুর মতো দু\\'হাত উঁচিয়ে দাঁড়িয়ে যায়\\nবাতাসের দিকে মুখ করে পেতে দেয় বুকের সিংহদ্বার।\\nএই বিক্ষুব্ধ ঝড়ের রাতে পথ চেয়ে থেকো না তুমি  \\nনিবু নিবু মোমবাতি হয়তো ফুরিয়ে আসবে এখুনি \\nভয়ে জমাট অন্ধকারে খুঁজনা আমায়\\nতোমার চুলের ঘ্রাণে মিশে আছে আমার নিঃশ্বাস,\\nআমি হয়তো ফিরবো শহরের সবটুকু আঁধার পেড়িয়ে\\nধূলি-মেঘ-বজ্রপাত সঙ্গী করে \\nহয়তো তখন ঝরা ফুলে ছেয়ে থাকবে তোমার শিউলি তলা,\\nদীর্ঘ হতে থাকা মৃত্যুর মিছিলে \\nআমাকে হয়তো অগ্রভাগে পেয়ে যাবে তুমি \\nনয়তো দুঃস্বপ্নের মতো কেটে গেলে এই বিক্ষুব্ধ রাত\\nদেখবে আমার আঙুল আঁকড়ে আছে তোমার হাত। \\n…\\nহয়তো হবে দেখা, অনেক দিন পর,\\nকোন এক পড়ন্ত বিকেলে।\\nচিরচেনা “সেই চৌ-রাস্তার” মোড়ে।\\nযার বাতাসে ভাসছে-\\nঅনেক রাত-জাগা, নিদ্রাহীন;\\nতরুনের দীর্যশ্বাস।\\nযেখানে আকাশ খুব উঁচুতে,\\nসূর্যের আলো যেখানে পৌঁছায় দিনের মধ্যভাগে।\\nসেখানে অনেক ভাবনা আর চলমান তর্কের ভিড়ে\\nঅনুভবে শুনতে পাবে;\\nকোন এক তরুন জুটির অব্যক্ত কথাগুলো।\\nযা জমে আছে সহস্র দিন ধরে,\\nবৃষ্টি না হওয়া মেঘের মত;\\nশুধুই বিচরন করেছে তাদের মন-আকাশে।\\nদিন শেষে নীড়ে ফেরা পাখির মত;\\nশহুরে ক্লান্ত মানুষগুলো যখন পথে নামে-\\nঘরে ফেরার অভিপ্রায়ে, একবুক আশা নিয়ে।\\nআমিও হয়তো থাকব, তাদের মিছিলে;\\nএলোমেলো চুল আর রোদে-পোড়া জিন্সে-\\nএকজন ভবঘুরের খোলস জড়িয়ে।\\n…\\nচল আকাশ দেখবো, শূন্য প্রান্তরে দাঁড়িয়ে, নির্জনতাকে সঙ্গী করে।\\nতাকাও আকাশের পানে, কি দেখছো?\\nকিছুই না; একি এ বিশাল নীল আকাশে কিছুই নেই!\\nআবার তাকাও, ঐ আকাশের নীলেই খুজে পাবে,\\nতোমার দেখা প্রতিটি স্বপ্নের সুবিস্তৃত ইতিহাস।\\nভেসে চলা মেঘ গুলোতে তাকাও, দেখতে পাবে,\\nতোমার প্রতিটি দিনের, প্রতিটি ক্ষনের\\nঅজস্র ভাবনার মিশ্র বিন্যাস।\\nঐ যে দেখ, খুব কাছে, জমাট কালো মেঘ-\\nকি পেলে সেখানে? হতাশা, ব্যর্থতা, কান্না, দীর্ঘশ্বাস।\\nআর কিছুই দেখনি! আবার তাকাও বুক ভরা বিশ্বাস নিয়ে,\\nখুজে পাবে তোমার প্রতিটি সংগ্রামের অজস্র স্হির চিত্র।\\nআজ যে বেঁচে আছ তাওতো সংগ্রাম!\\nঐ দিগন্তের পানে চাও, দেখ রংধনু;\\nভিতর হতে অনুভব কর; সেখানে পাবে নতুন করে বাঁচার অমীয় সুধা,\\nনতুন শুরুর অসীম প্রেরনা।\\nহোকনা শুরু আজ হতে নতুন পথচলা,\\nহাতে রেখে হাত ঐ দিগন্তেই\\n…\\nহেঁটেছি অনেকটা পথ, ক্লান্তিহীন ।\\nশুধুই ভেবেছি তোমায়, বানিয়ে ছায়াসঙ্গী।\\nদুজনেই নির্বাক, শুধুই পথচলা-\\nপথটা ছিল অতিদীর্ঘ, খুব চেনা ও একঘেয়ে।\\nকখনো ফুটপাত, কখনো মাড়িয়ে জনস্রোত,\\nবিশাল রাজপথ, পথিক আমি আর ছায়াসঙ্গী।\\nশুধুই দেখে যাওয়া, চেনা পথটাকে নতুন করে।\\n\\nশহর থেকে অদূরে ফাঁকা মাঠটা, তারপর ধানক্ষেত,\\nনদীর ধারে বেঁকে যাওয়া আমগাছটা।\\nদুপুর গরিয়ে বিকেল, আবার পথচলা-\\nশহুরে রাজপথে আমি আর ছায়াসঙ্গী।\\n\\nসন্ধ্যা নামছে, সূর্যের লাল আভাটুকু মুছবার আগেই\\nশহুরে রাস্তায় সন্ধ্যা প্রদীপের মত জ্বলে ওঠে ল্যাম্পপোস্ট।\\n\\nএকটু পরই হয়তো দেখা হবে “ডিসির মোড়ের” পাগলটার সাথে,\\nচাদর মুড়িয়ে সাড়ারাত মোড়টাতে দাঁড়িয়ে থাকবে।\\nকখনো হাত তুলে চেয়ে থাকবে, আকাশের পানে।\\nমাঝরাতে ঘুম-ঘুম ভাব নিয়ে চলা পথিক থমকে দাঁড়াবে,\\nনতুন পাথুরে মুর্তি ভেবে!\\n\\nরাত বাড়ছে, অজস্রো আলোয় ভাসছে শহর।\\nতার সাথে পাল্লা দিয়ে বাড়ছে ছায়াসঙ্গী!\\nএকটি-দুটি-তিনটি করে একজন আমির অসংখ্য ছায়ামুর্তি\\nযেন ছায়ামুর্তিতে সবিস্তারে প্রকাশিত আমি!\\n…\\nসন্ধ্যা নামছে; পশ্চিমের আকাশে ফিকে লাল হওয়া সূর্যটা\\nএকটু একটু করে মিলিয়ে যাচ্ছে দিগন্তে।\\nঝিঁঝি পোকা ডাকছে পথের দুপাশে;\\nযেন দিন শেষে বেঁচে থাকার জয়গান\\nযোষিত হচ্ছে তাদের কন্ঠে!\\n\\nআজ সন্ধ্যায় আকাশটা একটু বেশিই নীল-\\nসেই নীলে পাখা মেলেছে নীড়ে ফেরা পাখিরা,\\nবেলা শেষে ফিরছে আপন গন্তব্যে।\\nযেন যাপিত জীবনের পুনরাবৃত্তি প্রকৃ্তিতে।\\n\\nহঠাৎ অচেনা নিস্তব্ধতা নেমে এলো চারপাশে\\nগাছের পাতাগুলোও যেন থমকে দাঁড়িয়েছে\\nযেন নিরব দর্শক টান্-টান উত্তেজনায় দেখছে\\nদিন শেষের মুহুর্তটাকে, মহাকালের সাক্ষী হয়ে।\\nহয়ত স্মৃ্তিটাকে যত্নকরে রাখবে গোপন কোন অ্যালবামে!\\n\\nসব নিস্তব্ধতাকে নিমেশে সরিয়ে\\nএ পথেই আসছে একজন অপরিচিতা\\nযেন রাতের কালো অন্ধকার সরিয়ে\\nএকটি নতুন সূর্যোদয়ের হাতছা্নি!\\n\\nক্ষনিক বাদে সামনে দাঁড়িয়ে রমনি-\\nআচমকা চোখে চোখ পড়তেই\\nযেন সহস্রকাল পেছনে চলে গেছি\\nএকটি অতি প্রাচীন আত্মার সাথে মেলবন্ধন\\nএকটু-একটু করে চোখে ভাসছে মানব মনের বিবর্তন।\\nক্ষনিক পর  আন্তগামী সূর্যের মত মিলিয়ে গেল\\nইন্দ্রজাল বোনা অচেনা রমনি!\\n\\nআবার কখনো যদি দেখা হয়, তাকে বলতাম;\\nতুমিও কি আকশ দেখ?\\nক্ষিপ্র গতিতে উড়ে চলা “ঈগলের” চোখের গভীরে\\nকি খুজে পাও কোন “বার্তা”!\\n\\nবলতাম তুমিও কি পথ চল একা একা\\nআমার মত একজন নিভৃতচারী হয়ে।\\nতুমিও কি পথে কান পেতে শুনতে পাও-\\nমাঝ রাতে পথচলা কোন যুবকের দীর্যশ্বাস।\\nনাকি আমি ভুল শুনি!\\n…\\nআজ শহরের প্রতিটা গলিপথ ধরে হেঁটেছি,\\nপ্রতিটা মোড়ে দাঁড়িয়েছি কিছুক্ষন; তোমায় দেখবো বলে।\\nদেখা হয়নি; হয়তো আজ নামনি পথে!\\nযেদিন তুমি পথ চলবে একা, খুব বেশি একা,\\nহাঁপিয়ে উঠবে চার দেয়ালের ভারী বাতাসে,\\nযেদিন আনমনা হয়ে পথ চলবে একটু মুক্তির আশায়,\\nসেদিন তোমার সামনে দাঁড়াব আগন্তুক হয়ে।\\nতুমি হয়তো চিনবে না, আমি ঠিক চিনে নেব\\nতোমার চোখে মুক্তি লাভের অভিলাষ দেখে।\\n\\nআজ একটি কালো কাক দেখেছি শহরের সব থেকে উঁচু দালানের উপর।\\nযেন উপর থকে দেখছে শহরের প্রতিটা গলিপথ,\\nহয়তো চোখ রাখছে প্রতিটি আগন্তুকের পথ চলায়,\\nসেও হয়তো আমার মতো আশায় আছে; কোন গৃহবাসীর আগমনের।\\n\\nশীতটা শেষ হয়ে আসছে, তবুও শহরটা ডুবে আছে ঝরা পাতায়।\\nরাজপথের দু-পাশে দাঁড়িয়ে থাকা প্রকান্ড গাছগুলোতে নেই-\\nজীবনের সরব উপস্হিতি।\\nপ্রতিটি ঝরা পাতায় আমি দেখেছি আমার অব্যক্ত কবিতাগুলো-\\nযা শোনাতে চেয়েছি প্রতিক্ষনে।\\nযা হয়তো তোমাকে শোনানো হবে না কোনদিন; স্বপ্নেও!\\nহয়তো তুমি হাঁটছ অন্য কোন পথ ধরে,\\nঝরা পাতাগুলোকে মাড়িয়ে আনমনে।\\n\\nআমি আজ দাঁড়িয়ে ছিলাম একটি ধ্বংসাবশেষের সামনে।\\nসেখানে আর্তনাত শুনেছি কতক ভয়ার্ত আত্মার।\\nকতকাল ধরে কাঁদছে মুক্তির আশায়।\\n\\nউদ্যান চত্বরে দেখেছি, গভীর প্রতীক্ষায় দাঁড়িয়ে থাকা রমনি।\\nতার চোখে দেখেছি অসীম বিশ্বাস।\\nএকটুও বিচলিত হতে দেখিনি তাকে, দেখিনি ক্লান্ত হতে।\\nশুধু দেখেছি চেয়ে আছে পথের দিকে, বুকভরা বিশ্বাসে।\\nযেন আসতেই হবে তার আকাঙ্খিত পুরুষটিকে।\\n\\nআমি পথে একটি কুৎসিত চোখ দেখেছি,\\nসেই চোখে দেখেছি একটি কামুক-হিংস্র পশুর প্রতিচ্ছবি।\\nঘৃনায় চোখ সরিয়ে নিয়েছি নর-পশুটার থেকে।\\n\\nআমি দেখেছি একটি দীর্ঘ দিনের উস্থান -পতন,\\nদেখেছি শহরটাকে ক্রমশ অন্ধকারে ঢেকে যেতে।\\nচেনা পথগুলোকে গ্রাস করেছে কালো অন্ধকার;\\nযেন সমাপ্তি ঘোষনা করছে কোন যুবকের দীর্ঘ অপেক্ষার।\\n\\nআমি আবার পথে নামব অন্য কোন বিকেলে,\\nহয়তো হাঁটব পাশাপাশি খানিকটা পথ।\\nহঠাৎ মুখ ঘুরিয়ে দেখতে পাবে একজন আগন্তুককে,\\nযে প্রতিদিন পথে নামে তোমায় দেখবে বলে।\\n… \\nএকটি অন্ধকার গলিপথ ধরে চলছি,\\nজমাট কালো অন্ধকারে ছেয়ে আছে পথটা।\\nগ্রাফাইট থেকে কালো অন্ধকারে নেই কোন জীবনের আনাগোনা।\\nঅন্ধকারে পথ চলছি লক্ষ্যহীন পাগলের মত।\\n\\nচোখের পাতায় ভর করেছে সে জমাট কালো অন্ধকার,\\nঅসংখ্য ভারী পাথর যেন চাপিয়ে দিচ্ছে চোখ দুটিতে।\\nনিজেকে ভুলিয়ে দেয়ার মত সে অন্ধকারে পথ চলছি-\\nপথভ্রান্ত উম্মাদ পথিকের মত।\\n\\nযতই সামনে এগিয়ে যাচ্ছি পথটা ক্রমশ ভয়ংকর হচ্ছে,\\nযেন একটি কালো পর্দা সরাতেই আরো কালোর আর্বিভাব।\\nজমাট কালো অন্ধকারটা স্মরন করিয়ে দিচ্ছে-\\nআমার বিভৎস অতীতটাকে যেখানে তুমি ছিলে।\\nসব পবিত্র অনুভূতিকে কেন্দ্রীভূত করে প্রার্থনা করছি–\\nযেন অন্ধকারটা মুছে দেয়, কলঙ্কিত অতীতটাকে।\\nরক্তচোষা পশুর মত শুষে নিক নিঃপ্রান অতীতটাকে-\\nযেখানে তুমি ছিলে।\\n\\nআরো সামনে এগুতেই অন্ধকারে যোগ হচ্ছে কালো ধোয়া,\\nআর পারছিনা, সামনে এগুনোর শক্তিটুকুও নিঃশেষ হয়ে আসছে।\\nকয়েকটি অভিশপ্ত আত্মার চিৎকার ভেসে আসছে-\\nদূরের কোন নক্ষত্র থেকে।\\nকান ফেটে যাচ্ছে সে বিকট চিৎকারে।\\nবেলাভূমিতে ছিটকে পড়া মাছের মত গভীর আর্তনাত আমার শরীর জুড়ে।\\n\\nএবার ছুটছি শেষ নিঃশ্বাসটাকে পুজি করে,\\nপ্রচন্ড গতিতে; সময়কে হার মানানোর মত গতিতে।\\nমহাকালকে হার মানানোর  মত গতিতে।\\nনিজেকে নতুন করে খুজে পাব এ বিশ্বাসকে পুঁজি করে।\\n\\nঅন্ধকার পথের থেকে মুখ ফিরিয়ে ছুটছি।\\nআমাকে ধাওয়া করছে বিভৎস অতীত,\\nআমি ছুটছি নিঃপ্রান অতীতকে হার মানাতে,\\nএকটি নতুন সূর্যোদয় দেখবো এই বিশ্বাসে।\\n\\nআমার চেতনা ফিরেছে একটি সবুজ প্রান্তরে,\\nদু-চোখ যতদূর যায় শুধু একটি সোনালি আভা\\nআর গাঢ় সবুজে ছাওয়া সবুজ প্রান্তর।\\nমেঘ মুক্ত বিশাল আকাশে উড়ছে কতক সাদা বক,\\nএখানে অতীত নেই; নেই ভবিষ্যৎও।\\nএখানে শুধুই বর্তমান, সেখানে শুধুই আমি।\\n…\\nপ্রভাতের রক্তিম সূর্যটা উকি দেয় পূবের আকাশে,\\nআমি চেয়ে থাকি সদ্য জাগা সূর্যের দিকে।\\nআমি প্রতিক্ষায় থাকি; কখন সূর্যটায় প্রতিয়মান হয়-\\nএকটি প্রিয় মুখ।\\nএকেকটি সূর্যোদয় দীর্ঘ করে আমার চিরন্তন প্রতিক্ষাকে।\\nআমার নিরর্থক বেঁচে থাকার উপজীব্য হয়ে ওঠে প্রতিটি সূর্যোদয়।\\n\\nমধ্য দুপুরে যখন সূর্যটা খুব কাছে চলে আসে,\\nঠিক মাথার উপর দাঁড়িয়ে তাপ দিতে থাকে,\\nযেন একটি ক্ষুধার্ত হিংস্র পশু আমাকে\\nগিলে ফেলবে নিমেষেই।\\nআমার ঘর্মাক্ত, ক্লান্ত শরীর গভীর প্রতিক্ষায় থাকে,\\nকখন একটি প্রিয় হাত আমার কপাল স্পর্শ করে।\\n\\nযখন সূর্যকে ছাপিয়ে দক্ষিনা বাতাস বইতে থাকে,\\nবাতাস স্পর্শ করে আমার চিবুক, আমার চুল।\\nযেন বহুদূর থেকে এ বাতাস বয়ে আনে,\\nসদ্য স্নান সেড়ে চুল শুকোতে আসা কোন রমনীর\\nলাজুক ঠোঁটের একরাশ চুম্বন।\\n\\nসন্ধায় যখন নিঃসঙ্গ পথ চলি, প্রতিক্ষায় থাকি;\\nকখন একটি হাত আমার হাত স্পর্শ করে।\\nহাতে হাত রেখে চলবো প্রতিটা ফুটপাত।\\nকখনো রেল লাইন ধরে পাশাপাশি চলবো খানিকটা পথ,\\nচারদিক অন্ধকারে ঢেকে যেতে থাকবে,\\nহয়তো আমি বলবো; চল এবার ফেরা যাক\\nসে মুচকি হেসে বলবে; নামুক অন্ধকার, এত শুরু\\nচলবো অন্তকাল।\\nহয়তো কখনো দমকা বাতাসে একরাশ ধুলোয় চোখ বুঝে আসবে।\\nতখনো দাঁড়িয়ে থাকব বাতাসের দিকে মুখ করে,\\nহয়তো চোখ খুলতেই দেখতে পাব, ধুলো নয়;\\nআমকে জরিয়ে আছে এক এলোকেশী রমনী।\\nতাকে সরাতে চাইলে অক্টোপাসের মত আকড়ে ধরবে,\\nযেন একটি লতানো গুল্মো পেচিয়ে ধরেছে এক উধ্বগামী শাল বৃক্ষকে।\\nলজ্জাবতীর মত নিজেকে গুটিয়ে নিয়ে লুকোতে চাইছে-\\nএকটি বিশ্বস্ত বুকে।\\nআমি প্রতিক্ষায় থাকবো সুদীর্য কাল।\\nহয়তো চেনা পথটা আর থাকবে না।\\nহয়তো পথের ধারের সদ্য লাগানো কৃষ্ণচূড়ায় ফূটবে\\nরক্তিম লাল ফুল।\\nআমি অপেক্ষায় থাকবো-\\nযতক্ষন মৃত্যুর কালো হাত আমায় স্পর্শ করে।\\n…\\nআমি জম্নেছিলাম একটি দীর্ঘ রাত্রির মধ্যভাগে।\\nগভীর কালো অন্ধকারে ডুবে ছিল গোটা পৃথিবী,\\nএতই গভীর অন্ধকার যে পৃথিবীটাকে মনে হয়েছিল\\nএকটি বিরাট কয়্লার স্তুপ।\\nএকটি আহত শকুন বসে ছিল দূরের উঁচু গাছটার মগডালে।\\nসেদিন মেঘে ঢাকা আকাশটাতে উড়ছিল-\\nনীড় ছাড়া একটি বিরাট ঈগল,\\nগভীর অন্ধকারেও জ্বলছি্ল তার হিংস্র চোখগুলো।\\nযেন এক নৈশপ্রহরী পাহারা দিচ্ছে পৃথিবীটাকে।\\n\\nজম্নানোর সাথে আমি কাঁদিনি-\\nচোখ মেলতেই দেখেছি জমাট কালো অন্ধকার,\\nসব সৃষ্টিকে মনে হয়েছিল একবর্ণী।\\nআমি কেঁদেছি পৃথিবী কাঁপানো চিৎকারে; বহুক্ষন,\\nযখন জননীর হাত আমায় ছুয়েছিল।\\nতখনি নিজের ভিতর অনুভব করি একটি অতি প্রাচীন আত্মার উপস্হিতি।\\nযেন সহস্রকাল পর মরুর বুকে পড়েছিল একবিন্দু প্রাণরস।\\nগভীর অন্ধকারেও জননীর স্পর্শে আমি দেখেছি জগতের সকল রং।\\nক্ষনিক পর মেঘকে সড়িয়ে অনন্ত যৌবনা চাঁদটা আলো দিতে লাগলো,\\nবাঁশের বেড়ার ফাঁক দিয়ে সে আলো পড়েছিল জননীর পবিত্র মুখে।\\nএই প্রথম জননীর মুখ দেখেছি; চির পবিত্র সে মুখ।\\nএত সৌন্দর্য আর দেখিনি কোন দিন; কোন রমনির মাঝে।\\n\\nআজো যখন আমি পথ চলি গভীর অন্ধকারে,\\nনিস্তব্ধ শহরের উপর দিয়ে\\nতখনি মনে পড়ে গভীর কালো রাতটাকে।\\nচোখের সামনে ভেসে ওঠে জননীর প্রিয় মুখটি\\nচাঁদটা আলো দিতে থাকে সেই রাতটার মত।\\nহঠাৎ এক ঝাপটা বাতাস আমার চিবুক স্পর্শ করে,\\nযেন সে বাতাসে ভেসে আসে জননীর পবিত্র হাতের স্পর্শ\\nআমি আবার পথ চলি সেই স্পর্শকে গায়ে মেখে।\\n… \\nব্যস্ত নগরীর কোলাহল পেছনে ফেলে চলছি, আজ একা নই;\\nপথে আজ সঙ্গী ছিল একটি কালো কাক।\\nকাকটি কখনো হাঁটছে আমার পেছনে কখনো বা উড়ে এসে সামনে।\\nযেন দুটি অপরিচিত আত্মা বারবার কাছে এসে আবার দূরে সরে যাচ্ছে।\\nচলছি নির্ভার হয়ে, যেন এতটুকু তাড়া নেই, নেই ক্লান্তিও।\\nউদ্দেশ্যহীন পথ চলায় মাড়িয়ে যাচ্ছি চেনা চেনা গলিপথ।\\nকাকটা আজ অনেকগুলো ময়লার স্তুপ দেখেও থামেনি।\\nহয়তো কাকটাও আজ নির্ভার, যেন জৈবিক চাহিদাগুলোকে তুচ্ছ করে,\\nসঙ্গ দিচ্ছে নতুন বন্ধুটিকে।\\n\\nকাকটা আমাকে দেখিয়েছে বইয়ের ভারে নুহ্য হয়ে পথ চলা দেব শিশুকে।\\nযেন শিশুটি পূ্র্বপুরুষদের ব্যর্থতা আর গ্লানিময় ইতিহাস ফেরী করছে\\nআধুনিক মানসিকতার তকমা লাগানো রুগ্ন সমাজে।\\nতার নিজের দাঁড়ানোর শক্তিটুকু কেড়ে নিয়ে এক অস্হি-চর্মসার\\nবিবেক বর্জিত যান্ত্রিক পশু বানানোর উচ্চাশা নব্য জনকদের শিকারী চোখে।                                                                                                                                                                                                                                                                                                                                                                                                                                                                                                                                                                                                                                                                                                                                                                                                                                                                                                                     যেন এ মানুষরুপী হিংস্র হায়েনার দল নির্জন রাতেও শুনতে পায়না,\\nদূর দিগন্ত হতে ভেসে আসা দেব শিশুর কান্নার রোল।\\nহয়তো শুনতে পায়, ঠিক তখনি ঝাপিয়ে পড়ে নব উদ্দ্যমে\\nআপন সন্তানের আত্মার সৎকারে।\\n\\nকাকটা আজ হঠাৎ মাথা ঠুঁকেছে, পিচঢালা পথে,\\nভাবলাম কাকটা হয়তো ফিরে গেছে আপন স্বভাবে।\\nঅদূরেই দেখতে পেলাম এক স্কুলগামী ছাত্রীর পথ আগলে দাঁড়িয়েছে এক বখাটে।\\nনর্দমার কাকটাও আজ লজ্জা পেয়েছে আধুনিক মানুষের অধঃপতনে।\\nকাকটা আজ তিরস্কার করেছে আমাদের কাপুরুষোচিত বীরত্বকে।\\nকাকটার প্রতিটি ঠোঁকর যেন স্রস্টার নিকট মানুষকে ধ্বংসের আহ্বান।\\n\\nকাকটা আজ আমাকে দেখিয়েছে উদ্যানে ঝোপের আড়ালে\\nআদিম কামুকতায় মত্ত মানুষরূপী শূকর জুটি।\\nযেন বন্য সভ্যতার পুনরাবৃত্তি হচ্ছে, আধুনিক মানুষের খোলসে।\\nমানুষ গুলো যেন আর মানুষ নেই, আবাধ যৌনাতাই যেন\\nআজ প্রমান করছে, আমি আধুনিক; অতি আধুনিক;\\nনষ্ট নব্য সভ্যতার ধারক!\\n\\nকাকটা আজ আমাকে দেখিয়েছে ধর্মশালা থেকে বের হওয়া\\nপবিত্র পোশাকের অন্তরালে একটি অপবিত্র আত্মা।\\nজিহ্বা বের করা কুকুরের মত তাকিয়ে আছে পথচারী রমনীতে।\\nআমি স্রষ্টাকে আহ্ববান করেছি যেন ধর্মশালার মিনারটা ফেলে দেয়\\nঐ বক ধার্মিকের উপর।\\nযেন ঐ দুষ্ট আত্মা বিতারিত হয় এই পৃথিবীর আলো বাতাস থেকে।\\n\\nকাকটা আজ আমাকে দেখিয়েছে রেল লাইনের ধারে গড়ে ওঠা বস্তি।\\nকয়েক প্রজন্মের বাস একই চালার নিচে ঠাসাঠাসি করে।\\nএখানে দৃশ্যমান সত্যের আড়ালে চাপা পড়েছে শত শত স্বপ্ন।\\nএখানে ভোরের আলো আসে অভিশাপ হয়ে,\\nপ্রতিটা দিন যেন নিজের অস্তিত্বকে বাঁচিয়ে রাখার সংগ্রাম।\\nশহরে বসন্ত আসে, আসে বৈশাখও,\\nঝতুর পালাবদল প্রকৃ্তিকে দেয় নানান রূপ।\\nএখানে ঝতুর পালাবদল হয় একপ্লেট ভাতে, একটি শাড়িতে,\\nনির্ঘুম রাতে যখন কালবৈশাখী উড়িয়ে নেয় টিনের চালাটুকু।\\nএখানে সস্তান সম্ভাবা মা ভয়ে আঁতকে ওঠে একটি নতুন মুখ আসবে বলে!\\n \\nকাকটা আজ আমাকে দেখিয়েছে একটি শতবর্ষী বটগাছ।\\nপ্রকান্ড সব শিকড় ছড়িয়ে দাঁড়িয়ে আছে মহাকালের সাক্ষী হয়ে।\\nজীবন্ত জীবাশ্মের মত ধারন করে আছে পথচারী সব মানুষের মুখ।\\nহয়তো ঝড়ের রাতে আশ্রয় নেয়া একটি পাখিকে আজো ভোলেনি।\\nহয়তো অনেক আগে আমার মত কোন এক পথহারা যুবক\\nথমকে দাঁড়িয়েছে; দীক্ষা নিয়েছে নতুন পথের।\\nহয়তো কদিন পর কোন এক বৃ্দ্ধ পথিক এসে দাঁড়াবে গাছটার শীতল ছায়ায়,\\nনিজেকে মিলিয়ে দেখবে প্রকান্ড গাছটার সাথে।\\nকিভাবে একটি করে দিন বদলে দিয়েছে তার উদ্দ্যম যুবক সত্তাকে,\\nকিভাবে কালো চুলে পাক ধরেছে, কিভাবে মসৃ্ন ত্বক\\nসিরিস কাগজের মত রুক্ষ হয়ে, ঝুলে পড়েছে।\\n\\nকাকটা আজ দেখিয়েছে একটি শববাহী মিছল।\\nশোকাতুর মানুষের আহাজারি ভারী করেছে বাতাসকে।\\nযেন একটি চিরন্তন সত্যকে প্রকাশ করছে প্রতীকি মিছিলে।\\nহয়তো সময়ের নিয়ত পরিক্রমায় শববাহী মিছলের\\nলাশটা হব আমিই, হয়তো কাকটাও!\\nহয়তো মিছিলের প্রতিটা মানুষ, যারা আজ চষে বেড়াচ্ছে,\\nদৃঢ় পদক্ষেপে নগরীর রাজপথে।\\nফসল ঘরে তুলে যেমন শস্যদায়ী ক্ষেতকে উপরে ফেলে আগাছা ভেবে।\\n…\\nহে জীবন; আজ ফিরিয়ে নিলাম আমার মুখ তোমার থেকে।\\nদেখবো না আর তোমার দেয়া শুভ্র সকাল।\\nযাচিব না আর সুর-সঙ্গীত তোমার তরে।\\nনীড় ছেড়ে যাওয়া পাখির আশায় থাকব না আর।\\nদেখবো না আর তোমার সূর্য গ্রহন।\\nচাইব না আর তোমার থেকে একটু আকাশ।\\nভাববো নাকো ফেলে আসা পথটাকে আর-\\nযেথায় তোমার তেপান্তরের দিশা মেলে।\\nদেখবো না আর তোমার দেয়া মিথ্যা স্বপ্ন।\\nমাখবো না আর তোমার দেয়া অশ্রু বৃষ্টি।\\n\\nআজ শুধু বলব তোমায় উচ্চস্বরে-\\nকেন কেড়ে নিলে আমার শক্তিটুকু?\\nকেন দেখালে মরিচিকা সম মিথ্যা স্বপ্ন?\\nকেন ঘুমের ঘোরে বললে মোরে অমর হতে?\\nকেন শেখালে ভাবতে মোরে আকাশ কুসুম?\\nকেন আজ জ্বালাও মোরে অসীম তাপে?\\nবল কি সুখে আজ কাঁদছি আমি?\\nকেন আজ অন্ধকারে হাঁটছি আমি?\\nযেথায় তোমার অযুত-লক্ষ তাঁরা জ্বলে।\\n কেন আজ ভাসছি আমি বানের জলে?\\nযেথায় তোমার আকাশ সম পাহাড় খেলে।\\n\\nআমি আজ থাকব তোমার আনল মাঝে,\\nদেখি কেমন করে জ্বালাও মোরে কঠিন তাপে।\\nআমি আজ দেখবো তোমার অনল বৃষ্টি,\\nকেমন করে ভেজাও মো্রে আশ্রু জ্বলে।\\nআমি আজ দেখবো তোমার ঘূর্ণি বায়ু,\\nকেমন করে ঘোরায় মোরে আসীম পানে।\\nআমি আজ থাকব তোমার বিরাট স্রোতে,\\nদেখি আজ কোন অতলে ডোবাও মোরে।\\nআমি আজ উড়বো তোমার আকাশ পানে,\\nদেখি আজ কোন অসীমে উড়াও মোরে।\\nআমি আজ থাকবো প্রভু শুন্য হাতে,\\nদেখি আজ কেমন করে ফেরাও প্রভু-\\nতোমার থেকে।\\n…\\nসুকন্যা; হয়তো ভালো আছ।\\nকি বলছি আমি! ভালো থাকবে বলেই তো খুজেছ, নতুন ঠিকানা।\\nআচ্ছা তোমার নতুন ঘর হতে কি সূর্যোদয় দেখা যায়,\\nআজো কি পূবের জানালায় দাঁড়িয়ে আকাশ দেখ,\\nএখনও কি জানালায় বসে থাকা চড়ুইকে দেখে আমাকে ভাব,\\nআজো কি দক্ষিনা বাতাস উদ্যম মাদকতায় মেতে ওঠে তোমার খোলা চুলে।\\nএখনো হয়তো তুমি প্রান খুলে হাস,\\nসে হাসি হয়তো বহু দূর হতে ফিরে আসে প্রতিধ্বনি হয়ে।\\nএখনো কি কান্না চেপে বল; আছিতো ভালোই!\\n\\nহয়তো ভাবছ; আমি এখনো পড়ে আছি তোমার স্মৃতিময় ধূসর অতীতে।\\nজানো ওসব ভাবলে এখন আমার বড্ড হাসি পায়।\\nএখন মনে হয় আমি হয়তো কখনোও তোমায় বাসিনি ভালো,\\nতুমি যেন একটা দুঃস্বপ্ন, আমার অবচেতন মনের অহেতুক ভাবনা!\\nঅবাক হলে! আবাক তো আমিও হয়েছি!\\nসত্যি বলতে আমার কল্পনার চিরন্তন “প্রতিমা”র সাথে তোমার ছিল দারুন মিল।\\nসব থকে বেশি মিল ছিল চোখ দুটিতে, তাইতো অপলক চেয়ে থাকতাম,\\nতোমার ধূসর চোখে, যেখানে প্রতিনিয়ত দেখেছি আমার আপন প্রতিচ্ছবি।\\nআর তোমার কুচকুচে কালো চুল দক্ষিনা বাতাসে যেন ডানা মেলে,\\nতোমার কি মনে পড়ে যখন উড়ো চুলে তোমার মুখ ঢাকা পড়তো,\\nআমি সযত্নে সড়িয়ে আবার ঢেকে দিতাম।\\nআসলে তখন আমি খুজেছি আমার “কল্প-প্রতিমাকে”\\nতোমায় সামনে রেখে!\\nরাগ হচ্ছে? আসলে রাগলেই তোমায় বেশ মানায়!\\nআমার স্বপ্নের প্রতিমাটি কত রাত রেগে গিয়ে আমার ঘুম ভাঙ্গিয়েছে।\\nতোমায় বলিনি; যদি ভূল বোঝ, হয়তো হিংসা করতে!\\nখুব ঘৃ্না হচ্ছে আমাকে? একদা আমিও ঘৃ্না করেছি তোমায়; প্রচন্ড!\\n\\nবুঝলে সুকন্যা জীবন তো পেছনে চলে না,\\nআর অতীত হওয়া দিনের জন্য থেমেও থাকে না।\\nখরস্রোতা নদী যেমন ভাসিয়ে নেয় সব আদিম সভ্যতা,                        \\t\\nহয়তো একই নদী অন্য কোথাও গড়ে তুলেছে,\\nঅন্য আর একটি নতুন সভ্যতা।\\nভাঙ্গন আছে বলেই হয়তো আমারা গড়তে জানি।\\nআসলে বিচ্ছেদ আছে বলেই হয়তো মিলন অতি মধুর।\\nঋতুর পালাবদল হয় বলেই হয়তো আমারা মাতি বসন্ত বন্দনায়।\\n\\nসুকন্যা যখন তুমি চলে গেলে-\\nভেবেছি আমার কল্পনার প্রতিমাকে আর হয়তো খুজে পাব না;\\nমত্যবাসীদের মাঝে।\\nসেদিন হঠাৎ একটি চোখ আমাকে বাধ্য করেছে, থমকে দাঁড়াতে।\\nতার নিকশ কালো ভ্রু-জুগল আমাকে নিয়ে গেছে সুদূর অতীতে,\\nসেখানে যেন আমার “কল্প-প্রতিমা” দাঁড়িয়ে ছিল রক্ত মাংসের শরীরে।\\nআমার নিজের চোখকেও বিশ্বাস করতে পারিনি, মনে হয়েছে স্বপ্ন দেখছি।\\nতাইতো নিজেকে বারবার আন্দোলিত করেছি,\\nস্বপ্ন শৃঙ্খ্ল হতে বেরিয়ে যেতে।\\nআমার বিস্ময় কেটেছে, যখন সে এলোকেশী প্রতিমা আমাকে স্পর্শ করে।\\nআমি তার নাম দিয়েছি “সুনয়না”!\\n\\nজানো সুকন্যা, এখন রোজ আমার ঘুম ভাঙ্গে,\\nতার মুঠো ভরে ছুড়ে দেয়া সূর্যালোকে।\\nআমরা নিয়ত পথ চলি, হাতে রেখে হাত; নির্ভয়ে।\\nমাথা উচু করে সগৌরবে।\\nআমাদের ক্লান্তিহীন পথচলায় অবকাশ নেই পেছনে তাকানোর।\\nআমদের চলতি পথে সন্ধ্যা প্রদীপের মতো জ্বলে ওঠে সহস্র জোনাকি,\\nযেন সহস্র প্রাণ আজ মেতেছে জয়োল্লাসে,\\nদুটো একিভূত প্রাণকে পাশাপাশি দেখে!\\nআমাদের আজ হারানোর ভয় নেই,\\nনেই অনাগত দিনকে নিয়ে শঙ্কিত ভাবনা।\\nআমরা বেঁচে থাকার জন্য ভালোবাসি না,\\nআমরা ভালবাসি বলেই বেঁচে আছি।\\nআমাদের ভালোবাসা মিশে আছে আমাদের রন্ধ্রে রন্ধ্রে, প্রতিটি কোষে।\\nসে ভালবাসা আমাদের বেঁধে রাখে না,\\nখাঁচা থেকে সদ্য মুক্তি পাওয়া একটি পাখি যেন আমাদের ভালবাসা,\\nযে সামনে এগিয়ে যায় প্রচন্ড গতিতে ছিন্ন করে সব অহেতুক বন্ধন, সব জড়তা।\\n\\nসুকন্যা; হয়তো ভাবছ এও কি সম্ভব!\\nতোমাতে পাগল ছেলেটা; যেকিনা বর্ষন মুখর সন্ধ্যায় ছুটে যেত,\\nশুধু একটি বার তোমাকে দেখবে বলে।\\nতোমাকে ভেবে যে ছেলেটা বিনিদ্র রাত কাটিয়েছে,\\nতুমি আসনি বলে অভিমানে নিজেকে করেছে রক্তাত্ত,\\nতোমার স্মিত হাসিকে যে ছেলেটা সম্ভোধন করত তার শ্রেষ্ট পাওয়া বলে।\\nতোমার দিকে নির্লিপ্ত দৃষ্টিতে তাকিয়ে থাকা ছেলেটা;\\nকি তবে বদলে গেল!\\nযে কিনা তোমাকে গল্প শোনাত,\\nস্বপ্ন দেখাত দূরের আকাশটাকে স্পর্শ করার।\\n\\nসুকন্যা; আমিতো বদলাইনি,\\nআমি আজো মিশে আছি আমার “কল্প-প্রতিমা”তে।\\nআগেও যেমন মিশে ছিলাম এক প্রাণ হয়ে!\\nসুকন্যা, আমিতো ভালোবাসি আমার “কল্প-প্রতিমা”কে,\\nসেখানে ঋতুর পালাবদলের মত এসেছিলে তুমি, এসেছে “সুনয়না”!\\nহয়তো কদিন পর আসবে অন্য কেউ!\\nআমার “কল্প-প্রতিমা”তো শাশ্বত!\\nসে তো ধারন করেছে তোমাকে, “সুনয়না”কে,\\nহয়তো ধারন করবে আরও অন্য কাউকে!\\nসুকন্যা; আমার স্বপ্নবাজ চোখে বদল হয়নি “কল্প-প্রতিমা”র,\\nআমার “কল্প-প্রতিমা” চিরন্তন, চির অমর!\\nসে মর্ত্যবাসী নয়, সে উর্ধ্বে সকল কামনার।\\n…\\nসুকন্যা; তোমার নিকশ কালো চোখ কেন জানি আর আমায় টানে না,\\nতোমার ভুবন ভোলানো হাসি; যা একদা আমার-\\nশান্ত-ক্লান্ত চিত্তকে রেখেছে চির জাগরুক,\\nরাতের পর রাত যা ক্যাফেইনের মত আমাকে জাগিয়ে রেখেছে,\\nকেন জানি আজ তা আমাকে টানে না!\\n\\nতোমার টানা-টানা ভ্রু-যুগল যেখানে সাজের মায়া নামে,\\nযাকে দেখে চির উম্মাদ, চির বিদ্রোহী সত্তাও\\nনিজেকে ক্ষুদ্র বলে মাথা নত করে,\\nজানো সুকন্যা ঐ ভ্রু-যুগলও আজ আমায় টানে না!\\n\\nতোমার কালো মেঘের মত চুল দক্ষিনা বাতাসে যেন-\\nমুক্ত বিহঙ্গের মত ডানা মেলে,\\nমায়াবতী যেন মায়ার জাল বুনে আটকে রাখে আমাকে,\\nযেন নিজের বলতে কিছু নেই; চির আঙ্গাবহ দাস যেন আমি!\\nসে মেঘের মত কালো চুলও আজ আমায় টানে না!\\n\\nতোমার হাতে হাত রেখে আমি আজস্র বিকেল অজানাতে পথ চলেছি,\\nযে হাত একদা আমাকে শিহরিত করেছে;\\nআমার সকল ক্লান্তিকে নিমিশে সড়িয়ে দিয়েছে সর্গীয় প্রশান্তি,\\nপরশ পাথর যেন তোমার দু-হাত!\\nসুকন্যা; সে হাতও আজ আমায় টানে না!\\n\\nসুকন্যা; পথের ধারে জন্ম নেয়া আগাছা গুচ্ছকে দেখেছ?\\nকি বিশ্রী দেখতে! যেন নরকের “গন্ধম-বৃক্ষ” একেকটা!\\nকোন এক ক্লান্ত বিকেলে তাকিয়ে দেখ; ঐ “গন্ধম-বৃক্ষ” শাখায় ফুটেছে-\\nকত বর্নের অজস্র ফুল, হয়তো অতি ক্ষুদ্র, হয়তো সুঘ্রান নেই,\\nহয়তো বিষাক্ত, হয়তো ফুলই নয়!\\nএই “গন্ধম-বৃক্ষ” সম আগাছাই আজ আমায় বড় বেশি টানে,\\nহয়তো আমিও নরক বাসী বলে!\\n\\nকসাইখানার রক্ত যে নালায় প্রবাহিত হয়-\\nহয়তো দেখবে একটি আহত শকুনকে সেখানে বসে আছে;\\nক্ষুধার্ত, হিংস্র, এক আবেগহীন পিশাচ যেন সে!\\nজানো সুকন্যা; এই বিশ্রী শকুনটা আমাকে বেশ টানে,\\nআমাকে জাগিয়ে রাখে, আমাকে রাগিয়ে তোলে প্রচন্ড,\\nমিশিয়ে দিতে বলে; তোমাদের মুখোশ পড়ে থাকা অন্ধকার সভ্যতা।\\n\\nহয়তো কখনো পথের পাশে দেখবে লোম ছাড়ানো একটা কুকুর,\\nহয়তো ঘৃনায় চোখ সরিয়ে নেবে কদাকর পশুটার থেকে,\\nহয়তো থুথু ফেলে বলবে কি বিভৎস!\\nজানো সুকন্যা; ঐ লোম ছাড়ানো কুকুরটাই আমাকে বেশি টানে!\\nহয়তো তোমার থেকেও বেশি!\\nজানো মরতে বসা ঐ কদাকর পশুটা এখনো পাহাড়ায় থাকে,\\nএকদা যে প্রভু খাদ্যের উচ্ছিষ্ট দিয়ে তার প্রাণ বাঁচিয়েছে!\\n…\\nশীতের আগমনে পত্রহীন শাখাগুলো; এক অজানা আতঙ্কে কাঁপছে থরথর।\\nশীতের তীব্র প্রোকোপে নয়; হয়তো অতি নিগুঢ় কিছু আছে।\\nযা লুকায়িত আছে আত্মার পবিত্রতম অতি গোপন কোন প্রকষ্টে।\\nযেখানে প্রবেশ নেই আগন্তুকবেশী আযাচিত ভাবনার।\\nসেই প্রকষ্টে বীনার তারের মতো আলোড়ন তোলে কিছু নিগুঢ় ভাবনা,\\nযা প্রকাশিত হয়না মর্ত্যে, যা আদি ও অন্তহীন।\\n\\nএইতো সেদিন কোন এক শান্ত বিকেলে, দুজন পথ চলেছি একসাথে।\\nআমরা ছিলাম খুব পাশাপাশি, যেন চাইলেই তোমাকে ছুঁতে পেতাম।\\nবারবার মনে হয়েছে, তোমার হাত ছুঁয়ে তার স্পর্শ নেই,\\nযেন সে স্পর্শ সঞ্চারিত হয় সাড়া দেহের সব কোষে,\\nযেন ঝিমিয়ে পড়া কোষগুলো সজীব হয়ে ওঠে-\\nযেন প্রতিটা কোষ একই সুরে গেয়ে ওঠে এইতো আছি বেঁচে!\\nতুমি পথ চলছিলে একমনে, যেন কোন জাহাজের কাপ্তান তুমি,\\nখুবই চিন্তিত ছিলে যাত্রা পথের হিসেব মেলাতে।\\nপথ চলতে চলতে মনে হলো তুমি হয়তো ক্ষনিক দাঁড়াবে,\\nহঠাৎ সামনে পড়া মোড়টাতে।\\nএকটি বার! শধু একটি বার পেছনে ফিরে তাকাবে\\nদীর্ঘ-যাত্রা পথের অচেনা পথিকের দিকে।\\nআমি ভুল ছিলাম, তুমিতো ছিলে অগ্র পথিক-\\nআর পেছনে পড়ে থাকা পথের দিকে কেউ কি ফেরে!\\nতুমি এগিয়ে গিয়েছ কাল বৈশাখী ঝড়ের মতো প্রচন্ড গতিতে\\nআর পেছনে ফেলেছ ঝড়ে আহত একটি রক্তাক্ত হৃদয়।\\n\\nএরপর এক বর্ষন মুখোর সন্ধ্যায়-\\nআমি দাঁড়িয়ে ছিলাম তোমার দক্ষিনের জানালায়।\\nতুমি দাঁড়িয়ে ছিলে জানালার গ্রিল ধরে,\\nপথের দিকে তাকিয়ে থেকে হাসছিলে।\\nহয়তো বৃষ্টির ফোঁটায় ছিল তোমার চোখ,\\nদেখছিলে বৃষ্টির ফোঁটাগুলো কি ছন্দে মাটিতে আছড়ে পড়ে, আর নিমিষে মিলিয়ে যায়।\\nতুমিও যেমন মরিচিকার মতো সামনে এসে অজানায় মিলিয়ে যাও!\\nতুমি হয়তো আকাশের বৃষ্টি দেয়া মেঘের সাথে কথা বলেছিলে আনমনে;\\nযেন দীর্ঘ হয় তোমার বৃষ্টি বিলাস।\\nহয়তো দূ্র দিগন্তে, আমার দৃষ্টির আগোচরে, রংধনুতে ছিল তোমার চোখ।\\nহয়তো নিজেকে বারবার হারাতে চেয়েছ, রংধনুর বিচিত্র রঙ্গে,\\nযেন সব রং ছড়িয়ে পড়ে তোমার ঘরের সবটা জুড়ে,\\nযখন প্রতিটা বিষন্ন সন্ধ্যায়; আধার নামাবে আলোর রাজ্যে,\\nতখন সন্ধ্যা প্রদীপের মতো তোমার অন্ধকার ঘরে জ্বলে উঠবে-\\nবিচিত্র বর্নের অজস্র ফানুস, আলোক উৎসব হবে জমাট অন্ধকারে।\\nহয়তো জানালার সামনে দাঁড়িয়ে ভিজতে থাকা, এই আমাকে দেখে-\\nবদ্ধ পাগল বলে হাসছিলে।\\nহয়তো প্রার্থনা করেছ-\\nযেন প্রবল বর্ষনে ভেসে যাওয়া আবর্জনার মতো ভেসে যাক পাগলটা।\\nসেদিন প্রবল বর্ষন আমাকে ভাসায়নি ঠিকই,\\nবরং তা আমাকে দিয়েছিলো এক দূর্লভ সুখানুভূতি,\\nমনে হয়েছে বৃষ্টির প্রতিটা ফোঁটা ছিলো তোমার অশ্রু-\\nযা আমাকে শিক্ত করেছে, নির্জনতার পরশ বুলিয়েছে,\\nজগতের কিছু অব্যক্ত সত্যকে প্রকাশ করেছে প্রবল বর্ষনে।\\n\\nএইতো সেদিন, খুব স্পস্ট মনে পড়ছেনা,\\nসন্ধ্যা শেষে রাত্রি নামার প্রাক্কালে, পুরোনো কাপড়ের যে বাজারটা তার সামনে,\\nহ্যাঁ মনে পড়েছে; একদা সেখানে একটা কবর ছিল,\\nশুনেছি “ওয়ালিদ মুহাম্মাদ”; সিপাহী বিদ্রোহের একজন অসীম সাহসী বীর, তাঁর কবর ছিল।\\nআজ রাজপথ প্রসারিত তবুও কবরটা মিলিয়ে গেছে,\\nরাস্তার কংক্রিটের উপর বসানো ইস্পাতের একটা কাস্তে-\\nপ্রতিকী দাড়িঁযে নাকি সেই শহীদের স্মরনে।\\nআর তুমি; রিক্সার হুড নামিয়ে, খোলা চুলে চষে বেড়াচ্ছ নগরীর রাজপথে,\\nমাস্কে ঢেকেছিলে তোমার মুখ, আর সঙ্গী ছিল এক অচেনা যুবক!\\nহয়তো তোমার খুব আপন, একান্ত ব্যক্তিগত!\\nআমি অবাক হইনি, হইনি ব্যাথিত।\\nআমিতো থাকতে চেয়েছি তোমার সবটা জুড়ে অশরীরি আত্মার মতো।\\nতোমার খোলা চুলে যে বাতাস খেলা করেছে, তা ছিল আমার নিঃশ্বাস।\\nতোমার প্রতিটা পদক্ষেপে সাড়াটা পথ জুড়ে সঙ্গী ছিলাম আমিও,\\nল্যাম্পপোস্ট থেকে যে আলো তোমার মুখের উপর পড়েছে-\\nআমি মিশেছিলাম সে আলোতেও,\\nযেন অন্ধকারে ঢেকে না যায়, আমার অচেনা প্রিয়ার শুভ্র সে মুখ।\\n\\nসেদিন কাঠফাঁটা রোদে তুমি পথ চলেছিলে, বিষন্ন এক মূর্তি যেন তুমি!\\nঅনবরত তোমার কপাল বেয়ে ঝড়ছিল ঘাম,\\nআমি মধ্যদুপুরে ছায়া হয়ে তোমাকে ঢাকতে চেয়েছি,\\nতোমার দীর্ঘশ্বাসে মিশে যেতে চেয়েছে আমার তৃষ্ণার্ত আত্মা।\\nতোমার প্রতিটা হৃদকম্পন আমি শুনতে চেয়েছি,\\nঅনুভবে মিশেছি তোমার প্রতিটা নিঃশ্বাসে-\\nতুমি আমাকে গ্রহন করেছো, করেছো ত্যাগও।\\nহয়তো তুমি তখনো আমার উপস্হিতি অনুভব করোনি।\\nনাকি খুব ভোরে ঘাসের ডগায় যে শিশির জমে,\\nআমাকেও সে শিশিরই ভেবেছ, যার উপস্তিতি শুধু ভোরের সূর্যোদয় পর্যন্ত।\\nনাকি আমাকে ভেবেছ মধ্যদুপুরে একখন্ড মেঘ,\\nযা হঠাৎ বিলীন হয়, ক্লান্ত পথিক-কে একদন্ড সুখ দিয়ে।\\nনাকি আমাকে ভেবেছ সে বাঁশি,\\nযা তোমাদের মাদকতায় ভাসিয়ে দেয়,\\nআর ঘোর না কাটতেই অসীম নিস্তব্ধতায় মিলিয়ে যায়।\\n\\nএইতো সেদিন; তুমি বসেছিলে আমার ঠিক সামনে,\\nখুব উচ্ছল ছিলে তুমি, আর কি যেন বলছিলে,\\nতোমার এমন হাসিমুখ আমি আর দেখিনি।\\nমনে পড়ে; সেদিন তুমি প্রথম আমাকে সম্ভোধন করেছিলে,\\nঅন্যদের বলছিলে; বাতাসের মতো কে যেন সর্বদা তোমাকে অনুসরন করে,\\nতোমার এলো চুলে খেলা করে, তোমাকে প্রশান্ত করে।\\nআমি নিঃশব্দে হেসেছি বহুক্ষণ,\\nআমি ডুবে ছিলাম তোমার কালো চোখের দূর অতলে,\\nহয়তো বিভ্রমে ডুবেছিলাম অপেশাদার মাতালের মতো।\\nজানো বিভ্রমে হারাতেই আমার বেশ ভালোলাগে,\\nতাইতো বিভ্র্রমেই কাটাতে চেয়েছি আমার দীর্ঘ দিবস-রাত্রী।\\n\\nদেখতে দেখতে কেটে গেছে অনেক দিন-মাস-বছর,\\nশীতে ঝড়ে পড়া বৃক্ষ শাখা ভরেছে নতুন পল্লবে।\\nআর এখনো তোমার কাছে আমি অচেনাই!\\nযেন খুব পাশাপাশি দুই নগরীর মাঝে এক বিশাল দেয়াল; আড়াল করেছে আমাদের।\\nযেন সহস্রকাল পাশাপাশি থেকেও আমি আজো অচেনা “চির আগন্তুক”।\\nআগন্তুক হওয়াতেই যেন আমার আজন্ম সার্থকতা!\\nতাই না হয় আমি অপ্রকাশিত, চির অচেনাই থাকলাম।\\nজানোতো; পৃথিবীর সব থেকে বড় সত্যগুলো যুগে যুগে থেকেছে অপ্রকাশিত!\\n…\\nভেবেছ ভুলে গেছি; কিভাবে ভুলব বলো-\\nআমিতো আজো পথ চলেছি, ‘তিস্তা’ অপবাহিকার বালুময় পথ ধরে।\\nবর্ষায় নদীর প্রসস্ত বুকে পালতোলা নৌকায় একদিন\\nপাড়ি দিয়েছি উত্তাল সমুদ্রসম বিশাল স্রোতস্বিনী,\\nবিশাল সব ঢেউয়ের সাথে গড়েছি একদা নিবিড় সখ্যতা।\\nআজ বেশকিছুক্ষন বশেছিলাম নদীর তীরে বাঁধানো বাঁধটাতে,\\nদেখলাম; কালের পরিক্রমায় ভয়ংকর রূপ হারিয়ে\\nসদ্য যৌবন পাড় হওয়া মধ্যবয়সী এক নারী যেন এ নদী।\\nনিঃসঙ্গ পথটাতে পূবের এক ঝাঁপটা হাওয়া, \\nবারবার তোমাকে স্মরণ করে দিয়েছে।\\nযেন শুধু অনুভবে নয়-\\n চলতি পথের প্রতিটা মুহুর্তে তুমি পাশে ছিলে,\\nআমার দক্ষিণ বাহুকে যেন ছুঁয়েছিলে সাড়াটা পথ জুড়ে!\\n\\nআমি বালুচর ধরে হেঁটেছি বহুক্ষন,\\nআমার নগ্ন পায়ে পরশ বুলিয়েছে, রাতের শান্ত বালুচর।\\nআবার ভেবেছি তোমাকে ভুলে যাব,\\n কিভাবে ভুলব বলো!\\nজানতো, ভালবাসতে অনেক সাহস লাগে,\\nহয়তো জানো না, ভুলে যেতে সাহস লাগে ঢের বেশি!\\nতাই হয়তো তোমাকে শুধুই ভালোবাসতেই পেরেছি\\nশতবার, শত চেষ্টায়ও ভুলতে পারিনি একটি বার।\\nপুড়ে যাওয়া সিগারেটের মতো, তোমার স্মৃতির ছাই-\\nশূণ্যে উড়িয়ে বলতে পারিনি, ‘ভালো থেকো, দুঃসময়ে পাশে থাকা বন্ধু’,\\nবলতে পারিনি, ‘ভালো থেকো, আমার দৃষ্টির আগোচরে’।\\nবলতে পারিনি, ‘ভুলে যেও তুমিও’ !\\nপ্রতিক্ষণে মনে হয়েছে, এই বুঝি আসবে;\\nবহু দূরে, উঁচু বালির টিবিটা দেখে ভেবেছি\\nএই বুঝি তুমি আসছো বালির পাহাড়টা ডিঙ্গিয়ে,\\nখোলা চুলে, শভ্রবসনে আবার সামনে দাঁড়াবে।\\n\\nআমি অনেকবার তোমাকে ডেকেছি,\\nসে ডাক হয়তো ছড়িয়ে পড়েছে বিস্তীর্ণ বালুচরে,\\nঅনেক দূরের কোন জনবসতি পৌঁছছে আমার চিৎকার,\\nহয়তো কোন গৃহবাসীর ঘুম ভেঙ্গেছে-\\nচিৎকারকারীকে অভিশাপ দিয়ে হয়তো আবার ঘুমিয়ে পড়েছে।\\nসে চিৎকারে তোমার ঘুম ভেঙ্গেছে কিনা জানি না,\\nতবে, আমি প্রতিধ্বনি শূনতে পেয়েছি অনেক বার,\\nহয়তো তোমার কর্ণকুহরে বাঁধা পেয়ে আবার আমাতে ফিরেছে!\\n\\nতবে একদিন আসবে, সেদিন সত্যি সত্যি তোমাকে ভুলে যাব,\\nসেদিন আর বালুচর ধরে হাঁটব না,\\nআপেক্ষায় থাকব না, কখন এক এলোকেশী সামনে দাঁড়াবে ,\\nআর কারো ঘুম ভাঙ্গার কারন হবো না,\\nদূর দিগন্তে, যেখানে পথটা মিলেছে সেখানে পাবে না আমার সুস্থির চোখ,\\nপূবের বাতাস আর আমাকে ভাবাবে না,\\nআমার নশ্বর দেহ পড়ে রবে, মিশে যাবে বিস্তীর্ণ বালুচরে,\\nআমার আত্মা ভ্রমন করবে তোমাদের গৃহে,\\nতোমার সুকঠিন অন্তরে থাকবে আমার আবাধ বিচরন!\\n…\\nদীর্ঘ রাত শেষে আজ মুখোমুখি একটি শান্ত সকাল,\\nরাতের ক্লান্তিকে মুছে ফেলে একটি পবিত্র অনুভূতি।\\nগভীর নিস্তব্ধতায় হঠাৎ জেগে ওঠা পাখির ডাক শুনি,\\nসে ডাকে যেন সম্বিত ফিরে পায় আমার ঝিমানো নার্ভগুলো,\\nএক অতিমানবীয় অনুভূতি জাগে শরীরের প্রতিটি কোষে।\\nপ্রতিটি শিরায় রক্ত প্রবাহিত হয় অসীম বেগে।\\nমন চায় দুই হাত উপরে ভাসিয়ে চিৎকার করে বলতে-\\nআমি আসছি; আবার বিকট চিৎকারে-\\nআসছি আমি নতুন করে।\\n…\\nআজ চলছি পথ অনন্তের দিকে,\\nসদ্য অতীত হয়ে যাওয়া বিষণ্ন দুপুরটাকে পেছনে ফেলে।\\nআজ উচ্চাশা নেই, নেই সংশয়ে আচ্ছন্ন গোপন বাসনা।\\nআসুক না কালবৈশাখী ঝড়, নামুক না শহর জুড়ে গভীর অন্ধকার,\\nধ্বংসযজ্ঞ  বয়ে যাক সাড়া শহড় জুড়ে।\\nআজ তবুও পথ চলব,\\nযদি দেখা পাই; হঠাৎ বর্ষনে সিক্ত একটি প্রিয় মুখ।\\n\\nযদি কখনো দেখা হয় রক্তে ভেসে যাওয়া রাজপথে,\\nঅধিকার, সম্মান আদায়ের পথসভায় রাজপথে থাকবে তুমিও।\\nতখনো হয়তো অশান্ত মিছিলে, প্রতিবাদী শ্লোগান হবে,\\nহয়তো বারুদের গন্ধে ভারী হওয়া বাতাস থাকবে তোমার নিঃশ্বাসে,\\nজানি, জীবনের পথে কখনোও হয়তো হবে না পাশাপাশি পথচলা,\\nসেদিন নাহয় মৃত্যু্র মিছিলেই সঙ্গী হলে,\\nযদি ক্ষণিকের পাশাপাশি পথচলাই হয় জীবনের শেষ, তবে ক্ষতি কি বলো!\\nঅনন্তকাল বিরহে কাটানোর চেয়ে; ক্ষণিকের ভালোলাগাই বা কম কিসে!\\n…\\n“শুভ্র-বসনা” তুমি কি লক্ষ্য করেছ?\\nশহরের আকাশটা এখন আর সব দিক থেকে সমান চোখে পড়ে না।\\nকখনো কখনো সুউচ্চ দালানের ঝকঝকে গ্লাসে প্রতিফলিত হয়ে ফিরে আসে আপন প্রতিচ্ছবি।\\nশহরটা যেন আজ “আকাশ শূন্য”; নিঃপ্রাণ কংক্রিটের এক বিশাল বন্দীশালা।\\nআর এ বন্দীশালায় যেন তোমার, আমার “আমৃত্যু কারাবাস”!\\n\\n“শুভ্র-বসনা” শহরের সব দিক ঘিরে আছে কংক্রিটের উচু দেয়াল,\\nযেন সকল সভ্য নাগরিককে পাঠানো হয়েছে সশ্রম কারাবাসে!\\nএখানে ভালোবাসা, ভালোলাগার অনুভূতিগুলো যেন আজ অপসারিত হচ্ছে, নিঃপ্রাণ ইটের স্তুপে।\\nমানুষগুলো যেন আজ বড় ক্লান্ত; সাড়াদিন একটানা খাটুনি, দুবেলা ভর-পেটা,\\nহয়তো কখনো দু-এক কাপ চা!\\nআর বেলা শেষে অসীম ক্লান্তি নিয়ে ঘরে ফেরা,\\nঅচেনা মানুষের মতো মুখ ঘুরিয়ে ঘুমিয়ে পড়া,\\nযেন একই ঘরে বসবাস কয়েকটা অচেনা প্রাণির।\\n\\nএখানে আকাশ নীল, দিগন্ত বিস্তৃত এ নীল আকাশটা যেন;\\nপ্রতিচ্ছবি, সকল রাতজাগা মানুষের নীল বেদনার।\\nএই মেঘে জমে থাকা জল যেন, হৃদয়ের গোপন অশ্রুক্ষরন,\\nঅনন্তকাল ধরে বিন্দু বিন্দু করে জমে, গড়ে তুলেছে অপরিমেয় জলাধর।\\nমুখোশের আড়ালে যেন করে চলেছে, নিজের জীবন মঞ্চায়ন,\\nযেন কষ্ট নেই, ক্ষোভ নেই, নেই প্রত্যাহ রাতজেগে বুনে চলা একরাশ হাতশা।\\nঅথচ প্রতিক্ষনে পাড়ি দিতে হয় বেদনার অপরিমেয় জলাধর!\\n…\\nযদি চাও তবে চলে এসো;\\nআজ এ শুক্লা রাতে হেঁটে বেড়াব নগরীর পথে পথে।\\nমধ্য রাতে শূন্য রাজপথে ল্যাম্পপোস্টের ক্ষীণ আলোয়\\nক্ষণস্হায়ী স্বপ্নের মতো হবে আমাদের রাত্রি বিহার।\\nদিনের আলোয় দেখেছ শহরের ধূলিময় ব্যস্ত রূপ,\\nঅথচ রাতে চাঁদের আলোয় মনে হবে\\n যেন এক শান্ত স্রোতস্বিনী-\\nবয়ে গেছে কংক্রিটের নগরীর বুক চিরে।\\nযেন চেলা প্রিয়ার অচেনা রূপ হঠ্যাৎ উন্মোচিত হয়েছে\\nপ্রেমিকের উৎসুখ চোখে।\\nএতটুকু শব্দ নেই, নেই দ্রুত বেগে ছুটে চলা বাহনের\\n কান ফাটানো চিৎকার,\\nশুধু শুনতে পাবে আপন হৃদয়ের চলমান প্রতিধ্বনি।\\nমনে হবে যেন জন্মলগ্ন থেকেই তুমি পথ চলেছ অসীম নির্জনতায়।\\nচলো ফিরে যাব আমাদের আদিম পৃথিবী তে,\\nতুমিও চলে এসো দ্বিধা-দ্বন্দের পাহাড় ডিঙ্গিয়ে।\\nএকরাশ হতাশা ছুড়ে ফেলে চলে এসো,\\nসংশয়হীন সাহসী নাবিকের মতো।\\nআজ আমাদের স্বপ্নতরী ভাসিয়ে দেব-\\nচাঁদের আলোয় জেগে থাকা শান্ত স্রোতস্বিনীতে।\\n…\\nভালোবাসি অন্ধকার,\\nভালোবাসি জমাট কালো অন্ধকার।\\nকুচকুচে কালো; গ্রাফাইটের মতো কালো অন্ধকার।\\nএ মহাবিশ্বের যতো ভয়ার্ত অন্ধকার, যতো মহাপাপ, সব ভালোবাসি।\\n\\nঅন্ধকারের মুখোমুখি দাড়িয়ে আমি দেখতে পাই আমার সকল গ্লানি।\\nআমার পাপিষ্ট আত্মার প্রতিচ্ছবি ভেসে ওঠে নিকশ অন্ধকারে।\\nকতটা ভয়ংকর, কতটা কদাগর, কতটা অমানুষ আমি-\\nস্পস্ট দেখতে পাই জামাট অন্ধকারে।\\n\\nআমার শরীরের প্রতিটা শিরায়, প্রতিটা লোম-কূপে,\\nপ্রতিটা কোষের প্রাণরসে জমে থাকা পশুত্ব,\\nদেখতে পাই অন্ধকারের পরতে পরতে।\\nযেন সর্বত্র ছড়িয়ে আছে আমার দানব সত্তা,\\nএক সর্বগ্রাসী মহাপ্রলয় যেন আমি।\\nযেন জগতের সব ভালো সব সব পবিত্রতাকে\\nশোষন করছি নিজের অন্ধকার গহ্বরে।\\n\\nশুভ দৃষ্টির আড়ালে লুকিয়ে থাকা আমার কামুক সত্তার\\nপ্রতিচ্ছবি দেখতে পাই জমাট অন্ধকারে।\\nএ চোখ যেন চোখ নয় সর্বনাশা পাপিষ্ট জগতের প্রধান ফটক,\\nসৃষ্টির এক আজন্ম অভিশাপ যেন এ চোখ।\\n\\nগভীর অন্ধকারে আমি শুনতে পাই আমার মুখ নিঃসৃত বানী,\\nযা মানুষকে মুগ্ধ করে, তাদের মাঝে আমাকে অনন্য করে তোলে,\\nঅথচ কতটা মিথ্যা, কপটতায়, অশ্লিলতায় পূর্ণ আমার প্রতিটা বাক্য।\\nআমি দেখতে পাই কতটা হিংস্রতায়, কতটা পরশ্রীকাতরতায়\\nভরা আমার প্রতিটি আশির্বাদ।\\nস্রস্টার আশির্বাদকে পায়ে ঠেলে, দিবস ও রাতের প্রার্থনায়\\nকতটা ভন্ড প্রতারকের মতো হাতজোড় করে,\\nপেশাদার ভিক্ষুকের মতো আমার দৈন্যতা,\\nদেখতে পাই গভীর অন্ধকারে।\\n\\nতবুও ভালোবাসি অন্ধকার;\\nআমার আমৃত্যু একাকিত্বের এক সুদীর্ঘ উপাখ্যান এ অন্ধকার।\\nদলছুট মেঘের মতো এ অন্ধকার,\\nযে খুজে ফেরে এক মুঠো নির্জলা শান্তি\\nপৃথিবীর প্রতিটা জনপদে, প্রতিটা মানব সত্তার হৃদয় গভীরে।\\nএক পথহারা বনিকের মতো এ অন্ধহকার,\\nযে অসংখ্য কাল ধরে ফেরি করে চলেছে\\nঅসংখ্য প্রান্তর পাড়ি দিয়ে যে পৌঁছতে চেয়েছে, তার প্রিয় কোন জনপদে,\\nযে প্রতিবারই নিরাশ হয়েছে;\\nবারবার যে অভিহিত হয়েছে আগন্তুক বলে।\\n…\\nকোন এক মেঘলা সন্ধ্যায়, পথে নেমে এসো খালি পায়ে,\\nআকাশে হয়তো মেঘের গর্জন শুনতে পাবে,\\nহয়তো ঝিরি ঝিরি বৃষ্টি পড়বে,\\nহয়তো দমকা হাওয়ায় চোখ বুজে আসবে,\\nআমি অপেক্ষায় থাকব;\\nসেদিন না হয় তোমার প্রিয় ছাতাটা নাই আনলে,\\nবৃষ্টির কটা ফোঁটা পড়বে হয়তো তোমার চিবুক বেয়ে,\\nআর কাঁদামাখা পিচ্ছিল পথটাকে নিতে দিও\\nতোমার কোমল পায়ের সিক্ত পরশ।\\n\\nতবে, কালো টিপটা দিতে ভুলোনা যেন;\\nহয়তো জানো না তোমার প্রসস্ত কপালে কালো টিপটা\\nযেন শত বর্ষের সূর্য গ্রহন!\\n\\nতুমি চাইলে আবার ফাঁকা রেল লাইন ধরে হাঁটতে পারি,\\nরেল লাইনের স্লিপারের ভারী লোহার পাত দেখে ভরকে যেও না,\\nহয়তো জানো না, অজস্র মানুষের নিত্য স্বপ্ন ওই পাতে চেপেই\\nপাড়ি দেয় দূর বহুদূ্রে।\\n\\nযদি চাও তবে রাজপথ ধরে হাঁটতে পারি,\\nহাতে হাত রেখে বৃষ্টির পরশ নেব,\\nকংক্রিটের নগরীর বৃষ্টিতে থমকে থাকা প্রতিটা সভ্য মানুষ\\nআমাদের পাগল ভেবে দিক না প্রচন্ড অভিশাপ,\\nআঝোর বর্ষনে শুকনো কাঁদার মতো সে অভিশাপ\\nধুয়ে যাবে নিমিশে।\\n\\nতুমি চাইলে একটা গাঢ় সবুজ কলাপাতা  নিতে পারি,\\nমাথার উপর না হয় ছোট্টো একটা ছাউনি হলো!\\nনা হয় পাতার উপর শুধু অবিরত বৃষ্টি পড়ার শব্দই শুনলে,\\nকিভাবে বিশাল আকাশ সুর তোলে ক্ষুদ্র পল্লবে।\\n\\nউদ্দেশ্যহীন পথ চলায় সেদিন না হয় পাড়ি দিলাম\\nবেঁকে যাওয়া গলিপথ,\\nপ্রতিটা বাঁকে হবে আমাদের আত্মা দর্শন।\\nআঁধারে ঢেকে যাওয়া গলিপথে\\nহয়তো কখনো একমুঠো আলোর দেখা পাবে,\\nআলোর নগরী থেকে বহু দূরে\\nনিকশ অন্ধকারে এক মুঠো আলোতেই হবে আমদের আশার সঞ্চারন।\\n\\nশহরের অদূরে যে পুরোনো রাজবাড়ি আছে;\\nতুমি চাইলে সেখানেও ঘুরে আসতে পারি,\\nশতশত বছর ধরে  বৃষ্টিতে স্নান করছে বাড়িটা,\\nসেদিনের বৃষ্টি বাড়িটাকে শিহরিত করবে কিনা জানি না\\nহয়তো অনেক দিন আগেও ঠিক এমনি বৃষ্টি হয়েছিল,\\nরাতের দ্বিপ্রহরে হয়তো কোন যুবতী প্রসস্ত বেলকনিতে দাঁড়িয়ে বৃষ্টি দেখছিল,\\nসে বৃষ্টি হয়তো দীর্ঘ করেছিল তার প্রিয় মিলনের অপেক্ষাকে,\\nকয়েকটা মুহুর্তকে যেন এ বৃষ্টি করেছিল সহস্র বছর।\\nবাড়ির সামনে মস্ত পুকুরের বাঁধানো ঘাটটাতে বসে\\nদেখবো কতটা বৃষ্টি আছড়ে পড়ে প্রসস্ত জলাধারে।\\nএই অঝোর বৃষ্টি যেন;\\nপ্রতিটা মানুষের সব অপূরনীয় আকাঙ্খার নিংড়ানো প্রাণরস,\\nযা অসংখ্য কাল ধরে কঠিন তাপে জ্বলে আবার বৃষ্টি হয়ে\\nআবার সিক্ত হয়ে উঠেছে।\\nআবার প্ররোচিত করছে আশায় বুক বাঁধতে,\\nআবার বলছে স্বপ্ন দেখতে-\\nঠিক শতবর্ষ আগেও যেমন বলেছিল।\\n…\\nবলতো হাত পুড়িয়ে এত রাধো কেন?\\nতুমি ভালো রান্না পার, এ কথা তো সবার জানা।\\nচালের সাথে ডাল মিশিয়ে কি জানি রান্না করো!\\nনা না শুধু ডাল না, গো মাংসের চর্বিও দাও,\\nসাথে ডালচিনি, লবঙ্গ আর কি?\\nআর কি? হ্যাঁ আর গরম মসল্লা,\\nরসুন, পেয়াজ, মরিচও দাও,\\nশহরের বাতাসও দাও!\\nমিনিট বিশেক আগুনে তাপাও,\\nমন ভোলানো সুবাস ছড়ায়,\\nহলুদ একটা বর্ণ আসে\\nমরিচ গুলো উপরে ভাসে।\\nকি জানি বলো একে, হ্যাঁ; তুমি বলো ভুনাখিচুড়ি\\nআমি বলব ‘অমিয় সুধা’,\\nতাইতো আমার কাছে অনেক দূরে দারুন একটা গন্ধ আসে।\\nআমি না হয় শুধু গন্ধ নিলাম,\\nসব গুলো থাক তোমার কাছে।\\nভ্রমর যেমন ফাগুন মাসে শুধু ফুলের গন্ধ শোকে,\\nআমিও না হয় ভ্রমর হলাম, ভুনাখিচুড়ির গন্ধ নিলাম!\\n…\\nআচ্ছা, একবার ভাবতো, ঠিক তোমার মতো করে ভাব,\\nপেলে কিছু? পাওনি তো! আমার ভেবে অবাকই লাগে,\\nএইতো কটা দিন আগেও তুমি অচেনা ছিলে, খুব অচেনা;\\nভিন্ন গ্রহের দুটি আলাদা প্রাণি যেন ছিলাম আমরা।\\nতোমাকে কথা বলার সাহস ছিলনা একটুকুও,\\nতোমার মুখোমুখি হলে, এক পাবশিক লজ্জা\\nআমাকে যেন আচ্ছন্ন করে রাখতো।\\nঅথচ সাড়ারাত জেগে অসংখ্য পংক্তি সাজিয়েছি-\\nতোমাকে শোনাব বলে।\\nতোমার সামনে দাঁড়ালে মনে হতো,\\nআমার চুলটা মনে হয় একটু অগোছালো,\\nকপালে ও কাপড়ে হয়তো ধুলো লেগে আছে,\\nএকটু হাঁটলেই হয়তো ছিড়ে যাবে, চটি জোড়া,\\nঘাম ঝড়তে থাকে অঝোরে, হাশর দিনের সত্তর মুখো সূর্য-\\nযেন তাপ দিচ্ছে আমাকে,\\nতাই ভাবতাম আমার প্রস্থানই শ্রেয়!\\nমনে হতো সর্বোচ্চ স্কেলে ভূমিকম্প হচ্ছে,\\nভূ-পৃষ্ট যেন নিমিশে গিলবে আমাকে।\\nআমার তোতলামি বেড়ে যেত বহুগুন,\\nতাইতো নির্বোধের মতো মুখ বাড়িয়ে, তখনই থেমে যেতাম।\\nতোমার চোখে চোখ রাখার সাহস করিনি কখনো,\\nভাবতাম, এই বুঝি অপদার্থ বলে গালি দেবে।\\nমোবাইল ফোনে বারবার তোমার নম্নরটা দেখতাম,\\nসবুজ বোতামে চাপ দিতে গিয়ে সরিয়ে নিয়েছি বারবার,\\nভেবেছি যদি ন্যকামি ভাব।\\nঅজস্র বার ‘ভালবাসি’ লিখে তোমাকে ক্ষুদেবার্তা পাঠাতে চেয়েছি,\\nপাঠানো হয়নি একটি বারও;\\nডান হাতটা কাঁপতে কাঁপতে চলে যেত, লাল বোতামটাতে,\\nমনে হতো থাকনা এখন, যদি ভুল বোঝ।\\nতোমাকে হারাব ভাবলেই গা’টা শিউড়ে যেত,\\nতোমাকে বুঝতে দেইনি একটি বারও,\\nশুধুই নিজেকে বুঝিয়েছি প্রতিবার; হয়তো একদিন বুঝবে,\\nহয়তো বুঝবে, ‘হাদারাম’টা বড় বেশি তোমাকে ভালোবাসে।\\n\\nতোমার কি মনে পড়ে;\\nএকদিন সবুজ প্রান্তরে আমরা পথ চলেছিলাম,\\nযেন নিরাপদ দূরত্ব বজায় রেখে সাবধানে চলছে, কোন দ্রুতগামী যান!\\nসর্বদা সমান্তরালে, অসীম মৌনতায় শেষ হয়েছিল পথটা।\\nসেদিন বারবার প্রার্থনা করেছিলাম, যেন খুব দীর্ঘ হয় পথটা,\\nতোমার সাথে একান্তে একটা শান্ত বিকেল কাটানোর বড় ইচ্ছে ছিল,\\nইচ্ছে ছিল দুজন মিলে সূর্যাস্ত দেখব,\\nইচ্ছে ছিল, পড়ন্ত বিকেলে সূর্যের রক্তিম আভায় দেখব-\\nতোমার চির চঞ্চল, চির অমলিন মুখশ্রী।\\n\\nমাঝখানে থমকে থাকা আমদের সুদীর্ঘ সময়টা;\\nতোমাকে খুঁজেছি, অজস্র বার, প্রথম সূর্যোদয়ে,\\nকখনো সূর্য ডোবার ঠিক আগে, যখন সূর্যের রক্তিম আভা-\\n আমার মুখে ওপর পড়েছে।\\nকি জানি এক চাপা অভিমান, সংশয় লুকিয়ে রেখেছিলে নিজের অন্তরালে,\\nচলতি পথে প্রখর রোদে, কিংবা অঝোর বৃষ্টিতে,\\nরাত্রির প্রাক্কালে জোনাকিদের মেলায় তোমাকে খুঁজেছি,\\nতুমি রোজ যে পথ ধরে চলো, সেখানেও ছিল আমার উৎসুক চোখ,\\nএকটি বার, শুধু একটি বারও তোমাকে খুজে পাই নি,\\nযেন তুমি পথ চল অশরীরী আত্মার মতো!\\nহয়তো আমার সামনেই ছিলে, নিজেকে গুটিয়ে রেখেছিলে-\\n সব জাগতিক কোলাহল থেকে, সকল লাভ-ক্ষতির হিসেব থেকে।\\nঅথচ আমার অনুভবে, প্রতিটা মুহূর্তে তুমি পাশে ছিলে,\\nযেন চাইলেই তোমাকে ছুতে পেতাম,\\nপ্রতিটা ক্লান্ত দুপুরে, তুমি যেন আমার কপালে হাত রাখতে\\nমাথায় হাত বুলিয়ে বলতে, “ভালোবাসি, ভালোবাসি প্রচন্ড!”\\n\\nএখন যখন তোমাকে দেখি, তখন ইচ্ছে করে-\\nসাড়াটা বেলা তোমাকে দেখেই কাটিয়ে দেই,\\nইচ্ছে করে, তোমাকে সঙ্গী করে ঘুরে বেড়াব নগরীর পথে পথে,\\nপ্রতিটা গলিপথ পাড়ি দেব, প্রতিটা ল্যাম্পপোস্টের হলুদ আলোয় তোমায় দেখব,\\nইচ্ছে করে, আমার বুক পকেটে লুকিয়ে রাখা একটা কালো টিপ দিয়ে-\\nশিল্পির মতো তোমার কপাল সাজাবো।\\nতোমার খোলাচুল ডানা মেলবে মুক্ত স্বাধীন পাখির মতো,\\nযেন সহস্র বছর পর তার মুক্তি মিলেছে বিশাল নীল আকাশে।\\n\\nঅনেক সহজ কথা তোমাকে বলতে চেয়েও কেন জানি পারি না,\\nদ্বিধা-সংশয়-অজানা ভয় আমাকে আচ্ছন্ন করে রাখে,\\nআর তুমি বুঝতে পেরেও, বলে যাও “বুঝি না” “জানি না”!\\nতুমি ওপাশ থেকে বলো না কেন-\\n“এসো পথে নামি, হাতে রেখে হাত”,\\nবলো না কেন- “সব অতীত, সব পুরোনো’কে সরিয়ে শুরু করি নতুন পথচলা”,\\nদ্বিধা-সংশয়-হারানোর ভয়ে নয়, নতুন আশা, নতুন স্বপ্নে হোক নতুন পথচলা।\\n…\\nদেহে আমার পৌরুষের সরব উপস্থিতি,\\nএখনো শার্টের বোতাম খোলা রেখে পথে নামলে-\\nকেঁপে ওঠে রাজপথ।\\nশত সহস্র যুবতীর হৃদ স্পন্দন আমি,\\nআমাকে না বলে এমন কারো না জন্মানোই ভালো,\\nযদি ভুলেও জন্মে যায়, তবে উপড়ে ফেলার তালিম আমার সহজাত!\\nঋতুর পালাবদলের মতো, খাবারের নানান স্বাদের মতো,\\nআমারও রুচির পালাবদল হয়।\\nআজ যদি আমার গন্তব্য হয় ‘চিকলি পার্ক’,\\nতবে কাল হবে আপন ঘর, নিজের খাট!\\nশুধু প্রেয়সীই একেক জন, পার্কের বেঞ্চ, নিজের ঘরটা,\\nআর মহান পুরুষ আমি একজনই।\\n\\nধর্ষণ আমি বুঝি না,\\nতবে মাঝে মাঝে মনে হয়, শতক হতে আর কতো বাকি!\\nএক, দুই, তিন নাকি অনেক আগেই পেরিয়ে গেছি তিন সংখ্যার ঘর।\\nআমি মানবতাবাদী, সকল নারীই নাকি আমার মা, আমার সহদরা!\\nআমার পদবী একবিংশ শতকের সব থেকে ক্ষমতাধর;\\nপদবীর শেষে লেখা থাকে লীগ, দল।\\nআমিতো পূজারী অসীম ক্ষমতাধর দেবীর,\\nতার আশীষই আমার পরম আরাধ্য, আমার পথের পাথেয়,\\nদেবী আমাকে কখনো ডাকেন ‘সোনার ছেলে’ বলে,\\nকখনোবা ‘রাজপথের লড়াকু সৈনিক’ বলে।\\nসৈনিকতো আমি জন্ম থেকেই-\\nসেই আম গাছে ঢিল ছোঁড়া, এর পর ডাঙ্গুলি,\\nকানামাছি, পাশের বাড়িতে ইট ছোঁড়া,\\nএখন প্রতিপক্ষ বানিয়ে ধাওয়া করা,\\nপুলিশ পেটান, কখনো বোমাবাজি।\\nসকল বাজিই আমার খুব প্রিয়-\\nহোক সেটা চাঁদাবাজি, মানুষ ঠকানো।\\nতবে আমি নিষ্পাপ, খুব প্রগতিশীল,\\nনইলে ধর্ষণের প্রতিবাদে রাজপথ দখল করে,\\nগলা ফাঁটিয়ে, গাড়ি ভেঙ্গে বিচার চাই!\\n‘ধর্ষকের ফাঁসি চাই’ প্লাকার্ড আমার ডান হাতে,\\nআর বাম হাত উঁচিয়ে জ্বালাময়ী ভাষনই বা কম কিসে।\\nনেতার সন্তুষ্টিই আমার আজন্ম সার্থকতা,\\nযদিওবা নেতার জুতো হওয়া যায়, তাও বা কম কিসে!\\n\\nমুক্তিযুদ্ধ, বঙ্গবন্ধুর আদর্শ, ন্যায়বিচার, দেশপ্রেম আর স্বাধীনতাকে জাদুঘরে রেখে-\\nশুধু মুখেই সাত মার্চের ভাষণ আওড়াই,\\nপাঞ্জাবীর সাথে মিল রেখে দামি মুজিব কোর্ট গায়ে চাপিয়ে,\\n‘জয় বাংলা’ বলে গলা ফাটানো চিৎকার দেই,\\nদেশপ্রমিকের তকমাটা আরো জোড়াল করতে, পোষ্য সন্তানদের বলি;\\n‘দেশ বিরোধীদের গুঁড়িয়ে দাও’।\\n\\nদিনের আলোয় আমার বীরোচিত রূপ\\nরাতে যেন হয়ে যাই প্রেমিক শাজাহান!\\nকোটি টাকা ঘুষ নেই হাসি মুখে,\\nযেন সহস্রকাল আগে পূর্ব-পুরুষদের বিলিয়ে দেয়া অর্থ\\nফেরত নিচ্ছি অকৃতজ্ঞ প্রজাদের কাছ থেকে।\\nমানুষের বেশে এক লেজহীন শূকর যেন আমি!\\nখাস জমির গন্ধ শুকে, বস্তি উচ্ছেদ করে,\\nমৃত পিতার নামে পাঁচতারা হোটেল বানাই।\\nচাঁদার টাকায় রমজানে মিলাদ পড়াই,\\nত্রানের টাকা চুরি করে নিজের নামে শীতের কাপড় বিলাই,\\nসাম্যবাদী, ধর্মনিরপেক্ষ আমি;\\nতবুও রাতের অন্ধকারে মুর্তির হাত ভাঙ্গি, নাক ভাঙ্গি,\\nসংখ্যালঘুর বাড়ি জ্বালিয়ে নিজের আবাদি বাড়াই।\\n\\nদল সে’তো আমার জন্যই;\\nনেত্রীর খাস লোক আমি।\\nহাজারটা অপরাধ মিটে যাবে একটা ফোন কলে,\\nবছর শেষে সাহসী নেতার পুরস্কার পাব।\\nনির্বোধ জনগণ কি বোঝে না-\\nগণতন্ত্র নামের বিলবোর্ডের পেছনে আমার, চেঙ্গিস খানের সাম্রাজ্য!\\nআমার প্রাসাদের প্রতিটা স্তম্ভে থাকবে;\\nনির্যাতিত অসহায় মানুষের রক্তের দাগ,\\nতা না হলে কি এমন মহান সম্রাট আমি!\\nআমার শাসনের ‘চাবুক’ যদি জনতার হৃদয়কে বিদীর্ণ না করে;\\nতবে, কিভাবে অমর হব!\\nপ্রতিটা প্রজন্ম আমাকে মহান বলে নত শির হবে,\\nশহরের সব থেকে দামি জায়গায় থাকবে-\\nআমার কংক্রিটের বিশাল মূর্তি।\\n\\nবয়স যেন লাগাম ছাড়া ঘোড়ার মতো ছুটছে,\\nদূরে অন্ধকারে মৃত্যু যেন ফাঁদ পেতে আছে।\\nঅথচ হাতে আমার সহস্র কাজ;\\nগণতন্ত্রের ‘কফিনটা’ সাগরে ভাসাতে হবে, নয়তো আগুনে জ্বালাতে হবে,\\nঅবৈধ ভাবে বানানো শপিংমলের কাজ, এখনো অর্ধেক বাকি,\\nছেলেটাকে সেই কবে পাঠিয়েছি মাদক শোধনাগারে, এখনো ফেরেনি।\\nগতরাতে যে তরুণীকে ধর্ষণ করেছি;\\nখুব কেঁদেছিল, হাতজোড় করে আমার পায়ে পড়েছিল,\\nগলা ফাটিয়ে সে কি চিৎকার করেছিল!\\nকষে চড় মেরেছিলাম, হারামজাদী বলে,\\nবলেছিলাম, ‘তোকে ধর্ষণ করে দেশপ্রমিকের হাদিয়া নেব’।\\nআজতো আমি বিস্ময়ে হতবাক;\\nপ্রেসক্লাবের সামনে আমার বিচার চেয়ে\\nমানব বন্ধন করেছে, ‘সদ্য ধর্ষিতা’,\\nভাবছি ওটাকেও ক্রসফায়ারে পাঠাব!\\n\\nনিজের কবরের জায়গাটা এখনো ঠিক করিনি,\\nইচ্ছে আছে, রাস্তার পাশে কোন ছায়াঘেরা জায়গায় আমার কবর হবে,\\nএকটা বড় ফটক থাকবে সমাধিতে প্রবেশের,\\nযেন প্রতিবছর ‘আমার মহাপ্রস্থান’ দিবসে, কবরে ফুল দিতে কারো কষ্ট না হয়,\\nরাস্তা দিয়ে যাওয়া, সদ্য বুলি শেখা শিশু হাত উঁচিয়ে বলবে;\\n‘ঐ যে মহান নেতার সমাধি’!\\nকবরের উত্তর দিকের গাছটাতে বসে থাকা নর্দামার কাক\\nআমার মুখের উপর ‘ফুলের পাপড়ির’ মতো মলত্যাগ করবে,\\nসুযোগ পেলে কোন নেড়ি কুকুর হয়তো;\\nপ্রস্রাবে ভাসাবে আমার ‘পবিত্র’ সমাধি,\\nআমার ঔরসজাত ‘জারজ’রা ‘শূকর’ বলে ঢিল ছুঁড়বে,\\nআর আমি দাঁত কেলিয়ে বলব, ‘হাশর হতে এখনো ঢের বাকি’!\\n… \\nআজ সামনে বসে তোমার কান্না দেখার খুব ইচ্ছে ছিল,\\nদেখতাম এক অভিমানী তরুণী কাঁদলে কতটা সুন্দর লাগে,\\nআচ্ছা তুমি কি চোখ বুঝে কাঁদ?\\nসে অশ্রু হয়তো তোমার চিবুক বেয়ে গড়িয়ে পড়েছে;\\nপড়তে দিও, মাঝপথে হাত দিয়ে মুছো না যেন!\\nলাজুক বিরহিণীর অশ্রু মুছতে নেই!\\nমুছে ফেললে অশ্রু হয়তো তার মহত্ব হারাবে।\\nশব্দ করে কেঁদনা, কান্নার সাথে শব্দ বড়ই বেমানান!\\nশব্দতো ‘যান্ত্রিক’, কান্নার সাথে যান্ত্রিকতা যেন;\\n‘জলের সাথে তেল মেশান’!\\n\\nতুমি বরং কেঁদ না;\\nতুমি কাঁদলে হয়তো কেঁদে ওঠেন স্রষ্টাও,\\nআর তুমিই বলো তোমার হরিণী চোখে কি অশ্রু মানায়!\\nআমি না হয় তোমার কান্না দেখতে চেয়েছি;\\nস্রষ্টার বিশালত্বের ক্ষুদ্র অংশতো আমিও\\nতাই তিনি কষ্ট পেলে কিছুটা পাইতো আমিও!\\n…\\nকখনো কখনো আমার প্রেমিক হতে ইচ্ছে করে,\\nএক উদ্দাম প্রেম হবে আমাদের,\\nএমন প্রেম যা কেউ করেনি কোনদিন!\\nপৃথিবীর জন্মাবধি কেউ করেনি এমন প্রেম,\\nহয়তো  পৃথিবীর ধ্বংস পর্যন্তও কেউ করবেনা।\\nপ্রতিটি বালুকণা, বহমান বাতাসও আমাদের মনে রাখবে,\\nসব অন্ধকার রাত আমাদের মনে রাখবে,\\nপ্রভাতের রক্তিম সূর্যটা থাকবে আমাদের উদ্দাম প্রেমের সাক্ষী হয়ে,\\nপ্রসস্ত রাজপথে দাঁড়িয়ে থাকা ল্যাম্পপোস্টগুলো-\\nযা একদা আমাদের আলো দিয়েছিল তারাও মনে রাখবে।\\nহঠ্যাৎ সামনে পড়া কোন বুড়ো শালিকের-\\nনীরব স্মৃতিতেও থাকব আমারা,\\nহয়তো তার নশ্বর দেহ থাকবেনা\\nতবে তার অবিনশ্বর আত্মা প্রত্যাহ আমাদের খুজবে।\\nরেল লাইনের ধারে যে বয়েসী বটগাছটা-\\nএকদিন খুব রোদে আমাদের ছায়া দিয়েছিল, সেও মনে রাখবে।\\nপ্রতিটা বর্ষণমুখর দিন; আমাদের জন্য কেঁদে পৃথিবীর বুক ভাসাবে।\\nএমন প্রেমিক হতাম-\\nসহস্র দিন সামনে বসে কথা বলেও বলা হবে না ‘ভালোবাসি’,\\nঅথচ মানুষ কতো সহজেই বলে দেয়!\\nযেন বাজারে পাইকারী দরে বিক্রি হয় ভালোবাসা!\\nপাশাপাশি পথ চলে স্পর্শ করার মতো দূরত্বে থেকেও\\nকখনো হাতে হাত রাখা হবে না,\\nএমন প্রেমিক হতাম-\\nডাকলেই ছুটে যেতাম, বহু দূরে দাঁড়িয়ে শুধু একটি বার দেখতাম,\\nখোপায় পড়াব বলে, সেই শিশির ভেজা সকালে একটি ফুল-\\nযত্ন করে তুলে রেখেছি, আমার বুক পকেটেই শুকিয়ে যাবে, পড়ান হবে না।\\n\\nএমন প্রেমিক হতাম-\\nঅসীম মৌনতায় শুধু সূর্যাস্ত দেখে কেটে যাবে,\\nনিরব চাওয়া-চাওয়ি হবে, চোখের পাতা পড়বে না,\\nকালো অন্ধকার দেয়াল হয়ে দাঁড়াবে,\\nনীড়ে ফেরা পাখির মতো আমাদের প্রস্হান হবে।\\n\\nএমন প্রেমিক হতাম-\\nশুধু পথ চলতাম অবিরত, তোমার প্রতিটা পদক্ষেপের সাথে তাল মিলিয়ে,\\nপেশাদার সৈনিকের মতো কুচকাওয়াজ করতে করতে,\\nপ্রতিটা গলিপথ পেরিয়ে যেতাম,\\nযেন আমৃত্যু পথ চলেছে কোন যাযাবর।\\nকখনো কফির গন্ধ শুকেই কেটে যেত কিছুটা ক্ষণ।\\nশহরের পার্কে বানানো পরিকল্পিত খাঁচায়-\\nনর মাংসের স্বাদ লাভের উচ্চাশা নেই,\\nআমি পথিক প্রেমিক;\\nরাজপথই আমার পার্ক, আমার অভিসার যাপনের লীলাভূমি,\\nহুড তোলা রিক্সায় নয়, পায়ে হেঁটে\\nশুধু পায়ে হেঁটেই আমাদের অভিসার হবে।\\n\\nএমন প্রেমিক হতাম-\\nতোমার কপালের কালো টিপটাকে ভেবে ভেবে\\nশীতের একটি দীর্ঘ রাত কেটে যাবে,\\nপেরিয়ে যাওয়া সুদীর্ঘ সময়টকে মনে হবে-\\nচোখের পলক ফেলার ব্যাধান।\\nপ্রত্যাহ যখন রক্তিম সূর্যটা আমার জানালায় উঁকি দেবে,\\nভেবে নেব, বিরতিহীন ভাবে তুমি আমাতে তাঁকিয়ে আছো,\\nআর মুঠো ভরে আলো নিয়ে ছুঁড়ছো আমায়।\\nসে আলোয় আমার হতাশা বিদেয় হবে\\nউদ্বায়ী কর্পুরের মতো।\\nআমৃত্যু প্রতিটা সকাল তুমি আসবে\\nআমার হতাশা তাড়ানোর চেরাগ হয়ে,\\nপ্রজ্জলিত আলোক মশাল হয়ে, সে আলো আমার প্রতিটা কোষে-\\nঅন্তরালে জমে থাকা কালিমাকে শুষে নেবে,\\nযেন আরো সহস্রকাল বাঁচার আকুতি নিয়ে-\\nআমার পূঃর্নজন্ম হবে।\\n…\\nবিবর্ণ একটা সকাল হওয়ার কথা ছিল,\\nখুব শীতে বিছানায় অলস প্রহর কাটানোর কথা ছিল,\\nমন খারাপের একটা সূচনা হতে পারত!\\nঅথচ, অন্যরকম একটা সকাল হলো,\\nযেন অসংখ্য প্রতীক্ষার পর একটি সূর্যোদয় হয়েছিল, শুধু আমার জন্যই।\\n\\nযখন পথ চলতে লাগলাম তোমার উদ্দেশ্যে-\\nচারপাশ ছিল ঘন অন্ধকারে ঢাকা,\\nপ্রসস্ত রাজপথটাকে মনে হয়েছিল বিরান মরুভূমি,\\nজীবনের অস্তিত্ব যেন সাময়িক হারিয়ে গেছে,\\nনিঃপ্রাণ রুক্ষ পথ ধরে চলছে, এক উদ্দেশ্যহীন বিবাগী যুবক,\\nপথটা যেন আরো দীর্ঘ হতে লাগল!\\nহঠাৎ বহুদূর হতে ট্রেনের হুইসেল শুনে মনে হয়েছে;\\nএই বুঝি স্বপ্নভঙ্গ হলো প্রথম সূর্যোদয়ে!\\nরাস্তার পাশে ভুলে হয়তো একটা কলমি ফুটেছিল-\\nতোমার হাতে উঠবে বলে উন্মুখ হয়েছিল,\\nতাই তাকেও সঙ্গে নিলাম।\\n\\nযখন তোমার জন্য অপেক্ষা করছিলাম-\\nমনে হয়েছে, সূর্যোদয়ের আগ মুহূর্তে-\\nআর একটি সূর্যোদয় দেখার প্রতীক্ষায় আমি বিভোর হয়ে আছি।\\nযখন তোমাকে দেখলাম, মনে হলো গোলাপি বসনে\\nএকটি সূর্য আমার সামনে দাঁড়িয়ে,\\nযেন শতসহস্র মেঘের দেয়াল সরিয়ে মর্ত্যে আবির্ভাব হয়েছে\\nশেষ রাতে স্বপ্নে দেখা আমার অধিষ্টাত্রী দেবীর,\\nতখন সবেমাত্র সূর্য উঁকি দিচ্ছিল পুবের আকাশে\\nঅথচ অনেক আগেই হয়েছে আমার রৌদ্রস্নান!\\nবহুক্ষণ পর যখন বহু আখাঙ্কিত ট্রেনটি প্লাটফর্মে দাঁড়াল,\\nমনে হলো স্বপ্নতরীটি ভিড়ল আমার স্বপ্নবন্দরে!\\n\\nঅবশেষে ট্রেনটা যখন চলতে লাগল-\\nমনে হচ্ছিল স্বপ্নতরীটি পাড়ি জমাচ্ছে অজানা কোন দ্বীপের উদ্দেশ্যে,\\nতুমি বসেছিলে খোলা জানালার পাশে, আর বাইরে রেখেছ চোখ,\\nতখন সূর্যটা সোনালী ফসলে আলো ফেলতে শুরু করেছে,\\nসে আলোয় পাকা ধানক্ষেত গুলো চকচক করছিল\\nযেন মাঠে ছড়িয়ে আছে অপরিমেয় স্বর্ণরাজি।\\nধীরে ধীরে ট্রেনের গতি বাড়তে লাগল-\\nশির শির করে ঠাণ্ডা বাতাস জানালা দিয়ে আসতে লাগল,\\nহঠাৎ তুমি শিউড়ে উঠে সড়ে এলে খুব নিকটে,\\nমনে হচ্ছিল আমি স্বপ্ন দেখছি, আর স্বপ্ন পূরনের জাদুর কাঠি তোমার হাতে,\\nএক অভাবনীয় শিহরণ, যেন পৃথিবী জয়ের গৌরবকেও হার মানায়!\\nএ এক দুর্লভ সুখানুভূতি, যা শুধু অনুভব করা যায় তুলনা নয়। \\nফসলের মাঠ আর বাড়িগুলোকে খুব দ্রুত ছেড়ে যাচ্ছিলাম-\\nআর তার সাথে পাল্লা দিয়ে ফুঁড়িয়ে আসছিল পথটাও,\\nযখন জংশনে দাঁড়াল ট্রেনটা হঠাৎ ঝাঁকুনিতে যেন বেসামাল হয়েছিলাম,\\nমনে হয়েছিল পথের শেষটা যদি আবার পথের শুরু হতো!\\n\\nরেললাইনের উপর লোহার উঁচু ওভারব্রিজের উপর যখন দাঁড়ালাম;\\nসোনালী আলোয় চকচক করছিল তোমার মুখ,\\nযেন কোন রত্ন খন্ড হতে বিচ্ছুরিত হচ্ছিল চোখ বুজে আসার মতো আলো।\\nতোমার কপালের কালো টিপটাকে মনে হয়েছে-\\nবিশাল সমুদ্রের মাঝে অতি নির্জন একটা দ্বীপ,\\nযেখানে আবাস কিছু লজ্জার, কিছু সংশয়, অনাগত মুহূর্তের জন্য একটু ভয়।\\nদ্বিধা-দ্বন্দের মাঝখানে দাঁড়িয়ে যেন সঠিক-ভুলের হিসেব কষছিলে,\\nপ্রতিটা পদক্ষেপে যেন সুক্ষ পরিমাপ, কিছুটা সংশয়।\\n\\nষ্টেশন থেকে যখন এগুতে লাগলাম বড় বাজারটার দিকে-\\nগাঁয়ের মাঝখান দিয়ে বেঁকে যাওয়া পথঘাট,\\nপথিমধ্যে একখণ্ড মাঠ, যেন খনিকটা অবসর!\\nরোদটা ক্রমাগত একটু করে বাড়ছিল-\\n আর তাতে কেটে যাচ্ছিল তোমার সংশয়ের কালো মেঘ,\\nযেন সবচেয়ে উজ্জ্বল কোন নক্ষত্র আমার সামনে দাঁড়িয়ে,\\nআমি হাত বাড়িয়ে তোমার কপাল স্পর্শ করতে চেয়েছি,\\nআমি অনুভব করতে চেয়েছি তোমার চির পবিত্র নির্মলতাকে,\\nআমার নিজের মধ্যে বপন করতে চেয়েছি বিশ্বাসের সব থেকে বড় বীজটিকে-\\nযেন প্রকাণ্ড সব ডালপালা ছড়িয়ে অসীমে ছড়িয়ে পড়ে,\\nআর তার শিকড় প্রবেশ করবে দূর অতলে।\\n“তোমাকে ভালোবাসি” এ বিশ্বাস আমাকে সামনে চালিত করেছে সগৌরবে,\\nযেন দ্বিধা-দ্বন্দের সীমানাটা পেরিয়েছি, সহস্র বছর আগেই!\\n\\nবাজার ছেড়ে যখন বিশাল কংক্রিটের ব্রীজের ওপর দিয়ে হাঁটছিলাম;\\nতখন মাথার ওপর ছিল বিশাল নীল আকাশ,\\nউত্তর-দক্ষিনে বয়ে চলা নদীটাতে চড় পড়েছে,\\nমাঝখানে সামান্য জলস্রোত সাক্ষী হয়ে শেষ যৌবনের,\\nবিশাল ব্রিজটা হঠাৎ কেঁপে ওঠে ভারী যানবহনের চলাচলে,\\nমনে হচ্ছিল এই বুঝি ভেঙ্গে যাবে ব্রিজটা!\\nসকালের রোদ বালুচরে প্রতিফলিত হচ্ছিল-\\nযেন এক আত্মিক শক্তি সঞ্চারিত হচ্ছে প্রকৃতিতে।\\n  \\nচাদরের খোলস থেকে যখন বেরুলে-\\nতোমার গোলাপি বসনে সূর্যের আলো যেন খেলতে শুরু করেছে,\\nতোমার গোলাপি ঠোঁঠের উপর পড়া সূর্যালোক-\\nতোমার হাসিটাকে যেন আরো অমলিন করেছিল,\\nযেন তোমার হাসিতে সোনারোদের সোনারং ঝড়ে পড়ছে,\\nইচ্ছে হচ্ছিল তোমার ঠোঁঠ স্পর্শ করে তার কিছুটা আমাতে সঞ্চারিত করি।\\n\\nতোমার শিশুতোষ অনুভূতি আমাকে মুগ্ধ করেছে;\\nযখন উঁচু কংক্রিটের বাঁধের উপর উঠছিলে আবার নিচে নামছিলে,\\nযেন কোন অবুঝ বালিকা হঠাৎ মেতেছে জয়োল্লাসে,\\nবাঁধের ওপর যখন বসেছিলাম সূর্যের দিকে মুখ করে\\nসে সূর্যালোক যেন আমাদের শ্বেত-শুভ্র করে তুলেছিল।\\n\\nতোমার হাতটা যখন হাতে নিলাম-\\nতখন আজন্ম না পাওয়া কষ্টগুলো যেন শূন্যে মিলিয়ে গেল,\\nতোমার হাতের স্পষ্ট রেখাগুলোতে আঙুল ছোয়াতে মনে হয়েছে-\\n আমি পেয়েছি  আমার বীণার তার,\\nআমি পেয়েছি আমার আজন্ম লালিত “কল্প-প্রতিমার” প্রার্থিত স্পর্শ,  \\nএ যেন কোন নির্জন দ্বীপে হঠাৎ কোন প্রাণের সন্ধান পাওয়া,\\nএ এক অন্য রকম অনুভূতি, একান্ত নিজের, খুব গভীর যার পরিধি,\\nবাক্যে ও শব্দে যার প্রকাশ অসম্ভব!\\nতোমার হাতে হাত রেখে পথ চলা ক্ষণিক সময়টা\\nযেন আজম্নকাল পথচলা শেষে অবশেষে নিজেকে খুজে পাওয়া।\\n\\nরেল সেতুর উপর দিয়ে যখন হাঁটছিলাম-\\nনিচে তখন বিস্তৃত জলরাশি,\\nলোহার পাতের উপর দিয়ে যখন তুমি হাঁটছিলে-\\nমনে হয়েছে প্রতিটা পদক্ষেপে তোমার দৃঢ় বিশ্বাস,\\nযখন তোমার প্রিয় বেলকনি সদৃশ স্তম্ভগুলোর উপর দাঁড়ালে-\\nতখন দক্ষিণা বাতাসে উড়ছিল তোমার অবাধ্য কেশপাল।\\nআমি যেন হারিয়ে গিয়েছি মহাকালের শ্বাস্বত নির্জনতায়,\\nপ্রতিটাক্ষণ অনুভব করেছি নিজের অস্তিত্বের সবটা জুড়ে,\\nযেন এক অসীম পূর্ণতায় ছুঁয়েছে আমার হৃদয়,\\nআমার একান্ত অনুভব গুলো-\\nআবছা গঠন ছেড়ে সময়িক সত্যে, যেন রঙিন বেশে ধরা দিয়েছে। \\n  \\nযখন তুমি ঘোলাজলে তোমার পা ভিজিয়েছিলে,\\nআর কংক্রিটের টুকরোগুলোর উপর দাঁড়িয়ে খানিকটা কাঁপছিলে;\\nআমি তখনো তোমার হাতটা ধরে রাখতে চেয়েছি,\\nচেয়েছি, নিজের অস্তিত্বের সবটা জুড়ে তোমার পরশ ছড়িয়ে দিতে,\\nমনে হয়েছিল আমি এখনো গভীর ঘুমে বিভোর-\\nআর কোন দীর্ঘ স্বপ্নের কোন এক বিশেষ মহুর্তে এখন আমার অবগাহন।\\n\\nআমাদের প্রস্থানবেলায়-\\nবেঁদেপল্লীর ছোট তাঁবুগুলো পেড়িয়ে যখন উঁচু পথটা বেয়ে উঠছিলে-\\nতোমার চুলগুলো তখন বাতাসে উদ্দাম উড়ছিল,\\nযেন বারবার দেখা আমার কোন স্বপ্নের বাস্তবে মঞ্চায়ন!\\nফিরতি পথে যখন পাশাপাশি বসেছিলাম-\\nতোমার চুলগুলো যেন মেঘের মতো উড়ছিল! \\nআর আমার মুখের উপর এসে পড়েছিল,\\nমনে হয়েছে, প্রখর রোদে একখন্ড মেঘ আমাকে ছায়া দিচ্ছিল,\\nআমি চেয়েছি বারাবার তোমার এলোচুল আমার মুখের ওপর আছড়ে পড়ুক,\\nআমাকে ঢেকে নিক মেঘে আচ্ছন্ন চাঁদের মতো!\\n \\nএকটা স্বপ্নের মতো দিন ছিল-\\nআমার সাদা-কালো স্বপ্নের চেয়ে এ দিনটা বেশি উচ্ছল ছিল,\\nবাস্তবের প্রতিটাক্ষন যেন হার মানায় সুন্দরতম কোন কল্পনাকে,\\nআমি সুন্দরতম কল্পনায় নয়, তোমাকে সাথে নিয়ে প্রচন্ড রোদেও পথ চলতে চাই,\\nআমি চাই আমৃত্যু তোমার ঐ হাত আমার আঙ্গুল স্পর্শ করুক,\\nআমি প্রতিটাক্ষণ তোমাকে অনুভব করতে চাই বুকভরা বিশ্বাসে,\\nআমি প্রতিটা সকাল পাশাপাশি পথ চলতে চাই দৃঢ় পদক্ষেপে,\\nআমি এ পৃথিবী থেকে প্রস্থান চাই, সোনারোদে তোমার সোনামুখ দেখতে দেখেতে।\\n…\\nচারদিকে শুধুই বিভ্রম-\\nঅসংখ্য বিভ্রম-বীজ যেন ছড়িয়ে আমার সর্বত্র!\\nযে দিকে তাকাই সেখানেই বিভ্রম,\\nযা স্পর্শ করি তাতেই বিভ্রম,\\nপরিচিত সম্পর্ক গুলোতেও বিভ্রম,\\nযেখানে বিশ্বাস খুঁজি সেখানেই বিভ্রম,\\nযেখানে শান্তি খুঁজি সেখানেই বিভ্রম,\\nপ্রতিটা সকাল বিভ্রম, প্রতিটা রাত বিভ্রম,\\nআমার প্রতিটা পঙক্তিতে বিভ্রম,\\nআমার প্রতিটা পদক্ষেপে বিভ্রম,\\nআমার ঘুমে বিভ্রম, আমার জাগরনে বিভ্রম,\\nআমার নীরবতায় বিভ্রম, আমার চঞ্চলতায় বিভ্রম,\\nআমার চাহনিতে বিভ্রম,\\nআমার প্রতিটা স্বপ্নে বিভ্রম,\\nআমার হাসিতে বিভ্রম, কান্নায় বিভ্রম,\\nরাতের অন্ধকারে বিভ্রম,\\nসূর্যের সোনালী আলোয় বিভ্রম,\\nসুন্দর জ্যোৎস্নায়ও বিভ্রম,\\nআমার উদাসীনতায় বিভ্রম,\\nকর্মহীনতায় বিভ্রম, কর্মযজ্ঞে বিভ্রম,\\nস্বাধীনতায় বিভ্রম, পারাধীনতায় বিভ্রম,\\nআমার সুখে বিভ্রম, আমার অসুখে বিভ্রম,\\nআমার তৃপ্তিতে বিভ্রম, অতৃপ্তিতে বিভ্রম,\\nআমার ব্যথায় বিভ্রম, খুব উল্লাসে বিভ্রম,\\nআমার শীতে বিভ্রম, গ্রীষ্মে বিভ্রম,\\nখুব বয়ে চলা স্রোত তাতেও বিভ্রম,\\nআমার আবেগে বিভ্রম, বেগে বিভ্রম,\\nরাতভর রিমঝিম বৃষ্টিতে বিভ্রম,\\nআমার প্রখর রোদে বিভ্রম, বিশুদ্ধ ছায়ায় বিভ্রম,\\nআমার অর্জনে বিভ্রম, আমার ত্যাগে বিভ্রম,\\nআমার হিসেবে বিভ্রম,\\nআমার ধ্বংসে বিভ্রম, সৃষ্টিতে বিভ্রম,\\nআমার হাতের নখে বিভ্রম,\\nচোখের পাতায় বিভ্রম,\\nআমার বালিশে বিভ্রম\\xad\\xad,\\nআমার জানালায় বিভ্রম,\\nপ্রেমিকার ঠোঁঠে বিভ্রম, চোখে বিভ্রম,\\nআমার পাপে বিভ্রম, আমার পুণ্যে বিভ্রম।\\nনিজের কাছে নিজেই বিভ্রম।\\n…\\nআমি স্বপ্ন দেখি;\\nরোজ ঘুমে আমি স্বপ্ন দেখি;\\nখন্ড খন্ড স্বপ্ন, বর্ণহীন নিঃপ্রাণ স্বপ্ন,\\nস্বপ্ন দেখে অকস্যাৎ কখনো আমার ঘুম ভেঙে যায়,\\nকখনো স্বপ্নে আমি প্রতিবাদ করে উঠি,\\nহয়ত কখনো অট্ট হাসিতে উল্লাস করে উঠি,\\nকখনো জেগে জেগে আমি স্বপ্ন দেখি-\\nকোন অভিলাষী যুবকের অহেতুক স্বপ্ন,\\nযুক্তির বেড়াজাল থেকে মুক্ত কোন যুবক-\\nশিশুতোষ বিশ্বাসে যে পথ চলে তার সহজ স্বপ্ন,\\nকঠিন ইট-পাথরের প্রকোষ্টে ফিকে হয়ে যাওয়া বর্ণহীন স্বপ্ন,\\nপ্রতিটা গলিপথ দীর্ঘ ভ্রমনে ক্লান্ত পথিকের অসাড় স্বপ্ন,\\nমধ্যরাতে ক্ষুধায় ঘুম ভেঙে গেলে বাকিটা রাত কষ্টে জেগে থেকে-\\nকোন যুবকের সকালে এক প্লেট ভাতের স্বপ্ন।\\nতবুও আমি স্বপ্ন দেখি;\\nফুটপাতে রাত কাটানো মানুষগুলো নিরাপদ আশ্রয় পাবে,\\nরেললাইনের পাশে গড়ে ওঠা বস্তিতে যে শিশুটা একটু পরে জন্ম নেবে-\\nসেও বড় হওয়ার স্বপ্ন দেখবে।\\nআমি স্বপ্ন দেখি;\\nপ্রণয়ে সন্তান সম্ভাবা মেয়েটি আর লজ্জায় মুখ লুকবে না,\\nপরিচয়হীন শিশুটি পিতিৃপরিচয় নেই বলে তিরস্কৃত হবে না,\\nপ্রতিটা শিশুর আগমনেই জন্ম উৎসব হবে।\\nআমি স্বপ্ন দেখি;\\nযে মেয়েটি দুপুরে পানি দিয়ে ক্ষুধা মেটায়\\nসাড়া রাত জেগে থেকে কল্পনায় বিচরন করে,\\nদারিদ্র্যতা, ভীষন ক্ষুধা, সব বন্ধনকে ছিন্ন করে সামনে এগিয়ে যায়,\\nস্বপ্নকে বাঁচিয়ে রাখবে বলে প্রিয় মানুষটিকে ফিরিয়ে দেয়,\\nজাতি তাকে সবার আগে সম্মানিত করবে।\\nআমি স্বপ্ন দেখি;\\nশ্রমিকের মজুরী আদায়ে আর মিছিল হবে না,\\nঘাম শুকানোর আগে শ্রমিক তার মজুরী পাবে,\\nএকজন দাস নয়, মানুষের মতো সম্মান পাবে,\\nএকেক জন শ্রমিকের নামে একেকটা সড়কের নাম হবে।\\nআমি স্বপ্ন দেখি;\\nপরীক্ষায় ফেল করা ছেলেটা-\\nমাথামোটা বলে তিরস্কৃত হওয়া ছেলেটা-\\nগীটারের ভাষায় কথা বলবে,\\nনতুন সুরে সব আশাহীন মানুষের মনে আশার আলো জ্বালাবে\\nপ্রতিটা শব্দ রক্তে নতুন করে বাঁচার শিহরণ জাগাবে।\\n\\nআমার কৃষক পিতা প্রচন্ড ক্ষোভে আর ফসল জ্বালাবে না,\\nপ্রখর রোদে তার ঘাম বৃথা যাবে না\\nবৃষ্টিতে ভিজে প্রচন্ড জ্বরের ঘোরে আর প্রলাপ বকবে না;\\nকখনো বলবে না, “হে খোদা আমাকে মৃত্যু দাও”।\\nআমি স্বপ্ন দেখি;\\n রোজ লুকিয়ে কাঁদা আমার মা-\\n খাবারের শেষ অংশটুকু আমার পাতে দিয়ে\\nউপোস করে স্বস্তির নিশ্বাস ফেলবে না,\\nছেঁড়া আঁচলে মুখ লুকিয়ে আর কাঁদবে না,\\nআমৃত্যু প্রতিটা সকাল তাঁর কোরান পড়ার শব্দে আমার ঘুম ভাঙবে।\\n\\nআমি স্বপ্ন দেখি;\\nমেধাবী ছেলেটার টাকার অভাবে স্বপ্ন ছেদ ঘটবে না,\\nস্বপ্নচারী হয়ে সে তাঁর জগৎ সাজাবে,\\nএই রুগ্ন সমাজ তাকে ধিক্কার নয় সাহস যোগাবে।\\nআমি স্বপ্ন দেখি;\\nপুঁজিপতি, রাজনৈতিক দালালদের বিরুদ্ধে বিক্ষোভ হবে,\\nনির্যাতিত মানুষের রক্তের ছাপ ওয়ালা\\nআকাশ ছোঁয়া উঁচু কংক্রিটের দালানগুলো মিশে যাবে,\\nমুখোশ পড়ে থাকা ভালো মানুষগুলোর স্বরূপ উন্মোচিত হবে,\\nপ্রতিটা মিথ্যার ব্যবচ্ছেদ হবে,\\nপ্রতিটা প্রহসনের বিচার হবে,\\nসংশয়ের কালো মেঘগুলো কেটে যাবে,\\nসূর্যালোক পবিত্র করে তুলবে এ ধরণীকে,\\nঋতুর উৎসব হবে কৃষকের জীর্ণ কুটীরে।\\nএকজন বেকার বলছি\\nএকদিন আমার একটা নাম ছিল-\\nনামটা এখনো আছে,  বেশ পুরনো বলে কেউ আর ডাকে না,\\nএখন আমার নতুন একটা নাম দেয়া হয়েছে,\\nএকটা ফার্সি উপসর্গ যোগে তিন অক্ষরের নাম- বেকার।\\nশুনতে বেশ লাগে, তাইতো পুরনো নামটাকে\\nআমার সার্টিফিকেটের সাথে তুলে রেখেছি।\\nএখন রোজ আমার ঘুম ভাঙে ‘বেকার’ ডাক শুনে,\\nকোন যুক্তাক্ষর নেই, খুব সহজ এক নাম\\nযেন কোন বড় পুণ্যের মানানসই ফল পেয়েছি!\\n \\nইচ্ছে ছিল বড় শিল্পি হবো;\\nআমার সখের গীটারটা বেশ বাজাতাম,\\nরোজ স্বপ্ন দেখতাম হাজার মানুষের সামনে আমি গাইছি,\\nআজ গীটারের সাথে আমার দারুন শত্রুতা!\\nঅযত্নে ছিড়ে গেছে তার গুলো,\\nহয়তো কিছুদিন পর আবর্জনার মতো তার জায়গা হবে ডাস্টবিনে,\\nসেদিন আমি পৈচাশিক উল্লাস করব\\nএকটা নিঃপ্রাণ যন্ত্রের সাথে লড়ে আমার আমার জয় হবে!\\n \\nছোটবেলায় রোজ বাবার সাথে ঘুমাতাম,\\nএখন বাবার সামনে দাঁড়াতে খুব ভয় করে,\\nবাবার লুঙ্গিটা বেশ পুরনো হয়েছে\\nদু-এক জায়গায় বেশ কিছু ফুটো,\\nসাদা পাঞ্জাবীটা ময়লায় ধূসর হয়েছে,\\nঅনেক দিন আগে বৃত্তির টাকায় বাবাকে একটা ফতুয়া কিনে দিয়েছিলাম,\\nমা যত্ন করে আলমারিতে তুলে রেখেছিলেন,\\nএখনো পরা হয়নি, নতুন নামটা নেয়ার পর থেকে\\nআর পরবেন বলে মনে হয় না।\\n \\nবাড়িতে গেলে ছোট বোনটা দৌড়ে এসে জড়িয়ে ধরত\\nনতুন নামটা নেয়ার পর থেকে ওর কাছেও যেন অচেনা,\\nআগে দিতে পারবোনা জেনেও রোজ বায়না ধরত\\nকাচের চুড়ি, লাল জামা থেকে সবকিছু,\\nযেন ওর সব দাবি আমার কাছেই,\\nঅথচ আজ আমাকে দেখলে সংকোচে দূরে দাঁড়িয়ে থাকে\\nযেন ভিন্ন গ্রহের একজন আগ্নতুক আমি।\\n \\nইট পাথরের এই শরটা যেন অন্যরকম\\nকংক্রিটের মতো শক্ত হৃদয়ধারীদের বসবাস এখানে,\\nএখানে রক্তমাংসের জীবন্ত সত্ত্বার থেকে কাগুজে নোটের বেশ কদর,\\nএকেকটা মানুষ যেন ভিন্ন প্রজাতির অন্য প্রানি\\nশারীরিক গঠন একই তবে বাকি সব বিলুপ্ত,\\nযখন ক্ষয় হয়ে যাওয়া জুতো পড়ে পথ চলি\\nঅসংখ্য ফোঁসা পড়ে পায়ে,\\nআসংখ্য চোখ আমাকে যেন তিরস্কার করে বলে, ‘এ পৃথিবী তোমার নয়’\\nইচ্ছে করে সব আবরন ফেলে দিয়ে\\nগায়ে আগুন লাগিয়ে বলি-\\n‘হে অধিপতি মিশিয়ে দাও আমার মতো পাপিষ্ট সত্তাকে’।\\n\\nপ্রতিটা সন্ধ্যা যে প্রেমিকাকে সঙ্গী করে পথ চলেছি,\\nপ্রতিটা সকাল যার ডাকে ঘুম ভেঙেছে,\\nএকসাথে সূর্যোদয় দেখেছি, সূর্যাস্ত দেখেছি,\\nহাতে হাত রেখে পথ চলেছি দৃষ্টির সীমানায়\\nকোন এক পড়ন্ত বিকেলে আকাশে বেশ মেঘ করেছিল,\\nদমকা হাওয়া বইতে শুরু করেছিল, যেন কোন মহাপ্রলয়ের পূর্বাভাস,\\nতখনি শেষবারের মতো তার হাত ধরেছিলাম,\\nতার খোলাচুল উড়ছিল, কয়েক ফোঁটা চোখের জল গড়িয়ে পড়েছিল পথের ধুলোয়,\\nসেদিন আমি কাঁদতে পারি নি;\\nবেকারদের কাঁদতে নেই,\\nতাদের অনুভূতিগুলোতে যেন মরিচার পুরু স্তর জমেছে\\nক্ষণিক বাদে হয়তো বেকারের অবয়য়ে দাঁড়িয়ে থাকবে একটি কয়লার স্তুপ,\\nনয়তো মাংস ছাড়ানো একটি একটি কঙ্কাল\\nএকটু আগে যার ডান চোখটা খেয়ে ফেলেছে একটি নর্দমার কাক,\\nসেদিন সাড়াটা রাত বৃষ্টিতে ভিজেছিলাম\\nআমার চোখের জল মিশে গিয়েছিল অশান্ত বর্ষনে,\\nসেদিনই শেষবারের মতো কেঁদেছিলাম\\nএখন কান্না- শোক-বিষন্নতা আমাকে স্পর্শ করে না,\\nস্বপ্ন, ইচ্ছা , উদ্দ্যম, ভালোলাগাগুলো জীবন থেকে বিলুপ্ত।\\n \\nএকদা গৃহবন্দী মানুষের কথা শুনেছি,\\nভেবেছি এও কি সম্ভব বিশাল আকাশ থেকে, মুক্ত বাতাস থেকে নিজেকে বিচ্ছিন্ন রাখা\\nরাজপথ, ফুটপাত, সবুজ প্রান্তর থেকে নিজের অস্তিত্ব মিলিয়ে যাবে এও কি সম্ভব\\nপ্রেমিকার ঠোঁঠে ঠোঁঠ রাখা হবে না এও কি সম্ভব,\\nআজ অন্ধকারের সাথে আমার তুমুল সখ্যতা\\nআমার সত্যিকারের সহোদরা এ অন্ধকার\\nআজ অন্ধকারের ভাঁজে ভাঁজে খুঁজি আশ্রয়\\nনির্বাসনে পাঠিয়েছি নিজেকে দীপ্তিমান সূর্য আর তাঁরাদের থেকে।\\n\\nপ্রিয় দেশ আমাকে লালন করেছে\\nআমাকে স্বপ্ন দেখিয়েছে আকাশ ছোঁয়ার,\\nআজ তার বুকে আস্তানা গড়েছে রক্তচোষাদের দল,\\nআমার অর্জিত সার্টিফিকেটগুলো গুলো যেন কোন পাগলের প্রলাপ\\nকানাকড়ি মূল্য নেই শোষকের চোখে,\\nইচ্ছে করে হঠাৎ একটা দানব হয়ে তাদের রক্ত পান করব,\\nতাদের দেখাব কতটা নির্মম হতে পারে একজন বেকারের কষাঘাত,\\nকতোটা ক্ষোভ জমলে মানুষের হৃদপিন্ডটা বিদীর্ণ করে করে একজন মানুষ,\\nকতটা ঘৃ্না জমলে পুড়িয়ে ফেলতে ইচ্ছে করে সভ্যতা।\\n\\nতবুও বেঁচে থাকা, অপেক্ষার প্রহর গোনা\\nনিজেকে আড়াল করে প্রিয় চোখগুলো থেকে\\nজোড় করে বিকট আত্মচিৎকারকে দমিয়ে ধিরে বলা ‘হ্যাঁ আছি তো বেশ’\\nআছিতো বেশ নতুন নামে\\nঅন্য পৃথিবীতে যেখানে ঝতুর পালাবদল হয় ভোর হয়না\\nএখানে শুধু অন্ধকার আর অনন্তকাল আপেক্ষা\\nযেন বেকারের আরেক নাম অপেক্ষা!\\n…\\nতুমি কি আমার কবিতা হবে!\\nযার শব্দগুচ্ছ এখনো কেউ উচ্চারণ করেনি,\\nমহাবিশ্বের সব চেয়ে নিগুঢ় কথাগুলোতে সাজাব তোমায়-\\nযার অর্থ শুধু তোমাতেই মিশে রবে,\\nসহস্র বছর কেটে যাবে, প্রজন্ম থেকে প্রজন্ম তোমাকে বুঝতে গিয়ে-\\nতোমার রহস্যের জট খুলতে গিয়ে নতজানু হয়ে ফিরে যাবে,\\nতুমি ধারণ করবে সব থেকে বড় সত্যগুলোকে,\\nতোমার চোখে থাকবে সৃষ্টির সবটুকু মায়া,\\nতুমি হৃদয়ে ধারণ করবে অসীম প্রেম,\\nশ্বাশ্বত হয়ে উঠবে তুমি!\\nকখনো কি কেউ পেরেছে, ধ্বংস-মৃত্যুর মধ্য দিয়ে অনন্য হতে।\\n\\nকখনো কি তুমি পেরেছিলে গোধূলি লগনে\\nহাতে হাত রাখার অনুভূতি প্রকাশ করতে,\\nএকটা ক্লান্ত হাতেও যে লেপ্টে থাকে ভালোবাসা\\nপেরেছিলে কি তার পরিধি অনুমান করতে,\\nকখনো কি বুঝেছ অগোছালো খোলসের ভিতরে\\nকতটা জীবন্ত অনুভূতি!\\nকখনো কি মেপেছ কতটা অশ্রু ফিরে গেছে নিরবে,\\nকখনো কি পথ চলতে গিয়ে ইচ্ছে হয়েছে\\nআমার একটা হাত আকড়ে ধরে পথ চলতে,\\nঅভিমান ভেঙ্গে গেলে কখনো কি ইচ্ছে হয়েছে\\nআমাকে জড়িয়ে খানিকটা অশ্রু ফেলতে,\\nআকাশে মেঘের গর্জন শুনে চমকে উঠে\\nকখনো কি খুঁজেছ আমায়,\\nকখনো কি আমার বুকে কান পেতে হৃদস্পন্দন শুনতে ইচ্ছে হয়েছে,\\nকখনো কি জানতে চেয়েছ-\\nআমার ছোট্ট অভিমানের পেছনে কতটা বেদনা,\\nএকাকী যখন রেল লাইন ধরে পথচল-\\nকখনো কি আশায় বুক বেঁধেছ আমি সামনে দাঁড়াব বলে,\\nকখনো কি একাকী চায়ের কাপে চুমুক দিতে\\nনিঃসঙ্গতা অনুভব করনি,\\nফিরতে দেরী হয়েছে বলে -\\nকখনো কি ঘড়িটার দিকে তাকিয়ে ফুফিয়ে কেঁদেছ,\\nচুল শুকাতে গিয়ে আউলা বাতাসে যখন তোমার চুল গুলো উড়ছিল\\nকখনো কি ভাবিয়েছে তোমাকে; হয়তো আমিই আঙ্গুল ছুঁয়েছি তোমার চুলে,\\nকখনো কি বৃষ্টির ফোঁটা-\\nআমার আদর ভেবে গায়ে মাখতে ইচ্ছে করেছে,\\nবেলা শেষে কখনো কি আমাকে ছাড়া নিজেকে খুব একা মনে হয়েছে,\\nআকাশের কোন মেঘে কি খুঁজেছিলে আমাকে, কোন দিন,\\nকখনো কি চিৎকার করে বলতে চেয়েছ-ভালোবাসি,\\nখুব রোদে প্রচণ্ড পিপাসায় কখনো কি\\nআমার ঠোঁটে ঠোঁট ছোঁয়াতে ইচ্ছে করেছে,\\nকখনো কি ইচ্ছে করেছে রাস্তার ল্যাম্পপোস্টের নিচে বসে\\nহাতটি চেপে ধরে নিরবে মাথাটা কাঁধে রাখতে,\\nঅসংখ্য শব্দের ভিড়ে তোমার কানে বাজে কি আমার-কোন কথা,\\nতোমার কি কখনো মেঘ হতে ইচ্ছা করেছে\\nইচ্ছা করেছে, হঠাৎ আমার উপর বৃষ্টি হয়ে ঝড়তে,\\nকখনো কি আমার দড়জায় কড়া নেড়ে\\nঘুম ভাঙাতে চেয়েছিলে,\\nকখনো কি গভীর ঘুমে আমার কপালে\\nচুমু খেতে ইচ্ছে হয়েছে,\\nকখনো কি ইচ্ছা হয়েছে অদৃশ্য হয়ে\\nমিশে যেতে আমার নিঃশ্বাসে,\\nকখনো কি ভেবেছ যতটা কষ্ট তুমি পাও;\\nআমিও তা পাই কিনা।\\n\\nতুমি আমার কবিতাই হও;\\nকবিতারা কখনো নিরাশ করে না,\\nচাইলেই বিশাল আকাশ হবে,\\nচাইলেই মেঘ হবে তুমি, ক্ষণে ক্ষণে বৃষ্টি হয়ে ভেজাবে আমায়,\\nচাইলেই ফুল হবে তুমি, আমি ভ্রমরের মতো সুবাস নেব,\\nচাইলেই বেঁকে যাওয়া গলিপথ হবে তুমি,\\nচাইলেই নীল শাড়িতে সাজবে তুমি,\\nখুব শীতে কুয়াশার চাদর হবে তুমি,\\nমধ্য রাতে ভীষন নিস্তব্ধতায়; বীণার সুর হবে তুমি,\\nতুমি একটি অনবদ্য কবিতা হও!\\nতুমি চিরন্তন হও, হও সত্যের মতো অবিনাশী,\\nতুমি মাটির মতো পবিত্র হও,\\nহও সূর্যের মতো তেজস্বী।\\n…\\nআমি একবিংশ শতকের একটি বিপন্ন কাক বলছি;\\nডানায় আমার তেজষ্ক্রিয়তায় ঝলসানো ক্ষত,\\nদানবীয় দূষণে অন্ধপ্রায় দুটো চোখ,\\nফুসফুসে জমে আছে বারুদের অবশেষ,\\nডাস্টবিনের এক কোণে যেখানে ঘন অন্ধকার, সেখানে বেঁধেছি ঘর।\\n\\nকতোদিন! সূর্যের আলো দেখিনা;\\nখুব ইচ্ছে করে, দিনের আলোয় একদিন পৃথিবী ঘুরে দেখি,\\nঅথচ আলোয় গেলে মনে হয়, খসে পড়বে আমার পাখনা যুগল,\\nসেকি ভয়ানক যন্ত্রণা আমার সারাশরীর জুড়ে,\\nযদি কষ্টগুলোকে শহরের বিশাল বিলবোর্ডে টাঙ্গিয়ে দিতে পারতাম;\\nদেখাতাম, সুন্দর শারীরিক অবয়বে মানুষনামী বর্বর খুনিদের-\\nএ কর্কশ কন্ঠের কাকেরও আছে পুত্র শোক,\\nআছে সঙ্গিনীকে হারিয়ে ভীষণ একা হওয়ার তীব্র বেদনা।\\n\\nআমিতো কখনো প্লাকার্ড হাতে চিৎকার করে কোন দাবি তুলিনি,\\nকখনোতো চাইনি তোমাদের রসনা-বিলাসের কোন অংশ,\\nআমিতো সেদিনও ডাস্টবিনে খুঁজেছি সদ্য জন্মানো সন্তানের জন্য সামান্য অন্ন,\\nহয়তো আমার প্রতীক্ষায় পথের দিকে চেয়ে ছিল প্রিয় সঙ্গিনী,\\nসেদিনতো তোমাদের অশান্ত মিছিলে আমি কোন পক্ষেই ছিলাম না;\\nতবে কেন ফুটপাতের কদম গাছটাকে হাতবোমায় উড়িয়ে দিলে,\\nজ্বালিয়ে দিয়েছিলে আমার খড়ের প্রাসাদ!\\nআমার সন্তান মৃত্যুর সময় হয়তো সামান্য চিৎকার করতে পারেনি,\\nসঙ্গিনীকে পেয়েছি মস্তক-বিহীন বেওয়ারিশ লাশ রূপে,\\nসেদিন একবুক ঘৃনায় নির্বাক হয়ে গেছি-\\nআর কোনদিন আমার কণ্ঠস্বর ধ্বনিত হয়নি শহুরে বাতাসে।\\n\\nএইতো সেদিন স্বপ্নে সঙ্গিনী ফিরে এসেছিল\\nদুজনে উড়েছিলাম সুদূরে বহুক্ষণ,\\nনিঃসঙ্গতাকে বিদায় দিয়েছিলাম ভ্রান্ত কল্পনায়,\\nঅথচ ক্ষনিক বাদে খুব কেঁদেছি,\\nএকাকীত্বের সাগরে যেন ডুবে গেছি,\\nবড় বেশি কুৎসিত মনে হয়েছে শহুরে জ্যোৎস্না!\\nমনে হয়েছে শুধু মৃত্যুই পারে-\\nতোমাদের কলুষিত পৃথিবী নামক ‘স্বর্গ’ থেকে আমাকে মুক্তি দিতে।\\n\\nতেমন কোন বাসনাতো আমার ছিল না;\\nচেয়েছি ডাস্টবিনে ফেলে রাখা খাদ্যের অবশেষ,\\nআর দিগন্ত বিস্তৃত আকাশে মুক্ত অবগাহন,\\nতোমরা আমাকে কি করুণা দেখাবে?\\nনিজেরাইতো নিজেদের বানিয়ে রেখেছ চির আজ্ঞাবহ দাস,\\nকখনো কোন কাক কি অধিকার চেয়ে তোমাদের চাবুক মেরেছে?\\nনাকি তোমাদের চোখকে উপাদেয় খাদ্য ভেবে উপড়ে ফেলেছে?\\nতোমরাতো রোজ স্বজাতির রক্তে মেটাও পাশবিক তৃষ্ণা,\\nকামানকে করেছ শাসনের হাতিয়ার,\\nশহর জ্বালিয়ে, ফসল পুড়িয়ে তোমাদের আজন্ম উল্লাস।\\n\\nতোমাদের জন্ম থেকে শবাধার বিস্তৃত এক দাসত্ব শৃঙ্খল,\\nতোমাদের প্রার্থণা বেদীতে আমি কখনো কোন আশ্রয় খুজিনি,\\nকখনোও মাথা ঠুকিনি মৃতপ্রায় জীর্ণ কাক বলে,\\nমৃত্যুর মুখোমুখি দাঁড়িয়ে অনুতাপ করিনি,\\nনিজেকে গর্বিত ভেবেছি মানুষ হইনি বলে!\\nমিথ্যা আর প্রলোভনে কলুষিত তোমাদের আত্মা,\\nনিঃশ্বাসে যেন ভেসে আসে অনন্ত অভিশাপ,\\nতোমাদের বিক্ষুব্ধ আত্মাদের মিছিলে প্রকম্পিত ধ্বনি\\nযেন নিজ সভ্যতাকে ধ্বংসের ফরিয়াদ।\\n\\nএকদিন আমি মিশে যাব ঘন অন্ধকারে,\\nদুর্গন্ধময় কোন ভাগাড়ে আবর্জনার স্তুপে পড়ে রব,\\nসূর্যোদয়, সূর্যাস্তে বিচলিত হব না আর,\\nসকল ব্যথা-কষ্টের ঊর্ধ্বে চলে যাব-\\nযেখানে অনেক আগেই চলে গেছে প্রিয়তমা,\\nযেখানে আছে অসীম আকাশ আর ডানা মেলার নিঃশর্ত অধিকার।\\nশুধু নিয়ে যাব অসীম ঘৃণা,  স্বপ্ন ভাঙার কাতরতা,\\nআর মানুষ না হওয়ার সীমাহীন গৌরব!\\nরেখে যাব একটি কাকের দীর্ঘশ্বাস-\\nযে মানুষের পৃথিবীতে শুধু উড়তে চেয়েছিল।\\n…\\n'"
            ]
          },
          "execution_count": 149,
          "metadata": {},
          "output_type": "execute_result"
        }
      ],
      "source": [
        "poem_text"
      ]
    },
    {
      "cell_type": "code",
      "execution_count": null,
      "metadata": {
        "colab": {
          "base_uri": "https://localhost:8080/"
        },
        "id": "IUfrLDDCWTgY",
        "outputId": "4619bf75-e386-4953-c55e-313065947660"
      },
      "outputs": [
        {
          "output_type": "execute_result",
          "data": {
            "text/plain": [
              "(1, 35)"
            ]
          },
          "metadata": {},
          "execution_count": 68
        }
      ],
      "source": [
        "new_target_sequences.shape"
      ]
    },
    {
      "cell_type": "code",
      "execution_count": null,
      "metadata": {
        "id": "KUXNGyWhWpyu"
      },
      "outputs": [],
      "source": [
        "\n",
        "import matplotlib.pyplot as plt\n",
        "import keras\n",
        "from keras.models import Model\n",
        "from keras.layers import Input, Embedding, LSTM, Dense,BatchNormalization\n",
        "from keras.optimizers import Adam\n",
        "from keras.callbacks import ModelCheckpoint, EarlyStopping\n",
        "from keras.layers import LSTM, Dropout\n",
        "#from keras.models import Model\n",
        "#from keras.layers import Input, Embedding, LSTM, Dense\n",
        "#from keras.optimizers import Adam\n",
        "#from keras.callbacks import ModelCheckpoint, EarlyStopping\n",
        "#from keras.preprocessing.sequence import pad_sequences\n",
        "#from keras.utils import to_categorical\n"
      ]
    },
    {
      "cell_type": "code",
      "execution_count": null,
      "metadata": {
        "id": "MyoWthBPUkNm",
        "colab": {
          "base_uri": "https://localhost:8080/"
        },
        "outputId": "aed45855-e715-4e7b-d9e1-8f33ffe5c2b6"
      },
      "outputs": [
        {
          "output_type": "stream",
          "name": "stdout",
          "text": [
            "Model: \"model\"\n",
            "__________________________________________________________________________________________________\n",
            " Layer (type)                Output Shape                 Param #   Connected to                  \n",
            "==================================================================================================\n",
            " input_2 (InputLayer)        [(None, 35)]                 0         []                            \n",
            "                                                                                                  \n",
            " input_1 (InputLayer)        [(None, 35)]                 0         []                            \n",
            "                                                                                                  \n",
            " embedding (Embedding)       (None, 35, 50)               874550    ['input_1[0][0]',             \n",
            "                                                                     'input_2[0][0]']             \n",
            "                                                                                                  \n",
            " lstm (LSTM)                 [(None, 100),                60400     ['embedding[0][0]']           \n",
            "                              (None, 100),                                                        \n",
            "                              (None, 100)]                                                        \n",
            "                                                                                                  \n",
            " lstm_1 (LSTM)               [(None, 35, 100),            60400     ['embedding[1][0]',           \n",
            "                              (None, 100),                           'lstm[0][1]',                \n",
            "                              (None, 100)]                           'lstm[0][2]']                \n",
            "                                                                                                  \n",
            " batch_normalization_1 (Bat  (None, 35, 100)              400       ['lstm_1[0][0]']              \n",
            " chNormalization)                                                                                 \n",
            "                                                                                                  \n",
            " dense (Dense)               (None, 35, 17491)            1766591   ['batch_normalization_1[0][0]'\n",
            "                                                                    ]                             \n",
            "                                                                                                  \n",
            "==================================================================================================\n",
            "Total params: 2762341 (10.54 MB)\n",
            "Trainable params: 1887591 (7.20 MB)\n",
            "Non-trainable params: 874750 (3.34 MB)\n",
            "__________________________________________________________________________________________________\n"
          ]
        }
      ],
      "source": [
        "\n",
        "# Encoder\n",
        "encoder_inputs = Input(shape=(max_sequence_length,))\n",
        "embedding_layer = Embedding(input_dim=vocab_size, output_dim=50, weights=[embedding_layer_weights], trainable=False)\n",
        "encoder_embedding = embedding_layer(encoder_inputs)\n",
        "\n",
        "# Add Dropout to Encoder LSTM\n",
        "encoder_lstm = LSTM(units=100, return_state=True, dropout=0.5, recurrent_dropout=0.5)\n",
        "encoder_outputs, state_h, state_c = encoder_lstm(encoder_embedding)\n",
        "encoder_outputs = BatchNormalization()(encoder_outputs)\n",
        "encoder_states = [state_h, state_c]\n",
        "\n",
        "# Decoder\n",
        "decoder_inputs = Input(shape=(max_sequence_length,))\n",
        "decoder_embedding = embedding_layer(decoder_inputs)\n",
        "\n",
        "# Add Dropout to Decoder LSTM\n",
        "decoder_lstm = LSTM(units=100, return_sequences=True, return_state=True, dropout=0.5, recurrent_dropout=0.5)\n",
        "decoder_outputs, _, _ = decoder_lstm(decoder_embedding, initial_state=encoder_states)\n",
        "decoder_outputs = BatchNormalization()(decoder_outputs)\n",
        "\n",
        "decoder_dense = Dense(vocab_size, activation='softmax')\n",
        "decoder_outputs = decoder_dense(decoder_outputs)\n",
        "\n",
        "# Model\n",
        "model = Model([encoder_inputs, decoder_inputs], decoder_outputs)\n",
        "\n",
        "# Compile the model with specific learning rate\n",
        "learning_rate = 0.01\n",
        "optimizer = Adam(learning_rate=learning_rate)\n",
        "model.compile(optimizer=optimizer, loss='categorical_crossentropy', metrics=['accuracy'])\n",
        "\n",
        "# Print model summary\n",
        "model.summary()\n",
        "\n",
        "# Define callbacks\n",
        "checkpoint = ModelCheckpoint(\"best_model.h5\", save_best_only=True)\n",
        "early_stopping = EarlyStopping(monitor='loss', patience=5)\n"
      ]
    },
    {
      "cell_type": "code",
      "source": [
        "# Encoder\n",
        "encoder_inputs = Input(shape=(max_sequence_length, vocab_size))  # One-hot encoded vectors\n",
        "encoder_lstm = LSTM(units=10, return_state=True, dropout=0.5, recurrent_dropout=0.5)\n",
        "encoder_outputs, state_h, state_c = encoder_lstm(encoder_inputs)\n",
        "encoder_outputs = BatchNormalization()(encoder_outputs)\n",
        "encoder_states = [state_h, state_c]\n",
        "\n",
        "# Decoder\n",
        "decoder_inputs = Input(shape=(max_sequence_length, vocab_size))  # One-hot encoded vectors\n",
        "decoder_lstm = LSTM(units=10, return_sequences=True, return_state=True, dropout=0.5, recurrent_dropout=0.5)\n",
        "decoder_outputs, _, _ = decoder_lstm(decoder_inputs, initial_state=encoder_states)\n",
        "decoder_outputs = BatchNormalization()(decoder_outputs)\n",
        "\n",
        "decoder_dense = Dense(vocab_size, activation='softmax')\n",
        "decoder_outputs = decoder_dense(decoder_outputs)\n",
        "\n",
        "# Model\n",
        "model = Model([encoder_inputs, decoder_inputs], decoder_outputs)\n",
        "\n",
        "# Compile the model with specific learning rate\n",
        "learning_rate = 0.03\n",
        "optimizer = Adam(learning_rate=learning_rate)\n",
        "model.compile(optimizer=optimizer, loss='categorical_crossentropy', metrics=['accuracy'])\n",
        "\n",
        "# Print model summary\n",
        "model.summary()\n",
        "\n",
        "# Define callbacks\n",
        "checkpoint = ModelCheckpoint(\"best_model.h5\", save_best_only=True)\n",
        "early_stopping = EarlyStopping(monitor='loss', patience=5)"
      ],
      "metadata": {
        "colab": {
          "base_uri": "https://localhost:8080/"
        },
        "id": "o4rMyfmJcd_l",
        "outputId": "9080b58c-ceb0-4c2b-e535-78462f044d32"
      },
      "execution_count": null,
      "outputs": [
        {
          "output_type": "stream",
          "name": "stdout",
          "text": [
            "Model: \"model_1\"\n",
            "__________________________________________________________________________________________________\n",
            " Layer (type)                Output Shape                 Param #   Connected to                  \n",
            "==================================================================================================\n",
            " input_3 (InputLayer)        [(None, 21, 17491)]          0         []                            \n",
            "                                                                                                  \n",
            " input_4 (InputLayer)        [(None, 21, 17491)]          0         []                            \n",
            "                                                                                                  \n",
            " lstm_2 (LSTM)               [(None, 10),                 700080    ['input_3[0][0]']             \n",
            "                              (None, 10),                                                         \n",
            "                              (None, 10)]                                                         \n",
            "                                                                                                  \n",
            " lstm_3 (LSTM)               [(None, 21, 10),             700080    ['input_4[0][0]',             \n",
            "                              (None, 10),                            'lstm_2[0][1]',              \n",
            "                              (None, 10)]                            'lstm_2[0][2]']              \n",
            "                                                                                                  \n",
            " batch_normalization_3 (Bat  (None, 21, 10)               40        ['lstm_3[0][0]']              \n",
            " chNormalization)                                                                                 \n",
            "                                                                                                  \n",
            " dense_1 (Dense)             (None, 21, 17491)            192401    ['batch_normalization_3[0][0]'\n",
            "                                                                    ]                             \n",
            "                                                                                                  \n",
            "==================================================================================================\n",
            "Total params: 1592601 (6.08 MB)\n",
            "Trainable params: 1592581 (6.08 MB)\n",
            "Non-trainable params: 20 (80.00 Byte)\n",
            "__________________________________________________________________________________________________\n"
          ]
        }
      ]
    },
    {
      "cell_type": "code",
      "source": [
        "input_sequences = to_categorical(input_sequences , num_classes=vocab_size)\n",
        "new_target_sequences= to_categorical(new_target_sequences , num_classes=vocab_size-1)"
      ],
      "metadata": {
        "id": "y5ug2Bgzvra8"
      },
      "execution_count": null,
      "outputs": []
    },
    {
      "cell_type": "code",
      "execution_count": null,
      "metadata": {
        "colab": {
          "base_uri": "https://localhost:8080/"
        },
        "id": "MuPhr0LSU5dW",
        "outputId": "a84236e4-125f-491a-bfce-495d80295998"
      },
      "outputs": [
        {
          "output_type": "stream",
          "name": "stdout",
          "text": [
            "Epoch 1/30\n",
            "51/51 [==============================] - 65s 1s/step - loss: 3.2450 - accuracy: 0.7517 - val_loss: 2.4216 - val_accuracy: 0.7855\n",
            "Epoch 2/30\n",
            "51/51 [==============================] - 56s 1s/step - loss: 1.7614 - accuracy: 0.7792 - val_loss: 2.3631 - val_accuracy: 0.7842\n",
            "Epoch 3/30\n",
            "51/51 [==============================] - 56s 1s/step - loss: 1.6555 - accuracy: 0.7800 - val_loss: 1.9419 - val_accuracy: 0.7842\n",
            "Epoch 4/30\n",
            "51/51 [==============================] - 57s 1s/step - loss: 1.5970 - accuracy: 0.7809 - val_loss: 1.7525 - val_accuracy: 0.7848\n",
            "Epoch 5/30\n",
            "51/51 [==============================] - 56s 1s/step - loss: 1.5612 - accuracy: 0.7817 - val_loss: 1.7196 - val_accuracy: 0.7857\n",
            "Epoch 6/30\n",
            "51/51 [==============================] - 56s 1s/step - loss: 1.5347 - accuracy: 0.7820 - val_loss: 1.6870 - val_accuracy: 0.7865\n",
            "Epoch 7/30\n",
            "51/51 [==============================] - 57s 1s/step - loss: 1.5130 - accuracy: 0.7827 - val_loss: 1.6765 - val_accuracy: 0.7875\n",
            "Epoch 8/30\n",
            "51/51 [==============================] - 62s 1s/step - loss: 1.4956 - accuracy: 0.7832 - val_loss: 1.6690 - val_accuracy: 0.7892\n",
            "Epoch 9/30\n",
            "51/51 [==============================] - 54s 1s/step - loss: 1.4798 - accuracy: 0.7832 - val_loss: 1.6706 - val_accuracy: 0.7899\n",
            "Epoch 10/30\n",
            "51/51 [==============================] - 52s 1s/step - loss: 1.4650 - accuracy: 0.7837 - val_loss: 1.6790 - val_accuracy: 0.7901\n",
            "Epoch 11/30\n",
            "51/51 [==============================] - 52s 1s/step - loss: 1.4470 - accuracy: 0.7838 - val_loss: 1.6716 - val_accuracy: 0.7909\n",
            "Epoch 12/30\n",
            "51/51 [==============================] - 55s 1s/step - loss: 1.4349 - accuracy: 0.7837 - val_loss: 1.6773 - val_accuracy: 0.7909\n",
            "Epoch 13/30\n",
            "51/51 [==============================] - 51s 1s/step - loss: 1.4204 - accuracy: 0.7840 - val_loss: 1.6713 - val_accuracy: 0.7898\n",
            "Epoch 14/30\n",
            "51/51 [==============================] - 56s 1s/step - loss: 1.4075 - accuracy: 0.7845 - val_loss: 1.6883 - val_accuracy: 0.7901\n",
            "Epoch 15/30\n",
            "51/51 [==============================] - 54s 1s/step - loss: 1.3952 - accuracy: 0.7852 - val_loss: 1.6843 - val_accuracy: 0.7906\n",
            "Epoch 16/30\n",
            "51/51 [==============================] - 54s 1s/step - loss: 1.3794 - accuracy: 0.7847 - val_loss: 1.6983 - val_accuracy: 0.7917\n",
            "Epoch 17/30\n",
            "51/51 [==============================] - 54s 1s/step - loss: 1.3676 - accuracy: 0.7855 - val_loss: 1.6829 - val_accuracy: 0.7910\n",
            "Epoch 18/30\n",
            "51/51 [==============================] - 54s 1s/step - loss: 1.3566 - accuracy: 0.7857 - val_loss: 1.6969 - val_accuracy: 0.7914\n",
            "Epoch 19/30\n",
            "51/51 [==============================] - 66s 1s/step - loss: 1.3456 - accuracy: 0.7854 - val_loss: 1.6886 - val_accuracy: 0.7911\n",
            "Epoch 20/30\n",
            "51/51 [==============================] - 54s 1s/step - loss: 1.3351 - accuracy: 0.7856 - val_loss: 1.6934 - val_accuracy: 0.7922\n",
            "Epoch 21/30\n",
            "51/51 [==============================] - 55s 1s/step - loss: 1.3243 - accuracy: 0.7864 - val_loss: 1.6845 - val_accuracy: 0.7919\n",
            "Epoch 22/30\n",
            "51/51 [==============================] - 54s 1s/step - loss: 1.3138 - accuracy: 0.7871 - val_loss: 1.6916 - val_accuracy: 0.7911\n",
            "Epoch 23/30\n",
            "51/51 [==============================] - 54s 1s/step - loss: 1.3062 - accuracy: 0.7869 - val_loss: 1.7113 - val_accuracy: 0.7926\n",
            "Epoch 24/30\n",
            "51/51 [==============================] - 53s 1s/step - loss: 1.2965 - accuracy: 0.7867 - val_loss: 1.6914 - val_accuracy: 0.7943\n",
            "Epoch 25/30\n",
            "51/51 [==============================] - 51s 999ms/step - loss: 1.2877 - accuracy: 0.7874 - val_loss: 1.6867 - val_accuracy: 0.7943\n",
            "Epoch 26/30\n",
            "51/51 [==============================] - 53s 1s/step - loss: 1.2794 - accuracy: 0.7880 - val_loss: 1.7104 - val_accuracy: 0.7942\n",
            "Epoch 27/30\n",
            "51/51 [==============================] - 53s 1s/step - loss: 1.2690 - accuracy: 0.7881 - val_loss: 1.6855 - val_accuracy: 0.7945\n",
            "Epoch 28/30\n",
            "51/51 [==============================] - 54s 1s/step - loss: 1.2642 - accuracy: 0.7879 - val_loss: 1.6995 - val_accuracy: 0.7947\n",
            "Epoch 29/30\n",
            "51/51 [==============================] - 55s 1s/step - loss: 1.2577 - accuracy: 0.7888 - val_loss: 1.7008 - val_accuracy: 0.7939\n",
            "Epoch 30/30\n",
            "51/51 [==============================] - 55s 1s/step - loss: 1.2485 - accuracy: 0.7881 - val_loss: 1.7120 - val_accuracy: 0.7927\n"
          ]
        }
      ],
      "source": [
        "# Fit the model with teacher forcing\n",
        "epochs = 30\n",
        "batch_size = 32\n",
        "\n",
        "history = model.fit(\n",
        "    [input_sequences, new_target_sequences],\n",
        "    one_hot_target_sequences,\n",
        "    epochs=epochs,\n",
        "    batch_size=batch_size,\n",
        "    validation_split=0.2,\n",
        "    callbacks=[checkpoint, early_stopping,]\n",
        ")\n",
        "\n"
      ]
    },
    {
      "cell_type": "code",
      "execution_count": null,
      "metadata": {
        "id": "wBR5DsZf8Vcl",
        "colab": {
          "base_uri": "https://localhost:8080/",
          "height": 472
        },
        "outputId": "6b94b3e4-63c3-47cb-acb7-7880262adcf8"
      },
      "outputs": [
        {
          "output_type": "display_data",
          "data": {
            "text/plain": [
              "<Figure size 640x480 with 1 Axes>"
            ],
            "image/png": "[encoded data removed]"
          },
          "metadata": {}
        }
      ],
      "source": [
        "import matplotlib.pyplot as plt\n",
        "\n",
        "# Assuming you have the 'history' object from your model.fit()\n",
        "\n",
        "# Access loss and validation loss from the history object\n",
        "training_loss = history.history['loss']\n",
        "validation_loss = history.history['val_loss']\n",
        "\n",
        "# Plot the training and validation loss\n",
        "plt.plot(training_loss, label='Training Loss')\n",
        "plt.plot(validation_loss, label='Validation Loss')\n",
        "\n",
        "# Add labels and title\n",
        "plt.xlabel('Epochs')\n",
        "plt.ylabel('Loss')\n",
        "plt.title('Training and Validation Loss Over Epochs')\n",
        "\n",
        "# Add legend\n",
        "plt.legend()\n",
        "\n",
        "# Show the plot\n",
        "plt.show()\n"
      ]
    },
    {
      "cell_type": "code",
      "source": [
        "import matplotlib.pyplot as plt\n",
        "\n",
        "# Assuming 'history' contains the recorded training and validation accuracy\n",
        "training_accuracy = history.history['accuracy']\n",
        "validation_accuracy = history.history['val_accuracy']\n",
        "\n",
        "# Assuming 'epochs' contains the number of epochs\n",
        "epochs = range(1, len(training_accuracy) + 1)\n",
        "\n",
        "# Plotting training and validation accuracy\n",
        "plt.plot(epochs, training_accuracy, label='Training Accuracy')\n",
        "plt.plot(epochs, validation_accuracy, label='Validation Accuracy')\n",
        "\n",
        "# Adding labels and title\n",
        "plt.xlabel('Epochs')\n",
        "plt.ylabel('Accuracy')\n",
        "plt.title('Training and Validation Accuracy')\n",
        "plt.legend()  # Display the legend\n",
        "\n",
        "# Display the plot\n",
        "plt.show()\n"
      ],
      "metadata": {
        "colab": {
          "base_uri": "https://localhost:8080/",
          "height": 472
        },
        "id": "ZOEeFTeHX7be",
        "outputId": "2741b82e-5b40-4b40-8419-3b1145a7b091"
      },
      "execution_count": null,
      "outputs": [
        {
          "output_type": "display_data",
          "data": {
            "text/plain": [
              "<Figure size 640x480 with 1 Axes>"
            ],
            "image/png": "[encoded data removed]"
          },
          "metadata": {}
        }
      ]
    },
    {
      "cell_type": "code",
      "execution_count": null,
      "metadata": {
        "colab": {
          "base_uri": "https://localhost:8080/"
        },
        "id": "NdPmwzWK4Sjf",
        "outputId": "4cc052f2-058c-4d73-95ab-b8052ccb56a2"
      },
      "outputs": [
        {
          "output_type": "stream",
          "name": "stdout",
          "text": [
            "Model: \"model_1\"\n",
            "_________________________________________________________________\n",
            " Layer (type)                Output Shape              Param #   \n",
            "=================================================================\n",
            " input_1 (InputLayer)        [(None, 35)]              0         \n",
            "                                                                 \n",
            " embedding (Embedding)       (None, 35, 50)            874550    \n",
            "                                                                 \n",
            " lstm (LSTM)                 [(None, 100),             60400     \n",
            "                              (None, 100),                       \n",
            "                              (None, 100)]                       \n",
            "                                                                 \n",
            "=================================================================\n",
            "Total params: 934950 (3.57 MB)\n",
            "Trainable params: 60400 (235.94 KB)\n",
            "Non-trainable params: 874550 (3.34 MB)\n",
            "_________________________________________________________________\n"
          ]
        }
      ],
      "source": [
        "encoder_model = Model(encoder_inputs, encoder_states)\n",
        "encoder_model.summary()"
      ]
    },
    {
      "cell_type": "code",
      "execution_count": null,
      "metadata": {
        "id": "L0M-jRr_e93u",
        "colab": {
          "base_uri": "https://localhost:8080/"
        },
        "outputId": "a69ba6c3-8321-47ba-82c6-af31352c852f"
      },
      "outputs": [
        {
          "output_type": "stream",
          "name": "stdout",
          "text": [
            "Model: \"model_2\"\n",
            "__________________________________________________________________________________________________\n",
            " Layer (type)                Output Shape                 Param #   Connected to                  \n",
            "==================================================================================================\n",
            " input_2 (InputLayer)        [(None, 35)]                 0         []                            \n",
            "                                                                                                  \n",
            " embedding (Embedding)       (None, 35, 50)               874550    ['input_2[0][0]']             \n",
            "                                                                                                  \n",
            " input_3 (InputLayer)        [(None, 100)]                0         []                            \n",
            "                                                                                                  \n",
            " input_4 (InputLayer)        [(None, 100)]                0         []                            \n",
            "                                                                                                  \n",
            " lstm_1 (LSTM)               [(None, 35, 100),            60400     ['embedding[2][0]',           \n",
            "                              (None, 100),                           'input_3[0][0]',             \n",
            "                              (None, 100)]                           'input_4[0][0]']             \n",
            "                                                                                                  \n",
            " batch_normalization_1 (Bat  (None, 35, 100)              400       ['lstm_1[1][0]']              \n",
            " chNormalization)                                                                                 \n",
            "                                                                                                  \n",
            " dense (Dense)               (None, 35, 17491)            1766591   ['batch_normalization_1[1][0]'\n",
            "                                                                    ]                             \n",
            "                                                                                                  \n",
            "==================================================================================================\n",
            "Total params: 2701941 (10.31 MB)\n",
            "Trainable params: 1827191 (6.97 MB)\n",
            "Non-trainable params: 874750 (3.34 MB)\n",
            "__________________________________________________________________________________________________\n"
          ]
        }
      ],
      "source": [
        "decoder_model = Model([decoder_inputs,encoder_states],decoder_outputs)\n",
        "decoder_model.summary()"
      ]
    },
    {
      "cell_type": "code",
      "source": [
        "encoder_model.save('poem_encoder_model.h5')\n",
        "decoder_model.save('poem_decoder_model.h5')"
      ],
      "metadata": {
        "colab": {
          "base_uri": "https://localhost:8080/"
        },
        "id": "14Fmh9QUYh8O",
        "outputId": "38c35abb-b95e-4a5d-cba6-f29e6316c70b"
      },
      "execution_count": null,
      "outputs": [
        {
          "output_type": "stream",
          "name": "stderr",
          "text": [
            "WARNING:tensorflow:Compiled the loaded model, but the compiled metrics have yet to be built. `model.compile_metrics` will be empty until you train or evaluate the model.\n",
            "WARNING:tensorflow:Compiled the loaded model, but the compiled metrics have yet to be built. `model.compile_metrics` will be empty until you train or evaluate the model.\n"
          ]
        }
      ]
    },
    {
      "cell_type": "code",
      "execution_count": null,
      "metadata": {
        "colab": {
          "base_uri": "https://localhost:8080/",
          "height": 1000
        },
        "id": "JjfMAiwv437o",
        "outputId": "5f4b93d9-6b61-4161-81ec-5bbadb1d6d18"
      },
      "outputs": [
        {
          "output_type": "stream",
          "name": "stdout",
          "text": [
            "1/1 [==============================] - 0s 26ms/step\n",
            "1/1 [==============================] - 0s 32ms/step\n",
            "[[[2.9350622e-06 1.3394633e-07 1.3573685e-07 ... 1.3191421e-07\n",
            "   1.4263625e-07 1.1182065e-07]\n",
            "  [9.3275869e-01 3.1448522e-08 3.1001850e-08 ... 2.7938848e-08\n",
            "   3.3281772e-08 2.4037570e-08]\n",
            "  [9.9346304e-01 6.5515509e-09 6.7228489e-09 ... 5.9060672e-09\n",
            "   7.1176256e-09 5.0432742e-09]\n",
            "  ...\n",
            "  [9.9987102e-01 7.7471168e-10 7.6068002e-10 ... 6.9485118e-10\n",
            "   7.7702617e-10 5.5700966e-10]\n",
            "  [9.9986875e-01 8.1475116e-10 7.9994850e-10 ... 7.3091794e-10\n",
            "   8.1716189e-10 5.8614186e-10]\n",
            "  [9.9986851e-01 8.2021601e-10 8.0528950e-10 ... 7.3585421e-10\n",
            "   8.2265078e-10 5.9015554e-10]]]\n",
            " আমার\n",
            "1/1 [==============================] - 0s 32ms/step\n",
            "[[[2.9350622e-06 1.3394633e-07 1.3573685e-07 ... 1.3191421e-07\n",
            "   1.4263625e-07 1.1182065e-07]\n",
            "  [7.6637640e-05 2.1919256e-07 2.2627323e-07 ... 2.2012559e-07\n",
            "   2.3666418e-07 1.9681602e-07]\n",
            "  [9.9288261e-01 7.1383806e-09 7.0873023e-09 ... 6.2666428e-09\n",
            "   7.6339068e-09 5.6028617e-09]\n",
            "  ...\n",
            "  [9.9986422e-01 8.2270840e-10 8.0813106e-10 ... 7.3779183e-10\n",
            "   8.2530954e-10 5.9084682e-10]\n",
            "  [9.9986410e-01 8.2331580e-10 8.0872931e-10 ... 7.3835627e-10\n",
            "   8.2592994e-10 5.9133037e-10]\n",
            "  [9.9986410e-01 8.2393481e-10 8.0933726e-10 ... 7.3892831e-10\n",
            "   8.2656026e-10 5.9182120e-10]]]\n",
            " আমার না\n",
            "1/1 [==============================] - 0s 33ms/step\n",
            "[[[2.9350622e-06 1.3394633e-07 1.3573685e-07 ... 1.3191421e-07\n",
            "   1.4263625e-07 1.1182065e-07]\n",
            "  [7.6637640e-05 2.1919256e-07 2.2627323e-07 ... 2.2012559e-07\n",
            "   2.3666418e-07 1.9681602e-07]\n",
            "  [1.2732405e-06 3.4985359e-08 3.6761111e-08 ... 3.3790108e-08\n",
            "   3.8372924e-08 2.9488959e-08]\n",
            "  ...\n",
            "  [9.9981230e-01 1.2056418e-09 1.1872603e-09 ... 1.0964499e-09\n",
            "   1.2193394e-09 9.0220414e-10]\n",
            "  [9.9981219e-01 1.2068174e-09 1.1884201e-09 ... 1.0975546e-09\n",
            "   1.2205493e-09 9.0317687e-10]\n",
            "  [9.9981207e-01 1.2080010e-09 1.1895858e-09 ... 1.0986645e-09\n",
            "   1.2217649e-09 9.0415397e-10]]]\n",
            " আমার না হয়\n",
            "1/1 [==============================] - 0s 34ms/step\n",
            "[[[2.9350622e-06 1.3394633e-07 1.3573685e-07 ... 1.3191421e-07\n",
            "   1.4263625e-07 1.1182065e-07]\n",
            "  [7.6637640e-05 2.1919256e-07 2.2627323e-07 ... 2.2012559e-07\n",
            "   2.3666418e-07 1.9681602e-07]\n",
            "  [1.2732405e-06 3.4985359e-08 3.6761111e-08 ... 3.3790108e-08\n",
            "   3.8372924e-08 2.9488959e-08]\n",
            "  ...\n",
            "  [9.9980110e-01 1.3128924e-09 1.2930385e-09 ... 1.1982236e-09\n",
            "   1.3301026e-09 9.9340391e-10]\n",
            "  [9.9980098e-01 1.3133907e-09 1.2935293e-09 ... 1.1986944e-09\n",
            "   1.3306148e-09 9.9382269e-10]\n",
            "  [9.9980098e-01 1.3139019e-09 1.2940327e-09 ... 1.1991769e-09\n",
            "   1.3311403e-09 9.9425113e-10]]]\n",
            " আমার না হয় তোমার\n",
            "1/1 [==============================] - 0s 34ms/step\n",
            "[[[2.9350622e-06 1.3394633e-07 1.3573685e-07 ... 1.3191421e-07\n",
            "   1.4263625e-07 1.1182065e-07]\n",
            "  [7.6637640e-05 2.1919256e-07 2.2627323e-07 ... 2.2012559e-07\n",
            "   2.3666418e-07 1.9681602e-07]\n",
            "  [1.2732405e-06 3.4985359e-08 3.6761111e-08 ... 3.3790108e-08\n",
            "   3.8372924e-08 2.9488959e-08]\n",
            "  ...\n",
            "  [9.9979526e-01 1.3559379e-09 1.3357107e-09 ... 1.2391368e-09\n",
            "   1.3747371e-09 1.0299389e-09]\n",
            "  [9.9979538e-01 1.3561554e-09 1.3359197e-09 ... 1.2393332e-09\n",
            "   1.3749549e-09 1.0301100e-09]\n",
            "  [9.9979526e-01 1.3563750e-09 1.3361362e-09 ... 1.2395364e-09\n",
            "   1.3751803e-09 1.0302847e-09]]]\n",
            " আমার না হয় তোমার ,\n",
            "1/1 [==============================] - 0s 36ms/step\n",
            "[[[2.9350622e-06 1.3394633e-07 1.3573685e-07 ... 1.3191421e-07\n",
            "   1.4263625e-07 1.1182065e-07]\n",
            "  [7.6637640e-05 2.1919256e-07 2.2627323e-07 ... 2.2012559e-07\n",
            "   2.3666418e-07 1.9681602e-07]\n",
            "  [1.2732405e-06 3.4985359e-08 3.6761111e-08 ... 3.3790108e-08\n",
            "   3.8372924e-08 2.9488959e-08]\n",
            "  ...\n",
            "  [9.9980921e-01 1.3399831e-09 1.3186803e-09 ... 1.2257949e-09\n",
            "   1.3580715e-09 1.0218719e-09]\n",
            "  [9.9980897e-01 1.3404711e-09 1.3191529e-09 ... 1.2262343e-09\n",
            "   1.3585634e-09 1.0222460e-09]\n",
            "  [9.9980885e-01 1.3409440e-09 1.3196109e-09 ... 1.2266599e-09\n",
            "   1.3590375e-09 1.0226086e-09]]]\n"
          ]
        },
        {
          "output_type": "error",
          "ename": "IndexError",
          "evalue": "list index out of range",
          "traceback": [
            "\u001b[0;31m---------------------------------------------------------------------------\u001b[0m",
            "\u001b[0;31mIndexError\u001b[0m                                Traceback (most recent call last)",
            "\u001b[0;32m<ipython-input-28-84fd1b2a6e38>\u001b[0m in \u001b[0;36m<cell line: 4>\u001b[0;34m()\u001b[0m\n\u001b[1;32m     29\u001b[0m \u001b[0;31m# Ensure that the sampled token is within the valid range\u001b[0m\u001b[0;34m\u001b[0m\u001b[0;34m\u001b[0m\u001b[0m\n\u001b[1;32m     30\u001b[0m         \u001b[0;32mif\u001b[0m \u001b[0msampled_token\u001b[0m \u001b[0;34m<\u001b[0m \u001b[0mlen\u001b[0m\u001b[0;34m(\u001b[0m\u001b[0mword_index\u001b[0m\u001b[0;34m)\u001b[0m\u001b[0;34m:\u001b[0m\u001b[0;34m\u001b[0m\u001b[0;34m\u001b[0m\u001b[0m\n\u001b[0;32m---> 31\u001b[0;31m           \u001b[0mword\u001b[0m \u001b[0;34m=\u001b[0m \u001b[0;34m[\u001b[0m\u001b[0mword\u001b[0m \u001b[0;32mfor\u001b[0m \u001b[0mword\u001b[0m\u001b[0;34m,\u001b[0m \u001b[0mindex\u001b[0m \u001b[0;32min\u001b[0m \u001b[0mword_index\u001b[0m\u001b[0;34m.\u001b[0m\u001b[0mitems\u001b[0m\u001b[0;34m(\u001b[0m\u001b[0;34m)\u001b[0m \u001b[0;32mif\u001b[0m \u001b[0mindex\u001b[0m \u001b[0;34m==\u001b[0m \u001b[0msampled_token\u001b[0m\u001b[0;34m]\u001b[0m\u001b[0;34m[\u001b[0m\u001b[0;36m0\u001b[0m\u001b[0;34m]\u001b[0m\u001b[0;34m\u001b[0m\u001b[0;34m\u001b[0m\u001b[0m\n\u001b[0m\u001b[1;32m     32\u001b[0m           \u001b[0mpred_line\u001b[0m \u001b[0;34m+=\u001b[0m \u001b[0;34m' '\u001b[0m \u001b[0;34m+\u001b[0m \u001b[0mword\u001b[0m\u001b[0;34m\u001b[0m\u001b[0;34m\u001b[0m\u001b[0m\n\u001b[1;32m     33\u001b[0m         \u001b[0;32melse\u001b[0m\u001b[0;34m:\u001b[0m\u001b[0;34m\u001b[0m\u001b[0;34m\u001b[0m\u001b[0m\n",
            "\u001b[0;31mIndexError\u001b[0m: list index out of range"
          ]
        }
      ],
      "source": [
        "seed_text = 'হাতে হাত রেখে পাড়ি দেব বিপ্লবী'\n",
        "result = seed_text\n",
        "seed = seed_text\n",
        "for _ in range(1):\n",
        "    decode_index = []\n",
        "    seed = seed\n",
        "    tokens = tokenizer.word_tokenize(seed)\n",
        "    encoded_seed = [word_index.get(word, word) for word in tokens]\n",
        "    max_sequence_length = max_sequence_length\n",
        "    padded_seed = pad_sequences([encoded_seed], maxlen=max_sequence_length, padding='post')\n",
        "\n",
        "    context_vector = encoder_model.predict(padded_seed)\n",
        "\n",
        "    target_seq = np.zeros((1, max_sequence_length))\n",
        "    target_seq[0][0] = start_token_id\n",
        "\n",
        "    stop_condition = False\n",
        "\n",
        "    it = 0\n",
        "    pred_line = ''\n",
        "    while not stop_condition:\n",
        "        output_tokens = decoder_model.predict([target_seq, context_vector])\n",
        "        print(output_tokens)\n",
        "        sampled_token = np.argmax(output_tokens[0, it, :])\n",
        "        decode_index.append(sampled_token)\n",
        "\n",
        "        word = [word for word, index in word_index.items() if index == sampled_token][0]\n",
        "        pred_line += ' ' + word\n",
        "\n",
        "        print(pred_line)\n",
        "\n",
        "        if sampled_token == token_id or it == (max_sequence_length - 1):\n",
        "            stop_condition = True\n",
        "\n",
        "        target_seq[0][it + 1] = sampled_token\n",
        "        it += 1\n",
        "\n",
        "    result += '\\n' + pred_line\n",
        "    seed = pred_line\n",
        "\n",
        "result\n"
      ]
    },
    {
      "cell_type": "code",
      "execution_count": null,
      "metadata": {
        "id": "a-CSxKb1bWQI",
        "colab": {
          "base_uri": "https://localhost:8080/"
        },
        "outputId": "1f25a873-c03a-4a38-fcbf-2e48cfa0a67c"
      },
      "outputs": [
        {
          "output_type": "execute_result",
          "data": {
            "text/plain": [
              "array([[[7.8861637e-04, 6.0178991e-08, 5.7957084e-08, ...,\n",
              "         8.6928743e-08, 5.9218209e-08, 5.9094155e-08],\n",
              "        [2.8150568e-03, 1.8376376e-07, 1.8922763e-07, ...,\n",
              "         1.8836178e-07, 1.9454296e-07, 1.9615669e-07],\n",
              "        [1.7466348e-02, 1.4124451e-07, 1.4428822e-07, ...,\n",
              "         1.5332823e-07, 1.3575283e-07, 1.4220956e-07],\n",
              "        ...,\n",
              "        [9.9987471e-01, 4.1958749e-11, 4.5412635e-11, ...,\n",
              "         3.1652559e-11, 5.0396711e-11, 5.1393344e-11],\n",
              "        [9.9987471e-01, 4.1958267e-11, 4.5412115e-11, ...,\n",
              "         3.1652257e-11, 5.0396038e-11, 5.1392755e-11],\n",
              "        [9.9987471e-01, 4.1951945e-11, 4.5405707e-11, ...,\n",
              "         3.1648816e-11, 5.0387867e-11, 5.1384813e-11]]], dtype=float32)"
            ]
          },
          "metadata": {},
          "execution_count": 32
        }
      ],
      "source": [
        "output_tokens.shape\n",
        "sampled_token = np.argmax(output_tokens[0, 0, :])\n",
        "output_tokens"
      ]
    },
    {
      "cell_type": "code",
      "execution_count": null,
      "metadata": {
        "id": "1JCjoql-4SwL",
        "colab": {
          "base_uri": "https://localhost:8080/"
        },
        "outputId": "28da2b18-2e7f-4bc4-d79a-a33a6ec757e2"
      },
      "outputs": [
        {
          "output_type": "execute_result",
          "data": {
            "text/plain": [
              "array([[12508, 12684, 12508, 12684,     0,     0,     0,     0,     0,\n",
              "            0,     0,     0,     0,     0,     0,     0,     0,     0,\n",
              "            0,     0,     0,     0,     0,     0,     0,     0,     0,\n",
              "            0,     0,     0,     0,     0,     0,     0,     0]])"
            ]
          },
          "metadata": {},
          "execution_count": 33
        }
      ],
      "source": [
        "np.argmax(output_tokens,axis=-1)"
      ]
    },
    {
      "cell_type": "code",
      "execution_count": null,
      "metadata": {
        "colab": {
          "base_uri": "https://localhost:8080/"
        },
        "id": "zeF7X0Y6JlbO",
        "outputId": "8aff723f-8899-4b5e-cc99-6e0e4b1635f8"
      },
      "outputs": [
        {
          "name": "stderr",
          "output_type": "stream",
          "text": [
            "WARNING:tensorflow:Compiled the loaded model, but the compiled metrics have yet to be built. `model.compile_metrics` will be empty until you train or evaluate the model.\n",
            "WARNING:tensorflow:Compiled the loaded model, but the compiled metrics have yet to be built. `model.compile_metrics` will be empty until you train or evaluate the model.\n"
          ]
        }
      ],
      "source": [
        "encoder_model.save('poem_encoder_model.h5')\n",
        "decoder_model.save('poem_decoder_model.h5')"
      ]
    },
    {
      "cell_type": "code",
      "execution_count": null,
      "metadata": {
        "id": "borAAUxWzlGc"
      },
      "outputs": [],
      "source": []
    },
    {
      "cell_type": "code",
      "execution_count": null,
      "metadata": {
        "colab": {
          "base_uri": "https://localhost:8080/",
          "height": 1000
        },
        "id": "UjxrZyWeromE",
        "outputId": "d2d3f878-69cf-49a1-80ad-c794d8f669ef"
      },
      "outputs": [
        {
          "output_type": "stream",
          "name": "stdout",
          "text": [
            "1/1 [==============================] - 0s 38ms/step\n",
            "[[17.  0.  0.  0.  0.  0.  0.  0.  0.  0.  0.  0.  0.  0.  0.  0.  0.  0.\n",
            "   0.  0.  0.  0.  0.  0.  0.  0.  0.  0.  0.  0.  0.  0.  0.  0.  0.]]\n",
            "1/1 [==============================] - 0s 52ms/step\n",
            "[[12508     0     0     0     0     0     0     0     0     0     0     0\n",
            "      0     0     0     0     0     0     0     0     0     0     0     0\n",
            "      0     0     0     0     0     0     0     0     0     0     0]]\n",
            "[[   17. 12508.     0.     0.     0.     0.     0.     0.     0.     0.\n",
            "      0.     0.     0.     0.     0.     0.     0.     0.     0.     0.\n",
            "      0.     0.     0.     0.     0.     0.     0.     0.     0.     0.\n",
            "      0.     0.     0.     0.     0.]]\n",
            "0\n",
            "  আমার\n",
            "1/1 [==============================] - 0s 48ms/step\n",
            "[[12508  2917     0     0     0     0     0     0     0     0     0     0\n",
            "      0     0     0     0     0     0     0     0     0     0     0     0\n",
            "      0     0     0     0     0     0     0     0     0     0     0]]\n",
            "[[   17. 12508.  2917.     0.     0.     0.     0.     0.     0.     0.\n",
            "      0.     0.     0.     0.     0.     0.     0.     0.     0.     0.\n",
            "      0.     0.     0.     0.     0.     0.     0.     0.     0.     0.\n",
            "      0.     0.     0.     0.     0.]]\n",
            "1\n",
            "  আমার না\n",
            "1/1 [==============================] - 0s 48ms/step\n",
            "[[12508  2917 14844     0     0     0     0     0     0     0     0     0\n",
            "      0     0     0     0     0     0     0     0     0     0     0     0\n",
            "      0     0     0     0     0     0     0     0     0     0     0]]\n",
            "[[   17. 12508.  2917. 14844.     0.     0.     0.     0.     0.     0.\n",
            "      0.     0.     0.     0.     0.     0.     0.     0.     0.     0.\n",
            "      0.     0.     0.     0.     0.     0.     0.     0.     0.     0.\n",
            "      0.     0.     0.     0.     0.]]\n",
            "2\n",
            "  আমার না হয়\n",
            "1/1 [==============================] - 0s 50ms/step\n",
            "[[12508  2917 14844 15753     0     0     0     0     0     0     0     0\n",
            "      0     0     0     0     0     0     0     0     0     0     0     0\n",
            "      0     0     0     0     0     0     0     0     0     0     0]]\n",
            "[[   17. 12508.  2917. 14844. 15753.     0.     0.     0.     0.     0.\n",
            "      0.     0.     0.     0.     0.     0.     0.     0.     0.     0.\n",
            "      0.     0.     0.     0.     0.     0.     0.     0.     0.     0.\n",
            "      0.     0.     0.     0.     0.]]\n",
            "3\n",
            "  আমার না হয় তোমার\n",
            "1/1 [==============================] - 0s 50ms/step\n",
            "[[12508  2917 14844 15753 12684     0     0     0     0     0     0     0\n",
            "      0     0     0     0     0     0     0     0     0     0     0     0\n",
            "      0     0     0     0     0     0     0     0     0     0     0]]\n",
            "[[   17. 12508.  2917. 14844. 15753. 12684.     0.     0.     0.     0.\n",
            "      0.     0.     0.     0.     0.     0.     0.     0.     0.     0.\n",
            "      0.     0.     0.     0.     0.     0.     0.     0.     0.     0.\n",
            "      0.     0.     0.     0.     0.]]\n",
            "4\n",
            "  আমার না হয় তোমার ,\n",
            "1/1 [==============================] - 0s 56ms/step\n",
            "[[12508  2917 14844 15753 12684     0     0     0     0     0     0     0\n",
            "      0     0     0     0     0     0     0     0     0     0     0     0\n",
            "      0     0     0     0     0     0     0     0     0     0     0]]\n",
            "[[   17. 12508.  2917. 14844. 15753. 12684.     0.     0.     0.     0.\n",
            "      0.     0.     0.     0.     0.     0.     0.     0.     0.     0.\n",
            "      0.     0.     0.     0.     0.     0.     0.     0.     0.     0.\n",
            "      0.     0.     0.     0.     0.]]\n",
            "5\n"
          ]
        },
        {
          "output_type": "error",
          "ename": "IndexError",
          "evalue": "list index out of range",
          "traceback": [
            "\u001b[0;31m---------------------------------------------------------------------------\u001b[0m",
            "\u001b[0;31mIndexError\u001b[0m                                Traceback (most recent call last)",
            "\u001b[0;32m<ipython-input-27-4d7edb1bceff>\u001b[0m in \u001b[0;36m<cell line: 4>\u001b[0;34m()\u001b[0m\n\u001b[1;32m     43\u001b[0m \u001b[0;34m\u001b[0m\u001b[0m\n\u001b[1;32m     44\u001b[0m       \u001b[0mdecode_index\u001b[0m\u001b[0;34m.\u001b[0m\u001b[0mappend\u001b[0m\u001b[0;34m(\u001b[0m\u001b[0moutput_token\u001b[0m\u001b[0;34m)\u001b[0m\u001b[0;34m\u001b[0m\u001b[0;34m\u001b[0m\u001b[0m\n\u001b[0;32m---> 45\u001b[0;31m       \u001b[0mword\u001b[0m \u001b[0;34m=\u001b[0m \u001b[0;34m[\u001b[0m\u001b[0mword\u001b[0m \u001b[0;32mfor\u001b[0m \u001b[0mword\u001b[0m\u001b[0;34m,\u001b[0m \u001b[0mindex\u001b[0m \u001b[0;32min\u001b[0m \u001b[0mword_index\u001b[0m\u001b[0;34m.\u001b[0m\u001b[0mitems\u001b[0m\u001b[0;34m(\u001b[0m\u001b[0;34m)\u001b[0m \u001b[0;32mif\u001b[0m \u001b[0mindex\u001b[0m \u001b[0;34m==\u001b[0m \u001b[0moutput_token\u001b[0m\u001b[0;34m[\u001b[0m\u001b[0;36m0\u001b[0m\u001b[0;34m]\u001b[0m\u001b[0;34m[\u001b[0m\u001b[0mit\u001b[0m\u001b[0;34m]\u001b[0m\u001b[0;34m]\u001b[0m\u001b[0;34m[\u001b[0m\u001b[0;36m0\u001b[0m\u001b[0;34m]\u001b[0m\u001b[0;34m\u001b[0m\u001b[0;34m\u001b[0m\u001b[0m\n\u001b[0m\u001b[1;32m     46\u001b[0m \u001b[0;34m\u001b[0m\u001b[0m\n\u001b[1;32m     47\u001b[0m       \u001b[0;32mif\u001b[0m\u001b[0;34m(\u001b[0m\u001b[0;34m(\u001b[0m\u001b[0moutput_token\u001b[0m\u001b[0;34m[\u001b[0m\u001b[0;36m0\u001b[0m\u001b[0;34m]\u001b[0m\u001b[0;34m[\u001b[0m\u001b[0mit\u001b[0m\u001b[0;34m]\u001b[0m \u001b[0;34m==\u001b[0m \u001b[0mtoken_id\u001b[0m\u001b[0;34m)\u001b[0m\u001b[0;34m)\u001b[0m\u001b[0;34m:\u001b[0m\u001b[0;34m\u001b[0m\u001b[0;34m\u001b[0m\u001b[0m\n",
            "\u001b[0;31mIndexError\u001b[0m: list index out of range"
          ]
        }
      ],
      "source": [
        "seed_text = 'হাতে হাত রেখে পাড়ি দেব বিপ্লবী '\n",
        "result = seed_text\n",
        "seed = seed_text\n",
        "for _ in range (1):\n",
        "    decode_index = []\n",
        "    seed = seed\n",
        "    tokens = tokenizer.word_tokenize(seed)\n",
        "    encoded_seed = [word_index.get(word, word) for word in tokens]\n",
        "    max_sequence_length = max_sequence_length\n",
        "    padded_seed = pad_sequences([encoded_seed], maxlen=max_sequence_length, padding='post')\n",
        "\n",
        "    context_vector = encoder_model.predict(padded_seed)\n",
        "\n",
        "    #print(context_vector)\n",
        "    #print(len(context_vector))\n",
        "\n",
        "\n",
        "\n",
        "    target_seq = np.zeros((1, max_sequence_length))\n",
        "    target_seq[0][0] = start_token_id\n",
        "    print(target_seq)\n",
        "    #embedded_target_seq = embedding_layer_weights[target_seq.astype(int)]\n",
        "    #print(context_vector+[target_seq])\n",
        "\n",
        "\n",
        "    stop_condition = False\n",
        "\n",
        "    it =0\n",
        "    pred_line =' '\n",
        "    while not stop_condition:\n",
        "      output_tokens = decoder_model.predict([target_seq,context_vector])\n",
        "      #print(output_tokens)\n",
        "      #print(output_tokens)\n",
        "      output_token =np.argmax(output_tokens,axis=-1)\n",
        "      print(output_token)\n",
        "      #target_seq = np.zeros((1, max_sequence_length))\n",
        "      target_seq[0,it+1]= output_token[0,it]\n",
        "      print(target_seq)\n",
        "      #pred_line = ' ' + pred_line\n",
        "\n",
        "      #print(pred_line)\n",
        "      print(it)\n",
        "\n",
        "      decode_index.append(output_token)\n",
        "      word = [word for word, index in word_index.items() if index == output_token[0][it]][0]\n",
        "\n",
        "      if((output_token[0][it] == token_id)):\n",
        "        stop_condition = True\n",
        "      elif((it == 33)):\n",
        "        stop_condition = True\n",
        "\n",
        "      #context_vector = [h,c]\n",
        "      pred_line = pred_line + ' ' + word\n",
        "      print(pred_line)\n",
        "\n",
        "      it +=1\n",
        "\n",
        "    result = result + '\\n' + pred_line\n",
        "    seed = pred_line\n",
        "\n",
        "result\n",
        "\n",
        "\n",
        "\n",
        "\n"
      ]
    },
    {
      "cell_type": "code",
      "execution_count": null,
      "metadata": {
        "id": "nGgMIBsxCPJt"
      },
      "outputs": [],
      "source": [
        "def gen_text(encoder_model,decoder_model,max_sequence_length,tokenizer,word_index,seed_text,num_lines):\n",
        "    result = seed_text\n",
        "    seed = seed_text\n",
        "    for _ in range (num_lines):\n",
        "      decode_index = []\n",
        "      seed = seed\n",
        "      tokens = tokenizer.word_tokenize(seed)\n",
        "      encoded_seed = [word_index.get(word, word) for word in tokens]\n",
        "      max_sequence_length = max_sequence_length\n",
        "      padded_seed = pad_sequences([encoded_seed], maxlen=max_sequence_length, padding='post')\n",
        "\n",
        "      context_vector = encoder_model.predict(padded_seed)\n",
        "\n",
        "      target_seq = np.zeros((1,  max_sequence_length))\n",
        "\n",
        "      stop_condition = False\n",
        "\n",
        "      it =0\n",
        "      pred_line = ' '\n",
        "      while not stop_condition:\n",
        "        output_tokens, h, c = decoder_model.predict([target_seq] + context_vector )\n",
        "        output_token =np.argmax(output_tokens,axis=-1)\n",
        "        target_seq[0,it] = output_token\n",
        "\n",
        "        decode_index.append(output_token)\n",
        "        word = [word for word, index in word_index.items() if index == output_token[0][0]][0]\n",
        "\n",
        "        if(output_token ==123 or len(decode_index)==max_sequence_length):\n",
        "          stop_condition = True\n",
        "\n",
        "        context_vector = [h,c]\n",
        "        pred_line = pred_line + ' ' + word\n",
        "\n",
        "        it +=1\n",
        "\n",
        "      result = result + '\\n' + pred_line\n",
        "      seed = pred_line\n",
        "\n",
        "    return result\n",
        "\n",
        "\n",
        "\n",
        "\n"
      ]
    },
    {
      "cell_type": "code",
      "execution_count": null,
      "metadata": {
        "colab": {
          "base_uri": "https://localhost:8080/",
          "height": 778
        },
        "id": "NJQJyoUUCZH8",
        "outputId": "920578e7-062e-428f-9af8-d5d521072735"
      },
      "outputs": [
        {
          "name": "stdout",
          "output_type": "stream",
          "text": [
            "1/1 [==============================] - 1s 791ms/step\n"
          ]
        },
        {
          "ename": "ValueError",
          "evalue": "in user code:\n\n    File \"/usr/local/lib/python3.10/dist-packages/keras/src/engine/training.py\", line 2440, in predict_function  *\n        return step_function(self, iterator)\n    File \"/usr/local/lib/python3.10/dist-packages/keras/src/engine/training.py\", line 2425, in step_function  **\n        outputs = model.distribute_strategy.run(run_step, args=(data,))\n    File \"/usr/local/lib/python3.10/dist-packages/keras/src/engine/training.py\", line 2413, in run_step  **\n        outputs = model.predict_step(data)\n    File \"/usr/local/lib/python3.10/dist-packages/keras/src/engine/training.py\", line 2381, in predict_step\n        return self(x, training=False)\n    File \"/usr/local/lib/python3.10/dist-packages/keras/src/utils/traceback_utils.py\", line 70, in error_handler\n        raise e.with_traceback(filtered_tb) from None\n    File \"/usr/local/lib/python3.10/dist-packages/keras/src/engine/input_spec.py\", line 219, in assert_input_compatibility\n        raise ValueError(\n\n    ValueError: Exception encountered when calling layer 'model_2' (type Functional).\n    \n    Layer \"lstm_1\" expects 7 input(s), but it received 1 input tensors. Inputs received: [<tf.Tensor 'model_2/embedding/embedding_lookup/Identity:0' shape=(None, 35, 100) dtype=float32>]\n    \n    Call arguments received by layer 'model_2' (type Functional):\n      • inputs=('tf.Tensor(shape=(None, 35), dtype=float32)', 'tf.Tensor(shape=(None, 50), dtype=float32)', 'tf.Tensor(shape=(None, 50), dtype=float32)')\n      • training=False\n      • mask=None\n",
          "output_type": "error",
          "traceback": [
            "\u001b[0;31m---------------------------------------------------------------------------\u001b[0m",
            "\u001b[0;31mValueError\u001b[0m                                Traceback (most recent call last)",
            "\u001b[0;32m<ipython-input-43-d803e489e915>\u001b[0m in \u001b[0;36m<cell line: 1>\u001b[0;34m()\u001b[0m\n\u001b[0;32m----> 1\u001b[0;31m \u001b[0mtext\u001b[0m \u001b[0;34m=\u001b[0m \u001b[0mgen_text\u001b[0m\u001b[0;34m(\u001b[0m\u001b[0mencoder_model\u001b[0m\u001b[0;34m,\u001b[0m\u001b[0mdecoder_model\u001b[0m\u001b[0;34m,\u001b[0m\u001b[0mmax_sequence_length\u001b[0m\u001b[0;34m,\u001b[0m\u001b[0mtokenizer\u001b[0m\u001b[0;34m,\u001b[0m\u001b[0mword_index\u001b[0m\u001b[0;34m,\u001b[0m\u001b[0;34m'হাতে হাত রেখে পাড়ি দেব বিপ্লবী উচ্ছ্বসিত দিন'\u001b[0m\u001b[0;34m,\u001b[0m\u001b[0;36m5\u001b[0m\u001b[0;34m)\u001b[0m\u001b[0;34m\u001b[0m\u001b[0;34m\u001b[0m\u001b[0m\n\u001b[0m",
            "\u001b[0;32m<ipython-input-42-f7888690f736>\u001b[0m in \u001b[0;36mgen_text\u001b[0;34m(encoder_model, decoder_model, max_sequence_length, tokenizer, word_index, seed_text, num_lines)\u001b[0m\n\u001b[1;32m     19\u001b[0m       \u001b[0mpred_line\u001b[0m \u001b[0;34m=\u001b[0m \u001b[0;34m' '\u001b[0m\u001b[0;34m\u001b[0m\u001b[0;34m\u001b[0m\u001b[0m\n\u001b[1;32m     20\u001b[0m       \u001b[0;32mwhile\u001b[0m \u001b[0;32mnot\u001b[0m \u001b[0mstop_condition\u001b[0m\u001b[0;34m:\u001b[0m\u001b[0;34m\u001b[0m\u001b[0;34m\u001b[0m\u001b[0m\n\u001b[0;32m---> 21\u001b[0;31m         \u001b[0moutput_tokens\u001b[0m\u001b[0;34m,\u001b[0m \u001b[0mh\u001b[0m\u001b[0;34m,\u001b[0m \u001b[0mc\u001b[0m \u001b[0;34m=\u001b[0m \u001b[0mdecoder_model\u001b[0m\u001b[0;34m.\u001b[0m\u001b[0mpredict\u001b[0m\u001b[0;34m(\u001b[0m\u001b[0;34m[\u001b[0m\u001b[0mtarget_seq\u001b[0m\u001b[0;34m]\u001b[0m \u001b[0;34m+\u001b[0m \u001b[0mcontext_vector\u001b[0m \u001b[0;34m)\u001b[0m\u001b[0;34m\u001b[0m\u001b[0;34m\u001b[0m\u001b[0m\n\u001b[0m\u001b[1;32m     22\u001b[0m         \u001b[0moutput_token\u001b[0m \u001b[0;34m=\u001b[0m\u001b[0mnp\u001b[0m\u001b[0;34m.\u001b[0m\u001b[0margmax\u001b[0m\u001b[0;34m(\u001b[0m\u001b[0moutput_tokens\u001b[0m\u001b[0;34m,\u001b[0m\u001b[0maxis\u001b[0m\u001b[0;34m=\u001b[0m\u001b[0;34m-\u001b[0m\u001b[0;36m1\u001b[0m\u001b[0;34m)\u001b[0m\u001b[0;34m\u001b[0m\u001b[0;34m\u001b[0m\u001b[0m\n\u001b[1;32m     23\u001b[0m         \u001b[0mtarget_seq\u001b[0m\u001b[0;34m[\u001b[0m\u001b[0;36m0\u001b[0m\u001b[0;34m,\u001b[0m\u001b[0mit\u001b[0m\u001b[0;34m]\u001b[0m \u001b[0;34m=\u001b[0m \u001b[0moutput_token\u001b[0m\u001b[0;34m\u001b[0m\u001b[0;34m\u001b[0m\u001b[0m\n",
            "\u001b[0;32m/usr/local/lib/python3.10/dist-packages/keras/src/utils/traceback_utils.py\u001b[0m in \u001b[0;36merror_handler\u001b[0;34m(*args, **kwargs)\u001b[0m\n\u001b[1;32m     68\u001b[0m             \u001b[0;31m# To get the full stack trace, call:\u001b[0m\u001b[0;34m\u001b[0m\u001b[0;34m\u001b[0m\u001b[0m\n\u001b[1;32m     69\u001b[0m             \u001b[0;31m# `tf.debugging.disable_traceback_filtering()`\u001b[0m\u001b[0;34m\u001b[0m\u001b[0;34m\u001b[0m\u001b[0m\n\u001b[0;32m---> 70\u001b[0;31m             \u001b[0;32mraise\u001b[0m \u001b[0me\u001b[0m\u001b[0;34m.\u001b[0m\u001b[0mwith_traceback\u001b[0m\u001b[0;34m(\u001b[0m\u001b[0mfiltered_tb\u001b[0m\u001b[0;34m)\u001b[0m \u001b[0;32mfrom\u001b[0m \u001b[0;32mNone\u001b[0m\u001b[0;34m\u001b[0m\u001b[0;34m\u001b[0m\u001b[0m\n\u001b[0m\u001b[1;32m     71\u001b[0m         \u001b[0;32mfinally\u001b[0m\u001b[0;34m:\u001b[0m\u001b[0;34m\u001b[0m\u001b[0;34m\u001b[0m\u001b[0m\n\u001b[1;32m     72\u001b[0m             \u001b[0;32mdel\u001b[0m \u001b[0mfiltered_tb\u001b[0m\u001b[0;34m\u001b[0m\u001b[0;34m\u001b[0m\u001b[0m\n",
            "\u001b[0;32m/usr/local/lib/python3.10/dist-packages/keras/src/engine/training.py\u001b[0m in \u001b[0;36mtf__predict_function\u001b[0;34m(iterator)\u001b[0m\n\u001b[1;32m     13\u001b[0m                 \u001b[0;32mtry\u001b[0m\u001b[0;34m:\u001b[0m\u001b[0;34m\u001b[0m\u001b[0;34m\u001b[0m\u001b[0m\n\u001b[1;32m     14\u001b[0m                     \u001b[0mdo_return\u001b[0m \u001b[0;34m=\u001b[0m \u001b[0;32mTrue\u001b[0m\u001b[0;34m\u001b[0m\u001b[0;34m\u001b[0m\u001b[0m\n\u001b[0;32m---> 15\u001b[0;31m                     \u001b[0mretval_\u001b[0m \u001b[0;34m=\u001b[0m \u001b[0mag__\u001b[0m\u001b[0;34m.\u001b[0m\u001b[0mconverted_call\u001b[0m\u001b[0;34m(\u001b[0m\u001b[0mag__\u001b[0m\u001b[0;34m.\u001b[0m\u001b[0mld\u001b[0m\u001b[0;34m(\u001b[0m\u001b[0mstep_function\u001b[0m\u001b[0;34m)\u001b[0m\u001b[0;34m,\u001b[0m \u001b[0;34m(\u001b[0m\u001b[0mag__\u001b[0m\u001b[0;34m.\u001b[0m\u001b[0mld\u001b[0m\u001b[0;34m(\u001b[0m\u001b[0mself\u001b[0m\u001b[0;34m)\u001b[0m\u001b[0;34m,\u001b[0m \u001b[0mag__\u001b[0m\u001b[0;34m.\u001b[0m\u001b[0mld\u001b[0m\u001b[0;34m(\u001b[0m\u001b[0miterator\u001b[0m\u001b[0;34m)\u001b[0m\u001b[0;34m)\u001b[0m\u001b[0;34m,\u001b[0m \u001b[0;32mNone\u001b[0m\u001b[0;34m,\u001b[0m \u001b[0mfscope\u001b[0m\u001b[0;34m)\u001b[0m\u001b[0;34m\u001b[0m\u001b[0;34m\u001b[0m\u001b[0m\n\u001b[0m\u001b[1;32m     16\u001b[0m                 \u001b[0;32mexcept\u001b[0m\u001b[0;34m:\u001b[0m\u001b[0;34m\u001b[0m\u001b[0;34m\u001b[0m\u001b[0m\n\u001b[1;32m     17\u001b[0m                     \u001b[0mdo_return\u001b[0m \u001b[0;34m=\u001b[0m \u001b[0;32mFalse\u001b[0m\u001b[0;34m\u001b[0m\u001b[0;34m\u001b[0m\u001b[0m\n",
            "\u001b[0;31mValueError\u001b[0m: in user code:\n\n    File \"/usr/local/lib/python3.10/dist-packages/keras/src/engine/training.py\", line 2440, in predict_function  *\n        return step_function(self, iterator)\n    File \"/usr/local/lib/python3.10/dist-packages/keras/src/engine/training.py\", line 2425, in step_function  **\n        outputs = model.distribute_strategy.run(run_step, args=(data,))\n    File \"/usr/local/lib/python3.10/dist-packages/keras/src/engine/training.py\", line 2413, in run_step  **\n        outputs = model.predict_step(data)\n    File \"/usr/local/lib/python3.10/dist-packages/keras/src/engine/training.py\", line 2381, in predict_step\n        return self(x, training=False)\n    File \"/usr/local/lib/python3.10/dist-packages/keras/src/utils/traceback_utils.py\", line 70, in error_handler\n        raise e.with_traceback(filtered_tb) from None\n    File \"/usr/local/lib/python3.10/dist-packages/keras/src/engine/input_spec.py\", line 219, in assert_input_compatibility\n        raise ValueError(\n\n    ValueError: Exception encountered when calling layer 'model_2' (type Functional).\n    \n    Layer \"lstm_1\" expects 7 input(s), but it received 1 input tensors. Inputs received: [<tf.Tensor 'model_2/embedding/embedding_lookup/Identity:0' shape=(None, 35, 100) dtype=float32>]\n    \n    Call arguments received by layer 'model_2' (type Functional):\n      • inputs=('tf.Tensor(shape=(None, 35), dtype=float32)', 'tf.Tensor(shape=(None, 50), dtype=float32)', 'tf.Tensor(shape=(None, 50), dtype=float32)')\n      • training=False\n      • mask=None\n"
          ]
        }
      ],
      "source": [
        "text = gen_text(encoder_model,decoder_model,max_sequence_length,tokenizer,word_index,'হাতে হাত রেখে পাড়ি দেব বিপ্লবী উচ্ছ্বসিত দিন',5)"
      ]
    },
    {
      "cell_type": "code",
      "execution_count": null,
      "metadata": {
        "id": "Jt76xiwGESYE"
      },
      "outputs": [],
      "source": [
        "def generate_text(model, max_sequence_length, tokenizer, word_index, seed_text, num_words):\n",
        "    result = seed_text\n",
        "    for _ in range(num_words):\n",
        "        # Tokenize the seed text\n",
        "        tokens = tokenizer.word_tokenize(seed_text)\n",
        "        encoded_seed = [word_index.get(word, word) for word in tokens]\n",
        "\n",
        "        # Pad the sequence to match the model's input length\n",
        "        max_sequence_length = max_sequence_length\n",
        "        padded_seed = pad_sequences([encoded_seed], maxlen=max_sequence_length-1, padding='post')\n",
        "\n",
        "        # Predict the next word\n",
        "        predicted_index = np.argmax(model.predict([padded_seed, padded_seed]), )\n",
        "        predicted_word = [word for word, index in word_index.items() if index == predicted_index[0][0]][0]\n",
        "\n",
        "        # Update the seed text for the next iteration\n",
        "        seed_text += \" \" + predicted_word\n",
        "        result += \" \" + predicted_word\n",
        "\n",
        "        if predicted_word == 'কবিতাশেষ':\n",
        "            break\n",
        "\n",
        "    result = result.replace('লাইনশেষ', '\\n')\n",
        "    result = result.replace('কবিতাশেষ', '...')\n",
        "    return result\n"
      ]
    },
    {
      "cell_type": "code",
      "execution_count": null,
      "metadata": {
        "colab": {
          "base_uri": "https://localhost:8080/"
        },
        "id": "fZ5g0LZkrUpx",
        "outputId": "1905c90d-3621-4210-e136-20e298738030"
      },
      "outputs": [
        {
          "data": {
            "text/plain": [
              "35"
            ]
          },
          "execution_count": 41,
          "metadata": {},
          "output_type": "execute_result"
        }
      ],
      "source": [
        "max_sequence_length"
      ]
    },
    {
      "cell_type": "code",
      "execution_count": null,
      "metadata": {
        "id": "SBBXT3t4I0dE"
      },
      "outputs": [],
      "source": [
        "def generate_text(model, max_sequence_length, tokenizer, word_index, seed_text, num_words):\n",
        "    result = seed_text\n",
        "    tokenizer = tokenizer\n",
        "    for _ in range(num_words):\n",
        "        # Tokenize the seed text\n",
        "        tokens = tokenizer.word_tokenize(seed_text)\n",
        "        encoded_seed = [word_index.get(word, word) for word in tokens]\n",
        "\n",
        "        # Pad the sequence to match the model's input length\n",
        "        max_sequence_length = max_sequence_length\n",
        "        padded_seed = pad_sequences([encoded_seed], maxlen=max_sequence_length-1, padding='pre')\n",
        "\n",
        "        # Predict the next word\n",
        "        predicted_index = np.argmax(model.predict([padded_seed, padded_seed]), axis=-1)\n",
        "        #add\n",
        "        predicted_index = np.clip(predicted_index, 0, len(word_index))\n",
        "        predicted_word =[word for word, index in word_index.items() if index == predicted_index[0][0]][0]\n",
        "\n",
        "        # Update the seed text for the next iteration\n",
        "        seed_text = seed_text + \" \" + predicted_word\n",
        "        result = result + \" \" + predicted_word\n",
        "\n",
        "        if predicted_word == 'কবিতাশেষ':\n",
        "            break\n",
        "\n",
        "    result = result.replace('লাইনশেষ', '\\n')\n",
        "    result = result.replace('কবিতাশেষ', '...')\n",
        "    return result\n"
      ]
    },
    {
      "cell_type": "code",
      "execution_count": null,
      "metadata": {
        "id": "BJsn0kHPuRdg"
      },
      "outputs": [],
      "source": [
        "def generate_text(model, max_sequence_length, tokenizer, word_index, seed_text, num_words):\n",
        "    result = seed_text\n",
        "    tokenizer = tokenizer\n",
        "    for _ in range(num_words):\n",
        "        # Tokenize the seed text\n",
        "        tokens = tokenizer.word_tokenize(seed_text)\n",
        "        encoded_seed = [word_index.get(word, word) for word in tokens]\n",
        "\n",
        "        # Pad the sequence to match the model's input length\n",
        "        max_sequence_length = max_sequence_length\n",
        "        padded_seed = pad_sequences([encoded_seed], maxlen=max_sequence_length-1, padding='post')\n",
        "\n",
        "        # Predict the next word\n",
        "        predicted_index = np.argmax(model.predict([padded_seed,padded_seed]), axis=-1)\n",
        "\n",
        "    return predicted_index"
      ]
    },
    {
      "cell_type": "code",
      "execution_count": null,
      "metadata": {
        "colab": {
          "base_uri": "https://localhost:8080/"
        },
        "id": "n0si79ozEScl",
        "outputId": "f077c2d6-7139-405f-fa6b-adf72f3020f2"
      },
      "outputs": [
        {
          "name": "stdout",
          "output_type": "stream",
          "text": [
            "1/1 [==============================] - 0s 66ms/step\n"
          ]
        }
      ],
      "source": [
        " txt = generate_text(model, 36, tokenizer, word_index, 'হাতে হাত রেখে পাড়ি দেব বিপ্লবী উচ্ছ্বসিত দিন', 1)\n"
      ]
    },
    {
      "cell_type": "code",
      "execution_count": null,
      "metadata": {
        "id": "mp9aD1r5ESgx"
      },
      "outputs": [],
      "source": [
        "unpadded_sequence = txt[np.where(txt != 0)]"
      ]
    },
    {
      "cell_type": "code",
      "execution_count": null,
      "metadata": {
        "colab": {
          "base_uri": "https://localhost:8080/"
        },
        "id": "BFWNRvu7ESlO",
        "outputId": "9ee7d2b4-8f0c-46a3-cad2-609cd54b58bf"
      },
      "outputs": [
        {
          "data": {
            "text/plain": [
              "['কাকটা', 'আমার', 'করে', 'করে', 'দেব', 'বিপ্লবী', 'উচ্ছ্বসিত', 'সুখানুভূতি']"
            ]
          },
          "execution_count": 39,
          "metadata": {},
          "output_type": "execute_result"
        }
      ],
      "source": [
        "unpadded_words = [word for index in unpadded_sequence for word, idx in word_index.items() if idx == index]\n",
        "unpadded_words"
      ]
    },
    {
      "cell_type": "code",
      "execution_count": null,
      "metadata": {
        "colab": {
          "base_uri": "https://localhost:8080/",
          "height": 409
        },
        "id": "VWnYMStarldM",
        "outputId": "5a033f15-3e0a-471b-babd-8149c79dc150"
      },
      "outputs": [
        {
          "ename": "AttributeError",
          "evalue": "'int' object has no attribute 'value'",
          "output_type": "error",
          "traceback": [
            "\u001b[0;31m---------------------------------------------------------------------------\u001b[0m",
            "\u001b[0;31mAttributeError\u001b[0m                            Traceback (most recent call last)",
            "\u001b[0;32m<ipython-input-43-538ac60021f7>\u001b[0m in \u001b[0;36m<cell line: 76>\u001b[0;34m()\u001b[0m\n\u001b[1;32m     74\u001b[0m \u001b[0;34m\u001b[0m\u001b[0m\n\u001b[1;32m     75\u001b[0m \u001b[0;31m# Attention layer for the first LSTM layer\u001b[0m\u001b[0;34m\u001b[0m\u001b[0;34m\u001b[0m\u001b[0m\n\u001b[0;32m---> 76\u001b[0;31m \u001b[0mcontext_vector1\u001b[0m\u001b[0;34m,\u001b[0m \u001b[0mattention_weights1\u001b[0m \u001b[0;34m=\u001b[0m \u001b[0mattention_layer\u001b[0m\u001b[0;34m(\u001b[0m\u001b[0;34m[\u001b[0m\u001b[0mstate_h1\u001b[0m\u001b[0;34m,\u001b[0m \u001b[0mencoder_states\u001b[0m\u001b[0;34m]\u001b[0m\u001b[0;34m)\u001b[0m\u001b[0;34m\u001b[0m\u001b[0;34m\u001b[0m\u001b[0m\n\u001b[0m\u001b[1;32m     77\u001b[0m \u001b[0;34m\u001b[0m\u001b[0m\n\u001b[1;32m     78\u001b[0m \u001b[0;31m# Concatenate context vector with decoder output for the first layer\u001b[0m\u001b[0;34m\u001b[0m\u001b[0;34m\u001b[0m\u001b[0m\n",
            "\u001b[0;32m/usr/local/lib/python3.10/dist-packages/keras/utils/traceback_utils.py\u001b[0m in \u001b[0;36merror_handler\u001b[0;34m(*args, **kwargs)\u001b[0m\n\u001b[1;32m     68\u001b[0m             \u001b[0;31m# To get the full stack trace, call:\u001b[0m\u001b[0;34m\u001b[0m\u001b[0;34m\u001b[0m\u001b[0m\n\u001b[1;32m     69\u001b[0m             \u001b[0;31m# `tf.debugging.disable_traceback_filtering()`\u001b[0m\u001b[0;34m\u001b[0m\u001b[0;34m\u001b[0m\u001b[0m\n\u001b[0;32m---> 70\u001b[0;31m             \u001b[0;32mraise\u001b[0m \u001b[0me\u001b[0m\u001b[0;34m.\u001b[0m\u001b[0mwith_traceback\u001b[0m\u001b[0;34m(\u001b[0m\u001b[0mfiltered_tb\u001b[0m\u001b[0;34m)\u001b[0m \u001b[0;32mfrom\u001b[0m \u001b[0;32mNone\u001b[0m\u001b[0;34m\u001b[0m\u001b[0;34m\u001b[0m\u001b[0m\n\u001b[0m\u001b[1;32m     71\u001b[0m         \u001b[0;32mfinally\u001b[0m\u001b[0;34m:\u001b[0m\u001b[0;34m\u001b[0m\u001b[0;34m\u001b[0m\u001b[0m\n\u001b[1;32m     72\u001b[0m             \u001b[0;32mdel\u001b[0m \u001b[0mfiltered_tb\u001b[0m\u001b[0;34m\u001b[0m\u001b[0;34m\u001b[0m\u001b[0m\n",
            "\u001b[0;32m<ipython-input-43-538ac60021f7>\u001b[0m in \u001b[0;36mbuild\u001b[0;34m(self, input_shape)\u001b[0m\n\u001b[1;32m     12\u001b[0m         \u001b[0;32massert\u001b[0m \u001b[0misinstance\u001b[0m\u001b[0;34m(\u001b[0m\u001b[0minput_shape\u001b[0m\u001b[0;34m,\u001b[0m \u001b[0mlist\u001b[0m\u001b[0;34m)\u001b[0m\u001b[0;34m\u001b[0m\u001b[0;34m\u001b[0m\u001b[0m\n\u001b[1;32m     13\u001b[0m         self.W_q = self.add_weight(name='W_q',\n\u001b[0;32m---> 14\u001b[0;31m                                \u001b[0mshape\u001b[0m\u001b[0;34m=\u001b[0m\u001b[0;34m(\u001b[0m\u001b[0minput_shape\u001b[0m\u001b[0;34m[\u001b[0m\u001b[0;36m0\u001b[0m\u001b[0;34m]\u001b[0m\u001b[0;34m[\u001b[0m\u001b[0;34m-\u001b[0m\u001b[0;36m1\u001b[0m\u001b[0;34m]\u001b[0m\u001b[0;34m.\u001b[0m\u001b[0mvalue\u001b[0m\u001b[0;34m,\u001b[0m \u001b[0minput_shape\u001b[0m\u001b[0;34m[\u001b[0m\u001b[0;36m1\u001b[0m\u001b[0;34m]\u001b[0m\u001b[0;34m[\u001b[0m\u001b[0;34m-\u001b[0m\u001b[0;36m1\u001b[0m\u001b[0;34m]\u001b[0m\u001b[0;34m.\u001b[0m\u001b[0mvalue\u001b[0m\u001b[0;34m)\u001b[0m\u001b[0;34m,\u001b[0m\u001b[0;34m\u001b[0m\u001b[0;34m\u001b[0m\u001b[0m\n\u001b[0m\u001b[1;32m     15\u001b[0m                                \u001b[0minitializer\u001b[0m\u001b[0;34m=\u001b[0m\u001b[0;34m'uniform'\u001b[0m\u001b[0;34m,\u001b[0m\u001b[0;34m\u001b[0m\u001b[0;34m\u001b[0m\u001b[0m\n\u001b[1;32m     16\u001b[0m                                trainable=True)\n",
            "\u001b[0;31mAttributeError\u001b[0m: 'int' object has no attribute 'value'"
          ]
        }
      ],
      "source": [
        "from keras.layers import Layer, Input, Embedding, LSTM, Dense, Concatenate, Bidirectional\n",
        "from keras.models import Model\n",
        "from keras.optimizers import Adam\n",
        "from keras.activations import softmax\n",
        "from keras.callbacks import ModelCheckpoint, EarlyStopping\n",
        "\n",
        "class AttentionLayer(Layer):\n",
        "    def __init__(self, **kwargs):\n",
        "        super(AttentionLayer, self).__init__(**kwargs)\n",
        "\n",
        "    def build(self, input_shape):\n",
        "        assert isinstance(input_shape, list)\n",
        "        self.W_q = self.add_weight(name='W_q',\n",
        "                               shape=(input_shape[0][-1].value, input_shape[1][-1].value),\n",
        "                               initializer='uniform',\n",
        "                               trainable=True)\n",
        "        super(AttentionLayer, self).build(input_shape)\n",
        "\n",
        "    def call(self, inputs):\n",
        "        assert isinstance(inputs, list)\n",
        "        decoder_state, encoder_states = inputs\n",
        "\n",
        "        # Concatenate decoder state with all encoder states along the time axis\n",
        "        decoder_state = K.expand_dims(decoder_state, axis=1)\n",
        "        decoder_state = K.repeat_elements(decoder_state, K.shape(encoder_states)[1], axis=1)\n",
        "        qk_concat = K.concatenate([decoder_state, encoder_states], axis=-1)\n",
        "\n",
        "        # Ensure proper dimensions for dot product\n",
        "        qk_concat = K.dot(qk_concat, self.W_q)\n",
        "        v = encoder_states\n",
        "\n",
        "        attn_score = K.dot(qk_concat, K.transpose(v))\n",
        "        attn_score = softmax(attn_score)\n",
        "        context_vector = K.batch_dot(attn_score, v)\n",
        "\n",
        "        return context_vector\n",
        "\n",
        "    def compute_output_shape(self, input_shape):\n",
        "        assert isinstance(input_shape, list)\n",
        "        return input_shape[1]\n",
        "\n",
        "# Assuming you have defined vocab_size, embedding_dim, max_sequence_length, etc.\n",
        "\n",
        "# Encoder\n",
        "encoder_inputs = Input(shape=(max_sequence_length,))\n",
        "embedding_layer = Embedding(input_dim=vocab_size, output_dim=100, weights=[embedding_layer_weights], trainable=False)\n",
        "encoder_embedding = embedding_layer(encoder_inputs)\n",
        "\n",
        "# First Bidirectional LSTM layer in the encoder\n",
        "encoder_lstm1 = Bidirectional(LSTM(units=50, return_sequences=True, return_state=True))\n",
        "encoder_outputs1, forward_h1, forward_c1, backward_h1, backward_c1 = encoder_lstm1(encoder_embedding)\n",
        "encoder_states1 = [forward_h1, forward_c1, backward_h1, backward_c1]\n",
        "\n",
        "# Second Bidirectional LSTM layer in the encoder\n",
        "encoder_lstm2 = Bidirectional(LSTM(units=50, return_sequences=True, return_state=True))\n",
        "encoder_outputs2, forward_h2, forward_c2, backward_h2, backward_c2 = encoder_lstm2(encoder_outputs1)\n",
        "encoder_states2 = [forward_h2, forward_c2, backward_h2, backward_c2]\n",
        "\n",
        "# Third Bidirectional LSTM layer in the encoder\n",
        "encoder_lstm3 = Bidirectional(LSTM(units=50, return_sequences=True, return_state=True))\n",
        "encoder_outputs, forward_h, forward_c, backward_h, backward_c = encoder_lstm3(encoder_outputs2)\n",
        "encoder_states = [forward_h, forward_c, backward_h, backward_c]\n",
        "\n",
        "# Attention layer\n",
        "attention_layer = AttentionLayer()\n",
        "#context_vector, attention_weights = attention_layer([decoder_state, encoder_states])\n",
        "\n",
        "# Decoder\n",
        "decoder_inputs = Input(shape=(max_sequence_length,))\n",
        "decoder_embedding = embedding_layer(decoder_inputs)\n",
        "# First LSTM layer in the decoder\n",
        "decoder_lstm1 = LSTM(units=50, return_sequences=True, return_state=True)\n",
        "decoder_outputs1, state_h1, _ = decoder_lstm1(decoder_embedding, initial_state=encoder_states[:2])\n",
        "\n",
        "# Attention layer for the first LSTM layer\n",
        "context_vector1, attention_weights1 = attention_layer([state_h1, encoder_states])\n",
        "\n",
        "# Concatenate context vector with decoder output for the first layer\n",
        "decoder_combined_context1 = Concatenate()([decoder_outputs1, context_vector1])\n",
        "\n",
        "# Second LSTM layer in the decoder\n",
        "decoder_lstm2 = LSTM(units=50, return_sequences=True, return_state=True)\n",
        "decoder_outputs2, state_h2, _ = decoder_lstm2(decoder_combined_context1, initial_state=encoder_states)\n",
        "\n",
        "# Attention layer for the second LSTM layer\n",
        "context_vector2, attention_weights2 = attention_layer([state_h2, encoder_states])\n",
        "\n",
        "# Concatenate context vector with decoder output for the second layer\n",
        "decoder_combined_context2 = Concatenate()([decoder_outputs2, context_vector2])\n",
        "\n",
        "# Third LSTM layer in the decoder\n",
        "decoder_lstm3 = LSTM(units=50, return_sequences=True, return_state=True)\n",
        "decoder_outputs, state_h3, _ = decoder_lstm3(decoder_combined_context2, initial_state=encoder_states)\n",
        "\n",
        "# Attention layer for the third LSTM layer\n",
        "context_vector3, attention_weights3 = attention_layer([state_h3, encoder_states])\n",
        "\n",
        "# Concatenate context vector with decoder output for the third layer\n",
        "decoder_combined_context3 = Concatenate()([decoder_outputs, context_vector3])\n",
        "\n",
        "# Dense layer for output\n",
        "decoder_dense = Dense(vocab_size, activation='softmax')\n",
        "decoder_outputs = decoder_dense(decoder_combined_context3)\n",
        "\n",
        "\n",
        "# Model\n",
        "model = Model([encoder_inputs, decoder_inputs], decoder_outputs)\n",
        "\n",
        "# Compile the model with a specific learning rate\n",
        "learning_rate = 0.01\n",
        "optimizer = Adam(learning_rate=learning_rate)\n",
        "model.compile(optimizer=optimizer, loss='categorical_crossentropy', metrics=['accuracy'])\n",
        "\n",
        "# Print model summary\n",
        "model.summary()\n",
        "\n",
        "checkpoint = ModelCheckpoint(\"best_model.h5\", save_best_only=True)\n",
        "early_stopping = EarlyStopping(monitor='loss', patience=5)\n"
      ]
    },
    {
      "cell_type": "code",
      "execution_count": null,
      "metadata": {
        "colab": {
          "base_uri": "https://localhost:8080/",
          "height": 256
        },
        "id": "3gKVM0IkuyJB",
        "outputId": "cd2d2213-2e2a-4cb3-f7f4-ad58924b7ff5"
      },
      "outputs": [
        {
          "ename": "NameError",
          "evalue": "name 'ModelCheckpoint' is not defined",
          "output_type": "error",
          "traceback": [
            "\u001b[0;31m---------------------------------------------------------------------------\u001b[0m",
            "\u001b[0;31mNameError\u001b[0m                                 Traceback (most recent call last)",
            "\u001b[0;32m<ipython-input-27-7e3fbe9a22b7>\u001b[0m in \u001b[0;36m<cell line: 3>\u001b[0;34m()\u001b[0m\n\u001b[1;32m      1\u001b[0m \u001b[0;31m# Assuming you have a single dataset: input_sequences, target_sequences, one_hot_target_sequences\u001b[0m\u001b[0;34m\u001b[0m\u001b[0;34m\u001b[0m\u001b[0m\n\u001b[1;32m      2\u001b[0m \u001b[0;31m# Define callbacks\u001b[0m\u001b[0;34m\u001b[0m\u001b[0;34m\u001b[0m\u001b[0m\n\u001b[0;32m----> 3\u001b[0;31m \u001b[0mcheckpoint\u001b[0m \u001b[0;34m=\u001b[0m \u001b[0mModelCheckpoint\u001b[0m\u001b[0;34m(\u001b[0m\u001b[0;34m\"best_model.h5\"\u001b[0m\u001b[0;34m,\u001b[0m \u001b[0msave_best_only\u001b[0m\u001b[0;34m=\u001b[0m\u001b[0;32mTrue\u001b[0m\u001b[0;34m)\u001b[0m\u001b[0;34m\u001b[0m\u001b[0;34m\u001b[0m\u001b[0m\n\u001b[0m\u001b[1;32m      4\u001b[0m \u001b[0mearly_stopping\u001b[0m \u001b[0;34m=\u001b[0m \u001b[0mEarlyStopping\u001b[0m\u001b[0;34m(\u001b[0m\u001b[0mmonitor\u001b[0m\u001b[0;34m=\u001b[0m\u001b[0;34m'loss'\u001b[0m\u001b[0;34m,\u001b[0m \u001b[0mpatience\u001b[0m\u001b[0;34m=\u001b[0m\u001b[0;36m5\u001b[0m\u001b[0;34m)\u001b[0m\u001b[0;34m\u001b[0m\u001b[0;34m\u001b[0m\u001b[0m\n\u001b[1;32m      5\u001b[0m \u001b[0;31m# Fit the model with teacher forcing and use validation_split\u001b[0m\u001b[0;34m\u001b[0m\u001b[0;34m\u001b[0m\u001b[0m\n",
            "\u001b[0;31mNameError\u001b[0m: name 'ModelCheckpoint' is not defined"
          ]
        }
      ],
      "source": [
        "# Assuming you have a single dataset: input_sequences, target_sequences, one_hot_target_sequences\n",
        "# Define callbacks\n",
        "\n",
        "# Fit the model with teacher forcing and use validation_split\n",
        "epochs = 50\n",
        "batch_size = 32\n",
        "\n",
        "model.fit(\n",
        "    [input_sequences, target_sequences],\n",
        "    one_hot_target_sequences,\n",
        "    epochs=epochs,\n",
        "    batch_size=batch_size,\n",
        "    validation_split=0.2,  # Adjust the split ratio as needed\n",
        "    callbacks=[checkpoint, early_stopping]\n",
        ")\n"
      ]
    },
    {
      "cell_type": "code",
      "execution_count": null,
      "metadata": {
        "id": "mZwWL3ByD-fS"
      },
      "outputs": [],
      "source": [
        "\n",
        "\n",
        "# Assuming you have defined the encoder and decoder models\n",
        "\n",
        "# Encoder Model for Inference\n",
        "encoder_model = Model(inputs=encoder_inputs, outputs=encoder_states)\n",
        "\n",
        "# Decoder Model for Inference\n",
        "decoder_state_input_h = Input(shape=(10,))\n",
        "decoder_state_input_c = Input(shape=(10,))\n",
        "decoder_states_inputs = [decoder_state_input_h, decoder_state_input_c]\n",
        "\n",
        "decoder_inputs_single = Input(shape=(1,))\n",
        "decoder_embedding = embedding_layer(decoder_inputs_single)\n",
        "\n",
        "# Apply the LSTM layer with initial states\n",
        "decoder_outputs, state_h, state_c = decoder_lstm(decoder_embedding, initial_state=decoder_states_inputs)\n",
        "decoder_states = [state_h, state_c]\n",
        "\n",
        "# Apply the Dense layer\n",
        "decoder_outputs = decoder_dense(decoder_outputs)\n",
        "\n",
        "# Decoder Model for Inference\n",
        "decoder_model = Model(\n",
        "    [decoder_inputs_single] + decoder_states_inputs,\n",
        "    [decoder_outputs] + decoder_states\n",
        ")\n",
        "\n",
        "# Function to generate a sequence\n",
        "def generate_sequence(seed_text, max_length=20):\n",
        "    # Encode the seed text using the encoder model\n",
        "    seed = seed_text\n",
        "    tokens = tokenizer.word_tokenize(seed)\n",
        "    encoded_seed = [word_index.get(word, word) for word in tokens]\n",
        "    max_sequence_length = 35\n",
        "    padded_seed = pad_sequences([encoded_seed], maxlen=max_sequence_length, padding='post')\n",
        "\n",
        "    context_vector = encoder_model.predict(padded_seed)\n",
        "\n",
        "    # Initialize the target sequence with the start token\n",
        "    target_seq = np.zeros((1, 1))\n",
        "    target_seq[0, 0] = start_token_id\n",
        "\n",
        "    generated_sequence = []\n",
        "\n",
        "    for _ in range(max_length):\n",
        "        # Predict the next token using the decoder model\n",
        "        output_tokens, h, c = decoder_model.predict([target_seq] + context_vector)\n",
        "\n",
        "        # Get the predicted token index\n",
        "        sampled_token_index = np.argmax(output_tokens)\n",
        "\n",
        "        print(sampled_token_index)\n",
        "\n",
        "        # Break the loop if the end token is predicted\n",
        "        if sampled_token_index == end_token_id:\n",
        "            break\n",
        "\n",
        "        # Update the target sequence for the next iteration\n",
        "        target_seq[0, 0] = sampled_token_index\n",
        "\n",
        "        # Decode the index to a word and append to the generated sequence\n",
        "        sampled_word = [word for word, index in word_index.items() if index ==sampled_token_index][0]\n",
        "\n",
        "        generated_sequence.append(sampled_word)\n",
        "\n",
        "    return \" \".join(generated_sequence)\n",
        "\n",
        "\n"
      ]
    },
    {
      "cell_type": "code",
      "execution_count": null,
      "metadata": {
        "id": "vYUZT2yZuwcQ",
        "colab": {
          "base_uri": "https://localhost:8080/",
          "height": 981
        },
        "outputId": "55cdb0f4-290c-4b26-aa8e-7ac096f4f583"
      },
      "outputs": [
        {
          "output_type": "stream",
          "name": "stdout",
          "text": [
            "1/1 [==============================] - 0s 399ms/step\n"
          ]
        },
        {
          "output_type": "error",
          "ename": "ValueError",
          "evalue": "in user code:\n\n    File \"/usr/local/lib/python3.10/dist-packages/keras/src/engine/training.py\", line 2440, in predict_function  *\n        return step_function(self, iterator)\n    File \"/usr/local/lib/python3.10/dist-packages/keras/src/engine/training.py\", line 2425, in step_function  **\n        outputs = model.distribute_strategy.run(run_step, args=(data,))\n    File \"/usr/local/lib/python3.10/dist-packages/keras/src/engine/training.py\", line 2413, in run_step  **\n        outputs = model.predict_step(data)\n    File \"/usr/local/lib/python3.10/dist-packages/keras/src/engine/training.py\", line 2381, in predict_step\n        return self(x, training=False)\n    File \"/usr/local/lib/python3.10/dist-packages/keras/src/utils/traceback_utils.py\", line 70, in error_handler\n        raise e.with_traceback(filtered_tb) from None\n    File \"/usr/local/lib/python3.10/dist-packages/keras/src/engine/input_spec.py\", line 219, in assert_input_compatibility\n        raise ValueError(\n\n    ValueError: Exception encountered when calling layer 'model_5' (type Functional).\n    \n    Layer \"lstm_1\" expects 3 input(s), but it received 1 input tensors. Inputs received: [<tf.Tensor 'model_5/embedding/embedding_lookup/Identity:0' shape=(None, 1, 10) dtype=float32>]\n    \n    Call arguments received by layer 'model_5' (type Functional):\n      • inputs=('tf.Tensor(shape=(None, 1), dtype=float32)', 'tf.Tensor(shape=(None, 10), dtype=float32)', 'tf.Tensor(shape=(None, 10), dtype=float32)')\n      • training=False\n      • mask=None\n",
          "traceback": [
            "\u001b[0;31m---------------------------------------------------------------------------\u001b[0m",
            "\u001b[0;31mValueError\u001b[0m                                Traceback (most recent call last)",
            "\u001b[0;32m<ipython-input-43-a3de0bffd6c7>\u001b[0m in \u001b[0;36m<cell line: 3>\u001b[0;34m()\u001b[0m\n\u001b[1;32m      1\u001b[0m \u001b[0;31m# Example usage\u001b[0m\u001b[0;34m\u001b[0m\u001b[0;34m\u001b[0m\u001b[0m\n\u001b[1;32m      2\u001b[0m \u001b[0mseed_text\u001b[0m \u001b[0;34m=\u001b[0m \u001b[0;34m'পুরো অস্তিত্ব আজ বিষন্নতার দখলে'\u001b[0m\u001b[0;34m\u001b[0m\u001b[0;34m\u001b[0m\u001b[0m\n\u001b[0;32m----> 3\u001b[0;31m \u001b[0mgenerated_sequence\u001b[0m \u001b[0;34m=\u001b[0m \u001b[0mgenerate_sequence\u001b[0m\u001b[0;34m(\u001b[0m\u001b[0mseed_text\u001b[0m\u001b[0;34m)\u001b[0m\u001b[0;34m\u001b[0m\u001b[0;34m\u001b[0m\u001b[0m\n\u001b[0m\u001b[1;32m      4\u001b[0m \u001b[0mprint\u001b[0m\u001b[0;34m(\u001b[0m\u001b[0mgenerated_sequence\u001b[0m\u001b[0;34m)\u001b[0m\u001b[0;34m\u001b[0m\u001b[0;34m\u001b[0m\u001b[0m\n",
            "\u001b[0;32m<ipython-input-42-160a0bc796f3>\u001b[0m in \u001b[0;36mgenerate_sequence\u001b[0;34m(seed_text, max_length)\u001b[0m\n\u001b[1;32m     44\u001b[0m     \u001b[0;32mfor\u001b[0m \u001b[0m_\u001b[0m \u001b[0;32min\u001b[0m \u001b[0mrange\u001b[0m\u001b[0;34m(\u001b[0m\u001b[0mmax_length\u001b[0m\u001b[0;34m)\u001b[0m\u001b[0;34m:\u001b[0m\u001b[0;34m\u001b[0m\u001b[0;34m\u001b[0m\u001b[0m\n\u001b[1;32m     45\u001b[0m         \u001b[0;31m# Predict the next token using the decoder model\u001b[0m\u001b[0;34m\u001b[0m\u001b[0;34m\u001b[0m\u001b[0m\n\u001b[0;32m---> 46\u001b[0;31m         \u001b[0moutput_tokens\u001b[0m\u001b[0;34m,\u001b[0m \u001b[0mh\u001b[0m\u001b[0;34m,\u001b[0m \u001b[0mc\u001b[0m \u001b[0;34m=\u001b[0m \u001b[0mdecoder_model\u001b[0m\u001b[0;34m.\u001b[0m\u001b[0mpredict\u001b[0m\u001b[0;34m(\u001b[0m\u001b[0;34m[\u001b[0m\u001b[0mtarget_seq\u001b[0m\u001b[0;34m]\u001b[0m \u001b[0;34m+\u001b[0m \u001b[0mcontext_vector\u001b[0m\u001b[0;34m)\u001b[0m\u001b[0;34m\u001b[0m\u001b[0;34m\u001b[0m\u001b[0m\n\u001b[0m\u001b[1;32m     47\u001b[0m \u001b[0;34m\u001b[0m\u001b[0m\n\u001b[1;32m     48\u001b[0m         \u001b[0;31m# Get the predicted token index\u001b[0m\u001b[0;34m\u001b[0m\u001b[0;34m\u001b[0m\u001b[0m\n",
            "\u001b[0;32m/usr/local/lib/python3.10/dist-packages/keras/src/utils/traceback_utils.py\u001b[0m in \u001b[0;36merror_handler\u001b[0;34m(*args, **kwargs)\u001b[0m\n\u001b[1;32m     68\u001b[0m             \u001b[0;31m# To get the full stack trace, call:\u001b[0m\u001b[0;34m\u001b[0m\u001b[0;34m\u001b[0m\u001b[0m\n\u001b[1;32m     69\u001b[0m             \u001b[0;31m# `tf.debugging.disable_traceback_filtering()`\u001b[0m\u001b[0;34m\u001b[0m\u001b[0;34m\u001b[0m\u001b[0m\n\u001b[0;32m---> 70\u001b[0;31m             \u001b[0;32mraise\u001b[0m \u001b[0me\u001b[0m\u001b[0;34m.\u001b[0m\u001b[0mwith_traceback\u001b[0m\u001b[0;34m(\u001b[0m\u001b[0mfiltered_tb\u001b[0m\u001b[0;34m)\u001b[0m \u001b[0;32mfrom\u001b[0m \u001b[0;32mNone\u001b[0m\u001b[0;34m\u001b[0m\u001b[0;34m\u001b[0m\u001b[0m\n\u001b[0m\u001b[1;32m     71\u001b[0m         \u001b[0;32mfinally\u001b[0m\u001b[0;34m:\u001b[0m\u001b[0;34m\u001b[0m\u001b[0;34m\u001b[0m\u001b[0m\n\u001b[1;32m     72\u001b[0m             \u001b[0;32mdel\u001b[0m \u001b[0mfiltered_tb\u001b[0m\u001b[0;34m\u001b[0m\u001b[0;34m\u001b[0m\u001b[0m\n",
            "\u001b[0;32m/usr/local/lib/python3.10/dist-packages/keras/src/engine/training.py\u001b[0m in \u001b[0;36mtf__predict_function\u001b[0;34m(iterator)\u001b[0m\n\u001b[1;32m     13\u001b[0m                 \u001b[0;32mtry\u001b[0m\u001b[0;34m:\u001b[0m\u001b[0;34m\u001b[0m\u001b[0;34m\u001b[0m\u001b[0m\n\u001b[1;32m     14\u001b[0m                     \u001b[0mdo_return\u001b[0m \u001b[0;34m=\u001b[0m \u001b[0;32mTrue\u001b[0m\u001b[0;34m\u001b[0m\u001b[0;34m\u001b[0m\u001b[0m\n\u001b[0;32m---> 15\u001b[0;31m                     \u001b[0mretval_\u001b[0m \u001b[0;34m=\u001b[0m \u001b[0mag__\u001b[0m\u001b[0;34m.\u001b[0m\u001b[0mconverted_call\u001b[0m\u001b[0;34m(\u001b[0m\u001b[0mag__\u001b[0m\u001b[0;34m.\u001b[0m\u001b[0mld\u001b[0m\u001b[0;34m(\u001b[0m\u001b[0mstep_function\u001b[0m\u001b[0;34m)\u001b[0m\u001b[0;34m,\u001b[0m \u001b[0;34m(\u001b[0m\u001b[0mag__\u001b[0m\u001b[0;34m.\u001b[0m\u001b[0mld\u001b[0m\u001b[0;34m(\u001b[0m\u001b[0mself\u001b[0m\u001b[0;34m)\u001b[0m\u001b[0;34m,\u001b[0m \u001b[0mag__\u001b[0m\u001b[0;34m.\u001b[0m\u001b[0mld\u001b[0m\u001b[0;34m(\u001b[0m\u001b[0miterator\u001b[0m\u001b[0;34m)\u001b[0m\u001b[0;34m)\u001b[0m\u001b[0;34m,\u001b[0m \u001b[0;32mNone\u001b[0m\u001b[0;34m,\u001b[0m \u001b[0mfscope\u001b[0m\u001b[0;34m)\u001b[0m\u001b[0;34m\u001b[0m\u001b[0;34m\u001b[0m\u001b[0m\n\u001b[0m\u001b[1;32m     16\u001b[0m                 \u001b[0;32mexcept\u001b[0m\u001b[0;34m:\u001b[0m\u001b[0;34m\u001b[0m\u001b[0;34m\u001b[0m\u001b[0m\n\u001b[1;32m     17\u001b[0m                     \u001b[0mdo_return\u001b[0m \u001b[0;34m=\u001b[0m \u001b[0;32mFalse\u001b[0m\u001b[0;34m\u001b[0m\u001b[0;34m\u001b[0m\u001b[0m\n",
            "\u001b[0;31mValueError\u001b[0m: in user code:\n\n    File \"/usr/local/lib/python3.10/dist-packages/keras/src/engine/training.py\", line 2440, in predict_function  *\n        return step_function(self, iterator)\n    File \"/usr/local/lib/python3.10/dist-packages/keras/src/engine/training.py\", line 2425, in step_function  **\n        outputs = model.distribute_strategy.run(run_step, args=(data,))\n    File \"/usr/local/lib/python3.10/dist-packages/keras/src/engine/training.py\", line 2413, in run_step  **\n        outputs = model.predict_step(data)\n    File \"/usr/local/lib/python3.10/dist-packages/keras/src/engine/training.py\", line 2381, in predict_step\n        return self(x, training=False)\n    File \"/usr/local/lib/python3.10/dist-packages/keras/src/utils/traceback_utils.py\", line 70, in error_handler\n        raise e.with_traceback(filtered_tb) from None\n    File \"/usr/local/lib/python3.10/dist-packages/keras/src/engine/input_spec.py\", line 219, in assert_input_compatibility\n        raise ValueError(\n\n    ValueError: Exception encountered when calling layer 'model_5' (type Functional).\n    \n    Layer \"lstm_1\" expects 3 input(s), but it received 1 input tensors. Inputs received: [<tf.Tensor 'model_5/embedding/embedding_lookup/Identity:0' shape=(None, 1, 10) dtype=float32>]\n    \n    Call arguments received by layer 'model_5' (type Functional):\n      • inputs=('tf.Tensor(shape=(None, 1), dtype=float32)', 'tf.Tensor(shape=(None, 10), dtype=float32)', 'tf.Tensor(shape=(None, 10), dtype=float32)')\n      • training=False\n      • mask=None\n"
          ]
        }
      ],
      "source": [
        "# Example usage\n",
        "seed_text = 'পুরো অস্তিত্ব আজ বিষন্নতার দখলে'\n",
        "generated_sequence = generate_sequence(seed_text)\n",
        "print(generated_sequence)"
      ]
    },
    {
      "cell_type": "code",
      "execution_count": null,
      "metadata": {
        "id": "8pBxb37FD-m0",
        "colab": {
          "base_uri": "https://localhost:8080/",
          "height": 35
        },
        "outputId": "160a42d0-8a81-4595-bb6e-f3b819b6fb99"
      },
      "outputs": [
        {
          "output_type": "execute_result",
          "data": {
            "text/plain": [
              "'hello hello helleo '"
            ],
            "application/vnd.google.colaboratory.intrinsic+json": {
              "type": "string"
            }
          },
          "metadata": {},
          "execution_count": 9
        }
      ],
      "source": []
    },
    {
      "cell_type": "code",
      "execution_count": null,
      "metadata": {
        "id": "9kG_Bd22D-uK"
      },
      "outputs": [],
      "source": [
        "def read_file(file_path):\n",
        "    with open(file_path, 'r', encoding='utf-8') as file:\n",
        "        text = file.read()\n",
        "    return text"
      ]
    },
    {
      "cell_type": "code",
      "execution_count": null,
      "metadata": {
        "id": "lhoSws4aEXrB"
      },
      "outputs": [],
      "source": []
    }
  ],
  "metadata": {
    "colab": {
      "provenance": []
    },
    "kernelspec": {
      "display_name": "Python 3",
      "name": "python3"
    },
    "language_info": {
      "name": "python"
    }
  },
  "nbformat": 4,
  "nbformat_minor": 0
}